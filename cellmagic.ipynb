{
 "cells": [
  {
   "cell_type": "code",
   "execution_count": 1,
   "metadata": {},
   "outputs": [],
   "source": [
    "from IPython.core import magic_arguments\n",
    "from IPython.core.magic import register_cell_magic\n",
    "\n",
    "\n",
    "@magic_arguments.magic_arguments()\n",
    "@magic_arguments.argument(\n",
    "    \"--style\",\n",
    "    default=None,\n",
    "    help=(\"Add extra css style for the notebook appearance\"),\n",
    ")\n",
    "@magic_arguments.argument(\n",
    "    \"--celltype\",\n",
    "    default=\"Normal\",\n",
    "    help=(\"Cell can be of type 'Normal', 'Header', and 'Dependend'\"),\n",
    ")\n",
    "@register_cell_magic\n",
    "def my_cell_magic(line, cell):\n",
    "    \"\"\"Underlying function for bigquery cell magic\"\"\"\n",
    "    args = magic_arguments.parse_argstring(my_cell_magic, line)\n",
    "\n",
    "    styles = {\n",
    "    'Normal': 'border: 3px solid #008DD5',\n",
    "    'Header': 'border: 3px solid #A8DCF0',\n",
    "    'Dependend': 'border: 3px solid #ED6A5A'\n",
    "    }\n",
    "\n",
    "    try:\n",
    "        default_style = styles[args.celltype]\n",
    "    except KeyError:\n",
    "        raise ValueError('Not a valid cell type!')\n",
    "    \n",
    "    print(default_style)"
   ]
  },
  {
   "cell_type": "code",
   "execution_count": 2,
   "metadata": {},
   "outputs": [
    {
     "name": "stdout",
     "output_type": "stream",
     "text": [
      "border: 3px solid #ED6A5A\n"
     ]
    }
   ],
   "source": [
    "%%my_cell_magic  --style 23 --celltype Dependend\n",
    "\n",
    "pass"
   ]
  }
 ],
 "metadata": {
  "interpreter": {
   "hash": "deefdb209dc179ecbc880626fece8554a87baca41cae0d7b198759a4c27f783b"
  },
  "kernelspec": {
   "display_name": "Python 3.9.5 64-bit ('manimenv2': venv)",
   "language": "python",
   "name": "python3"
  },
  "language_info": {
   "codemirror_mode": {
    "name": "ipython",
    "version": 3
   },
   "file_extension": ".py",
   "mimetype": "text/x-python",
   "name": "python",
   "nbconvert_exporter": "python",
   "pygments_lexer": "ipython3",
   "version": "3.9.5"
  },
  "orig_nbformat": 4
 },
 "nbformat": 4,
 "nbformat_minor": 2
}
