{
 "cells": [
  {
   "cell_type": "code",
   "execution_count": 15,
   "metadata": {},
   "outputs": [
    {
     "data": {
      "application/vnd.jupyter.widget-view+json": {
       "model_id": "2dbf7b820bdc4f95be19d89da6ef54cf",
       "version_major": 2,
       "version_minor": 0
      },
      "text/plain": [
       "Image(value=b'\\x89PNG\\r\\n\\x1a\\n\\x00\\x00\\x00\\rIHDR\\x00\\x00\\x01\\x85\\x00\\x00\\x00\\xce\\x08\\x06\\x00\\x00\\x00\\xd1\\xcb\\…"
      ]
     },
     "metadata": {},
     "output_type": "display_data"
    }
   ],
   "source": [
    "from ipywidgets import Label, HTML, HBox, Image, VBox, Box, Video, Text\n",
    "from ipyevents import Event \n",
    "from IPython.display import display\n",
    "\n",
    "name= \"b3.png\"\n",
    "with open('../videos/' + name , 'rb') as f:\n",
    "    value = f.read()\n",
    "\n",
    "image3 = Image(value=value, format='png')\n",
    "image"
   ]
  },
  {
   "cell_type": "code",
   "execution_count": 34,
   "metadata": {},
   "outputs": [
    {
     "data": {
      "application/vnd.jupyter.widget-view+json": {
       "model_id": "cfc61cb271e84f388fa8ee2b58ebdd0d",
       "version_major": 2,
       "version_minor": 0
      },
      "text/plain": [
       "Box(children=(Image(value=b'\\x89PNG\\r\\n\\x1a\\n\\x00\\x00\\x00\\rIHDR\\x00\\x00\\x01\\xa0\\x00\\x00\\x00\\xde\\x08\\x06\\x00\\x0…"
      ]
     },
     "metadata": {},
     "output_type": "display_data"
    },
    {
     "data": {
      "application/vnd.jupyter.widget-view+json": {
       "model_id": "c78726276dd04d69a89d7bf863187b14",
       "version_major": 2,
       "version_minor": 0
      },
      "text/plain": [
       "Text(value='hello')"
      ]
     },
     "metadata": {},
     "output_type": "display_data"
    }
   ],
   "source": [
    "videos = HBox()\n",
    "i1 = Box()\n",
    "#i1.layout.height = '400px'\n",
    "i1.children = [image1]\n",
    "pos_info= Text(\"hello\")\n",
    "def video_change(x):\n",
    "    if  x < 0.25:\n",
    "        i1.children = [image1]\n",
    "    elif x > 0.75:\n",
    "        i1.children = [image2]\n",
    "    else:\n",
    "        i1.children = [image3]\n",
    "\n",
    "def handle_events(event):\n",
    "    global lines\n",
    "    \n",
    "    x_pos = event[\"offsetX\"]/(event[\"boundingRectWidth\"]*0.2)\n",
    "    y_pos = event[\"offsetY\"]/event[\"boundingRectHeight\"]\n",
    "    pos_info.value = f\"{x_pos:.3}\" + \" \" + f\"{y_pos:.3}\" \n",
    "    video_change(x_pos)\n",
    "\n",
    "d= Event(source= i1, watched_events = ['click'])    \n",
    "d.on_dom_event(handle_events)\n",
    "display(i1,pos_info)"
   ]
  }
 ],
 "metadata": {
  "kernelspec": {
   "display_name": "Python 3",
   "language": "python",
   "name": "python3"
  },
  "language_info": {
   "codemirror_mode": {
    "name": "ipython",
    "version": 3
   },
   "file_extension": ".py",
   "mimetype": "text/x-python",
   "name": "python",
   "nbconvert_exporter": "python",
   "pygments_lexer": "ipython3",
   "version": "3.7.3"
  }
 },
 "nbformat": 4,
 "nbformat_minor": 2
}
