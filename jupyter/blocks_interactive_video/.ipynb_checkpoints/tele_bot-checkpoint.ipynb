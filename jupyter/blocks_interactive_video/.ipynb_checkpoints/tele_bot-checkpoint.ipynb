{
 "cells": [
  {
   "cell_type": "code",
   "execution_count": 4,
   "metadata": {
    "scrolled": true
   },
   "outputs": [
    {
     "name": "stdout",
     "output_type": "stream",
     "text": [
      "start\n",
      "start2\n",
      "start3\n",
      "#######\n"
     ]
    },
    {
     "data": {
      "application/vnd.jupyter.widget-view+json": {
       "model_id": "708b4d4684944d9e87705e02e12bb67c",
       "version_major": 2,
       "version_minor": 0
      },
      "text/plain": [
       "Text(value='hello world')"
      ]
     },
     "metadata": {},
     "output_type": "display_data"
    }
   ],
   "source": [
    "from telegram.ext import Updater\n",
    "from telegram.ext import MessageHandler, Filters\n",
    "from ipywidgets import Text\n",
    "t=Text(\"hello world\")\n",
    "updater = Updater(token='706389562:AAEjk4vMRLBjydaALw6ls1jWBQUjZ0YamJU') #music bot\n",
    "\n",
    "def echo(bot, update):\n",
    "    bot.send_message(chat_id=update.message.chat_id, text=update.message.text)\n",
    "    t.value= update.message.text\n",
    "    print(update.message.text)\n",
    "\n",
    "dispatcher = updater.dispatcher\n",
    "print(\"start\")\n",
    "updater.start_polling()\n",
    "echo_handler = MessageHandler(Filters.text, echo)\n",
    "print(\"start2\")\n",
    "dispatcher.add_handler(echo_handler)\n",
    "print(\"start3\")\n",
    "print(\"#######\")\n",
    "t\n"
   ]
  }
 ],
 "metadata": {
  "kernelspec": {
   "display_name": "Python 3",
   "language": "python",
   "name": "python3"
  },
  "language_info": {
   "codemirror_mode": {
    "name": "ipython",
    "version": 3
   },
   "file_extension": ".py",
   "mimetype": "text/x-python",
   "name": "python",
   "nbconvert_exporter": "python",
   "pygments_lexer": "ipython3",
   "version": "3.7.3"
  }
 },
 "nbformat": 4,
 "nbformat_minor": 2
}
