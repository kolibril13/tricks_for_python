{
 "cells": [
  {
   "cell_type": "code",
   "execution_count": 13,
   "metadata": {
    "scrolled": true
   },
   "outputs": [],
   "source": [
    "from ipywidgets import Label, HTML, Text, Video\n",
    "from ipyevents import Event \n",
    "from IPython.display import display\n",
    "fileA= '../videos/v1.mp4'\n",
    "fileB= '../videos/v2.mp4'\n",
    "fileC= '../videos/v3.mp4'\n",
    "pos_info = Text (\"pos_info\")\n",
    "h = Text (\"pos_info\")\n"
   ]
  },
  {
   "cell_type": "code",
   "execution_count": 14,
   "metadata": {},
   "outputs": [],
   "source": [
    "def video_loader(filename):\n",
    "    with open(filename, 'rb') as f:\n",
    "        video.value = f.read()\n",
    "def video_change(x):\n",
    "    if x < 0.25:\n",
    "        video_loader(fileB)\n",
    "        h.value= str(x) + \"  left\"\n",
    "    elif x > 0.75:\n",
    "        video_loader(fileC)\n",
    "        h.value= str(x) + \"  right\"\n",
    "    else:\n",
    "        video_loader(fileA) \n",
    "        all= all + str(x) + \"  center\"\n",
    "        h.value=  all\n",
    "\n",
    "def handle_events(event):\n",
    "    global lines\n",
    "    x_pos = event[\"offsetX\"]/event[\"boundingRectWidth\"]\n",
    "    y_pos = event[\"offsetY\"]/event[\"boundingRectHeight\"]\n",
    "    pos_info.value = f\"{x_pos:.3}\" + \" \" + f\"{y_pos:.3}\" \n",
    "    video_change(x_pos)"
   ]
  },
  {
   "cell_type": "code",
   "execution_count": 15,
   "metadata": {},
   "outputs": [
    {
     "data": {
      "application/vnd.jupyter.widget-view+json": {
       "model_id": "3804faddffcf4ede93f252acb892ccb6",
       "version_major": 2,
       "version_minor": 0
      },
      "text/plain": [
       "Video(value=b'\\x00\\x00\\x00 ftypisom\\x00\\x00\\x02\\x00isomiso2avc1mp41\\x00\\x00\\x00\\x08free\\x00\\x02\\xd7cmdat\\x00\\x…"
      ]
     },
     "metadata": {},
     "output_type": "display_data"
    },
    {
     "data": {
      "application/vnd.jupyter.widget-view+json": {
       "model_id": "bf98d764a4644bdf98ace7e27d6eee96",
       "version_major": 2,
       "version_minor": 0
      },
      "text/plain": [
       "Text(value='pos_info')"
      ]
     },
     "metadata": {},
     "output_type": "display_data"
    },
    {
     "data": {
      "application/vnd.jupyter.widget-view+json": {
       "model_id": "43564171b70944709537b3a5cc2c891f",
       "version_major": 2,
       "version_minor": 0
      },
      "text/plain": [
       "Text(value='pos_info')"
      ]
     },
     "metadata": {},
     "output_type": "display_data"
    }
   ],
   "source": [
    "video = Video.from_file(fileA)\n",
    "video.controls  = False\n",
    "video.loop = False\n",
    "d= Event(source= video, watched_events = ['click'])    \n",
    "d.on_dom_event(handle_events)\n",
    "display(video, pos_info, h)"
   ]
  },
  {
   "cell_type": "code",
   "execution_count": null,
   "metadata": {},
   "outputs": [],
   "source": []
  },
  {
   "cell_type": "code",
   "execution_count": null,
   "metadata": {},
   "outputs": [],
   "source": []
  }
 ],
 "metadata": {
  "kernelspec": {
   "display_name": "Python 3",
   "language": "python",
   "name": "python3"
  },
  "language_info": {
   "codemirror_mode": {
    "name": "ipython",
    "version": 3
   },
   "file_extension": ".py",
   "mimetype": "text/x-python",
   "name": "python",
   "nbconvert_exporter": "python",
   "pygments_lexer": "ipython3",
   "version": "3.7.3"
  }
 },
 "nbformat": 4,
 "nbformat_minor": 2
}
