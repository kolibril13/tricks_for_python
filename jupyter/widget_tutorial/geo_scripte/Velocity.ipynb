{
 "cells": [
  {
   "cell_type": "markdown",
   "metadata": {},
   "source": [
    "You will need to install the following packages:\n",
    "- `ipyleaflet`\n",
    "- `requests`\n",
    "- `xarray`\n",
    "- `netcdf4`"
   ]
  },
  {
   "cell_type": "code",
   "execution_count": 1,
   "metadata": {},
   "outputs": [
    {
     "name": "stderr",
     "output_type": "stream",
     "text": [
      "/home/jan-hendrik/anaconda3/lib/python3.7/site-packages/dask/config.py:168: YAMLLoadWarning: calling yaml.load() without Loader=... is deprecated, as the default Loader is unsafe. Please read https://msg.pyyaml.org/load for full details.\n",
      "  data = yaml.load(f.read()) or {}\n",
      "/home/jan-hendrik/anaconda3/lib/python3.7/site-packages/distributed/config.py:20: YAMLLoadWarning: calling yaml.load() without Loader=... is deprecated, as the default Loader is unsafe. Please read https://msg.pyyaml.org/load for full details.\n",
      "  defaults = yaml.load(f)\n"
     ]
    }
   ],
   "source": [
    "from ipyleaflet import Map, Velocity, TileLayer, basemaps\n",
    "import xarray as xr"
   ]
  },
  {
   "cell_type": "code",
   "execution_count": 2,
   "metadata": {},
   "outputs": [
    {
     "data": {
      "application/vnd.jupyter.widget-view+json": {
       "model_id": "27fe8c674d654fdfa0ffe46daabb7878",
       "version_major": 2,
       "version_minor": 0
      },
      "text/plain": [
       "Map(basemap={'url': 'http://c.basemaps.cartocdn.com/dark_all/{z}/{x}/{y}.png', 'max_zoom': 20, 'attribution': …"
      ]
     },
     "metadata": {},
     "output_type": "display_data"
    }
   ],
   "source": [
    "center = [44.33956524809713, -130.60546875000003]\n",
    "zoom = 3\n",
    "m = Map(center=center, zoom=zoom, interpolation='nearest', basemap=basemaps.CartoDB.DarkMatter)\n",
    "m"
   ]
  },
  {
   "cell_type": "code",
   "execution_count": 3,
   "metadata": {},
   "outputs": [],
   "source": [
    "import os\n",
    "\n",
    "if not os.path.exists('wind-global.nc'):\n",
    "    url = 'https://github.com/benbovy/xvelmap/raw/master/notebooks/wind-global.nc'\n",
    "    import requests\n",
    "    r = requests.get(url)\n",
    "    wind_data = r.content\n",
    "    with open('wind-global.nc', 'wb') as f:\n",
    "        f.write(wind_data)"
   ]
  },
  {
   "cell_type": "code",
   "execution_count": 4,
   "metadata": {},
   "outputs": [
    {
     "data": {
      "text/plain": [
       "<xarray.Dataset>\n",
       "Dimensions:  (lat: 181, lon: 360)\n",
       "Coordinates:\n",
       "  * lat      (lat) float64 90.0 89.0 88.0 87.0 86.0 ... -87.0 -88.0 -89.0 -90.0\n",
       "  * lon      (lon) float64 0.0 1.0 2.0 3.0 4.0 ... 355.0 356.0 357.0 358.0 359.0\n",
       "Data variables:\n",
       "    u_wind   (lat, lon) float64 ...\n",
       "    v_wind   (lat, lon) float64 ...\n",
       "Attributes:\n",
       "    centerName:      US National Weather Service - NCEP(WMC)\n",
       "    disciplineName:  Meteorological products\n",
       "    refTime:         2016-04-30T06:00:00.000Z"
      ]
     },
     "execution_count": 4,
     "metadata": {},
     "output_type": "execute_result"
    }
   ],
   "source": [
    "ds = xr.open_dataset('wind-global.nc')\n",
    "ds"
   ]
  },
  {
   "cell_type": "code",
   "execution_count": 6,
   "metadata": {},
   "outputs": [],
   "source": [
    "display_options = {\n",
    "    'velocityType': 'Global Wind',\n",
    "    'displayPosition': 'bottomleft',\n",
    "    'displayEmptyString': 'No wind data'\n",
    "}\n",
    "wind = Velocity(\n",
    "    data=ds, \n",
    "    zonal_speed='u_wind', meridional_speed='v_wind', \n",
    "    latitude_dimension='lat', longitude_dimension='lon', \n",
    "    velocity_scale=0.01, max_velocity=20, \n",
    "    display_options=display_options\n",
    ")\n",
    "m.add_layer(wind)"
   ]
  },
  {
   "cell_type": "code",
   "execution_count": null,
   "metadata": {},
   "outputs": [],
   "source": []
  }
 ],
 "metadata": {
  "kernelspec": {
   "display_name": "Python 3",
   "language": "python",
   "name": "python3"
  },
  "language_info": {
   "codemirror_mode": {
    "name": "ipython",
    "version": 3
   },
   "file_extension": ".py",
   "mimetype": "text/x-python",
   "name": "python",
   "nbconvert_exporter": "python",
   "pygments_lexer": "ipython3",
   "version": "3.7.3"
  }
 },
 "nbformat": 4,
 "nbformat_minor": 2
}
