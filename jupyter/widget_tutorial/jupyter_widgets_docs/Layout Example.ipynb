{
 "cells": [
  {
   "cell_type": "markdown",
   "metadata": {},
   "source": [
    "# Weather map"
   ]
  },
  {
   "cell_type": "markdown",
   "metadata": {},
   "source": [
    "This notebook shows an example of use of the `AppLayout` template, which is documented in [Layout Templates](Layout%20Templates.ipynb) notebook. You can check that notebook for further explanation.\n",
    "\n",
    "This notebook depends on extra packages:\n",
    "\n",
    "* [bqplot](https://github.com/bloomberg/bqplot) - widget-based plotting library,\n",
    "* [ipyleaflet](https://github.com/jupyter-widgets/ipyleaflet) - cartography widget based on leaflet.js \n",
    "\n",
    "If you also would like to see a color weather map, you will need to obtain an API key from [OpenWeahterMap](https://openweathermap.org/)."
   ]
  },
  {
   "cell_type": "code",
   "execution_count": 1,
   "metadata": {},
   "outputs": [],
   "source": [
    "from ipyleaflet import Map, basemaps, basemap_to_tiles, Heatmap, TileLayer\n",
    "from ipywidgets import AppLayout\n",
    "from ipywidgets import HTML, Layout, Dropdown, Output, Textarea, VBox, Label\n",
    "import bqplot as bq\n",
    "import numpy as np\n",
    "from pandas import date_range"
   ]
  },
  {
   "cell_type": "markdown",
   "metadata": {},
   "source": [
    "To see map overlays obtain your API key free of charge from [OpenWeatherMap](https://openweathermap.org/) and paste it below."
   ]
  },
  {
   "cell_type": "code",
   "execution_count": 2,
   "metadata": {},
   "outputs": [],
   "source": [
    "OWM_API_KEY = \"PASTE_YOUR_OWM_API_KEY_HERE\" #openweathermap API key"
   ]
  },
  {
   "cell_type": "code",
   "execution_count": 3,
   "metadata": {},
   "outputs": [],
   "source": [
    "m = Map(center=(52, 10), zoom=5, basemap=basemaps.Hydda.Full)"
   ]
  },
  {
   "cell_type": "code",
   "execution_count": 4,
   "metadata": {},
   "outputs": [],
   "source": [
    "maps = {'Hydda' : basemaps.Hydda.Full,\n",
    "        'Esri' : basemaps.Esri.DeLorme}"
   ]
  },
  {
   "cell_type": "code",
   "execution_count": 5,
   "metadata": {},
   "outputs": [],
   "source": [
    "header = HTML(\"<h1>Fictional World Weather</h1>\", layout=Layout(height='auto'))\n",
    "header.style.text_align='center'\n",
    "basemap_selector = Dropdown( options = list(maps.keys()),\n",
    "                            layout=Layout(width='auto'))\n",
    "\n",
    "heatmap_selector = Dropdown(options=('Temperature', 'Precipitation'),\n",
    "                            layout=Layout(width='auto'))"
   ]
  },
  {
   "cell_type": "code",
   "execution_count": 6,
   "metadata": {},
   "outputs": [],
   "source": [
    "basemap_selector.value = 'Hydda'\n",
    "m.layout.height='600px'"
   ]
  },
  {
   "cell_type": "code",
   "execution_count": 7,
   "metadata": {},
   "outputs": [],
   "source": [
    "security_1 = np.cumsum(np.random.randn(150)) + 100.\n",
    "\n",
    "dates = date_range(start='01-01-2007', periods=150)\n",
    "\n",
    "dt_x = bq.DateScale()\n",
    "sc_y = bq.LinearScale()\n",
    "\n",
    "time_series = bq.Lines(x=dates, y=security_1, scales={'x': dt_x, 'y': sc_y})\n",
    "ax_x = bq.Axis(scale=dt_x)\n",
    "ax_y = bq.Axis(scale=sc_y, orientation='vertical')\n",
    "\n",
    "fig = bq.Figure(marks=[time_series], axes=[ax_x, ax_y],\n",
    "                fig_margin=dict(top=0, bottom=80, left=30, right=20))\n"
   ]
  },
  {
   "cell_type": "code",
   "execution_count": 8,
   "metadata": {},
   "outputs": [],
   "source": [
    "m.layout.width='auto'\n",
    "m.layout.height='auto'\n",
    "fig.layout.width='auto'\n",
    "fig.layout.height='auto'"
   ]
  },
  {
   "cell_type": "code",
   "execution_count": 9,
   "metadata": {},
   "outputs": [],
   "source": [
    "out = HTML(\n",
    "    value='',\n",
    "    layout=Layout(width='auto', height='auto')\n",
    ")\n"
   ]
  },
  {
   "cell_type": "code",
   "execution_count": 10,
   "metadata": {},
   "outputs": [
    {
     "data": {
      "application/vnd.jupyter.widget-view+json": {
       "model_id": "b79d61ec513444f2a87bf1a05fb0e6a4",
       "version_major": 2,
       "version_minor": 0
      },
      "text/plain": [
       "AppLayout(children=(HTML(value='<h1>Fictional World Weather</h1>', layout=Layout(grid_area='header', height='a…"
      ]
     },
     "metadata": {},
     "output_type": "display_data"
    }
   ],
   "source": [
    "AppLayout(center=m, \n",
    "          header=header,\n",
    "          left_sidebar=VBox([Label(\"Basemap:\"),\n",
    "                             basemap_selector,\n",
    "                             Label(\"Overlay:\"),\n",
    "                             heatmap_selector]),\n",
    "          right_sidebar=fig,\n",
    "          footer=out,\n",
    "          pane_widths=['80px', 1, 1],\n",
    "          pane_heights=['80px', 4, 1],\n",
    "          height='600px',\n",
    "          grid_gap=\"30px\")"
   ]
  },
  {
   "cell_type": "code",
   "execution_count": 11,
   "metadata": {},
   "outputs": [],
   "source": [
    "rows = []"
   ]
  },
  {
   "cell_type": "code",
   "execution_count": 12,
   "metadata": {},
   "outputs": [],
   "source": [
    "X, Y = np.mgrid[-90:90:10j, -180:180:20j]"
   ]
  },
  {
   "cell_type": "code",
   "execution_count": 13,
   "metadata": {},
   "outputs": [],
   "source": [
    "X = X.flatten()\n",
    "Y = Y.flatten()"
   ]
  },
  {
   "cell_type": "code",
   "execution_count": 14,
   "metadata": {},
   "outputs": [],
   "source": [
    "temps = np.random.randn(200, 150)*0.5"
   ]
  },
  {
   "cell_type": "code",
   "execution_count": 15,
   "metadata": {},
   "outputs": [],
   "source": [
    "from datetime import datetime"
   ]
  },
  {
   "cell_type": "code",
   "execution_count": 16,
   "metadata": {},
   "outputs": [],
   "source": [
    "import random"
   ]
  },
  {
   "cell_type": "code",
   "execution_count": 17,
   "metadata": {},
   "outputs": [],
   "source": [
    "def add_log(msg):\n",
    "    max_rows = 3\n",
    "    rows.append(msg)\n",
    "    if len(rows) > max_rows:\n",
    "        rows.pop(0)\n",
    "    return '<h4>Activity log</h4><ul>{}</ul>'.format('<li>'.join([''] + rows))\n",
    "\n",
    "def generate_temp_series(x, y):\n",
    "    if heatmap_selector.value == 'Precipitation':\n",
    "        temp = np.cumsum(np.random.randn(150)) + 100.\n",
    "    elif heatmap_selector.value == 'Temperature':\n",
    "        dist = np.sqrt((X - x)**2 + (Y-y)**2) / 100\n",
    "        dist = dist.max() - dist\n",
    "        dist[dist > np.percentile(dist, 5)] = 0\n",
    "        temp = np.cumsum(np.dot(dist, temps)+0.05) + 20 - np.abs(x) / 2\n",
    "    time_series.y = temp\n",
    "    \n",
    "def handle_interaction(**kwargs):\n",
    "    if kwargs['type'] == 'click':\n",
    "        generate_temp_series(*kwargs['coordinates'])\n",
    "        msg = '%s Selected coordinates: %s, Temp: %d C Precipitation: %d mm\\n' % (\n",
    "            datetime.now(), kwargs['coordinates'], random.randint(-20, 20), random.randint(0, 100))\n",
    "        out.value = add_log(msg)\n",
    "\n",
    "m.on_interaction(handle_interaction) \n",
    "\n",
    "def on_map_selected(change):\n",
    "    m.layers = [basemap_to_tiles(maps[basemap_selector.value]), weather_maps[heatmap_selector.value]]\n",
    "    \n",
    "basemap_selector.observe(on_map_selected, names='value')\n",
    "heatmap_selector.observe(on_map_selected, names='value')\n"
   ]
  },
  {
   "cell_type": "code",
   "execution_count": 18,
   "metadata": {},
   "outputs": [],
   "source": [
    "temp = TileLayer(min_zoom=1, max_zoom=18, url='https://tile.openweathermap.org/map/temp_new/{z}/{x}/{y}.png?appid='+OWM_API_KEY, name='owm', attribute='me')\n",
    "precipitation = TileLayer(min_zoom=1, max_zoom=18, url='https://tile.openweathermap.org/map/precipitation_new/{z}/{x}/{y}.png?appid='+OWM_API_KEY, name='owm', attribute='me')"
   ]
  },
  {
   "cell_type": "code",
   "execution_count": 19,
   "metadata": {},
   "outputs": [],
   "source": [
    "weather_maps = {'Temperature' : temp,\n",
    "                'Precipitation' : precipitation}"
   ]
  },
  {
   "cell_type": "code",
   "execution_count": 20,
   "metadata": {},
   "outputs": [],
   "source": [
    "m.add_layer(weather_maps[heatmap_selector.value])"
   ]
  },
  {
   "cell_type": "code",
   "execution_count": null,
   "metadata": {},
   "outputs": [],
   "source": []
  }
 ],
 "metadata": {
  "kernelspec": {
   "display_name": "Python 3",
   "language": "python",
   "name": "python3"
  },
  "language_info": {
   "codemirror_mode": {
    "name": "ipython",
    "version": 3
   },
   "file_extension": ".py",
   "mimetype": "text/x-python",
   "name": "python",
   "nbconvert_exporter": "python",
   "pygments_lexer": "ipython3",
   "version": "3.7.2"
  },
  "widgets": {
   "application/vnd.jupyter.widget-state+json": {
    "state": {
     "01326abfa62e4ec1976aef21fe826457": {
      "model_module": "bqplot",
      "model_module_version": "^0.4.5",
      "model_name": "AxisModel",
      "state": {
       "scale": "IPY_MODEL_491b82c991644a0c965a504e5f2b9308",
       "side": "bottom",
       "tick_values": {
        "type": null,
        "values": null
       }
      }
     },
     "04f51cce28284e79906c15aa4dad70ba": {
      "model_module": "@jupyter-widgets/base",
      "model_module_version": "1.1.0",
      "model_name": "LayoutModel",
      "state": {
       "grid_area": "left-sidebar"
      }
     },
     "070b1fb89942486f8db0691d1e623e0b": {
      "model_module": "bqplot",
      "model_module_version": "^0.4.5",
      "model_name": "AxisModel",
      "state": {
       "scale": "IPY_MODEL_c0f8601452194ed7b269c1ba27e0b32c",
       "side": "bottom",
       "tick_values": {
        "type": null,
        "values": null
       }
      }
     },
     "076b4ba681a04abe93226b3e4648fca7": {
      "model_module": "jupyter-leaflet",
      "model_module_version": "~0.10.0",
      "model_name": "LeafletTileLayerModel",
      "state": {
       "_model_module_version": "~0.10.0",
       "_view_count": null,
       "_view_module_version": "~0.10.0",
       "attribution": "Tiles courtesy of <a href=\"http://openstreetmap.se/\" target=\"_blank\">OpenStreetMap Sweden</a> &mdash; Map data &copy; <a href=\"http://www.openstreetmap.org/copyright\">OpenStreetMap</a>",
       "base": true,
       "min_zoom": 1,
       "name": "Hydda.Full",
       "options": [
        "attribution",
        "detect_retina",
        "max_zoom",
        "min_zoom",
        "tile_size"
       ],
       "url": "http://{s}.tile.openstreetmap.se/hydda/full/{z}/{x}/{y}.png"
      }
     },
     "09d66aa2d8784255b12f61b52ae9a493": {
      "model_module": "bqplot",
      "model_module_version": "^0.4.5",
      "model_name": "LinearScaleModel",
      "state": {
       "stabilized": false
      }
     },
     "0afca58aed7945338c2e4fd5945b055f": {
      "model_module": "@jupyter-widgets/controls",
      "model_module_version": "1.4.0",
      "model_name": "LabelModel",
      "state": {
       "layout": "IPY_MODEL_2afedd1080234068bc6acf6e664a2f2e",
       "style": "IPY_MODEL_dffaca2a2ba8456a9eb986494b2ded8a",
       "value": "Basemap:"
      }
     },
     "0ba21d7725064f228606fdc69c773dd3": {
      "model_module": "@jupyter-widgets/base",
      "model_module_version": "1.1.0",
      "model_name": "LayoutModel",
      "state": {
       "width": "auto"
      }
     },
     "0e6fe10bb8004a448c0c2f2c0fadac5a": {
      "model_module": "@jupyter-widgets/controls",
      "model_module_version": "1.4.0",
      "model_name": "DescriptionStyleModel",
      "state": {
       "description_width": ""
      }
     },
     "0ece13d572b64f5689686f77e101e31f": {
      "model_module": "bqplot",
      "model_module_version": "^0.4.5",
      "model_name": "LinearScaleModel",
      "state": {
       "allow_padding": false,
       "max": 1,
       "min": 0,
       "stabilized": false
      }
     },
     "0fd98d0514a947c3a454b821a255f6b7": {
      "model_module": "jupyter-leaflet",
      "model_module_version": "~0.10.0",
      "model_name": "LeafletTileLayerModel",
      "state": {
       "_model_module_version": "~0.10.0",
       "_view_count": null,
       "_view_module_version": "~0.10.0",
       "min_zoom": 1,
       "name": "owm",
       "options": [
        "attribution",
        "detect_retina",
        "max_zoom",
        "min_zoom",
        "tile_size"
       ],
       "url": "https://tile.openweathermap.org/map/precipitation_new/{z}/{x}/{y}.png?appid=015b2d503965bf4b2c83dc14cfe29a0b"
      }
     },
     "1131485d4b2046c4a1d03dd179b39f27": {
      "model_module": "jupyter-leaflet",
      "model_module_version": "~0.10.0",
      "model_name": "LeafletMapModel",
      "state": {
       "_dom_classes": [],
       "_model_module_version": "~0.10.0",
       "_view_count": null,
       "_view_module_version": "~0.10.0",
       "basemap": {
        "attribution": "Tiles courtesy of <a href=\"http://openstreetmap.se/\" target=\"_blank\">OpenStreetMap Sweden</a> &mdash; Map data &copy; <a href=\"http://www.openstreetmap.org/copyright\">OpenStreetMap</a>",
        "max_zoom": 18,
        "name": "Hydda.Full",
        "url": "http://{s}.tile.openstreetmap.se/hydda/full/{z}/{x}/{y}.png"
       },
       "center": [
        51.998410382390325,
        9.997558593750002
       ],
       "east": 27.949218750000004,
       "interpolation": "bilinear",
       "layers": [
        "IPY_MODEL_076b4ba681a04abe93226b3e4648fca7",
        "IPY_MODEL_7cbfa8d71bea42c58ca3907eaa37d12e"
       ],
       "layout": "IPY_MODEL_c2e44e4670b04826b791036b486543c8",
       "modisdate": "yesterday",
       "north": 60.80206374467983,
       "options": [
        "attribution_control",
        "basemap",
        "bounce_at_zoom_limits",
        "box_zoom",
        "center",
        "close_popup_on_click",
        "double_click_zoom",
        "dragging",
        "inertia",
        "inertia_deceleration",
        "inertia_max_speed",
        "interpolation",
        "keyboard",
        "keyboard_pan_offset",
        "keyboard_zoom_offset",
        "max_zoom",
        "min_zoom",
        "scroll_wheel_zoom",
        "tap",
        "tap_tolerance",
        "touch_zoom",
        "world_copy_jump",
        "zoom",
        "zoom_animation_threshold",
        "zoom_control",
        "zoom_start"
       ],
       "south": 41.046216814520655,
       "west": -7.998046875000001,
       "zoom": 4
      }
     },
     "11a47eed52434e28a6c550916204a8bb": {
      "model_module": "bqplot",
      "model_module_version": "^0.4.5",
      "model_name": "LinearScaleModel",
      "state": {
       "allow_padding": false,
       "max": 1,
       "min": 0,
       "stabilized": false
      }
     },
     "13cf129c2bee43c3bc554d36a652fe15": {
      "model_module": "@jupyter-widgets/base",
      "model_module_version": "1.1.0",
      "model_name": "LayoutModel",
      "state": {
       "grid_area": "footer",
       "height": "auto",
       "width": "auto"
      }
     },
     "156a1887a4b0456ca43a64f05217f6d4": {
      "model_module": "@jupyter-widgets/controls",
      "model_module_version": "1.4.0",
      "model_name": "DescriptionStyleModel",
      "state": {
       "description_width": ""
      }
     },
     "1672e764fd314382bd8228ccda7fb7b1": {
      "model_module": "@jupyter-widgets/controls",
      "model_module_version": "1.4.0",
      "model_name": "VBoxModel",
      "state": {
       "children": [
        "IPY_MODEL_0afca58aed7945338c2e4fd5945b055f",
        "IPY_MODEL_98b85925dd454ee08d3147eae91d2604",
        "IPY_MODEL_aa1e5e00120d42eab86c54ee483bdbcb",
        "IPY_MODEL_4c90133725ea400c952ce92a45248e25"
       ],
       "layout": "IPY_MODEL_3bb1565234c44ce3bba01a7424e8659d"
      }
     },
     "173b2f8390e343cbb353e37e7206e2df": {
      "model_module": "@jupyter-widgets/base",
      "model_module_version": "1.1.0",
      "model_name": "LayoutModel",
      "state": {
       "grid_gap": "30px",
       "grid_template_areas": "\"header header header\"\n\"left-sidebar center right-sidebar\"\n\"footer footer footer\"",
       "grid_template_columns": "80px 1fr 1fr",
       "grid_template_rows": "80px 4fr 1fr",
       "height": "600px"
      }
     },
     "19500caa6f054b649df30514b5493dab": {
      "model_module": "@jupyter-widgets/controls",
      "model_module_version": "1.4.0",
      "model_name": "VBoxModel",
      "state": {
       "children": [
        "IPY_MODEL_417150abeac64ecd86a6b02350076e8a",
        "IPY_MODEL_dccf0e14a2be44c4b46490d372e511b9",
        "IPY_MODEL_8cb7afd460874897b8e253ef79e493e0",
        "IPY_MODEL_bd8b03953f0049839c593e25f28d9310"
       ],
       "layout": "IPY_MODEL_8215c7c5e6754a41aa2e1eea6d7effcc"
      }
     },
     "1d1ab1d9bb654508933f64fe6d11740b": {
      "model_module": "@jupyter-widgets/controls",
      "model_module_version": "1.4.0",
      "model_name": "HTMLModel",
      "state": {
       "layout": "IPY_MODEL_ae8d45412f93454a8e86370f2b37815c",
       "style": "IPY_MODEL_7ba549fb33ff41b7920b63c97b3e2772",
       "value": "<h1>Fictional World Weather</h1>"
      }
     },
     "22a41f1b1ee947598c5adc610076d6c8": {
      "model_module": "@jupyter-widgets/controls",
      "model_module_version": "1.4.0",
      "model_name": "HTMLModel",
      "state": {
       "layout": "IPY_MODEL_cf344b72a85a403684c07f01d1cee29c",
       "style": "IPY_MODEL_842e7d7fd2ea446da2e5fd6afc979816",
       "value": "<h4>Activity log</h4><ul><li>2019-04-08 23:32:46.385263 Selected coordinates: [50.13231127959334, 12.176989617631275], Temp: 16 C Precipitation: 85 mm\n<li>2019-04-08 23:32:46.897331 Selected coordinates: [50.13471716095056, 12.176989617631275], Temp: -12 C Precipitation: 51 mm\n<li>2019-04-08 23:32:49.393576 Selected coordinates: [52.760565456261304, 9.80626126798598], Temp: -5 C Precipitation: 1 mm\n</ul>"
      }
     },
     "237fa50654064595a1489e5043e8bdaa": {
      "model_module": "@jupyter-widgets/base",
      "model_module_version": "1.1.0",
      "model_name": "LayoutModel",
      "state": {
       "grid_area": "center",
       "height": "auto",
       "width": "auto"
      }
     },
     "23a7c5d8b23d4861b7c507acb826a70c": {
      "model_module": "@jupyter-widgets/controls",
      "model_module_version": "1.4.0",
      "model_name": "DropdownModel",
      "state": {
       "_options_labels": [
        "Hydda",
        "Esri"
       ],
       "index": 0,
       "layout": "IPY_MODEL_f1c9e731a2d949b78672235a4703341b",
       "style": "IPY_MODEL_a7e227632ae142c2b0279235a26aad85"
      }
     },
     "25e42df547bc441fb2a215fa3c2a7ec5": {
      "model_module": "@jupyter-widgets/base",
      "model_module_version": "1.1.0",
      "model_name": "LayoutModel",
      "state": {
       "width": "auto"
      }
     },
     "27464c25aa1849b19fd01a033802f867": {
      "model_module": "jupyter-leaflet",
      "model_module_version": "~0.10.0",
      "model_name": "LeafletMapModel",
      "state": {
       "_dom_classes": [],
       "_model_module_version": "~0.10.0",
       "_view_count": null,
       "_view_module_version": "~0.10.0",
       "basemap": {
        "attribution": "Tiles courtesy of <a href=\"http://openstreetmap.se/\" target=\"_blank\">OpenStreetMap Sweden</a> &mdash; Map data &copy; <a href=\"http://www.openstreetmap.org/copyright\">OpenStreetMap</a>",
        "max_zoom": 18,
        "name": "Hydda.Full",
        "url": "http://{s}.tile.openstreetmap.se/hydda/full/{z}/{x}/{y}.png"
       },
       "center": [
        50.17689812200107,
        12.260742187500002
       ],
       "east": 30.234375000000004,
       "interpolation": "bilinear",
       "layers": [
        "IPY_MODEL_a9f3cfbcbfc94fdb93f784d808dfa334",
        "IPY_MODEL_816a16dd29254494ad11a0179329ad87"
       ],
       "layout": "IPY_MODEL_88e07fc54e2b48b9ac57ae0337fbb95e",
       "modisdate": "yesterday",
       "north": 58.401711667608,
       "options": [
        "attribution_control",
        "basemap",
        "bounce_at_zoom_limits",
        "box_zoom",
        "center",
        "close_popup_on_click",
        "double_click_zoom",
        "dragging",
        "inertia",
        "inertia_deceleration",
        "inertia_max_speed",
        "interpolation",
        "keyboard",
        "keyboard_pan_offset",
        "keyboard_zoom_offset",
        "max_zoom",
        "min_zoom",
        "scroll_wheel_zoom",
        "tap",
        "tap_tolerance",
        "touch_zoom",
        "world_copy_jump",
        "zoom",
        "zoom_animation_threshold",
        "zoom_control",
        "zoom_start"
       ],
       "south": 40.245991504199026,
       "west": -5.712890625000001,
       "zoom": 4
      }
     },
     "27a260b9237448f39203356374ea4b3a": {
      "model_module": "bqplot",
      "model_module_version": "^0.4.5",
      "model_name": "FigureModel",
      "state": {
       "_dom_classes": [],
       "axes": [
        "IPY_MODEL_7e36528e960844c58db0ae4344eca41d",
        "IPY_MODEL_6a2311c6dfd34036bf3599945196192f"
       ],
       "fig_margin": {
        "bottom": 80,
        "left": 30,
        "right": 20,
        "top": 0
       },
       "layout": "IPY_MODEL_f5644c9d566e4fbdb8c2fc86487cca5e",
       "marks": [
        "IPY_MODEL_4f6dd0993f334dba95ce8b3b32190086"
       ],
       "scale_x": "IPY_MODEL_f3a56e7ff797427c8cba47b0a19673e7",
       "scale_y": "IPY_MODEL_bc3bfc1642b64d588af3bee2ff4e8e6c"
      }
     },
     "293175b4f28640d0a213a4cf4169337a": {
      "model_module": "@jupyter-widgets/controls",
      "model_module_version": "1.4.0",
      "model_name": "DescriptionStyleModel",
      "state": {
       "description_width": ""
      }
     },
     "2afedd1080234068bc6acf6e664a2f2e": {
      "model_module": "@jupyter-widgets/base",
      "model_module_version": "1.1.0",
      "model_name": "LayoutModel",
      "state": {}
     },
     "2bb9dd3108aa4385bbc90a1f030ee714": {
      "model_module": "@jupyter-widgets/base",
      "model_module_version": "1.1.0",
      "model_name": "LayoutModel",
      "state": {
       "grid_area": "center",
       "height": "auto",
       "width": "auto"
      }
     },
     "2ce8ac29e35945948d663c21fbb9efa6": {
      "model_module": "@jupyter-widgets/base",
      "model_module_version": "1.1.0",
      "model_name": "LayoutModel",
      "state": {
       "width": "auto"
      }
     },
     "2d08dfd70a354d0a8739db9edce8769d": {
      "model_module": "bqplot",
      "model_module_version": "^0.4.5",
      "model_name": "LinearScaleModel",
      "state": {
       "allow_padding": false,
       "max": 1,
       "min": 0,
       "stabilized": false
      }
     },
     "303dd32b8e04405c81645d7c676be4c9": {
      "model_module": "@jupyter-widgets/controls",
      "model_module_version": "1.4.0",
      "model_name": "LabelModel",
      "state": {
       "layout": "IPY_MODEL_6c9d32d37d2741fd868b58d0cdb973b8",
       "style": "IPY_MODEL_80ccc94c8936437fb50a3010e76d8aca",
       "value": "Basemap:"
      }
     },
     "316283adb3634fc9a4a09ba896184207": {
      "model_module": "@jupyter-widgets/controls",
      "model_module_version": "1.4.0",
      "model_name": "DescriptionStyleModel",
      "state": {
       "description_width": ""
      }
     },
     "333966beade7403d8bb036da83501e4e": {
      "model_module": "bqplot",
      "model_module_version": "^0.4.5",
      "model_name": "DateScaleModel",
      "state": {}
     },
     "3545f1878a104374ab4c348da1117388": {
      "model_module": "@jupyter-widgets/controls",
      "model_module_version": "1.4.0",
      "model_name": "DropdownModel",
      "state": {
       "_options_labels": [
        "Temperature",
        "Precipitation"
       ],
       "index": 0,
       "layout": "IPY_MODEL_25e42df547bc441fb2a215fa3c2a7ec5",
       "style": "IPY_MODEL_8da5d5973d604c04ac5b3f553e013e48"
      }
     },
     "372136b40ea144adb47d40c9549a5d79": {
      "model_module": "@jupyter-widgets/base",
      "model_module_version": "1.1.0",
      "model_name": "LayoutModel",
      "state": {
       "grid_area": "header",
       "height": "auto"
      }
     },
     "3ae904c41b8a4599b309125d22ac86f2": {
      "model_module": "@jupyter-widgets/controls",
      "model_module_version": "1.4.0",
      "model_name": "DescriptionStyleModel",
      "state": {
       "description_width": ""
      }
     },
     "3bb1565234c44ce3bba01a7424e8659d": {
      "model_module": "@jupyter-widgets/base",
      "model_module_version": "1.1.0",
      "model_name": "LayoutModel",
      "state": {
       "grid_area": "left-sidebar"
      }
     },
     "3e1fd85e347b4252bcdb9c6af1dddfc6": {
      "model_module": "@jupyter-widgets/controls",
      "model_module_version": "1.4.0",
      "model_name": "DescriptionStyleModel",
      "state": {
       "description_width": ""
      }
     },
     "417150abeac64ecd86a6b02350076e8a": {
      "model_module": "@jupyter-widgets/controls",
      "model_module_version": "1.4.0",
      "model_name": "LabelModel",
      "state": {
       "layout": "IPY_MODEL_711518c6a2d24ba7b75bcac519abb81f",
       "style": "IPY_MODEL_293175b4f28640d0a213a4cf4169337a",
       "value": "Basemap:"
      }
     },
     "4248720693a44956b647ba163a73129c": {
      "model_module": "@jupyter-widgets/controls",
      "model_module_version": "1.4.0",
      "model_name": "DescriptionStyleModel",
      "state": {
       "description_width": ""
      }
     },
     "425a58f5d0f44816b1e99942de1de1f2": {
      "model_module": "@jupyter-widgets/controls",
      "model_module_version": "1.4.0",
      "model_name": "DescriptionStyleModel",
      "state": {
       "description_width": ""
      }
     },
     "431333d8d97c431eaeda82a796acd4c9": {
      "model_module": "@jupyter-widgets/controls",
      "model_module_version": "1.4.0",
      "model_name": "HTMLModel",
      "state": {
       "layout": "IPY_MODEL_dea7c47ce98a4e31b54533779645a4a3",
       "style": "IPY_MODEL_425a58f5d0f44816b1e99942de1de1f2",
       "value": "<h1>Fictional World Weather</h1>"
      }
     },
     "4491e667e20649709ad40eb34091691e": {
      "model_module": "@jupyter-widgets/controls",
      "model_module_version": "1.4.0",
      "model_name": "DescriptionStyleModel",
      "state": {
       "description_width": ""
      }
     },
     "48023187669044e7a094c63b85df6d5f": {
      "model_module": "@jupyter-widgets/base",
      "model_module_version": "1.1.0",
      "model_name": "LayoutModel",
      "state": {
       "width": "auto"
      }
     },
     "48d43b135d6449deb87d4d009507130f": {
      "model_module": "@jupyter-widgets/controls",
      "model_module_version": "1.4.0",
      "model_name": "HTMLModel",
      "state": {
       "layout": "IPY_MODEL_e0c6a8d1887344b586e1892caab8c50d",
       "style": "IPY_MODEL_5c84b670304a49bc9cef14a6c171271f",
       "value": "<h4>Activity log</h4><ul><li>2019-04-08 23:32:23.741311 Selected coordinates: [48.30117866682209, 14.459913213585953], Temp: -1 C Precipitation: 40 mm\n<li>2019-04-08 23:32:24.435309 Selected coordinates: [48.293687484210444, 14.480933169292976], Temp: 1 C Precipitation: 12 mm\n<li>2019-04-08 23:32:25.132702 Selected coordinates: [48.293687484210444, 14.480933169292976], Temp: 5 C Precipitation: 37 mm\n</ul>"
      }
     },
     "491b82c991644a0c965a504e5f2b9308": {
      "model_module": "bqplot",
      "model_module_version": "^0.4.5",
      "model_name": "DateScaleModel",
      "state": {}
     },
     "49a99030851a4f36ba5f184dfaa765a0": {
      "model_module": "bqplot",
      "model_module_version": "^0.4.5",
      "model_name": "LinesModel",
      "state": {
       "color": {
        "type": null,
        "values": null
       },
       "display_legend": false,
       "fill_colors": [],
       "labels": [
        "C1"
       ],
       "scales": {
        "x": "IPY_MODEL_c0f8601452194ed7b269c1ba27e0b32c",
        "y": "IPY_MODEL_e7dcc6b4ee024c1da469bad8ec3083b6"
       },
       "selected": [],
       "x": {
        "type": "date",
        "values": [
         "2007-01-01T00:00:00.000000",
         "2007-01-02T00:00:00.000000",
         "2007-01-03T00:00:00.000000",
         "2007-01-04T00:00:00.000000",
         "2007-01-05T00:00:00.000000",
         "2007-01-06T00:00:00.000000",
         "2007-01-07T00:00:00.000000",
         "2007-01-08T00:00:00.000000",
         "2007-01-09T00:00:00.000000",
         "2007-01-10T00:00:00.000000",
         "2007-01-11T00:00:00.000000",
         "2007-01-12T00:00:00.000000",
         "2007-01-13T00:00:00.000000",
         "2007-01-14T00:00:00.000000",
         "2007-01-15T00:00:00.000000",
         "2007-01-16T00:00:00.000000",
         "2007-01-17T00:00:00.000000",
         "2007-01-18T00:00:00.000000",
         "2007-01-19T00:00:00.000000",
         "2007-01-20T00:00:00.000000",
         "2007-01-21T00:00:00.000000",
         "2007-01-22T00:00:00.000000",
         "2007-01-23T00:00:00.000000",
         "2007-01-24T00:00:00.000000",
         "2007-01-25T00:00:00.000000",
         "2007-01-26T00:00:00.000000",
         "2007-01-27T00:00:00.000000",
         "2007-01-28T00:00:00.000000",
         "2007-01-29T00:00:00.000000",
         "2007-01-30T00:00:00.000000",
         "2007-01-31T00:00:00.000000",
         "2007-02-01T00:00:00.000000",
         "2007-02-02T00:00:00.000000",
         "2007-02-03T00:00:00.000000",
         "2007-02-04T00:00:00.000000",
         "2007-02-05T00:00:00.000000",
         "2007-02-06T00:00:00.000000",
         "2007-02-07T00:00:00.000000",
         "2007-02-08T00:00:00.000000",
         "2007-02-09T00:00:00.000000",
         "2007-02-10T00:00:00.000000",
         "2007-02-11T00:00:00.000000",
         "2007-02-12T00:00:00.000000",
         "2007-02-13T00:00:00.000000",
         "2007-02-14T00:00:00.000000",
         "2007-02-15T00:00:00.000000",
         "2007-02-16T00:00:00.000000",
         "2007-02-17T00:00:00.000000",
         "2007-02-18T00:00:00.000000",
         "2007-02-19T00:00:00.000000",
         "2007-02-20T00:00:00.000000",
         "2007-02-21T00:00:00.000000",
         "2007-02-22T00:00:00.000000",
         "2007-02-23T00:00:00.000000",
         "2007-02-24T00:00:00.000000",
         "2007-02-25T00:00:00.000000",
         "2007-02-26T00:00:00.000000",
         "2007-02-27T00:00:00.000000",
         "2007-02-28T00:00:00.000000",
         "2007-03-01T00:00:00.000000",
         "2007-03-02T00:00:00.000000",
         "2007-03-03T00:00:00.000000",
         "2007-03-04T00:00:00.000000",
         "2007-03-05T00:00:00.000000",
         "2007-03-06T00:00:00.000000",
         "2007-03-07T00:00:00.000000",
         "2007-03-08T00:00:00.000000",
         "2007-03-09T00:00:00.000000",
         "2007-03-10T00:00:00.000000",
         "2007-03-11T00:00:00.000000",
         "2007-03-12T00:00:00.000000",
         "2007-03-13T00:00:00.000000",
         "2007-03-14T00:00:00.000000",
         "2007-03-15T00:00:00.000000",
         "2007-03-16T00:00:00.000000",
         "2007-03-17T00:00:00.000000",
         "2007-03-18T00:00:00.000000",
         "2007-03-19T00:00:00.000000",
         "2007-03-20T00:00:00.000000",
         "2007-03-21T00:00:00.000000",
         "2007-03-22T00:00:00.000000",
         "2007-03-23T00:00:00.000000",
         "2007-03-24T00:00:00.000000",
         "2007-03-25T00:00:00.000000",
         "2007-03-26T00:00:00.000000",
         "2007-03-27T00:00:00.000000",
         "2007-03-28T00:00:00.000000",
         "2007-03-29T00:00:00.000000",
         "2007-03-30T00:00:00.000000",
         "2007-03-31T00:00:00.000000",
         "2007-04-01T00:00:00.000000",
         "2007-04-02T00:00:00.000000",
         "2007-04-03T00:00:00.000000",
         "2007-04-04T00:00:00.000000",
         "2007-04-05T00:00:00.000000",
         "2007-04-06T00:00:00.000000",
         "2007-04-07T00:00:00.000000",
         "2007-04-08T00:00:00.000000",
         "2007-04-09T00:00:00.000000",
         "2007-04-10T00:00:00.000000",
         "2007-04-11T00:00:00.000000",
         "2007-04-12T00:00:00.000000",
         "2007-04-13T00:00:00.000000",
         "2007-04-14T00:00:00.000000",
         "2007-04-15T00:00:00.000000",
         "2007-04-16T00:00:00.000000",
         "2007-04-17T00:00:00.000000",
         "2007-04-18T00:00:00.000000",
         "2007-04-19T00:00:00.000000",
         "2007-04-20T00:00:00.000000",
         "2007-04-21T00:00:00.000000",
         "2007-04-22T00:00:00.000000",
         "2007-04-23T00:00:00.000000",
         "2007-04-24T00:00:00.000000",
         "2007-04-25T00:00:00.000000",
         "2007-04-26T00:00:00.000000",
         "2007-04-27T00:00:00.000000",
         "2007-04-28T00:00:00.000000",
         "2007-04-29T00:00:00.000000",
         "2007-04-30T00:00:00.000000",
         "2007-05-01T00:00:00.000000",
         "2007-05-02T00:00:00.000000",
         "2007-05-03T00:00:00.000000",
         "2007-05-04T00:00:00.000000",
         "2007-05-05T00:00:00.000000",
         "2007-05-06T00:00:00.000000",
         "2007-05-07T00:00:00.000000",
         "2007-05-08T00:00:00.000000",
         "2007-05-09T00:00:00.000000",
         "2007-05-10T00:00:00.000000",
         "2007-05-11T00:00:00.000000",
         "2007-05-12T00:00:00.000000",
         "2007-05-13T00:00:00.000000",
         "2007-05-14T00:00:00.000000",
         "2007-05-15T00:00:00.000000",
         "2007-05-16T00:00:00.000000",
         "2007-05-17T00:00:00.000000",
         "2007-05-18T00:00:00.000000",
         "2007-05-19T00:00:00.000000",
         "2007-05-20T00:00:00.000000",
         "2007-05-21T00:00:00.000000",
         "2007-05-22T00:00:00.000000",
         "2007-05-23T00:00:00.000000",
         "2007-05-24T00:00:00.000000",
         "2007-05-25T00:00:00.000000",
         "2007-05-26T00:00:00.000000",
         "2007-05-27T00:00:00.000000",
         "2007-05-28T00:00:00.000000",
         "2007-05-29T00:00:00.000000",
         "2007-05-30T00:00:00.000000"
        ]
       },
       "y": {
        "type": "float",
        "values": [
         -4.962183433609322,
         -4.790352677089441,
         -4.701399967900866,
         -5.332200280677117,
         -4.897590681209575,
         -4.70943849748868,
         -4.503948953012632,
         -4.126997895562575,
         -3.705456997334821,
         -3.891243711590665,
         -3.2721530991932077,
         -2.9531856194005535,
         -2.5820522840593405,
         -2.5466117120995975,
         -2.438170360550174,
         -2.324672931871504,
         -1.8138470024625697,
         -1.8070879209923767,
         -1.4255263766431518,
         -1.14213941809534,
         -1.2767566831511203,
         -1.2760704816201063,
         -1.0122423940423673,
         -1.2635453497018005,
         -1.7266868779174978,
         -1.1784629917456542,
         -0.7945742330436758,
         -0.8454039891394913,
         -0.9923630576499534,
         -1.3006266001405962,
         -1.5460869659580005,
         -1.002113527529744,
         -1.2113013242469464,
         -1.0809758877071864,
         -1.1303115400128192,
         -1.0615000655690423,
         -1.5555234202440538,
         -1.6131937804001453,
         -2.1578811826659283,
         -2.390088171105777,
         -2.7415308141638093,
         -3.107493608768003,
         -2.9960192339237963,
         -3.065728532550178,
         -2.823382522371297,
         -2.5994819526259114,
         -2.8047654926879204,
         -3.374691965283205,
         -2.8313322326658223,
         -2.6972719380446897,
         -3.0211555370474557,
         -2.7956503153991257,
         -2.1979258887929447,
         -2.2710286344222226,
         -1.9094680358981435,
         -1.7962293185095035,
         -1.5952489155267067,
         -1.1854340144323459,
         -1.2397889631145134,
         -0.9619903768684352,
         -0.8785272942334004,
         -1.2677655820547216,
         -1.2408360464326442,
         -0.6477335867824436,
         -0.9401945311228985,
         -0.8269036394223974,
         -1.0686861911888847,
         -1.3223446504730632,
         -1.5205693674605136,
         -1.3200785799754442,
         -1.2912622761021986,
         -1.2136037029337068,
         -0.9023412670181123,
         -0.8435516850387721,
         -1.1092351594467367,
         -1.4835508751416597,
         -1.9387436761165162,
         -1.9887969457210204,
         -2.144178812519499,
         -1.7795505924878867,
         -1.7054139286988104,
         -1.7036376402492515,
         -1.810719326707975,
         -2.146833437651381,
         -1.7822905800843536,
         -1.5560578000870926,
         -1.3536486437241244,
         -1.4325477872869286,
         -1.613537062646067,
         -1.8793255125721586,
         -2.559762856126145,
         -2.788036784931684,
         -2.4278760195811238,
         -2.7743910107749272,
         -2.450526879639913,
         -1.9258335452789055,
         -2.5256880834416613,
         -2.4117444677601654,
         -2.268032729008432,
         -2.2540789566933093,
         -2.1818004203448496,
         -2.210205353711956,
         -2.1564431953603638,
         -1.4971399598108661,
         -1.4412041868514365,
         -1.4979294541920218,
         -0.830669412307401,
         -0.4367785518576568,
         -0.11045188035616604,
         0.22729286649502,
         0.7080121960578722,
         1.0272388138176183,
         1.5341121922215386,
         1.6093737934975572,
         1.8439495966206998,
         2.1367144133199893,
         2.7404067058159782,
         2.7893736532475515,
         3.426674494346976,
         3.0325067081954984,
         2.5669326432365267,
         1.8026780510624327,
         1.96190863750531,
         2.226278219143815,
         2.1763733723452354,
         2.8277596755092063,
         3.258663327371636,
         3.0726199522484734,
         2.6694476453357794,
         2.377322106130652,
         3.1367556789282567,
         3.090408964494273,
         3.020836809352126,
         2.8796443231455484,
         2.322991738847694,
         1.7229123773376571,
         1.6410615127659156,
         1.967761760205022,
         1.5886640572494812,
         2.0090575939185555,
         2.1648683851796733,
         2.5330867653555806,
         2.570560548465032,
         2.3561444063100723,
         2.193718639795449,
         2.2507410963339893,
         3.191074860308941,
         3.5673103519884144,
         3.1383644657844343,
         2.581703109380676
        ]
       }
      }
     },
     "4c90133725ea400c952ce92a45248e25": {
      "model_module": "@jupyter-widgets/controls",
      "model_module_version": "1.4.0",
      "model_name": "DropdownModel",
      "state": {
       "_options_labels": [
        "Temperature",
        "Precipitation"
       ],
       "index": 0,
       "layout": "IPY_MODEL_787ddeb96f9f40f5a6b9b5cab84b2295",
       "style": "IPY_MODEL_507ec8e9f3e641a3ba510bb943762a02"
      }
     },
     "4d93893a608f4a5d95626077323ab947": {
      "model_module": "bqplot",
      "model_module_version": "^0.4.5",
      "model_name": "LinearScaleModel",
      "state": {
       "allow_padding": false,
       "max": 1,
       "min": 0,
       "stabilized": false
      }
     },
     "4f6dd0993f334dba95ce8b3b32190086": {
      "model_module": "bqplot",
      "model_module_version": "^0.4.5",
      "model_name": "LinesModel",
      "state": {
       "color": {
        "type": null,
        "values": null
       },
       "display_legend": false,
       "fill_colors": [],
       "labels": [
        "C1"
       ],
       "scales": {
        "x": "IPY_MODEL_333966beade7403d8bb036da83501e4e",
        "y": "IPY_MODEL_b9d51fe4010b4153b62bf5f03b478a7f"
       },
       "selected": [],
       "x": {
        "type": "date",
        "values": [
         "2007-01-01T00:00:00.000000",
         "2007-01-02T00:00:00.000000",
         "2007-01-03T00:00:00.000000",
         "2007-01-04T00:00:00.000000",
         "2007-01-05T00:00:00.000000",
         "2007-01-06T00:00:00.000000",
         "2007-01-07T00:00:00.000000",
         "2007-01-08T00:00:00.000000",
         "2007-01-09T00:00:00.000000",
         "2007-01-10T00:00:00.000000",
         "2007-01-11T00:00:00.000000",
         "2007-01-12T00:00:00.000000",
         "2007-01-13T00:00:00.000000",
         "2007-01-14T00:00:00.000000",
         "2007-01-15T00:00:00.000000",
         "2007-01-16T00:00:00.000000",
         "2007-01-17T00:00:00.000000",
         "2007-01-18T00:00:00.000000",
         "2007-01-19T00:00:00.000000",
         "2007-01-20T00:00:00.000000",
         "2007-01-21T00:00:00.000000",
         "2007-01-22T00:00:00.000000",
         "2007-01-23T00:00:00.000000",
         "2007-01-24T00:00:00.000000",
         "2007-01-25T00:00:00.000000",
         "2007-01-26T00:00:00.000000",
         "2007-01-27T00:00:00.000000",
         "2007-01-28T00:00:00.000000",
         "2007-01-29T00:00:00.000000",
         "2007-01-30T00:00:00.000000",
         "2007-01-31T00:00:00.000000",
         "2007-02-01T00:00:00.000000",
         "2007-02-02T00:00:00.000000",
         "2007-02-03T00:00:00.000000",
         "2007-02-04T00:00:00.000000",
         "2007-02-05T00:00:00.000000",
         "2007-02-06T00:00:00.000000",
         "2007-02-07T00:00:00.000000",
         "2007-02-08T00:00:00.000000",
         "2007-02-09T00:00:00.000000",
         "2007-02-10T00:00:00.000000",
         "2007-02-11T00:00:00.000000",
         "2007-02-12T00:00:00.000000",
         "2007-02-13T00:00:00.000000",
         "2007-02-14T00:00:00.000000",
         "2007-02-15T00:00:00.000000",
         "2007-02-16T00:00:00.000000",
         "2007-02-17T00:00:00.000000",
         "2007-02-18T00:00:00.000000",
         "2007-02-19T00:00:00.000000",
         "2007-02-20T00:00:00.000000",
         "2007-02-21T00:00:00.000000",
         "2007-02-22T00:00:00.000000",
         "2007-02-23T00:00:00.000000",
         "2007-02-24T00:00:00.000000",
         "2007-02-25T00:00:00.000000",
         "2007-02-26T00:00:00.000000",
         "2007-02-27T00:00:00.000000",
         "2007-02-28T00:00:00.000000",
         "2007-03-01T00:00:00.000000",
         "2007-03-02T00:00:00.000000",
         "2007-03-03T00:00:00.000000",
         "2007-03-04T00:00:00.000000",
         "2007-03-05T00:00:00.000000",
         "2007-03-06T00:00:00.000000",
         "2007-03-07T00:00:00.000000",
         "2007-03-08T00:00:00.000000",
         "2007-03-09T00:00:00.000000",
         "2007-03-10T00:00:00.000000",
         "2007-03-11T00:00:00.000000",
         "2007-03-12T00:00:00.000000",
         "2007-03-13T00:00:00.000000",
         "2007-03-14T00:00:00.000000",
         "2007-03-15T00:00:00.000000",
         "2007-03-16T00:00:00.000000",
         "2007-03-17T00:00:00.000000",
         "2007-03-18T00:00:00.000000",
         "2007-03-19T00:00:00.000000",
         "2007-03-20T00:00:00.000000",
         "2007-03-21T00:00:00.000000",
         "2007-03-22T00:00:00.000000",
         "2007-03-23T00:00:00.000000",
         "2007-03-24T00:00:00.000000",
         "2007-03-25T00:00:00.000000",
         "2007-03-26T00:00:00.000000",
         "2007-03-27T00:00:00.000000",
         "2007-03-28T00:00:00.000000",
         "2007-03-29T00:00:00.000000",
         "2007-03-30T00:00:00.000000",
         "2007-03-31T00:00:00.000000",
         "2007-04-01T00:00:00.000000",
         "2007-04-02T00:00:00.000000",
         "2007-04-03T00:00:00.000000",
         "2007-04-04T00:00:00.000000",
         "2007-04-05T00:00:00.000000",
         "2007-04-06T00:00:00.000000",
         "2007-04-07T00:00:00.000000",
         "2007-04-08T00:00:00.000000",
         "2007-04-09T00:00:00.000000",
         "2007-04-10T00:00:00.000000",
         "2007-04-11T00:00:00.000000",
         "2007-04-12T00:00:00.000000",
         "2007-04-13T00:00:00.000000",
         "2007-04-14T00:00:00.000000",
         "2007-04-15T00:00:00.000000",
         "2007-04-16T00:00:00.000000",
         "2007-04-17T00:00:00.000000",
         "2007-04-18T00:00:00.000000",
         "2007-04-19T00:00:00.000000",
         "2007-04-20T00:00:00.000000",
         "2007-04-21T00:00:00.000000",
         "2007-04-22T00:00:00.000000",
         "2007-04-23T00:00:00.000000",
         "2007-04-24T00:00:00.000000",
         "2007-04-25T00:00:00.000000",
         "2007-04-26T00:00:00.000000",
         "2007-04-27T00:00:00.000000",
         "2007-04-28T00:00:00.000000",
         "2007-04-29T00:00:00.000000",
         "2007-04-30T00:00:00.000000",
         "2007-05-01T00:00:00.000000",
         "2007-05-02T00:00:00.000000",
         "2007-05-03T00:00:00.000000",
         "2007-05-04T00:00:00.000000",
         "2007-05-05T00:00:00.000000",
         "2007-05-06T00:00:00.000000",
         "2007-05-07T00:00:00.000000",
         "2007-05-08T00:00:00.000000",
         "2007-05-09T00:00:00.000000",
         "2007-05-10T00:00:00.000000",
         "2007-05-11T00:00:00.000000",
         "2007-05-12T00:00:00.000000",
         "2007-05-13T00:00:00.000000",
         "2007-05-14T00:00:00.000000",
         "2007-05-15T00:00:00.000000",
         "2007-05-16T00:00:00.000000",
         "2007-05-17T00:00:00.000000",
         "2007-05-18T00:00:00.000000",
         "2007-05-19T00:00:00.000000",
         "2007-05-20T00:00:00.000000",
         "2007-05-21T00:00:00.000000",
         "2007-05-22T00:00:00.000000",
         "2007-05-23T00:00:00.000000",
         "2007-05-24T00:00:00.000000",
         "2007-05-25T00:00:00.000000",
         "2007-05-26T00:00:00.000000",
         "2007-05-27T00:00:00.000000",
         "2007-05-28T00:00:00.000000",
         "2007-05-29T00:00:00.000000",
         "2007-05-30T00:00:00.000000"
        ]
       },
       "y": {
        "type": "float",
        "values": [
         -6.369056909138436,
         -7.247958705553007,
         -7.572581414012671,
         -7.673399806469341,
         -7.498939960513663,
         -7.409156557836017,
         -7.144998404554396,
         -7.351066998977792,
         -7.544622928159868,
         -6.789212903041268,
         -7.175724656729045,
         -7.010926260098785,
         -7.456499810628372,
         -6.639667725058661,
         -6.9693279519506035,
         -7.264963500428738,
         -6.7671105271271905,
         -7.333997053510373,
         -7.409043115112873,
         -6.888489188808659,
         -7.077442801641652,
         -7.442452958138048,
         -7.877456443609681,
         -8.565982255363672,
         -8.255497601875508,
         -8.134415625554514,
         -7.851005057881039,
         -7.552318729256012,
         -6.963160401784826,
         -6.765261523483261,
         -7.26196301845243,
         -7.0939908333765445,
         -6.771998256016694,
         -6.842195545410917,
         -6.5053773693484445,
         -5.75435700517934,
         -5.942250233920621,
         -6.586242042748342,
         -7.44485309402457,
         -7.470806523410488,
         -6.952561365055477,
         -6.806748378217286,
         -6.504230485102688,
         -7.006257026283752,
         -6.91568766468604,
         -6.723540378633345,
         -6.69130794004543,
         -6.791198406325911,
         -6.020146815876512,
         -6.030934893386306,
         -5.683317320778976,
         -5.540968766305532,
         -5.365194391039701,
         -5.118181287831739,
         -4.893188576403027,
         -4.897588590893712,
         -4.689543748986345,
         -4.664466994194395,
         -4.312996093186008,
         -4.400692991692754,
         -3.9515381521387845,
         -3.4985826267639624,
         -3.4674135668913912,
         -2.771336176002439,
         -2.798665030223308,
         -2.729946182170334,
         -2.7955108522006533,
         -2.5859328123286787,
         -2.2438788573689123,
         -2.133452307440887,
         -1.851725113289639,
         -1.3761638126987066,
         -0.898665320384918,
         -0.8194648204145523,
         -0.5078539198395546,
         0.18132030635125318,
         0.1474508873646201,
         -0.07459113573987253,
         -0.24451395246350316,
         0.07391588372185964,
         -0.12340723044729529,
         -0.0959886598073929,
         -0.44767211472036905,
         -0.38174105561175864,
         -0.2064357928039513,
         0.3583903747142152,
         0.7755472631120703,
         1.024076297057249,
         1.1310449485258296,
         0.9933476002141326,
         0.2970404440212171,
         0.6436801284952942,
         1.1231129337684536,
         1.2824349466319696,
         0.9430425176250488,
         0.7380187753072605,
         1.5689725557020893,
         1.9658636992922531,
         1.997979937387111,
         1.8830589931297048,
         1.7795375767354784,
         2.0379561441518668,
         2.202593753908509,
         2.41264324042767,
         2.625872204042288,
         3.5175350505757876,
         3.914734554251833,
         3.757776631833913,
         3.920206428199407,
         3.726102410574029,
         4.181115932363085,
         3.7956005660502115,
         3.4331862115678646,
         3.226863073646566,
         3.365216893493276,
         3.023191564397404,
         2.463800855891513,
         2.717866601183964,
         3.003270892767027,
         2.9723901989074974,
         2.8648837975911654,
         3.085224715425536,
         3.2359008064148007,
         2.440619437354293,
         2.7292116099318307,
         2.992322426569551,
         2.6977522307363593,
         2.5784251899343325,
         2.606532996664942,
         2.1383256336692433,
         2.755566583295092,
         3.10421521806834,
         2.9323154306400134,
         3.029529288472798,
         2.310859683797247,
         2.8292191000533293,
         2.3493676328842668,
         2.96172664568126,
         2.6489965195848306,
         2.4504960054160136,
         2.7841197934789648,
         2.2939574666483864,
         2.2401865928008142,
         2.1091712073613955,
         2.198575230580264,
         2.3172509920296775,
         2.3650559331229815,
         2.0965557746218337,
         1.8907254522111359,
         2.5510361082425703
        ]
       }
      }
     },
     "507ec8e9f3e641a3ba510bb943762a02": {
      "model_module": "@jupyter-widgets/controls",
      "model_module_version": "1.4.0",
      "model_name": "DescriptionStyleModel",
      "state": {
       "description_width": ""
      }
     },
     "5469322dfd1f4f5bb76d400196e6ae67": {
      "model_module": "jupyter-leaflet",
      "model_module_version": "~0.10.0",
      "model_name": "LeafletTileLayerModel",
      "state": {
       "_model_module_version": "~0.10.0",
       "_view_count": null,
       "_view_module_version": "~0.10.0",
       "min_zoom": 1,
       "name": "owm",
       "options": [
        "attribution",
        "detect_retina",
        "max_zoom",
        "min_zoom",
        "tile_size"
       ],
       "url": "https://tile.openweathermap.org/map/precipitation_new/{z}/{x}/{y}.png?appid=015b2d503965bf4b2c83dc14cfe29a0b"
      }
     },
     "5c84b670304a49bc9cef14a6c171271f": {
      "model_module": "@jupyter-widgets/controls",
      "model_module_version": "1.4.0",
      "model_name": "DescriptionStyleModel",
      "state": {
       "description_width": ""
      }
     },
     "5c8e7d3b1ed1418789c5e2446e5e3beb": {
      "model_module": "@jupyter-widgets/base",
      "model_module_version": "1.1.0",
      "model_name": "LayoutModel",
      "state": {
       "grid_gap": "30px",
       "grid_template_areas": "\"header header header\"\n\"left-sidebar center right-sidebar\"\n\"footer footer footer\"",
       "grid_template_columns": "80px 1fr 1fr",
       "grid_template_rows": "80px 4fr 1fr",
       "height": "600px"
      }
     },
     "5e1a6ea27e0648d2a7a17086a89da891": {
      "model_module": "bqplot",
      "model_module_version": "^0.4.5",
      "model_name": "FigureModel",
      "state": {
       "_dom_classes": [],
       "axes": [
        "IPY_MODEL_01326abfa62e4ec1976aef21fe826457",
        "IPY_MODEL_ceca1d60fd2c48d792a7e2a974e78c07"
       ],
       "fig_margin": {
        "bottom": 80,
        "left": 30,
        "right": 20,
        "top": 0
       },
       "layout": "IPY_MODEL_dcbcc26997004c4eb4a6685afdba0885",
       "marks": [
        "IPY_MODEL_8071f9b8483c4ec9b9ef4c1499b7ed96"
       ],
       "scale_x": "IPY_MODEL_4d93893a608f4a5d95626077323ab947",
       "scale_y": "IPY_MODEL_c6d52e360cc8426aac84dc07d620ddfe"
      }
     },
     "5ff28fd77e374f699ca16a16ebe2d667": {
      "model_module": "@jupyter-widgets/base",
      "model_module_version": "1.1.0",
      "model_name": "LayoutModel",
      "state": {
       "grid_gap": "30px",
       "grid_template_areas": "\"header header header\"\n\"left-sidebar center right-sidebar\"\n\"footer footer footer\"",
       "grid_template_columns": "80px 1fr 1fr",
       "grid_template_rows": "80px 4fr 1fr",
       "height": "600px"
      }
     },
     "63e93dd9baee4a81861b194d802a05dd": {
      "model_module": "bqplot",
      "model_module_version": "^0.4.5",
      "model_name": "FigureModel",
      "state": {
       "_dom_classes": [],
       "axes": [
        "IPY_MODEL_98e271e407cd41f78c9bf50a178e2862",
        "IPY_MODEL_b65ea817943344dc94bb42f0b7565ad6"
       ],
       "fig_margin": {
        "bottom": 80,
        "left": 30,
        "right": 20,
        "top": 0
       },
       "layout": "IPY_MODEL_d5843946681848408ab770ea7a641c56",
       "marks": [
        "IPY_MODEL_6fe06fe67e5a4b4b9a6346b2e09b3c21"
       ],
       "scale_x": "IPY_MODEL_8f01de736d924d918e12714dff275678",
       "scale_y": "IPY_MODEL_11a47eed52434e28a6c550916204a8bb"
      }
     },
     "675ed9ea62bf4fa2afbb55810b4703af": {
      "model_module": "@jupyter-widgets/controls",
      "model_module_version": "1.4.0",
      "model_name": "DescriptionStyleModel",
      "state": {
       "description_width": ""
      }
     },
     "6a2311c6dfd34036bf3599945196192f": {
      "model_module": "bqplot",
      "model_module_version": "^0.4.5",
      "model_name": "AxisModel",
      "state": {
       "orientation": "vertical",
       "scale": "IPY_MODEL_b9d51fe4010b4153b62bf5f03b478a7f",
       "side": "left",
       "tick_values": {
        "type": null,
        "values": null
       }
      }
     },
     "6a512ad63f554ff5af4640b0ff316c04": {
      "model_module": "@jupyter-widgets/controls",
      "model_module_version": "1.4.0",
      "model_name": "GridBoxModel",
      "state": {
       "children": [
        "IPY_MODEL_1d1ab1d9bb654508933f64fe6d11740b",
        "IPY_MODEL_48d43b135d6449deb87d4d009507130f",
        "IPY_MODEL_a9244dbb4f6b4393835475b89899e681",
        "IPY_MODEL_63e93dd9baee4a81861b194d802a05dd",
        "IPY_MODEL_27464c25aa1849b19fd01a033802f867"
       ],
       "layout": "IPY_MODEL_ae56cdf2e81c4eef89c81a9bf80aec58"
      }
     },
     "6b27e027ef784264a37a5186aabb62ce": {
      "model_module": "@jupyter-widgets/controls",
      "model_module_version": "1.4.0",
      "model_name": "HTMLModel",
      "state": {
       "layout": "IPY_MODEL_13cf129c2bee43c3bc554d36a652fe15",
       "style": "IPY_MODEL_a10d3b17a11b4292b88178a640fab95b",
       "value": "<h4>Activity log</h4><ul><li>2019-04-08 23:16:51.400695 Selected coordinates: [51.77427840529941, 10.571431911672216], Temp: -4 C Percipitation: 100 mm\n<li>2019-04-08 23:16:52.142143 Selected coordinates: [51.77427840529941, 10.571431911672216], Temp: 19 C Percipitation: 19 mm\n<li>2019-04-08 23:16:53.928006 Selected coordinates: [51.69270577313847, 6.181494776726956], Temp: 3 C Percipitation: 12 mm\n</ul>"
      }
     },
     "6c9d32d37d2741fd868b58d0cdb973b8": {
      "model_module": "@jupyter-widgets/base",
      "model_module_version": "1.1.0",
      "model_name": "LayoutModel",
      "state": {}
     },
     "6e312b5f874f48969ed1a7720dc9c5e5": {
      "model_module": "jupyter-leaflet",
      "model_module_version": "~0.10.0",
      "model_name": "LeafletTileLayerModel",
      "state": {
       "_model_module_version": "~0.10.0",
       "_view_count": null,
       "_view_module_version": "~0.10.0",
       "min_zoom": 1,
       "name": "owm",
       "options": [
        "attribution",
        "detect_retina",
        "max_zoom",
        "min_zoom",
        "tile_size"
       ],
       "url": "https://tile.openweathermap.org/map/precipitation_new/{z}/{x}/{y}.png?appid=015b2d503965bf4b2c83dc14cfe29a0b"
      }
     },
     "6fe06fe67e5a4b4b9a6346b2e09b3c21": {
      "model_module": "bqplot",
      "model_module_version": "^0.4.5",
      "model_name": "LinesModel",
      "state": {
       "color": {
        "type": null,
        "values": null
       },
       "display_legend": false,
       "fill_colors": [],
       "labels": [
        "C1"
       ],
       "scales": {
        "x": "IPY_MODEL_93d4c82dd0e14d52ab42cd511d7309ab",
        "y": "IPY_MODEL_09d66aa2d8784255b12f61b52ae9a493"
       },
       "selected": [],
       "x": {
        "type": "date",
        "values": [
         "2007-01-01T00:00:00.000000",
         "2007-01-02T00:00:00.000000",
         "2007-01-03T00:00:00.000000",
         "2007-01-04T00:00:00.000000",
         "2007-01-05T00:00:00.000000",
         "2007-01-06T00:00:00.000000",
         "2007-01-07T00:00:00.000000",
         "2007-01-08T00:00:00.000000",
         "2007-01-09T00:00:00.000000",
         "2007-01-10T00:00:00.000000",
         "2007-01-11T00:00:00.000000",
         "2007-01-12T00:00:00.000000",
         "2007-01-13T00:00:00.000000",
         "2007-01-14T00:00:00.000000",
         "2007-01-15T00:00:00.000000",
         "2007-01-16T00:00:00.000000",
         "2007-01-17T00:00:00.000000",
         "2007-01-18T00:00:00.000000",
         "2007-01-19T00:00:00.000000",
         "2007-01-20T00:00:00.000000",
         "2007-01-21T00:00:00.000000",
         "2007-01-22T00:00:00.000000",
         "2007-01-23T00:00:00.000000",
         "2007-01-24T00:00:00.000000",
         "2007-01-25T00:00:00.000000",
         "2007-01-26T00:00:00.000000",
         "2007-01-27T00:00:00.000000",
         "2007-01-28T00:00:00.000000",
         "2007-01-29T00:00:00.000000",
         "2007-01-30T00:00:00.000000",
         "2007-01-31T00:00:00.000000",
         "2007-02-01T00:00:00.000000",
         "2007-02-02T00:00:00.000000",
         "2007-02-03T00:00:00.000000",
         "2007-02-04T00:00:00.000000",
         "2007-02-05T00:00:00.000000",
         "2007-02-06T00:00:00.000000",
         "2007-02-07T00:00:00.000000",
         "2007-02-08T00:00:00.000000",
         "2007-02-09T00:00:00.000000",
         "2007-02-10T00:00:00.000000",
         "2007-02-11T00:00:00.000000",
         "2007-02-12T00:00:00.000000",
         "2007-02-13T00:00:00.000000",
         "2007-02-14T00:00:00.000000",
         "2007-02-15T00:00:00.000000",
         "2007-02-16T00:00:00.000000",
         "2007-02-17T00:00:00.000000",
         "2007-02-18T00:00:00.000000",
         "2007-02-19T00:00:00.000000",
         "2007-02-20T00:00:00.000000",
         "2007-02-21T00:00:00.000000",
         "2007-02-22T00:00:00.000000",
         "2007-02-23T00:00:00.000000",
         "2007-02-24T00:00:00.000000",
         "2007-02-25T00:00:00.000000",
         "2007-02-26T00:00:00.000000",
         "2007-02-27T00:00:00.000000",
         "2007-02-28T00:00:00.000000",
         "2007-03-01T00:00:00.000000",
         "2007-03-02T00:00:00.000000",
         "2007-03-03T00:00:00.000000",
         "2007-03-04T00:00:00.000000",
         "2007-03-05T00:00:00.000000",
         "2007-03-06T00:00:00.000000",
         "2007-03-07T00:00:00.000000",
         "2007-03-08T00:00:00.000000",
         "2007-03-09T00:00:00.000000",
         "2007-03-10T00:00:00.000000",
         "2007-03-11T00:00:00.000000",
         "2007-03-12T00:00:00.000000",
         "2007-03-13T00:00:00.000000",
         "2007-03-14T00:00:00.000000",
         "2007-03-15T00:00:00.000000",
         "2007-03-16T00:00:00.000000",
         "2007-03-17T00:00:00.000000",
         "2007-03-18T00:00:00.000000",
         "2007-03-19T00:00:00.000000",
         "2007-03-20T00:00:00.000000",
         "2007-03-21T00:00:00.000000",
         "2007-03-22T00:00:00.000000",
         "2007-03-23T00:00:00.000000",
         "2007-03-24T00:00:00.000000",
         "2007-03-25T00:00:00.000000",
         "2007-03-26T00:00:00.000000",
         "2007-03-27T00:00:00.000000",
         "2007-03-28T00:00:00.000000",
         "2007-03-29T00:00:00.000000",
         "2007-03-30T00:00:00.000000",
         "2007-03-31T00:00:00.000000",
         "2007-04-01T00:00:00.000000",
         "2007-04-02T00:00:00.000000",
         "2007-04-03T00:00:00.000000",
         "2007-04-04T00:00:00.000000",
         "2007-04-05T00:00:00.000000",
         "2007-04-06T00:00:00.000000",
         "2007-04-07T00:00:00.000000",
         "2007-04-08T00:00:00.000000",
         "2007-04-09T00:00:00.000000",
         "2007-04-10T00:00:00.000000",
         "2007-04-11T00:00:00.000000",
         "2007-04-12T00:00:00.000000",
         "2007-04-13T00:00:00.000000",
         "2007-04-14T00:00:00.000000",
         "2007-04-15T00:00:00.000000",
         "2007-04-16T00:00:00.000000",
         "2007-04-17T00:00:00.000000",
         "2007-04-18T00:00:00.000000",
         "2007-04-19T00:00:00.000000",
         "2007-04-20T00:00:00.000000",
         "2007-04-21T00:00:00.000000",
         "2007-04-22T00:00:00.000000",
         "2007-04-23T00:00:00.000000",
         "2007-04-24T00:00:00.000000",
         "2007-04-25T00:00:00.000000",
         "2007-04-26T00:00:00.000000",
         "2007-04-27T00:00:00.000000",
         "2007-04-28T00:00:00.000000",
         "2007-04-29T00:00:00.000000",
         "2007-04-30T00:00:00.000000",
         "2007-05-01T00:00:00.000000",
         "2007-05-02T00:00:00.000000",
         "2007-05-03T00:00:00.000000",
         "2007-05-04T00:00:00.000000",
         "2007-05-05T00:00:00.000000",
         "2007-05-06T00:00:00.000000",
         "2007-05-07T00:00:00.000000",
         "2007-05-08T00:00:00.000000",
         "2007-05-09T00:00:00.000000",
         "2007-05-10T00:00:00.000000",
         "2007-05-11T00:00:00.000000",
         "2007-05-12T00:00:00.000000",
         "2007-05-13T00:00:00.000000",
         "2007-05-14T00:00:00.000000",
         "2007-05-15T00:00:00.000000",
         "2007-05-16T00:00:00.000000",
         "2007-05-17T00:00:00.000000",
         "2007-05-18T00:00:00.000000",
         "2007-05-19T00:00:00.000000",
         "2007-05-20T00:00:00.000000",
         "2007-05-21T00:00:00.000000",
         "2007-05-22T00:00:00.000000",
         "2007-05-23T00:00:00.000000",
         "2007-05-24T00:00:00.000000",
         "2007-05-25T00:00:00.000000",
         "2007-05-26T00:00:00.000000",
         "2007-05-27T00:00:00.000000",
         "2007-05-28T00:00:00.000000",
         "2007-05-29T00:00:00.000000",
         "2007-05-30T00:00:00.000000"
        ]
       },
       "y": {
        "type": "float",
        "values": [
         -4.336753422517809,
         -4.423405110481998,
         -4.515096357924644,
         -5.066006215476516,
         -4.335613729327626,
         -3.8133089033187986,
         -3.5724387299065086,
         -3.020064353948907,
         -3.216415152768249,
         -3.6286113259958057,
         -3.6518138777031766,
         -3.5762036275477627,
         -3.1005978102087823,
         -3.4103108892389287,
         -3.033713350019699,
         -3.1564294089344003,
         -2.8010904248034265,
         -3.4057280088075466,
         -3.3963213889513355,
         -2.9866787041516822,
         -3.3598833477078323,
         -2.9273509786482634,
         -3.13325770832666,
         -3.5753784824519705,
         -3.792768970118697,
         -4.291969219007772,
         -4.460945750244445,
         -4.481173096796756,
         -4.167591501333849,
         -4.18866719782136,
         -3.678009623400314,
         -3.81415620752092,
         -4.414855028297119,
         -4.37643126809327,
         -4.753027892341237,
         -4.464199496321697,
         -4.660359371202283,
         -4.413476405253455,
         -5.084105264208038,
         -4.901234793483436,
         -5.2754399093678614,
         -5.542816071933807,
         -5.344981160951164,
         -5.187757946580287,
         -5.375086469511448,
         -5.073931341525217,
         -4.52917812318622,
         -4.116124592668392,
         -4.2146446472421,
         -4.4182995839382,
         -4.055656047966611,
         -3.5795503080577653,
         -3.900783147149884,
         -3.787280833028124,
         -3.557738134841113,
         -3.576016588972159,
         -4.27793316685063,
         -4.416932054705796,
         -4.475260179083925,
         -4.152248701838282,
         -4.233574633587125,
         -3.3426129099908515,
         -3.564141943532963,
         -4.35012235386581,
         -4.3477747659967605,
         -3.6608363138953095,
         -3.531011528057128,
         -3.466513935825173,
         -3.8663411727184815,
         -3.964041919247361,
         -3.7357255973645067,
         -3.532838749333248,
         -3.775842304127803,
         -4.3439681734698254,
         -5.069010665567468,
         -4.472978245939096,
         -4.4281735759274525,
         -4.532018921015613,
         -5.098098815576552,
         -4.952894914586796,
         -4.677111168341465,
         -4.763454777976669,
         -4.5482151450129535,
         -5.501777395374582,
         -5.873143755482825,
         -6.112884684671922,
         -6.006525076965023,
         -5.791092515961253,
         -5.46390087861818,
         -5.62663465902336,
         -6.088985754610647,
         -6.172685433614664,
         -7.043609405730937,
         -6.732172046036997,
         -6.567739091478959,
         -6.362480330917258,
         -6.52487070674254,
         -5.895412006809128,
         -5.35725025541711,
         -4.075597106926907,
         -4.434620972918157,
         -4.860274247819806,
         -4.881049724899761,
         -5.342712815320201,
         -5.048522664624802,
         -5.477237287419978,
         -5.181242039946252,
         -4.970093497345729,
         -5.433479590618557,
         -5.169116135270016,
         -4.507509789928616,
         -4.38815089447607,
         -4.745283915152797,
         -5.207841660258655,
         -4.94655232469103,
         -4.155121592753375,
         -4.18948360009637,
         -4.090012763710984,
         -4.3620937634725365,
         -3.8437689208133,
         -3.6815418486305838,
         -3.3053555345005208,
         -3.6075020169637106,
         -2.966223904849663,
         -2.875216699870265,
         -2.884865325138602,
         -2.8113883524507983,
         -2.521842953130239,
         -2.035272766561558,
         -2.1471696036187886,
         -2.036485082462228,
         -2.3052606517407774,
         -1.4653025230014798,
         -1.196915384020155,
         -0.8543292081173313,
         -1.1866305412784968,
         -1.294208034961219,
         -1.4874381017817555,
         -1.3991615379071263,
         -1.0603209596040983,
         -0.4254405065128033,
         -0.2294296359543857,
         0.36941170594991135,
         0.637952310355189,
         1.206824083798562,
         0.7257052504889394,
         1.1174213576598007,
         1.3275538148247712,
         2.2565982589449938,
         1.5479451078959379
        ]
       }
      }
     },
     "709d935f648c4d0c9a66fe20db744cca": {
      "model_module": "@jupyter-widgets/controls",
      "model_module_version": "1.4.0",
      "model_name": "DescriptionStyleModel",
      "state": {
       "description_width": ""
      }
     },
     "711518c6a2d24ba7b75bcac519abb81f": {
      "model_module": "@jupyter-widgets/base",
      "model_module_version": "1.1.0",
      "model_name": "LayoutModel",
      "state": {}
     },
     "7124fcf50bf14f1ba233d5c84e57536c": {
      "model_module": "@jupyter-widgets/base",
      "model_module_version": "1.1.0",
      "model_name": "LayoutModel",
      "state": {}
     },
     "787ddeb96f9f40f5a6b9b5cab84b2295": {
      "model_module": "@jupyter-widgets/base",
      "model_module_version": "1.1.0",
      "model_name": "LayoutModel",
      "state": {
       "width": "auto"
      }
     },
     "79ff950f270b443481c5e6f9a505c75e": {
      "model_module": "jupyter-leaflet",
      "model_module_version": "~0.10.0",
      "model_name": "LeafletMapModel",
      "state": {
       "_dom_classes": [],
       "_model_module_version": "~0.10.0",
       "_view_count": null,
       "_view_module_version": "~0.10.0",
       "basemap": {
        "attribution": "Tiles courtesy of <a href=\"http://openstreetmap.se/\" target=\"_blank\">OpenStreetMap Sweden</a> &mdash; Map data &copy; <a href=\"http://www.openstreetmap.org/copyright\">OpenStreetMap</a>",
        "max_zoom": 18,
        "name": "Hydda.Full",
        "url": "http://{s}.tile.openstreetmap.se/hydda/full/{z}/{x}/{y}.png"
       },
       "center": [
        51.67255514839676,
        10.546875000000002
       ],
       "east": -180,
       "interpolation": "bilinear",
       "layers": [
        "IPY_MODEL_dcbf184965c649b4af4a8b268df9908f",
        "IPY_MODEL_7cfe8308a4ed4dc88de3a957f047a0bf"
       ],
       "layout": "IPY_MODEL_2bb9dd3108aa4385bbc90a1f030ee714",
       "modisdate": "yesterday",
       "north": -90,
       "options": [
        "attribution_control",
        "basemap",
        "bounce_at_zoom_limits",
        "box_zoom",
        "center",
        "close_popup_on_click",
        "double_click_zoom",
        "dragging",
        "inertia",
        "inertia_deceleration",
        "inertia_max_speed",
        "interpolation",
        "keyboard",
        "keyboard_pan_offset",
        "keyboard_zoom_offset",
        "max_zoom",
        "min_zoom",
        "scroll_wheel_zoom",
        "tap",
        "tap_tolerance",
        "touch_zoom",
        "world_copy_jump",
        "zoom",
        "zoom_animation_threshold",
        "zoom_control",
        "zoom_start"
       ],
       "south": 90,
       "west": 180,
       "zoom": 4
      }
     },
     "7ba549fb33ff41b7920b63c97b3e2772": {
      "model_module": "@jupyter-widgets/controls",
      "model_module_version": "1.4.0",
      "model_name": "DescriptionStyleModel",
      "state": {
       "description_width": ""
      }
     },
     "7c0bce308d3d488ab43973ed3689faed": {
      "model_module": "@jupyter-widgets/controls",
      "model_module_version": "1.4.0",
      "model_name": "DescriptionStyleModel",
      "state": {
       "description_width": ""
      }
     },
     "7c52b1ad10e4494aaf149957f4d5c81d": {
      "model_module": "jupyter-leaflet",
      "model_module_version": "~0.10.0",
      "model_name": "LeafletTileLayerModel",
      "state": {
       "_model_module_version": "~0.10.0",
       "_view_count": null,
       "_view_module_version": "~0.10.0",
       "attribution": "Tiles courtesy of <a href=\"http://openstreetmap.se/\" target=\"_blank\">OpenStreetMap Sweden</a> &mdash; Map data &copy; <a href=\"http://www.openstreetmap.org/copyright\">OpenStreetMap</a>",
       "base": true,
       "min_zoom": 1,
       "name": "Hydda.Full",
       "options": [
        "attribution",
        "detect_retina",
        "max_zoom",
        "min_zoom",
        "tile_size"
       ],
       "url": "http://{s}.tile.openstreetmap.se/hydda/full/{z}/{x}/{y}.png"
      }
     },
     "7cbfa8d71bea42c58ca3907eaa37d12e": {
      "model_module": "jupyter-leaflet",
      "model_module_version": "~0.10.0",
      "model_name": "LeafletTileLayerModel",
      "state": {
       "_model_module_version": "~0.10.0",
       "_view_count": null,
       "_view_module_version": "~0.10.0",
       "min_zoom": 1,
       "name": "owm",
       "options": [
        "attribution",
        "detect_retina",
        "max_zoom",
        "min_zoom",
        "tile_size"
       ],
       "url": "https://tile.openweathermap.org/map/temp_new/{z}/{x}/{y}.png?appid=015b2d503965bf4b2c83dc14cfe29a0b"
      }
     },
     "7ccd181be966428b87827ad2dec3c25d": {
      "model_module": "bqplot",
      "model_module_version": "^0.4.5",
      "model_name": "FigureModel",
      "state": {
       "_dom_classes": [],
       "axes": [
        "IPY_MODEL_070b1fb89942486f8db0691d1e623e0b",
        "IPY_MODEL_c47a2dfc4ccf4700a411ae37de8e3d3b"
       ],
       "fig_margin": {
        "bottom": 80,
        "left": 30,
        "right": 20,
        "top": 0
       },
       "layout": "IPY_MODEL_f309cef4e3a249cfbb923a30d3b79ade",
       "marks": [
        "IPY_MODEL_49a99030851a4f36ba5f184dfaa765a0"
       ],
       "scale_x": "IPY_MODEL_0ece13d572b64f5689686f77e101e31f",
       "scale_y": "IPY_MODEL_2d08dfd70a354d0a8739db9edce8769d"
      }
     },
     "7cfe8308a4ed4dc88de3a957f047a0bf": {
      "model_module": "jupyter-leaflet",
      "model_module_version": "~0.10.0",
      "model_name": "LeafletTileLayerModel",
      "state": {
       "_model_module_version": "~0.10.0",
       "_view_count": null,
       "_view_module_version": "~0.10.0",
       "min_zoom": 1,
       "name": "owm",
       "options": [
        "attribution",
        "detect_retina",
        "max_zoom",
        "min_zoom",
        "tile_size"
       ],
       "url": "https://tile.openweathermap.org/map/temp_new/{z}/{x}/{y}.png?appid=015b2d503965bf4b2c83dc14cfe29a0b"
      }
     },
     "7e36528e960844c58db0ae4344eca41d": {
      "model_module": "bqplot",
      "model_module_version": "^0.4.5",
      "model_name": "AxisModel",
      "state": {
       "scale": "IPY_MODEL_333966beade7403d8bb036da83501e4e",
       "side": "bottom",
       "tick_values": {
        "type": null,
        "values": null
       }
      }
     },
     "8071f9b8483c4ec9b9ef4c1499b7ed96": {
      "model_module": "bqplot",
      "model_module_version": "^0.4.5",
      "model_name": "LinesModel",
      "state": {
       "color": {
        "type": null,
        "values": null
       },
       "display_legend": false,
       "fill_colors": [],
       "labels": [
        "C1"
       ],
       "scales": {
        "x": "IPY_MODEL_491b82c991644a0c965a504e5f2b9308",
        "y": "IPY_MODEL_b0d77f69c1994f51ab9091868ab32b61"
       },
       "selected": [],
       "x": {
        "type": "date",
        "values": [
         "2007-01-01T00:00:00.000000",
         "2007-01-02T00:00:00.000000",
         "2007-01-03T00:00:00.000000",
         "2007-01-04T00:00:00.000000",
         "2007-01-05T00:00:00.000000",
         "2007-01-06T00:00:00.000000",
         "2007-01-07T00:00:00.000000",
         "2007-01-08T00:00:00.000000",
         "2007-01-09T00:00:00.000000",
         "2007-01-10T00:00:00.000000",
         "2007-01-11T00:00:00.000000",
         "2007-01-12T00:00:00.000000",
         "2007-01-13T00:00:00.000000",
         "2007-01-14T00:00:00.000000",
         "2007-01-15T00:00:00.000000",
         "2007-01-16T00:00:00.000000",
         "2007-01-17T00:00:00.000000",
         "2007-01-18T00:00:00.000000",
         "2007-01-19T00:00:00.000000",
         "2007-01-20T00:00:00.000000",
         "2007-01-21T00:00:00.000000",
         "2007-01-22T00:00:00.000000",
         "2007-01-23T00:00:00.000000",
         "2007-01-24T00:00:00.000000",
         "2007-01-25T00:00:00.000000",
         "2007-01-26T00:00:00.000000",
         "2007-01-27T00:00:00.000000",
         "2007-01-28T00:00:00.000000",
         "2007-01-29T00:00:00.000000",
         "2007-01-30T00:00:00.000000",
         "2007-01-31T00:00:00.000000",
         "2007-02-01T00:00:00.000000",
         "2007-02-02T00:00:00.000000",
         "2007-02-03T00:00:00.000000",
         "2007-02-04T00:00:00.000000",
         "2007-02-05T00:00:00.000000",
         "2007-02-06T00:00:00.000000",
         "2007-02-07T00:00:00.000000",
         "2007-02-08T00:00:00.000000",
         "2007-02-09T00:00:00.000000",
         "2007-02-10T00:00:00.000000",
         "2007-02-11T00:00:00.000000",
         "2007-02-12T00:00:00.000000",
         "2007-02-13T00:00:00.000000",
         "2007-02-14T00:00:00.000000",
         "2007-02-15T00:00:00.000000",
         "2007-02-16T00:00:00.000000",
         "2007-02-17T00:00:00.000000",
         "2007-02-18T00:00:00.000000",
         "2007-02-19T00:00:00.000000",
         "2007-02-20T00:00:00.000000",
         "2007-02-21T00:00:00.000000",
         "2007-02-22T00:00:00.000000",
         "2007-02-23T00:00:00.000000",
         "2007-02-24T00:00:00.000000",
         "2007-02-25T00:00:00.000000",
         "2007-02-26T00:00:00.000000",
         "2007-02-27T00:00:00.000000",
         "2007-02-28T00:00:00.000000",
         "2007-03-01T00:00:00.000000",
         "2007-03-02T00:00:00.000000",
         "2007-03-03T00:00:00.000000",
         "2007-03-04T00:00:00.000000",
         "2007-03-05T00:00:00.000000",
         "2007-03-06T00:00:00.000000",
         "2007-03-07T00:00:00.000000",
         "2007-03-08T00:00:00.000000",
         "2007-03-09T00:00:00.000000",
         "2007-03-10T00:00:00.000000",
         "2007-03-11T00:00:00.000000",
         "2007-03-12T00:00:00.000000",
         "2007-03-13T00:00:00.000000",
         "2007-03-14T00:00:00.000000",
         "2007-03-15T00:00:00.000000",
         "2007-03-16T00:00:00.000000",
         "2007-03-17T00:00:00.000000",
         "2007-03-18T00:00:00.000000",
         "2007-03-19T00:00:00.000000",
         "2007-03-20T00:00:00.000000",
         "2007-03-21T00:00:00.000000",
         "2007-03-22T00:00:00.000000",
         "2007-03-23T00:00:00.000000",
         "2007-03-24T00:00:00.000000",
         "2007-03-25T00:00:00.000000",
         "2007-03-26T00:00:00.000000",
         "2007-03-27T00:00:00.000000",
         "2007-03-28T00:00:00.000000",
         "2007-03-29T00:00:00.000000",
         "2007-03-30T00:00:00.000000",
         "2007-03-31T00:00:00.000000",
         "2007-04-01T00:00:00.000000",
         "2007-04-02T00:00:00.000000",
         "2007-04-03T00:00:00.000000",
         "2007-04-04T00:00:00.000000",
         "2007-04-05T00:00:00.000000",
         "2007-04-06T00:00:00.000000",
         "2007-04-07T00:00:00.000000",
         "2007-04-08T00:00:00.000000",
         "2007-04-09T00:00:00.000000",
         "2007-04-10T00:00:00.000000",
         "2007-04-11T00:00:00.000000",
         "2007-04-12T00:00:00.000000",
         "2007-04-13T00:00:00.000000",
         "2007-04-14T00:00:00.000000",
         "2007-04-15T00:00:00.000000",
         "2007-04-16T00:00:00.000000",
         "2007-04-17T00:00:00.000000",
         "2007-04-18T00:00:00.000000",
         "2007-04-19T00:00:00.000000",
         "2007-04-20T00:00:00.000000",
         "2007-04-21T00:00:00.000000",
         "2007-04-22T00:00:00.000000",
         "2007-04-23T00:00:00.000000",
         "2007-04-24T00:00:00.000000",
         "2007-04-25T00:00:00.000000",
         "2007-04-26T00:00:00.000000",
         "2007-04-27T00:00:00.000000",
         "2007-04-28T00:00:00.000000",
         "2007-04-29T00:00:00.000000",
         "2007-04-30T00:00:00.000000",
         "2007-05-01T00:00:00.000000",
         "2007-05-02T00:00:00.000000",
         "2007-05-03T00:00:00.000000",
         "2007-05-04T00:00:00.000000",
         "2007-05-05T00:00:00.000000",
         "2007-05-06T00:00:00.000000",
         "2007-05-07T00:00:00.000000",
         "2007-05-08T00:00:00.000000",
         "2007-05-09T00:00:00.000000",
         "2007-05-10T00:00:00.000000",
         "2007-05-11T00:00:00.000000",
         "2007-05-12T00:00:00.000000",
         "2007-05-13T00:00:00.000000",
         "2007-05-14T00:00:00.000000",
         "2007-05-15T00:00:00.000000",
         "2007-05-16T00:00:00.000000",
         "2007-05-17T00:00:00.000000",
         "2007-05-18T00:00:00.000000",
         "2007-05-19T00:00:00.000000",
         "2007-05-20T00:00:00.000000",
         "2007-05-21T00:00:00.000000",
         "2007-05-22T00:00:00.000000",
         "2007-05-23T00:00:00.000000",
         "2007-05-24T00:00:00.000000",
         "2007-05-25T00:00:00.000000",
         "2007-05-26T00:00:00.000000",
         "2007-05-27T00:00:00.000000",
         "2007-05-28T00:00:00.000000",
         "2007-05-29T00:00:00.000000",
         "2007-05-30T00:00:00.000000"
        ]
       },
       "y": {
        "type": "float",
        "values": [
         -6.149499614884167,
         -5.865844890905439,
         -5.989968394788406,
         -6.343454872874929,
         -6.857552446340176,
         -6.8610597646034535,
         -6.71557774283302,
         -6.605678548154533,
         -6.895831840317005,
         -7.083857985582156,
         -6.365081435381843,
         -6.168725574233456,
         -6.7240858693041865,
         -6.37448125112855,
         -6.244733148640357,
         -6.648992564714998,
         -6.996089239567489,
         -6.479280263192695,
         -6.46276493380919,
         -6.480584275087132,
         -6.469002712778202,
         -6.452591543012037,
         -6.097024785885861,
         -5.743730470636191,
         -5.866994005447456,
         -5.130738486428285,
         -5.837213754656521,
         -6.166802495202617,
         -5.709748656577176,
         -5.830135574541352,
         -5.403730005573763,
         -4.880671530249824,
         -5.4267599464824094,
         -4.976188125101796,
         -5.030800519852043,
         -5.002170283998517,
         -5.141901722495092,
         -4.945757885218974,
         -4.526255195932453,
         -3.9544547440228257,
         -4.208098328567004,
         -3.9199375911184298,
         -3.5822967717138496,
         -3.5519486525238726,
         -3.676371403242854,
         -3.292456813333004,
         -3.3532757439156597,
         -3.0431336915496914,
         -2.717620608850705,
         -2.8690040775201346,
         -2.7116201521766214,
         -2.6801769117835974,
         -2.6248666226439425,
         -2.588368713201497,
         -2.786986650705046,
         -2.5384292058194546,
         -2.2678306261739536,
         -2.384186426350741,
         -2.5907840232257584,
         -2.6512230254464875,
         -2.5680112642656248,
         -3.4188251592333287,
         -3.695978930023074,
         -4.49050691667059,
         -4.442670889424942,
         -5.0716605816823055,
         -5.3554766575970305,
         -5.34828236717377,
         -5.641103014249627,
         -5.900815502430234,
         -5.32958481658709,
         -5.03099885560729,
         -4.984379156510073,
         -4.599343820142138,
         -4.301237222355773,
         -4.386362024195151,
         -3.891532187978619,
         -3.7438819770199068,
         -3.3989884685938776,
         -3.4604247869814877,
         -3.439878764502801,
         -3.045958190695721,
         -2.7330092533703088,
         -2.083317513476409,
         -1.6926842248163432,
         -1.3899372584157064,
         -1.72440782735665,
         -1.7761794823849684,
         -0.7544036011953281,
         -0.5632037807829526,
         -0.3291253351639938,
         -0.6275824039012861,
         -0.6502498040904285,
         -0.25497224712316324,
         -0.018104554964459396,
         -0.266856162766576,
         -0.9105909791677931,
         -1.0157595098050578,
         -1.1822336897376466,
         -1.1226966648341374,
         -1.074828091634057,
         -0.9835972466466849,
         -0.9499737265494623,
         -1.477651926342375,
         -2.1054198284362755,
         -2.1599826124083457,
         -2.1341807217222097,
         -2.3183946156996065,
         -1.605922064915184,
         -1.0112691061829295,
         -0.5695252889657887,
         -1.1937905376750848,
         -0.6710935353308614,
         -1.573956059284832,
         -0.5037061302404169,
         0.3193263932857704,
         0.24220475580259304,
         0.7343830484404847,
         0.21329760998443703,
         1.0421846427793149,
         1.2118581166269422,
         1.1208987367218697,
         1.872660390677268,
         1.714050750094831,
         1.9673564665374457,
         1.893626201207237,
         1.6577687058213293,
         1.4699115252162116,
         1.328241427689818,
         1.308928152927301,
         1.354223890398032,
         1.5104067311558182,
         1.8191174171793776,
         1.9176499673260459,
         1.7383071075837506,
         1.524243450382098,
         1.3357954236597749,
         1.4386124686150623,
         1.4583438731298202,
         1.454493777426677,
         1.2428333544005667,
         1.4657298160478085,
         1.8656555941604331,
         2.118702372105332,
         2.148447243112301,
         2.1580946590474426,
         2.291921081882414,
         2.96177906698847,
         3.2303665727358073,
         2.998223675954222
        ]
       }
      }
     },
     "80ccc94c8936437fb50a3010e76d8aca": {
      "model_module": "@jupyter-widgets/controls",
      "model_module_version": "1.4.0",
      "model_name": "DescriptionStyleModel",
      "state": {
       "description_width": ""
      }
     },
     "816a16dd29254494ad11a0179329ad87": {
      "model_module": "jupyter-leaflet",
      "model_module_version": "~0.10.0",
      "model_name": "LeafletTileLayerModel",
      "state": {
       "_model_module_version": "~0.10.0",
       "_view_count": null,
       "_view_module_version": "~0.10.0",
       "min_zoom": 1,
       "name": "owm",
       "options": [
        "attribution",
        "detect_retina",
        "max_zoom",
        "min_zoom",
        "tile_size"
       ],
       "url": "https://tile.openweathermap.org/map/temp_new/{z}/{x}/{y}.png?appid=015b2d503965bf4b2c83dc14cfe29a0b"
      }
     },
     "8215c7c5e6754a41aa2e1eea6d7effcc": {
      "model_module": "@jupyter-widgets/base",
      "model_module_version": "1.1.0",
      "model_name": "LayoutModel",
      "state": {
       "grid_area": "left-sidebar"
      }
     },
     "842e7d7fd2ea446da2e5fd6afc979816": {
      "model_module": "@jupyter-widgets/controls",
      "model_module_version": "1.4.0",
      "model_name": "DescriptionStyleModel",
      "state": {
       "description_width": ""
      }
     },
     "87e20605d84b4acd962ead6450f0b213": {
      "model_module": "@jupyter-widgets/controls",
      "model_module_version": "1.4.0",
      "model_name": "DescriptionStyleModel",
      "state": {
       "description_width": ""
      }
     },
     "88e07fc54e2b48b9ac57ae0337fbb95e": {
      "model_module": "@jupyter-widgets/base",
      "model_module_version": "1.1.0",
      "model_name": "LayoutModel",
      "state": {
       "grid_area": "center",
       "height": "auto",
       "width": "auto"
      }
     },
     "8cb7afd460874897b8e253ef79e493e0": {
      "model_module": "@jupyter-widgets/controls",
      "model_module_version": "1.4.0",
      "model_name": "LabelModel",
      "state": {
       "layout": "IPY_MODEL_7124fcf50bf14f1ba233d5c84e57536c",
       "style": "IPY_MODEL_eec4a95ca4ff4c5f81c8309e4eeb3921",
       "value": "Overlay:"
      }
     },
     "8cc25e729b7f41d3be0ddaaf1d99b759": {
      "model_module": "@jupyter-widgets/controls",
      "model_module_version": "1.4.0",
      "model_name": "GridBoxModel",
      "state": {
       "children": [
        "IPY_MODEL_f4665c2dfac1417ba9292b9c0f3ab172",
        "IPY_MODEL_ad02f2b3b3834402ac3dec5067a1b0aa",
        "IPY_MODEL_1672e764fd314382bd8228ccda7fb7b1",
        "IPY_MODEL_7ccd181be966428b87827ad2dec3c25d",
        "IPY_MODEL_79ff950f270b443481c5e6f9a505c75e"
       ],
       "layout": "IPY_MODEL_5c8e7d3b1ed1418789c5e2446e5e3beb"
      }
     },
     "8d99bbae2efd44aeb47e5266ed9a310f": {
      "model_module": "@jupyter-widgets/base",
      "model_module_version": "1.1.0",
      "model_name": "LayoutModel",
      "state": {}
     },
     "8da5d5973d604c04ac5b3f553e013e48": {
      "model_module": "@jupyter-widgets/controls",
      "model_module_version": "1.4.0",
      "model_name": "DescriptionStyleModel",
      "state": {
       "description_width": ""
      }
     },
     "8f01de736d924d918e12714dff275678": {
      "model_module": "bqplot",
      "model_module_version": "^0.4.5",
      "model_name": "LinearScaleModel",
      "state": {
       "allow_padding": false,
       "max": 1,
       "min": 0,
       "stabilized": false
      }
     },
     "8fc010684ffb4aee88c9091ef09369c4": {
      "model_module": "@jupyter-widgets/base",
      "model_module_version": "1.1.0",
      "model_name": "LayoutModel",
      "state": {}
     },
     "93d4c82dd0e14d52ab42cd511d7309ab": {
      "model_module": "bqplot",
      "model_module_version": "^0.4.5",
      "model_name": "DateScaleModel",
      "state": {}
     },
     "95b3d0705d3745f9af89474776274a18": {
      "model_module": "jupyter-leaflet",
      "model_module_version": "~0.10.0",
      "model_name": "LeafletTileLayerModel",
      "state": {
       "_model_module_version": "~0.10.0",
       "_view_count": null,
       "_view_module_version": "~0.10.0",
       "min_zoom": 1,
       "name": "owm",
       "options": [
        "attribution",
        "detect_retina",
        "max_zoom",
        "min_zoom",
        "tile_size"
       ],
       "url": "https://tile.openweathermap.org/map/temp_new/{z}/{x}/{y}.png?appid=PASTE_YOUR_OWM_API_KEY_HERE"
      }
     },
     "95f4dcb9ce5145ca9b9306a327f6b5f4": {
      "model_module": "@jupyter-widgets/controls",
      "model_module_version": "1.4.0",
      "model_name": "DropdownModel",
      "state": {
       "_options_labels": [
        "Temperature",
        "Precipitation"
       ],
       "index": 0,
       "layout": "IPY_MODEL_0ba21d7725064f228606fdc69c773dd3",
       "style": "IPY_MODEL_3e1fd85e347b4252bcdb9c6af1dddfc6"
      }
     },
     "98b85925dd454ee08d3147eae91d2604": {
      "model_module": "@jupyter-widgets/controls",
      "model_module_version": "1.4.0",
      "model_name": "DropdownModel",
      "state": {
       "_options_labels": [
        "Hydda",
        "Esri"
       ],
       "index": 0,
       "layout": "IPY_MODEL_edc8b298568b4b629f9cbdec2434404f",
       "style": "IPY_MODEL_675ed9ea62bf4fa2afbb55810b4703af"
      }
     },
     "98e271e407cd41f78c9bf50a178e2862": {
      "model_module": "bqplot",
      "model_module_version": "^0.4.5",
      "model_name": "AxisModel",
      "state": {
       "scale": "IPY_MODEL_93d4c82dd0e14d52ab42cd511d7309ab",
       "side": "bottom",
       "tick_values": {
        "type": null,
        "values": null
       }
      }
     },
     "9f3e9f4d58764806b7652fb3d5130013": {
      "model_module": "@jupyter-widgets/base",
      "model_module_version": "1.1.0",
      "model_name": "LayoutModel",
      "state": {
       "grid_area": "header",
       "height": "auto"
      }
     },
     "a10d3b17a11b4292b88178a640fab95b": {
      "model_module": "@jupyter-widgets/controls",
      "model_module_version": "1.4.0",
      "model_name": "DescriptionStyleModel",
      "state": {
       "description_width": ""
      }
     },
     "a6c5b6d1c16b4d76b970182f5af10d68": {
      "model_module": "@jupyter-widgets/controls",
      "model_module_version": "1.4.0",
      "model_name": "VBoxModel",
      "state": {
       "children": [
        "IPY_MODEL_303dd32b8e04405c81645d7c676be4c9",
        "IPY_MODEL_23a7c5d8b23d4861b7c507acb826a70c",
        "IPY_MODEL_bef98bfb198f43f0b53e14e14e9e8ea3",
        "IPY_MODEL_3545f1878a104374ab4c348da1117388"
       ],
       "layout": "IPY_MODEL_04f51cce28284e79906c15aa4dad70ba"
      }
     },
     "a7e227632ae142c2b0279235a26aad85": {
      "model_module": "@jupyter-widgets/controls",
      "model_module_version": "1.4.0",
      "model_name": "DescriptionStyleModel",
      "state": {
       "description_width": ""
      }
     },
     "a9244dbb4f6b4393835475b89899e681": {
      "model_module": "@jupyter-widgets/controls",
      "model_module_version": "1.4.0",
      "model_name": "VBoxModel",
      "state": {
       "children": [
        "IPY_MODEL_b4c700d1a9304ac2af77c5ac46af35ce",
        "IPY_MODEL_b1458cfb21c743359be472d947e4554f",
        "IPY_MODEL_df100ed1ec52493f9a48382243cd9b7a",
        "IPY_MODEL_95f4dcb9ce5145ca9b9306a327f6b5f4"
       ],
       "layout": "IPY_MODEL_ee05f3910e7b4ca6aa78614e7ce06374"
      }
     },
     "a9f3cfbcbfc94fdb93f784d808dfa334": {
      "model_module": "jupyter-leaflet",
      "model_module_version": "~0.10.0",
      "model_name": "LeafletTileLayerModel",
      "state": {
       "_model_module_version": "~0.10.0",
       "_view_count": null,
       "_view_module_version": "~0.10.0",
       "attribution": "Tiles courtesy of <a href=\"http://openstreetmap.se/\" target=\"_blank\">OpenStreetMap Sweden</a> &mdash; Map data &copy; <a href=\"http://www.openstreetmap.org/copyright\">OpenStreetMap</a>",
       "base": true,
       "min_zoom": 1,
       "name": "Hydda.Full",
       "options": [
        "attribution",
        "detect_retina",
        "max_zoom",
        "min_zoom",
        "tile_size"
       ],
       "url": "http://{s}.tile.openstreetmap.se/hydda/full/{z}/{x}/{y}.png"
      }
     },
     "aa1e5e00120d42eab86c54ee483bdbcb": {
      "model_module": "@jupyter-widgets/controls",
      "model_module_version": "1.4.0",
      "model_name": "LabelModel",
      "state": {
       "layout": "IPY_MODEL_fb58d88391d549779257178d5ffe595e",
       "style": "IPY_MODEL_b156b5fa795d409596e0c1399ea307ce",
       "value": "Overlay:"
      }
     },
     "ad02f2b3b3834402ac3dec5067a1b0aa": {
      "model_module": "@jupyter-widgets/controls",
      "model_module_version": "1.4.0",
      "model_name": "HTMLModel",
      "state": {
       "layout": "IPY_MODEL_d30b46c19e624692b396fffed98e9efd",
       "style": "IPY_MODEL_3ae904c41b8a4599b309125d22ac86f2",
       "value": "<h4>Activity log</h4><ul><li>2019-04-08 23:31:52.589243 Selected coordinates: [51.323337801285106, 10.484185321492971], Temp: 12 C Precipitation: 23 mm\n<li>2019-04-08 23:31:53.448342 Selected coordinates: [51.32010926629388, 10.493557504496486], Temp: 0 C Precipitation: 97 mm\n<li>2019-04-08 23:31:55.721002 Selected coordinates: [50.909599797359974, 6.971952238215625], Temp: 5 C Precipitation: 97 mm\n</ul>"
      }
     },
     "ae56cdf2e81c4eef89c81a9bf80aec58": {
      "model_module": "@jupyter-widgets/base",
      "model_module_version": "1.1.0",
      "model_name": "LayoutModel",
      "state": {
       "grid_gap": "30px",
       "grid_template_areas": "\"header header header\"\n\"left-sidebar center right-sidebar\"\n\"footer footer footer\"",
       "grid_template_columns": "80px 1fr 1fr",
       "grid_template_rows": "80px 4fr 1fr",
       "height": "600px"
      }
     },
     "ae8d45412f93454a8e86370f2b37815c": {
      "model_module": "@jupyter-widgets/base",
      "model_module_version": "1.1.0",
      "model_name": "LayoutModel",
      "state": {
       "grid_area": "header",
       "height": "auto"
      }
     },
     "b0d77f69c1994f51ab9091868ab32b61": {
      "model_module": "bqplot",
      "model_module_version": "^0.4.5",
      "model_name": "LinearScaleModel",
      "state": {
       "stabilized": false
      }
     },
     "b1458cfb21c743359be472d947e4554f": {
      "model_module": "@jupyter-widgets/controls",
      "model_module_version": "1.4.0",
      "model_name": "DropdownModel",
      "state": {
       "_options_labels": [
        "Hydda",
        "Esri"
       ],
       "index": 0,
       "layout": "IPY_MODEL_48023187669044e7a094c63b85df6d5f",
       "style": "IPY_MODEL_316283adb3634fc9a4a09ba896184207"
      }
     },
     "b156b5fa795d409596e0c1399ea307ce": {
      "model_module": "@jupyter-widgets/controls",
      "model_module_version": "1.4.0",
      "model_name": "DescriptionStyleModel",
      "state": {
       "description_width": ""
      }
     },
     "b4a2ed9618cf42f99c8bb826a12502c2": {
      "model_module": "@jupyter-widgets/base",
      "model_module_version": "1.1.0",
      "model_name": "LayoutModel",
      "state": {
       "width": "auto"
      }
     },
     "b4c700d1a9304ac2af77c5ac46af35ce": {
      "model_module": "@jupyter-widgets/controls",
      "model_module_version": "1.4.0",
      "model_name": "LabelModel",
      "state": {
       "layout": "IPY_MODEL_8d99bbae2efd44aeb47e5266ed9a310f",
       "style": "IPY_MODEL_87e20605d84b4acd962ead6450f0b213",
       "value": "Basemap:"
      }
     },
     "b65ea817943344dc94bb42f0b7565ad6": {
      "model_module": "bqplot",
      "model_module_version": "^0.4.5",
      "model_name": "AxisModel",
      "state": {
       "orientation": "vertical",
       "scale": "IPY_MODEL_09d66aa2d8784255b12f61b52ae9a493",
       "side": "left",
       "tick_values": {
        "type": null,
        "values": null
       }
      }
     },
     "b79d61ec513444f2a87bf1a05fb0e6a4": {
      "model_module": "@jupyter-widgets/controls",
      "model_module_version": "1.4.0",
      "model_name": "GridBoxModel",
      "state": {
       "children": [
        "IPY_MODEL_431333d8d97c431eaeda82a796acd4c9",
        "IPY_MODEL_22a41f1b1ee947598c5adc610076d6c8",
        "IPY_MODEL_a6c5b6d1c16b4d76b970182f5af10d68",
        "IPY_MODEL_5e1a6ea27e0648d2a7a17086a89da891",
        "IPY_MODEL_1131485d4b2046c4a1d03dd179b39f27"
       ],
       "layout": "IPY_MODEL_5ff28fd77e374f699ca16a16ebe2d667"
      }
     },
     "b9d51fe4010b4153b62bf5f03b478a7f": {
      "model_module": "bqplot",
      "model_module_version": "^0.4.5",
      "model_name": "LinearScaleModel",
      "state": {
       "stabilized": false
      }
     },
     "bb9e059619d64d0f95e89222e2373ef5": {
      "model_module": "@jupyter-widgets/controls",
      "model_module_version": "1.4.0",
      "model_name": "HTMLModel",
      "state": {
       "layout": "IPY_MODEL_372136b40ea144adb47d40c9549a5d79",
       "style": "IPY_MODEL_156a1887a4b0456ca43a64f05217f6d4",
       "value": "<h1>Fictional World Weather</h1>"
      }
     },
     "bc3bfc1642b64d588af3bee2ff4e8e6c": {
      "model_module": "bqplot",
      "model_module_version": "^0.4.5",
      "model_name": "LinearScaleModel",
      "state": {
       "allow_padding": false,
       "max": 1,
       "min": 0,
       "stabilized": false
      }
     },
     "bd8b03953f0049839c593e25f28d9310": {
      "model_module": "@jupyter-widgets/controls",
      "model_module_version": "1.4.0",
      "model_name": "DropdownModel",
      "state": {
       "_options_labels": [
        "Temperature",
        "Percipitation"
       ],
       "index": 0,
       "layout": "IPY_MODEL_2ce8ac29e35945948d663c21fbb9efa6",
       "style": "IPY_MODEL_4248720693a44956b647ba163a73129c"
      }
     },
     "bef98bfb198f43f0b53e14e14e9e8ea3": {
      "model_module": "@jupyter-widgets/controls",
      "model_module_version": "1.4.0",
      "model_name": "LabelModel",
      "state": {
       "layout": "IPY_MODEL_d95048fb992340a5a119ee83721b7878",
       "style": "IPY_MODEL_7c0bce308d3d488ab43973ed3689faed",
       "value": "Overlay:"
      }
     },
     "c0f8601452194ed7b269c1ba27e0b32c": {
      "model_module": "bqplot",
      "model_module_version": "^0.4.5",
      "model_name": "DateScaleModel",
      "state": {}
     },
     "c2e44e4670b04826b791036b486543c8": {
      "model_module": "@jupyter-widgets/base",
      "model_module_version": "1.1.0",
      "model_name": "LayoutModel",
      "state": {
       "grid_area": "center",
       "height": "auto",
       "width": "auto"
      }
     },
     "c47a2dfc4ccf4700a411ae37de8e3d3b": {
      "model_module": "bqplot",
      "model_module_version": "^0.4.5",
      "model_name": "AxisModel",
      "state": {
       "orientation": "vertical",
       "scale": "IPY_MODEL_e7dcc6b4ee024c1da469bad8ec3083b6",
       "side": "left",
       "tick_values": {
        "type": null,
        "values": null
       }
      }
     },
     "c6d52e360cc8426aac84dc07d620ddfe": {
      "model_module": "bqplot",
      "model_module_version": "^0.4.5",
      "model_name": "LinearScaleModel",
      "state": {
       "allow_padding": false,
       "max": 1,
       "min": 0,
       "stabilized": false
      }
     },
     "ceca1d60fd2c48d792a7e2a974e78c07": {
      "model_module": "bqplot",
      "model_module_version": "^0.4.5",
      "model_name": "AxisModel",
      "state": {
       "orientation": "vertical",
       "scale": "IPY_MODEL_b0d77f69c1994f51ab9091868ab32b61",
       "side": "left",
       "tick_values": {
        "type": null,
        "values": null
       }
      }
     },
     "cf344b72a85a403684c07f01d1cee29c": {
      "model_module": "@jupyter-widgets/base",
      "model_module_version": "1.1.0",
      "model_name": "LayoutModel",
      "state": {
       "grid_area": "footer",
       "height": "auto",
       "width": "auto"
      }
     },
     "d30b46c19e624692b396fffed98e9efd": {
      "model_module": "@jupyter-widgets/base",
      "model_module_version": "1.1.0",
      "model_name": "LayoutModel",
      "state": {
       "grid_area": "footer",
       "height": "auto",
       "width": "auto"
      }
     },
     "d3ee8ec4fe8c42148a11ae60314d0b45": {
      "model_module": "jupyter-leaflet",
      "model_module_version": "~0.10.0",
      "model_name": "LeafletMapModel",
      "state": {
       "_dom_classes": [],
       "_model_module_version": "~0.10.0",
       "_view_count": null,
       "_view_module_version": "~0.10.0",
       "basemap": {
        "attribution": "Tiles courtesy of <a href=\"http://openstreetmap.se/\" target=\"_blank\">OpenStreetMap Sweden</a> &mdash; Map data &copy; <a href=\"http://www.openstreetmap.org/copyright\">OpenStreetMap</a>",
        "max_zoom": 18,
        "name": "Hydda.Full",
        "url": "http://{s}.tile.openstreetmap.se/hydda/full/{z}/{x}/{y}.png"
       },
       "center": [
        51.97134580885172,
        10.283203125000002
       ],
       "east": -180,
       "interpolation": "bilinear",
       "layers": [
        "IPY_MODEL_7c52b1ad10e4494aaf149957f4d5c81d",
        "IPY_MODEL_95b3d0705d3745f9af89474776274a18"
       ],
       "layout": "IPY_MODEL_237fa50654064595a1489e5043e8bdaa",
       "modisdate": "yesterday",
       "north": -90,
       "options": [
        "attribution_control",
        "basemap",
        "bounce_at_zoom_limits",
        "box_zoom",
        "center",
        "close_popup_on_click",
        "double_click_zoom",
        "dragging",
        "inertia",
        "inertia_deceleration",
        "inertia_max_speed",
        "interpolation",
        "keyboard",
        "keyboard_pan_offset",
        "keyboard_zoom_offset",
        "max_zoom",
        "min_zoom",
        "scroll_wheel_zoom",
        "tap",
        "tap_tolerance",
        "touch_zoom",
        "world_copy_jump",
        "zoom",
        "zoom_animation_threshold",
        "zoom_control",
        "zoom_start"
       ],
       "south": 90,
       "west": 180,
       "zoom": 5
      }
     },
     "d5843946681848408ab770ea7a641c56": {
      "model_module": "@jupyter-widgets/base",
      "model_module_version": "1.1.0",
      "model_name": "LayoutModel",
      "state": {
       "grid_area": "right-sidebar",
       "height": "auto",
       "min_width": "125px",
       "width": "auto"
      }
     },
     "d95048fb992340a5a119ee83721b7878": {
      "model_module": "@jupyter-widgets/base",
      "model_module_version": "1.1.0",
      "model_name": "LayoutModel",
      "state": {}
     },
     "dad20d35a7a54a7b8eeb48eb0c1965a9": {
      "model_module": "@jupyter-widgets/controls",
      "model_module_version": "1.4.0",
      "model_name": "GridBoxModel",
      "state": {
       "children": [
        "IPY_MODEL_bb9e059619d64d0f95e89222e2373ef5",
        "IPY_MODEL_6b27e027ef784264a37a5186aabb62ce",
        "IPY_MODEL_19500caa6f054b649df30514b5493dab",
        "IPY_MODEL_27a260b9237448f39203356374ea4b3a",
        "IPY_MODEL_d3ee8ec4fe8c42148a11ae60314d0b45"
       ],
       "layout": "IPY_MODEL_173b2f8390e343cbb353e37e7206e2df"
      }
     },
     "dca2456a2d3f46759fbe345304ed7e69": {
      "model_module": "jupyter-leaflet",
      "model_module_version": "~0.10.0",
      "model_name": "LeafletTileLayerModel",
      "state": {
       "_model_module_version": "~0.10.0",
       "_view_count": null,
       "_view_module_version": "~0.10.0",
       "min_zoom": 1,
       "name": "owm",
       "options": [
        "attribution",
        "detect_retina",
        "max_zoom",
        "min_zoom",
        "tile_size"
       ],
       "url": "https://tile.openweathermap.org/map/precipitation_new/{z}/{x}/{y}.png?appid=PASTE_YOUR_OWM_API_KEY_HERE"
      }
     },
     "dcbcc26997004c4eb4a6685afdba0885": {
      "model_module": "@jupyter-widgets/base",
      "model_module_version": "1.1.0",
      "model_name": "LayoutModel",
      "state": {
       "grid_area": "right-sidebar",
       "height": "auto",
       "min_width": "125px",
       "width": "auto"
      }
     },
     "dcbf184965c649b4af4a8b268df9908f": {
      "model_module": "jupyter-leaflet",
      "model_module_version": "~0.10.0",
      "model_name": "LeafletTileLayerModel",
      "state": {
       "_model_module_version": "~0.10.0",
       "_view_count": null,
       "_view_module_version": "~0.10.0",
       "attribution": "Tiles courtesy of <a href=\"http://openstreetmap.se/\" target=\"_blank\">OpenStreetMap Sweden</a> &mdash; Map data &copy; <a href=\"http://www.openstreetmap.org/copyright\">OpenStreetMap</a>",
       "base": true,
       "min_zoom": 1,
       "name": "Hydda.Full",
       "options": [
        "attribution",
        "detect_retina",
        "max_zoom",
        "min_zoom",
        "tile_size"
       ],
       "url": "http://{s}.tile.openstreetmap.se/hydda/full/{z}/{x}/{y}.png"
      }
     },
     "dccf0e14a2be44c4b46490d372e511b9": {
      "model_module": "@jupyter-widgets/controls",
      "model_module_version": "1.4.0",
      "model_name": "DropdownModel",
      "state": {
       "_options_labels": [
        "Hydda",
        "Esri"
       ],
       "index": 0,
       "layout": "IPY_MODEL_b4a2ed9618cf42f99c8bb826a12502c2",
       "style": "IPY_MODEL_4491e667e20649709ad40eb34091691e"
      }
     },
     "dea7c47ce98a4e31b54533779645a4a3": {
      "model_module": "@jupyter-widgets/base",
      "model_module_version": "1.1.0",
      "model_name": "LayoutModel",
      "state": {
       "grid_area": "header",
       "height": "auto"
      }
     },
     "df100ed1ec52493f9a48382243cd9b7a": {
      "model_module": "@jupyter-widgets/controls",
      "model_module_version": "1.4.0",
      "model_name": "LabelModel",
      "state": {
       "layout": "IPY_MODEL_8fc010684ffb4aee88c9091ef09369c4",
       "style": "IPY_MODEL_0e6fe10bb8004a448c0c2f2c0fadac5a",
       "value": "Overlay:"
      }
     },
     "dffaca2a2ba8456a9eb986494b2ded8a": {
      "model_module": "@jupyter-widgets/controls",
      "model_module_version": "1.4.0",
      "model_name": "DescriptionStyleModel",
      "state": {
       "description_width": ""
      }
     },
     "e0c6a8d1887344b586e1892caab8c50d": {
      "model_module": "@jupyter-widgets/base",
      "model_module_version": "1.1.0",
      "model_name": "LayoutModel",
      "state": {
       "grid_area": "footer",
       "height": "auto",
       "width": "auto"
      }
     },
     "e301fd763e4b4dd3878e7b60b3ff0a6e": {
      "model_module": "jupyter-leaflet",
      "model_module_version": "~0.10.0",
      "model_name": "LeafletTileLayerModel",
      "state": {
       "_model_module_version": "~0.10.0",
       "_view_count": null,
       "_view_module_version": "~0.10.0",
       "min_zoom": 1,
       "name": "owm",
       "options": [
        "attribution",
        "detect_retina",
        "max_zoom",
        "min_zoom",
        "tile_size"
       ],
       "url": "https://tile.openweathermap.org/map/temp_new/{z}/{x}/{y}.png?appid=015b2d503965bf4b2c83dc14cfe29a0b"
      }
     },
     "e4dced48102f4608a7efa7a43afc33f7": {
      "model_module": "jupyter-leaflet",
      "model_module_version": "~0.10.0",
      "model_name": "LeafletTileLayerModel",
      "state": {
       "_model_module_version": "~0.10.0",
       "_view_count": null,
       "_view_module_version": "~0.10.0",
       "min_zoom": 1,
       "name": "owm",
       "options": [
        "attribution",
        "detect_retina",
        "max_zoom",
        "min_zoom",
        "tile_size"
       ],
       "url": "https://tile.openweathermap.org/map/precipitation_new/{z}/{x}/{y}.png?appid=015b2d503965bf4b2c83dc14cfe29a0b"
      }
     },
     "e7dcc6b4ee024c1da469bad8ec3083b6": {
      "model_module": "bqplot",
      "model_module_version": "^0.4.5",
      "model_name": "LinearScaleModel",
      "state": {
       "stabilized": false
      }
     },
     "edc8b298568b4b629f9cbdec2434404f": {
      "model_module": "@jupyter-widgets/base",
      "model_module_version": "1.1.0",
      "model_name": "LayoutModel",
      "state": {
       "width": "auto"
      }
     },
     "ee05f3910e7b4ca6aa78614e7ce06374": {
      "model_module": "@jupyter-widgets/base",
      "model_module_version": "1.1.0",
      "model_name": "LayoutModel",
      "state": {
       "grid_area": "left-sidebar"
      }
     },
     "eec4a95ca4ff4c5f81c8309e4eeb3921": {
      "model_module": "@jupyter-widgets/controls",
      "model_module_version": "1.4.0",
      "model_name": "DescriptionStyleModel",
      "state": {
       "description_width": ""
      }
     },
     "f1c9e731a2d949b78672235a4703341b": {
      "model_module": "@jupyter-widgets/base",
      "model_module_version": "1.1.0",
      "model_name": "LayoutModel",
      "state": {
       "width": "auto"
      }
     },
     "f309cef4e3a249cfbb923a30d3b79ade": {
      "model_module": "@jupyter-widgets/base",
      "model_module_version": "1.1.0",
      "model_name": "LayoutModel",
      "state": {
       "grid_area": "right-sidebar",
       "height": "auto",
       "min_width": "125px",
       "width": "auto"
      }
     },
     "f3a56e7ff797427c8cba47b0a19673e7": {
      "model_module": "bqplot",
      "model_module_version": "^0.4.5",
      "model_name": "LinearScaleModel",
      "state": {
       "allow_padding": false,
       "max": 1,
       "min": 0,
       "stabilized": false
      }
     },
     "f4665c2dfac1417ba9292b9c0f3ab172": {
      "model_module": "@jupyter-widgets/controls",
      "model_module_version": "1.4.0",
      "model_name": "HTMLModel",
      "state": {
       "layout": "IPY_MODEL_9f3e9f4d58764806b7652fb3d5130013",
       "style": "IPY_MODEL_709d935f648c4d0c9a66fe20db744cca",
       "value": "<h1>Fictional World Weather</h1>"
      }
     },
     "f5644c9d566e4fbdb8c2fc86487cca5e": {
      "model_module": "@jupyter-widgets/base",
      "model_module_version": "1.1.0",
      "model_name": "LayoutModel",
      "state": {
       "grid_area": "right-sidebar",
       "height": "auto",
       "min_width": "125px",
       "width": "auto"
      }
     },
     "fb58d88391d549779257178d5ffe595e": {
      "model_module": "@jupyter-widgets/base",
      "model_module_version": "1.1.0",
      "model_name": "LayoutModel",
      "state": {}
     }
    },
    "version_major": 2,
    "version_minor": 0
   }
  }
 },
 "nbformat": 4,
 "nbformat_minor": 2
}
