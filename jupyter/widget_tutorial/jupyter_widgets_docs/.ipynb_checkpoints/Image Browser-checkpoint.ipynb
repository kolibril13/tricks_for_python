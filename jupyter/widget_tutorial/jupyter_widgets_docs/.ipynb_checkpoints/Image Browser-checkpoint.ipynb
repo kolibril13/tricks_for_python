{
 "cells": [
  {
   "cell_type": "markdown",
   "metadata": {},
   "source": [
    "## Image Browser"
   ]
  },
  {
   "cell_type": "markdown",
   "metadata": {},
   "source": [
    "This example shows how to browse through a set of images with a slider."
   ]
  },
  {
   "cell_type": "code",
   "execution_count": 2,
   "metadata": {},
   "outputs": [],
   "source": [
    "%matplotlib inline\n",
    "import matplotlib.pyplot as plt"
   ]
  },
  {
   "cell_type": "code",
   "execution_count": 3,
   "metadata": {},
   "outputs": [],
   "source": [
    "from ipywidgets import interact"
   ]
  },
  {
   "cell_type": "code",
   "execution_count": 4,
   "metadata": {},
   "outputs": [],
   "source": [
    "from sklearn import datasets"
   ]
  },
  {
   "cell_type": "markdown",
   "metadata": {},
   "source": [
    "We will use the digits dataset from [scikit-learn](http://scikit-learn.org/stable/)."
   ]
  },
  {
   "cell_type": "code",
   "execution_count": 13,
   "metadata": {},
   "outputs": [
    {
     "data": {
      "text/plain": [
       "1797"
      ]
     },
     "execution_count": 13,
     "metadata": {},
     "output_type": "execute_result"
    }
   ],
   "source": [
    "digits = datasets.load_digits()\n",
    "len(digits.images)"
   ]
  },
  {
   "cell_type": "code",
   "execution_count": 9,
   "metadata": {},
   "outputs": [],
   "source": [
    "def browse_images(digits):\n",
    "    n = len(digits.images)\n",
    "    def view_image(i):\n",
    "        plt.imshow(digits.images[i], cmap=plt.cm.gray_r, interpolation='nearest')\n",
    "        plt.title('Training: %s' % digits.target[i])\n",
    "        plt.show()\n",
    "    interact(view_image, i=(0,n-1))"
   ]
  },
  {
   "cell_type": "code",
   "execution_count": 10,
   "metadata": {},
   "outputs": [
    {
     "data": {
      "application/vnd.jupyter.widget-view+json": {
       "model_id": "e0a99824c80f4fa8aa860f7031aab4a4",
       "version_major": 2,
       "version_minor": 0
      },
      "text/plain": [
       "interactive(children=(IntSlider(value=898, description='i', max=1796), Output()), _dom_classes=('widget-intera…"
      ]
     },
     "metadata": {},
     "output_type": "display_data"
    }
   ],
   "source": [
    "browse_images(digits)"
   ]
  },
  {
   "cell_type": "code",
   "execution_count": null,
   "metadata": {},
   "outputs": [],
   "source": []
  }
 ],
 "metadata": {
  "kernelspec": {
   "display_name": "Python 3",
   "language": "python",
   "name": "python3"
  },
  "language_info": {
   "codemirror_mode": {
    "name": "ipython",
    "version": 3
   },
   "file_extension": ".py",
   "mimetype": "text/x-python",
   "name": "python",
   "nbconvert_exporter": "python",
   "pygments_lexer": "ipython3",
   "version": "3.7.3"
  },
  "widgets": {
   "application/vnd.jupyter.widget-state+json": {
    "state": {
     "0c884f05d0cb40178320ac5b1f344029": {
      "model_module": "@jupyter-widgets/base",
      "model_module_version": "1.0.0",
      "model_name": "LayoutModel",
      "state": {}
     },
     "1461fd745aef4251b1490e6793199b18": {
      "model_module": "@jupyter-widgets/base",
      "model_module_version": "1.0.0",
      "model_name": "LayoutModel",
      "state": {}
     },
     "2bb226276ed046a78b1bfa1bf8697a7e": {
      "model_module": "@jupyter-widgets/controls",
      "model_module_version": "1.2.0",
      "model_name": "IntSliderModel",
      "state": {
       "description": "i",
       "layout": "IPY_MODEL_1461fd745aef4251b1490e6793199b18",
       "max": 1796,
       "style": "IPY_MODEL_977de331262947c1b65c80dcb44b2f4a",
       "value": 898
      }
     },
     "30147ec2f5af4428864c7ae4fa60c910": {
      "model_module": "@jupyter-widgets/base",
      "model_module_version": "1.0.0",
      "model_name": "LayoutModel",
      "state": {}
     },
     "3b0cfbf6ceb44fbfa2fac0a465020824": {
      "model_module": "@jupyter-widgets/output",
      "model_module_version": "1.0.0",
      "model_name": "OutputModel",
      "state": {
       "layout": "IPY_MODEL_0c884f05d0cb40178320ac5b1f344029",
       "outputs": [
        {
         "data": {
          "image/png": "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\n",
          "text/plain": "<Figure size 432x288 with 1 Axes>"
         },
         "metadata": {},
         "output_type": "display_data"
        }
       ]
      }
     },
     "977de331262947c1b65c80dcb44b2f4a": {
      "model_module": "@jupyter-widgets/controls",
      "model_module_version": "1.2.0",
      "model_name": "SliderStyleModel",
      "state": {
       "description_width": ""
      }
     },
     "a3d01c363bae49fdbdc10b9c8d6b6218": {
      "model_module": "@jupyter-widgets/controls",
      "model_module_version": "1.2.0",
      "model_name": "VBoxModel",
      "state": {
       "_dom_classes": [
        "widget-interact"
       ],
       "children": [
        "IPY_MODEL_2bb226276ed046a78b1bfa1bf8697a7e",
        "IPY_MODEL_3b0cfbf6ceb44fbfa2fac0a465020824"
       ],
       "layout": "IPY_MODEL_30147ec2f5af4428864c7ae4fa60c910"
      }
     }
    },
    "version_major": 2,
    "version_minor": 0
   }
  }
 },
 "nbformat": 4,
 "nbformat_minor": 1
}
