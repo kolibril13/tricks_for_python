{
 "cells": [
  {
   "cell_type": "code",
   "execution_count": 1,
   "metadata": {},
   "outputs": [],
   "source": [
    "from ipywidgets import *"
   ]
  },
  {
   "cell_type": "markdown",
   "metadata": {},
   "source": [
    "**1.** `VBox(HBox)`"
   ]
  },
  {
   "cell_type": "code",
   "execution_count": 2,
   "metadata": {},
   "outputs": [
    {
     "data": {
      "application/vnd.jupyter.widget-view+json": {
       "model_id": "5f504fa288de4af88fa9dff3f773c386",
       "version_major": 2,
       "version_minor": 0
      },
      "text/plain": [
       "VBox(children=(HBox(children=(VBox(children=(Dropdown(description='Choice', options=('foo', 'bar'), value='foo…"
      ]
     },
     "metadata": {},
     "output_type": "display_data"
    }
   ],
   "source": [
    "VBox([HBox([VBox([Dropdown(description='Choice', options=['foo', 'bar']), \n",
    "                  ColorPicker(description='Color'), \n",
    "                  HBox([Button(), Button()])]), \n",
    "            Textarea(value=\"Lorem ipsum dolor sit amet, consectetur adipiscing elit,\"\n",
    "\"sed do eiusmod tempor incididunt ut labore et dolore magna aliqua. \"\n",
    "\"Ut enim ad minim veniam, quis nostrud exercitation ullamco laboris \"\n",
    "\"nisi ut aliquip ex ea commodo consequat. Duis aute irure dolor in \"\n",
    "\"reprehenderit in voluptate velit esse cillum dolore eu fugiat nulla \"\n",
    "\"pariatur. Excepteur sint occaecat cupidatat non proident, sunt in culpa \"\n",
    "\"qui officia deserunt mollit anim id est laborum.\")]),\n",
    "      HBox([Text(), Checkbox(description='Check box')]), \n",
    "      IntSlider(), \n",
    "      Controller()], background_color='#EEE')"
   ]
  },
  {
   "cell_type": "markdown",
   "metadata": {},
   "source": [
    "**2.** `HBox(VBox)`"
   ]
  },
  {
   "cell_type": "code",
   "execution_count": 3,
   "metadata": {},
   "outputs": [
    {
     "data": {
      "application/vnd.jupyter.widget-view+json": {
       "model_id": "0c7acb19852640718e5de96749aa01fd",
       "version_major": 2,
       "version_minor": 0
      },
      "text/plain": [
       "HBox(children=(VBox(children=(Button(description='Press', style=ButtonStyle()), Dropdown(options=('a', 'b'), v…"
      ]
     },
     "metadata": {},
     "output_type": "display_data"
    }
   ],
   "source": [
    "HBox([VBox([Button(description='Press'), Dropdown(options=['a', 'b']), Button(description='Button')]), \n",
    "      VBox([Button(), Checkbox(), IntText()])], background_color='#EEE')"
   ]
  },
  {
   "cell_type": "markdown",
   "metadata": {},
   "source": [
    "**3.** `VBox(HBox)` width sliders, range sliders and progress bars"
   ]
  },
  {
   "cell_type": "code",
   "execution_count": 4,
   "metadata": {},
   "outputs": [
    {
     "data": {
      "application/vnd.jupyter.widget-view+json": {
       "model_id": "c6f81ff5d405494a9b2050acca15bec5",
       "version_major": 2,
       "version_minor": 0
      },
      "text/plain": [
       "VBox(children=(HBox(children=(Button(style=ButtonStyle()), FloatRangeSlider(value=(25.0, 75.0)), Text(value=''…"
      ]
     },
     "metadata": {},
     "output_type": "display_data"
    }
   ],
   "source": [
    "VBox([HBox([Button(), FloatRangeSlider(), Text(), Button()]), \n",
    "      HBox([Button(), FloatText(),\n",
    "            FloatProgress(value=40), Checkbox(description='Check')]), \n",
    "      HBox([ToggleButton(), IntSlider(description='Foobar'),\n",
    "            Dropdown(options=['foo', 'bar']), Valid()]),\n",
    "     ])"
   ]
  },
  {
   "cell_type": "markdown",
   "metadata": {},
   "source": [
    "**4.** Dropdown resize"
   ]
  },
  {
   "cell_type": "code",
   "execution_count": 5,
   "metadata": {},
   "outputs": [
    {
     "data": {
      "application/vnd.jupyter.widget-view+json": {
       "model_id": "1f429aafc45a42a194822fe143ebe81a",
       "version_major": 2,
       "version_minor": 0
      },
      "text/plain": [
       "Dropdown(description='Foobar', options=('foo', 'bar'), value='foo')"
      ]
     },
     "metadata": {},
     "output_type": "display_data"
    }
   ],
   "source": [
    "dd = Dropdown(description='Foobar', options=['foo', 'bar'])\n",
    "dd"
   ]
  },
  {
   "cell_type": "code",
   "execution_count": 6,
   "metadata": {},
   "outputs": [],
   "source": [
    "dd.layout.width = '148px'"
   ]
  },
  {
   "cell_type": "code",
   "execution_count": 7,
   "metadata": {},
   "outputs": [],
   "source": [
    "cp = ColorPicker(description='foobar')"
   ]
  },
  {
   "cell_type": "markdown",
   "metadata": {},
   "source": [
    "**5.** Colorpicker alignment, concise and long version"
   ]
  },
  {
   "cell_type": "code",
   "execution_count": 8,
   "metadata": {},
   "outputs": [
    {
     "data": {
      "application/vnd.jupyter.widget-view+json": {
       "model_id": "fb7a9b186f19421ca1db6a1cb94c853e",
       "version_major": 2,
       "version_minor": 0
      },
      "text/plain": [
       "VBox(children=(HBox(children=(Dropdown(options=('foo', 'bar'), value='foo'), Button(description='Button', styl…"
      ]
     },
     "metadata": {},
     "output_type": "display_data"
    }
   ],
   "source": [
    "VBox([HBox([Dropdown(width='148px', options=['foo', 'bar']),\n",
    "            Button(description='Button')]), cp, HBox([Button(), Button()])])"
   ]
  },
  {
   "cell_type": "code",
   "execution_count": 9,
   "metadata": {},
   "outputs": [],
   "source": [
    "cp.concise = True"
   ]
  },
  {
   "cell_type": "code",
   "execution_count": 10,
   "metadata": {},
   "outputs": [],
   "source": [
    "cp.concise = False"
   ]
  },
  {
   "cell_type": "code",
   "execution_count": 11,
   "metadata": {},
   "outputs": [],
   "source": [
    "cp2 = ColorPicker()"
   ]
  },
  {
   "cell_type": "code",
   "execution_count": 12,
   "metadata": {},
   "outputs": [
    {
     "data": {
      "application/vnd.jupyter.widget-view+json": {
       "model_id": "0695d40f2a9f46d790ad7c7f0386ead8",
       "version_major": 2,
       "version_minor": 0
      },
      "text/plain": [
       "VBox(children=(HBox(children=(Button(style=ButtonStyle()), Button(style=ButtonStyle()))), ColorPicker(value='b…"
      ]
     },
     "metadata": {},
     "output_type": "display_data"
    }
   ],
   "source": [
    "VBox([HBox([Button(), Button()]), cp2])"
   ]
  },
  {
   "cell_type": "code",
   "execution_count": 13,
   "metadata": {},
   "outputs": [],
   "source": [
    "cp2.concise = True"
   ]
  },
  {
   "cell_type": "code",
   "execution_count": 14,
   "metadata": {},
   "outputs": [],
   "source": [
    "cp2.concise = False"
   ]
  },
  {
   "cell_type": "markdown",
   "metadata": {},
   "source": [
    "**6.** Vertical slider and progress bar alignment and resize"
   ]
  },
  {
   "cell_type": "code",
   "execution_count": 15,
   "metadata": {},
   "outputs": [
    {
     "data": {
      "application/vnd.jupyter.widget-view+json": {
       "model_id": "78d05836530e41f6a3508d31839a8680",
       "version_major": 2,
       "version_minor": 0
      },
      "text/plain": [
       "HBox(children=(IntSlider(value=0, description='Slider', orientation='vertical'), FloatProgress(value=50.0, des…"
      ]
     },
     "metadata": {},
     "output_type": "display_data"
    }
   ],
   "source": [
    "HBox([IntSlider(description='Slider', orientation='vertical', height='200px'),\n",
    "      FloatProgress(description='Progress', value=50, orientation='vertical', height='200px')])"
   ]
  },
  {
   "cell_type": "code",
   "execution_count": 16,
   "metadata": {},
   "outputs": [
    {
     "data": {
      "application/vnd.jupyter.widget-view+json": {
       "model_id": "1879a7b4b1be4f1f87a25a4bb4e979fb",
       "version_major": 2,
       "version_minor": 0
      },
      "text/plain": [
       "HBox(children=(IntSlider(value=0, description='Slider', orientation='vertical'), FloatProgress(value=50.0, des…"
      ]
     },
     "metadata": {},
     "output_type": "display_data"
    }
   ],
   "source": [
    "HBox([IntSlider(description='Slider', orientation='vertical'),\n",
    "      FloatProgress(description='Progress', value=50, orientation='vertical')])"
   ]
  },
  {
   "cell_type": "markdown",
   "metadata": {},
   "source": [
    "**7.** Tabs\n",
    "\n"
   ]
  },
  {
   "cell_type": "code",
   "execution_count": 17,
   "metadata": {},
   "outputs": [
    {
     "data": {
      "application/vnd.jupyter.widget-view+json": {
       "model_id": "afca3c81e33b4e07aa86b631a453f6c8",
       "version_major": 2,
       "version_minor": 0
      },
      "text/plain": [
       "Tab(children=(FloatText(value=0.0), IntSlider(value=0)), _titles={0: 'Text', 1: 'Slider'})"
      ]
     },
     "metadata": {},
     "output_type": "display_data"
    }
   ],
   "source": [
    "t = Tab(children=[FloatText(), IntSlider()], _titles={0: 'Text', 1: 'Slider'})\n",
    "t"
   ]
  },
  {
   "cell_type": "code",
   "execution_count": 18,
   "metadata": {},
   "outputs": [],
   "source": [
    "t.selected_index = 1"
   ]
  },
  {
   "cell_type": "code",
   "execution_count": null,
   "metadata": {},
   "outputs": [],
   "source": []
  }
 ],
 "metadata": {
  "kernelspec": {
   "display_name": "Python 3",
   "language": "python",
   "name": "python3"
  },
  "language_info": {
   "codemirror_mode": {
    "name": "ipython",
    "version": 3
   },
   "file_extension": ".py",
   "mimetype": "text/x-python",
   "name": "python",
   "nbconvert_exporter": "python",
   "pygments_lexer": "ipython3",
   "version": "3.6.4"
  },
  "widgets": {
   "application/vnd.jupyter.widget-state+json": {
    "state": {
     "02527e57431148cb8be08db1445754ff": {
      "model_module": "@jupyter-widgets/controls",
      "model_module_version": "1.2.0",
      "model_name": "VBoxModel",
      "state": {
       "children": [
        "IPY_MODEL_bf973c9e6ce74e51a334274229880f5d",
        "IPY_MODEL_ccb7ba83da22452aae1c9d23d6fb52cb",
        "IPY_MODEL_27a9c3a738764be8bcb2cf75b8d2c14d"
       ],
       "layout": "IPY_MODEL_91d1c6e37fe14797b02d4a5a8a833d51"
      }
     },
     "05c4d48e5b184c4aa8012c974cc508d0": {
      "model_module": "@jupyter-widgets/base",
      "model_module_version": "1.0.0",
      "model_name": "LayoutModel",
      "state": {}
     },
     "0695d40f2a9f46d790ad7c7f0386ead8": {
      "model_module": "@jupyter-widgets/controls",
      "model_module_version": "1.2.0",
      "model_name": "VBoxModel",
      "state": {
       "children": [
        "IPY_MODEL_096afded40bf4426865fd0ddfec923af",
        "IPY_MODEL_76250b9b42344fc8be3180c03da15d69"
       ],
       "layout": "IPY_MODEL_b8b6afdfe4c04e328a0c9408f77873d5"
      }
     },
     "096afded40bf4426865fd0ddfec923af": {
      "model_module": "@jupyter-widgets/controls",
      "model_module_version": "1.2.0",
      "model_name": "HBoxModel",
      "state": {
       "children": [
        "IPY_MODEL_5d82491e16724c48b17356a858b8b305",
        "IPY_MODEL_fdd4bef668384dc48dadbed18b5af954"
       ],
       "layout": "IPY_MODEL_4e9a3b9b1324449b80c509b1878f865d"
      }
     },
     "0c7acb19852640718e5de96749aa01fd": {
      "model_module": "@jupyter-widgets/controls",
      "model_module_version": "1.2.0",
      "model_name": "HBoxModel",
      "state": {
       "children": [
        "IPY_MODEL_02527e57431148cb8be08db1445754ff",
        "IPY_MODEL_1f887bc5bdef4d7f95c0bad421ba2c58"
       ],
       "layout": "IPY_MODEL_45e2cc7465144bd1a65e3d1a90c55f20"
      }
     },
     "105d56a595cd443aace286cd33c87a9f": {
      "model_module": "@jupyter-widgets/controls",
      "model_module_version": "1.2.0",
      "model_name": "ProgressStyleModel",
      "state": {
       "description_width": ""
      }
     },
     "11718b79f8df4845bf642f3f0413c3ef": {
      "model_module": "@jupyter-widgets/base",
      "model_module_version": "1.0.0",
      "model_name": "LayoutModel",
      "state": {}
     },
     "155b2b61ce66430fb37b3e4cdf32c52c": {
      "model_module": "@jupyter-widgets/base",
      "model_module_version": "1.0.0",
      "model_name": "LayoutModel",
      "state": {}
     },
     "176db601df194a84aacc2b522142e833": {
      "model_module": "@jupyter-widgets/controls",
      "model_module_version": "1.2.0",
      "model_name": "FloatProgressModel",
      "state": {
       "description": "Progress",
       "layout": "IPY_MODEL_2d4f4c773ec74aecbc706d704f1453e0",
       "orientation": "vertical",
       "style": "IPY_MODEL_2228d226e3bf4f68ab0e582569207b0d",
       "value": 50
      }
     },
     "17b13ad8f6e34a57bd9508c882088aab": {
      "model_module": "@jupyter-widgets/controls",
      "model_module_version": "1.2.0",
      "model_name": "CheckboxModel",
      "state": {
       "description": "Check box",
       "disabled": false,
       "layout": "IPY_MODEL_d9c54e88bdcd49cb8497e822c6ce1f20",
       "style": "IPY_MODEL_9841732d94a340a691763c28a4a102ac",
       "value": false
      }
     },
     "17cf87c474124ad6ad4b08762f567cf9": {
      "model_module": "@jupyter-widgets/base",
      "model_module_version": "1.0.0",
      "model_name": "LayoutModel",
      "state": {}
     },
     "1879a7b4b1be4f1f87a25a4bb4e979fb": {
      "model_module": "@jupyter-widgets/controls",
      "model_module_version": "1.2.0",
      "model_name": "HBoxModel",
      "state": {
       "children": [
        "IPY_MODEL_c0bc77869efa41a0a3897a13d1f13cfc",
        "IPY_MODEL_176db601df194a84aacc2b522142e833"
       ],
       "layout": "IPY_MODEL_47b4cffa72f94670a66090901433a56a"
      }
     },
     "18ad4cd72aab43c7bbfcca87876edc8e": {
      "model_module": "@jupyter-widgets/controls",
      "model_module_version": "1.2.0",
      "model_name": "ColorPickerModel",
      "state": {
       "description": "foobar",
       "disabled": false,
       "layout": "IPY_MODEL_8dd72f4048b34b70941ddf6efc0a04ac",
       "style": "IPY_MODEL_e912bba21e0f4206b97c908f43876f23"
      }
     },
     "1f429aafc45a42a194822fe143ebe81a": {
      "model_module": "@jupyter-widgets/controls",
      "model_module_version": "1.2.0",
      "model_name": "DropdownModel",
      "state": {
       "_options_labels": [
        "foo",
        "bar"
       ],
       "description": "Foobar",
       "index": 0,
       "layout": "IPY_MODEL_3341dcd90b204617813acf74d81b8dc8",
       "style": "IPY_MODEL_a3242cebc6f441a29b7323f1d63cc495"
      }
     },
     "1f887bc5bdef4d7f95c0bad421ba2c58": {
      "model_module": "@jupyter-widgets/controls",
      "model_module_version": "1.2.0",
      "model_name": "VBoxModel",
      "state": {
       "children": [
        "IPY_MODEL_31b34bc2f3074352b9fb7ced12485249",
        "IPY_MODEL_561e59609f694e9bafc6ef74e488a9c7",
        "IPY_MODEL_bcc214fc64a74a838dc184724fb33a7f"
       ],
       "layout": "IPY_MODEL_71958d87ebce4b4094eb738b628d95ec"
      }
     },
     "1f92c53ab84447c19c5d8ce7ed4ae7a1": {
      "model_module": "@jupyter-widgets/controls",
      "model_module_version": "1.2.0",
      "model_name": "ButtonModel",
      "state": {
       "layout": "IPY_MODEL_250b4c66183e4c7688ac84a1dbdf097d",
       "style": "IPY_MODEL_d65474dd273f42a58ec40a43eaba5610"
      }
     },
     "2077425867db4c28b06c72d48cbd87ab": {
      "model_module": "@jupyter-widgets/controls",
      "model_module_version": "1.2.0",
      "model_name": "ColorPickerModel",
      "state": {
       "description": "Color",
       "disabled": false,
       "layout": "IPY_MODEL_6d7a4a23cf614a458dbd5c9c9151b7da",
       "style": "IPY_MODEL_bc71b7838adf48bb8ee65ec1113c8d4e"
      }
     },
     "2228d226e3bf4f68ab0e582569207b0d": {
      "model_module": "@jupyter-widgets/controls",
      "model_module_version": "1.2.0",
      "model_name": "ProgressStyleModel",
      "state": {
       "description_width": ""
      }
     },
     "250b4c66183e4c7688ac84a1dbdf097d": {
      "model_module": "@jupyter-widgets/base",
      "model_module_version": "1.0.0",
      "model_name": "LayoutModel",
      "state": {}
     },
     "26ceaa4e64ca45c0bb0527eeb8f1fb15": {
      "model_module": "@jupyter-widgets/controls",
      "model_module_version": "1.2.0",
      "model_name": "ButtonStyleModel",
      "state": {}
     },
     "27a9c3a738764be8bcb2cf75b8d2c14d": {
      "model_module": "@jupyter-widgets/controls",
      "model_module_version": "1.2.0",
      "model_name": "ButtonModel",
      "state": {
       "description": "Button",
       "layout": "IPY_MODEL_c8cb81909b704de08e94d5773b27b958",
       "style": "IPY_MODEL_ee3606bf8bf84b0197cbf55ed5e8d62b"
      }
     },
     "29193219a7814497b68a4b9ece564507": {
      "model_module": "@jupyter-widgets/base",
      "model_module_version": "1.0.0",
      "model_name": "LayoutModel",
      "state": {}
     },
     "2bba433b1e814352a165076b888363da": {
      "model_module": "@jupyter-widgets/controls",
      "model_module_version": "1.2.0",
      "model_name": "HBoxModel",
      "state": {
       "children": [
        "IPY_MODEL_714e4cfc10a04ed9962c13f5a7fcd029",
        "IPY_MODEL_b0e5a34184a34bd2a02214b71beec69a"
       ],
       "layout": "IPY_MODEL_644eb88997be4c25839a61b7e58ea706"
      }
     },
     "2c72b8a89bf74cb8bd7799bc7024c888": {
      "model_module": "@jupyter-widgets/controls",
      "model_module_version": "1.2.0",
      "model_name": "IntSliderModel",
      "state": {
       "description": "Slider",
       "layout": "IPY_MODEL_e49a4c21fe934f789bca3dcc76b8867d",
       "orientation": "vertical",
       "style": "IPY_MODEL_5fc83df371124779b83244bc4e43170e"
      }
     },
     "2d4f4c773ec74aecbc706d704f1453e0": {
      "model_module": "@jupyter-widgets/base",
      "model_module_version": "1.0.0",
      "model_name": "LayoutModel",
      "state": {}
     },
     "31b34bc2f3074352b9fb7ced12485249": {
      "model_module": "@jupyter-widgets/controls",
      "model_module_version": "1.2.0",
      "model_name": "ButtonModel",
      "state": {
       "layout": "IPY_MODEL_11718b79f8df4845bf642f3f0413c3ef",
       "style": "IPY_MODEL_8ec1da4542a64b18a0357c98698d3404"
      }
     },
     "31ef7fb64f3941cbae877b1e74ee1492": {
      "model_module": "@jupyter-widgets/controls",
      "model_module_version": "1.2.0",
      "model_name": "ButtonStyleModel",
      "state": {}
     },
     "3341dcd90b204617813acf74d81b8dc8": {
      "model_module": "@jupyter-widgets/base",
      "model_module_version": "1.0.0",
      "model_name": "LayoutModel",
      "state": {
       "width": "148px"
      }
     },
     "346aafb8dee540b1b8a0803704ec8da4": {
      "model_module": "@jupyter-widgets/base",
      "model_module_version": "1.0.0",
      "model_name": "LayoutModel",
      "state": {}
     },
     "35c25783b7754284a1b24bdcf1857597": {
      "model_module": "@jupyter-widgets/base",
      "model_module_version": "1.0.0",
      "model_name": "LayoutModel",
      "state": {}
     },
     "35f8f96175dd4c5fab9013e0f5a4d51f": {
      "model_module": "@jupyter-widgets/base",
      "model_module_version": "1.0.0",
      "model_name": "LayoutModel",
      "state": {}
     },
     "3922506363524c74a059886579f0d6d3": {
      "model_module": "@jupyter-widgets/controls",
      "model_module_version": "1.2.0",
      "model_name": "FloatTextModel",
      "state": {
       "layout": "IPY_MODEL_17cf87c474124ad6ad4b08762f567cf9",
       "step": null,
       "style": "IPY_MODEL_98facabe155d476d8e3d5d93de176b46"
      }
     },
     "39dbd6aa6c8240ee8ecff2bc347ed2fe": {
      "model_module": "@jupyter-widgets/base",
      "model_module_version": "1.0.0",
      "model_name": "LayoutModel",
      "state": {}
     },
     "3a8dee136aee4a9485d794fa4d4b2700": {
      "model_module": "@jupyter-widgets/controls",
      "model_module_version": "1.2.0",
      "model_name": "ButtonModel",
      "state": {
       "layout": "IPY_MODEL_9012c288b51c4850bb73b3234377f0bf",
       "style": "IPY_MODEL_53ad90a59f334e61bd0795ba603b36ec"
      }
     },
     "3b78cd8e8eb7410394895dbfbae2675d": {
      "model_module": "@jupyter-widgets/base",
      "model_module_version": "1.0.0",
      "model_name": "LayoutModel",
      "state": {}
     },
     "3cbe45d79aeb4d16a15499ec977b421a": {
      "model_module": "@jupyter-widgets/controls",
      "model_module_version": "1.2.0",
      "model_name": "HBoxModel",
      "state": {
       "children": [
        "IPY_MODEL_1f92c53ab84447c19c5d8ce7ed4ae7a1",
        "IPY_MODEL_deeec0f9363a46a292b85ebe24b0bc10",
        "IPY_MODEL_c34d7888cb23490691bf2685a7dce4c8",
        "IPY_MODEL_6d02dfc1e6214567b6377ed1bb7ca888"
       ],
       "layout": "IPY_MODEL_9c08caa27e854f5b8212180f702204d2"
      }
     },
     "3ed32a7461b2499fbafd090f5369fe2f": {
      "model_module": "@jupyter-widgets/controls",
      "model_module_version": "1.2.0",
      "model_name": "DropdownModel",
      "state": {
       "_options_labels": [
        "foo",
        "bar"
       ],
       "description": "Choice",
       "index": 0,
       "layout": "IPY_MODEL_4f2e285a3f3d461a8250759230bc3d79",
       "style": "IPY_MODEL_91ec1c36b69f40faabf20af7933168d8"
      }
     },
     "3f89f02c6b2e401fb7f61e807a54049a": {
      "model_module": "@jupyter-widgets/base",
      "model_module_version": "1.0.0",
      "model_name": "LayoutModel",
      "state": {}
     },
     "3fd486050d1445b9877b235ccbad8bce": {
      "model_module": "@jupyter-widgets/base",
      "model_module_version": "1.0.0",
      "model_name": "LayoutModel",
      "state": {}
     },
     "45e2cc7465144bd1a65e3d1a90c55f20": {
      "model_module": "@jupyter-widgets/base",
      "model_module_version": "1.0.0",
      "model_name": "LayoutModel",
      "state": {}
     },
     "46fa1f2972af42de987834cfe5e9c7e1": {
      "model_module": "@jupyter-widgets/controls",
      "model_module_version": "1.2.0",
      "model_name": "FloatTextModel",
      "state": {
       "layout": "IPY_MODEL_f10302471b6e4dd3856a9f832c00c9e1",
       "step": null,
       "style": "IPY_MODEL_4c110c44d7e4485caa14a5e41e4f1daf"
      }
     },
     "4754cde6c4ea4b1faea010c4700e0f5a": {
      "model_module": "@jupyter-widgets/controls",
      "model_module_version": "1.2.0",
      "model_name": "DescriptionStyleModel",
      "state": {
       "description_width": ""
      }
     },
     "47b4cffa72f94670a66090901433a56a": {
      "model_module": "@jupyter-widgets/base",
      "model_module_version": "1.0.0",
      "model_name": "LayoutModel",
      "state": {}
     },
     "489d7b39792c4c6d8ff190a3e3d7789c": {
      "model_module": "@jupyter-widgets/controls",
      "model_module_version": "1.2.0",
      "model_name": "TextModel",
      "state": {
       "layout": "IPY_MODEL_8b943fa2d7f1485d9d011a1a185be4a3",
       "style": "IPY_MODEL_d7e04aa1a59e4717979ad68da2cb88e4"
      }
     },
     "4a6c762fee274cfc83c475319806332c": {
      "model_module": "@jupyter-widgets/controls",
      "model_module_version": "1.2.0",
      "model_name": "ButtonModel",
      "state": {
       "layout": "IPY_MODEL_39dbd6aa6c8240ee8ecff2bc347ed2fe",
       "style": "IPY_MODEL_8e57aef5838b49bca2cb0902a45b3228"
      }
     },
     "4c110c44d7e4485caa14a5e41e4f1daf": {
      "model_module": "@jupyter-widgets/controls",
      "model_module_version": "1.2.0",
      "model_name": "DescriptionStyleModel",
      "state": {
       "description_width": ""
      }
     },
     "4d2e6faf13b749089dc78f3bd3a9d203": {
      "model_module": "@jupyter-widgets/controls",
      "model_module_version": "1.2.0",
      "model_name": "ButtonStyleModel",
      "state": {}
     },
     "4e9a3b9b1324449b80c509b1878f865d": {
      "model_module": "@jupyter-widgets/base",
      "model_module_version": "1.0.0",
      "model_name": "LayoutModel",
      "state": {}
     },
     "4f2e285a3f3d461a8250759230bc3d79": {
      "model_module": "@jupyter-widgets/base",
      "model_module_version": "1.0.0",
      "model_name": "LayoutModel",
      "state": {}
     },
     "5326b2e4ed0d477bb7adb844c3b5422d": {
      "model_module": "@jupyter-widgets/controls",
      "model_module_version": "1.2.0",
      "model_name": "SliderStyleModel",
      "state": {
       "description_width": ""
      }
     },
     "53ad90a59f334e61bd0795ba603b36ec": {
      "model_module": "@jupyter-widgets/controls",
      "model_module_version": "1.2.0",
      "model_name": "ButtonStyleModel",
      "state": {}
     },
     "5444e30d220f4672ab2ff9b173f652b3": {
      "model_module": "@jupyter-widgets/base",
      "model_module_version": "1.0.0",
      "model_name": "LayoutModel",
      "state": {}
     },
     "561e59609f694e9bafc6ef74e488a9c7": {
      "model_module": "@jupyter-widgets/controls",
      "model_module_version": "1.2.0",
      "model_name": "CheckboxModel",
      "state": {
       "disabled": false,
       "layout": "IPY_MODEL_6100a973e9564b9d9eab288cfe565a63",
       "style": "IPY_MODEL_c34739fcf2714967a604b345059bab66",
       "value": false
      }
     },
     "5c19911fde3f4d1984247db949370caf": {
      "model_module": "@jupyter-widgets/controls",
      "model_module_version": "1.2.0",
      "model_name": "ProgressStyleModel",
      "state": {
       "description_width": ""
      }
     },
     "5d14e3a60ea24c31b423bb6ed58dfc75": {
      "model_module": "@jupyter-widgets/controls",
      "model_module_version": "1.2.0",
      "model_name": "DescriptionStyleModel",
      "state": {
       "description_width": ""
      }
     },
     "5d82491e16724c48b17356a858b8b305": {
      "model_module": "@jupyter-widgets/controls",
      "model_module_version": "1.2.0",
      "model_name": "ButtonModel",
      "state": {
       "layout": "IPY_MODEL_ed2fcd1878c74a68bcd7a7f4411d4dcd",
       "style": "IPY_MODEL_eb23546ab17a4d8ca3adc347b09cd90a"
      }
     },
     "5e1ec37a9bbf41f99096932048ecd027": {
      "model_module": "@jupyter-widgets/controls",
      "model_module_version": "1.2.0",
      "model_name": "DescriptionStyleModel",
      "state": {
       "description_width": ""
      }
     },
     "5e56e918aa224f10a64b5432bc03cb58": {
      "model_module": "@jupyter-widgets/controls",
      "model_module_version": "1.2.0",
      "model_name": "TextareaModel",
      "state": {
       "layout": "IPY_MODEL_3fd486050d1445b9877b235ccbad8bce",
       "style": "IPY_MODEL_eae3f49e605f4412935923d187814156",
       "value": "Lorem ipsum dolor sit amet, consectetur adipiscing elit,sed do eiusmod tempor incididunt ut labore et dolore magna aliqua. Ut enim ad minim veniam, quis nostrud exercitation ullamco laboris nisi ut aliquip ex ea commodo consequat. Duis aute irure dolor in reprehenderit in voluptate velit esse cillum dolore eu fugiat nulla pariatur. Excepteur sint occaecat cupidatat non proident, sunt in culpa qui officia deserunt mollit anim id est laborum."
      }
     },
     "5f504fa288de4af88fa9dff3f773c386": {
      "model_module": "@jupyter-widgets/controls",
      "model_module_version": "1.2.0",
      "model_name": "VBoxModel",
      "state": {
       "children": [
        "IPY_MODEL_b9e746c0c11d45d6a21d01b085d5898d",
        "IPY_MODEL_e3f56701944d431993135f1274f57557",
        "IPY_MODEL_b6107641b7e24135b921d571856adac3",
        "IPY_MODEL_9e0c5b3f232f4469b3d36790981e1d37"
       ],
       "layout": "IPY_MODEL_c2da364a15964e368b52a86af998949c"
      }
     },
     "5fc83df371124779b83244bc4e43170e": {
      "model_module": "@jupyter-widgets/controls",
      "model_module_version": "1.2.0",
      "model_name": "SliderStyleModel",
      "state": {
       "description_width": ""
      }
     },
     "6100a973e9564b9d9eab288cfe565a63": {
      "model_module": "@jupyter-widgets/base",
      "model_module_version": "1.0.0",
      "model_name": "LayoutModel",
      "state": {}
     },
     "62be24181e634cfd9defc8b57f42c576": {
      "model_module": "@jupyter-widgets/base",
      "model_module_version": "1.0.0",
      "model_name": "LayoutModel",
      "state": {}
     },
     "62c3befb145c47e49f34ac6dbeab6283": {
      "model_module": "@jupyter-widgets/controls",
      "model_module_version": "1.2.0",
      "model_name": "ButtonStyleModel",
      "state": {}
     },
     "644eb88997be4c25839a61b7e58ea706": {
      "model_module": "@jupyter-widgets/base",
      "model_module_version": "1.0.0",
      "model_name": "LayoutModel",
      "state": {}
     },
     "69195ae203d94d19ae6643b4be9cf997": {
      "model_module": "@jupyter-widgets/controls",
      "model_module_version": "1.2.0",
      "model_name": "IntSliderModel",
      "state": {
       "layout": "IPY_MODEL_d8dc32176aec412a875818072b4d9ea3",
       "style": "IPY_MODEL_fa74fd7c9a2a45e48209560a6d5094a4"
      }
     },
     "6d02dfc1e6214567b6377ed1bb7ca888": {
      "model_module": "@jupyter-widgets/controls",
      "model_module_version": "1.2.0",
      "model_name": "ButtonModel",
      "state": {
       "layout": "IPY_MODEL_a146295aaa464ed1ba13d5a2e80cb816",
       "style": "IPY_MODEL_786610cb378c4f4daed72fd37d692768"
      }
     },
     "6d7a4a23cf614a458dbd5c9c9151b7da": {
      "model_module": "@jupyter-widgets/base",
      "model_module_version": "1.0.0",
      "model_name": "LayoutModel",
      "state": {}
     },
     "6e5408f514094c14907bcf7350d1647f": {
      "model_module": "@jupyter-widgets/base",
      "model_module_version": "1.0.0",
      "model_name": "LayoutModel",
      "state": {}
     },
     "714e4cfc10a04ed9962c13f5a7fcd029": {
      "model_module": "@jupyter-widgets/controls",
      "model_module_version": "1.2.0",
      "model_name": "ButtonModel",
      "state": {
       "layout": "IPY_MODEL_99ac09f6e9ed4df298eb8d02c5c881d8",
       "style": "IPY_MODEL_31ef7fb64f3941cbae877b1e74ee1492"
      }
     },
     "71958d87ebce4b4094eb738b628d95ec": {
      "model_module": "@jupyter-widgets/base",
      "model_module_version": "1.0.0",
      "model_name": "LayoutModel",
      "state": {}
     },
     "72f7b787157e4a139bf2ae0cf1fb2ea8": {
      "model_module": "@jupyter-widgets/base",
      "model_module_version": "1.0.0",
      "model_name": "LayoutModel",
      "state": {}
     },
     "76250b9b42344fc8be3180c03da15d69": {
      "model_module": "@jupyter-widgets/controls",
      "model_module_version": "1.2.0",
      "model_name": "ColorPickerModel",
      "state": {
       "disabled": false,
       "layout": "IPY_MODEL_9b6e658af6d84602ac9c0bca401aed7c",
       "style": "IPY_MODEL_8bc7ed2a4bd94095b8b83def4e22cddb"
      }
     },
     "786610cb378c4f4daed72fd37d692768": {
      "model_module": "@jupyter-widgets/controls",
      "model_module_version": "1.2.0",
      "model_name": "ButtonStyleModel",
      "state": {}
     },
     "78d05836530e41f6a3508d31839a8680": {
      "model_module": "@jupyter-widgets/controls",
      "model_module_version": "1.2.0",
      "model_name": "HBoxModel",
      "state": {
       "children": [
        "IPY_MODEL_2c72b8a89bf74cb8bd7799bc7024c888",
        "IPY_MODEL_d584db30954241e6bce1e2cffcef7d6b"
       ],
       "layout": "IPY_MODEL_dbae44c316034ab9b0dbbc14ba44748b"
      }
     },
     "7a09eb1f1c9d4ee9ac8e362a410b00a5": {
      "model_module": "@jupyter-widgets/base",
      "model_module_version": "1.0.0",
      "model_name": "LayoutModel",
      "state": {}
     },
     "7b958dc02a0842aa9434819838dbf721": {
      "model_module": "@jupyter-widgets/controls",
      "model_module_version": "1.2.0",
      "model_name": "ButtonModel",
      "state": {
       "layout": "IPY_MODEL_9558f94bcf9042d19a51182925b0084a",
       "style": "IPY_MODEL_88fa8b62289244eebde647725e0690ce"
      }
     },
     "8360370a1725474a9d67b48750890b47": {
      "model_module": "@jupyter-widgets/controls",
      "model_module_version": "1.2.0",
      "model_name": "HBoxModel",
      "state": {
       "children": [
        "IPY_MODEL_9f2ac653519543dca885ab65eec0c151",
        "IPY_MODEL_fa0f8c98f93742e7803165d2b1d1e8f9",
        "IPY_MODEL_b34290d6cbee454a9c5b88c4349f48f8",
        "IPY_MODEL_d0aa5e666ebc493d841cce76622aee13"
       ],
       "layout": "IPY_MODEL_9b9b5f65bcfa4b8897a464e41021861d"
      }
     },
     "848935316f5e4513b96e08f0581fa1a1": {
      "model_module": "@jupyter-widgets/controls",
      "model_module_version": "1.2.0",
      "model_name": "SliderStyleModel",
      "state": {
       "description_width": ""
      }
     },
     "868ae5401c7c4f0e8bdeb8f26d79aeeb": {
      "model_module": "@jupyter-widgets/base",
      "model_module_version": "1.0.0",
      "model_name": "LayoutModel",
      "state": {}
     },
     "8690daeed87641c0930b99259593c894": {
      "model_module": "@jupyter-widgets/base",
      "model_module_version": "1.0.0",
      "model_name": "LayoutModel",
      "state": {}
     },
     "86de4690c89543958ed8ae34f45dc67e": {
      "model_module": "@jupyter-widgets/base",
      "model_module_version": "1.0.0",
      "model_name": "LayoutModel",
      "state": {}
     },
     "88fa8b62289244eebde647725e0690ce": {
      "model_module": "@jupyter-widgets/controls",
      "model_module_version": "1.2.0",
      "model_name": "ButtonStyleModel",
      "state": {}
     },
     "8b943fa2d7f1485d9d011a1a185be4a3": {
      "model_module": "@jupyter-widgets/base",
      "model_module_version": "1.0.0",
      "model_name": "LayoutModel",
      "state": {}
     },
     "8bc7ed2a4bd94095b8b83def4e22cddb": {
      "model_module": "@jupyter-widgets/controls",
      "model_module_version": "1.2.0",
      "model_name": "DescriptionStyleModel",
      "state": {
       "description_width": ""
      }
     },
     "8dd72f4048b34b70941ddf6efc0a04ac": {
      "model_module": "@jupyter-widgets/base",
      "model_module_version": "1.0.0",
      "model_name": "LayoutModel",
      "state": {}
     },
     "8e57aef5838b49bca2cb0902a45b3228": {
      "model_module": "@jupyter-widgets/controls",
      "model_module_version": "1.2.0",
      "model_name": "ButtonStyleModel",
      "state": {}
     },
     "8ec1da4542a64b18a0357c98698d3404": {
      "model_module": "@jupyter-widgets/controls",
      "model_module_version": "1.2.0",
      "model_name": "ButtonStyleModel",
      "state": {}
     },
     "8f9929e7ee444fcda3fea3812f73c73f": {
      "model_module": "@jupyter-widgets/controls",
      "model_module_version": "1.2.0",
      "model_name": "HBoxModel",
      "state": {
       "children": [
        "IPY_MODEL_c55428ced5d649b1bb76213bfc9058ca",
        "IPY_MODEL_c11832f3b6e84486a0eafc7868cefd44"
       ],
       "layout": "IPY_MODEL_965c07a7729c4b68bbe8963df508b26e"
      }
     },
     "9012c288b51c4850bb73b3234377f0bf": {
      "model_module": "@jupyter-widgets/base",
      "model_module_version": "1.0.0",
      "model_name": "LayoutModel",
      "state": {}
     },
     "918f80687d6143fba4048b7d7dbd52a9": {
      "model_module": "@jupyter-widgets/base",
      "model_module_version": "1.0.0",
      "model_name": "LayoutModel",
      "state": {}
     },
     "91d1c6e37fe14797b02d4a5a8a833d51": {
      "model_module": "@jupyter-widgets/base",
      "model_module_version": "1.0.0",
      "model_name": "LayoutModel",
      "state": {}
     },
     "91ec1c36b69f40faabf20af7933168d8": {
      "model_module": "@jupyter-widgets/controls",
      "model_module_version": "1.2.0",
      "model_name": "DescriptionStyleModel",
      "state": {
       "description_width": ""
      }
     },
     "9558f94bcf9042d19a51182925b0084a": {
      "model_module": "@jupyter-widgets/base",
      "model_module_version": "1.0.0",
      "model_name": "LayoutModel",
      "state": {}
     },
     "965c07a7729c4b68bbe8963df508b26e": {
      "model_module": "@jupyter-widgets/base",
      "model_module_version": "1.0.0",
      "model_name": "LayoutModel",
      "state": {}
     },
     "9841732d94a340a691763c28a4a102ac": {
      "model_module": "@jupyter-widgets/controls",
      "model_module_version": "1.2.0",
      "model_name": "DescriptionStyleModel",
      "state": {
       "description_width": ""
      }
     },
     "98facabe155d476d8e3d5d93de176b46": {
      "model_module": "@jupyter-widgets/controls",
      "model_module_version": "1.2.0",
      "model_name": "DescriptionStyleModel",
      "state": {
       "description_width": ""
      }
     },
     "99ac09f6e9ed4df298eb8d02c5c881d8": {
      "model_module": "@jupyter-widgets/base",
      "model_module_version": "1.0.0",
      "model_name": "LayoutModel",
      "state": {}
     },
     "9b6e658af6d84602ac9c0bca401aed7c": {
      "model_module": "@jupyter-widgets/base",
      "model_module_version": "1.0.0",
      "model_name": "LayoutModel",
      "state": {}
     },
     "9b9b5f65bcfa4b8897a464e41021861d": {
      "model_module": "@jupyter-widgets/base",
      "model_module_version": "1.0.0",
      "model_name": "LayoutModel",
      "state": {}
     },
     "9c08caa27e854f5b8212180f702204d2": {
      "model_module": "@jupyter-widgets/base",
      "model_module_version": "1.0.0",
      "model_name": "LayoutModel",
      "state": {}
     },
     "9e0c5b3f232f4469b3d36790981e1d37": {
      "model_module": "@jupyter-widgets/controls",
      "model_module_version": "1.2.0",
      "model_name": "ControllerModel",
      "state": {
       "layout": "IPY_MODEL_868ae5401c7c4f0e8bdeb8f26d79aeeb"
      }
     },
     "9f2ac653519543dca885ab65eec0c151": {
      "model_module": "@jupyter-widgets/controls",
      "model_module_version": "1.2.0",
      "model_name": "ToggleButtonModel",
      "state": {
       "layout": "IPY_MODEL_86de4690c89543958ed8ae34f45dc67e",
       "style": "IPY_MODEL_e132dbccbf8648ae845167a54e18c5a6"
      }
     },
     "a146295aaa464ed1ba13d5a2e80cb816": {
      "model_module": "@jupyter-widgets/base",
      "model_module_version": "1.0.0",
      "model_name": "LayoutModel",
      "state": {}
     },
     "a3242cebc6f441a29b7323f1d63cc495": {
      "model_module": "@jupyter-widgets/controls",
      "model_module_version": "1.2.0",
      "model_name": "DescriptionStyleModel",
      "state": {
       "description_width": ""
      }
     },
     "a4152920d92946d894e53c370b4b31c8": {
      "model_module": "@jupyter-widgets/base",
      "model_module_version": "1.0.0",
      "model_name": "LayoutModel",
      "state": {}
     },
     "a55590b4ad324ab39a5c32444248b7da": {
      "model_module": "@jupyter-widgets/controls",
      "model_module_version": "1.2.0",
      "model_name": "DescriptionStyleModel",
      "state": {
       "description_width": ""
      }
     },
     "a6849f0cf3a343aeb02158e4e66c225b": {
      "model_module": "@jupyter-widgets/base",
      "model_module_version": "1.0.0",
      "model_name": "LayoutModel",
      "state": {}
     },
     "aaa3c53d46e4476d90eaa36dd9109874": {
      "model_module": "@jupyter-widgets/controls",
      "model_module_version": "1.2.0",
      "model_name": "ButtonStyleModel",
      "state": {}
     },
     "ab18698c34c94cb5a7cedaaca37535d3": {
      "model_module": "@jupyter-widgets/controls",
      "model_module_version": "1.2.0",
      "model_name": "SliderStyleModel",
      "state": {
       "description_width": ""
      }
     },
     "afca3c81e33b4e07aa86b631a453f6c8": {
      "model_module": "@jupyter-widgets/controls",
      "model_module_version": "1.2.0",
      "model_name": "TabModel",
      "state": {
       "_titles": {
        "0": "Text",
        "1": "Slider"
       },
       "children": [
        "IPY_MODEL_3922506363524c74a059886579f0d6d3",
        "IPY_MODEL_69195ae203d94d19ae6643b4be9cf997"
       ],
       "layout": "IPY_MODEL_a6849f0cf3a343aeb02158e4e66c225b",
       "selected_index": 1
      }
     },
     "b06c46d3626743a992830db52770f01e": {
      "model_module": "@jupyter-widgets/controls",
      "model_module_version": "1.2.0",
      "model_name": "DescriptionStyleModel",
      "state": {
       "description_width": ""
      }
     },
     "b0e5a34184a34bd2a02214b71beec69a": {
      "model_module": "@jupyter-widgets/controls",
      "model_module_version": "1.2.0",
      "model_name": "ButtonModel",
      "state": {
       "layout": "IPY_MODEL_35c25783b7754284a1b24bdcf1857597",
       "style": "IPY_MODEL_62c3befb145c47e49f34ac6dbeab6283"
      }
     },
     "b34290d6cbee454a9c5b88c4349f48f8": {
      "model_module": "@jupyter-widgets/controls",
      "model_module_version": "1.2.0",
      "model_name": "DropdownModel",
      "state": {
       "_options_labels": [
        "foo",
        "bar"
       ],
       "index": 0,
       "layout": "IPY_MODEL_6e5408f514094c14907bcf7350d1647f",
       "style": "IPY_MODEL_4754cde6c4ea4b1faea010c4700e0f5a"
      }
     },
     "b6107641b7e24135b921d571856adac3": {
      "model_module": "@jupyter-widgets/controls",
      "model_module_version": "1.2.0",
      "model_name": "IntSliderModel",
      "state": {
       "layout": "IPY_MODEL_918f80687d6143fba4048b7d7dbd52a9",
       "style": "IPY_MODEL_ab18698c34c94cb5a7cedaaca37535d3"
      }
     },
     "b8b6afdfe4c04e328a0c9408f77873d5": {
      "model_module": "@jupyter-widgets/base",
      "model_module_version": "1.0.0",
      "model_name": "LayoutModel",
      "state": {}
     },
     "b9e746c0c11d45d6a21d01b085d5898d": {
      "model_module": "@jupyter-widgets/controls",
      "model_module_version": "1.2.0",
      "model_name": "HBoxModel",
      "state": {
       "children": [
        "IPY_MODEL_e84b4480b2f747a4b70d2a5a1f4898f3",
        "IPY_MODEL_5e56e918aa224f10a64b5432bc03cb58"
       ],
       "layout": "IPY_MODEL_3b78cd8e8eb7410394895dbfbae2675d"
      }
     },
     "bc71b7838adf48bb8ee65ec1113c8d4e": {
      "model_module": "@jupyter-widgets/controls",
      "model_module_version": "1.2.0",
      "model_name": "DescriptionStyleModel",
      "state": {
       "description_width": ""
      }
     },
     "bc9fd48a415e4e71baf5660622cb1373": {
      "model_module": "@jupyter-widgets/controls",
      "model_module_version": "1.2.0",
      "model_name": "HBoxModel",
      "state": {
       "children": [
        "IPY_MODEL_3a8dee136aee4a9485d794fa4d4b2700",
        "IPY_MODEL_46fa1f2972af42de987834cfe5e9c7e1",
        "IPY_MODEL_d40bbe54b43f4c5f9e89aaefd29ba275",
        "IPY_MODEL_eb847672dbba47e39e12fca144b581be"
       ],
       "layout": "IPY_MODEL_c6202db300d942bf91569b0412a9ba5e"
      }
     },
     "bcc214fc64a74a838dc184724fb33a7f": {
      "model_module": "@jupyter-widgets/controls",
      "model_module_version": "1.2.0",
      "model_name": "IntTextModel",
      "state": {
       "layout": "IPY_MODEL_5444e30d220f4672ab2ff9b173f652b3",
       "step": 1,
       "style": "IPY_MODEL_e7301fca9b194acbb3219a443912b2b4"
      }
     },
     "bf973c9e6ce74e51a334274229880f5d": {
      "model_module": "@jupyter-widgets/controls",
      "model_module_version": "1.2.0",
      "model_name": "ButtonModel",
      "state": {
       "description": "Press",
       "layout": "IPY_MODEL_e0443a112e7d42a694a58e85971ec5d9",
       "style": "IPY_MODEL_26ceaa4e64ca45c0bb0527eeb8f1fb15"
      }
     },
     "c0bc77869efa41a0a3897a13d1f13cfc": {
      "model_module": "@jupyter-widgets/controls",
      "model_module_version": "1.2.0",
      "model_name": "IntSliderModel",
      "state": {
       "description": "Slider",
       "layout": "IPY_MODEL_3f89f02c6b2e401fb7f61e807a54049a",
       "orientation": "vertical",
       "style": "IPY_MODEL_f61022bee1044168814735ae9aeefb15"
      }
     },
     "c11832f3b6e84486a0eafc7868cefd44": {
      "model_module": "@jupyter-widgets/controls",
      "model_module_version": "1.2.0",
      "model_name": "ButtonModel",
      "state": {
       "description": "Button",
       "layout": "IPY_MODEL_a4152920d92946d894e53c370b4b31c8",
       "style": "IPY_MODEL_aaa3c53d46e4476d90eaa36dd9109874"
      }
     },
     "c2da364a15964e368b52a86af998949c": {
      "model_module": "@jupyter-widgets/base",
      "model_module_version": "1.0.0",
      "model_name": "LayoutModel",
      "state": {}
     },
     "c34739fcf2714967a604b345059bab66": {
      "model_module": "@jupyter-widgets/controls",
      "model_module_version": "1.2.0",
      "model_name": "DescriptionStyleModel",
      "state": {
       "description_width": ""
      }
     },
     "c34d7888cb23490691bf2685a7dce4c8": {
      "model_module": "@jupyter-widgets/controls",
      "model_module_version": "1.2.0",
      "model_name": "TextModel",
      "state": {
       "layout": "IPY_MODEL_7a09eb1f1c9d4ee9ac8e362a410b00a5",
       "style": "IPY_MODEL_a55590b4ad324ab39a5c32444248b7da"
      }
     },
     "c55428ced5d649b1bb76213bfc9058ca": {
      "model_module": "@jupyter-widgets/controls",
      "model_module_version": "1.2.0",
      "model_name": "DropdownModel",
      "state": {
       "_options_labels": [
        "foo",
        "bar"
       ],
       "index": 0,
       "layout": "IPY_MODEL_05c4d48e5b184c4aa8012c974cc508d0",
       "style": "IPY_MODEL_5d14e3a60ea24c31b423bb6ed58dfc75"
      }
     },
     "c6202db300d942bf91569b0412a9ba5e": {
      "model_module": "@jupyter-widgets/base",
      "model_module_version": "1.0.0",
      "model_name": "LayoutModel",
      "state": {}
     },
     "c6f81ff5d405494a9b2050acca15bec5": {
      "model_module": "@jupyter-widgets/controls",
      "model_module_version": "1.2.0",
      "model_name": "VBoxModel",
      "state": {
       "children": [
        "IPY_MODEL_3cbe45d79aeb4d16a15499ec977b421a",
        "IPY_MODEL_bc9fd48a415e4e71baf5660622cb1373",
        "IPY_MODEL_8360370a1725474a9d67b48750890b47"
       ],
       "layout": "IPY_MODEL_29193219a7814497b68a4b9ece564507"
      }
     },
     "c8cb81909b704de08e94d5773b27b958": {
      "model_module": "@jupyter-widgets/base",
      "model_module_version": "1.0.0",
      "model_name": "LayoutModel",
      "state": {}
     },
     "c98201b793d342e39cc551c4ea7bee24": {
      "model_module": "@jupyter-widgets/base",
      "model_module_version": "1.0.0",
      "model_name": "LayoutModel",
      "state": {}
     },
     "ccb7ba83da22452aae1c9d23d6fb52cb": {
      "model_module": "@jupyter-widgets/controls",
      "model_module_version": "1.2.0",
      "model_name": "DropdownModel",
      "state": {
       "_options_labels": [
        "a",
        "b"
       ],
       "index": 0,
       "layout": "IPY_MODEL_155b2b61ce66430fb37b3e4cdf32c52c",
       "style": "IPY_MODEL_dc8bdd2c6e0841b3b19b54b6b3a13cb0"
      }
     },
     "d0aa5e666ebc493d841cce76622aee13": {
      "model_module": "@jupyter-widgets/controls",
      "model_module_version": "1.2.0",
      "model_name": "ValidModel",
      "state": {
       "layout": "IPY_MODEL_fd0069cc2c0d4fac8d0a955df0276152",
       "style": "IPY_MODEL_5e1ec37a9bbf41f99096932048ecd027"
      }
     },
     "d2ce142a3a604f38a5075878d9b7861d": {
      "model_module": "@jupyter-widgets/base",
      "model_module_version": "1.0.0",
      "model_name": "LayoutModel",
      "state": {}
     },
     "d40bbe54b43f4c5f9e89aaefd29ba275": {
      "model_module": "@jupyter-widgets/controls",
      "model_module_version": "1.2.0",
      "model_name": "FloatProgressModel",
      "state": {
       "layout": "IPY_MODEL_8690daeed87641c0930b99259593c894",
       "style": "IPY_MODEL_105d56a595cd443aace286cd33c87a9f",
       "value": 40
      }
     },
     "d584db30954241e6bce1e2cffcef7d6b": {
      "model_module": "@jupyter-widgets/controls",
      "model_module_version": "1.2.0",
      "model_name": "FloatProgressModel",
      "state": {
       "description": "Progress",
       "layout": "IPY_MODEL_346aafb8dee540b1b8a0803704ec8da4",
       "orientation": "vertical",
       "style": "IPY_MODEL_5c19911fde3f4d1984247db949370caf",
       "value": 50
      }
     },
     "d65474dd273f42a58ec40a43eaba5610": {
      "model_module": "@jupyter-widgets/controls",
      "model_module_version": "1.2.0",
      "model_name": "ButtonStyleModel",
      "state": {}
     },
     "d7e04aa1a59e4717979ad68da2cb88e4": {
      "model_module": "@jupyter-widgets/controls",
      "model_module_version": "1.2.0",
      "model_name": "DescriptionStyleModel",
      "state": {
       "description_width": ""
      }
     },
     "d8dc32176aec412a875818072b4d9ea3": {
      "model_module": "@jupyter-widgets/base",
      "model_module_version": "1.0.0",
      "model_name": "LayoutModel",
      "state": {}
     },
     "d9c54e88bdcd49cb8497e822c6ce1f20": {
      "model_module": "@jupyter-widgets/base",
      "model_module_version": "1.0.0",
      "model_name": "LayoutModel",
      "state": {}
     },
     "dbae44c316034ab9b0dbbc14ba44748b": {
      "model_module": "@jupyter-widgets/base",
      "model_module_version": "1.0.0",
      "model_name": "LayoutModel",
      "state": {}
     },
     "dc8bdd2c6e0841b3b19b54b6b3a13cb0": {
      "model_module": "@jupyter-widgets/controls",
      "model_module_version": "1.2.0",
      "model_name": "DescriptionStyleModel",
      "state": {
       "description_width": ""
      }
     },
     "deeec0f9363a46a292b85ebe24b0bc10": {
      "model_module": "@jupyter-widgets/controls",
      "model_module_version": "1.2.0",
      "model_name": "FloatRangeSliderModel",
      "state": {
       "_model_name": "FloatRangeSliderModel",
       "_view_name": "FloatRangeSliderView",
       "layout": "IPY_MODEL_d2ce142a3a604f38a5075878d9b7861d",
       "step": 0.1,
       "style": "IPY_MODEL_848935316f5e4513b96e08f0581fa1a1",
       "value": [
        25,
        75
       ]
      }
     },
     "e0443a112e7d42a694a58e85971ec5d9": {
      "model_module": "@jupyter-widgets/base",
      "model_module_version": "1.0.0",
      "model_name": "LayoutModel",
      "state": {}
     },
     "e0f5376e14f94039aa10af2a0ac7c11b": {
      "model_module": "@jupyter-widgets/base",
      "model_module_version": "1.0.0",
      "model_name": "LayoutModel",
      "state": {}
     },
     "e132dbccbf8648ae845167a54e18c5a6": {
      "model_module": "@jupyter-widgets/controls",
      "model_module_version": "1.2.0",
      "model_name": "DescriptionStyleModel",
      "state": {
       "description_width": ""
      }
     },
     "e3f56701944d431993135f1274f57557": {
      "model_module": "@jupyter-widgets/controls",
      "model_module_version": "1.2.0",
      "model_name": "HBoxModel",
      "state": {
       "children": [
        "IPY_MODEL_489d7b39792c4c6d8ff190a3e3d7789c",
        "IPY_MODEL_17b13ad8f6e34a57bd9508c882088aab"
       ],
       "layout": "IPY_MODEL_e0f5376e14f94039aa10af2a0ac7c11b"
      }
     },
     "e49a4c21fe934f789bca3dcc76b8867d": {
      "model_module": "@jupyter-widgets/base",
      "model_module_version": "1.0.0",
      "model_name": "LayoutModel",
      "state": {}
     },
     "e7301fca9b194acbb3219a443912b2b4": {
      "model_module": "@jupyter-widgets/controls",
      "model_module_version": "1.2.0",
      "model_name": "DescriptionStyleModel",
      "state": {
       "description_width": ""
      }
     },
     "e84b4480b2f747a4b70d2a5a1f4898f3": {
      "model_module": "@jupyter-widgets/controls",
      "model_module_version": "1.2.0",
      "model_name": "VBoxModel",
      "state": {
       "children": [
        "IPY_MODEL_3ed32a7461b2499fbafd090f5369fe2f",
        "IPY_MODEL_2077425867db4c28b06c72d48cbd87ab",
        "IPY_MODEL_f93c46fe1d674bed9c4bbf1dcf974390"
       ],
       "layout": "IPY_MODEL_f2f2bde96952495eb0dd589dd5535fcb"
      }
     },
     "e912bba21e0f4206b97c908f43876f23": {
      "model_module": "@jupyter-widgets/controls",
      "model_module_version": "1.2.0",
      "model_name": "DescriptionStyleModel",
      "state": {
       "description_width": ""
      }
     },
     "eae3f49e605f4412935923d187814156": {
      "model_module": "@jupyter-widgets/controls",
      "model_module_version": "1.2.0",
      "model_name": "DescriptionStyleModel",
      "state": {
       "description_width": ""
      }
     },
     "eb23546ab17a4d8ca3adc347b09cd90a": {
      "model_module": "@jupyter-widgets/controls",
      "model_module_version": "1.2.0",
      "model_name": "ButtonStyleModel",
      "state": {}
     },
     "eb847672dbba47e39e12fca144b581be": {
      "model_module": "@jupyter-widgets/controls",
      "model_module_version": "1.2.0",
      "model_name": "CheckboxModel",
      "state": {
       "description": "Check",
       "disabled": false,
       "layout": "IPY_MODEL_72f7b787157e4a139bf2ae0cf1fb2ea8",
       "style": "IPY_MODEL_b06c46d3626743a992830db52770f01e",
       "value": false
      }
     },
     "ed2fcd1878c74a68bcd7a7f4411d4dcd": {
      "model_module": "@jupyter-widgets/base",
      "model_module_version": "1.0.0",
      "model_name": "LayoutModel",
      "state": {}
     },
     "ee3606bf8bf84b0197cbf55ed5e8d62b": {
      "model_module": "@jupyter-widgets/controls",
      "model_module_version": "1.2.0",
      "model_name": "ButtonStyleModel",
      "state": {}
     },
     "f10302471b6e4dd3856a9f832c00c9e1": {
      "model_module": "@jupyter-widgets/base",
      "model_module_version": "1.0.0",
      "model_name": "LayoutModel",
      "state": {}
     },
     "f2f2bde96952495eb0dd589dd5535fcb": {
      "model_module": "@jupyter-widgets/base",
      "model_module_version": "1.0.0",
      "model_name": "LayoutModel",
      "state": {}
     },
     "f61022bee1044168814735ae9aeefb15": {
      "model_module": "@jupyter-widgets/controls",
      "model_module_version": "1.2.0",
      "model_name": "SliderStyleModel",
      "state": {
       "description_width": ""
      }
     },
     "f84fd3f6d93c4ab8872ab41584c7b878": {
      "model_module": "@jupyter-widgets/base",
      "model_module_version": "1.0.0",
      "model_name": "LayoutModel",
      "state": {}
     },
     "f93c46fe1d674bed9c4bbf1dcf974390": {
      "model_module": "@jupyter-widgets/controls",
      "model_module_version": "1.2.0",
      "model_name": "HBoxModel",
      "state": {
       "children": [
        "IPY_MODEL_7b958dc02a0842aa9434819838dbf721",
        "IPY_MODEL_4a6c762fee274cfc83c475319806332c"
       ],
       "layout": "IPY_MODEL_62be24181e634cfd9defc8b57f42c576"
      }
     },
     "fa0f8c98f93742e7803165d2b1d1e8f9": {
      "model_module": "@jupyter-widgets/controls",
      "model_module_version": "1.2.0",
      "model_name": "IntSliderModel",
      "state": {
       "description": "Foobar",
       "layout": "IPY_MODEL_c98201b793d342e39cc551c4ea7bee24",
       "style": "IPY_MODEL_5326b2e4ed0d477bb7adb844c3b5422d"
      }
     },
     "fa74fd7c9a2a45e48209560a6d5094a4": {
      "model_module": "@jupyter-widgets/controls",
      "model_module_version": "1.2.0",
      "model_name": "SliderStyleModel",
      "state": {
       "description_width": ""
      }
     },
     "fb7a9b186f19421ca1db6a1cb94c853e": {
      "model_module": "@jupyter-widgets/controls",
      "model_module_version": "1.2.0",
      "model_name": "VBoxModel",
      "state": {
       "children": [
        "IPY_MODEL_8f9929e7ee444fcda3fea3812f73c73f",
        "IPY_MODEL_18ad4cd72aab43c7bbfcca87876edc8e",
        "IPY_MODEL_2bba433b1e814352a165076b888363da"
       ],
       "layout": "IPY_MODEL_f84fd3f6d93c4ab8872ab41584c7b878"
      }
     },
     "fd0069cc2c0d4fac8d0a955df0276152": {
      "model_module": "@jupyter-widgets/base",
      "model_module_version": "1.0.0",
      "model_name": "LayoutModel",
      "state": {}
     },
     "fdd4bef668384dc48dadbed18b5af954": {
      "model_module": "@jupyter-widgets/controls",
      "model_module_version": "1.2.0",
      "model_name": "ButtonModel",
      "state": {
       "layout": "IPY_MODEL_35f8f96175dd4c5fab9013e0f5a4d51f",
       "style": "IPY_MODEL_4d2e6faf13b749089dc78f3bd3a9d203"
      }
     }
    },
    "version_major": 2,
    "version_minor": 0
   }
  }
 },
 "nbformat": 4,
 "nbformat_minor": 1
}
