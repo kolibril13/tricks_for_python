{
 "cells": [
  {
   "cell_type": "markdown",
   "metadata": {},
   "source": [
    "# Layout and Styling of Jupyter widgets\n",
    "\n",
    "This notebook presents how to layout and style Jupyter interactive widgets to build rich and *reactive* widget-based applications."
   ]
  },
  {
   "cell_type": "markdown",
   "metadata": {},
   "source": [
    "## The `layout` attribute.\n",
    "\n",
    "Jupyter interactive widgets have a `layout` attribute exposing a number of CSS properties that impact how widgets are laid out.\n",
    "\n",
    "### Exposed CSS properties\n",
    "\n",
    "<div class=\"alert alert-info\" style=\"margin: 20px\">\n",
    "The following properties map to the values of the CSS properties of the same name (underscores being replaced with dashes), applied to the top DOM elements of the corresponding widget.\n",
    "</div>\n",
    "\n",
    "\n",
    "#### Sizes\n",
    "\n",
    "- `height`\n",
    "- `width`\n",
    "- `max_height`\n",
    "- `max_width`\n",
    "- `min_height`\n",
    "- `min_width`\n",
    "\n",
    "#### Display\n",
    "\n",
    "- `visibility`\n",
    "- `display`\n",
    "- `overflow`\n",
    "- `overflow_x`\n",
    "- `overflow_y`\n",
    "\n",
    "#### Box model\n",
    "\n",
    "- `border` \n",
    "- `margin`\n",
    "- `padding`\n",
    "\n",
    "#### Positioning\n",
    "\n",
    "- `top`\n",
    "- `left`\n",
    "- `bottom`\n",
    "- `right`\n",
    "\n",
    "#### Flexbox\n",
    "\n",
    "- `order`\n",
    "- `flex_flow`\n",
    "- `align_items`\n",
    "- `flex`\n",
    "- `align_self`\n",
    "- `align_content`\n",
    "- `justify_content`\n",
    "\n",
    "#### Grid layout\n",
    "\n",
    "- `grid_auto_columns`\n",
    "- `grid_auto_flow`\n",
    "- `grid_auto_rows`\n",
    "- `grid_gap`\n",
    "- `grid_template`\n",
    "\n",
    "- `grid_row`\n",
    "- `grid_column`\n",
    "\n",
    "### Shorthand CSS properties\n",
    "\n",
    "You may have noticed that certain CSS properties such as `margin-[top/right/bottom/left]` seem to be missing. The same holds for `padding-[top/right/bottom/left]` etc.\n",
    "\n",
    "In fact, you can atomically specify `[top/right/bottom/left]` margins via the `margin` attribute alone by passing the string `'100px 150px 100px 80px'` for a respectively `top`, `right`, `bottom` and `left` margins of  `100`, `150`, `100` and `80` pixels.\n",
    "\n",
    "Similarly, the `flex` attribute can hold values for `flex-grow`, `flex-shrink` and `flex-basis`. The `border` attribute is a shorthand property for `border-width`, `border-style (required)`, and `border-color`."
   ]
  },
  {
   "cell_type": "markdown",
   "metadata": {},
   "source": [
    "### Simple examples"
   ]
  },
  {
   "cell_type": "markdown",
   "metadata": {},
   "source": [
    "The following example shows how to resize a `Button` so that its views have a height of `80px` and a width of `50%` of the available space:"
   ]
  },
  {
   "cell_type": "code",
   "execution_count": 1,
   "metadata": {},
   "outputs": [
    {
     "data": {
      "application/vnd.jupyter.widget-view+json": {
       "model_id": "b6529efb604d43c0ba25a50185254d5d",
       "version_major": 2,
       "version_minor": 0
      },
      "text/plain": [
       "Button(description='(50% width, 80px height) button', layout=Layout(height='80px', width='50%'), style=ButtonS…"
      ]
     },
     "metadata": {},
     "output_type": "display_data"
    }
   ],
   "source": [
    "from ipywidgets import Button, Layout\n",
    "\n",
    "b = Button(description='(50% width, 80px height) button',\n",
    "           layout=Layout(width='50%', height='80px'))\n",
    "b"
   ]
  },
  {
   "cell_type": "markdown",
   "metadata": {},
   "source": [
    "The `layout` property can be shared between multiple widgets and assigned directly."
   ]
  },
  {
   "cell_type": "code",
   "execution_count": 2,
   "metadata": {},
   "outputs": [
    {
     "data": {
      "application/vnd.jupyter.widget-view+json": {
       "model_id": "48d993326fa04f7e82fd6bafcd1ba500",
       "version_major": 2,
       "version_minor": 0
      },
      "text/plain": [
       "Button(description='Another button with the same layout', layout=Layout(height='80px', width='50%'), style=But…"
      ]
     },
     "metadata": {},
     "output_type": "display_data"
    }
   ],
   "source": [
    "Button(description='Another button with the same layout', layout=b.layout)"
   ]
  },
  {
   "cell_type": "markdown",
   "metadata": {},
   "source": [
    "### Description"
   ]
  },
  {
   "cell_type": "markdown",
   "metadata": {},
   "source": [
    "You may have noticed that long descriptions are truncated. This is because the description length is, by default, fixed."
   ]
  },
  {
   "cell_type": "code",
   "execution_count": 3,
   "metadata": {},
   "outputs": [
    {
     "data": {
      "application/vnd.jupyter.widget-view+json": {
       "model_id": "8448468c4a0249f4bd9a8e6ae2bf9372",
       "version_major": 2,
       "version_minor": 0
      },
      "text/plain": [
       "IntSlider(value=0, description='A too long description')"
      ]
     },
     "metadata": {},
     "output_type": "display_data"
    }
   ],
   "source": [
    "from ipywidgets import IntSlider\n",
    "\n",
    "IntSlider(description='A too long description')"
   ]
  },
  {
   "cell_type": "markdown",
   "metadata": {},
   "source": [
    "You can change the length of the description to fit the description text. However, this will make the widget itself shorter. You can change both by adjusting the description width and the widget width using the widget's style."
   ]
  },
  {
   "cell_type": "code",
   "execution_count": 4,
   "metadata": {},
   "outputs": [
    {
     "data": {
      "application/vnd.jupyter.widget-view+json": {
       "model_id": "84c66b49adcb4023aeae8cbd4b9a8c4a",
       "version_major": 2,
       "version_minor": 0
      },
      "text/plain": [
       "IntSlider(value=0, description='A too long description', style=SliderStyle(description_width='initial'))"
      ]
     },
     "metadata": {},
     "output_type": "display_data"
    }
   ],
   "source": [
    "style = {'description_width': 'initial'}\n",
    "IntSlider(description='A too long description', style=style)"
   ]
  },
  {
   "cell_type": "markdown",
   "metadata": {},
   "source": [
    "If you need more flexibility to lay out widgets and descriptions, you can use Label widgets directly."
   ]
  },
  {
   "cell_type": "code",
   "execution_count": 5,
   "metadata": {},
   "outputs": [
    {
     "data": {
      "application/vnd.jupyter.widget-view+json": {
       "model_id": "a4007f71ffb941dea56ed22f43e795d0",
       "version_major": 2,
       "version_minor": 0
      },
      "text/plain": [
       "HBox(children=(Label(value='A too long description'), IntSlider(value=0)))"
      ]
     },
     "metadata": {},
     "output_type": "display_data"
    }
   ],
   "source": [
    "from ipywidgets import HBox, Label\n",
    "\n",
    "HBox([Label('A too long description'), IntSlider()])"
   ]
  },
  {
   "cell_type": "markdown",
   "metadata": {},
   "source": [
    "### Natural sizes, and arrangements using HBox and VBox\n",
    "\n",
    "Most of the core-widgets have default heights and widths that tile well together. This allows simple layouts based on the `HBox` and `VBox` helper functions to align naturally:"
   ]
  },
  {
   "cell_type": "code",
   "execution_count": 6,
   "metadata": {},
   "outputs": [
    {
     "data": {
      "application/vnd.jupyter.widget-view+json": {
       "model_id": "eed06082510d4863b5e23a71f82b3b99",
       "version_major": 2,
       "version_minor": 0
      },
      "text/plain": [
       "HBox(children=(VBox(children=(Button(description='correct', style=ButtonStyle()), Button(description='horse', …"
      ]
     },
     "metadata": {},
     "output_type": "display_data"
    }
   ],
   "source": [
    "from ipywidgets import Button, HBox, VBox\n",
    "\n",
    "words = ['correct', 'horse', 'battery', 'staple']\n",
    "items = [Button(description=w) for w in words]\n",
    "left_box = VBox([items[0], items[1]])\n",
    "right_box = VBox([items[2], items[3]])\n",
    "HBox([left_box, right_box])"
   ]
  },
  {
   "cell_type": "markdown",
   "metadata": {},
   "source": [
    "### Latex"
   ]
  },
  {
   "cell_type": "markdown",
   "metadata": {},
   "source": [
    "Widgets such as sliders and text inputs have a description attribute that can render Latex Equations. The `Label` widget also renders Latex equations."
   ]
  },
  {
   "cell_type": "code",
   "execution_count": 7,
   "metadata": {},
   "outputs": [],
   "source": [
    "from ipywidgets import IntSlider, Label"
   ]
  },
  {
   "cell_type": "code",
   "execution_count": 8,
   "metadata": {},
   "outputs": [
    {
     "data": {
      "application/vnd.jupyter.widget-view+json": {
       "model_id": "a52e249d26be439cb233a66b197e022a",
       "version_major": 2,
       "version_minor": 0
      },
      "text/plain": [
       "IntSlider(value=0, description='\\\\(\\\\int_0^t f\\\\)')"
      ]
     },
     "metadata": {},
     "output_type": "display_data"
    }
   ],
   "source": [
    "IntSlider(description=r'\\(\\int_0^t f\\)')"
   ]
  },
  {
   "cell_type": "code",
   "execution_count": 9,
   "metadata": {},
   "outputs": [
    {
     "data": {
      "application/vnd.jupyter.widget-view+json": {
       "model_id": "3821fc2e486148c08ff7f94ea2f28043",
       "version_major": 2,
       "version_minor": 0
      },
      "text/plain": [
       "Label(value='\\\\(e=mc^2\\\\)')"
      ]
     },
     "metadata": {},
     "output_type": "display_data"
    }
   ],
   "source": [
    "Label(value=r'\\(e=mc^2\\)')"
   ]
  },
  {
   "cell_type": "markdown",
   "metadata": {},
   "source": [
    "### Number formatting\n",
    "\n",
    "Sliders have a readout field which can be formatted using Python's [Format Specification Mini-Language](https://docs.python.org/3/library/string.html#format-specification-mini-language). If the space available for the readout is too narrow for the string representation of the slider value, a different styling is applied to show that not all digits are visible."
   ]
  },
  {
   "cell_type": "markdown",
   "metadata": {},
   "source": [
    "## The Flexbox layout\n",
    "\n",
    "The `HBox` and `VBox` classes above are special cases of the `Box` widget.\n",
    "\n",
    "The `Box` widget enables the entire CSS flexbox spec as well as the Grid layout spec, enabling rich reactive layouts in the Jupyter notebook. It aims at providing an efficient way to lay out, align and distribute space among items in a container.\n",
    "\n",
    "Again, the whole flexbox spec is exposed via the `layout` attribute of the container widget (`Box`) and the contained items. One may share the same `layout` attribute among all the contained items.\n",
    "\n",
    "### Acknowledgement\n",
    "\n",
    "The following flexbox tutorial on the flexbox layout follows the lines of the article [A Complete Guide to Flexbox](https://css-tricks.com/snippets/css/a-guide-to-flexbox/) by Chris Coyier, and uses text and various images from the article [with permission](https://css-tricks.com/license/).\n",
    "\n",
    "### Basics and terminology\n",
    "\n",
    "Since flexbox is a whole module and not a single property, it involves a lot of things including its whole set of properties. Some of them are meant to be set on the container (parent element, known as \"flex container\") whereas the others are meant to be set on the children (known as \"flex items\").\n",
    "\n",
    "If regular layout is based on both block and inline flow directions, the flex layout is based on \"flex-flow directions\". Please have a look at this figure from the specification, explaining the main idea behind the flex layout.\n",
    "\n",
    "![Flexbox](./images/flexbox.png)\n",
    "\n",
    "Basically, items will be laid out following either the `main axis` (from `main-start` to `main-end`) or the `cross axis` (from `cross-start` to `cross-end`).\n",
    "\n",
    "- `main axis` - The main axis of a flex container is the primary axis along which flex items are laid out. Beware, it is not necessarily horizontal; it depends on the flex-direction property (see below).\n",
    "- `main-start | main-end` - The flex items are placed within the container starting from main-start and going to main-end.\n",
    "- `main size` - A flex item's width or height, whichever is in the main dimension, is the item's main size. The flex item's main size property is either the ‘width’ or ‘height’ property, whichever is in the main dimension.\n",
    "cross axis - The axis perpendicular to the main axis is called the cross axis. Its direction depends on the main axis direction.\n",
    "- `cross-start | cross-end` - Flex lines are filled with items and placed into the container starting on the cross-start side of the flex container and going toward the cross-end side.\n",
    "- `cross size` - The width or height of a flex item, whichever is in the cross dimension, is the item's cross size. The cross size property is whichever of ‘width’ or ‘height’ that is in the cross dimension.\n",
    "\n",
    "### Properties of the parent\n",
    "\n",
    "![Container](./images/flex-container.svg)\n",
    "\n",
    "\n",
    "#### display\n",
    "\n",
    "`display` can be `flex` or `inline-flex`. This defines a flex container (block or inline).\n",
    "\n",
    "#### flex-flow\n",
    "\n",
    "`flex-flow` is a shorthand for the `flex-direction` and `flex-wrap` properties, which together define the flex container's main and cross axes. Default is `row nowrap`.\n",
    "\n",
    "- `flex-direction` (column-reverse | column | row | row-reverse )\n",
    "\n",
    "  This establishes the main-axis, thus defining the direction flex items are placed in the flex container. Flexbox is (aside from optional wrapping) a single-direction layout concept. Think of flex items as primarily laying out either in horizontal rows or vertical columns.\n",
    "![Direction](./images/flex-direction1.svg)\n",
    "\n",
    "- `flex-wrap` (nowrap | wrap | wrap-reverse)\n",
    "\n",
    "  By default, flex items will all try to fit onto one line. You can change that and allow the items to wrap as needed with this property. Direction also plays a role here, determining the direction new lines are stacked in.\n",
    "![Wrap](./images/flex-wrap.svg)\n",
    "\n",
    "#### justify-content\n",
    "\n",
    "`justify-content` can be one of `flex-start`, `flex-end`, `center`, `space-between`, `space-around`. This defines the alignment along the main axis. It helps distribute extra free space left over when either all the flex items on a line are inflexible, or are flexible but have reached their maximum size. It also exerts some control over the alignment of items when they overflow the line.\n",
    "  ![Justify](./images/justify-content.svg)\n",
    "\n",
    "#### align-items\n",
    "\n",
    "`align-items` can be one of `flex-start`, `flex-end`, `center`, `baseline`, `stretch`. This defines the default behaviour for how flex items are laid out along the cross axis on the current line. Think of it as the justify-content version for the cross-axis (perpendicular to the main-axis).\n",
    "   ![Items](./images/align-items.svg)\n",
    "   \n",
    "#### align-content\n",
    "`align-content` can be one of `flex-start`, `flex-end`, `center`, `baseline`, `stretch`. This aligns a flex container's lines within when there is extra space in the cross-axis, similar to how justify-content aligns individual items within the main-axis.\n",
    "![Items](./images/align-content.svg)\n",
    "\n",
    "**Note**: this property has no effect when there is only one line of flex items.\n",
    "\n",
    "### Properties of the items\n",
    "\n",
    "![Item](./images/flex-items.svg)\n",
    "\n",
    "The flexbox-related CSS properties of the items have no impact if the parent element is not a flexbox container (i.e. has a `display` attribute equal to `flex` or `inline-flex`).\n",
    "\n",
    "#### order\n",
    "By default, flex items are laid out in the source order. However, the `order` property controls the order in which they appear in the flex container.\n",
    "<img src=\"./images/order-2.svg\" alt=\"Order\" style=\"width: 500px;\"/>\n",
    "   \n",
    "#### flex\n",
    "`flex` is shorthand for three properties, `flex-grow`, `flex-shrink` and `flex-basis` combined. The second and third parameters (`flex-shrink` and `flex-basis`) are optional. Default is `0 1 auto`.\n",
    "   \n",
    "  - `flex-grow`\n",
    "\n",
    "    This defines the ability for a flex item to grow if necessary. It accepts a unitless value that serves as a proportion. It dictates what amount of the available space inside the flex container the item should take up.\n",
    "\n",
    "    If all items have flex-grow set to 1, the remaining space in the container will be distributed equally to all children. If one of the children a value of 2, the remaining space would take up twice as much space as the others (or it will try to, at least).\n",
    "      ![Grow](./images/flex-grow.svg)\n",
    "\n",
    "  - `flex-shrink`\n",
    "\n",
    "    This defines the ability for a flex item to shrink if necessary.\n",
    "\n",
    "  - `flex-basis`\n",
    "\n",
    "    This defines the default size of an element before the remaining space is distributed. It can be a length (e.g. `20%`, `5rem`, etc.) or a keyword. The `auto` keyword means *\"look at my width or height property\"*.\n",
    " \n",
    "#### align-self\n",
    "\n",
    "`align-self` allows the default alignment (or the one specified by align-items) to be overridden for individual flex items.\n",
    "\n",
    "![Align](./images/align-self.svg)\n",
    "\n",
    "### The VBox and HBox helpers\n",
    "\n",
    "The `VBox` and `HBox` helper classes provide simple defaults to arrange child widgets in vertical and horizontal boxes. They are roughly equivalent to:\n",
    "\n",
    "```Python\n",
    "def VBox(*pargs, **kwargs):\n",
    "    \"\"\"Displays multiple widgets vertically using the flexible box model.\"\"\"\n",
    "    box = Box(*pargs, **kwargs)\n",
    "    box.layout.display = 'flex'\n",
    "    box.layout.flex_flow = 'column'\n",
    "    box.layout.align_items = 'stretch'\n",
    "    return box\n",
    "\n",
    "def HBox(*pargs, **kwargs):\n",
    "    \"\"\"Displays multiple widgets horizontally using the flexible box model.\"\"\"\n",
    "    box = Box(*pargs, **kwargs)\n",
    "    box.layout.display = 'flex'\n",
    "    box.layout.align_items = 'stretch'\n",
    "    return box\n",
    "```\n",
    "\n",
    "\n",
    "### Examples"
   ]
  },
  {
   "cell_type": "markdown",
   "metadata": {},
   "source": [
    "**Four buttons in a VBox. Items stretch to the maximum width, in a vertical box taking `50%` of the available space.**"
   ]
  },
  {
   "cell_type": "code",
   "execution_count": 10,
   "metadata": {},
   "outputs": [
    {
     "data": {
      "application/vnd.jupyter.widget-view+json": {
       "model_id": "6c9877ead532484aa68020b870facb64",
       "version_major": 2,
       "version_minor": 0
      },
      "text/plain": [
       "Box(children=(Button(button_style='danger', description='correct', layout=Layout(width='auto'), style=ButtonSt…"
      ]
     },
     "metadata": {},
     "output_type": "display_data"
    }
   ],
   "source": [
    "from ipywidgets import Layout, Button, Box\n",
    "\n",
    "items_layout = Layout( width='auto')     # override the default width of the button to 'auto' to let the button grow\n",
    "\n",
    "box_layout = Layout(display='flex',\n",
    "                    flex_flow='column', \n",
    "                    align_items='stretch', \n",
    "                    border='solid',\n",
    "                    width='50%')\n",
    "\n",
    "words = ['correct', 'horse', 'battery', 'staple']\n",
    "items = [Button(description=word, layout=items_layout, button_style='danger') for word in words]\n",
    "box = Box(children=items, layout=box_layout)\n",
    "box"
   ]
  },
  {
   "cell_type": "markdown",
   "metadata": {},
   "source": [
    "**Three buttons in an HBox. Items flex proportionally to their weight.**"
   ]
  },
  {
   "cell_type": "code",
   "execution_count": 11,
   "metadata": {},
   "outputs": [
    {
     "data": {
      "application/vnd.jupyter.widget-view+json": {
       "model_id": "c471640e80c341ee8f7c0cbd4916450a",
       "version_major": 2,
       "version_minor": 0
      },
      "text/plain": [
       "VBox(children=(Box(children=(Button(button_style='danger', description='weight=1; auto', layout=Layout(flex='1…"
      ]
     },
     "metadata": {},
     "output_type": "display_data"
    }
   ],
   "source": [
    "from ipywidgets import Layout, Button, Box, VBox\n",
    "\n",
    "# Items flex proportionally to the weight and the left over space around the text \n",
    "items_auto = [\n",
    "    Button(description='weight=1; auto', layout=Layout(flex='1 1 auto', width='auto'), button_style='danger'),\n",
    "    Button(description='weight=3; auto', layout=Layout(flex='3 1 auto', width='auto'), button_style='danger'),\n",
    "    Button(description='weight=1; auto', layout=Layout(flex='1 1 auto', width='auto'), button_style='danger'),\n",
    " ]\n",
    "\n",
    "# Items flex proportionally to the weight \n",
    "items_0 = [\n",
    "    Button(description='weight=1; 0%', layout=Layout(flex='1 1 0%', width='auto'), button_style='danger'),\n",
    "    Button(description='weight=3; 0%', layout=Layout(flex='3 1 0%', width='auto'), button_style='danger'),\n",
    "    Button(description='weight=1; 0%', layout=Layout(flex='1 1 0%', width='auto'), button_style='danger'),\n",
    " ]\n",
    "box_layout = Layout(display='flex',\n",
    "                    flex_flow='row', \n",
    "                    align_items='stretch', \n",
    "                    width='70%')\n",
    "box_auto = Box(children=items_auto, layout=box_layout)\n",
    "box_0 = Box(children=items_0, layout=box_layout)\n",
    "VBox([box_auto, box_0])"
   ]
  },
  {
   "cell_type": "markdown",
   "metadata": {},
   "source": [
    "**A more advanced example: a reactive form.**\n",
    "\n",
    "The form is a `VBox` of width '50%'. Each row in the VBox is an HBox, that justifies the content with space between.."
   ]
  },
  {
   "cell_type": "code",
   "execution_count": 12,
   "metadata": {},
   "outputs": [
    {
     "data": {
      "application/vnd.jupyter.widget-view+json": {
       "model_id": "35cba8c670db4edc84765a7a1f5d4e1d",
       "version_major": 2,
       "version_minor": 0
      },
      "text/plain": [
       "Box(children=(Box(children=(Label(value='Age of the captain'), IntSlider(value=40, max=60, min=40)), layout=La…"
      ]
     },
     "metadata": {},
     "output_type": "display_data"
    }
   ],
   "source": [
    "from ipywidgets import Layout, Button, Box, FloatText, Textarea, Dropdown, Label, IntSlider\n",
    "\n",
    "form_item_layout = Layout(\n",
    "    display='flex',\n",
    "    flex_flow='row',\n",
    "    justify_content='space-between'\n",
    ")\n",
    "\n",
    "form_items = [\n",
    "    Box([Label(value='Age of the captain'), IntSlider(min=40, max=60)], layout=form_item_layout),\n",
    "    Box([Label(value='Egg style'), \n",
    "         Dropdown(options=['Scrambled', 'Sunny side up', 'Over easy'])], layout=form_item_layout),\n",
    "    Box([Label(value='Ship size'), \n",
    "         FloatText()], layout=form_item_layout),\n",
    "    Box([Label(value='Information'), \n",
    "         Textarea()], layout=form_item_layout)\n",
    "]\n",
    "\n",
    "form = Box(form_items, layout=Layout(\n",
    "    display='flex',\n",
    "    flex_flow='column',\n",
    "    border='solid 2px',\n",
    "    align_items='stretch',\n",
    "    width='50%'\n",
    "))\n",
    "form"
   ]
  },
  {
   "cell_type": "markdown",
   "metadata": {},
   "source": [
    "**A more advanced example: a carousel.**"
   ]
  },
  {
   "cell_type": "code",
   "execution_count": 13,
   "metadata": {},
   "outputs": [
    {
     "data": {
      "application/vnd.jupyter.widget-view+json": {
       "model_id": "267b1abac7144694a3e2de380024b609",
       "version_major": 2,
       "version_minor": 0
      },
      "text/plain": [
       "VBox(children=(Label(value='Scroll horizontally:'), Box(children=(Button(button_style='warning', description='…"
      ]
     },
     "metadata": {},
     "output_type": "display_data"
    }
   ],
   "source": [
    "from ipywidgets import Layout, Button, Box\n",
    "\n",
    "item_layout = Layout(height='100px', min_width='40px')\n",
    "items = [Button(layout=item_layout, description=str(i), button_style='warning') for i in range(40)]\n",
    "box_layout = Layout(overflow_x='scroll',\n",
    "                    border='3px solid black',\n",
    "                    width='500px',\n",
    "                    height='',\n",
    "                    flex_flow='row',\n",
    "                    display='flex')\n",
    "carousel = Box(children=items, layout=box_layout)\n",
    "VBox([Label('Scroll horizontally:'), carousel])"
   ]
  },
  {
   "cell_type": "markdown",
   "metadata": {},
   "source": [
    "## Predefined styles\n",
    "\n",
    "If you wish the styling of widgets to make use of colors and styles defined by the environment (to be consistent with e.g. a notebook theme), many widgets enable choosing in a list of pre-defined styles.\n",
    "\n",
    "For example, the `Button` widget has a `button_style` attribute that may take 5 different values:\n",
    "\n",
    " - `'primary'`\n",
    " - `'success'`\n",
    " - `'info'`\n",
    " - `'warning'`\n",
    " - `'danger'`\n",
    "\n",
    "besides the default empty string ''."
   ]
  },
  {
   "cell_type": "code",
   "execution_count": 14,
   "metadata": {},
   "outputs": [
    {
     "data": {
      "application/vnd.jupyter.widget-view+json": {
       "model_id": "f74f2e285de849238fbd2204812f8e4c",
       "version_major": 2,
       "version_minor": 0
      },
      "text/plain": [
       "Button(button_style='danger', description='Danger Button', style=ButtonStyle())"
      ]
     },
     "metadata": {},
     "output_type": "display_data"
    }
   ],
   "source": [
    "from ipywidgets import Button\n",
    "\n",
    "Button(description='Danger Button', button_style='danger')"
   ]
  },
  {
   "cell_type": "markdown",
   "metadata": {},
   "source": [
    "## The `style` attribute\n",
    "\n",
    "While the `layout` attribute only exposes layout-related CSS properties for the top-level DOM element of widgets, the  \n",
    "`style` attribute is used to expose non-layout related styling attributes of widgets.\n",
    "\n",
    "However, the properties of the `style` attribute are specific to each widget type."
   ]
  },
  {
   "cell_type": "code",
   "execution_count": 15,
   "metadata": {},
   "outputs": [
    {
     "data": {
      "application/vnd.jupyter.widget-view+json": {
       "model_id": "24209ab14559481e82a77ab4b8f07637",
       "version_major": 2,
       "version_minor": 0
      },
      "text/plain": [
       "Button(description='Custom color', style=ButtonStyle(button_color='lightgreen'))"
      ]
     },
     "metadata": {},
     "output_type": "display_data"
    }
   ],
   "source": [
    "b1 = Button(description='Custom color')\n",
    "b1.style.button_color = 'lightgreen'\n",
    "b1"
   ]
  },
  {
   "cell_type": "markdown",
   "metadata": {},
   "source": [
    "You can get a list of the style attributes for a widget with the `keys` property."
   ]
  },
  {
   "cell_type": "code",
   "execution_count": 16,
   "metadata": {},
   "outputs": [
    {
     "data": {
      "text/plain": [
       "['_model_module',\n",
       " '_model_module_version',\n",
       " '_model_name',\n",
       " '_view_count',\n",
       " '_view_module',\n",
       " '_view_module_version',\n",
       " '_view_name',\n",
       " 'button_color',\n",
       " 'font_weight']"
      ]
     },
     "execution_count": 16,
     "metadata": {},
     "output_type": "execute_result"
    }
   ],
   "source": [
    "b1.style.keys"
   ]
  },
  {
   "cell_type": "markdown",
   "metadata": {},
   "source": [
    "Just like the `layout` attribute, widget styles can be assigned to other widgets."
   ]
  },
  {
   "cell_type": "code",
   "execution_count": 17,
   "metadata": {},
   "outputs": [
    {
     "data": {
      "application/vnd.jupyter.widget-view+json": {
       "model_id": "f0eb11b8923c43aa97f847ca86d595ed",
       "version_major": 2,
       "version_minor": 0
      },
      "text/plain": [
       "Button(style=ButtonStyle(button_color='lightgreen'))"
      ]
     },
     "metadata": {},
     "output_type": "display_data"
    }
   ],
   "source": [
    "b2 = Button()\n",
    "b2.style = b1.style\n",
    "b2"
   ]
  },
  {
   "cell_type": "markdown",
   "metadata": {},
   "source": [
    "Widget styling attributes are specific to each widget type."
   ]
  },
  {
   "cell_type": "code",
   "execution_count": 18,
   "metadata": {},
   "outputs": [
    {
     "data": {
      "application/vnd.jupyter.widget-view+json": {
       "model_id": "547011a8930c46bb86f68c37a68295b7",
       "version_major": 2,
       "version_minor": 0
      },
      "text/plain": [
       "IntSlider(value=0, description='Blue handle', style=SliderStyle(handle_color='lightblue'))"
      ]
     },
     "metadata": {},
     "output_type": "display_data"
    }
   ],
   "source": [
    "s1 = IntSlider(description='Blue handle')\n",
    "s1.style.handle_color = 'lightblue'\n",
    "s1"
   ]
  },
  {
   "cell_type": "markdown",
   "metadata": {},
   "source": [
    "## The Grid layout\n",
    "\n",
    "The `GridBox` class is a special case of the `Box` widget.\n",
    "\n",
    "The `Box` widget enables the entire CSS flexbox spec, enabling rich reactive layouts in the Jupyter notebook. It aims at providing an efficient way to lay out, align and distribute space among items in a container.\n",
    "\n",
    "Again, the whole grid layout spec is exposed via the `layout` attribute of the container widget (`Box`) and the contained items. One may share the same `layout` attribute among all the contained items.\n",
    "\n",
    "The following flexbox tutorial on the flexbox layout follows the lines of the article [A Complete Guide to Grid](https://css-tricks.com/snippets/css/complete-guide-grid/) by Chris House, and uses text and various images from the article [with permission](https://css-tricks.com/license/).\n",
    "\n",
    "### Basics and browser support\n",
    "\n",
    "To get started you have to define a container element as a grid with display: grid, set the column and row sizes with grid-template-rows, grid-template-columns, and grid_template_areas, and then place its child elements into the grid with grid-column and grid-row. Similarly to flexbox, the source order of the grid items doesn't matter. Your CSS can place them in any order, which makes it super easy to rearrange your grid with media queries. Imagine defining the layout of your entire page, and then completely rearranging it to accommodate a different screen width all with only a couple lines of CSS. Grid is one of the most powerful CSS modules ever introduced.\n",
    "\n",
    "As of March 2017, most browsers shipped native, unprefixed support for CSS Grid: Chrome (including on Android), Firefox, Safari (including on iOS), and Opera. Internet Explorer 10 and 11 on the other hand support it, but it's an old implementation with an outdated syntax. The time to build with grid is now!\n",
    "\n",
    "### Important terminology\n",
    "\n",
    "Before diving into the concepts of Grid it's important to understand the terminology. Since the terms involved here are all kinda conceptually similar, it's easy to confuse them with one another if you don't first memorize their meanings defined by the Grid specification. But don't worry, there aren't many of them.\n",
    "\n",
    "**Grid Container**\n",
    "\n",
    "The element on which `display: grid` is applied. It's the direct parent of all the grid items. In this example container is the grid container.\n",
    "\n",
    "```html\n",
    "<div class=\"container\">\n",
    "  <div class=\"item item-1\"></div>\n",
    "  <div class=\"item item-2\"></div>\n",
    "  <div class=\"item item-3\"></div>\n",
    "</div>\n",
    "```\n",
    "\n",
    "**Grid Item**\n",
    "\n",
    "The children (e.g. direct descendants) of the grid container. Here the item elements are grid items, but sub-item isn't.\n",
    "\n",
    "```html\n",
    "<div class=\"container\">\n",
    "  <div class=\"item\"></div> \n",
    "  <div class=\"item\">\n",
    "  \t<p class=\"sub-item\"></p>\n",
    "  </div>\n",
    "  <div class=\"item\"></div>\n",
    "</div>\n",
    "```\n",
    "\n",
    "**Grid Line**\n",
    "\n",
    "The dividing lines that make up the structure of the grid. They can be either vertical (\"column grid lines\") or horizontal (\"row grid lines\") and reside on either side of a row or column. Here the yellow line is an example of a column grid line.\n",
    "\n",
    "![grid-line](images/grid-line.png)\n",
    "\n",
    "**Grid Track**\n",
    "\n",
    "The space between two adjacent grid lines. You can think of them like the columns or rows of the grid. Here's the grid track between the second and third row grid lines.\n",
    "\n",
    "![grid-track](images/grid-track.png)\n",
    "\n",
    "**Grid Cell**\n",
    "\n",
    "The space between two adjacent row and two adjacent column grid lines. It's a single \"unit\" of the grid. Here's the grid cell between row grid lines 1 and 2, and column grid lines 2 and 3.\n",
    "\n",
    "![grid-cell](images/grid-cell.png)\n",
    "\n",
    "**Grid Area**\n",
    "\n",
    "The total space surrounded by four grid lines. A grid area may be comprised of any number of grid cells. Here's the grid area between row grid lines 1 and 3, and column grid lines 1 and 3.\n",
    "\n",
    "![grid-area](images/grid-area.png)\n",
    "\n",
    "### Properties of the parent\n",
    "\n",
    "**grid-template-rows, grid-template-colums**\n",
    "\n",
    "Defines the columns and rows of the grid with a space-separated list of values. The values represent the track size, and the space between them represents the grid line.\n",
    "\n",
    "Values:\n",
    "\n",
    "- `<track-size>` - can be a length, a percentage, or a fraction of the free space in the grid (using the `fr` unit)\n",
    "- `<line-name>` - an arbitrary name of your choosing\n",
    "\n",
    "**grid-template-areas** \n",
    "\n",
    "Defines a grid template by referencing the names of the grid areas which are specified with the grid-area property. Repeating the name of a grid area causes the content to span those cells. A period signifies an empty cell. The syntax itself provides a visualization of the structure of the grid.\n",
    "\n",
    "Values:\n",
    "\n",
    "- `<grid-area-name>` - the name of a grid area specified with `grid-area`\n",
    "- `.` - a period signifies an empty grid cell\n",
    "- `none` - no grid areas are defined\n",
    "\n",
    "**grid-gap** \n",
    "\n",
    "A shorthand for `grid-row-gap` and `grid-column-gap`\n",
    "\n",
    "Values:\n",
    "\n",
    "- `<grid-row-gap>`, `<grid-column-gap>` - length values\n",
    "\n",
    "where `grid-row-gap` and `grid-column-gap` specify the sizes of the grid lines. You can think of it like setting the width of the gutters between the columns / rows.\n",
    "\n",
    "- `<line-size>` - a length value\n",
    "\n",
    "*Note: The `grid-` prefix will be removed and `grid-gap` renamed to `gap`. The unprefixed property is already supported in Chrome 68+, Safari 11.2 Release 50+ and Opera 54+.*\n",
    "\n",
    "**align-items**\n",
    "\n",
    "Aligns grid items along the block (column) axis (as opposed to justify-items which aligns along the inline (row) axis). This value applies to all grid items inside the container.\n",
    "\n",
    "Values:\n",
    "\n",
    "- `start` - aligns items to be flush with the start edge of their cell\n",
    "- `end` - aligns items to be flush with the end edge of their cell\n",
    "- `center` - aligns items in the center of their cell\n",
    "- `stretch` - fills the whole height of the cell (this is the default)\n",
    "\n",
    "**justify-items**\n",
    "\n",
    "Aligns grid items along the inline (row) axis (as opposed to `align-items` which aligns along the block (column) axis). This value applies to all grid items inside the container.\n",
    "\n",
    "Values:\n",
    "\n",
    "- `start` - aligns items to be flush with the start edge of their cell\n",
    "- `end` - aligns items to be flush with the end edge of their cell\n",
    "- `center` - aligns items in the center of their cell\n",
    "- `stretch` - fills the whole width of the cell (this is the default)\n",
    "\n",
    "**align-content**\n",
    "\n",
    "Sometimes the total size of your grid might be less than the size of its grid container. This could happen if all of your grid items are sized with non-flexible units like `px`. In this case you can set the alignment of the grid within the grid container. This property aligns the grid along the block (column) axis (as opposed to justify-content which aligns the grid along the inline (row) axis).\n",
    "\n",
    "Values:\n",
    "\n",
    "- `start` - aligns the grid to be flush with the start edge of the grid container\n",
    "- `end` - aligns the grid to be flush with the end edge of the grid container\n",
    "- `center` - aligns the grid in the center of the grid container\n",
    "- `stretch` - resizes the grid items to allow the grid to fill the full height of the grid container\n",
    "- `space-around` - places an even amount of space between each grid item, with half-sized spaces on the far ends\n",
    "- `space-between` - places an even amount of space between each grid item, with no space at the far ends\n",
    "- `space-evenly` - places an even amount of space between each grid item, including the far ends\n",
    "\n",
    "**justify-content**\n",
    "\n",
    "Sometimes the total size of your grid might be less than the size of its grid container. This could happen if all of your grid items are sized with non-flexible units like `px`. In this case you can set the alignment of the grid within the grid container. This property aligns the grid along the inline (row) axis (as opposed to align-content which aligns the grid along the block (column) axis).\n",
    "\n",
    "Values:\n",
    "\n",
    "- `start` - aligns the grid to be flush with the start edge of the grid container\n",
    "- `end` - aligns the grid to be flush with the end edge of the grid container\n",
    "- `center` - aligns the grid in the center of the grid container\n",
    "- `stretch` - resizes the grid items to allow the grid to fill the full width of the grid container\n",
    "- `space-around` - places an even amount of space between each grid item, with half-sized spaces on the far ends\n",
    "- `space-between` - places an even amount of space between each grid item, with no space at the far ends\n",
    "- `space-evenly` - places an even amount of space between each grid item, including the far ends\n",
    "\n",
    "**grid-auto-columns, grid-auto-rows**\n",
    "\n",
    "Specifies the size of any auto-generated grid tracks (aka implicit grid tracks). Implicit tracks get created when there are more grid items than cells in the grid or when a grid item is placed outside of the explicit grid. (see The Difference Between Explicit and Implicit Grids)\n",
    "\n",
    "Values:\n",
    "\n",
    "- `<track-size>` - can be a length, a percentage, or a fraction of the free space in the grid (using the `fr` unit)\n",
    "\n",
    "### Properties of the items\n",
    "\n",
    "*Note: `float`, `display: inline-block`, `display: table-cell`, `vertical-align` and `column-??` properties have no effect on a grid item.*\n",
    "\n",
    "**grid-column, grid-row**\n",
    "\n",
    "Determines a grid item's location within the grid by referring to specific grid lines. `grid-column-start`/`grid-row-start` is the line where the item begins, and `grid-column-end`/`grid-row-end` is the line where the item ends.\n",
    "\n",
    "Values:\n",
    "\n",
    "- `<line>` - can be a number to refer to a numbered grid line, or a name to refer to a named grid line\n",
    "- `span <number>` - the item will span across the provided number of grid tracks\n",
    "- `span <name>` - the item will span across until it hits the next line with the provided name\n",
    "- `auto` - indicates auto-placement, an automatic span, or a default span of one\n",
    "\n",
    "```css\n",
    ".item {\n",
    "  grid-column: <number> | <name> | span <number> | span <name> | auto / \n",
    "               <number> | <name> | span <number> | span <name> | auto\n",
    "  grid-row: <number> | <name> | span <number> | span <name> | auto /\n",
    "            <number> | <name> | span <number> | span <name> | auto\n",
    "}\n",
    "```\n",
    "\n",
    "Examples:\n",
    "\n",
    "```css\n",
    ".item-a {\n",
    "  grid-column: 2 / five;\n",
    "  grid-row: row1-start / 3;\n",
    "}\n",
    "```\n",
    "\n",
    "![grid-start-end-a](images/grid-start-end-a.png)\n",
    "\n",
    "```css\n",
    ".item-b {\n",
    "  grid-column: 1 / span col4-start;\n",
    "  grid-row: 2 / span 2;\n",
    "}\n",
    "```\n",
    "\n",
    "![grid-start-end-b](images/grid-start-end-b.png)\n",
    "\n",
    "If no `grid-column` / `grid-row` is declared, the item will span 1 track by default.\n",
    "\n",
    "Items can overlap each other. You can use `z-index` to control their stacking order.\n",
    "\n",
    "**grid-area**\n",
    "\n",
    "Gives an item a name so that it can be referenced by a template created with the `grid-template-areas` property. Alternatively, this property can be used as an even shorter shorthand for `grid-row-start` + `grid-column-start` + `grid-row-end` + `grid-column-end`.\n",
    "\n",
    "Values:\n",
    "\n",
    "- `<name>` - a name of your choosing\n",
    "- `<row-start> / <column-start> / <row-end> / <column-end>` - can be numbers or named lines\n",
    "\n",
    "```css\n",
    ".item {\n",
    "  grid-area: <name> | <row-start> / <column-start> / <row-end> / <column-end>;\n",
    "}\n",
    "```\n",
    "\n",
    "Examples:\n",
    "\n",
    "As a way to assign a name to the item:\n",
    "\n",
    "```css\n",
    ".item-d {\n",
    "  grid-area: header\n",
    "}\n",
    "```\n",
    "\n",
    "As the short-shorthand for `grid-row-start` + `grid-column-start` + `grid-row-end` + `grid-column-end`:\n",
    "\n",
    "```css\n",
    ".item-d {\n",
    "  grid-area: 1 / col4-start / last-line / 6\n",
    "}\n",
    "```\n",
    "\n",
    "![grid-start-end-d](images/grid-start-end-d.png)\n",
    "\n",
    "**justify-self**\n",
    "\n",
    "Aligns a grid item inside a cell along the inline (row) axis (as opposed to `align-self` which aligns along the block (column) axis). This value applies to a grid item inside a single cell.\n",
    "\n",
    "Values:\n",
    "\n",
    "- `start` - aligns the grid item to be flush with the start edge of the cell\n",
    "- `end` - aligns the grid item to be flush with the end edge of the cell\n",
    "- `center` - aligns the grid item in the center of the cell\n",
    "- `stretch` - fills the whole width of the cell (this is the default)\n",
    "\n",
    "```css\n",
    ".item {\n",
    "  justify-self: start | end | center | stretch;\n",
    "}\n",
    "```\n",
    "\n",
    "Examples:\n",
    "\n",
    "```css\n",
    ".item-a {\n",
    "  justify-self: start;\n",
    "}\n",
    "```\n",
    "\n",
    "![Example of `justify-self` set to start](images/grid-justify-self-start.png)\n",
    "\n",
    "```css\n",
    ".item-a {\n",
    "  justify-self: end;\n",
    "}\n",
    "```\n",
    "\n",
    "![Example of `justify-self` set to end](images/grid-justify-self-end.png)\n",
    "\n",
    "```css\n",
    ".item-a {\n",
    "  justify-self: center;\n",
    "}\n",
    "```\n",
    "\n",
    "![Example of `justify-self` set to center](images/grid-justify-self-center.png)\n",
    "\n",
    "```css\n",
    ".item-a {\n",
    "  justify-self: stretch;\n",
    "}\n",
    "```\n",
    "\n",
    "![Example of `justify-self` set to stretch](images/grid-justify-self-stretch.png)\n",
    "\n",
    "To set alignment for *all* the items in a grid, this behavior can also be set on the grid container via the `justify-items` property."
   ]
  },
  {
   "cell_type": "code",
   "execution_count": 19,
   "metadata": {},
   "outputs": [],
   "source": [
    "from ipywidgets import Button, GridBox, Layout, ButtonStyle"
   ]
  },
  {
   "cell_type": "markdown",
   "metadata": {},
   "source": [
    "Placing items by name:"
   ]
  },
  {
   "cell_type": "code",
   "execution_count": 20,
   "metadata": {},
   "outputs": [
    {
     "data": {
      "application/vnd.jupyter.widget-view+json": {
       "model_id": "9aff1b30a77a4ddab3484e5f140a4ff1",
       "version_major": 2,
       "version_minor": 0
      },
      "text/plain": [
       "GridBox(children=(Button(description='Header', layout=Layout(grid_area='header', width='auto'), style=ButtonSt…"
      ]
     },
     "metadata": {},
     "output_type": "display_data"
    }
   ],
   "source": [
    "header  = Button(description='Header',\n",
    "                 layout=Layout(width='auto', grid_area='header'),\n",
    "                 style=ButtonStyle(button_color='lightblue'))\n",
    "main    = Button(description='Main',\n",
    "                 layout=Layout(width='auto', grid_area='main'),\n",
    "                 style=ButtonStyle(button_color='moccasin'))\n",
    "sidebar = Button(description='Sidebar',\n",
    "                 layout=Layout(width='auto', grid_area='sidebar'),\n",
    "                 style=ButtonStyle(button_color='salmon'))\n",
    "footer  = Button(description='Footer',\n",
    "                 layout=Layout(width='auto', grid_area='footer'),\n",
    "                 style=ButtonStyle(button_color='olive'))\n",
    "\n",
    "GridBox(children=[header, main, sidebar, footer],\n",
    "        layout=Layout(\n",
    "            width='50%',\n",
    "            grid_template_rows='auto auto auto',\n",
    "            grid_template_columns='25% 25% 25% 25%',\n",
    "            grid_template_areas='''\n",
    "            \"header header header header\"\n",
    "            \"main main . sidebar \"\n",
    "            \"footer footer footer footer\"\n",
    "            ''')\n",
    "       )"
   ]
  },
  {
   "cell_type": "markdown",
   "metadata": {},
   "source": [
    "Setting up row and column template and gap"
   ]
  },
  {
   "cell_type": "code",
   "execution_count": 21,
   "metadata": {},
   "outputs": [
    {
     "data": {
      "application/vnd.jupyter.widget-view+json": {
       "model_id": "1ab44b1990ce4303ae3fcdda70b81be4",
       "version_major": 2,
       "version_minor": 0
      },
      "text/plain": [
       "GridBox(children=(Button(layout=Layout(height='auto', width='auto'), style=ButtonStyle(button_color='darkseagr…"
      ]
     },
     "metadata": {},
     "output_type": "display_data"
    }
   ],
   "source": [
    "GridBox(children=[Button(layout=Layout(width='auto', height='auto'),\n",
    "                         style=ButtonStyle(button_color='darkseagreen')) for i in range(9)\n",
    "                 ],\n",
    "        layout=Layout(\n",
    "            width='50%',\n",
    "            grid_template_columns='100px 50px 100px',\n",
    "            grid_template_rows='80px auto 80px', \n",
    "            grid_gap='5px 10px')\n",
    "       )"
   ]
  },
  {
   "cell_type": "code",
   "execution_count": null,
   "metadata": {},
   "outputs": [],
   "source": []
  }
 ],
 "metadata": {
  "kernelspec": {
   "display_name": "Python 3",
   "language": "python",
   "name": "python3"
  },
  "language_info": {
   "codemirror_mode": {
    "name": "ipython",
    "version": 3
   },
   "file_extension": ".py",
   "mimetype": "text/x-python",
   "name": "python",
   "nbconvert_exporter": "python",
   "pygments_lexer": "ipython3",
   "version": "3.6.5"
  },
  "widgets": {
   "application/vnd.jupyter.widget-state+json": {
    "state": {
     "002ce41cc4a74236930537c646f09cb0": {
      "model_module": "@jupyter-widgets/controls",
      "model_module_version": "1.2.0",
      "model_name": "ButtonStyleModel",
      "state": {}
     },
     "005ae38db58644688318d0af0d855149": {
      "model_module": "@jupyter-widgets/controls",
      "model_module_version": "1.2.0",
      "model_name": "ButtonModel",
      "state": {
       "button_style": "warning",
       "description": "0",
       "layout": "IPY_MODEL_a810a994ec8c404f8136c2e39def56aa",
       "style": "IPY_MODEL_63b33bba6d704eb687b5478ab933c9c9"
      }
     },
     "008367db52dd4d67a23ef0c537d69065": {
      "model_module": "@jupyter-widgets/base",
      "model_module_version": "1.0.0",
      "model_name": "LayoutModel",
      "state": {}
     },
     "0085cf79c733460e8956c9143a8fdae5": {
      "model_module": "@jupyter-widgets/base",
      "model_module_version": "1.0.0",
      "model_name": "LayoutModel",
      "state": {
       "grid_template_areas": "\n            \"header header header header\"\n            \"main main . sidebar \"\n            \"footer footer footer footer\"\n            ",
       "grid_template_columns": "25% 25% 25% 25%",
       "grid_template_rows": "auto auto auto",
       "width": "50%"
      }
     },
     "008ab1ccd0fa41c983856007ff93103b": {
      "model_module": "@jupyter-widgets/controls",
      "model_module_version": "1.2.0",
      "model_name": "ButtonModel",
      "state": {
       "button_style": "warning",
       "description": "37",
       "layout": "IPY_MODEL_e20ec9c5c01e485bbfa90160b80eb8f4",
       "style": "IPY_MODEL_c14b21a93490487db1d84628dae88f62"
      }
     },
     "0092c073e9a448b1b99ac9470c49fef5": {
      "model_module": "@jupyter-widgets/base",
      "model_module_version": "1.0.0",
      "model_name": "LayoutModel",
      "state": {}
     },
     "009fb5ae9b514b15b915acdbd32718bb": {
      "model_module": "@jupyter-widgets/controls",
      "model_module_version": "1.2.0",
      "model_name": "ButtonModel",
      "state": {
       "layout": "IPY_MODEL_0092c073e9a448b1b99ac9470c49fef5",
       "style": "IPY_MODEL_677ca7223e6f4d2597b7dafb9c5ff7af"
      }
     },
     "00a0b0ff5c22437a88b54205b99c962a": {
      "model_module": "@jupyter-widgets/controls",
      "model_module_version": "1.2.0",
      "model_name": "ButtonStyleModel",
      "state": {}
     },
     "00fc649f05114a44b5948eef74493e07": {
      "model_module": "@jupyter-widgets/controls",
      "model_module_version": "1.2.0",
      "model_name": "ButtonModel",
      "state": {
       "button_style": "danger",
       "description": "weight=3; auto",
       "layout": "IPY_MODEL_1484fde063bf44af82830a437d9f149f",
       "style": "IPY_MODEL_73510e8a644946e4ad38cd61f6d8758d"
      }
     },
     "0112515c34d24b3c942c9ca511b83c2a": {
      "model_module": "@jupyter-widgets/base",
      "model_module_version": "1.0.0",
      "model_name": "LayoutModel",
      "state": {
       "width": "auto"
      }
     },
     "013989b0656e4fafb1ca9914dde46134": {
      "model_module": "@jupyter-widgets/controls",
      "model_module_version": "1.2.0",
      "model_name": "GridBoxModel",
      "state": {
       "children": [
        "IPY_MODEL_ba2719f6604844fc91679cdfc211d9ce",
        "IPY_MODEL_e0d26e262ec8472eaefde02e72a03e78",
        "IPY_MODEL_9c34b9938dc34c2bbc9ac2d2cf2eeaf8",
        "IPY_MODEL_34b8b90bba804457921282ac3770afe0",
        "IPY_MODEL_ad6e8c5ad39f4005b26bd1a7f36e59d0",
        "IPY_MODEL_28426028423645a1bc87e42c867f2faf",
        "IPY_MODEL_2185e768be3b49a5bf945fc7ac019dc2",
        "IPY_MODEL_93c8738bf9624e6ebbfee24ab6bfb325",
        "IPY_MODEL_ba0c71cee2254c2f94bb12facfe8d471",
        "IPY_MODEL_59ff6d2452ca44a48bb7d055486a15f5"
       ],
       "layout": "IPY_MODEL_a369dac4a3ef4cca88d6c51c06d14142"
      }
     },
     "016fb50caab943acb6a8a8ec8f60d24e": {
      "model_module": "@jupyter-widgets/controls",
      "model_module_version": "1.2.0",
      "model_name": "ButtonStyleModel",
      "state": {}
     },
     "01a14506c325415b96aee77af69b4ca8": {
      "model_module": "@jupyter-widgets/base",
      "model_module_version": "1.0.0",
      "model_name": "LayoutModel",
      "state": {}
     },
     "01ae67175dea44bfa21ca0cbc48be329": {
      "model_module": "@jupyter-widgets/base",
      "model_module_version": "1.0.0",
      "model_name": "LayoutModel",
      "state": {
       "height": "auto",
       "margin": "0",
       "width": "auto"
      }
     },
     "01b4ad767a2242bba177063ede664336": {
      "model_module": "@jupyter-widgets/controls",
      "model_module_version": "1.2.0",
      "model_name": "ButtonModel",
      "state": {
       "button_style": "danger",
       "description": "weight=3; 0%",
       "layout": "IPY_MODEL_5293fa7da8054ed3a17266478ee57864",
       "style": "IPY_MODEL_bce3abae2cc941ee82facb88470e3775"
      }
     },
     "020b3a7b469149aeab4a18bce03aac7a": {
      "model_module": "@jupyter-widgets/controls",
      "model_module_version": "1.2.0",
      "model_name": "ButtonStyleModel",
      "state": {}
     },
     "0245003ccd2841409550b2bae319117d": {
      "model_module": "@jupyter-widgets/controls",
      "model_module_version": "1.2.0",
      "model_name": "ButtonModel",
      "state": {
       "layout": "IPY_MODEL_14873dabb3504fe0973bb24b227f12c7",
       "style": "IPY_MODEL_10e385a90fc6457d8777b08002f2cd80"
      }
     },
     "024e82e3875349dd8a3d4b7d75ae6924": {
      "model_module": "@jupyter-widgets/controls",
      "model_module_version": "1.2.0",
      "model_name": "ButtonModel",
      "state": {
       "button_style": "warning",
       "description": "1",
       "layout": "IPY_MODEL_16df380d38fb47a2bbb217b953037b65",
       "style": "IPY_MODEL_31efcbd8615e4604892ce566df82581a"
      }
     },
     "024fde54eafb433c8618907975c955db": {
      "model_module": "@jupyter-widgets/controls",
      "model_module_version": "1.2.0",
      "model_name": "ButtonModel",
      "state": {
       "layout": "IPY_MODEL_fab719789b8e45a592a40bdcb0d6d5da",
       "style": "IPY_MODEL_c5bbd99760284cfeaee783676cffbdf3"
      }
     },
     "025c01db33084a36bf46e39af5070c38": {
      "model_module": "@jupyter-widgets/controls",
      "model_module_version": "1.2.0",
      "model_name": "VBoxModel",
      "state": {
       "children": [
        "IPY_MODEL_3175ddd07df54d288afed8369205bb77",
        "IPY_MODEL_028d88e137f14a0daeaa31d1fd9d44be"
       ],
       "layout": "IPY_MODEL_52cc1216664b4895941f33f40955e5ef"
      }
     },
     "0272037669d64fcf9aa277a9821f58e9": {
      "model_module": "@jupyter-widgets/controls",
      "model_module_version": "1.2.0",
      "model_name": "GridBoxModel",
      "state": {
       "children": [
        "IPY_MODEL_7bad3d10f3b948afbac0fef79a7642e6",
        "IPY_MODEL_935a386dce78450b8000bab524fe485b",
        "IPY_MODEL_6f7b79066b9c489ba8ab367505076cce",
        "IPY_MODEL_a22ec6c1428d4a56af8d71051b02ab02",
        "IPY_MODEL_791b1a448ee445b4a800236e84cbe744",
        "IPY_MODEL_c2de3764856349a8986ad3c26db3b81b",
        "IPY_MODEL_24d2cb71f27b4cc18ccb8e13707446bb",
        "IPY_MODEL_626aca11d21f484eb76bb5f2afb93394",
        "IPY_MODEL_c4ae0f0399054b399ffd361108b2f6e5",
        "IPY_MODEL_9cb6728c6c5e4416864127d7cc3e75fa"
       ],
       "layout": "IPY_MODEL_11876a09009941129f077d57fc3b8e5d"
      }
     },
     "027edf707eb9494cb0a1e0da0d528b12": {
      "model_module": "@jupyter-widgets/base",
      "model_module_version": "1.0.0",
      "model_name": "LayoutModel",
      "state": {
       "height": "20px",
       "width": "auto"
      }
     },
     "028d88e137f14a0daeaa31d1fd9d44be": {
      "model_module": "@jupyter-widgets/controls",
      "model_module_version": "1.2.0",
      "model_name": "ButtonModel",
      "state": {
       "description": "staple",
       "layout": "IPY_MODEL_9c68d9336df247afa0aa355082952c78",
       "style": "IPY_MODEL_24bf6347bae3420da98405dc4b06b602"
      }
     },
     "02e955f32d264b68bc8f09f620570e4d": {
      "model_module": "@jupyter-widgets/controls",
      "model_module_version": "1.2.0",
      "model_name": "BoxModel",
      "state": {
       "children": [
        "IPY_MODEL_eb173f7dcd8d4c93ae34a9f4d8cef416",
        "IPY_MODEL_9ad0e9460cf94ed4a804d7f3c8041c58",
        "IPY_MODEL_465cf363a30d46808f877952129f8421"
       ],
       "layout": "IPY_MODEL_be241b3db3164678961a247be443c5d0"
      }
     },
     "0326bf242c4b4a0bb0c39cf6494ef1c0": {
      "model_module": "@jupyter-widgets/controls",
      "model_module_version": "1.2.0",
      "model_name": "LabelModel",
      "state": {
       "layout": "IPY_MODEL_fc4306ef20784c9c9f831b812d02a4bf",
       "style": "IPY_MODEL_c8a91f900f9f4f7da64b193accc79a77",
       "value": "\\(e=mc^2\\)"
      }
     },
     "034930c97f4a4f2ab7c6d350371378fa": {
      "model_module": "@jupyter-widgets/controls",
      "model_module_version": "1.2.0",
      "model_name": "ButtonModel",
      "state": {
       "layout": "IPY_MODEL_cd00ac948481485281a97b3b91a79e4e",
       "style": "IPY_MODEL_9f8e6fc0394240adb3ce249c4fbfc907"
      }
     },
     "038668129d1b4a5b8d88c7a9e6dbe96b": {
      "model_module": "@jupyter-widgets/controls",
      "model_module_version": "1.2.0",
      "model_name": "ButtonStyleModel",
      "state": {}
     },
     "038a0ff051914ada827b976bceb938d2": {
      "model_module": "@jupyter-widgets/controls",
      "model_module_version": "1.2.0",
      "model_name": "ButtonStyleModel",
      "state": {}
     },
     "03901890bc43469596d47aceda60d23d": {
      "model_module": "@jupyter-widgets/controls",
      "model_module_version": "1.2.0",
      "model_name": "ButtonModel",
      "state": {
       "layout": "IPY_MODEL_976f4089175f4418ad58d8b049330d1a",
       "style": "IPY_MODEL_7c756bfb6d78493c9c16ebe512b8a0cb"
      }
     },
     "0392a3e386914427b7b6daab496b6cf5": {
      "model_module": "@jupyter-widgets/controls",
      "model_module_version": "1.2.0",
      "model_name": "ButtonModel",
      "state": {
       "button_style": "warning",
       "description": "10",
       "layout": "IPY_MODEL_e20ec9c5c01e485bbfa90160b80eb8f4",
       "style": "IPY_MODEL_baa4caacfc1e4564bfeff236202361db"
      }
     },
     "0394871910834201be18d3df315a78ff": {
      "model_module": "@jupyter-widgets/controls",
      "model_module_version": "1.2.0",
      "model_name": "ButtonStyleModel",
      "state": {}
     },
     "03a7b93280d84ec2a5e20bd150a0b040": {
      "model_module": "@jupyter-widgets/controls",
      "model_module_version": "1.2.0",
      "model_name": "ButtonModel",
      "state": {
       "layout": "IPY_MODEL_ce60a122c6ac4344891ed1f8d8938683",
       "style": "IPY_MODEL_30c1db351da54e979afc1876c6e97e27"
      }
     },
     "03ca6dcfa9754108aa0aebd35340e430": {
      "model_module": "@jupyter-widgets/controls",
      "model_module_version": "1.2.0",
      "model_name": "LabelModel",
      "state": {
       "layout": "IPY_MODEL_2115da51f17e49df85b333026d1694e8",
       "style": "IPY_MODEL_aad767bbb80346e5b804589d830cca00",
       "value": "Ship size"
      }
     },
     "03f50812816f42f88a41c746f145ce3b": {
      "model_module": "@jupyter-widgets/base",
      "model_module_version": "1.0.0",
      "model_name": "LayoutModel",
      "state": {
       "grid_area": "header",
       "width": "auto"
      }
     },
     "04054cfec5184f44b1ac2979decb3155": {
      "model_module": "@jupyter-widgets/controls",
      "model_module_version": "1.2.0",
      "model_name": "ButtonStyleModel",
      "state": {}
     },
     "0447d14ed08b489fab921ee537f91ab5": {
      "model_module": "@jupyter-widgets/controls",
      "model_module_version": "1.2.0",
      "model_name": "ButtonStyleModel",
      "state": {}
     },
     "0457e5c5d4c941bcb14f21efaaba3e6c": {
      "model_module": "@jupyter-widgets/controls",
      "model_module_version": "1.2.0",
      "model_name": "ButtonModel",
      "state": {
       "description": "staple",
       "layout": "IPY_MODEL_4ed4c9ec5e1c40ebb5f03342a140f9d0",
       "style": "IPY_MODEL_e90b5b93e7ab432788e15c9ad389d576"
      }
     },
     "04968d543d694c63940f9386c399c6cd": {
      "model_module": "@jupyter-widgets/base",
      "model_module_version": "1.0.0",
      "model_name": "LayoutModel",
      "state": {
       "grid_area": "sidebar",
       "width": "auto"
      }
     },
     "04cf0090fd574f089d678ef123180595": {
      "model_module": "@jupyter-widgets/controls",
      "model_module_version": "1.2.0",
      "model_name": "GridBoxModel",
      "state": {
       "children": [
        "IPY_MODEL_feffe35cf3b34784afdb16ee614b3fca",
        "IPY_MODEL_c857e9573e7c40d794210222fa1cfe44",
        "IPY_MODEL_4dadb9a37ece4052b418594dddf23ee6",
        "IPY_MODEL_bfe010fc640e4377b2a807ba6150e3da",
        "IPY_MODEL_e4f3c0316bbd491398e2d793aede1f6c",
        "IPY_MODEL_19c35cb8bb4445288a64a3d132109931",
        "IPY_MODEL_afa7d5a1c3d44ec98194c7915c50687c",
        "IPY_MODEL_94a139b9b83d49708336bb7cff31f5ef",
        "IPY_MODEL_0bb6f8ee83bf47a4b3be0184654dab0c",
        "IPY_MODEL_7fd1b82aae984836b171907daa1a6c11"
       ],
       "layout": "IPY_MODEL_9472a9672e03404d9189c0b111132469"
      }
     },
     "04d4a250243f4616bc3ced893cb58f50": {
      "model_module": "@jupyter-widgets/controls",
      "model_module_version": "1.2.0",
      "model_name": "ButtonModel",
      "state": {
       "button_style": "warning",
       "description": "38",
       "layout": "IPY_MODEL_79e6f20409fa4963aff904a921b6d604",
       "style": "IPY_MODEL_98e3491b77d44962bf62ac15aab4c527"
      }
     },
     "05049a21489348d3a0577751a5a15555": {
      "model_module": "@jupyter-widgets/controls",
      "model_module_version": "1.2.0",
      "model_name": "ButtonModel",
      "state": {
       "layout": "IPY_MODEL_3d81651a297740e381ac147d7c10fcbe",
       "style": "IPY_MODEL_1cf5d192ee484d3a9bd72310006808c3"
      }
     },
     "0524f3af8726409c8c03b9ea80cd486f": {
      "model_module": "@jupyter-widgets/controls",
      "model_module_version": "1.2.0",
      "model_name": "ButtonModel",
      "state": {
       "button_style": "warning",
       "description": "33",
       "layout": "IPY_MODEL_a810a994ec8c404f8136c2e39def56aa",
       "style": "IPY_MODEL_4abf023ad0354aed9a46c5547741c5e6"
      }
     },
     "053416f2f9cd4c36afdfcbf7eab28483": {
      "model_module": "@jupyter-widgets/controls",
      "model_module_version": "1.2.0",
      "model_name": "ButtonModel",
      "state": {
       "button_style": "warning",
       "description": "28",
       "layout": "IPY_MODEL_d2db15f9d1834946bd4923f3faf2a54f",
       "style": "IPY_MODEL_4d209b7dcc3841c189e9eed7f75f8fab"
      }
     },
     "0550e23917514aa6852d74bb6b3a95cb": {
      "model_module": "@jupyter-widgets/controls",
      "model_module_version": "1.2.0",
      "model_name": "ButtonModel",
      "state": {
       "layout": "IPY_MODEL_13e0059cd680446a8dbed4b733138cf5",
       "style": "IPY_MODEL_62970e40a51d4456bef4bf5ba64f5b65"
      }
     },
     "05716057485b4cada640aec030047472": {
      "model_module": "@jupyter-widgets/controls",
      "model_module_version": "1.2.0",
      "model_name": "BoxModel",
      "state": {
       "children": [
        "IPY_MODEL_ac45e16d52ce49a7ac9bba45d188ddb3",
        "IPY_MODEL_b6b6d326b35343b2a70f762d7a03ce34",
        "IPY_MODEL_1133270d53924b0c9449ff92faaf3927"
       ],
       "layout": "IPY_MODEL_4db9ed19a7e543018cd1e65923b903fa"
      }
     },
     "05917192c0924ee1a83f4a69cbd1b3a7": {
      "model_module": "@jupyter-widgets/controls",
      "model_module_version": "1.2.0",
      "model_name": "FloatTextModel",
      "state": {
       "layout": "IPY_MODEL_9fb081bed51345d0a2608c177bd9bf49",
       "step": null,
       "style": "IPY_MODEL_de8ccfe5b4af478d828a6c94fb4c2ec4"
      }
     },
     "059243775f024c03bc32fd49a5f105d5": {
      "model_module": "@jupyter-widgets/base",
      "model_module_version": "1.0.0",
      "model_name": "LayoutModel",
      "state": {
       "height": "auto",
       "width": "auto"
      }
     },
     "05c69629beb149a19df56781760adf4f": {
      "model_module": "@jupyter-widgets/controls",
      "model_module_version": "1.2.0",
      "model_name": "ButtonStyleModel",
      "state": {}
     },
     "05d3bf5c323d4098a171088c48ccfd50": {
      "model_module": "@jupyter-widgets/controls",
      "model_module_version": "1.2.0",
      "model_name": "ButtonStyleModel",
      "state": {}
     },
     "05f3d4a6c71a4f32ab9a083f547514f8": {
      "model_module": "@jupyter-widgets/controls",
      "model_module_version": "1.2.0",
      "model_name": "ButtonStyleModel",
      "state": {}
     },
     "05ffb4a215c44ac5a28a566e470a6adc": {
      "model_module": "@jupyter-widgets/base",
      "model_module_version": "1.0.0",
      "model_name": "LayoutModel",
      "state": {}
     },
     "060737f4af6e4bc7932ab11fcf6efe6e": {
      "model_module": "@jupyter-widgets/controls",
      "model_module_version": "1.2.0",
      "model_name": "ButtonModel",
      "state": {
       "layout": "IPY_MODEL_54dc1791cb77472c8ca601c93d0b0fe1",
       "style": "IPY_MODEL_7ed56417629a4d9b9036b1526486d661"
      }
     },
     "0634913131cb4404bad10f08dad16e61": {
      "model_module": "@jupyter-widgets/controls",
      "model_module_version": "1.2.0",
      "model_name": "ButtonModel",
      "state": {
       "button_style": "danger",
       "description": "battery",
       "layout": "IPY_MODEL_5f7d632704bc43f3aec71cf1efb26bdd",
       "style": "IPY_MODEL_ca7a92c0a7834a6e8f6f5ec805f4e028"
      }
     },
     "0644b7b8372048b8bdbd9a2fb6cbe839": {
      "model_module": "@jupyter-widgets/base",
      "model_module_version": "1.0.0",
      "model_name": "LayoutModel",
      "state": {
       "height": "auto",
       "width": "auto"
      }
     },
     "065b9e52d648497e8a15203eea972322": {
      "model_module": "@jupyter-widgets/controls",
      "model_module_version": "1.2.0",
      "model_name": "ButtonModel",
      "state": {
       "button_style": "warning",
       "description": "36",
       "layout": "IPY_MODEL_79e6f20409fa4963aff904a921b6d604",
       "style": "IPY_MODEL_82fd0b8125cb47e7b3e73c398b45fcac"
      }
     },
     "066954f45e5e4d84ad45ee0f553b94d8": {
      "model_module": "@jupyter-widgets/controls",
      "model_module_version": "1.2.0",
      "model_name": "ButtonStyleModel",
      "state": {
       "button_color": "darkseagreen"
      }
     },
     "066c64ee770e4bff98f5ffe29bf30df6": {
      "model_module": "@jupyter-widgets/controls",
      "model_module_version": "1.2.0",
      "model_name": "ButtonStyleModel",
      "state": {}
     },
     "0683f0f4f50141c48a21ae10572b3fc1": {
      "model_module": "@jupyter-widgets/controls",
      "model_module_version": "1.2.0",
      "model_name": "ButtonStyleModel",
      "state": {
       "button_color": "#77A"
      }
     },
     "0691746f11a7456c9b722993225b8af5": {
      "model_module": "@jupyter-widgets/controls",
      "model_module_version": "1.2.0",
      "model_name": "ButtonStyleModel",
      "state": {}
     },
     "069d3778d2d8451c916245aecdf11dc5": {
      "model_module": "@jupyter-widgets/controls",
      "model_module_version": "1.2.0",
      "model_name": "ButtonStyleModel",
      "state": {
       "button_color": "blue"
      }
     },
     "06a8ea025a024fcb8ec095adf4bf9e26": {
      "model_module": "@jupyter-widgets/controls",
      "model_module_version": "1.2.0",
      "model_name": "BoxModel",
      "state": {
       "children": [
        "IPY_MODEL_db6221b797a14b14a7ef60699f157690",
        "IPY_MODEL_080df5803e3a444eaf6c438a07a3a334",
        "IPY_MODEL_4b7aa337b2d745f996df5b9e011dedc9",
        "IPY_MODEL_fc15e98ad8744cdd8119ca28f9df84c7"
       ],
       "layout": "IPY_MODEL_efb19bd1d76e4dec841c3b31b802b4be"
      }
     },
     "06b7e1f5deb9492c8af3a53dfcd627e2": {
      "model_module": "@jupyter-widgets/controls",
      "model_module_version": "1.2.0",
      "model_name": "ButtonModel",
      "state": {
       "layout": "IPY_MODEL_c9ea692baeb946de96bd3ed36e154abc",
       "style": "IPY_MODEL_b3edc635b2c84d788caf728edd9f1bbf"
      }
     },
     "06ea428ab6c644cea48706742d8caefd": {
      "model_module": "@jupyter-widgets/base",
      "model_module_version": "1.0.0",
      "model_name": "LayoutModel",
      "state": {
       "grid_gap": "4px 2px",
       "grid_template": "50px 100px / 25% 10% auto 200px"
      }
     },
     "0714a84036ab409d83aef7105d353f6f": {
      "model_module": "@jupyter-widgets/controls",
      "model_module_version": "1.2.0",
      "model_name": "ButtonModel",
      "state": {
       "button_style": "warning",
       "description": "20",
       "layout": "IPY_MODEL_79e6f20409fa4963aff904a921b6d604",
       "style": "IPY_MODEL_a9d942f725f14c97b8bc5e29af6ffdd9"
      }
     },
     "0763e0193b6b4abea9a21820609df242": {
      "model_module": "@jupyter-widgets/controls",
      "model_module_version": "1.2.0",
      "model_name": "ButtonStyleModel",
      "state": {}
     },
     "0770531542af420fb56145ee410de3ab": {
      "model_module": "@jupyter-widgets/controls",
      "model_module_version": "1.2.0",
      "model_name": "ButtonModel",
      "state": {
       "button_style": "danger",
       "description": "battery",
       "layout": "IPY_MODEL_9c32ec512a2c44cd9f57fac2a3aca9a1",
       "style": "IPY_MODEL_ec7436d6e29c462fafce3e9d3f8181f5"
      }
     },
     "0793da56823645eab807e2bbf7d58b15": {
      "model_module": "@jupyter-widgets/controls",
      "model_module_version": "1.2.0",
      "model_name": "ButtonStyleModel",
      "state": {}
     },
     "079c2cf5ec2b4704a543517b0f1680ec": {
      "model_module": "@jupyter-widgets/controls",
      "model_module_version": "1.2.0",
      "model_name": "ButtonModel",
      "state": {
       "layout": "IPY_MODEL_8c7d17fa9b6a48b7832b66d2d78dfc94",
       "style": "IPY_MODEL_93c601c0104e4a80b599e176116bffa0"
      }
     },
     "07a275eb1f3a4707bd39b40756a6c0ec": {
      "model_module": "@jupyter-widgets/controls",
      "model_module_version": "1.2.0",
      "model_name": "ButtonStyleModel",
      "state": {}
     },
     "07ced018d79b48bf9ac2e2dc0eb40a02": {
      "model_module": "@jupyter-widgets/controls",
      "model_module_version": "1.2.0",
      "model_name": "ButtonStyleModel",
      "state": {}
     },
     "07d3f4590649495796f304ae319799ef": {
      "model_module": "@jupyter-widgets/controls",
      "model_module_version": "1.2.0",
      "model_name": "ButtonStyleModel",
      "state": {}
     },
     "07db550ceabf4d3b9a2b766203f7cf78": {
      "model_module": "@jupyter-widgets/controls",
      "model_module_version": "1.2.0",
      "model_name": "ButtonModel",
      "state": {
       "layout": "IPY_MODEL_a0e22ef5a1134a18b8992c7e7045c52c",
       "style": "IPY_MODEL_f510e5b048dd4673974ecf75cd2efdc2"
      }
     },
     "07deecf0fa6e4f7c884ef27ced2742d2": {
      "model_module": "@jupyter-widgets/controls",
      "model_module_version": "1.2.0",
      "model_name": "ButtonModel",
      "state": {
       "button_style": "warning",
       "description": "32",
       "layout": "IPY_MODEL_79e6f20409fa4963aff904a921b6d604",
       "style": "IPY_MODEL_3b4b1ad7423e4a5495ccd74ccfd82609"
      }
     },
     "07f306a06316433aa85b784d11d025dd": {
      "model_module": "@jupyter-widgets/controls",
      "model_module_version": "1.2.0",
      "model_name": "ButtonModel",
      "state": {
       "layout": "IPY_MODEL_706d95b63d0144b6a672412f3a219036",
       "style": "IPY_MODEL_277c934b11bc42e19bb9c96f5c27d876"
      }
     },
     "07f4c746f33144f2a1e68056a07a39f4": {
      "model_module": "@jupyter-widgets/controls",
      "model_module_version": "1.2.0",
      "model_name": "ButtonStyleModel",
      "state": {
       "button_color": "blue"
      }
     },
     "0801caeeb1ee465e9950b71b2a593a53": {
      "model_module": "@jupyter-widgets/controls",
      "model_module_version": "1.2.0",
      "model_name": "ButtonStyleModel",
      "state": {}
     },
     "080df5803e3a444eaf6c438a07a3a334": {
      "model_module": "@jupyter-widgets/controls",
      "model_module_version": "1.2.0",
      "model_name": "BoxModel",
      "state": {
       "children": [
        "IPY_MODEL_713eedd7236c4419af78f5a71ae37c7d",
        "IPY_MODEL_b5769b28f4a4493bbf329a2cbf4f2019"
       ],
       "layout": "IPY_MODEL_a41eb3128c334307828b7385fc9efed5"
      }
     },
     "082fbe2cb8ff4de98b545dd6d9af97a4": {
      "model_module": "@jupyter-widgets/controls",
      "model_module_version": "1.2.0",
      "model_name": "ButtonStyleModel",
      "state": {}
     },
     "0847ee668ce347f8a931be39371ef6dc": {
      "model_module": "@jupyter-widgets/controls",
      "model_module_version": "1.2.0",
      "model_name": "IntSliderModel",
      "state": {
       "layout": "IPY_MODEL_129ee1ce79774829976a40141ad522d1",
       "max": 60,
       "min": 40,
       "style": "IPY_MODEL_b3c7a8008f55494fb7a3420e3f4481b6",
       "value": 40
      }
     },
     "08570b0555d44050af2962e5727282c4": {
      "model_module": "@jupyter-widgets/controls",
      "model_module_version": "1.2.0",
      "model_name": "ButtonStyleModel",
      "state": {}
     },
     "0869477180c04e2ebb0476bfdc6a12dd": {
      "model_module": "@jupyter-widgets/controls",
      "model_module_version": "1.2.0",
      "model_name": "ButtonModel",
      "state": {
       "layout": "IPY_MODEL_027edf707eb9494cb0a1e0da0d528b12",
       "style": "IPY_MODEL_b04fd43aa61d476ba3c9d541102e8930"
      }
     },
     "08785d807ef947d1bbc98cc58fe8246e": {
      "model_module": "@jupyter-widgets/controls",
      "model_module_version": "1.2.0",
      "model_name": "ButtonStyleModel",
      "state": {}
     },
     "0899071ddb57466a923546dec061f97b": {
      "model_module": "@jupyter-widgets/controls",
      "model_module_version": "1.2.0",
      "model_name": "ButtonModel",
      "state": {
       "layout": "IPY_MODEL_027edf707eb9494cb0a1e0da0d528b12",
       "style": "IPY_MODEL_259d28079d6e4a67b144970d47505dca"
      }
     },
     "08a242025bf34d5eb99f37067c37583c": {
      "model_module": "@jupyter-widgets/controls",
      "model_module_version": "1.2.0",
      "model_name": "ButtonStyleModel",
      "state": {}
     },
     "08ab0ade0a624745b89113881639f8c7": {
      "model_module": "@jupyter-widgets/controls",
      "model_module_version": "1.2.0",
      "model_name": "ButtonModel",
      "state": {
       "description": "horse",
       "layout": "IPY_MODEL_a6a06f5d42a14930ae5504cfb3200f66",
       "style": "IPY_MODEL_d0968f5af7e640b9b080b68fcca78e2e"
      }
     },
     "08b222f6cef24381b74c8351c56d2a95": {
      "model_module": "@jupyter-widgets/controls",
      "model_module_version": "1.2.0",
      "model_name": "ButtonStyleModel",
      "state": {
       "button_color": "darkseagreen"
      }
     },
     "08b6ebdb0e1b41548f19ae9890385433": {
      "model_module": "@jupyter-widgets/controls",
      "model_module_version": "1.2.0",
      "model_name": "ButtonStyleModel",
      "state": {}
     },
     "08c681f71ec44598957d6ef0cd0c644d": {
      "model_module": "@jupyter-widgets/controls",
      "model_module_version": "1.2.0",
      "model_name": "ButtonStyleModel",
      "state": {}
     },
     "08d24c7819a148b6adedb7bebccebd99": {
      "model_module": "@jupyter-widgets/base",
      "model_module_version": "1.0.0",
      "model_name": "LayoutModel",
      "state": {}
     },
     "08ddd1764fb94c13b30a47c61691fa63": {
      "model_module": "@jupyter-widgets/controls",
      "model_module_version": "1.2.0",
      "model_name": "ButtonModel",
      "state": {
       "layout": "IPY_MODEL_0092c073e9a448b1b99ac9470c49fef5",
       "style": "IPY_MODEL_e5f0c4a58f884bfc8620057261cc7ca0"
      }
     },
     "0904ea1c6f6941a9ac970ba6b190985d": {
      "model_module": "@jupyter-widgets/controls",
      "model_module_version": "1.2.0",
      "model_name": "ButtonModel",
      "state": {
       "button_style": "warning",
       "description": "37",
       "layout": "IPY_MODEL_16df380d38fb47a2bbb217b953037b65",
       "style": "IPY_MODEL_1be7e65093244c17b3f31edce942372f"
      }
     },
     "09142be2787f498d95f54e1204841ff8": {
      "model_module": "@jupyter-widgets/controls",
      "model_module_version": "1.2.0",
      "model_name": "ButtonStyleModel",
      "state": {}
     },
     "096ebc5a2e204b908914d7e4cfad67ab": {
      "model_module": "@jupyter-widgets/controls",
      "model_module_version": "1.2.0",
      "model_name": "BoxModel",
      "state": {
       "children": [
        "IPY_MODEL_3785493429b54588bd67e62c2113235f",
        "IPY_MODEL_00fc649f05114a44b5948eef74493e07",
        "IPY_MODEL_87b5a152aeb24afeaeeaf995fa2b82f3"
       ],
       "layout": "IPY_MODEL_f4563fc070fb4fedaff224e2c1e94d71"
      }
     },
     "0973bc2c47884cdaa0108d647ae70eae": {
      "model_module": "@jupyter-widgets/controls",
      "model_module_version": "1.2.0",
      "model_name": "ButtonStyleModel",
      "state": {}
     },
     "0975f2e81bab4e6a95bd4b99c96f3502": {
      "model_module": "@jupyter-widgets/controls",
      "model_module_version": "1.2.0",
      "model_name": "ButtonModel",
      "state": {
       "button_style": "warning",
       "description": "19",
       "layout": "IPY_MODEL_d2db15f9d1834946bd4923f3faf2a54f",
       "style": "IPY_MODEL_0d1ee482e84f4df8948a2a2e645bf93e"
      }
     },
     "09894aefd5f045f6bc1e04918febc090": {
      "model_module": "@jupyter-widgets/base",
      "model_module_version": "1.0.0",
      "model_name": "LayoutModel",
      "state": {}
     },
     "098ec8210636463eac4a46477bd90fa9": {
      "model_module": "@jupyter-widgets/controls",
      "model_module_version": "1.2.0",
      "model_name": "ButtonStyleModel",
      "state": {
       "button_color": "#77A"
      }
     },
     "09a03adbcf8f441a8384b903236e760e": {
      "model_module": "@jupyter-widgets/controls",
      "model_module_version": "1.2.0",
      "model_name": "ButtonStyleModel",
      "state": {}
     },
     "09bbe1f1fc7b4c5cb813271d906a80af": {
      "model_module": "@jupyter-widgets/base",
      "model_module_version": "1.0.0",
      "model_name": "LayoutModel",
      "state": {
       "height": "60px",
       "width": "auto"
      }
     },
     "09c4d177a702474f8079c1af19c69d8a": {
      "model_module": "@jupyter-widgets/controls",
      "model_module_version": "1.2.0",
      "model_name": "ButtonStyleModel",
      "state": {}
     },
     "0a07a1b4772944bcbed1fd3eb48633c9": {
      "model_module": "@jupyter-widgets/base",
      "model_module_version": "1.0.0",
      "model_name": "LayoutModel",
      "state": {}
     },
     "0a07dcf0c37b4c8c88bf4f3d0abfc16e": {
      "model_module": "@jupyter-widgets/controls",
      "model_module_version": "1.2.0",
      "model_name": "ButtonModel",
      "state": {
       "button_style": "warning",
       "description": "8",
       "layout": "IPY_MODEL_d2db15f9d1834946bd4923f3faf2a54f",
       "style": "IPY_MODEL_0aa8b8aad53b4034b01a400e2a846e71"
      }
     },
     "0a45cd98a83347c195590640bcb35b45": {
      "model_module": "@jupyter-widgets/controls",
      "model_module_version": "1.2.0",
      "model_name": "ButtonModel",
      "state": {
       "layout": "IPY_MODEL_fec8ce3f01904b3c8e06d877e24f14fc",
       "style": "IPY_MODEL_a728b579477f4f848c68cb118b6d09c6"
      }
     },
     "0a9ed20efbb7425d8ecfbceee53f4183": {
      "model_module": "@jupyter-widgets/base",
      "model_module_version": "1.0.0",
      "model_name": "LayoutModel",
      "state": {
       "grid_area": "footer",
       "width": "auto"
      }
     },
     "0aa1aae1601449e59286b13b4a88825c": {
      "model_module": "@jupyter-widgets/controls",
      "model_module_version": "1.2.0",
      "model_name": "ButtonStyleModel",
      "state": {}
     },
     "0aa8b8aad53b4034b01a400e2a846e71": {
      "model_module": "@jupyter-widgets/controls",
      "model_module_version": "1.2.0",
      "model_name": "ButtonStyleModel",
      "state": {}
     },
     "0ab37bdb82b147c59350aa2834f67f72": {
      "model_module": "@jupyter-widgets/controls",
      "model_module_version": "1.2.0",
      "model_name": "BoxModel",
      "state": {
       "children": [
        "IPY_MODEL_454193fff11e47ab9e4858b081dcb1a4",
        "IPY_MODEL_7edd4e92ca4e4e4fa00462bdbf9ab1e3",
        "IPY_MODEL_e164e46c0cce4791a5ebe50f3f0eac0e",
        "IPY_MODEL_1d9eceab96c34b1f9fba8d7235d58a53"
       ],
       "layout": "IPY_MODEL_9cb94b943e52445f93fba4c4dee627e3"
      }
     },
     "0b186d4f292c41ff958ee32d02f43bdd": {
      "model_module": "@jupyter-widgets/controls",
      "model_module_version": "1.2.0",
      "model_name": "ButtonModel",
      "state": {
       "layout": "IPY_MODEL_bd032ec0085648d8b4bee7b4b2e75fe2",
       "style": "IPY_MODEL_60e170a7ce634ef9a5578b99cb742a11"
      }
     },
     "0b240c6f0d4f479da4a19e4c1de9aa06": {
      "model_module": "@jupyter-widgets/base",
      "model_module_version": "1.0.0",
      "model_name": "LayoutModel",
      "state": {
       "height": "auto",
       "width": "auto"
      }
     },
     "0b28acc339f54dddb6e66bf1f794a5c9": {
      "model_module": "@jupyter-widgets/controls",
      "model_module_version": "1.2.0",
      "model_name": "ButtonModel",
      "state": {
       "description": "staple",
       "layout": "IPY_MODEL_5f12444123c74d26a9927205e09a6118",
       "style": "IPY_MODEL_faa47d4312f14ec998c23796daead486"
      }
     },
     "0b301c9c21ec48038244b71296546e59": {
      "model_module": "@jupyter-widgets/controls",
      "model_module_version": "1.2.0",
      "model_name": "ButtonStyleModel",
      "state": {
       "button_color": "blue"
      }
     },
     "0b30705d137944dda81129e6265c8de7": {
      "model_module": "@jupyter-widgets/base",
      "model_module_version": "1.0.0",
      "model_name": "LayoutModel",
      "state": {
       "height": "auto",
       "width": "auto"
      }
     },
     "0b54094c660041e28aca2a6b52e76181": {
      "model_module": "@jupyter-widgets/controls",
      "model_module_version": "1.2.0",
      "model_name": "ButtonStyleModel",
      "state": {}
     },
     "0b59b14c5692434daa40bbd907023c54": {
      "model_module": "@jupyter-widgets/controls",
      "model_module_version": "1.2.0",
      "model_name": "ButtonModel",
      "state": {
       "button_style": "warning",
       "description": "39",
       "layout": "IPY_MODEL_a810a994ec8c404f8136c2e39def56aa",
       "style": "IPY_MODEL_42882273ea674f778e21235c0fdd4d29"
      }
     },
     "0b628898fa3e4b69b524ad72ee2f2385": {
      "model_module": "@jupyter-widgets/controls",
      "model_module_version": "1.2.0",
      "model_name": "GridBoxModel",
      "state": {
       "children": [
        "IPY_MODEL_a20c1c3d1790456a92efe8d5df55ccfc",
        "IPY_MODEL_1e9284cc51bd4a929a194cef2ee6028a",
        "IPY_MODEL_d3bddd3794424c1f9e85f3d746c01e7c",
        "IPY_MODEL_7a68edc053904d088fdcdc14cde4d314",
        "IPY_MODEL_7ef6314e445844a185d6ca1297bf6258",
        "IPY_MODEL_fc56a3d393474fe5a76415bf4240eab8",
        "IPY_MODEL_a77af6fe9def48e283781e95d25eca59",
        "IPY_MODEL_6cdf7de4db404aa9bc36cda261199834",
        "IPY_MODEL_f2ce827c783b410089bf6f01a554d551",
        "IPY_MODEL_c102c485377b4c8787057d40d05cd674"
       ],
       "layout": "IPY_MODEL_bc3e2014309b4f1c94f8769c56eb9971"
      }
     },
     "0b67d25795954e249c9c7ceb18571550": {
      "model_module": "@jupyter-widgets/controls",
      "model_module_version": "1.2.0",
      "model_name": "ButtonModel",
      "state": {
       "layout": "IPY_MODEL_1a6b0a9053e2452ca410e9de3b4fef7d",
       "style": "IPY_MODEL_864fe372f94d4df7b19e4d77b131b70e"
      }
     },
     "0b6a5703a06b446e87c76c1d84379bb2": {
      "model_module": "@jupyter-widgets/controls",
      "model_module_version": "1.2.0",
      "model_name": "ButtonModel",
      "state": {
       "button_style": "warning",
       "description": "14",
       "layout": "IPY_MODEL_d2db15f9d1834946bd4923f3faf2a54f",
       "style": "IPY_MODEL_6cd9a16b46f0482dbe30a6a0d58b1dda"
      }
     },
     "0b77316c545a4dfd8c3138756eb5e873": {
      "model_module": "@jupyter-widgets/base",
      "model_module_version": "1.0.0",
      "model_name": "LayoutModel",
      "state": {}
     },
     "0b8049b0211e4e78a58235003132e218": {
      "model_module": "@jupyter-widgets/base",
      "model_module_version": "1.0.0",
      "model_name": "LayoutModel",
      "state": {
       "grid_template_areas": "\n        \"header header header header\"\n        \"main main . sidebar \"\n        \"footer footer footer footer\"\n    ",
       "grid_template_columns": "25% 25% 25% 25%",
       "grid_template_rows": "auto auto auto",
       "width": "50%"
      }
     },
     "0b82e7adef8b4095a3a64907a27c9264": {
      "model_module": "@jupyter-widgets/controls",
      "model_module_version": "1.2.0",
      "model_name": "ButtonStyleModel",
      "state": {}
     },
     "0b8b5a39875540fd92d0ba67a6f74b8f": {
      "model_module": "@jupyter-widgets/controls",
      "model_module_version": "1.2.0",
      "model_name": "ButtonModel",
      "state": {
       "layout": "IPY_MODEL_7aa706c4594f4633bfc813ec6eca6e5c",
       "style": "IPY_MODEL_b5c3667d62d249c8a5d2546f7f413b70"
      }
     },
     "0bb6f8ee83bf47a4b3be0184654dab0c": {
      "model_module": "@jupyter-widgets/controls",
      "model_module_version": "1.2.0",
      "model_name": "ButtonModel",
      "state": {
       "layout": "IPY_MODEL_1c81b91358154c19ab0e8986a32d5733",
       "style": "IPY_MODEL_6356ffb792ab4d6593f24605a48af889"
      }
     },
     "0bd6a2d833ad4201bed868972c5d55d4": {
      "model_module": "@jupyter-widgets/controls",
      "model_module_version": "1.2.0",
      "model_name": "ButtonModel",
      "state": {
       "layout": "IPY_MODEL_6f40ca184b52431fb129559993d708e0",
       "style": "IPY_MODEL_e9ab615766dc44c1a85205d8860b565c"
      }
     },
     "0c0fc1e59b914515bc223e6c7d036b96": {
      "model_module": "@jupyter-widgets/base",
      "model_module_version": "1.0.0",
      "model_name": "LayoutModel",
      "state": {
       "height": "auto",
       "width": "auto"
      }
     },
     "0c0ffc327da8491db3d03f3d1ac9a3d1": {
      "model_module": "@jupyter-widgets/controls",
      "model_module_version": "1.2.0",
      "model_name": "ButtonStyleModel",
      "state": {}
     },
     "0c14160f0b754941b2e948a2b531b6aa": {
      "model_module": "@jupyter-widgets/controls",
      "model_module_version": "1.2.0",
      "model_name": "ButtonStyleModel",
      "state": {}
     },
     "0c189b90055d439599dff87198e75ca5": {
      "model_module": "@jupyter-widgets/base",
      "model_module_version": "1.0.0",
      "model_name": "LayoutModel",
      "state": {
       "grid_gap": "4px 4px",
       "grid_template": "50px 100px / 25% 10% auto 200px"
      }
     },
     "0c2e31f2329545469188df7a31084f08": {
      "model_module": "@jupyter-widgets/base",
      "model_module_version": "1.0.0",
      "model_name": "LayoutModel",
      "state": {
       "height": "auto",
       "width": "auto"
      }
     },
     "0c39fb286c1b4b3cb2694058cd4f33cf": {
      "model_module": "@jupyter-widgets/controls",
      "model_module_version": "1.2.0",
      "model_name": "ButtonStyleModel",
      "state": {}
     },
     "0c60b7efff78487a82e79c9804b7684c": {
      "model_module": "@jupyter-widgets/controls",
      "model_module_version": "1.2.0",
      "model_name": "ButtonStyleModel",
      "state": {}
     },
     "0c6e24aff3b24814816c35f8d0c2d772": {
      "model_module": "@jupyter-widgets/controls",
      "model_module_version": "1.2.0",
      "model_name": "ButtonModel",
      "state": {
       "layout": "IPY_MODEL_027edf707eb9494cb0a1e0da0d528b12",
       "style": "IPY_MODEL_d48eb2765fcf4569a2124c7732e40a56"
      }
     },
     "0c983000e9d4432da22ec338797e8043": {
      "model_module": "@jupyter-widgets/controls",
      "model_module_version": "1.2.0",
      "model_name": "ButtonStyleModel",
      "state": {}
     },
     "0cb597d751ce408487696c6a373114ed": {
      "model_module": "@jupyter-widgets/base",
      "model_module_version": "1.0.0",
      "model_name": "LayoutModel",
      "state": {
       "grid_area": "sidebar",
       "width": "auto"
      }
     },
     "0ce80d8a1be44c30ae4644564b3bd5ba": {
      "model_module": "@jupyter-widgets/controls",
      "model_module_version": "1.2.0",
      "model_name": "ButtonStyleModel",
      "state": {}
     },
     "0cf36f1e628b45d0aabd40fe1d5d2b4d": {
      "model_module": "@jupyter-widgets/controls",
      "model_module_version": "1.2.0",
      "model_name": "ButtonModel",
      "state": {
       "button_style": "danger",
       "description": "horse",
       "layout": "IPY_MODEL_9c32ec512a2c44cd9f57fac2a3aca9a1",
       "style": "IPY_MODEL_1512ddbbda4a423c9371bdc67673975d"
      }
     },
     "0d07d2c93d664fbea8b92607eff429ac": {
      "model_module": "@jupyter-widgets/base",
      "model_module_version": "1.0.0",
      "model_name": "LayoutModel",
      "state": {}
     },
     "0d1ee482e84f4df8948a2a2e645bf93e": {
      "model_module": "@jupyter-widgets/controls",
      "model_module_version": "1.2.0",
      "model_name": "ButtonStyleModel",
      "state": {}
     },
     "0d30484229ed48cbb88ebea1bc8b188e": {
      "model_module": "@jupyter-widgets/controls",
      "model_module_version": "1.2.0",
      "model_name": "BoxModel",
      "state": {
       "children": [
        "IPY_MODEL_6ff8608816394464a30167fd66e86369",
        "IPY_MODEL_4c9ef1ad4449400098c4bf37c6e047c6"
       ],
       "layout": "IPY_MODEL_addf6f78f36149718c9b21ed3851d43a"
      }
     },
     "0d3cc528e5cb462aa8566467575c748e": {
      "model_module": "@jupyter-widgets/controls",
      "model_module_version": "1.2.0",
      "model_name": "ButtonModel",
      "state": {
       "layout": "IPY_MODEL_33821dd28f834ae0b483c1651213364a",
       "style": "IPY_MODEL_098ec8210636463eac4a46477bd90fa9"
      }
     },
     "0d589a9906c84270af26d49aba59943e": {
      "model_module": "@jupyter-widgets/controls",
      "model_module_version": "1.2.0",
      "model_name": "ButtonStyleModel",
      "state": {
       "button_color": "blue"
      }
     },
     "0d69731f1a7d4041adf3660e36d448ca": {
      "model_module": "@jupyter-widgets/controls",
      "model_module_version": "1.2.0",
      "model_name": "ButtonModel",
      "state": {
       "description": "battery",
       "layout": "IPY_MODEL_b26986387c7b49358a391b0e19abc7ea",
       "style": "IPY_MODEL_abb87bd4242c48e8ad29b42bb8e77c39"
      }
     },
     "0d86989b593a43e292d0dbe329561f6f": {
      "model_module": "@jupyter-widgets/controls",
      "model_module_version": "1.2.0",
      "model_name": "ButtonModel",
      "state": {
       "layout": "IPY_MODEL_3a3f68ca71bc47e7877bb1b9073933ed",
       "style": "IPY_MODEL_d4c093b9ad02405d8c8c77aee1b97910"
      }
     },
     "0d92f2a7cef94f93bf48bf8151340947": {
      "model_module": "@jupyter-widgets/base",
      "model_module_version": "1.0.0",
      "model_name": "LayoutModel",
      "state": {
       "height": "auto",
       "width": "auto"
      }
     },
     "0d947d8d74b74d1987285538dd08a1c4": {
      "model_module": "@jupyter-widgets/controls",
      "model_module_version": "1.2.0",
      "model_name": "ButtonModel",
      "state": {
       "layout": "IPY_MODEL_dddc482ee42c496ab9986f5ee610bb9f",
       "style": "IPY_MODEL_b7fa459955c948709b99acdb2ad6e81b"
      }
     },
     "0d96cf65a07b4961a590a9259f33ae1b": {
      "model_module": "@jupyter-widgets/controls",
      "model_module_version": "1.2.0",
      "model_name": "ButtonModel",
      "state": {
       "layout": "IPY_MODEL_2bdfdf76c0e14eebaddf584bf14e9325",
       "style": "IPY_MODEL_98fd2d9b3c8c4d7fa92349fa79efe12f"
      }
     },
     "0da3170bbca9487899670a015eead33b": {
      "model_module": "@jupyter-widgets/controls",
      "model_module_version": "1.2.0",
      "model_name": "ButtonStyleModel",
      "state": {}
     },
     "0dde1e3beecd4a5d9b22a781bd4dc322": {
      "model_module": "@jupyter-widgets/controls",
      "model_module_version": "1.2.0",
      "model_name": "ButtonModel",
      "state": {
       "layout": "IPY_MODEL_6f78c389a2aa442f9564842959c99ad1",
       "style": "IPY_MODEL_c8a900dda78444929e3e3cbf5ea12ca1"
      }
     },
     "0debe83240dc4cdcab00896dfbf2725f": {
      "model_module": "@jupyter-widgets/controls",
      "model_module_version": "1.2.0",
      "model_name": "ButtonStyleModel",
      "state": {
       "button_color": "#77A"
      }
     },
     "0e11fdc1c495455d8eb62ae1644f8567": {
      "model_module": "@jupyter-widgets/controls",
      "model_module_version": "1.2.0",
      "model_name": "GridBoxModel",
      "state": {
       "children": [
        "IPY_MODEL_261fece4380e47808f0bb2f2f516351e",
        "IPY_MODEL_19aaf858b73b49c7b6a452aeef5e1b07",
        "IPY_MODEL_ef19f948813c4d1a920d0cc38dc54384",
        "IPY_MODEL_5016ce2c9bd44a26a3ae23b7e35e46e6"
       ],
       "layout": "IPY_MODEL_1130b10e86ae4fb88f1a5a3e1ce685aa"
      }
     },
     "0e370b39ed4f410eb0dcafda8f0fc9f9": {
      "model_module": "@jupyter-widgets/controls",
      "model_module_version": "1.2.0",
      "model_name": "ButtonStyleModel",
      "state": {}
     },
     "0e52c74081a740289c252fe36745b6e4": {
      "model_module": "@jupyter-widgets/controls",
      "model_module_version": "1.2.0",
      "model_name": "ButtonStyleModel",
      "state": {}
     },
     "0e573e7b0b134be9bb8921c8f60e3e10": {
      "model_module": "@jupyter-widgets/controls",
      "model_module_version": "1.2.0",
      "model_name": "ButtonStyleModel",
      "state": {}
     },
     "0e5fde1b3244427da5374aa51154d343": {
      "model_module": "@jupyter-widgets/controls",
      "model_module_version": "1.2.0",
      "model_name": "ButtonStyleModel",
      "state": {}
     },
     "0e7280ecc1394d29a9f4fc24ed947f19": {
      "model_module": "@jupyter-widgets/controls",
      "model_module_version": "1.2.0",
      "model_name": "ButtonStyleModel",
      "state": {
       "button_color": "blue"
      }
     },
     "0e7dec8e6aa041929922b9bfdc12b910": {
      "model_module": "@jupyter-widgets/controls",
      "model_module_version": "1.2.0",
      "model_name": "ButtonStyleModel",
      "state": {}
     },
     "0e7eb0b0bcc24d3e9e361aeab00e9a86": {
      "model_module": "@jupyter-widgets/controls",
      "model_module_version": "1.2.0",
      "model_name": "ButtonStyleModel",
      "state": {}
     },
     "0e7f3faaa55a4bab93e04dfdd2b368c4": {
      "model_module": "@jupyter-widgets/controls",
      "model_module_version": "1.2.0",
      "model_name": "HBoxModel",
      "state": {
       "children": [
        "IPY_MODEL_80cea5329a05486d8de32d10b8894f95",
        "IPY_MODEL_4eec5a71624d44e2b17d4798b42513cc"
       ],
       "layout": "IPY_MODEL_c86f3754fbfa42a09f607d9afa620924"
      }
     },
     "0e85e4b4a98c40e1bbe553876786cae8": {
      "model_module": "@jupyter-widgets/base",
      "model_module_version": "1.0.0",
      "model_name": "LayoutModel",
      "state": {}
     },
     "0e97cf40974745e6ad990eb2507d73f5": {
      "model_module": "@jupyter-widgets/controls",
      "model_module_version": "1.2.0",
      "model_name": "ButtonModel",
      "state": {
       "layout": "IPY_MODEL_36a441e29f00483985e00d555e6108b7",
       "style": "IPY_MODEL_0683f0f4f50141c48a21ae10572b3fc1"
      }
     },
     "0ea2c221e71a4668a324a15eac7fdaab": {
      "model_module": "@jupyter-widgets/controls",
      "model_module_version": "1.2.0",
      "model_name": "ButtonModel",
      "state": {
       "layout": "IPY_MODEL_df9e2e0507484692b334d2df271d390d",
       "style": "IPY_MODEL_f32c89a6592d4e6581d2fc66a4b8f7da"
      }
     },
     "0eaa70ef716b439195001d9a9b45c9b7": {
      "model_module": "@jupyter-widgets/base",
      "model_module_version": "1.0.0",
      "model_name": "LayoutModel",
      "state": {
       "grid_area": "footer",
       "width": "auto"
      }
     },
     "0eb923843eaa4ed88bd14ccb12e04dd8": {
      "model_module": "@jupyter-widgets/controls",
      "model_module_version": "1.2.0",
      "model_name": "ButtonStyleModel",
      "state": {}
     },
     "0eba417b71724b9b8e118f6ecb9beb2e": {
      "model_module": "@jupyter-widgets/controls",
      "model_module_version": "1.2.0",
      "model_name": "ButtonModel",
      "state": {
       "description": "Sidebar",
       "layout": "IPY_MODEL_bb513be7901a4b8ea5859bd96213facb",
       "style": "IPY_MODEL_6689970a7f5c4f50947d444b6339033d"
      }
     },
     "0eef5604109c4621b765746d09036b73": {
      "model_module": "@jupyter-widgets/controls",
      "model_module_version": "1.2.0",
      "model_name": "ButtonModel",
      "state": {
       "layout": "IPY_MODEL_2dbf7836189c43ceacedac172f168e48",
       "style": "IPY_MODEL_1c333f95c2504843b4fa59f702ae7f34"
      }
     },
     "0efa2ecda5704ff4bd450c765eecd773": {
      "model_module": "@jupyter-widgets/controls",
      "model_module_version": "1.2.0",
      "model_name": "DescriptionStyleModel",
      "state": {
       "description_width": ""
      }
     },
     "0f05846806bb49de9494f1dc09ccf8c9": {
      "model_module": "@jupyter-widgets/controls",
      "model_module_version": "1.2.0",
      "model_name": "ButtonStyleModel",
      "state": {}
     },
     "0f061107c3d941f393353fec07b3a195": {
      "model_module": "@jupyter-widgets/controls",
      "model_module_version": "1.2.0",
      "model_name": "ButtonStyleModel",
      "state": {}
     },
     "0f1b07afc8b74a9ea9fe34a83b541237": {
      "model_module": "@jupyter-widgets/controls",
      "model_module_version": "1.2.0",
      "model_name": "ButtonStyleModel",
      "state": {}
     },
     "0f2250074a5b427d84face4e8964d036": {
      "model_module": "@jupyter-widgets/controls",
      "model_module_version": "1.2.0",
      "model_name": "ButtonStyleModel",
      "state": {
       "button_color": "green"
      }
     },
     "0f2f5f1dc9c9441e8cef8d5fe3a70697": {
      "model_module": "@jupyter-widgets/base",
      "model_module_version": "1.0.0",
      "model_name": "LayoutModel",
      "state": {
       "grid_area": "header",
       "width": "auto"
      }
     },
     "0f377db9c9cd481fa3891a69582ee452": {
      "model_module": "@jupyter-widgets/controls",
      "model_module_version": "1.2.0",
      "model_name": "ButtonModel",
      "state": {
       "description": "staple",
       "layout": "IPY_MODEL_0d07d2c93d664fbea8b92607eff429ac",
       "style": "IPY_MODEL_fbd149af9dc047e991c122a5eddaea86"
      }
     },
     "0f5b526a3c09463a8024a8f374fd4112": {
      "model_module": "@jupyter-widgets/controls",
      "model_module_version": "1.2.0",
      "model_name": "VBoxModel",
      "state": {
       "children": [
        "IPY_MODEL_05716057485b4cada640aec030047472",
        "IPY_MODEL_5b0a1f1da978427daa8cc2968faa6441"
       ],
       "layout": "IPY_MODEL_a0c3ed548c36450489d9da0387a3de22"
      }
     },
     "0f6b6131ac5c420db0e594cee9b2b5eb": {
      "model_module": "@jupyter-widgets/controls",
      "model_module_version": "1.2.0",
      "model_name": "GridBoxModel",
      "state": {
       "children": [
        "IPY_MODEL_abde9670932943d1961f9c631aff49b6",
        "IPY_MODEL_536c9b5878ea4f26a37db8d4868eed2d",
        "IPY_MODEL_567481646e744fcc8816cbb12be4d228",
        "IPY_MODEL_05049a21489348d3a0577751a5a15555",
        "IPY_MODEL_9149e8bc0b3644008cfb653017b1e0bb",
        "IPY_MODEL_601f1bbb0a524adfb3106e26410de907",
        "IPY_MODEL_69e4d5c6cbfd488994f06aad82ad2cdb",
        "IPY_MODEL_6e7ac3ea208f4bbaa6aa949faf67890c",
        "IPY_MODEL_f1badb8a356d433bb0c49e5cf3580e71",
        "IPY_MODEL_2b3aed36a68f4f6296dbde14945d3d73"
       ],
       "layout": "IPY_MODEL_9012aec664724ba4922e498b1690e2c2"
      }
     },
     "0f7109237b4346e997a2c8d48ea4cf39": {
      "model_module": "@jupyter-widgets/controls",
      "model_module_version": "1.2.0",
      "model_name": "ButtonModel",
      "state": {
       "layout": "IPY_MODEL_3ee33ef73484447eacd6651d43b68f93",
       "style": "IPY_MODEL_133421ea88d1460d827ea075c0750d24"
      }
     },
     "0f8d744709024d079e466d4e5cc97459": {
      "model_module": "@jupyter-widgets/base",
      "model_module_version": "1.0.0",
      "model_name": "LayoutModel",
      "state": {
       "grid_area": "header",
       "width": "auto"
      }
     },
     "0f8fab5875984054a7f4d69598255738": {
      "model_module": "@jupyter-widgets/base",
      "model_module_version": "1.0.0",
      "model_name": "LayoutModel",
      "state": {}
     },
     "0f990f255a6941999c723ad2b3bc352e": {
      "model_module": "@jupyter-widgets/base",
      "model_module_version": "1.0.0",
      "model_name": "LayoutModel",
      "state": {
       "grid_gap": "3px 3px",
       "grid_template": "50px 100px / 25% 10% auto 200px"
      }
     },
     "0f9d590890e540c2a48427a19972d03b": {
      "model_module": "@jupyter-widgets/base",
      "model_module_version": "1.0.0",
      "model_name": "LayoutModel",
      "state": {}
     },
     "0fcd071b27554a4eb7e12a3cfa99173b": {
      "model_module": "@jupyter-widgets/controls",
      "model_module_version": "1.2.0",
      "model_name": "ButtonStyleModel",
      "state": {}
     },
     "0fd65e03f9424f7b9d48f76082683ea4": {
      "model_module": "@jupyter-widgets/base",
      "model_module_version": "1.0.0",
      "model_name": "LayoutModel",
      "state": {}
     },
     "0fdef5837bd64089bd9514b2833a4312": {
      "model_module": "@jupyter-widgets/controls",
      "model_module_version": "1.2.0",
      "model_name": "ButtonModel",
      "state": {
       "layout": "IPY_MODEL_fab719789b8e45a592a40bdcb0d6d5da",
       "style": "IPY_MODEL_66abe9638dc64267af61dc11864c0df9"
      }
     },
     "0fe71694d5494f96afd2747ee6cf0650": {
      "model_module": "@jupyter-widgets/base",
      "model_module_version": "1.0.0",
      "model_name": "LayoutModel",
      "state": {
       "height": "80px",
       "width": "50%"
      }
     },
     "0ff8e3ea0a6e4f5a9ed21c94c4ed7769": {
      "model_module": "@jupyter-widgets/controls",
      "model_module_version": "1.2.0",
      "model_name": "ButtonStyleModel",
      "state": {
       "button_color": "blue"
      }
     },
     "101af60977754f42a8ad99ca2da51b42": {
      "model_module": "@jupyter-widgets/controls",
      "model_module_version": "1.2.0",
      "model_name": "ButtonStyleModel",
      "state": {}
     },
     "10274125bcd0460bb9aa43e06a5bd955": {
      "model_module": "@jupyter-widgets/controls",
      "model_module_version": "1.2.0",
      "model_name": "ButtonModel",
      "state": {
       "layout": "IPY_MODEL_2847cc6e71494c5a86d07475d49deca7",
       "style": "IPY_MODEL_4166913d892742ab964adc58623c75e4"
      }
     },
     "103234e568ba4bb98ea79e609e3433cf": {
      "model_module": "@jupyter-widgets/base",
      "model_module_version": "1.0.0",
      "model_name": "LayoutModel",
      "state": {
       "height": "auto",
       "width": "auto"
      }
     },
     "10380d8769944c5794a506758de7e511": {
      "model_module": "@jupyter-widgets/controls",
      "model_module_version": "1.2.0",
      "model_name": "ButtonModel",
      "state": {
       "layout": "IPY_MODEL_22b7316c16ce44acbcbabca436a3901e",
       "style": "IPY_MODEL_b04a8cae14464c17bc8acb3ff62ee447"
      }
     },
     "104c1bfded49449794e8408e206b484c": {
      "model_module": "@jupyter-widgets/base",
      "model_module_version": "1.0.0",
      "model_name": "LayoutModel",
      "state": {}
     },
     "10663661f9a64d3c9f68ecd31561cbd9": {
      "model_module": "@jupyter-widgets/controls",
      "model_module_version": "1.2.0",
      "model_name": "ButtonStyleModel",
      "state": {}
     },
     "107b063f8415402bac4f9a13e52eaa98": {
      "model_module": "@jupyter-widgets/controls",
      "model_module_version": "1.2.0",
      "model_name": "ButtonStyleModel",
      "state": {}
     },
     "107f9871a79441b989cce5bf69cc4df4": {
      "model_module": "@jupyter-widgets/controls",
      "model_module_version": "1.2.0",
      "model_name": "HBoxModel",
      "state": {
       "children": [
        "IPY_MODEL_c265ff2db0654b298d8a137827fceae0",
        "IPY_MODEL_78522015158f49518e1068f5c2874a52"
       ],
       "layout": "IPY_MODEL_cc1ca938848a45ecae3a739b6ae32f0d"
      }
     },
     "108b7a291ea1463a995ad47b5465d0b3": {
      "model_module": "@jupyter-widgets/base",
      "model_module_version": "1.0.0",
      "model_name": "LayoutModel",
      "state": {
       "width": "auto"
      }
     },
     "109e1ad9d8c54aec94b4d93e6e13c324": {
      "model_module": "@jupyter-widgets/controls",
      "model_module_version": "1.2.0",
      "model_name": "ButtonStyleModel",
      "state": {}
     },
     "10a40198a3e64609951c638e6dc22a26": {
      "model_module": "@jupyter-widgets/controls",
      "model_module_version": "1.2.0",
      "model_name": "ButtonStyleModel",
      "state": {}
     },
     "10a60c60cd3c4e45b0e2e3c9262baacb": {
      "model_module": "@jupyter-widgets/controls",
      "model_module_version": "1.2.0",
      "model_name": "GridBoxModel",
      "state": {
       "children": [
        "IPY_MODEL_86835fc268904fb5ab021b95ecee3239",
        "IPY_MODEL_1685c181dc8c445ba96379d2856a4c34",
        "IPY_MODEL_cf035bafdf0040c9b6854c49c1f9e55b",
        "IPY_MODEL_1310449097324c2fbd0ff92cd6cec4a6",
        "IPY_MODEL_1423774facf24e8b9b67ce18c513a0dc",
        "IPY_MODEL_a8b9b64d090949b2968dad41aa2dd415",
        "IPY_MODEL_56cc694ec666411da8258af770108b82",
        "IPY_MODEL_db1b64feb16b4853b2823e5bc3731eba",
        "IPY_MODEL_5fa79f90d69f4867adf9b30cae1156e0",
        "IPY_MODEL_74f3bc129b1241b7a569f43186ad8ebf"
       ],
       "layout": "IPY_MODEL_879bf1cfee124af09e15139ee99daa8d"
      }
     },
     "10e09048d0574fb6a0c544378e9c5cce": {
      "model_module": "@jupyter-widgets/controls",
      "model_module_version": "1.2.0",
      "model_name": "ButtonModel",
      "state": {
       "button_style": "warning",
       "description": "32",
       "layout": "IPY_MODEL_d2db15f9d1834946bd4923f3faf2a54f",
       "style": "IPY_MODEL_9212968c17e5404a93ec874ce88a10a1"
      }
     },
     "10e385a90fc6457d8777b08002f2cd80": {
      "model_module": "@jupyter-widgets/controls",
      "model_module_version": "1.2.0",
      "model_name": "ButtonStyleModel",
      "state": {
       "button_color": "blue"
      }
     },
     "10fc3a57b2f8415293d0069cc5b2f542": {
      "model_module": "@jupyter-widgets/controls",
      "model_module_version": "1.2.0",
      "model_name": "ButtonModel",
      "state": {
       "button_style": "warning",
       "description": "9",
       "layout": "IPY_MODEL_16df380d38fb47a2bbb217b953037b65",
       "style": "IPY_MODEL_62fe64b651244cd0a3c4bd5cb9131e3e"
      }
     },
     "112fba56e1964e01a85ddc9cd3f1b3ee": {
      "model_module": "@jupyter-widgets/controls",
      "model_module_version": "1.2.0",
      "model_name": "ButtonModel",
      "state": {
       "layout": "IPY_MODEL_a922650c84614ed9b053f3c346caf79d",
       "style": "IPY_MODEL_9d22f3c96417453f90c2a86f9d4c11e7"
      }
     },
     "1130b10e86ae4fb88f1a5a3e1ce685aa": {
      "model_module": "@jupyter-widgets/base",
      "model_module_version": "1.0.0",
      "model_name": "LayoutModel",
      "state": {
       "grid_template_areas": "\n            \"header header header header\"\n            \"main main . sidebar \"\n            \"footer footer footer footer\"\n            ",
       "grid_template_columns": "25% 25% 25% 25%",
       "grid_template_rows": "auto auto auto",
       "width": "50%"
      }
     },
     "1133270d53924b0c9449ff92faaf3927": {
      "model_module": "@jupyter-widgets/controls",
      "model_module_version": "1.2.0",
      "model_name": "ButtonModel",
      "state": {
       "button_style": "danger",
       "description": "weight=1; auto",
       "layout": "IPY_MODEL_a7239407c092475fa4b36f09c3b75816",
       "style": "IPY_MODEL_28d949c9d5504850b389746b4f56c403"
      }
     },
     "1144b1f41aae47a1a34e4a3659d2da11": {
      "model_module": "@jupyter-widgets/base",
      "model_module_version": "1.0.0",
      "model_name": "LayoutModel",
      "state": {}
     },
     "114cd8c950814177958e608c551ff405": {
      "model_module": "@jupyter-widgets/controls",
      "model_module_version": "1.2.0",
      "model_name": "ButtonStyleModel",
      "state": {}
     },
     "11593ba8783c429e9c635a5f21447410": {
      "model_module": "@jupyter-widgets/controls",
      "model_module_version": "1.2.0",
      "model_name": "ButtonModel",
      "state": {
       "layout": "IPY_MODEL_90e6ed8c30a54cab8cdc8ca7fb4a9974",
       "style": "IPY_MODEL_ccbfe2e288b3467ab844560b05e1f691"
      }
     },
     "117ea36357e04602b4b9777c5e3c176a": {
      "model_module": "@jupyter-widgets/base",
      "model_module_version": "1.0.0",
      "model_name": "LayoutModel",
      "state": {
       "height": "auto",
       "width": "auto"
      }
     },
     "11876a09009941129f077d57fc3b8e5d": {
      "model_module": "@jupyter-widgets/base",
      "model_module_version": "1.0.0",
      "model_name": "LayoutModel",
      "state": {
       "grid_template": "auto / auto auto auto auto auto"
      }
     },
     "1197d4f3167745388b6152fbb6f4fe5a": {
      "model_module": "@jupyter-widgets/controls",
      "model_module_version": "1.2.0",
      "model_name": "FloatTextModel",
      "state": {
       "layout": "IPY_MODEL_3eb836e8e0294a108f60d144513b7da7",
       "step": null,
       "style": "IPY_MODEL_3ef1bf7bb1da45b6a4776b7322af0ae7"
      }
     },
     "119c02953ef84056b1a7681053b11186": {
      "model_module": "@jupyter-widgets/controls",
      "model_module_version": "1.2.0",
      "model_name": "ButtonModel",
      "state": {
       "layout": "IPY_MODEL_1a6b0a9053e2452ca410e9de3b4fef7d",
       "style": "IPY_MODEL_ae673d62329f4fdcb20d5a31b23ecda0"
      }
     },
     "119d973a67c74cfda0c9145736683718": {
      "model_module": "@jupyter-widgets/controls",
      "model_module_version": "1.2.0",
      "model_name": "ButtonStyleModel",
      "state": {}
     },
     "11a131d151b6498fbaa51c84b06b5917": {
      "model_module": "@jupyter-widgets/controls",
      "model_module_version": "1.2.0",
      "model_name": "ButtonStyleModel",
      "state": {}
     },
     "11b02eb96d9c4336b38723a09960060a": {
      "model_module": "@jupyter-widgets/controls",
      "model_module_version": "1.2.0",
      "model_name": "ButtonStyleModel",
      "state": {}
     },
     "11bd5825ba55494d882d6b89b0868883": {
      "model_module": "@jupyter-widgets/controls",
      "model_module_version": "1.2.0",
      "model_name": "ButtonModel",
      "state": {
       "layout": "IPY_MODEL_0092c073e9a448b1b99ac9470c49fef5",
       "style": "IPY_MODEL_8edf04b8251948129a3aa3b2f6ed3084"
      }
     },
     "11c3037dd68548278d5a00027250c22b": {
      "model_module": "@jupyter-widgets/controls",
      "model_module_version": "1.2.0",
      "model_name": "ButtonModel",
      "state": {
       "button_style": "warning",
       "description": "32",
       "layout": "IPY_MODEL_963f958a6a3049a3b012ec8484fb898f",
       "style": "IPY_MODEL_d978d2e99baf4624961426706b11e7b7"
      }
     },
     "120e0bbb438349b1985343dcaadbaec7": {
      "model_module": "@jupyter-widgets/controls",
      "model_module_version": "1.2.0",
      "model_name": "ButtonModel",
      "state": {
       "layout": "IPY_MODEL_13e0059cd680446a8dbed4b733138cf5",
       "style": "IPY_MODEL_62970e40a51d4456bef4bf5ba64f5b65"
      }
     },
     "121bf435956546c4bfca9d41a7957e69": {
      "model_module": "@jupyter-widgets/controls",
      "model_module_version": "1.2.0",
      "model_name": "BoxModel",
      "state": {
       "children": [
        "IPY_MODEL_69da115e5fce4f779381ae407d0e5a0b",
        "IPY_MODEL_0cf36f1e628b45d0aabd40fe1d5d2b4d",
        "IPY_MODEL_0770531542af420fb56145ee410de3ab",
        "IPY_MODEL_7d252656920c4d79a7a0ac098ce2bf73"
       ],
       "layout": "IPY_MODEL_7985be7ef5eb4ad29d1110a1145143e6"
      }
     },
     "12292b97805548c99dbea1793d53624e": {
      "model_module": "@jupyter-widgets/controls",
      "model_module_version": "1.2.0",
      "model_name": "ButtonModel",
      "state": {
       "button_style": "warning",
       "description": "22",
       "layout": "IPY_MODEL_d2db15f9d1834946bd4923f3faf2a54f",
       "style": "IPY_MODEL_f9f1e78ffa5e440aa50ac52aa2b5df82"
      }
     },
     "1229c13560904c0ca3ed893aee3e27de": {
      "model_module": "@jupyter-widgets/controls",
      "model_module_version": "1.2.0",
      "model_name": "DescriptionStyleModel",
      "state": {
       "description_width": ""
      }
     },
     "1260a918b00444b4bbd94dbe9d5028ac": {
      "model_module": "@jupyter-widgets/controls",
      "model_module_version": "1.2.0",
      "model_name": "ButtonModel",
      "state": {
       "button_style": "warning",
       "description": "31",
       "layout": "IPY_MODEL_16df380d38fb47a2bbb217b953037b65",
       "style": "IPY_MODEL_5ffaff23cc404e199c9b12decf5abdc9"
      }
     },
     "12978f9e77ac42aa8b72f72e2b166216": {
      "model_module": "@jupyter-widgets/controls",
      "model_module_version": "1.2.0",
      "model_name": "ButtonStyleModel",
      "state": {
       "button_color": "yellow"
      }
     },
     "129ee1ce79774829976a40141ad522d1": {
      "model_module": "@jupyter-widgets/base",
      "model_module_version": "1.0.0",
      "model_name": "LayoutModel",
      "state": {}
     },
     "12ac7b3b1bdf4ced82d85fa93f3f108f": {
      "model_module": "@jupyter-widgets/controls",
      "model_module_version": "1.2.0",
      "model_name": "ButtonStyleModel",
      "state": {}
     },
     "12d9d7a0f4424aab903186a18a71866b": {
      "model_module": "@jupyter-widgets/controls",
      "model_module_version": "1.2.0",
      "model_name": "ButtonModel",
      "state": {
       "layout": "IPY_MODEL_4d53052a4a3c4ea08b4ae8a0f20ff0ac",
       "style": "IPY_MODEL_868b1e339460411786ba4846d3a46648"
      }
     },
     "12e44eb783c54d9ebbe852a020d66332": {
      "model_module": "@jupyter-widgets/controls",
      "model_module_version": "1.2.0",
      "model_name": "ButtonModel",
      "state": {
       "layout": "IPY_MODEL_89db54476bba4eddbc981f6a864b6ed0",
       "style": "IPY_MODEL_4bfae0618bdd405485aa9e01c0f113db"
      }
     },
     "12f77f8d6df94f17b67e86be026f6a45": {
      "model_module": "@jupyter-widgets/controls",
      "model_module_version": "1.2.0",
      "model_name": "GridBoxModel",
      "state": {
       "children": [
        "IPY_MODEL_2ab10410d31e4eed863b1fac165a9c6c",
        "IPY_MODEL_7900ebf31e314438a0ceaddb14b3b291",
        "IPY_MODEL_a60c250339eb4d44946c2166b7cea26c",
        "IPY_MODEL_60164143aac44fccb746c52957a221c5",
        "IPY_MODEL_ab6f83c463cc432aa4aaed2be050cd40",
        "IPY_MODEL_96fa459f02eb402a9585ffa5bdd2fa00",
        "IPY_MODEL_11593ba8783c429e9c635a5f21447410",
        "IPY_MODEL_1cbfec1cc1d94803b50ae29621fb9939"
       ],
       "layout": "IPY_MODEL_d91d8b18e7194753a5e6cdd2437fc376"
      }
     },
     "130716dac53c4639b31e520c9738b396": {
      "model_module": "@jupyter-widgets/controls",
      "model_module_version": "1.2.0",
      "model_name": "ButtonModel",
      "state": {
       "layout": "IPY_MODEL_8c7d17fa9b6a48b7832b66d2d78dfc94",
       "style": "IPY_MODEL_39e36f70e1a7429286bf409e2ee68c73"
      }
     },
     "1310449097324c2fbd0ff92cd6cec4a6": {
      "model_module": "@jupyter-widgets/controls",
      "model_module_version": "1.2.0",
      "model_name": "ButtonModel",
      "state": {
       "layout": "IPY_MODEL_5f93039a824040f6892c5a36aa5b0393",
       "style": "IPY_MODEL_48e213f14b454d5cb765122cc1a1fedf"
      }
     },
     "132d4e37f0674cd7a02e60b7a9738576": {
      "model_module": "@jupyter-widgets/base",
      "model_module_version": "1.0.0",
      "model_name": "LayoutModel",
      "state": {}
     },
     "133421ea88d1460d827ea075c0750d24": {
      "model_module": "@jupyter-widgets/controls",
      "model_module_version": "1.2.0",
      "model_name": "ButtonStyleModel",
      "state": {}
     },
     "13baf9a1a9d04744964652f72ba03032": {
      "model_module": "@jupyter-widgets/base",
      "model_module_version": "1.0.0",
      "model_name": "LayoutModel",
      "state": {}
     },
     "13c22169d16b4d788623cc768d85b73b": {
      "model_module": "@jupyter-widgets/base",
      "model_module_version": "1.0.0",
      "model_name": "LayoutModel",
      "state": {
       "height": "auto",
       "width": "auto"
      }
     },
     "13e0059cd680446a8dbed4b733138cf5": {
      "model_module": "@jupyter-widgets/base",
      "model_module_version": "1.0.0",
      "model_name": "LayoutModel",
      "state": {
       "height": "60px",
       "width": "auto"
      }
     },
     "13e97803a46b45de9af27fd1dfb614d9": {
      "model_module": "@jupyter-widgets/controls",
      "model_module_version": "1.2.0",
      "model_name": "ButtonModel",
      "state": {
       "button_style": "warning",
       "description": "25",
       "layout": "IPY_MODEL_16df380d38fb47a2bbb217b953037b65",
       "style": "IPY_MODEL_d17cad7abf8c44c0b3156ea99cb774b4"
      }
     },
     "13f979cffbdd4b0bbb5a7869b0a72d35": {
      "model_module": "@jupyter-widgets/controls",
      "model_module_version": "1.2.0",
      "model_name": "ButtonModel",
      "state": {
       "layout": "IPY_MODEL_2bdfdf76c0e14eebaddf584bf14e9325",
       "style": "IPY_MODEL_7eebc405a9e54be4b0d09c0f0941cb86"
      }
     },
     "1423774facf24e8b9b67ce18c513a0dc": {
      "model_module": "@jupyter-widgets/controls",
      "model_module_version": "1.2.0",
      "model_name": "ButtonModel",
      "state": {
       "layout": "IPY_MODEL_5f93039a824040f6892c5a36aa5b0393",
       "style": "IPY_MODEL_2a299d2f0f754bd5afba52f0b9e020c3"
      }
     },
     "144685da6f7d4645a6391351a8009ca8": {
      "model_module": "@jupyter-widgets/base",
      "model_module_version": "1.0.0",
      "model_name": "LayoutModel",
      "state": {}
     },
     "1451c9d35c40428a8e9c2e39468087ac": {
      "model_module": "@jupyter-widgets/base",
      "model_module_version": "1.0.0",
      "model_name": "LayoutModel",
      "state": {
       "align_items": "stretch",
       "border": "solid 2px",
       "display": "flex",
       "flex_flow": "column",
       "width": "50%"
      }
     },
     "146a8803d7174b97847219997325dc7b": {
      "model_module": "@jupyter-widgets/controls",
      "model_module_version": "1.2.0",
      "model_name": "ButtonStyleModel",
      "state": {}
     },
     "148242db5ef04bbc9d8633f1ee7fc6b2": {
      "model_module": "@jupyter-widgets/controls",
      "model_module_version": "1.2.0",
      "model_name": "DescriptionStyleModel",
      "state": {
       "description_width": ""
      }
     },
     "1484fde063bf44af82830a437d9f149f": {
      "model_module": "@jupyter-widgets/base",
      "model_module_version": "1.0.0",
      "model_name": "LayoutModel",
      "state": {
       "flex": "3 1 auto",
       "width": "auto"
      }
     },
     "14873dabb3504fe0973bb24b227f12c7": {
      "model_module": "@jupyter-widgets/base",
      "model_module_version": "1.0.0",
      "model_name": "LayoutModel",
      "state": {
       "height": "auto",
       "width": "auto"
      }
     },
     "14a55e69721d4c9fbb9506bed271dede": {
      "model_module": "@jupyter-widgets/controls",
      "model_module_version": "1.2.0",
      "model_name": "GridBoxModel",
      "state": {
       "children": [
        "IPY_MODEL_a47e1c813b084b98b51eff584c5a53b9",
        "IPY_MODEL_45904169bd37489f9c3c69c29db53159",
        "IPY_MODEL_413a47f2c0ad42a1a976061eb9614bb2",
        "IPY_MODEL_d8cfcf7cdfdd48969afcd149eafefddd",
        "IPY_MODEL_dc7b582bcec94101931d385bc55141ef",
        "IPY_MODEL_a1e27b784c7f4bedbf7ecd40530a3e26",
        "IPY_MODEL_6fc7c2a53a2944fda94ab10e5e3a726b",
        "IPY_MODEL_e0c3b58427324a85900bbf8967c35a92"
       ],
       "layout": "IPY_MODEL_5530ba97cbdf46f5852d705872af19ab"
      }
     },
     "14b5d4377aee472f943c2b7dc61a5b94": {
      "model_module": "@jupyter-widgets/controls",
      "model_module_version": "1.2.0",
      "model_name": "ButtonModel",
      "state": {
       "button_style": "warning",
       "description": "22",
       "layout": "IPY_MODEL_79e6f20409fa4963aff904a921b6d604",
       "style": "IPY_MODEL_bdfcd8412c704beb8ea63bd4238ffe8d"
      }
     },
     "14fc2b8c63494cdc92e8f70336960935": {
      "model_module": "@jupyter-widgets/controls",
      "model_module_version": "1.2.0",
      "model_name": "ButtonModel",
      "state": {
       "button_style": "warning",
       "description": "18",
       "layout": "IPY_MODEL_a810a994ec8c404f8136c2e39def56aa",
       "style": "IPY_MODEL_e24526c40df74f35a2c139e67f215a08"
      }
     },
     "150a02099ae84e2f928f97ceb4eff062": {
      "model_module": "@jupyter-widgets/controls",
      "model_module_version": "1.2.0",
      "model_name": "ButtonStyleModel",
      "state": {}
     },
     "1512ddbbda4a423c9371bdc67673975d": {
      "model_module": "@jupyter-widgets/controls",
      "model_module_version": "1.2.0",
      "model_name": "ButtonStyleModel",
      "state": {}
     },
     "15641e84c39e45bc875dc01d589a9086": {
      "model_module": "@jupyter-widgets/controls",
      "model_module_version": "1.2.0",
      "model_name": "ButtonModel",
      "state": {
       "layout": "IPY_MODEL_49f81b3585ff412698273f2404121602",
       "style": "IPY_MODEL_72a1c3289897487a9ef9cfaf58f256a4"
      }
     },
     "1573ea499051426da0a689de38ec63f2": {
      "model_module": "@jupyter-widgets/controls",
      "model_module_version": "1.2.0",
      "model_name": "DescriptionStyleModel",
      "state": {
       "description_width": ""
      }
     },
     "1576f655b69b4b0cb99fbe1d9018f1c7": {
      "model_module": "@jupyter-widgets/controls",
      "model_module_version": "1.2.0",
      "model_name": "ButtonModel",
      "state": {
       "layout": "IPY_MODEL_3ee33ef73484447eacd6651d43b68f93",
       "style": "IPY_MODEL_cf828bbae541447ebcd44eead3b0d124"
      }
     },
     "157876518bf2419195c94143d2327ade": {
      "model_module": "@jupyter-widgets/controls",
      "model_module_version": "1.2.0",
      "model_name": "ButtonModel",
      "state": {
       "layout": "IPY_MODEL_483235b4d3244296a3a37d72ab8dc021",
       "style": "IPY_MODEL_be46001663fb4ce89ef8178c2ff3bffe"
      }
     },
     "15891808713246f88e08ce6248fb5830": {
      "model_module": "@jupyter-widgets/controls",
      "model_module_version": "1.2.0",
      "model_name": "ButtonModel",
      "state": {
       "layout": "IPY_MODEL_6216d0c956584b168b49e9651fa5d8fe",
       "style": "IPY_MODEL_30cc6a2775fb4f31a338de3067857f03"
      }
     },
     "15b9b038bb014eaa9ac53a87646bf2e3": {
      "model_module": "@jupyter-widgets/controls",
      "model_module_version": "1.2.0",
      "model_name": "ButtonStyleModel",
      "state": {}
     },
     "15bdb53ba7b64f9da3285d9a314773aa": {
      "model_module": "@jupyter-widgets/controls",
      "model_module_version": "1.2.0",
      "model_name": "ButtonModel",
      "state": {
       "button_style": "warning",
       "description": "25",
       "layout": "IPY_MODEL_a810a994ec8c404f8136c2e39def56aa",
       "style": "IPY_MODEL_a3735539cff64129a6bac9e7dacbd3c0"
      }
     },
     "15c877df87954434b0003382c63d0665": {
      "model_module": "@jupyter-widgets/controls",
      "model_module_version": "1.2.0",
      "model_name": "ButtonModel",
      "state": {
       "button_style": "danger",
       "description": "weight=3; 0%",
       "layout": "IPY_MODEL_d245cc7f29724b82bf24c41862586449",
       "style": "IPY_MODEL_9b1632c4b88f4fbb8b35c26ae300c03e"
      }
     },
     "15fde7489bb941d58586bcbb69ef60b1": {
      "model_module": "@jupyter-widgets/base",
      "model_module_version": "1.0.0",
      "model_name": "LayoutModel",
      "state": {}
     },
     "1611135155c84a999f8a3e209f801e3f": {
      "model_module": "@jupyter-widgets/base",
      "model_module_version": "1.0.0",
      "model_name": "LayoutModel",
      "state": {
       "grid_gap": "5px 10px",
       "grid_template_columns": "100px 50px 100px",
       "grid_template_rows": "80px auto 80px",
       "width": "50%"
      }
     },
     "163bd97f53204953a80350f34a5a8bb7": {
      "model_module": "@jupyter-widgets/controls",
      "model_module_version": "1.2.0",
      "model_name": "ButtonStyleModel",
      "state": {}
     },
     "166baca46b9941a5b7460f3b20ae0eb7": {
      "model_module": "@jupyter-widgets/controls",
      "model_module_version": "1.2.0",
      "model_name": "ButtonStyleModel",
      "state": {}
     },
     "1670d7fc4d9c4fc8beaa6d651543adb6": {
      "model_module": "@jupyter-widgets/controls",
      "model_module_version": "1.2.0",
      "model_name": "ButtonStyleModel",
      "state": {}
     },
     "1673d8f531cc4de896081401b82004e9": {
      "model_module": "@jupyter-widgets/controls",
      "model_module_version": "1.2.0",
      "model_name": "ButtonStyleModel",
      "state": {
       "button_color": "#77A"
      }
     },
     "1685c181dc8c445ba96379d2856a4c34": {
      "model_module": "@jupyter-widgets/controls",
      "model_module_version": "1.2.0",
      "model_name": "ButtonModel",
      "state": {
       "layout": "IPY_MODEL_5f93039a824040f6892c5a36aa5b0393",
       "style": "IPY_MODEL_945406fe34c84fd7a2c09124df168cec"
      }
     },
     "168a1494d2e140fd85a553441665852c": {
      "model_module": "@jupyter-widgets/controls",
      "model_module_version": "1.2.0",
      "model_name": "ButtonModel",
      "state": {
       "layout": "IPY_MODEL_edb5edbb1e334fd6a8a6f4e36526261c",
       "style": "IPY_MODEL_0debe83240dc4cdcab00896dfbf2725f"
      }
     },
     "16a1130aa63a4bdda2a9ea0488966eb4": {
      "model_module": "@jupyter-widgets/controls",
      "model_module_version": "1.2.0",
      "model_name": "ButtonStyleModel",
      "state": {}
     },
     "16b3aa63fa75494e8e599bfd25f8307d": {
      "model_module": "@jupyter-widgets/controls",
      "model_module_version": "1.2.0",
      "model_name": "DescriptionStyleModel",
      "state": {
       "description_width": ""
      }
     },
     "16d0118f06184ab49e5713d6af57cb97": {
      "model_module": "@jupyter-widgets/controls",
      "model_module_version": "1.2.0",
      "model_name": "ButtonModel",
      "state": {
       "layout": "IPY_MODEL_e9e51dc7db2e4dae8f6b58239515ec62",
       "style": "IPY_MODEL_8562ad751df442fcab8eb7a5859d3167"
      }
     },
     "16df380d38fb47a2bbb217b953037b65": {
      "model_module": "@jupyter-widgets/base",
      "model_module_version": "1.0.0",
      "model_name": "LayoutModel",
      "state": {
       "height": "100px",
       "min_width": "40px"
      }
     },
     "16e5eaacd11b4ee188bf0ce3aed717a4": {
      "model_module": "@jupyter-widgets/controls",
      "model_module_version": "1.2.0",
      "model_name": "ButtonStyleModel",
      "state": {}
     },
     "16f90c9f1e024a1da413c56be95172e9": {
      "model_module": "@jupyter-widgets/controls",
      "model_module_version": "1.2.0",
      "model_name": "ButtonModel",
      "state": {
       "layout": "IPY_MODEL_7aa706c4594f4633bfc813ec6eca6e5c",
       "style": "IPY_MODEL_b5c3667d62d249c8a5d2546f7f413b70"
      }
     },
     "16fdd6a6eb7f4109aa5cf327983ea4de": {
      "model_module": "@jupyter-widgets/controls",
      "model_module_version": "1.2.0",
      "model_name": "ButtonStyleModel",
      "state": {}
     },
     "17166bef47db4fa8899ffa8f69324c6b": {
      "model_module": "@jupyter-widgets/controls",
      "model_module_version": "1.2.0",
      "model_name": "BoxModel",
      "state": {
       "children": [
        "IPY_MODEL_aef9a978a66942ca8db2b985bfe1eaae",
        "IPY_MODEL_4d9046e4e4de4f799227b0054ab2cb63"
       ],
       "layout": "IPY_MODEL_27c46bcd29e14115b934a43f66853bee"
      }
     },
     "171b09fa00144a7fa804491b7d2e1c73": {
      "model_module": "@jupyter-widgets/controls",
      "model_module_version": "1.2.0",
      "model_name": "ButtonStyleModel",
      "state": {}
     },
     "173eeefb96d24124b6f106fb28b787c9": {
      "model_module": "@jupyter-widgets/controls",
      "model_module_version": "1.2.0",
      "model_name": "ButtonModel",
      "state": {
       "layout": "IPY_MODEL_64567f913f574abfafda823bec6dad4f",
       "style": "IPY_MODEL_c2005b32dab1408390f8c77eafc7e7c8"
      }
     },
     "174b8cd6628a4e499a50c57774285109": {
      "model_module": "@jupyter-widgets/controls",
      "model_module_version": "1.2.0",
      "model_name": "ButtonStyleModel",
      "state": {}
     },
     "174c9a55396f4ec3a2d97e1f7dc1c593": {
      "model_module": "@jupyter-widgets/controls",
      "model_module_version": "1.2.0",
      "model_name": "ButtonModel",
      "state": {
       "layout": "IPY_MODEL_a8a4a992eee54af0b1fe3c12946711d2",
       "style": "IPY_MODEL_241d4d6b26484ab2ba9c0662edd70841"
      }
     },
     "175cc10709644e5f92cd2f7407c28044": {
      "model_module": "@jupyter-widgets/controls",
      "model_module_version": "1.2.0",
      "model_name": "ButtonStyleModel",
      "state": {
       "button_color": "green"
      }
     },
     "17830cd5257b4f6dbc58afae68aedbf3": {
      "model_module": "@jupyter-widgets/controls",
      "model_module_version": "1.2.0",
      "model_name": "ButtonStyleModel",
      "state": {}
     },
     "1792822a3d8b4c47a18afa13e7b901d1": {
      "model_module": "@jupyter-widgets/controls",
      "model_module_version": "1.2.0",
      "model_name": "ButtonModel",
      "state": {
       "description": "Footer",
       "layout": "IPY_MODEL_f1276f13fcf946fbb161b86286670b9b",
       "style": "IPY_MODEL_0f2250074a5b427d84face4e8964d036"
      }
     },
     "17b8b00acf75400a96b622cfcf5164dd": {
      "model_module": "@jupyter-widgets/controls",
      "model_module_version": "1.2.0",
      "model_name": "ButtonModel",
      "state": {
       "button_style": "warning",
       "description": "31",
       "layout": "IPY_MODEL_e20ec9c5c01e485bbfa90160b80eb8f4",
       "style": "IPY_MODEL_40570f7874c945498da86776c9cd2be0"
      }
     },
     "17eb8369227e47b78c46b1f79e6b5092": {
      "model_module": "@jupyter-widgets/controls",
      "model_module_version": "1.2.0",
      "model_name": "GridBoxModel",
      "state": {
       "children": [
        "IPY_MODEL_db66025fe03e4ff8a4d99777d285315f",
        "IPY_MODEL_3727b7dc9b1b4a09a65c1761e7a9cb17",
        "IPY_MODEL_e476519c710d40d1bb3f0b76d39d43c6",
        "IPY_MODEL_d6d62f821eeb4d2f8c423666fbd3c73e",
        "IPY_MODEL_19f77652aa0147129bec76477815c8ff",
        "IPY_MODEL_88e146a1a6194d638e41752390e15c10",
        "IPY_MODEL_2649c60ebf2349d48dae08557c4ef831",
        "IPY_MODEL_d76b7e60474e4947a7fb54929c8cd9ca"
       ],
       "layout": "IPY_MODEL_4c0e61154998494d9fb19fd516c272ab"
      }
     },
     "17f1be3b211f45a09542136d525a3f4e": {
      "model_module": "@jupyter-widgets/controls",
      "model_module_version": "1.2.0",
      "model_name": "ButtonModel",
      "state": {
       "layout": "IPY_MODEL_3ee33ef73484447eacd6651d43b68f93",
       "style": "IPY_MODEL_0793da56823645eab807e2bbf7d58b15"
      }
     },
     "17f8b24b677c4991b8de8f4f0dedc1c1": {
      "model_module": "@jupyter-widgets/controls",
      "model_module_version": "1.2.0",
      "model_name": "ButtonModel",
      "state": {
       "layout": "IPY_MODEL_bd032ec0085648d8b4bee7b4b2e75fe2",
       "style": "IPY_MODEL_60e170a7ce634ef9a5578b99cb742a11"
      }
     },
     "180edad4827b498894e246fd8131617f": {
      "model_module": "@jupyter-widgets/controls",
      "model_module_version": "1.2.0",
      "model_name": "ButtonModel",
      "state": {
       "layout": "IPY_MODEL_a997cf87cb444be1a8febdf657c22511",
       "style": "IPY_MODEL_eb9b2021f669461abb01bf45de3cdbe6"
      }
     },
     "1811f20b10b54fddb99a89e764d57e98": {
      "model_module": "@jupyter-widgets/base",
      "model_module_version": "1.0.0",
      "model_name": "LayoutModel",
      "state": {}
     },
     "18155f42db1f426185321e072344fb79": {
      "model_module": "@jupyter-widgets/controls",
      "model_module_version": "1.2.0",
      "model_name": "IntSliderModel",
      "state": {
       "layout": "IPY_MODEL_c9212528ce634c30841b335b8865b6dc",
       "max": 60,
       "min": 40,
       "style": "IPY_MODEL_d566dd4b16fb4a1ea4e4cdd06089d2e0",
       "value": 40
      }
     },
     "181d5d722fb9408a81c97952d7272c62": {
      "model_module": "@jupyter-widgets/controls",
      "model_module_version": "1.2.0",
      "model_name": "ButtonStyleModel",
      "state": {}
     },
     "184e7556cf344aa0bce46357a563737c": {
      "model_module": "@jupyter-widgets/controls",
      "model_module_version": "1.2.0",
      "model_name": "ButtonModel",
      "state": {
       "button_style": "warning",
       "description": "9",
       "layout": "IPY_MODEL_d2db15f9d1834946bd4923f3faf2a54f",
       "style": "IPY_MODEL_fece4dd7649549f09f6e6d7f3356d45a"
      }
     },
     "1854695c41804cc3af3eda5f6f59c60c": {
      "model_module": "@jupyter-widgets/controls",
      "model_module_version": "1.2.0",
      "model_name": "ButtonStyleModel",
      "state": {}
     },
     "185d93ce08ae4cdcae0d7508273cbf5c": {
      "model_module": "@jupyter-widgets/base",
      "model_module_version": "1.0.0",
      "model_name": "LayoutModel",
      "state": {
       "grid_template_areas": "\n            \"header header header header\"\n            \"main main . sidebar \"\n            \"footer footer footer footer\"\n            ",
       "grid_template_columns": "25% 25% 25% 25%",
       "grid_template_rows": "auto auto auto",
       "width": "50%"
      }
     },
     "18620655e6f84b5e9ad81378898da26d": {
      "model_module": "@jupyter-widgets/controls",
      "model_module_version": "1.2.0",
      "model_name": "ButtonModel",
      "state": {
       "layout": "IPY_MODEL_9a5bfd31f11548d6af73683d0b8fcf4f",
       "style": "IPY_MODEL_4a79ae90dfed45b897fc730b30416ab0"
      }
     },
     "1871184aae1742928363b3543c5d5542": {
      "model_module": "@jupyter-widgets/controls",
      "model_module_version": "1.2.0",
      "model_name": "BoxModel",
      "state": {
       "children": [
        "IPY_MODEL_e2d7d0dbeef24837bc95e7ceed2a019a",
        "IPY_MODEL_a3cc13f2e84a44b79f544cc188a4126f"
       ],
       "layout": "IPY_MODEL_277ead2d41e1436a9574e6d01925f443"
      }
     },
     "18ba69e71901468f897a4cf5fc9192a9": {
      "model_module": "@jupyter-widgets/controls",
      "model_module_version": "1.2.0",
      "model_name": "ButtonModel",
      "state": {
       "layout": "IPY_MODEL_0f8d744709024d079e466d4e5cc97459",
       "style": "IPY_MODEL_0e52c74081a740289c252fe36745b6e4"
      }
     },
     "18bd735b763144a3ad13844d62a5194e": {
      "model_module": "@jupyter-widgets/controls",
      "model_module_version": "1.2.0",
      "model_name": "ButtonStyleModel",
      "state": {}
     },
     "18c952f61e2e40cb892830b7932e6ed5": {
      "model_module": "@jupyter-widgets/controls",
      "model_module_version": "1.2.0",
      "model_name": "ButtonModel",
      "state": {
       "layout": "IPY_MODEL_817877cc612c41bd83072cdb1e7f4d0e",
       "style": "IPY_MODEL_cec5369438764aebbcb2f7e9e77333c3"
      }
     },
     "18f7138a192847d99e0cbef15a1738b7": {
      "model_module": "@jupyter-widgets/controls",
      "model_module_version": "1.2.0",
      "model_name": "ButtonModel",
      "state": {
       "layout": "IPY_MODEL_7b1a8b8157674b6bb054cc6c62227c65",
       "style": "IPY_MODEL_7a4b0b23817b4a94bc467a67e82faecb"
      }
     },
     "18f8a895cf9e42b4b38a8c2cb89b68c6": {
      "model_module": "@jupyter-widgets/controls",
      "model_module_version": "1.2.0",
      "model_name": "ButtonModel",
      "state": {
       "button_style": "warning",
       "description": "2",
       "layout": "IPY_MODEL_d2db15f9d1834946bd4923f3faf2a54f",
       "style": "IPY_MODEL_c742b7bf7cc54fc7880be807a667bfa5"
      }
     },
     "18fc2f3229af46feadec6f6ef72081c2": {
      "model_module": "@jupyter-widgets/base",
      "model_module_version": "1.0.0",
      "model_name": "LayoutModel",
      "state": {
       "border": "3px solid black",
       "display": "flex",
       "flex_flow": "row",
       "height": "",
       "overflow_x": "scroll",
       "width": "500px"
      }
     },
     "18fec4e9b39247e48714ea2560449d23": {
      "model_module": "@jupyter-widgets/controls",
      "model_module_version": "1.2.0",
      "model_name": "ButtonModel",
      "state": {
       "description": "correct",
       "layout": "IPY_MODEL_62c967c7cb57432ca39a12cebbda1f21",
       "style": "IPY_MODEL_b98d705c5c184f2690f31758788c021f"
      }
     },
     "18ff526b1a3041abbac137af480e6f11": {
      "model_module": "@jupyter-widgets/controls",
      "model_module_version": "1.2.0",
      "model_name": "ButtonStyleModel",
      "state": {}
     },
     "19028a34b6124f0a9269c87cb2ac8111": {
      "model_module": "@jupyter-widgets/controls",
      "model_module_version": "1.2.0",
      "model_name": "ButtonStyleModel",
      "state": {}
     },
     "19179014f7d44133a4e1c6de120a9596": {
      "model_module": "@jupyter-widgets/controls",
      "model_module_version": "1.2.0",
      "model_name": "SliderStyleModel",
      "state": {
       "description_width": ""
      }
     },
     "19376e95f34447a8a769483f02813236": {
      "model_module": "@jupyter-widgets/controls",
      "model_module_version": "1.2.0",
      "model_name": "ButtonStyleModel",
      "state": {}
     },
     "19635c2c16504b11ba352d8cab389d03": {
      "model_module": "@jupyter-widgets/controls",
      "model_module_version": "1.2.0",
      "model_name": "ButtonStyleModel",
      "state": {}
     },
     "196812d3cac2403d844e97f0ed1bc28e": {
      "model_module": "@jupyter-widgets/controls",
      "model_module_version": "1.2.0",
      "model_name": "GridBoxModel",
      "state": {
       "children": [
        "IPY_MODEL_7f008ba884ff4de3a749b2b8686cf926",
        "IPY_MODEL_0245003ccd2841409550b2bae319117d",
        "IPY_MODEL_74fa6935edb64e02b4630d9c52b25ace",
        "IPY_MODEL_efad0269ea2d414e9f0c884828030b42",
        "IPY_MODEL_8ba67d843090418bb20a613cd76d7ef4",
        "IPY_MODEL_bc548230c8904d52a42205aaf0f733dd",
        "IPY_MODEL_b031db54dae14bac85ddc0d1dab8efea",
        "IPY_MODEL_80e95e721ba1446899a5f8e01c7189d7",
        "IPY_MODEL_ecad2495a7754bd99a0e1fad95817eaa"
       ],
       "layout": "IPY_MODEL_3996e4c2b4054856a52ba785bd9708d5"
      }
     },
     "197de493e6844b75b69bda0296660d7f": {
      "model_module": "@jupyter-widgets/controls",
      "model_module_version": "1.2.0",
      "model_name": "ButtonStyleModel",
      "state": {}
     },
     "19aaf858b73b49c7b6a452aeef5e1b07": {
      "model_module": "@jupyter-widgets/controls",
      "model_module_version": "1.2.0",
      "model_name": "ButtonModel",
      "state": {
       "layout": "IPY_MODEL_4769ccb5602e4d999b79ae825205eb33",
       "style": "IPY_MODEL_486d2b032bd54d65a8577cb02e20b3d2"
      }
     },
     "19c35cb8bb4445288a64a3d132109931": {
      "model_module": "@jupyter-widgets/controls",
      "model_module_version": "1.2.0",
      "model_name": "ButtonModel",
      "state": {
       "layout": "IPY_MODEL_1c81b91358154c19ab0e8986a32d5733",
       "style": "IPY_MODEL_376d0f7b631e494484caf8b8b21ea462"
      }
     },
     "19cf35c68a3c4bf9b7093f65000f9069": {
      "model_module": "@jupyter-widgets/base",
      "model_module_version": "1.0.0",
      "model_name": "LayoutModel",
      "state": {
       "grid_gap": "10px 15px",
       "grid_template_columns": "100px 50px 100px",
       "grid_template_rows": "80px auto 80px",
       "width": "50%"
      }
     },
     "19ed5f7822174348904813732de24bd8": {
      "model_module": "@jupyter-widgets/controls",
      "model_module_version": "1.2.0",
      "model_name": "GridBoxModel",
      "state": {
       "children": [
        "IPY_MODEL_b8a58385ae644644916dd0a8bf7e9149",
        "IPY_MODEL_c972ca0777634ff881723050d64a5507",
        "IPY_MODEL_6eb3bb31b85a4ba48cba70ec32459308",
        "IPY_MODEL_bc071a1a4ccf4f3b927bcea0a7343595",
        "IPY_MODEL_6612ee0c498d46088bc745ecfed550df",
        "IPY_MODEL_b8afaa38c9354d4dbf1266cc8760cc48",
        "IPY_MODEL_a8f5d7aca9e44aaaa99e493c4ea3ede9",
        "IPY_MODEL_253c9270deb040feb039549975c0eb1d",
        "IPY_MODEL_3db2996a6cc3403aadddd5c96cfcb047",
        "IPY_MODEL_ee9576febaa0454eabbae7893e601f53"
       ],
       "layout": "IPY_MODEL_337c79b3b91640e9a59e45ec5e6552a6"
      }
     },
     "19f77652aa0147129bec76477815c8ff": {
      "model_module": "@jupyter-widgets/controls",
      "model_module_version": "1.2.0",
      "model_name": "ButtonModel",
      "state": {
       "layout": "IPY_MODEL_ea2a717a6abb43d58ed664b124108192",
       "style": "IPY_MODEL_7f1d43ffd3b947c781cd0bd3a801fafa"
      }
     },
     "1a1d36271122473ea059a1c628918375": {
      "model_module": "@jupyter-widgets/controls",
      "model_module_version": "1.2.0",
      "model_name": "ButtonModel",
      "state": {
       "layout": "IPY_MODEL_2dbf7836189c43ceacedac172f168e48",
       "style": "IPY_MODEL_1c333f95c2504843b4fa59f702ae7f34"
      }
     },
     "1a226e148d214326a220029538a3dce7": {
      "model_module": "@jupyter-widgets/controls",
      "model_module_version": "1.2.0",
      "model_name": "ButtonModel",
      "state": {
       "layout": "IPY_MODEL_cd00ac948481485281a97b3b91a79e4e",
       "style": "IPY_MODEL_e73f9a6636dd4219bd2f0d06ef51749d"
      }
     },
     "1a3dcc136330477aafdbb897c90ce1ec": {
      "model_module": "@jupyter-widgets/controls",
      "model_module_version": "1.2.0",
      "model_name": "ButtonStyleModel",
      "state": {
       "button_color": "blue"
      }
     },
     "1a41b745823e498cbe9d44527779d29f": {
      "model_module": "@jupyter-widgets/controls",
      "model_module_version": "1.2.0",
      "model_name": "ButtonStyleModel",
      "state": {}
     },
     "1a57301cc53d4285bb263fe12a41e113": {
      "model_module": "@jupyter-widgets/controls",
      "model_module_version": "1.2.0",
      "model_name": "ButtonModel",
      "state": {
       "layout": "IPY_MODEL_36a441e29f00483985e00d555e6108b7",
       "style": "IPY_MODEL_0683f0f4f50141c48a21ae10572b3fc1"
      }
     },
     "1a58fa3504594579b3c287f5275db665": {
      "model_module": "@jupyter-widgets/controls",
      "model_module_version": "1.2.0",
      "model_name": "ButtonModel",
      "state": {
       "layout": "IPY_MODEL_446b98b5627a4d0a902f80067f7866c7",
       "style": "IPY_MODEL_69c8a43ca39245c79205ac6fb7953e46"
      }
     },
     "1a6b0a9053e2452ca410e9de3b4fef7d": {
      "model_module": "@jupyter-widgets/base",
      "model_module_version": "1.0.0",
      "model_name": "LayoutModel",
      "state": {
       "height": "60px",
       "width": "auto"
      }
     },
     "1a8d182bc67148b998395f04b6109707": {
      "model_module": "@jupyter-widgets/controls",
      "model_module_version": "1.2.0",
      "model_name": "ButtonModel",
      "state": {
       "button_style": "warning",
       "description": "37",
       "layout": "IPY_MODEL_a810a994ec8c404f8136c2e39def56aa",
       "style": "IPY_MODEL_002ce41cc4a74236930537c646f09cb0"
      }
     },
     "1ab44b1990ce4303ae3fcdda70b81be4": {
      "model_module": "@jupyter-widgets/controls",
      "model_module_version": "1.2.0",
      "model_name": "GridBoxModel",
      "state": {
       "children": [
        "IPY_MODEL_869e643c617444b08106f6b111ec5588",
        "IPY_MODEL_0a45cd98a83347c195590640bcb35b45",
        "IPY_MODEL_a3519d5239d24ca1ac03a74e6b49a862",
        "IPY_MODEL_4d75dfde48b945258926c32b9026c0dc",
        "IPY_MODEL_5a5f462309c246dc870ab4dffc0af5bd",
        "IPY_MODEL_2673fc052e034797a3025bf6db1f3a72",
        "IPY_MODEL_38b6638876f74129a0b4a5205d58da44",
        "IPY_MODEL_ced2d4a8c15d45d2998765bc9975d17a",
        "IPY_MODEL_bd5648a7c84f49ae950cf67ea0eda03c"
       ],
       "layout": "IPY_MODEL_36ed2ee7fe154c64bae9170764e9740a"
      }
     },
     "1ac2709eea534fbf9d82f17410446954": {
      "model_module": "@jupyter-widgets/base",
      "model_module_version": "1.0.0",
      "model_name": "LayoutModel",
      "state": {}
     },
     "1ac66fdf073c4fbbb68340a5acbb9a7e": {
      "model_module": "@jupyter-widgets/base",
      "model_module_version": "1.0.0",
      "model_name": "LayoutModel",
      "state": {
       "grid_template": "auto / 25% 40px auto 50px"
      }
     },
     "1acdc68cd8e3435e8f7360ccb1474400": {
      "model_module": "@jupyter-widgets/controls",
      "model_module_version": "1.2.0",
      "model_name": "ButtonStyleModel",
      "state": {}
     },
     "1ae94a3ed3f24029a3d5eec953caa558": {
      "model_module": "@jupyter-widgets/base",
      "model_module_version": "1.0.0",
      "model_name": "LayoutModel",
      "state": {
       "grid_area": "sidebar",
       "width": "auto"
      }
     },
     "1b2609e98c3b4a1ba3dcdd96a2ff2689": {
      "model_module": "@jupyter-widgets/controls",
      "model_module_version": "1.2.0",
      "model_name": "ButtonModel",
      "state": {
       "layout": "IPY_MODEL_13e0059cd680446a8dbed4b733138cf5",
       "style": "IPY_MODEL_62970e40a51d4456bef4bf5ba64f5b65"
      }
     },
     "1b3c7e6ff27e4d1783dbdc989c467cc2": {
      "model_module": "@jupyter-widgets/controls",
      "model_module_version": "1.2.0",
      "model_name": "ButtonModel",
      "state": {
       "layout": "IPY_MODEL_a922650c84614ed9b053f3c346caf79d",
       "style": "IPY_MODEL_9d22f3c96417453f90c2a86f9d4c11e7"
      }
     },
     "1b7e200fb3604405ad26b41ef1e7b409": {
      "model_module": "@jupyter-widgets/controls",
      "model_module_version": "1.2.0",
      "model_name": "DescriptionStyleModel",
      "state": {
       "description_width": ""
      }
     },
     "1b99900df3a94e6f9f64d35432340eff": {
      "model_module": "@jupyter-widgets/base",
      "model_module_version": "1.0.0",
      "model_name": "LayoutModel",
      "state": {}
     },
     "1ba5a21180fb44a2bb07d168fa322c73": {
      "model_module": "@jupyter-widgets/base",
      "model_module_version": "1.0.0",
      "model_name": "LayoutModel",
      "state": {
       "border": "3px solid black",
       "display": "flex",
       "flex_flow": "row",
       "height": "",
       "overflow_x": "scroll",
       "width": "500px"
      }
     },
     "1bad5da17c3b43dca0c46618540f8149": {
      "model_module": "@jupyter-widgets/controls",
      "model_module_version": "1.2.0",
      "model_name": "ButtonStyleModel",
      "state": {}
     },
     "1bc70007be67489c8d23c011227b4865": {
      "model_module": "@jupyter-widgets/controls",
      "model_module_version": "1.2.0",
      "model_name": "ButtonStyleModel",
      "state": {}
     },
     "1be7e65093244c17b3f31edce942372f": {
      "model_module": "@jupyter-widgets/controls",
      "model_module_version": "1.2.0",
      "model_name": "ButtonStyleModel",
      "state": {}
     },
     "1bfff04b76ae4bb792ea6cc180c64c3a": {
      "model_module": "@jupyter-widgets/base",
      "model_module_version": "1.0.0",
      "model_name": "LayoutModel",
      "state": {
       "flex": "1 1 0%",
       "width": "auto"
      }
     },
     "1c2de1ee1c7d4df98decacd2a8b2fad4": {
      "model_module": "@jupyter-widgets/controls",
      "model_module_version": "1.2.0",
      "model_name": "ButtonModel",
      "state": {
       "layout": "IPY_MODEL_33821dd28f834ae0b483c1651213364a",
       "style": "IPY_MODEL_098ec8210636463eac4a46477bd90fa9"
      }
     },
     "1c333f95c2504843b4fa59f702ae7f34": {
      "model_module": "@jupyter-widgets/controls",
      "model_module_version": "1.2.0",
      "model_name": "ButtonStyleModel",
      "state": {
       "button_color": "#77A"
      }
     },
     "1c4b903a56f9414d9c04608b916b23dd": {
      "model_module": "@jupyter-widgets/base",
      "model_module_version": "1.0.0",
      "model_name": "LayoutModel",
      "state": {
       "grid_template": "auto / auto auto auto auto auto"
      }
     },
     "1c4ca211072340db80b5972601611593": {
      "model_module": "@jupyter-widgets/controls",
      "model_module_version": "1.2.0",
      "model_name": "ButtonModel",
      "state": {
       "button_style": "warning",
       "description": "7",
       "layout": "IPY_MODEL_e20ec9c5c01e485bbfa90160b80eb8f4",
       "style": "IPY_MODEL_038a0ff051914ada827b976bceb938d2"
      }
     },
     "1c52d9de214f4c79ab5cdf32c18c7cac": {
      "model_module": "@jupyter-widgets/base",
      "model_module_version": "1.0.0",
      "model_name": "LayoutModel",
      "state": {
       "grid_area": "sidebar",
       "width": "auto"
      }
     },
     "1c60cd59eb5d4776bdf7c69a6471243e": {
      "model_module": "@jupyter-widgets/controls",
      "model_module_version": "1.2.0",
      "model_name": "IntSliderModel",
      "state": {
       "description": "A too long description",
       "layout": "IPY_MODEL_a0dfa1137ba64e8c9bf72f86a162a446",
       "style": "IPY_MODEL_34550f96965f4757b0dd625c36e0c39c"
      }
     },
     "1c7ba21a68894fa5839d2d5f6611901f": {
      "model_module": "@jupyter-widgets/base",
      "model_module_version": "1.0.0",
      "model_name": "LayoutModel",
      "state": {
       "height": "auto",
       "width": "auto"
      }
     },
     "1c81b91358154c19ab0e8986a32d5733": {
      "model_module": "@jupyter-widgets/base",
      "model_module_version": "1.0.0",
      "model_name": "LayoutModel",
      "state": {}
     },
     "1cbebd05f4264c899b954f65e669bb27": {
      "model_module": "@jupyter-widgets/controls",
      "model_module_version": "1.2.0",
      "model_name": "ButtonModel",
      "state": {
       "layout": "IPY_MODEL_36a441e29f00483985e00d555e6108b7",
       "style": "IPY_MODEL_0683f0f4f50141c48a21ae10572b3fc1"
      }
     },
     "1cbfec1cc1d94803b50ae29621fb9939": {
      "model_module": "@jupyter-widgets/controls",
      "model_module_version": "1.2.0",
      "model_name": "ButtonModel",
      "state": {
       "layout": "IPY_MODEL_90e6ed8c30a54cab8cdc8ca7fb4a9974",
       "style": "IPY_MODEL_ccbfe2e288b3467ab844560b05e1f691"
      }
     },
     "1cd0d1a77d2c4318a6c88dcbce12ed3f": {
      "model_module": "@jupyter-widgets/controls",
      "model_module_version": "1.2.0",
      "model_name": "VBoxModel",
      "state": {
       "children": [
        "IPY_MODEL_f3777968ce224917b52b8bfc5de9270a",
        "IPY_MODEL_6f80b06bab9f4cb7a0fe91536d986eb0"
       ],
       "layout": "IPY_MODEL_96906a7aff3d424dad0ad1b4d8c3cdf0"
      }
     },
     "1ce25b0dd6df4720b7f4d941ea9e80ce": {
      "model_module": "@jupyter-widgets/controls",
      "model_module_version": "1.2.0",
      "model_name": "ButtonModel",
      "state": {
       "layout": "IPY_MODEL_cd50e4eac43d4b9f8fff10571a9d0d69",
       "style": "IPY_MODEL_f6ad98a676324b70b9be196293356fa4"
      }
     },
     "1ceb665848fe4119934023e9ffd9e680": {
      "model_module": "@jupyter-widgets/controls",
      "model_module_version": "1.2.0",
      "model_name": "ButtonModel",
      "state": {
       "layout": "IPY_MODEL_2bdfdf76c0e14eebaddf584bf14e9325",
       "style": "IPY_MODEL_4dc4f6cde2a84c79a19e269190197406"
      }
     },
     "1cebee2e443e41e88b56c7d05a2cf48b": {
      "model_module": "@jupyter-widgets/controls",
      "model_module_version": "1.2.0",
      "model_name": "ButtonModel",
      "state": {
       "layout": "IPY_MODEL_dd8a3f7aa7084793b4f4ce9c2c3f4f5d",
       "style": "IPY_MODEL_c744e574de424185afa884e7cd0bc948"
      }
     },
     "1cf5d192ee484d3a9bd72310006808c3": {
      "model_module": "@jupyter-widgets/controls",
      "model_module_version": "1.2.0",
      "model_name": "ButtonStyleModel",
      "state": {}
     },
     "1d3258ba1ac24d7daed5fedab76a99c1": {
      "model_module": "@jupyter-widgets/controls",
      "model_module_version": "1.2.0",
      "model_name": "ButtonStyleModel",
      "state": {
       "button_color": "blue"
      }
     },
     "1d66aa72492a44369f6fcdc4f0136deb": {
      "model_module": "@jupyter-widgets/controls",
      "model_module_version": "1.2.0",
      "model_name": "ButtonModel",
      "state": {
       "button_style": "warning",
       "description": "30",
       "layout": "IPY_MODEL_16df380d38fb47a2bbb217b953037b65",
       "style": "IPY_MODEL_174b8cd6628a4e499a50c57774285109"
      }
     },
     "1d7aa050b9264c269ecb31a0804cce2e": {
      "model_module": "@jupyter-widgets/controls",
      "model_module_version": "1.2.0",
      "model_name": "ButtonStyleModel",
      "state": {}
     },
     "1d9a5c6d6df143329bf53ce54fb41c4d": {
      "model_module": "@jupyter-widgets/controls",
      "model_module_version": "1.2.0",
      "model_name": "ButtonModel",
      "state": {
       "button_style": "warning",
       "description": "24",
       "layout": "IPY_MODEL_963f958a6a3049a3b012ec8484fb898f",
       "style": "IPY_MODEL_22a7298a51f3450c961f1611e5e304d4"
      }
     },
     "1d9eceab96c34b1f9fba8d7235d58a53": {
      "model_module": "@jupyter-widgets/controls",
      "model_module_version": "1.2.0",
      "model_name": "ButtonModel",
      "state": {
       "button_style": "danger",
       "description": "staple",
       "layout": "IPY_MODEL_0112515c34d24b3c942c9ca511b83c2a",
       "style": "IPY_MODEL_07a275eb1f3a4707bd39b40756a6c0ec"
      }
     },
     "1db6765265ac45ccb4b073480aecc938": {
      "model_module": "@jupyter-widgets/controls",
      "model_module_version": "1.2.0",
      "model_name": "ButtonStyleModel",
      "state": {}
     },
     "1db73abd3ecb478181339b866917f40c": {
      "model_module": "@jupyter-widgets/controls",
      "model_module_version": "1.2.0",
      "model_name": "ButtonModel",
      "state": {
       "button_style": "warning",
       "description": "26",
       "layout": "IPY_MODEL_79e6f20409fa4963aff904a921b6d604",
       "style": "IPY_MODEL_61864079a5c641e68ef28591239e22ec"
      }
     },
     "1dc9d13a213746f8a5aad958c134ee06": {
      "model_module": "@jupyter-widgets/base",
      "model_module_version": "1.0.0",
      "model_name": "LayoutModel",
      "state": {}
     },
     "1dcd9db9589f4b3fb39044aad77394ae": {
      "model_module": "@jupyter-widgets/controls",
      "model_module_version": "1.2.0",
      "model_name": "ButtonModel",
      "state": {
       "layout": "IPY_MODEL_9a5bfd31f11548d6af73683d0b8fcf4f",
       "style": "IPY_MODEL_5bbba71726f44bb3bb97a31af885452b"
      }
     },
     "1e25d78a776343d88f430d45bcbc6263": {
      "model_module": "@jupyter-widgets/controls",
      "model_module_version": "1.2.0",
      "model_name": "ButtonStyleModel",
      "state": {}
     },
     "1e2801f938384c9e8e2a372ebfb35003": {
      "model_module": "@jupyter-widgets/controls",
      "model_module_version": "1.2.0",
      "model_name": "ButtonStyleModel",
      "state": {}
     },
     "1e40022da7884ab99a825561ca8aa7ac": {
      "model_module": "@jupyter-widgets/controls",
      "model_module_version": "1.2.0",
      "model_name": "ButtonStyleModel",
      "state": {}
     },
     "1e7ceb28dad548cf92663df6df8dc19e": {
      "model_module": "@jupyter-widgets/controls",
      "model_module_version": "1.2.0",
      "model_name": "GridBoxModel",
      "state": {
       "children": [
        "IPY_MODEL_7ec758bef8784cfe853eb51eb51139e5",
        "IPY_MODEL_34549666a8744b5fafe74b669907a0ed",
        "IPY_MODEL_242a085f8c874540b57d3963243e3bc0",
        "IPY_MODEL_2dc15f8b8b3249f195b1c596d0c22b1c",
        "IPY_MODEL_c7cefc2abbbd4009b18e022201d7c557",
        "IPY_MODEL_07f306a06316433aa85b784d11d025dd",
        "IPY_MODEL_ad999a47452a43b5b7847fb215229dc9",
        "IPY_MODEL_4ebb89d167944c8c803dd4f3a070c59e",
        "IPY_MODEL_c42b93197d5a43f69365dd7b2dfb3afc",
        "IPY_MODEL_a301f0cb2e7944a3b2f76a588c3ffac4"
       ],
       "layout": "IPY_MODEL_87ce759e335548e08777f327e705313f"
      }
     },
     "1e84e5dcece04116a45fde561dd8157d": {
      "model_module": "@jupyter-widgets/controls",
      "model_module_version": "1.2.0",
      "model_name": "LabelModel",
      "state": {
       "layout": "IPY_MODEL_d10a8cb5fc514f3cb5e8a6f137a5a0c5",
       "style": "IPY_MODEL_6f6a348e1e694ad18a0e123e143beac9",
       "value": "A too long description"
      }
     },
     "1e9284cc51bd4a929a194cef2ee6028a": {
      "model_module": "@jupyter-widgets/controls",
      "model_module_version": "1.2.0",
      "model_name": "ButtonModel",
      "state": {
       "layout": "IPY_MODEL_104c1bfded49449794e8408e206b484c",
       "style": "IPY_MODEL_c1051cf96aa449d797b6d8bbab851eb9"
      }
     },
     "1e9b8a81f6854f81855211c9a538a08d": {
      "model_module": "@jupyter-widgets/controls",
      "model_module_version": "1.2.0",
      "model_name": "LabelModel",
      "state": {
       "layout": "IPY_MODEL_1811f20b10b54fddb99a89e764d57e98",
       "style": "IPY_MODEL_dced7f0589a44b8b9a56d089ffcb8fae",
       "value": "Egg style"
      }
     },
     "1eb04c7570c242a1a3e85bd75dee6430": {
      "model_module": "@jupyter-widgets/controls",
      "model_module_version": "1.2.0",
      "model_name": "ButtonModel",
      "state": {
       "layout": "IPY_MODEL_df299558f7fe43b2b5de00f8a5202d32",
       "style": "IPY_MODEL_5ca0db911dcb4e7fbd69e459e7a64aed"
      }
     },
     "1eb43f0e5654483ba27a3eab000aca8a": {
      "model_module": "@jupyter-widgets/controls",
      "model_module_version": "1.2.0",
      "model_name": "ButtonStyleModel",
      "state": {}
     },
     "1eb64f529e9144aba9d2a59d24233073": {
      "model_module": "@jupyter-widgets/controls",
      "model_module_version": "1.2.0",
      "model_name": "DescriptionStyleModel",
      "state": {
       "description_width": ""
      }
     },
     "1eb96a42d5964d4ea036dc953ae6e928": {
      "model_module": "@jupyter-widgets/controls",
      "model_module_version": "1.2.0",
      "model_name": "SliderStyleModel",
      "state": {
       "description_width": ""
      }
     },
     "1ec6f56a6cc54a61a653cbd60fa60bd5": {
      "model_module": "@jupyter-widgets/controls",
      "model_module_version": "1.2.0",
      "model_name": "ButtonStyleModel",
      "state": {}
     },
     "1f05a4d8f414443b9894db85118c3a3c": {
      "model_module": "@jupyter-widgets/controls",
      "model_module_version": "1.2.0",
      "model_name": "ButtonStyleModel",
      "state": {}
     },
     "1f0fbd0ddf9b4c29a5e25610bd313ef3": {
      "model_module": "@jupyter-widgets/controls",
      "model_module_version": "1.2.0",
      "model_name": "ButtonStyleModel",
      "state": {
       "button_color": "blue"
      }
     },
     "1f390d05260a4991a2c1fce5fb73f676": {
      "model_module": "@jupyter-widgets/controls",
      "model_module_version": "1.2.0",
      "model_name": "ButtonModel",
      "state": {
       "button_style": "warning",
       "description": "14",
       "layout": "IPY_MODEL_16df380d38fb47a2bbb217b953037b65",
       "style": "IPY_MODEL_f8b4500943064b628538d6f05eb356c7"
      }
     },
     "1f569a90c673470b824e1687a8474a6c": {
      "model_module": "@jupyter-widgets/base",
      "model_module_version": "1.0.0",
      "model_name": "LayoutModel",
      "state": {
       "grid_gap": "10px 15px",
       "grid_template_columns": "100px 50px 100px",
       "grid_template_rows": "80px auto 80px",
       "width": "50%"
      }
     },
     "1f56cb39e8134e718506db6d40f01fb0": {
      "model_module": "@jupyter-widgets/base",
      "model_module_version": "1.0.0",
      "model_name": "LayoutModel",
      "state": {}
     },
     "1f6e3c55683544c1b648f1b74b0ca7f5": {
      "model_module": "@jupyter-widgets/controls",
      "model_module_version": "1.2.0",
      "model_name": "ButtonModel",
      "state": {
       "layout": "IPY_MODEL_54dc1791cb77472c8ca601c93d0b0fe1",
       "style": "IPY_MODEL_5116505f9d9144babce0c13f1e8a8631"
      }
     },
     "1f77029ddf9543a1995725ae73170297": {
      "model_module": "@jupyter-widgets/controls",
      "model_module_version": "1.2.0",
      "model_name": "ButtonModel",
      "state": {
       "layout": "IPY_MODEL_97f59d9afbe840f3a0be0c37d5e84ae8",
       "style": "IPY_MODEL_4bbffed757e34d98b461b8bc0f1d23c4"
      }
     },
     "1f81dc0aaa6b43ccb10f804e2bbfedd1": {
      "model_module": "@jupyter-widgets/controls",
      "model_module_version": "1.2.0",
      "model_name": "SliderStyleModel",
      "state": {
       "description_width": ""
      }
     },
     "1f88ba38140f46da8e14b2de81f5ae79": {
      "model_module": "@jupyter-widgets/controls",
      "model_module_version": "1.2.0",
      "model_name": "ButtonStyleModel",
      "state": {
       "button_color": "blue"
      }
     },
     "1f8f83d2eef8494cbd9792c0b1748076": {
      "model_module": "@jupyter-widgets/controls",
      "model_module_version": "1.2.0",
      "model_name": "ButtonModel",
      "state": {
       "layout": "IPY_MODEL_13e0059cd680446a8dbed4b733138cf5",
       "style": "IPY_MODEL_62970e40a51d4456bef4bf5ba64f5b65"
      }
     },
     "1f992ad0340b44c387d10cb48509c5d5": {
      "model_module": "@jupyter-widgets/controls",
      "model_module_version": "1.2.0",
      "model_name": "ButtonStyleModel",
      "state": {}
     },
     "1f9a1221f0e94f3e89716708ec4afd1b": {
      "model_module": "@jupyter-widgets/controls",
      "model_module_version": "1.2.0",
      "model_name": "ButtonModel",
      "state": {
       "button_style": "warning",
       "description": "10",
       "layout": "IPY_MODEL_a810a994ec8c404f8136c2e39def56aa",
       "style": "IPY_MODEL_cfc1c8bbdec749d1972d014adaa4cd59"
      }
     },
     "1fad943e346e4a549a8bab034298233b": {
      "model_module": "@jupyter-widgets/controls",
      "model_module_version": "1.2.0",
      "model_name": "ButtonModel",
      "state": {
       "button_style": "warning",
       "description": "34",
       "layout": "IPY_MODEL_963f958a6a3049a3b012ec8484fb898f",
       "style": "IPY_MODEL_aa7f985d379d4f7b9ed5fe8e743e2141"
      }
     },
     "1ff4eb8eb2564233ba10b1727df2c977": {
      "model_module": "@jupyter-widgets/controls",
      "model_module_version": "1.2.0",
      "model_name": "SliderStyleModel",
      "state": {
       "description_width": "",
       "handle_color": "lightblue"
      }
     },
     "1ffecd31d26e4b38afcae7ab7ea5036e": {
      "model_module": "@jupyter-widgets/controls",
      "model_module_version": "1.2.0",
      "model_name": "ButtonModel",
      "state": {
       "layout": "IPY_MODEL_cd00ac948481485281a97b3b91a79e4e",
       "style": "IPY_MODEL_d423fc886873440ca97545957d5f1eda"
      }
     },
     "201486be687c475cb32d0dc0ed205666": {
      "model_module": "@jupyter-widgets/controls",
      "model_module_version": "1.2.0",
      "model_name": "DescriptionStyleModel",
      "state": {
       "description_width": ""
      }
     },
     "201c5ffe20854f2ead15d7f8c48249a2": {
      "model_module": "@jupyter-widgets/controls",
      "model_module_version": "1.2.0",
      "model_name": "LabelModel",
      "state": {
       "layout": "IPY_MODEL_2f79f1f84c6b4099986307753c523a6e",
       "style": "IPY_MODEL_c927baa9e61b4e918c6ebb209dd512b7",
       "value": "Age of the captain"
      }
     },
     "202c7c4749234c77b85edbf133073af0": {
      "model_module": "@jupyter-widgets/controls",
      "model_module_version": "1.2.0",
      "model_name": "ButtonStyleModel",
      "state": {}
     },
     "202cb4a0d88348e984c566e7c0a3c3e7": {
      "model_module": "@jupyter-widgets/controls",
      "model_module_version": "1.2.0",
      "model_name": "ButtonModel",
      "state": {
       "layout": "IPY_MODEL_7b1a8b8157674b6bb054cc6c62227c65",
       "style": "IPY_MODEL_7a4b0b23817b4a94bc467a67e82faecb"
      }
     },
     "20481b4e810c49109d4fb7aaa1330738": {
      "model_module": "@jupyter-widgets/controls",
      "model_module_version": "1.2.0",
      "model_name": "ButtonModel",
      "state": {
       "description": "Another button with the same layout",
       "layout": "IPY_MODEL_ad48a41a4da448e989141d916a2dd7dc",
       "style": "IPY_MODEL_3605baf1273542009dd9467c9c1fea3c"
      }
     },
     "206b665682884f10a291f4f84cd9abf5": {
      "model_module": "@jupyter-widgets/controls",
      "model_module_version": "1.2.0",
      "model_name": "ButtonModel",
      "state": {
       "button_style": "danger",
       "description": "weight=1; 0%",
       "layout": "IPY_MODEL_2b19e7e924e1420f9f7b66978cacb439",
       "style": "IPY_MODEL_f93f4631f5b846319bfd6438e9dd7442"
      }
     },
     "20c323bbfe024a849fa04663265699ca": {
      "model_module": "@jupyter-widgets/controls",
      "model_module_version": "1.2.0",
      "model_name": "ButtonModel",
      "state": {
       "layout": "IPY_MODEL_bd032ec0085648d8b4bee7b4b2e75fe2",
       "style": "IPY_MODEL_60e170a7ce634ef9a5578b99cb742a11"
      }
     },
     "20f31065ace34fa4abeb1b4db9a71072": {
      "model_module": "@jupyter-widgets/controls",
      "model_module_version": "1.2.0",
      "model_name": "ButtonModel",
      "state": {
       "layout": "IPY_MODEL_49f81b3585ff412698273f2404121602",
       "style": "IPY_MODEL_d7b9b9eaed32480ea68d597b60d79f5d"
      }
     },
     "211562b1427c4a0fb133b555cdf9f968": {
      "model_module": "@jupyter-widgets/controls",
      "model_module_version": "1.2.0",
      "model_name": "SliderStyleModel",
      "state": {
       "description_width": ""
      }
     },
     "2115da51f17e49df85b333026d1694e8": {
      "model_module": "@jupyter-widgets/base",
      "model_module_version": "1.0.0",
      "model_name": "LayoutModel",
      "state": {}
     },
     "2143b1641b7449c68ad25364c223976a": {
      "model_module": "@jupyter-widgets/controls",
      "model_module_version": "1.2.0",
      "model_name": "ButtonStyleModel",
      "state": {}
     },
     "214be6a933ec426f92f22f23e70abe74": {
      "model_module": "@jupyter-widgets/base",
      "model_module_version": "1.0.0",
      "model_name": "LayoutModel",
      "state": {
       "grid_gap": "5px 10px",
       "grid_template_columns": "100px 50px 100px",
       "grid_template_rows": "80px auto 80px",
       "width": "50%"
      }
     },
     "216e771000e440fea088424dae98bc76": {
      "model_module": "@jupyter-widgets/base",
      "model_module_version": "1.0.0",
      "model_name": "LayoutModel",
      "state": {
       "height": "auto",
       "width": "auto"
      }
     },
     "217f7a608fbb4a4c85ed010e22c77b4c": {
      "model_module": "@jupyter-widgets/base",
      "model_module_version": "1.0.0",
      "model_name": "LayoutModel",
      "state": {}
     },
     "2185e768be3b49a5bf945fc7ac019dc2": {
      "model_module": "@jupyter-widgets/controls",
      "model_module_version": "1.2.0",
      "model_name": "ButtonModel",
      "state": {
       "layout": "IPY_MODEL_93cf562e131e4a7eacb682fd13e54be7",
       "style": "IPY_MODEL_0e7eb0b0bcc24d3e9e361aeab00e9a86"
      }
     },
     "218901bc856c4f87951c5e3d428f4938": {
      "model_module": "@jupyter-widgets/controls",
      "model_module_version": "1.2.0",
      "model_name": "ButtonStyleModel",
      "state": {}
     },
     "2189c7d6e07543a49e171f5e9e11debb": {
      "model_module": "@jupyter-widgets/base",
      "model_module_version": "1.0.0",
      "model_name": "LayoutModel",
      "state": {
       "grid_gap": "1px / 1px",
       "grid_template": "50px 100px / 25% 10% auto 200px"
      }
     },
     "21a5fcc34e784633b5fa36206f3645b5": {
      "model_module": "@jupyter-widgets/controls",
      "model_module_version": "1.2.0",
      "model_name": "ButtonStyleModel",
      "state": {}
     },
     "21b54d9ed30845fc85792c0d944b4a7d": {
      "model_module": "@jupyter-widgets/controls",
      "model_module_version": "1.2.0",
      "model_name": "ButtonStyleModel",
      "state": {
       "button_color": "lightblue"
      }
     },
     "21cf9a06320c4a22b2c75844e4162656": {
      "model_module": "@jupyter-widgets/controls",
      "model_module_version": "1.2.0",
      "model_name": "ButtonModel",
      "state": {
       "button_style": "warning",
       "description": "4",
       "layout": "IPY_MODEL_e20ec9c5c01e485bbfa90160b80eb8f4",
       "style": "IPY_MODEL_40f1fb96432443938a0d419c4567a60f"
      }
     },
     "21e041c7ea5148f5a870985dba225b3d": {
      "model_module": "@jupyter-widgets/controls",
      "model_module_version": "1.2.0",
      "model_name": "ButtonStyleModel",
      "state": {}
     },
     "21fb480c58224a74a94de12dfcdc5f93": {
      "model_module": "@jupyter-widgets/controls",
      "model_module_version": "1.2.0",
      "model_name": "ButtonModel",
      "state": {
       "description": "Sidebar",
       "layout": "IPY_MODEL_b57ac78112424874be11541a034f9764",
       "style": "IPY_MODEL_e34c1737997c42479f4ae0b5dc0b7d85"
      }
     },
     "21fcf9f6cdfd45dfaf4d2bebed91b972": {
      "model_module": "@jupyter-widgets/controls",
      "model_module_version": "1.2.0",
      "model_name": "ButtonModel",
      "state": {
       "layout": "IPY_MODEL_35e07d15f5c14904936c5a43ba07b967",
       "style": "IPY_MODEL_1673d8f531cc4de896081401b82004e9"
      }
     },
     "220230868411444fa006122baa8449aa": {
      "model_module": "@jupyter-widgets/base",
      "model_module_version": "1.0.0",
      "model_name": "LayoutModel",
      "state": {
       "height": "auto",
       "width": "auto"
      }
     },
     "222383402114484687f8fbe7d7c42e4d": {
      "model_module": "@jupyter-widgets/controls",
      "model_module_version": "1.2.0",
      "model_name": "GridBoxModel",
      "state": {
       "children": [
        "IPY_MODEL_5db8b0c791394d6997e34be63c0058df",
        "IPY_MODEL_e21b446398d04e2a9314afe9f4d2f216",
        "IPY_MODEL_a7a704ba71f24708807e1652607e0aab",
        "IPY_MODEL_1eb04c7570c242a1a3e85bd75dee6430",
        "IPY_MODEL_c3ee81d98fb946c59655116df3a42b7a",
        "IPY_MODEL_3b954c4792d14359a6ba5ae2690f7458",
        "IPY_MODEL_87695662861b45f2a2f1d186ab4b7cd8",
        "IPY_MODEL_ec475ea136ef41b1a158a9fedeff92e0"
       ],
       "layout": "IPY_MODEL_9e712de284b847da82e7394cfbd807f8"
      }
     },
     "22287a73cd36400d94e5fa118b2e7826": {
      "model_module": "@jupyter-widgets/controls",
      "model_module_version": "1.2.0",
      "model_name": "ButtonStyleModel",
      "state": {}
     },
     "225d065876f841a4aa809ca6fa11eb12": {
      "model_module": "@jupyter-widgets/controls",
      "model_module_version": "1.2.0",
      "model_name": "ButtonStyleModel",
      "state": {}
     },
     "227ea9c35ca24ed5b695c0f418408cca": {
      "model_module": "@jupyter-widgets/controls",
      "model_module_version": "1.2.0",
      "model_name": "ButtonStyleModel",
      "state": {}
     },
     "228e7fbfc4cc405d8577d016f0b61cd3": {
      "model_module": "@jupyter-widgets/controls",
      "model_module_version": "1.2.0",
      "model_name": "ButtonModel",
      "state": {
       "layout": "IPY_MODEL_bfea69d00b7047ae9fc2c9c9406858ad",
       "style": "IPY_MODEL_a691f6de33554e9ca65a950f702e40e0"
      }
     },
     "22a7298a51f3450c961f1611e5e304d4": {
      "model_module": "@jupyter-widgets/controls",
      "model_module_version": "1.2.0",
      "model_name": "ButtonStyleModel",
      "state": {}
     },
     "22a94c722bc6475da76ae893487af849": {
      "model_module": "@jupyter-widgets/base",
      "model_module_version": "1.0.0",
      "model_name": "LayoutModel",
      "state": {}
     },
     "22aee8138cb742dbaf2ae2510152c640": {
      "model_module": "@jupyter-widgets/controls",
      "model_module_version": "1.2.0",
      "model_name": "ButtonModel",
      "state": {
       "button_style": "warning",
       "description": "29",
       "layout": "IPY_MODEL_963f958a6a3049a3b012ec8484fb898f",
       "style": "IPY_MODEL_9859b0ab522347019e427189bcc8d689"
      }
     },
     "22b7316c16ce44acbcbabca436a3901e": {
      "model_module": "@jupyter-widgets/base",
      "model_module_version": "1.0.0",
      "model_name": "LayoutModel",
      "state": {
       "height": "auto",
       "width": "auto"
      }
     },
     "22b9d68e19d444b19b7b673a3786a713": {
      "model_module": "@jupyter-widgets/controls",
      "model_module_version": "1.2.0",
      "model_name": "ButtonModel",
      "state": {
       "layout": "IPY_MODEL_1a6b0a9053e2452ca410e9de3b4fef7d",
       "style": "IPY_MODEL_5f85bf14ce3c4a71aa9fe332c0a308e9"
      }
     },
     "22d68066b4964df58ee9ce69e38506ba": {
      "model_module": "@jupyter-widgets/controls",
      "model_module_version": "1.2.0",
      "model_name": "ButtonStyleModel",
      "state": {
       "button_color": "#77A"
      }
     },
     "231c98a37a3d4e09b06ba68a4b374a37": {
      "model_module": "@jupyter-widgets/controls",
      "model_module_version": "1.2.0",
      "model_name": "ButtonModel",
      "state": {
       "layout": "IPY_MODEL_8c7d17fa9b6a48b7832b66d2d78dfc94",
       "style": "IPY_MODEL_5c1d9cd1d1e74a489d4555ee019dfefa"
      }
     },
     "232aaf8f4dc8498c9527f7ddf1712c95": {
      "model_module": "@jupyter-widgets/base",
      "model_module_version": "1.0.0",
      "model_name": "LayoutModel",
      "state": {
       "grid_template": "auto / auto auto auto auto auto"
      }
     },
     "233bf5bb5a0d43ed95ee365b40ac3887": {
      "model_module": "@jupyter-widgets/controls",
      "model_module_version": "1.2.0",
      "model_name": "ButtonModel",
      "state": {
       "layout": "IPY_MODEL_7b1a8b8157674b6bb054cc6c62227c65",
       "style": "IPY_MODEL_7a4b0b23817b4a94bc467a67e82faecb"
      }
     },
     "237a7ceb37ec4e7f9acde36ffd816479": {
      "model_module": "@jupyter-widgets/base",
      "model_module_version": "1.0.0",
      "model_name": "LayoutModel",
      "state": {
       "grid_template_areas": "\n            \"header header header header\"\n            \"main main . sidebar \"\n            \"footer footer footer footer\"\n            ",
       "grid_template_columns": "25% 25% 25% 25%",
       "grid_template_rows": "auto auto auto",
       "width": "50%"
      }
     },
     "239cffe8ce4b4e999c50fdf9bb9c043d": {
      "model_module": "@jupyter-widgets/base",
      "model_module_version": "1.0.0",
      "model_name": "LayoutModel",
      "state": {
       "height": "auto",
       "width": "auto"
      }
     },
     "23db6c31aba14cfa82ddab82054c5358": {
      "model_module": "@jupyter-widgets/controls",
      "model_module_version": "1.2.0",
      "model_name": "ButtonStyleModel",
      "state": {}
     },
     "23ec22dd2cb14d3f8d6d8f14e805fae4": {
      "model_module": "@jupyter-widgets/controls",
      "model_module_version": "1.2.0",
      "model_name": "LabelModel",
      "state": {
       "layout": "IPY_MODEL_c4b0a151e3d948749aa7875659335168",
       "style": "IPY_MODEL_1573ea499051426da0a689de38ec63f2",
       "value": "Age of the captain"
      }
     },
     "23ed97b903d1414abbb17ae2609070bb": {
      "model_module": "@jupyter-widgets/controls",
      "model_module_version": "1.2.0",
      "model_name": "ButtonModel",
      "state": {
       "layout": "IPY_MODEL_f5b417d7e1df4155948ccc11e2f1e644",
       "style": "IPY_MODEL_bca6ea5f2ce044c482c5cb725bc38d83"
      }
     },
     "23f4ee2b53c743e5b64b6a0868e991ae": {
      "model_module": "@jupyter-widgets/controls",
      "model_module_version": "1.2.0",
      "model_name": "ButtonStyleModel",
      "state": {}
     },
     "2406e8393329452a95cd6667c8eb2219": {
      "model_module": "@jupyter-widgets/controls",
      "model_module_version": "1.2.0",
      "model_name": "ButtonModel",
      "state": {
       "button_style": "warning",
       "description": "11",
       "layout": "IPY_MODEL_e20ec9c5c01e485bbfa90160b80eb8f4",
       "style": "IPY_MODEL_adf55ce3043541228e7a5a4ee94a35eb"
      }
     },
     "240bbd2c9d8247fc8217016140cc4bdf": {
      "model_module": "@jupyter-widgets/controls",
      "model_module_version": "1.2.0",
      "model_name": "ButtonModel",
      "state": {
       "layout": "IPY_MODEL_3f71f81b8f7747939c03e358cd4a7a17",
       "style": "IPY_MODEL_fdd73a93225844ce94f47f4a447c7c07"
      }
     },
     "241cc29bf34547e1b31e647c11cbe107": {
      "model_module": "@jupyter-widgets/controls",
      "model_module_version": "1.2.0",
      "model_name": "ButtonStyleModel",
      "state": {}
     },
     "241d4d6b26484ab2ba9c0662edd70841": {
      "model_module": "@jupyter-widgets/controls",
      "model_module_version": "1.2.0",
      "model_name": "ButtonStyleModel",
      "state": {
       "button_color": "#77A"
      }
     },
     "24209ab14559481e82a77ab4b8f07637": {
      "model_module": "@jupyter-widgets/controls",
      "model_module_version": "1.2.0",
      "model_name": "ButtonModel",
      "state": {
       "description": "Custom color",
       "layout": "IPY_MODEL_4ef0ac13a69347be9e4c04a935875773",
       "style": "IPY_MODEL_8a1c9e44eed54302bf0cf904fb656e43"
      }
     },
     "242a085f8c874540b57d3963243e3bc0": {
      "model_module": "@jupyter-widgets/controls",
      "model_module_version": "1.2.0",
      "model_name": "ButtonModel",
      "state": {
       "layout": "IPY_MODEL_706d95b63d0144b6a672412f3a219036",
       "style": "IPY_MODEL_ce0d54c3c10540759d656057c4f6d4da"
      }
     },
     "246693d208c349baa252962099104e02": {
      "model_module": "@jupyter-widgets/controls",
      "model_module_version": "1.2.0",
      "model_name": "ButtonModel",
      "state": {
       "description": "battery",
       "layout": "IPY_MODEL_712bf23aaf9445a2986f66004a23eaae",
       "style": "IPY_MODEL_05c69629beb149a19df56781760adf4f"
      }
     },
     "24a6caf557ed484a8e40f8f4de098dd8": {
      "model_module": "@jupyter-widgets/controls",
      "model_module_version": "1.2.0",
      "model_name": "ButtonModel",
      "state": {
       "layout": "IPY_MODEL_f5b417d7e1df4155948ccc11e2f1e644",
       "style": "IPY_MODEL_73b921942eb64c0aa2c25785aacb0024"
      }
     },
     "24bf6347bae3420da98405dc4b06b602": {
      "model_module": "@jupyter-widgets/controls",
      "model_module_version": "1.2.0",
      "model_name": "ButtonStyleModel",
      "state": {}
     },
     "24c97944f7694910b0aa78b60e3d35f9": {
      "model_module": "@jupyter-widgets/controls",
      "model_module_version": "1.2.0",
      "model_name": "ButtonStyleModel",
      "state": {}
     },
     "24d2cb71f27b4cc18ccb8e13707446bb": {
      "model_module": "@jupyter-widgets/controls",
      "model_module_version": "1.2.0",
      "model_name": "ButtonModel",
      "state": {
       "layout": "IPY_MODEL_ab4f1d5f0c594bbc9c04549f977b9f0f",
       "style": "IPY_MODEL_c92f5aed641745c6b668009a50e2423f"
      }
     },
     "24dd2e33215643309c7a31cf1c48f81e": {
      "model_module": "@jupyter-widgets/controls",
      "model_module_version": "1.2.0",
      "model_name": "GridBoxModel",
      "state": {
       "children": [
        "IPY_MODEL_07db550ceabf4d3b9a2b766203f7cf78",
        "IPY_MODEL_29385ef91817431da66be65a0dea0b9d",
        "IPY_MODEL_fb75ecdc17ad49bf90da952477c29b21",
        "IPY_MODEL_f7e6fc8c5a684702b49608882cca7888",
        "IPY_MODEL_b664bd8831574972902898526cfd81b6",
        "IPY_MODEL_66582f6673924c4f943d265084242d7f",
        "IPY_MODEL_9027482073b849e8b0f8982b73f274e6",
        "IPY_MODEL_47884687f9fb4c8ab6c8525f708e14ef",
        "IPY_MODEL_5b168e7445b34ad0957a8d75f5219e18",
        "IPY_MODEL_a0901dbbb2b241659bb5759f9d0d1fc3"
       ],
       "layout": "IPY_MODEL_b625cdd40df74f6a9c27381fbce0ecdc"
      }
     },
     "24f9e20db5454958bcc130f83603dc3d": {
      "model_module": "@jupyter-widgets/controls",
      "model_module_version": "1.2.0",
      "model_name": "ButtonModel",
      "state": {
       "button_style": "warning",
       "description": "5",
       "layout": "IPY_MODEL_d2db15f9d1834946bd4923f3faf2a54f",
       "style": "IPY_MODEL_68dbf392bf89439b98665b8bffad008b"
      }
     },
     "24ff4336e24f493ebb5fc49b1f73afb5": {
      "model_module": "@jupyter-widgets/controls",
      "model_module_version": "1.2.0",
      "model_name": "ButtonModel",
      "state": {
       "layout": "IPY_MODEL_bca42cda5863431094ba3b2b4642113f",
       "style": "IPY_MODEL_227ea9c35ca24ed5b695c0f418408cca"
      }
     },
     "250ee33347e644a994da13d153d4601d": {
      "model_module": "@jupyter-widgets/controls",
      "model_module_version": "1.2.0",
      "model_name": "ButtonStyleModel",
      "state": {}
     },
     "25201b6ab1b5436c882180202903f787": {
      "model_module": "@jupyter-widgets/controls",
      "model_module_version": "1.2.0",
      "model_name": "ButtonModel",
      "state": {
       "layout": "IPY_MODEL_71edbc4e034840e2a9927c2487c68700",
       "style": "IPY_MODEL_46fb0cd3c6e349b6b7add514717cd4de"
      }
     },
     "253b7aafaeb448f3b36c5b7cbdbc2a80": {
      "model_module": "@jupyter-widgets/controls",
      "model_module_version": "1.2.0",
      "model_name": "ButtonStyleModel",
      "state": {}
     },
     "253c9270deb040feb039549975c0eb1d": {
      "model_module": "@jupyter-widgets/controls",
      "model_module_version": "1.2.0",
      "model_name": "ButtonModel",
      "state": {
       "layout": "IPY_MODEL_838146113b404f3cab0775e9ec2fb331",
       "style": "IPY_MODEL_0da3170bbca9487899670a015eead33b"
      }
     },
     "253e1eae5e494cbcadab1483336c6e21": {
      "model_module": "@jupyter-widgets/base",
      "model_module_version": "1.0.0",
      "model_name": "LayoutModel",
      "state": {
       "height": "auto",
       "width": "auto"
      }
     },
     "254e450e33de4cbab951a297dbebc608": {
      "model_module": "@jupyter-widgets/controls",
      "model_module_version": "1.2.0",
      "model_name": "ButtonModel",
      "state": {
       "button_style": "warning",
       "description": "36",
       "layout": "IPY_MODEL_963f958a6a3049a3b012ec8484fb898f",
       "style": "IPY_MODEL_21e041c7ea5148f5a870985dba225b3d"
      }
     },
     "2558a5a5046941b2884cb8035ea23581": {
      "model_module": "@jupyter-widgets/base",
      "model_module_version": "1.0.0",
      "model_name": "LayoutModel",
      "state": {
       "grid_template": "'\n    auto auto auto auto auto / auto\n    "
      }
     },
     "256cd856a9fc43df8d3b2aee0e294a38": {
      "model_module": "@jupyter-widgets/controls",
      "model_module_version": "1.2.0",
      "model_name": "ButtonModel",
      "state": {
       "button_style": "warning",
       "description": "33",
       "layout": "IPY_MODEL_963f958a6a3049a3b012ec8484fb898f",
       "style": "IPY_MODEL_b19177023a824ac7b2237f1ca2f14346"
      }
     },
     "257da8e04e8f4f99b31ffe43c3a795fb": {
      "model_module": "@jupyter-widgets/controls",
      "model_module_version": "1.2.0",
      "model_name": "ButtonModel",
      "state": {
       "layout": "IPY_MODEL_4d53052a4a3c4ea08b4ae8a0f20ff0ac",
       "style": "IPY_MODEL_ef04bac9d4f54ba1bff1b2cc42c39527"
      }
     },
     "257feb1ebd6d42a2baa2659705028f4e": {
      "model_module": "@jupyter-widgets/controls",
      "model_module_version": "1.2.0",
      "model_name": "ButtonModel",
      "state": {
       "description": "horse",
       "layout": "IPY_MODEL_1b99900df3a94e6f9f64d35432340eff",
       "style": "IPY_MODEL_08a242025bf34d5eb99f37067c37583c"
      }
     },
     "258ca3b836c34ee19a7da44900682468": {
      "model_module": "@jupyter-widgets/controls",
      "model_module_version": "1.2.0",
      "model_name": "ButtonStyleModel",
      "state": {}
     },
     "259d28079d6e4a67b144970d47505dca": {
      "model_module": "@jupyter-widgets/controls",
      "model_module_version": "1.2.0",
      "model_name": "ButtonStyleModel",
      "state": {}
     },
     "25a74c455053473f87b6cf8c34eb5e81": {
      "model_module": "@jupyter-widgets/base",
      "model_module_version": "1.0.0",
      "model_name": "LayoutModel",
      "state": {}
     },
     "25ac07c5c7e3492bb04171c7c470dc0e": {
      "model_module": "@jupyter-widgets/controls",
      "model_module_version": "1.2.0",
      "model_name": "ButtonModel",
      "state": {
       "button_style": "warning",
       "description": "3",
       "layout": "IPY_MODEL_963f958a6a3049a3b012ec8484fb898f",
       "style": "IPY_MODEL_b4c1503a968c4b6ba9842a0d6cb1133e"
      }
     },
     "25bc0eb255dc474bb6f33356778913b8": {
      "model_module": "@jupyter-widgets/base",
      "model_module_version": "1.0.0",
      "model_name": "LayoutModel",
      "state": {}
     },
     "25e005c687cf45b18e91e45143669dde": {
      "model_module": "@jupyter-widgets/base",
      "model_module_version": "1.0.0",
      "model_name": "LayoutModel",
      "state": {
       "display": "flex",
       "flex_flow": "row",
       "justify_content": "space-between"
      }
     },
     "25e26a5141814e42b90db579dac93ff6": {
      "model_module": "@jupyter-widgets/controls",
      "model_module_version": "1.2.0",
      "model_name": "ButtonModel",
      "state": {
       "layout": "IPY_MODEL_c082fe1a78e5489796cc66b441e0f7ad",
       "style": "IPY_MODEL_a88dd60205d248589e9bb76b1a7bf90b"
      }
     },
     "25ecee43865648549e6f1a9c367bd436": {
      "model_module": "@jupyter-widgets/controls",
      "model_module_version": "1.2.0",
      "model_name": "IntSliderModel",
      "state": {
       "description": "A too long description",
       "layout": "IPY_MODEL_144685da6f7d4645a6391351a8009ca8",
       "style": "IPY_MODEL_9c711ec0f8fd4576a7af3be4765243b9"
      }
     },
     "25f2420b7b4f46228d8b129ed1baaced": {
      "model_module": "@jupyter-widgets/controls",
      "model_module_version": "1.2.0",
      "model_name": "ButtonStyleModel",
      "state": {}
     },
     "25fc2934c05b487fbf98adcbaad09d8f": {
      "model_module": "@jupyter-widgets/controls",
      "model_module_version": "1.2.0",
      "model_name": "ButtonModel",
      "state": {
       "layout": "IPY_MODEL_6f78c389a2aa442f9564842959c99ad1",
       "style": "IPY_MODEL_c8a900dda78444929e3e3cbf5ea12ca1"
      }
     },
     "2615e0108bbf40749adfea67a1de5d13": {
      "model_module": "@jupyter-widgets/controls",
      "model_module_version": "1.2.0",
      "model_name": "ButtonModel",
      "state": {
       "button_style": "warning",
       "description": "39",
       "layout": "IPY_MODEL_d2db15f9d1834946bd4923f3faf2a54f",
       "style": "IPY_MODEL_f6a65b69a3fc47cb8c14e32ea334d959"
      }
     },
     "261fece4380e47808f0bb2f2f516351e": {
      "model_module": "@jupyter-widgets/controls",
      "model_module_version": "1.2.0",
      "model_name": "ButtonModel",
      "state": {
       "layout": "IPY_MODEL_03f50812816f42f88a41c746f145ce3b",
       "style": "IPY_MODEL_1f0fbd0ddf9b4c29a5e25610bd313ef3"
      }
     },
     "262ad5ffdc8444488727c495fa03f29b": {
      "model_module": "@jupyter-widgets/controls",
      "model_module_version": "1.2.0",
      "model_name": "ButtonModel",
      "state": {
       "button_style": "warning",
       "description": "12",
       "layout": "IPY_MODEL_e20ec9c5c01e485bbfa90160b80eb8f4",
       "style": "IPY_MODEL_4373c6a2bafa483791773d5054e35188"
      }
     },
     "264266403d5346f9b139b2d0ef39ca4d": {
      "model_module": "@jupyter-widgets/controls",
      "model_module_version": "1.2.0",
      "model_name": "LabelModel",
      "state": {
       "layout": "IPY_MODEL_7aeb359eb38046afbf54384c07446021",
       "style": "IPY_MODEL_e9b5b56fa75543f4888f227e9e831dfe",
       "value": "Information"
      }
     },
     "2648afd484584476a2532b0ec18f0520": {
      "model_module": "@jupyter-widgets/controls",
      "model_module_version": "1.2.0",
      "model_name": "ButtonStyleModel",
      "state": {}
     },
     "2649c60ebf2349d48dae08557c4ef831": {
      "model_module": "@jupyter-widgets/controls",
      "model_module_version": "1.2.0",
      "model_name": "ButtonModel",
      "state": {
       "layout": "IPY_MODEL_ea2a717a6abb43d58ed664b124108192",
       "style": "IPY_MODEL_7f1d43ffd3b947c781cd0bd3a801fafa"
      }
     },
     "266c9d2ef29b448b89edf367b1f262bc": {
      "model_module": "@jupyter-widgets/controls",
      "model_module_version": "1.2.0",
      "model_name": "ButtonStyleModel",
      "state": {}
     },
     "2673fc052e034797a3025bf6db1f3a72": {
      "model_module": "@jupyter-widgets/controls",
      "model_module_version": "1.2.0",
      "model_name": "ButtonModel",
      "state": {
       "layout": "IPY_MODEL_7f8bb7acaadd473f8caa649c7ef7ea9d",
       "style": "IPY_MODEL_c26ed703748b4c07b53f00db86b4c85f"
      }
     },
     "267b1abac7144694a3e2de380024b609": {
      "model_module": "@jupyter-widgets/controls",
      "model_module_version": "1.2.0",
      "model_name": "VBoxModel",
      "state": {
       "children": [
        "IPY_MODEL_f67324894330473995efe85b8173ddda",
        "IPY_MODEL_45fae494a81a45cd847121ad65d2f9eb"
       ],
       "layout": "IPY_MODEL_0fd65e03f9424f7b9d48f76082683ea4"
      }
     },
     "26868b537ea54281aabbfa09442a93d8": {
      "model_module": "@jupyter-widgets/controls",
      "model_module_version": "1.2.0",
      "model_name": "ButtonModel",
      "state": {
       "button_style": "warning",
       "description": "0",
       "layout": "IPY_MODEL_e20ec9c5c01e485bbfa90160b80eb8f4",
       "style": "IPY_MODEL_0b54094c660041e28aca2a6b52e76181"
      }
     },
     "268ee6b1e3874ffca3834c3cf0fe2738": {
      "model_module": "@jupyter-widgets/controls",
      "model_module_version": "1.2.0",
      "model_name": "ButtonStyleModel",
      "state": {}
     },
     "269a7061d8434a10a83df1c995fe8d89": {
      "model_module": "@jupyter-widgets/controls",
      "model_module_version": "1.2.0",
      "model_name": "ButtonModel",
      "state": {
       "layout": "IPY_MODEL_97f59d9afbe840f3a0be0c37d5e84ae8",
       "style": "IPY_MODEL_4bbffed757e34d98b461b8bc0f1d23c4"
      }
     },
     "269c8e3f535b4461835b7a0d000979e1": {
      "model_module": "@jupyter-widgets/controls",
      "model_module_version": "1.2.0",
      "model_name": "ButtonStyleModel",
      "state": {}
     },
     "26ed309780ea49048693f83e3279eae7": {
      "model_module": "@jupyter-widgets/controls",
      "model_module_version": "1.2.0",
      "model_name": "GridBoxModel",
      "state": {
       "children": [
        "IPY_MODEL_18c952f61e2e40cb892830b7932e6ed5",
        "IPY_MODEL_10380d8769944c5794a506758de7e511",
        "IPY_MODEL_5b52388c93204b0485c5e179f9f7c472",
        "IPY_MODEL_6be3e3c42e2c44bba0a0e6cc5a51f78f",
        "IPY_MODEL_fa95589929554bafa63fc98ad0342400",
        "IPY_MODEL_157876518bf2419195c94143d2327ade",
        "IPY_MODEL_3bf8a17d32d04d0dab79ecf4443ebdd0",
        "IPY_MODEL_b509ab7de3f243468f325c73373f6b50",
        "IPY_MODEL_f9ecd67c10324f23b88ff3c9214de919"
       ],
       "layout": "IPY_MODEL_1611135155c84a999f8a3e209f801e3f"
      }
     },
     "26fc581bb0f84ed2993c1c8dbd164ba5": {
      "model_module": "@jupyter-widgets/controls",
      "model_module_version": "1.2.0",
      "model_name": "ButtonModel",
      "state": {
       "layout": "IPY_MODEL_b2848c12f02a4daaa33184092d53b6b3",
       "style": "IPY_MODEL_9118e8a66e7f482b84009573f0183b16"
      }
     },
     "2718a577ac92453198d6705621802e09": {
      "model_module": "@jupyter-widgets/controls",
      "model_module_version": "1.2.0",
      "model_name": "ButtonModel",
      "state": {
       "button_style": "warning",
       "description": "3",
       "layout": "IPY_MODEL_a810a994ec8c404f8136c2e39def56aa",
       "style": "IPY_MODEL_066c64ee770e4bff98f5ffe29bf30df6"
      }
     },
     "271b14767dca401c883ea7ad2be15194": {
      "model_module": "@jupyter-widgets/controls",
      "model_module_version": "1.2.0",
      "model_name": "ButtonModel",
      "state": {
       "button_style": "warning",
       "description": "32",
       "layout": "IPY_MODEL_e20ec9c5c01e485bbfa90160b80eb8f4",
       "style": "IPY_MODEL_adff560f090e422092860e0fcdf68bd3"
      }
     },
     "27328e10140545d98fc5b2cae3aa5fc4": {
      "model_module": "@jupyter-widgets/controls",
      "model_module_version": "1.2.0",
      "model_name": "ButtonStyleModel",
      "state": {}
     },
     "2742c173439042a3a7008049078f1596": {
      "model_module": "@jupyter-widgets/controls",
      "model_module_version": "1.2.0",
      "model_name": "ButtonModel",
      "state": {
       "button_style": "warning",
       "description": "13",
       "layout": "IPY_MODEL_16df380d38fb47a2bbb217b953037b65",
       "style": "IPY_MODEL_78d9aeef7c0e42cb968e479178c8cc16"
      }
     },
     "2756b90efa5849268ac39e0568d18be8": {
      "model_module": "@jupyter-widgets/base",
      "model_module_version": "1.0.0",
      "model_name": "LayoutModel",
      "state": {
       "flex": "3 1 0%",
       "width": "auto"
      }
     },
     "277c934b11bc42e19bb9c96f5c27d876": {
      "model_module": "@jupyter-widgets/controls",
      "model_module_version": "1.2.0",
      "model_name": "ButtonStyleModel",
      "state": {}
     },
     "277ead2d41e1436a9574e6d01925f443": {
      "model_module": "@jupyter-widgets/base",
      "model_module_version": "1.0.0",
      "model_name": "LayoutModel",
      "state": {
       "display": "flex",
       "flex_flow": "row",
       "justify_content": "space-between"
      }
     },
     "277fa7a2bff94f928168ac180072d187": {
      "model_module": "@jupyter-widgets/controls",
      "model_module_version": "1.2.0",
      "model_name": "ButtonModel",
      "state": {
       "layout": "IPY_MODEL_9a5bfd31f11548d6af73683d0b8fcf4f",
       "style": "IPY_MODEL_b37f510da8d840ec90f58a35c884dc66"
      }
     },
     "2789d44a75c248f2895f3799384f6ba5": {
      "model_module": "@jupyter-widgets/base",
      "model_module_version": "1.0.0",
      "model_name": "LayoutModel",
      "state": {}
     },
     "279828d62fc442de80669ec8e68903c5": {
      "model_module": "@jupyter-widgets/controls",
      "model_module_version": "1.2.0",
      "model_name": "ButtonStyleModel",
      "state": {}
     },
     "27b7c154ebcc4b0aa7313b7f46b0e0b7": {
      "model_module": "@jupyter-widgets/controls",
      "model_module_version": "1.2.0",
      "model_name": "IntSliderModel",
      "state": {
       "layout": "IPY_MODEL_cda5985ca13746a28477e75f758fbf53",
       "max": 60,
       "min": 40,
       "style": "IPY_MODEL_9b7e36ea183046ca976e370b320e2c83",
       "value": 40
      }
     },
     "27b9a166d3494605a5fb0d8f63f39941": {
      "model_module": "@jupyter-widgets/base",
      "model_module_version": "1.0.0",
      "model_name": "LayoutModel",
      "state": {
       "border": "3px solid black",
       "display": "flex",
       "flex_flow": "row",
       "height": "",
       "overflow_x": "scroll",
       "width": "500px"
      }
     },
     "27c46bcd29e14115b934a43f66853bee": {
      "model_module": "@jupyter-widgets/base",
      "model_module_version": "1.0.0",
      "model_name": "LayoutModel",
      "state": {
       "display": "flex",
       "flex_flow": "row",
       "justify_content": "space-between"
      }
     },
     "27d56a5f957240fb8aef65e856043472": {
      "model_module": "@jupyter-widgets/base",
      "model_module_version": "1.0.0",
      "model_name": "LayoutModel",
      "state": {
       "height": "80px",
       "width": "50%"
      }
     },
     "28060249bc9f41f4baedc749c0333992": {
      "model_module": "@jupyter-widgets/controls",
      "model_module_version": "1.2.0",
      "model_name": "ButtonStyleModel",
      "state": {}
     },
     "280a7b4663164b4f95384c02c9a37854": {
      "model_module": "@jupyter-widgets/controls",
      "model_module_version": "1.2.0",
      "model_name": "ButtonStyleModel",
      "state": {}
     },
     "2839dd39b2114ad9872e6981fffc80f9": {
      "model_module": "@jupyter-widgets/controls",
      "model_module_version": "1.2.0",
      "model_name": "ButtonStyleModel",
      "state": {
       "button_color": "blue"
      }
     },
     "28426028423645a1bc87e42c867f2faf": {
      "model_module": "@jupyter-widgets/controls",
      "model_module_version": "1.2.0",
      "model_name": "ButtonModel",
      "state": {
       "layout": "IPY_MODEL_93cf562e131e4a7eacb682fd13e54be7",
       "style": "IPY_MODEL_16fdd6a6eb7f4109aa5cf327983ea4de"
      }
     },
     "2847cc6e71494c5a86d07475d49deca7": {
      "model_module": "@jupyter-widgets/base",
      "model_module_version": "1.0.0",
      "model_name": "LayoutModel",
      "state": {
       "height": "auto",
       "margin": "0",
       "width": "auto"
      }
     },
     "284cac29f0304e27864d6599006355da": {
      "model_module": "@jupyter-widgets/controls",
      "model_module_version": "1.2.0",
      "model_name": "ButtonModel",
      "state": {
       "layout": "IPY_MODEL_2dbf7836189c43ceacedac172f168e48",
       "style": "IPY_MODEL_1c333f95c2504843b4fa59f702ae7f34"
      }
     },
     "285e589718884943a1e349414e4f7cbd": {
      "model_module": "@jupyter-widgets/base",
      "model_module_version": "1.0.0",
      "model_name": "LayoutModel",
      "state": {
       "grid_area": "footer",
       "width": "auto"
      }
     },
     "285eaa2c2a4c45d687ff3ef195d7be4d": {
      "model_module": "@jupyter-widgets/controls",
      "model_module_version": "1.2.0",
      "model_name": "DescriptionStyleModel",
      "state": {
       "description_width": ""
      }
     },
     "28689da201194f99bddd831d47a39ba2": {
      "model_module": "@jupyter-widgets/controls",
      "model_module_version": "1.2.0",
      "model_name": "ButtonStyleModel",
      "state": {}
     },
     "287a42553cfc45268efc2fd1dda200a6": {
      "model_module": "@jupyter-widgets/controls",
      "model_module_version": "1.2.0",
      "model_name": "ButtonStyleModel",
      "state": {}
     },
     "287dbea412fd4e36be1a0e2c66014721": {
      "model_module": "@jupyter-widgets/controls",
      "model_module_version": "1.2.0",
      "model_name": "ButtonModel",
      "state": {
       "layout": "IPY_MODEL_09bbe1f1fc7b4c5cb813271d906a80af",
       "style": "IPY_MODEL_dc93f4f0d47b415fa525640a64c4bb74"
      }
     },
     "28873bf1c7f94dfeb5aff66ec8ff35ba": {
      "model_module": "@jupyter-widgets/controls",
      "model_module_version": "1.2.0",
      "model_name": "VBoxModel",
      "state": {
       "children": [
        "IPY_MODEL_f290c4b873be49bcaf3392d02b5ad661",
        "IPY_MODEL_0457e5c5d4c941bcb14f21efaaba3e6c"
       ],
       "layout": "IPY_MODEL_a9adac41b9d842dda33be3de65f433a9"
      }
     },
     "28cb50bcb7e5419280c54b75865c9ad8": {
      "model_module": "@jupyter-widgets/controls",
      "model_module_version": "1.2.0",
      "model_name": "ButtonModel",
      "state": {
       "button_style": "warning",
       "description": "12",
       "layout": "IPY_MODEL_d2db15f9d1834946bd4923f3faf2a54f",
       "style": "IPY_MODEL_c754f46cd2c149dfaea01589c3ce0113"
      }
     },
     "28d949c9d5504850b389746b4f56c403": {
      "model_module": "@jupyter-widgets/controls",
      "model_module_version": "1.2.0",
      "model_name": "ButtonStyleModel",
      "state": {}
     },
     "28fc288d51c34da69446425b17a75d13": {
      "model_module": "@jupyter-widgets/controls",
      "model_module_version": "1.2.0",
      "model_name": "ButtonModel",
      "state": {
       "layout": "IPY_MODEL_dddc482ee42c496ab9986f5ee610bb9f",
       "style": "IPY_MODEL_b7fa459955c948709b99acdb2ad6e81b"
      }
     },
     "29101ac49c6f46ea864632ec2c5debfc": {
      "model_module": "@jupyter-widgets/base",
      "model_module_version": "1.0.0",
      "model_name": "LayoutModel",
      "state": {
       "flex": "1 1 auto",
       "width": "auto"
      }
     },
     "29385ef91817431da66be65a0dea0b9d": {
      "model_module": "@jupyter-widgets/controls",
      "model_module_version": "1.2.0",
      "model_name": "ButtonModel",
      "state": {
       "layout": "IPY_MODEL_a0e22ef5a1134a18b8992c7e7045c52c",
       "style": "IPY_MODEL_082fbe2cb8ff4de98b545dd6d9af97a4"
      }
     },
     "2966f39e920840a19c25b856dc173d10": {
      "model_module": "@jupyter-widgets/controls",
      "model_module_version": "1.2.0",
      "model_name": "ButtonStyleModel",
      "state": {}
     },
     "29964ad1297a4bbc92f8495b96abf081": {
      "model_module": "@jupyter-widgets/controls",
      "model_module_version": "1.2.0",
      "model_name": "ButtonModel",
      "state": {
       "layout": "IPY_MODEL_97f59d9afbe840f3a0be0c37d5e84ae8",
       "style": "IPY_MODEL_4bbffed757e34d98b461b8bc0f1d23c4"
      }
     },
     "29973834e9724fa9a1da1b69fc14513e": {
      "model_module": "@jupyter-widgets/controls",
      "model_module_version": "1.2.0",
      "model_name": "ButtonStyleModel",
      "state": {}
     },
     "29ad24b768004faba39c1750a5bf9afb": {
      "model_module": "@jupyter-widgets/controls",
      "model_module_version": "1.2.0",
      "model_name": "ButtonModel",
      "state": {
       "description": "horse",
       "layout": "IPY_MODEL_15fde7489bb941d58586bcbb69ef60b1",
       "style": "IPY_MODEL_434651426186431bb868e5b0f3255e05"
      }
     },
     "29ce1c01ee8f47f281145a8c51d0e414": {
      "model_module": "@jupyter-widgets/controls",
      "model_module_version": "1.2.0",
      "model_name": "ButtonStyleModel",
      "state": {}
     },
     "29e59c379e97452f85f5ee360b14bf5a": {
      "model_module": "@jupyter-widgets/controls",
      "model_module_version": "1.2.0",
      "model_name": "ButtonModel",
      "state": {
       "layout": "IPY_MODEL_9a5bfd31f11548d6af73683d0b8fcf4f",
       "style": "IPY_MODEL_0fcd071b27554a4eb7e12a3cfa99173b"
      }
     },
     "29fc9c9fe90a4d98851d8c84963b729c": {
      "model_module": "@jupyter-widgets/controls",
      "model_module_version": "1.2.0",
      "model_name": "ButtonModel",
      "state": {
       "layout": "IPY_MODEL_3e4e67e55d064e8fa34459e3fd93622d",
       "style": "IPY_MODEL_9d4c8498e0ad4ae5aee853d82b057db5"
      }
     },
     "2a2106f8e8b74c48a631b634dcf15278": {
      "model_module": "@jupyter-widgets/controls",
      "model_module_version": "1.2.0",
      "model_name": "ButtonModel",
      "state": {
       "button_style": "warning",
       "description": "21",
       "layout": "IPY_MODEL_16df380d38fb47a2bbb217b953037b65",
       "style": "IPY_MODEL_df1d18b61f8a434d916ab0936bf51cbf"
      }
     },
     "2a2828057241432b8be083402f550674": {
      "model_module": "@jupyter-widgets/controls",
      "model_module_version": "1.2.0",
      "model_name": "ButtonStyleModel",
      "state": {}
     },
     "2a299d2f0f754bd5afba52f0b9e020c3": {
      "model_module": "@jupyter-widgets/controls",
      "model_module_version": "1.2.0",
      "model_name": "ButtonStyleModel",
      "state": {}
     },
     "2a3eec2d7a4d4bd58273950ec4e1e46a": {
      "model_module": "@jupyter-widgets/controls",
      "model_module_version": "1.2.0",
      "model_name": "ButtonModel",
      "state": {
       "button_style": "warning",
       "description": "35",
       "layout": "IPY_MODEL_d2db15f9d1834946bd4923f3faf2a54f",
       "style": "IPY_MODEL_1bc70007be67489c8d23c011227b4865"
      }
     },
     "2ab10410d31e4eed863b1fac165a9c6c": {
      "model_module": "@jupyter-widgets/controls",
      "model_module_version": "1.2.0",
      "model_name": "ButtonModel",
      "state": {
       "layout": "IPY_MODEL_90e6ed8c30a54cab8cdc8ca7fb4a9974",
       "style": "IPY_MODEL_ccbfe2e288b3467ab844560b05e1f691"
      }
     },
     "2abec4c3a59c47ecae9a93ab1ad5a595": {
      "model_module": "@jupyter-widgets/base",
      "model_module_version": "1.0.0",
      "model_name": "LayoutModel",
      "state": {
       "flex": "1 1 auto",
       "width": "auto"
      }
     },
     "2ac31349c293482ea4bcc22021d897ad": {
      "model_module": "@jupyter-widgets/base",
      "model_module_version": "1.0.0",
      "model_name": "LayoutModel",
      "state": {}
     },
     "2ac497962db4477baaf06a11be6d504b": {
      "model_module": "@jupyter-widgets/controls",
      "model_module_version": "1.2.0",
      "model_name": "ButtonModel",
      "state": {
       "layout": "IPY_MODEL_7c7b340435c14d7bb4cb14922c892338",
       "style": "IPY_MODEL_81b2a08d47e74ad3a2ffac78638c1741"
      }
     },
     "2ae58c4de006474b82ddc358fd8f1418": {
      "model_module": "@jupyter-widgets/controls",
      "model_module_version": "1.2.0",
      "model_name": "ButtonModel",
      "state": {
       "layout": "IPY_MODEL_6f78c389a2aa442f9564842959c99ad1",
       "style": "IPY_MODEL_c8a900dda78444929e3e3cbf5ea12ca1"
      }
     },
     "2af0478414984409850c07e18b6cb56f": {
      "model_module": "@jupyter-widgets/base",
      "model_module_version": "1.0.0",
      "model_name": "LayoutModel",
      "state": {
       "height": "auto",
       "width": "auto"
      }
     },
     "2af3bd08b4b34ae2942d454f4f83ad4f": {
      "model_module": "@jupyter-widgets/controls",
      "model_module_version": "1.2.0",
      "model_name": "GridBoxModel",
      "state": {
       "children": [
        "IPY_MODEL_ed8119f5c4b246238d87eece2fd1f682",
        "IPY_MODEL_23ed97b903d1414abbb17ae2609070bb",
        "IPY_MODEL_f2dec8f8f7394d7e85855f179a8914b4",
        "IPY_MODEL_9027d6b32e2c425d84e7042ac34826fd",
        "IPY_MODEL_77d0af1406cc40338c0dd8546723f297",
        "IPY_MODEL_24a6caf557ed484a8e40f8f4de098dd8",
        "IPY_MODEL_b884e484a4a74e8e9690804b69625a0e",
        "IPY_MODEL_c5d34f0378d943d9ba3a63fe0fe2f405",
        "IPY_MODEL_8f9855947b5b4c73a1d179361ef7c032",
        "IPY_MODEL_82feac817b294955a2e39c2c4ed1db46"
       ],
       "layout": "IPY_MODEL_313a90e4b8c2495cacef937414eba12e"
      }
     },
     "2b152b3e04ef4cee9dff0930e1002869": {
      "model_module": "@jupyter-widgets/controls",
      "model_module_version": "1.2.0",
      "model_name": "ButtonModel",
      "state": {
       "button_style": "warning",
       "description": "13",
       "layout": "IPY_MODEL_79e6f20409fa4963aff904a921b6d604",
       "style": "IPY_MODEL_de85d792ca1b457683d5ff924ac01ce1"
      }
     },
     "2b19e7e924e1420f9f7b66978cacb439": {
      "model_module": "@jupyter-widgets/base",
      "model_module_version": "1.0.0",
      "model_name": "LayoutModel",
      "state": {
       "flex": "1 1 0%",
       "width": "auto"
      }
     },
     "2b373e69ecde4579ad1b87dab02b6c46": {
      "model_module": "@jupyter-widgets/controls",
      "model_module_version": "1.2.0",
      "model_name": "ButtonStyleModel",
      "state": {}
     },
     "2b3aed36a68f4f6296dbde14945d3d73": {
      "model_module": "@jupyter-widgets/controls",
      "model_module_version": "1.2.0",
      "model_name": "ButtonModel",
      "state": {
       "layout": "IPY_MODEL_3d81651a297740e381ac147d7c10fcbe",
       "style": "IPY_MODEL_7e90b6b709f54a5e85fd546a0f11b7d8"
      }
     },
     "2b4567f850a545d9b64fd4ec7e469295": {
      "model_module": "@jupyter-widgets/base",
      "model_module_version": "1.0.0",
      "model_name": "LayoutModel",
      "state": {
       "grid_area": "header",
       "width": "auto"
      }
     },
     "2b5df5ad8b4f4289ad2d3ef6992f6073": {
      "model_module": "@jupyter-widgets/base",
      "model_module_version": "1.0.0",
      "model_name": "LayoutModel",
      "state": {
       "grid_template": "auto / auto auto auto auto auto"
      }
     },
     "2b700f2071f847d28eef645898d7bb5a": {
      "model_module": "@jupyter-widgets/controls",
      "model_module_version": "1.2.0",
      "model_name": "ButtonStyleModel",
      "state": {}
     },
     "2b9b603076064f4eadc47dccf2d055bf": {
      "model_module": "@jupyter-widgets/base",
      "model_module_version": "1.0.0",
      "model_name": "LayoutModel",
      "state": {
       "grid_template": "auto / auto auto auto auto auto"
      }
     },
     "2bdfdf76c0e14eebaddf584bf14e9325": {
      "model_module": "@jupyter-widgets/base",
      "model_module_version": "1.0.0",
      "model_name": "LayoutModel",
      "state": {}
     },
     "2be73471f3a445eab6ba99b9e6240fda": {
      "model_module": "@jupyter-widgets/controls",
      "model_module_version": "1.2.0",
      "model_name": "ButtonModel",
      "state": {
       "button_style": "warning",
       "description": "33",
       "layout": "IPY_MODEL_79e6f20409fa4963aff904a921b6d604",
       "style": "IPY_MODEL_8cd59527d9914077a5fb2c77e18dbbb9"
      }
     },
     "2c012ea993e846198794e72a46a9b397": {
      "model_module": "@jupyter-widgets/base",
      "model_module_version": "1.0.0",
      "model_name": "LayoutModel",
      "state": {}
     },
     "2c102b1458ae4459b92b830fd498223b": {
      "model_module": "@jupyter-widgets/controls",
      "model_module_version": "1.2.0",
      "model_name": "ButtonStyleModel",
      "state": {}
     },
     "2c20f7907d4a4a0dbafa8e0815565609": {
      "model_module": "@jupyter-widgets/controls",
      "model_module_version": "1.2.0",
      "model_name": "ButtonStyleModel",
      "state": {
       "button_color": "blue"
      }
     },
     "2c52277e6bfb4732b97c34ea2e4b93da": {
      "model_module": "@jupyter-widgets/controls",
      "model_module_version": "1.2.0",
      "model_name": "ButtonModel",
      "state": {
       "layout": "IPY_MODEL_4d53052a4a3c4ea08b4ae8a0f20ff0ac",
       "style": "IPY_MODEL_a4b3265e5db04824b898d6621d73f5ec"
      }
     },
     "2c56959864584dbc8b2a0f9a4816e48f": {
      "model_module": "@jupyter-widgets/controls",
      "model_module_version": "1.2.0",
      "model_name": "ButtonModel",
      "state": {
       "button_style": "warning",
       "description": "6",
       "layout": "IPY_MODEL_a810a994ec8c404f8136c2e39def56aa",
       "style": "IPY_MODEL_f48bd545e76944d8be2e9f082a22c04e"
      }
     },
     "2c5e3bfd5b3e41d293f992feb8bcd4e7": {
      "model_module": "@jupyter-widgets/controls",
      "model_module_version": "1.2.0",
      "model_name": "ButtonStyleModel",
      "state": {}
     },
     "2c6515a272ec46009e1536b86cbc6e24": {
      "model_module": "@jupyter-widgets/controls",
      "model_module_version": "1.2.0",
      "model_name": "ButtonModel",
      "state": {
       "layout": "IPY_MODEL_09bbe1f1fc7b4c5cb813271d906a80af",
       "style": "IPY_MODEL_b7a6c0c1468f4f96950c8bddde9875ba"
      }
     },
     "2c7315777cd34b58b2d44095650c56db": {
      "model_module": "@jupyter-widgets/controls",
      "model_module_version": "1.2.0",
      "model_name": "ButtonModel",
      "state": {
       "button_style": "danger",
       "description": "horse",
       "layout": "IPY_MODEL_8a7e4bc6abe848128c923435e7f6d56f",
       "style": "IPY_MODEL_f0c0b8146a7b4c939bde4fd580ef7b94"
      }
     },
     "2c7dbb9891654a2db85f115e8ad55a0b": {
      "model_module": "@jupyter-widgets/base",
      "model_module_version": "1.0.0",
      "model_name": "LayoutModel",
      "state": {
       "grid_gap": "5%px 4px",
       "grid_template": "50px 100px / 25% 10% auto 200px"
      }
     },
     "2caba17b94974a7597d5bbc3eba844be": {
      "model_module": "@jupyter-widgets/controls",
      "model_module_version": "1.2.0",
      "model_name": "GridBoxModel",
      "state": {
       "children": [
        "IPY_MODEL_93c3b28f114345b0bd3faf7b605bbce3",
        "IPY_MODEL_9cf521b4896847dd947a4fde830ce75e",
        "IPY_MODEL_f7d91e5447524d9895f1f80149887ad3",
        "IPY_MODEL_ce5aee057f6145c69c3961f2f5b0fd2d",
        "IPY_MODEL_a198195f3a4a49598a014d29a987f706",
        "IPY_MODEL_f45f8020ee07478f9e24669e7ef24ff4",
        "IPY_MODEL_cfed5a2c99434030be82cbfe8e9af157",
        "IPY_MODEL_dd55631ac61341749df242f2fe90915a"
       ],
       "layout": "IPY_MODEL_0c189b90055d439599dff87198e75ca5"
      }
     },
     "2cd4a3ab05c84a72aa4abd3801293341": {
      "model_module": "@jupyter-widgets/controls",
      "model_module_version": "1.2.0",
      "model_name": "ButtonStyleModel",
      "state": {}
     },
     "2ce2841df4604adf93674f8768111059": {
      "model_module": "@jupyter-widgets/controls",
      "model_module_version": "1.2.0",
      "model_name": "ButtonStyleModel",
      "state": {}
     },
     "2d7596549abe4999a3f20cb57d1737b9": {
      "model_module": "@jupyter-widgets/controls",
      "model_module_version": "1.2.0",
      "model_name": "ButtonModel",
      "state": {
       "description": "Header",
       "layout": "IPY_MODEL_f6d3c5b9bedd4ac187d41a1795fbb39f",
       "style": "IPY_MODEL_d28f3cda2a374f06b5946f92fb9b32be"
      }
     },
     "2d7fb643f15540e2a2e4d8112cbaada1": {
      "model_module": "@jupyter-widgets/controls",
      "model_module_version": "1.2.0",
      "model_name": "LabelModel",
      "state": {
       "layout": "IPY_MODEL_bccf8a4a12614c9b98a26fdccac2f9b5",
       "style": "IPY_MODEL_c310ade0009f4a1b8455cb78ef29f19d",
       "value": "Egg style"
      }
     },
     "2d81be821dd44dbbb79fa25c6eadb917": {
      "model_module": "@jupyter-widgets/controls",
      "model_module_version": "1.2.0",
      "model_name": "ButtonStyleModel",
      "state": {}
     },
     "2d94e718ac32407285165fab55ad0d2a": {
      "model_module": "@jupyter-widgets/controls",
      "model_module_version": "1.2.0",
      "model_name": "DescriptionStyleModel",
      "state": {
       "description_width": ""
      }
     },
     "2da5b9a3959d48c2b38621971999d651": {
      "model_module": "@jupyter-widgets/controls",
      "model_module_version": "1.2.0",
      "model_name": "ButtonStyleModel",
      "state": {}
     },
     "2daf48b082724e9c9be57ad78a572a47": {
      "model_module": "@jupyter-widgets/controls",
      "model_module_version": "1.2.0",
      "model_name": "ButtonStyleModel",
      "state": {}
     },
     "2dbf7836189c43ceacedac172f168e48": {
      "model_module": "@jupyter-widgets/base",
      "model_module_version": "1.0.0",
      "model_name": "LayoutModel",
      "state": {
       "height": "auto",
       "margin": "0",
       "width": "auto"
      }
     },
     "2dc15f8b8b3249f195b1c596d0c22b1c": {
      "model_module": "@jupyter-widgets/controls",
      "model_module_version": "1.2.0",
      "model_name": "ButtonModel",
      "state": {
       "layout": "IPY_MODEL_706d95b63d0144b6a672412f3a219036",
       "style": "IPY_MODEL_c61e229ad9314789a624056b0c44d660"
      }
     },
     "2deec5acc56740cd8b87f6a89f64668a": {
      "model_module": "@jupyter-widgets/controls",
      "model_module_version": "1.2.0",
      "model_name": "ButtonModel",
      "state": {
       "layout": "IPY_MODEL_49f81b3585ff412698273f2404121602",
       "style": "IPY_MODEL_171b09fa00144a7fa804491b7d2e1c73"
      }
     },
     "2e3083dac09e4b4e92149d7b86ef76f2": {
      "model_module": "@jupyter-widgets/base",
      "model_module_version": "1.0.0",
      "model_name": "LayoutModel",
      "state": {}
     },
     "2e36bf4b00d3426884f2e2da7b6bfe60": {
      "model_module": "@jupyter-widgets/base",
      "model_module_version": "1.0.0",
      "model_name": "LayoutModel",
      "state": {}
     },
     "2e4cca560d1e46568ddc597724544c52": {
      "model_module": "@jupyter-widgets/base",
      "model_module_version": "1.0.0",
      "model_name": "LayoutModel",
      "state": {
       "height": "auto",
       "width": "auto"
      }
     },
     "2e502d5a102f4844971576e7c918f23b": {
      "model_module": "@jupyter-widgets/base",
      "model_module_version": "1.0.0",
      "model_name": "LayoutModel",
      "state": {
       "height": "auto",
       "margin": "0",
       "width": "auto"
      }
     },
     "2e587ca0bf9e454eb2e40fa0e70607ca": {
      "model_module": "@jupyter-widgets/controls",
      "model_module_version": "1.2.0",
      "model_name": "GridBoxModel",
      "state": {
       "children": [
        "IPY_MODEL_e4621d95cdb942f8a1bf04de93c705f9",
        "IPY_MODEL_584b9b0636774c2883d05998dbc98701",
        "IPY_MODEL_60dc8c07d8ef41c6bca7255361487800",
        "IPY_MODEL_ec705ed1e8e74e72a2bd592a423b5bd1",
        "IPY_MODEL_5e8594293bae48ba8c51b69f657a8d6a",
        "IPY_MODEL_c40adfe1bc34469589d80c7319ef6a31",
        "IPY_MODEL_97b7a4389a414ee2811f68ded34e8a58",
        "IPY_MODEL_490971e9f3ae4259a0a2fe96d7a0feb1"
       ],
       "layout": "IPY_MODEL_b04e41167a0b4ad7b252f307e5720824"
      }
     },
     "2e7842be666340cfb723b63a2279bed6": {
      "model_module": "@jupyter-widgets/controls",
      "model_module_version": "1.2.0",
      "model_name": "ButtonStyleModel",
      "state": {}
     },
     "2eb8a0c3571b4efbb891840936cc7dc3": {
      "model_module": "@jupyter-widgets/controls",
      "model_module_version": "1.2.0",
      "model_name": "ButtonModel",
      "state": {
       "button_style": "warning",
       "description": "23",
       "layout": "IPY_MODEL_963f958a6a3049a3b012ec8484fb898f",
       "style": "IPY_MODEL_5dc1e10836fa4b8083438c937e200384"
      }
     },
     "2eba4bcfbb6b4003944ac340af1c0b49": {
      "model_module": "@jupyter-widgets/controls",
      "model_module_version": "1.2.0",
      "model_name": "ButtonModel",
      "state": {
       "button_style": "warning",
       "description": "5",
       "layout": "IPY_MODEL_16df380d38fb47a2bbb217b953037b65",
       "style": "IPY_MODEL_b56c958adb8346f3a9865a0c014e7b1a"
      }
     },
     "2ec3799c40564d5c8dd8780fc5c7661f": {
      "model_module": "@jupyter-widgets/controls",
      "model_module_version": "1.2.0",
      "model_name": "ButtonModel",
      "state": {
       "layout": "IPY_MODEL_35e07d15f5c14904936c5a43ba07b967",
       "style": "IPY_MODEL_1673d8f531cc4de896081401b82004e9"
      }
     },
     "2ec82a1fef7a4e32aa4364a7fa79a3da": {
      "model_module": "@jupyter-widgets/controls",
      "model_module_version": "1.2.0",
      "model_name": "ButtonStyleModel",
      "state": {}
     },
     "2f1047bd7a504b4fa0e6c31f57db9641": {
      "model_module": "@jupyter-widgets/controls",
      "model_module_version": "1.2.0",
      "model_name": "ButtonModel",
      "state": {
       "layout": "IPY_MODEL_c9ea692baeb946de96bd3ed36e154abc",
       "style": "IPY_MODEL_b3edc635b2c84d788caf728edd9f1bbf"
      }
     },
     "2f18d7602c3f4540ba202e1f741f5b7b": {
      "model_module": "@jupyter-widgets/controls",
      "model_module_version": "1.2.0",
      "model_name": "ButtonStyleModel",
      "state": {}
     },
     "2f23fc994d684c519e32ce0f6b58d6fd": {
      "model_module": "@jupyter-widgets/base",
      "model_module_version": "1.0.0",
      "model_name": "LayoutModel",
      "state": {
       "grid_area": "main",
       "width": "auto"
      }
     },
     "2f79f1f84c6b4099986307753c523a6e": {
      "model_module": "@jupyter-widgets/base",
      "model_module_version": "1.0.0",
      "model_name": "LayoutModel",
      "state": {}
     },
     "2f9120eeed0b40059c5b81319f3d1239": {
      "model_module": "@jupyter-widgets/controls",
      "model_module_version": "1.2.0",
      "model_name": "ButtonModel",
      "state": {
       "layout": "IPY_MODEL_216e771000e440fea088424dae98bc76",
       "style": "IPY_MODEL_641b7e8788ad4bfe867408bf549fabf9"
      }
     },
     "2f96eceb67ea4655bcd0987cc1c3d0ee": {
      "model_module": "@jupyter-widgets/base",
      "model_module_version": "1.0.0",
      "model_name": "LayoutModel",
      "state": {}
     },
     "2fafefedf0da4dc0a140e7b3403eb305": {
      "model_module": "@jupyter-widgets/base",
      "model_module_version": "1.0.0",
      "model_name": "LayoutModel",
      "state": {
       "grid_gap": "3px 4px",
       "grid_template": "50px 100px / 25% 10% auto 200px"
      }
     },
     "2feaf7f574d848589ab4d36e9762e0e4": {
      "model_module": "@jupyter-widgets/controls",
      "model_module_version": "1.2.0",
      "model_name": "ButtonStyleModel",
      "state": {}
     },
     "30020fb4cd594441a972e87150923732": {
      "model_module": "@jupyter-widgets/controls",
      "model_module_version": "1.2.0",
      "model_name": "ButtonModel",
      "state": {
       "button_style": "danger",
       "description": "weight=1; auto",
       "layout": "IPY_MODEL_3c30aa8850084fe485e7d3752d43c68a",
       "style": "IPY_MODEL_5aa4eccf476e4b8ebef1e9e05b253a26"
      }
     },
     "301daa6de09c427fbeac185d161ddafc": {
      "model_module": "@jupyter-widgets/controls",
      "model_module_version": "1.2.0",
      "model_name": "ButtonModel",
      "state": {
       "layout": "IPY_MODEL_7b1a8b8157674b6bb054cc6c62227c65",
       "style": "IPY_MODEL_7a4b0b23817b4a94bc467a67e82faecb"
      }
     },
     "303cacb9de47429898d825f2a5f8bb69": {
      "model_module": "@jupyter-widgets/controls",
      "model_module_version": "1.2.0",
      "model_name": "ButtonStyleModel",
      "state": {
       "button_color": "blue"
      }
     },
     "3058673c57434c1ca945582b909cea1a": {
      "model_module": "@jupyter-widgets/controls",
      "model_module_version": "1.2.0",
      "model_name": "ButtonModel",
      "state": {
       "layout": "IPY_MODEL_2847cc6e71494c5a86d07475d49deca7",
       "style": "IPY_MODEL_4166913d892742ab964adc58623c75e4"
      }
     },
     "305d828b4cee433c9d0623462f0efc53": {
      "model_module": "@jupyter-widgets/controls",
      "model_module_version": "1.2.0",
      "model_name": "ButtonModel",
      "state": {
       "layout": "IPY_MODEL_a8a4a992eee54af0b1fe3c12946711d2",
       "style": "IPY_MODEL_241d4d6b26484ab2ba9c0662edd70841"
      }
     },
     "3069b50d5f50471d996f3af93cdd764d": {
      "model_module": "@jupyter-widgets/controls",
      "model_module_version": "1.2.0",
      "model_name": "ButtonStyleModel",
      "state": {}
     },
     "309ea1167d544d11b72631b2898ba3b3": {
      "model_module": "@jupyter-widgets/controls",
      "model_module_version": "1.2.0",
      "model_name": "HBoxModel",
      "state": {
       "children": [
        "IPY_MODEL_a0e4e7520c1849108b4f6c8e730e7ca3",
        "IPY_MODEL_fac5431f1e5743f3b8bd1f8d5fbba8cb"
       ],
       "layout": "IPY_MODEL_c14b0f3235ae482cb8e326d7043cf4e8"
      }
     },
     "30a56d635e9247de96d441fc7b516927": {
      "model_module": "@jupyter-widgets/controls",
      "model_module_version": "1.2.0",
      "model_name": "ButtonModel",
      "state": {
       "button_style": "warning",
       "description": "14",
       "layout": "IPY_MODEL_79e6f20409fa4963aff904a921b6d604",
       "style": "IPY_MODEL_34b7ecb677004695894803adf0d0965a"
      }
     },
     "30a706dec3f64d89816d4106ce6cce65": {
      "model_module": "@jupyter-widgets/controls",
      "model_module_version": "1.2.0",
      "model_name": "ButtonStyleModel",
      "state": {}
     },
     "30bc507cbc7842ac8f74286412690c15": {
      "model_module": "@jupyter-widgets/controls",
      "model_module_version": "1.2.0",
      "model_name": "ButtonStyleModel",
      "state": {}
     },
     "30c1db351da54e979afc1876c6e97e27": {
      "model_module": "@jupyter-widgets/controls",
      "model_module_version": "1.2.0",
      "model_name": "ButtonStyleModel",
      "state": {
       "button_color": "blue"
      }
     },
     "30cc319162154c4fae1a354bd2e566fa": {
      "model_module": "@jupyter-widgets/controls",
      "model_module_version": "1.2.0",
      "model_name": "ButtonStyleModel",
      "state": {}
     },
     "30cc6a2775fb4f31a338de3067857f03": {
      "model_module": "@jupyter-widgets/controls",
      "model_module_version": "1.2.0",
      "model_name": "ButtonStyleModel",
      "state": {}
     },
     "30da614d725647fb98b8f9a157eaaa96": {
      "model_module": "@jupyter-widgets/base",
      "model_module_version": "1.0.0",
      "model_name": "LayoutModel",
      "state": {}
     },
     "30dc5f7eacde4d51b1d41ba42c7f1772": {
      "model_module": "@jupyter-widgets/base",
      "model_module_version": "1.0.0",
      "model_name": "LayoutModel",
      "state": {
       "grid_area": "footer",
       "width": "auto"
      }
     },
     "30eabe248c9a45da9534eef175794f5b": {
      "model_module": "@jupyter-widgets/controls",
      "model_module_version": "1.2.0",
      "model_name": "ButtonStyleModel",
      "state": {}
     },
     "30f6adef42be4791aac717c640ba3ee8": {
      "model_module": "@jupyter-widgets/base",
      "model_module_version": "1.0.0",
      "model_name": "LayoutModel",
      "state": {
       "grid_area": "header",
       "width": "auto"
      }
     },
     "3105871eac5e4109a78fbb2b5dbeadd5": {
      "model_module": "@jupyter-widgets/controls",
      "model_module_version": "1.2.0",
      "model_name": "IntSliderModel",
      "state": {
       "layout": "IPY_MODEL_49a688235015477ba593ee7869599c1b",
       "style": "IPY_MODEL_1eb96a42d5964d4ea036dc953ae6e928"
      }
     },
     "310c3e0e543345c787f35c1dd88dd3dc": {
      "model_module": "@jupyter-widgets/controls",
      "model_module_version": "1.2.0",
      "model_name": "ButtonStyleModel",
      "state": {}
     },
     "311e01c92d294a1dacd82072813f0233": {
      "model_module": "@jupyter-widgets/controls",
      "model_module_version": "1.2.0",
      "model_name": "ButtonModel",
      "state": {
       "button_style": "warning",
       "description": "16",
       "layout": "IPY_MODEL_d2db15f9d1834946bd4923f3faf2a54f",
       "style": "IPY_MODEL_8d94dfc15d22480bac7e2456084fc99e"
      }
     },
     "3126ce13a5054dc6a1dde290d9a04aab": {
      "model_module": "@jupyter-widgets/controls",
      "model_module_version": "1.2.0",
      "model_name": "LabelModel",
      "state": {
       "layout": "IPY_MODEL_8fd144b023b54c92ad81da275a6bb0f1",
       "style": "IPY_MODEL_a5ba3d53d2ed421ab333983a8ae99517",
       "value": "Egg style"
      }
     },
     "313a90e4b8c2495cacef937414eba12e": {
      "model_module": "@jupyter-widgets/base",
      "model_module_version": "1.0.0",
      "model_name": "LayoutModel",
      "state": {
       "grid_template": "auto / auto auto auto auto auto"
      }
     },
     "315541df87cc46d399fc97a9c359de9c": {
      "model_module": "@jupyter-widgets/controls",
      "model_module_version": "1.2.0",
      "model_name": "ButtonStyleModel",
      "state": {
       "button_color": "blue"
      }
     },
     "316f74e173c348888bed12363aa18af2": {
      "model_module": "@jupyter-widgets/controls",
      "model_module_version": "1.2.0",
      "model_name": "ButtonModel",
      "state": {
       "button_style": "warning",
       "description": "1",
       "layout": "IPY_MODEL_a810a994ec8c404f8136c2e39def56aa",
       "style": "IPY_MODEL_579bbf4511aa44299f2206264c17cf5a"
      }
     },
     "317563768be84f52b2c5155e37aa3b2c": {
      "model_module": "@jupyter-widgets/base",
      "model_module_version": "1.0.0",
      "model_name": "LayoutModel",
      "state": {
       "grid_area": "header",
       "width": "auto"
      }
     },
     "3175ddd07df54d288afed8369205bb77": {
      "model_module": "@jupyter-widgets/controls",
      "model_module_version": "1.2.0",
      "model_name": "ButtonModel",
      "state": {
       "description": "battery",
       "layout": "IPY_MODEL_f615c27e9a304cd3909259465fb8721c",
       "style": "IPY_MODEL_bbd3ab09d02b472691a3530b20b9ca3d"
      }
     },
     "31954405368e4632ad181254f1261dfd": {
      "model_module": "@jupyter-widgets/controls",
      "model_module_version": "1.2.0",
      "model_name": "ButtonModel",
      "state": {
       "layout": "IPY_MODEL_7b1a8b8157674b6bb054cc6c62227c65",
       "style": "IPY_MODEL_7a4b0b23817b4a94bc467a67e82faecb"
      }
     },
     "31a99d8956a94d5fb7c556586653cc3d": {
      "model_module": "@jupyter-widgets/controls",
      "model_module_version": "1.2.0",
      "model_name": "ButtonStyleModel",
      "state": {}
     },
     "31c9864a5f044a6dbabd52279aaa6904": {
      "model_module": "@jupyter-widgets/controls",
      "model_module_version": "1.2.0",
      "model_name": "TextareaModel",
      "state": {
       "layout": "IPY_MODEL_ffc6250c4ee94107b07efde55b0c602d",
       "style": "IPY_MODEL_5b6f9b02b03a426cbac0ed2f69585ae4"
      }
     },
     "31dcaf75b0d34d14a98a9a7fa6472876": {
      "model_module": "@jupyter-widgets/controls",
      "model_module_version": "1.2.0",
      "model_name": "ButtonModel",
      "state": {
       "button_style": "danger",
       "description": "staple",
       "layout": "IPY_MODEL_8a7e4bc6abe848128c923435e7f6d56f",
       "style": "IPY_MODEL_cda5eefe77db4929aa450d1fa0a142c8"
      }
     },
     "31e01176e583476eb7fac0ff43878a0b": {
      "model_module": "@jupyter-widgets/controls",
      "model_module_version": "1.2.0",
      "model_name": "ButtonModel",
      "state": {
       "layout": "IPY_MODEL_a5aafc5fec484d77a39f715c3d1a1587",
       "style": "IPY_MODEL_b31e4831c9dd468bb100cee2b6ec9225"
      }
     },
     "31efcbd8615e4604892ce566df82581a": {
      "model_module": "@jupyter-widgets/controls",
      "model_module_version": "1.2.0",
      "model_name": "ButtonStyleModel",
      "state": {}
     },
     "32120bb2e7294f7ca606c0b27785079d": {
      "model_module": "@jupyter-widgets/controls",
      "model_module_version": "1.2.0",
      "model_name": "ButtonStyleModel",
      "state": {}
     },
     "3256c2a01c244a49817abbb7254e7e4b": {
      "model_module": "@jupyter-widgets/controls",
      "model_module_version": "1.2.0",
      "model_name": "ButtonModel",
      "state": {
       "layout": "IPY_MODEL_33821dd28f834ae0b483c1651213364a",
       "style": "IPY_MODEL_098ec8210636463eac4a46477bd90fa9"
      }
     },
     "32740091352b47dbabd3cd1b411d3fc1": {
      "model_module": "@jupyter-widgets/controls",
      "model_module_version": "1.2.0",
      "model_name": "ButtonStyleModel",
      "state": {}
     },
     "3283f7e6ef594197ab9b4a98ec1788ef": {
      "model_module": "@jupyter-widgets/controls",
      "model_module_version": "1.2.0",
      "model_name": "ButtonStyleModel",
      "state": {}
     },
     "329272f43e0f4c388a07997989034b82": {
      "model_module": "@jupyter-widgets/controls",
      "model_module_version": "1.2.0",
      "model_name": "ButtonStyleModel",
      "state": {
       "button_color": "#77A"
      }
     },
     "32969de0eafc45a5abc57dc093877c1f": {
      "model_module": "@jupyter-widgets/controls",
      "model_module_version": "1.2.0",
      "model_name": "ButtonStyleModel",
      "state": {}
     },
     "32ae633cb24f4592a59c8378b0f03864": {
      "model_module": "@jupyter-widgets/controls",
      "model_module_version": "1.2.0",
      "model_name": "IntSliderModel",
      "state": {
       "description": "\\(\\int_0^t f\\)",
       "layout": "IPY_MODEL_fc82aa321d764c84aab293acb0158be5",
       "style": "IPY_MODEL_b376653cd3344b24a923eaf84674ba62"
      }
     },
     "3304f9ad2ee048a7ad9632bbb70a8938": {
      "model_module": "@jupyter-widgets/base",
      "model_module_version": "1.0.0",
      "model_name": "LayoutModel",
      "state": {
       "grid_area": "sidebar",
       "width": "auto"
      }
     },
     "331073c0c225485ea82a75b32c596074": {
      "model_module": "@jupyter-widgets/controls",
      "model_module_version": "1.2.0",
      "model_name": "ButtonModel",
      "state": {
       "layout": "IPY_MODEL_dddc482ee42c496ab9986f5ee610bb9f",
       "style": "IPY_MODEL_b7fa459955c948709b99acdb2ad6e81b"
      }
     },
     "33303fadade040ba8abaed2e3317e90d": {
      "model_module": "@jupyter-widgets/controls",
      "model_module_version": "1.2.0",
      "model_name": "ButtonModel",
      "state": {
       "layout": "IPY_MODEL_a8a4a992eee54af0b1fe3c12946711d2",
       "style": "IPY_MODEL_241d4d6b26484ab2ba9c0662edd70841"
      }
     },
     "334743edb733421d95919537097595dc": {
      "model_module": "@jupyter-widgets/controls",
      "model_module_version": "1.2.0",
      "model_name": "ButtonModel",
      "state": {
       "layout": "IPY_MODEL_fab719789b8e45a592a40bdcb0d6d5da",
       "style": "IPY_MODEL_dd6b2034672941fb8a0dd298ececee4e"
      }
     },
     "337c79b3b91640e9a59e45ec5e6552a6": {
      "model_module": "@jupyter-widgets/base",
      "model_module_version": "1.0.0",
      "model_name": "LayoutModel",
      "state": {
       "grid_template": "auto / auto auto auto auto auto"
      }
     },
     "33821dd28f834ae0b483c1651213364a": {
      "model_module": "@jupyter-widgets/base",
      "model_module_version": "1.0.0",
      "model_name": "LayoutModel",
      "state": {
       "height": "auto",
       "width": "auto"
      }
     },
     "33874db07b2042dab1777197fdf6f6b5": {
      "model_module": "@jupyter-widgets/controls",
      "model_module_version": "1.2.0",
      "model_name": "ButtonModel",
      "state": {
       "button_style": "warning",
       "description": "0",
       "layout": "IPY_MODEL_16df380d38fb47a2bbb217b953037b65",
       "style": "IPY_MODEL_218901bc856c4f87951c5e3d428f4938"
      }
     },
     "33cc83ef255f4b0e9897e3de117dd2c4": {
      "model_module": "@jupyter-widgets/controls",
      "model_module_version": "1.2.0",
      "model_name": "ButtonModel",
      "state": {
       "layout": "IPY_MODEL_43b1236c8b99417b8c6cb59402b42e1d",
       "style": "IPY_MODEL_c361f2ef6007404a8e51b3b083a5bed5"
      }
     },
     "33f9d21bea31463a8118f640a908cc0d": {
      "model_module": "@jupyter-widgets/controls",
      "model_module_version": "1.2.0",
      "model_name": "ButtonModel",
      "state": {
       "layout": "IPY_MODEL_c719766508db4a15a939cc4cfee2a6c1",
       "style": "IPY_MODEL_eeccf557adb843f3af513f845f8f2844"
      }
     },
     "33fbea7b681742238100a813caaccab0": {
      "model_module": "@jupyter-widgets/controls",
      "model_module_version": "1.2.0",
      "model_name": "DropdownModel",
      "state": {
       "_options_labels": [
        "Scrambled",
        "Sunny side up",
        "Over easy"
       ],
       "index": 0,
       "layout": "IPY_MODEL_a960c5b3af4343ada6f887dcc3d48e9b",
       "style": "IPY_MODEL_a41f74adfe1d4ed09e6f637aef612a9e"
      }
     },
     "34062868f84d4fe583951261fd6fffa4": {
      "model_module": "@jupyter-widgets/base",
      "model_module_version": "1.0.0",
      "model_name": "LayoutModel",
      "state": {
       "align_items": "stretch",
       "border": "solid",
       "display": "flex",
       "flex_flow": "column",
       "width": "50%"
      }
     },
     "340db2d0ac0f45dc8e76d06aeca83a6d": {
      "model_module": "@jupyter-widgets/controls",
      "model_module_version": "1.2.0",
      "model_name": "ButtonModel",
      "state": {
       "button_style": "warning",
       "description": "9",
       "layout": "IPY_MODEL_963f958a6a3049a3b012ec8484fb898f",
       "style": "IPY_MODEL_6fe1f14add6e4f9bbb83f330dc26c1eb"
      }
     },
     "342373b2a26d4299981f1e6b8be28ad0": {
      "model_module": "@jupyter-widgets/controls",
      "model_module_version": "1.2.0",
      "model_name": "LabelModel",
      "state": {
       "layout": "IPY_MODEL_2e36bf4b00d3426884f2e2da7b6bfe60",
       "style": "IPY_MODEL_f1dd0ad89f0c4e478b40891c7f5d4be1",
       "value": "Egg style"
      }
     },
     "342a254b621545c6a1506f4d954724c0": {
      "model_module": "@jupyter-widgets/controls",
      "model_module_version": "1.2.0",
      "model_name": "ButtonModel",
      "state": {
       "button_style": "warning",
       "description": "35",
       "layout": "IPY_MODEL_16df380d38fb47a2bbb217b953037b65",
       "style": "IPY_MODEL_65e752b790a041e9adea816eaf88b7e9"
      }
     },
     "343def8c28434323b295e16e1dd9edc0": {
      "model_module": "@jupyter-widgets/controls",
      "model_module_version": "1.2.0",
      "model_name": "ButtonModel",
      "state": {
       "button_style": "warning",
       "description": "15",
       "layout": "IPY_MODEL_e20ec9c5c01e485bbfa90160b80eb8f4",
       "style": "IPY_MODEL_ad6728d43a1c4be5be1695321146a038"
      }
     },
     "34406badcc864315a8cb49cf304a0e45": {
      "model_module": "@jupyter-widgets/controls",
      "model_module_version": "1.2.0",
      "model_name": "ButtonModel",
      "state": {
       "layout": "IPY_MODEL_6bb723490fa647939b5e915be1d19060",
       "style": "IPY_MODEL_2c20f7907d4a4a0dbafa8e0815565609"
      }
     },
     "34410363eb534083bd227909bbdb4871": {
      "model_module": "@jupyter-widgets/base",
      "model_module_version": "1.0.0",
      "model_name": "LayoutModel",
      "state": {
       "align_items": "stretch",
       "border": "solid",
       "display": "flex",
       "flex_flow": "column",
       "width": "50%"
      }
     },
     "344fff8dbcee45b6856c1403f3ee5e62": {
      "model_module": "@jupyter-widgets/controls",
      "model_module_version": "1.2.0",
      "model_name": "ButtonModel",
      "state": {
       "button_style": "warning",
       "description": "9",
       "layout": "IPY_MODEL_e20ec9c5c01e485bbfa90160b80eb8f4",
       "style": "IPY_MODEL_8c1a69348f384bd4ad035ae6bb89c0a4"
      }
     },
     "3450be0e4d2a46369452c028af6dbc3e": {
      "model_module": "@jupyter-widgets/controls",
      "model_module_version": "1.2.0",
      "model_name": "BoxModel",
      "state": {
       "children": [
        "IPY_MODEL_41660ac52bc64eed9f4dceb7ae9f250e",
        "IPY_MODEL_5a290ba21d9c4e3eb28fe65d1038cec5",
        "IPY_MODEL_39cb8b8dc8d4444791d1a64fc4ea49b7"
       ],
       "layout": "IPY_MODEL_c1ab01ae176946099fb63b9840e9ef61"
      }
     },
     "34549666a8744b5fafe74b669907a0ed": {
      "model_module": "@jupyter-widgets/controls",
      "model_module_version": "1.2.0",
      "model_name": "ButtonModel",
      "state": {
       "layout": "IPY_MODEL_706d95b63d0144b6a672412f3a219036",
       "style": "IPY_MODEL_adb4d8b8142e4fd9b5ed1111f8b0ad71"
      }
     },
     "34550f96965f4757b0dd625c36e0c39c": {
      "model_module": "@jupyter-widgets/controls",
      "model_module_version": "1.2.0",
      "model_name": "SliderStyleModel",
      "state": {
       "description_width": ""
      }
     },
     "346a53fb316944208f954fa3d6c7a3d2": {
      "model_module": "@jupyter-widgets/controls",
      "model_module_version": "1.2.0",
      "model_name": "ButtonModel",
      "state": {
       "layout": "IPY_MODEL_71edbc4e034840e2a9927c2487c68700",
       "style": "IPY_MODEL_cfaf142226144c9d84146cec4444995a"
      }
     },
     "3470892b3e764509be0dfd5ad91f3f2d": {
      "model_module": "@jupyter-widgets/controls",
      "model_module_version": "1.2.0",
      "model_name": "ButtonModel",
      "state": {
       "layout": "IPY_MODEL_cd50e4eac43d4b9f8fff10571a9d0d69",
       "style": "IPY_MODEL_f6ad98a676324b70b9be196293356fa4"
      }
     },
     "34b45395d35b44e596d9457c09bff45a": {
      "model_module": "@jupyter-widgets/controls",
      "model_module_version": "1.2.0",
      "model_name": "ButtonStyleModel",
      "state": {
       "button_color": "olive"
      }
     },
     "34b7ecb677004695894803adf0d0965a": {
      "model_module": "@jupyter-widgets/controls",
      "model_module_version": "1.2.0",
      "model_name": "ButtonStyleModel",
      "state": {}
     },
     "34b8b90bba804457921282ac3770afe0": {
      "model_module": "@jupyter-widgets/controls",
      "model_module_version": "1.2.0",
      "model_name": "ButtonModel",
      "state": {
       "layout": "IPY_MODEL_93cf562e131e4a7eacb682fd13e54be7",
       "style": "IPY_MODEL_2b373e69ecde4579ad1b87dab02b6c46"
      }
     },
     "34bfa7ed66454f30a281bd9bb318d443": {
      "model_module": "@jupyter-widgets/controls",
      "model_module_version": "1.2.0",
      "model_name": "ButtonStyleModel",
      "state": {
       "button_color": "blue"
      }
     },
     "34c731d625584e6394a07d4a7f03bc6b": {
      "model_module": "@jupyter-widgets/base",
      "model_module_version": "1.0.0",
      "model_name": "LayoutModel",
      "state": {}
     },
     "350337c1228b438fa4e4be85cffbb214": {
      "model_module": "@jupyter-widgets/controls",
      "model_module_version": "1.2.0",
      "model_name": "ButtonStyleModel",
      "state": {}
     },
     "3524a62015bf4ae5adf74cc08bf37bd9": {
      "model_module": "@jupyter-widgets/base",
      "model_module_version": "1.0.0",
      "model_name": "LayoutModel",
      "state": {}
     },
     "352ad5d8c261456da0b123c6d9ee4ed5": {
      "model_module": "@jupyter-widgets/controls",
      "model_module_version": "1.2.0",
      "model_name": "ButtonStyleModel",
      "state": {
       "button_color": "blue"
      }
     },
     "3537c6e995ed49fe86e9b8ec17741df2": {
      "model_module": "@jupyter-widgets/controls",
      "model_module_version": "1.2.0",
      "model_name": "ButtonModel",
      "state": {
       "button_style": "warning",
       "description": "34",
       "layout": "IPY_MODEL_a810a994ec8c404f8136c2e39def56aa",
       "style": "IPY_MODEL_3dc794fce2db4e0ea6468ffb803c5247"
      }
     },
     "3592063d72e74706a1c6ddcddc17724e": {
      "model_module": "@jupyter-widgets/base",
      "model_module_version": "1.0.0",
      "model_name": "LayoutModel",
      "state": {}
     },
     "35cba8c670db4edc84765a7a1f5d4e1d": {
      "model_module": "@jupyter-widgets/controls",
      "model_module_version": "1.2.0",
      "model_name": "BoxModel",
      "state": {
       "children": [
        "IPY_MODEL_e09910c030444c53b4a48022d78b1746",
        "IPY_MODEL_5807a72b2abc44249efce18aa262ce00",
        "IPY_MODEL_59bb1c74f86648529f2f7baddf476754",
        "IPY_MODEL_ddd786f97d3648d2a8623f161e22c146"
       ],
       "layout": "IPY_MODEL_6e3d0a77a4d44804b10b675d2e6a571b"
      }
     },
     "35e07d15f5c14904936c5a43ba07b967": {
      "model_module": "@jupyter-widgets/base",
      "model_module_version": "1.0.0",
      "model_name": "LayoutModel",
      "state": {
       "height": "auto",
       "margin": "0",
       "width": "auto"
      }
     },
     "35ee427b32e64866a89e81a660323818": {
      "model_module": "@jupyter-widgets/base",
      "model_module_version": "1.0.0",
      "model_name": "LayoutModel",
      "state": {
       "height": "auto",
       "width": "auto"
      }
     },
     "3605baf1273542009dd9467c9c1fea3c": {
      "model_module": "@jupyter-widgets/controls",
      "model_module_version": "1.2.0",
      "model_name": "ButtonStyleModel",
      "state": {}
     },
     "36096767d8734fdab824b2159047216f": {
      "model_module": "@jupyter-widgets/base",
      "model_module_version": "1.0.0",
      "model_name": "LayoutModel",
      "state": {}
     },
     "360aaa8d8a884992a654d04624a6c473": {
      "model_module": "@jupyter-widgets/controls",
      "model_module_version": "1.2.0",
      "model_name": "ButtonStyleModel",
      "state": {}
     },
     "361ae5533b4440528c5de71f493d28be": {
      "model_module": "@jupyter-widgets/controls",
      "model_module_version": "1.2.0",
      "model_name": "ButtonStyleModel",
      "state": {}
     },
     "3631e2ce41d14479b636aeada065d8c8": {
      "model_module": "@jupyter-widgets/controls",
      "model_module_version": "1.2.0",
      "model_name": "ButtonModel",
      "state": {
       "layout": "IPY_MODEL_cd00ac948481485281a97b3b91a79e4e",
       "style": "IPY_MODEL_9926d26f76e548e484ac02daeaeb8bca"
      }
     },
     "36525534c48546ea9c157f2b88744875": {
      "model_module": "@jupyter-widgets/controls",
      "model_module_version": "1.2.0",
      "model_name": "GridBoxModel",
      "state": {
       "children": [
        "IPY_MODEL_6655d5d792a741d09a090f14ce8826f7",
        "IPY_MODEL_98fcdf5d6ebb44328b5cb42cb22aa4cd",
        "IPY_MODEL_b7a12dffdc9c4d72b7c088567ce7c8cf",
        "IPY_MODEL_45f17e87582c4a1fae3d86a59cf6f38d",
        "IPY_MODEL_12e44eb783c54d9ebbe852a020d66332",
        "IPY_MODEL_6325b697803141e0ac293417661f24b4",
        "IPY_MODEL_03a7b93280d84ec2a5e20bd150a0b040",
        "IPY_MODEL_620887f863cc43349e5fef2a0046c60d",
        "IPY_MODEL_7893a78e45de4d94add533269d12774f"
       ],
       "layout": "IPY_MODEL_63493feefd124c128bdfe68df8f24d12"
      }
     },
     "36968859894749dd9e9e6f5742198189": {
      "model_module": "@jupyter-widgets/controls",
      "model_module_version": "1.2.0",
      "model_name": "IntSliderModel",
      "state": {
       "layout": "IPY_MODEL_0a07a1b4772944bcbed1fd3eb48633c9",
       "style": "IPY_MODEL_7b2cfabfd3c549a8b7390722e7f76a7c"
      }
     },
     "36a218bae8b143f8983edaeaa4e467c0": {
      "model_module": "@jupyter-widgets/controls",
      "model_module_version": "1.2.0",
      "model_name": "ButtonModel",
      "state": {
       "layout": "IPY_MODEL_a8a4a992eee54af0b1fe3c12946711d2",
       "style": "IPY_MODEL_241d4d6b26484ab2ba9c0662edd70841"
      }
     },
     "36a441e29f00483985e00d555e6108b7": {
      "model_module": "@jupyter-widgets/base",
      "model_module_version": "1.0.0",
      "model_name": "LayoutModel",
      "state": {
       "height": "60px",
       "width": "auto"
      }
     },
     "36abbe684a7649dda0d56d4c9ae5ff6f": {
      "model_module": "@jupyter-widgets/controls",
      "model_module_version": "1.2.0",
      "model_name": "ButtonStyleModel",
      "state": {}
     },
     "36e15c52712f4e4caeef4631179f15bf": {
      "model_module": "@jupyter-widgets/controls",
      "model_module_version": "1.2.0",
      "model_name": "ButtonModel",
      "state": {
       "button_style": "warning",
       "description": "0",
       "layout": "IPY_MODEL_79e6f20409fa4963aff904a921b6d604",
       "style": "IPY_MODEL_04054cfec5184f44b1ac2979decb3155"
      }
     },
     "36ec471cf13c48f0abe7d36dcf9bb090": {
      "model_module": "@jupyter-widgets/controls",
      "model_module_version": "1.2.0",
      "model_name": "ButtonModel",
      "state": {
       "button_style": "warning",
       "description": "7",
       "layout": "IPY_MODEL_79e6f20409fa4963aff904a921b6d604",
       "style": "IPY_MODEL_58d8285240e4465c8038231ae09f4577"
      }
     },
     "36ed2ee7fe154c64bae9170764e9740a": {
      "model_module": "@jupyter-widgets/base",
      "model_module_version": "1.0.0",
      "model_name": "LayoutModel",
      "state": {
       "grid_gap": "5px 10px",
       "grid_template_columns": "100px 50px 100px",
       "grid_template_rows": "80px auto 80px",
       "width": "50%"
      }
     },
     "36f92e74bf5c4bc79a5edc1f072a6b2c": {
      "model_module": "@jupyter-widgets/base",
      "model_module_version": "1.0.0",
      "model_name": "LayoutModel",
      "state": {
       "flex": "1 1 0%",
       "width": "auto"
      }
     },
     "37014aa9993242e099030afbbe29ae5b": {
      "model_module": "@jupyter-widgets/controls",
      "model_module_version": "1.2.0",
      "model_name": "ButtonStyleModel",
      "state": {
       "button_color": "blue"
      }
     },
     "3706927be20f43b3b0ded778879338af": {
      "model_module": "@jupyter-widgets/base",
      "model_module_version": "1.0.0",
      "model_name": "LayoutModel",
      "state": {}
     },
     "3727b7dc9b1b4a09a65c1761e7a9cb17": {
      "model_module": "@jupyter-widgets/controls",
      "model_module_version": "1.2.0",
      "model_name": "ButtonModel",
      "state": {
       "layout": "IPY_MODEL_ea2a717a6abb43d58ed664b124108192",
       "style": "IPY_MODEL_7f1d43ffd3b947c781cd0bd3a801fafa"
      }
     },
     "3735e3ce691d43db8989fa8ba199907e": {
      "model_module": "@jupyter-widgets/base",
      "model_module_version": "1.0.0",
      "model_name": "LayoutModel",
      "state": {
       "flex": "3 1 auto",
       "width": "auto"
      }
     },
     "373c72e7f8f4492386d4728762da076f": {
      "model_module": "@jupyter-widgets/controls",
      "model_module_version": "1.2.0",
      "model_name": "ButtonModel",
      "state": {
       "button_style": "warning",
       "description": "23",
       "layout": "IPY_MODEL_d2db15f9d1834946bd4923f3faf2a54f",
       "style": "IPY_MODEL_c5a928dcd0ff4d0ab4a20e9591b5fdc4"
      }
     },
     "3759f47f24fc49ac8d60bd00a81a1f66": {
      "model_module": "@jupyter-widgets/controls",
      "model_module_version": "1.2.0",
      "model_name": "ButtonStyleModel",
      "state": {}
     },
     "376c21fbfac643448ac1bd93f7ac22ed": {
      "model_module": "@jupyter-widgets/controls",
      "model_module_version": "1.2.0",
      "model_name": "ButtonModel",
      "state": {
       "layout": "IPY_MODEL_2bdfdf76c0e14eebaddf584bf14e9325",
       "style": "IPY_MODEL_05f3d4a6c71a4f32ab9a083f547514f8"
      }
     },
     "376d0f7b631e494484caf8b8b21ea462": {
      "model_module": "@jupyter-widgets/controls",
      "model_module_version": "1.2.0",
      "model_name": "ButtonStyleModel",
      "state": {}
     },
     "3785493429b54588bd67e62c2113235f": {
      "model_module": "@jupyter-widgets/controls",
      "model_module_version": "1.2.0",
      "model_name": "ButtonModel",
      "state": {
       "button_style": "danger",
       "description": "weight=1; auto",
       "layout": "IPY_MODEL_f5cbfe0b58fe47bb9cd1fc56ae505e74",
       "style": "IPY_MODEL_197de493e6844b75b69bda0296660d7f"
      }
     },
     "3797f4f32b254405a6bcbadb94d4e433": {
      "model_module": "@jupyter-widgets/base",
      "model_module_version": "1.0.0",
      "model_name": "LayoutModel",
      "state": {
       "grid_area": "header",
       "width": "auto"
      }
     },
     "37aae45ef12943ebbf117df29b8ddb24": {
      "model_module": "@jupyter-widgets/controls",
      "model_module_version": "1.2.0",
      "model_name": "ButtonModel",
      "state": {
       "description": "Header",
       "layout": "IPY_MODEL_d527a5c188944698ab39e7f29a579698",
       "style": "IPY_MODEL_d0f8691dc6be43ac9e15777cbf886292"
      }
     },
     "37b4bea761f3457fa43011c7d460b446": {
      "model_module": "@jupyter-widgets/base",
      "model_module_version": "1.0.0",
      "model_name": "LayoutModel",
      "state": {
       "grid_gap": "10px 15px",
       "grid_template_columns": "100px 50px 100px",
       "grid_template_rows": "80px auto 80px",
       "width": "50%"
      }
     },
     "37c4c026958e4c97bccbf73fd2d3fe57": {
      "model_module": "@jupyter-widgets/controls",
      "model_module_version": "1.2.0",
      "model_name": "DescriptionStyleModel",
      "state": {
       "description_width": ""
      }
     },
     "37d5cc2c9bd3481093a14fea6ca5350e": {
      "model_module": "@jupyter-widgets/base",
      "model_module_version": "1.0.0",
      "model_name": "LayoutModel",
      "state": {
       "grid_area": "footer",
       "width": "auto"
      }
     },
     "37df5a9520504afdbf457f54ee68200d": {
      "model_module": "@jupyter-widgets/controls",
      "model_module_version": "1.2.0",
      "model_name": "ButtonStyleModel",
      "state": {}
     },
     "37eb675779524be9b3a54647ad1bfd3d": {
      "model_module": "@jupyter-widgets/controls",
      "model_module_version": "1.2.0",
      "model_name": "ButtonModel",
      "state": {
       "layout": "IPY_MODEL_2847cc6e71494c5a86d07475d49deca7",
       "style": "IPY_MODEL_4166913d892742ab964adc58623c75e4"
      }
     },
     "380dcfbd565744c88196596a380026a1": {
      "model_module": "@jupyter-widgets/controls",
      "model_module_version": "1.2.0",
      "model_name": "LabelModel",
      "state": {
       "layout": "IPY_MODEL_a91225b868d24f258fecb55ec15a1b1f",
       "style": "IPY_MODEL_dda25470e47848bbb4dc4a3981e8eec2",
       "value": "\\(e=mc^2\\)"
      }
     },
     "381bf12b4c9548fcb11bdbc9e06953a5": {
      "model_module": "@jupyter-widgets/controls",
      "model_module_version": "1.2.0",
      "model_name": "ButtonModel",
      "state": {
       "button_style": "warning",
       "description": "29",
       "layout": "IPY_MODEL_d2db15f9d1834946bd4923f3faf2a54f",
       "style": "IPY_MODEL_989016197b0645bc95929f04d84a81dd"
      }
     },
     "3821fc2e486148c08ff7f94ea2f28043": {
      "model_module": "@jupyter-widgets/controls",
      "model_module_version": "1.2.0",
      "model_name": "LabelModel",
      "state": {
       "layout": "IPY_MODEL_af6cf47d57774c22b0a45b5abec6695b",
       "style": "IPY_MODEL_9fefdba03c574d63998ba30dc30490f1",
       "value": "\\(e=mc^2\\)"
      }
     },
     "3842c80ac891452792ff1e397e9d2294": {
      "model_module": "@jupyter-widgets/controls",
      "model_module_version": "1.2.0",
      "model_name": "GridBoxModel",
      "state": {
       "children": [
        "IPY_MODEL_0b8b5a39875540fd92d0ba67a6f74b8f",
        "IPY_MODEL_74618bed64d248b8ab701efd8a934dc7",
        "IPY_MODEL_5905737ce41348a282bb09a281a0fc04",
        "IPY_MODEL_f097c38d25244d81bae69284fe8cd667",
        "IPY_MODEL_16f90c9f1e024a1da413c56be95172e9",
        "IPY_MODEL_5b1643c357ee4953a2a8f8a6daf5c6ed",
        "IPY_MODEL_8bf63e5aa74044ae9ff4719eb2dcb25d",
        "IPY_MODEL_b62e16c941324d578491d7e09db811cb",
        "IPY_MODEL_6fafe869e13542cebee71a1da5e85ac2",
        "IPY_MODEL_f67c74242f694926805e0fd8b6f92f5d"
       ],
       "layout": "IPY_MODEL_7f14872d2ea346e78b1e264659bbb00f"
      }
     },
     "38756641a17a47108e9d67f36757297c": {
      "model_module": "@jupyter-widgets/controls",
      "model_module_version": "1.2.0",
      "model_name": "ButtonModel",
      "state": {
       "layout": "IPY_MODEL_a8a4a992eee54af0b1fe3c12946711d2",
       "style": "IPY_MODEL_241d4d6b26484ab2ba9c0662edd70841"
      }
     },
     "38a06c6151574bcaa0f4c17a9aef0748": {
      "model_module": "@jupyter-widgets/controls",
      "model_module_version": "1.2.0",
      "model_name": "ButtonModel",
      "state": {
       "button_style": "warning",
       "description": "27",
       "layout": "IPY_MODEL_963f958a6a3049a3b012ec8484fb898f",
       "style": "IPY_MODEL_864cfbffdf0e47a78d23cb2eaf653c7b"
      }
     },
     "38a09713326c4989a24113e860812a0f": {
      "model_module": "@jupyter-widgets/base",
      "model_module_version": "1.0.0",
      "model_name": "LayoutModel",
      "state": {
       "grid_template": "'\n    auto / auto auto auto auto auto\n    "
      }
     },
     "38b6638876f74129a0b4a5205d58da44": {
      "model_module": "@jupyter-widgets/controls",
      "model_module_version": "1.2.0",
      "model_name": "ButtonModel",
      "state": {
       "layout": "IPY_MODEL_e36d4afaed644ebd9d832f6525d209b4",
       "style": "IPY_MODEL_621b5827fc9a4622aae3e23a4ce9b93c"
      }
     },
     "38bd6b0af0524b1a97aa99808e2bb6f9": {
      "model_module": "@jupyter-widgets/controls",
      "model_module_version": "1.2.0",
      "model_name": "ButtonModel",
      "state": {
       "button_style": "warning",
       "description": "10",
       "layout": "IPY_MODEL_963f958a6a3049a3b012ec8484fb898f",
       "style": "IPY_MODEL_9e02294e34fc43d080cd13f6b409ea28"
      }
     },
     "38cd7e919652409eb3773069aab9c672": {
      "model_module": "@jupyter-widgets/controls",
      "model_module_version": "1.2.0",
      "model_name": "ButtonModel",
      "state": {
       "button_style": "danger",
       "description": "Danger Button",
       "layout": "IPY_MODEL_ea8723a0521349199bc067181f0ca48e",
       "style": "IPY_MODEL_0394871910834201be18d3df315a78ff"
      }
     },
     "38e8f711a1bc4a47800ea8b627f2fe41": {
      "model_module": "@jupyter-widgets/base",
      "model_module_version": "1.0.0",
      "model_name": "LayoutModel",
      "state": {}
     },
     "3986a37730e44d6fba91f7ae5e57348a": {
      "model_module": "@jupyter-widgets/controls",
      "model_module_version": "1.2.0",
      "model_name": "ButtonModel",
      "state": {
       "description": "Sidebar",
       "layout": "IPY_MODEL_1ae94a3ed3f24029a3d5eec953caa558",
       "style": "IPY_MODEL_464773be367c40fe9e8be5605b50d361"
      }
     },
     "3996e4c2b4054856a52ba785bd9708d5": {
      "model_module": "@jupyter-widgets/base",
      "model_module_version": "1.0.0",
      "model_name": "LayoutModel",
      "state": {
       "grid_gap": "10px 15px",
       "grid_template_columns": "100px 50px 100px",
       "grid_template_rows": "80px auto 80px",
       "width": "50%"
      }
     },
     "39cb8b8dc8d4444791d1a64fc4ea49b7": {
      "model_module": "@jupyter-widgets/controls",
      "model_module_version": "1.2.0",
      "model_name": "ButtonModel",
      "state": {
       "button_style": "danger",
       "description": "weight=1; auto",
       "layout": "IPY_MODEL_cbcd8bbdeb7246588d5d639db597779a",
       "style": "IPY_MODEL_19635c2c16504b11ba352d8cab389d03"
      }
     },
     "39e36f70e1a7429286bf409e2ee68c73": {
      "model_module": "@jupyter-widgets/controls",
      "model_module_version": "1.2.0",
      "model_name": "ButtonStyleModel",
      "state": {}
     },
     "39f0989a40864ff9abf3b9ffe4822a9c": {
      "model_module": "@jupyter-widgets/controls",
      "model_module_version": "1.2.0",
      "model_name": "ButtonModel",
      "state": {
       "description": "Main",
       "layout": "IPY_MODEL_e3ff943146764dedab7dce45fdaa0221",
       "style": "IPY_MODEL_f4a132b140b64b45be713c39a0b5fcfb"
      }
     },
     "39f484451a8542fc9d4d14e512bbafa5": {
      "model_module": "@jupyter-widgets/controls",
      "model_module_version": "1.2.0",
      "model_name": "ButtonModel",
      "state": {
       "button_style": "warning",
       "description": "35",
       "layout": "IPY_MODEL_79e6f20409fa4963aff904a921b6d604",
       "style": "IPY_MODEL_590a77e600024d7186aba2307fe2a3e1"
      }
     },
     "39f7669be18047dfb4f95421d0fb4c6f": {
      "model_module": "@jupyter-widgets/controls",
      "model_module_version": "1.2.0",
      "model_name": "ButtonModel",
      "state": {
       "button_style": "warning",
       "description": "15",
       "layout": "IPY_MODEL_79e6f20409fa4963aff904a921b6d604",
       "style": "IPY_MODEL_7882791eee244bb18e3c48a70d436b31"
      }
     },
     "3a0ed38c1551495087bec43ac6312d7f": {
      "model_module": "@jupyter-widgets/controls",
      "model_module_version": "1.2.0",
      "model_name": "ButtonStyleModel",
      "state": {}
     },
     "3a0f1a853467480d9cc2058903b5d835": {
      "model_module": "@jupyter-widgets/base",
      "model_module_version": "1.0.0",
      "model_name": "LayoutModel",
      "state": {
       "height": "auto",
       "width": "auto"
      }
     },
     "3a12286e17c24faa93a919b028f4c9c2": {
      "model_module": "@jupyter-widgets/base",
      "model_module_version": "1.0.0",
      "model_name": "LayoutModel",
      "state": {}
     },
     "3a28163a68064cddab6d4a56d8dd9461": {
      "model_module": "@jupyter-widgets/controls",
      "model_module_version": "1.2.0",
      "model_name": "ButtonModel",
      "state": {
       "layout": "IPY_MODEL_7cc1566eb9dc401389216ecc15771057",
       "style": "IPY_MODEL_db5cece6c1ed4f09926683d11170fe68"
      }
     },
     "3a3f68ca71bc47e7877bb1b9073933ed": {
      "model_module": "@jupyter-widgets/base",
      "model_module_version": "1.0.0",
      "model_name": "LayoutModel",
      "state": {
       "height": "60px",
       "width": "auto"
      }
     },
     "3a44ea298681484f89ac54ce4a1a844e": {
      "model_module": "@jupyter-widgets/controls",
      "model_module_version": "1.2.0",
      "model_name": "ButtonStyleModel",
      "state": {}
     },
     "3a49f8cc1f2341089a606fa65bbd76a3": {
      "model_module": "@jupyter-widgets/controls",
      "model_module_version": "1.2.0",
      "model_name": "SliderStyleModel",
      "state": {
       "description_width": ""
      }
     },
     "3a4da2a9084c4871b1e8add85bdc09bd": {
      "model_module": "@jupyter-widgets/controls",
      "model_module_version": "1.2.0",
      "model_name": "ButtonModel",
      "state": {
       "button_style": "warning",
       "description": "15",
       "layout": "IPY_MODEL_d2db15f9d1834946bd4923f3faf2a54f",
       "style": "IPY_MODEL_f41e991cdb2e49008a6baff2435e74cd"
      }
     },
     "3a6a8ae5bd4b41d2ad47bd9e157df707": {
      "model_module": "@jupyter-widgets/base",
      "model_module_version": "1.0.0",
      "model_name": "LayoutModel",
      "state": {
       "flex": "1 1 auto",
       "width": "auto"
      }
     },
     "3a818d02af9c448193b6ab9bd53abebb": {
      "model_module": "@jupyter-widgets/controls",
      "model_module_version": "1.2.0",
      "model_name": "BoxModel",
      "state": {
       "children": [
        "IPY_MODEL_d38cdc6032d6432c83f425b79236a9b8",
        "IPY_MODEL_bd29eb110fb140c7af16afbad00a89c3",
        "IPY_MODEL_206b665682884f10a291f4f84cd9abf5"
       ],
       "layout": "IPY_MODEL_c1ab01ae176946099fb63b9840e9ef61"
      }
     },
     "3a8a256a09f44eeea3056a255d1fec03": {
      "model_module": "@jupyter-widgets/controls",
      "model_module_version": "1.2.0",
      "model_name": "ButtonStyleModel",
      "state": {}
     },
     "3a9b5e9ae9b2425386a78be623730bd5": {
      "model_module": "@jupyter-widgets/controls",
      "model_module_version": "1.2.0",
      "model_name": "ButtonModel",
      "state": {
       "layout": "IPY_MODEL_bfea69d00b7047ae9fc2c9c9406858ad",
       "style": "IPY_MODEL_e3714205bc5c4896ae65033334dd34b3"
      }
     },
     "3aae34e3bf384d27a8fc054360d24910": {
      "model_module": "@jupyter-widgets/controls",
      "model_module_version": "1.2.0",
      "model_name": "ButtonModel",
      "state": {
       "button_style": "warning",
       "description": "3",
       "layout": "IPY_MODEL_79e6f20409fa4963aff904a921b6d604",
       "style": "IPY_MODEL_c1ef139620f34d02a3129c0e0338271e"
      }
     },
     "3ab4fe3fa5264d81a33f69522d430311": {
      "model_module": "@jupyter-widgets/controls",
      "model_module_version": "1.2.0",
      "model_name": "ButtonModel",
      "state": {
       "layout": "IPY_MODEL_216e771000e440fea088424dae98bc76",
       "style": "IPY_MODEL_641b7e8788ad4bfe867408bf549fabf9"
      }
     },
     "3abaae9861744a5d8ec9eeb0877f018b": {
      "model_module": "@jupyter-widgets/controls",
      "model_module_version": "1.2.0",
      "model_name": "GridBoxModel",
      "state": {
       "children": [
        "IPY_MODEL_fd68a6e07b3e43fbadaa74219719e9f8"
       ],
       "layout": "IPY_MODEL_0e85e4b4a98c40e1bbe553876786cae8"
      }
     },
     "3ac7d9935b0e45358ec0287fdf55934b": {
      "model_module": "@jupyter-widgets/controls",
      "model_module_version": "1.2.0",
      "model_name": "ButtonStyleModel",
      "state": {}
     },
     "3ada5a1089f440a79fed41c8b21e6e21": {
      "model_module": "@jupyter-widgets/controls",
      "model_module_version": "1.2.0",
      "model_name": "ButtonStyleModel",
      "state": {}
     },
     "3ae4961944f84674ba410b9c11d8f7c0": {
      "model_module": "@jupyter-widgets/controls",
      "model_module_version": "1.2.0",
      "model_name": "ButtonStyleModel",
      "state": {}
     },
     "3aeee302b8c845b4b6f2c56e755c2257": {
      "model_module": "@jupyter-widgets/base",
      "model_module_version": "1.0.0",
      "model_name": "LayoutModel",
      "state": {
       "grid_template": "auto / 30px 40px auto auto"
      }
     },
     "3aef37fe7ec645ceb46f5ad6ed6c05bf": {
      "model_module": "@jupyter-widgets/controls",
      "model_module_version": "1.2.0",
      "model_name": "ButtonStyleModel",
      "state": {}
     },
     "3af7b6803af0475095f08e3421567975": {
      "model_module": "@jupyter-widgets/controls",
      "model_module_version": "1.2.0",
      "model_name": "IntSliderModel",
      "state": {
       "description": "A too long description",
       "layout": "IPY_MODEL_c97b2e68f2c24ba0a25a6ff97327c418",
       "style": "IPY_MODEL_4881a13880bf4673954e7a9a574a50aa"
      }
     },
     "3b3de82328554999a0785a8251c06da2": {
      "model_module": "@jupyter-widgets/controls",
      "model_module_version": "1.2.0",
      "model_name": "ButtonStyleModel",
      "state": {}
     },
     "3b448c7d787347feb7fe1f36c0071892": {
      "model_module": "@jupyter-widgets/base",
      "model_module_version": "1.0.0",
      "model_name": "LayoutModel",
      "state": {}
     },
     "3b4710a1272a433db4380806cb7e4d2a": {
      "model_module": "@jupyter-widgets/controls",
      "model_module_version": "1.2.0",
      "model_name": "ButtonModel",
      "state": {
       "layout": "IPY_MODEL_64567f913f574abfafda823bec6dad4f",
       "style": "IPY_MODEL_c2005b32dab1408390f8c77eafc7e7c8"
      }
     },
     "3b4b1ad7423e4a5495ccd74ccfd82609": {
      "model_module": "@jupyter-widgets/controls",
      "model_module_version": "1.2.0",
      "model_name": "ButtonStyleModel",
      "state": {}
     },
     "3b53611a5faf4a06b86e774b5b9fd408": {
      "model_module": "@jupyter-widgets/controls",
      "model_module_version": "1.2.0",
      "model_name": "ButtonStyleModel",
      "state": {}
     },
     "3b6fad0c399149d4b7bd383d1234067b": {
      "model_module": "@jupyter-widgets/controls",
      "model_module_version": "1.2.0",
      "model_name": "ButtonModel",
      "state": {
       "button_style": "warning",
       "description": "19",
       "layout": "IPY_MODEL_963f958a6a3049a3b012ec8484fb898f",
       "style": "IPY_MODEL_b199ddc890be462d90cb9f2dfe17a17c"
      }
     },
     "3b954c4792d14359a6ba5ae2690f7458": {
      "model_module": "@jupyter-widgets/controls",
      "model_module_version": "1.2.0",
      "model_name": "ButtonModel",
      "state": {
       "layout": "IPY_MODEL_df299558f7fe43b2b5de00f8a5202d32",
       "style": "IPY_MODEL_5ca0db911dcb4e7fbd69e459e7a64aed"
      }
     },
     "3b9f2b08cf1f4527819073c265b1e041": {
      "model_module": "@jupyter-widgets/controls",
      "model_module_version": "1.2.0",
      "model_name": "ButtonModel",
      "state": {
       "layout": "IPY_MODEL_8c7d17fa9b6a48b7832b66d2d78dfc94",
       "style": "IPY_MODEL_9e764da24e55467dbbedb5415313c237"
      }
     },
     "3ba52c5250244d59897ebd29fc923b9a": {
      "model_module": "@jupyter-widgets/controls",
      "model_module_version": "1.2.0",
      "model_name": "ButtonStyleModel",
      "state": {}
     },
     "3bd53a9c54ae4228aae27a8e37c2cc16": {
      "model_module": "@jupyter-widgets/controls",
      "model_module_version": "1.2.0",
      "model_name": "ButtonModel",
      "state": {
       "description": "footer",
       "layout": "IPY_MODEL_9ba424e74ce746a18cfe330c4d98fe0e",
       "style": "IPY_MODEL_466fe2293cc14a9b8b421f7dab33b22a"
      }
     },
     "3bdbf940b1c446deb17085d53c5049c6": {
      "model_module": "@jupyter-widgets/controls",
      "model_module_version": "1.2.0",
      "model_name": "ButtonModel",
      "state": {
       "layout": "IPY_MODEL_059243775f024c03bc32fd49a5f105d5",
       "style": "IPY_MODEL_a47847b90099443cbf7414124423fbd0"
      }
     },
     "3bf445327f9e4a02a154bf0d7d043cf1": {
      "model_module": "@jupyter-widgets/controls",
      "model_module_version": "1.2.0",
      "model_name": "BoxModel",
      "state": {
       "children": [
        "IPY_MODEL_9be841bdb88047c9954479366d3d6937",
        "IPY_MODEL_01b4ad767a2242bba177063ede664336",
        "IPY_MODEL_b44fc87cd59c41bd848e81e5b58ae072"
       ],
       "layout": "IPY_MODEL_be241b3db3164678961a247be443c5d0"
      }
     },
     "3bf8a17d32d04d0dab79ecf4443ebdd0": {
      "model_module": "@jupyter-widgets/controls",
      "model_module_version": "1.2.0",
      "model_name": "ButtonModel",
      "state": {
       "layout": "IPY_MODEL_77c77c05e7dc492f9d8297dec24a677c",
       "style": "IPY_MODEL_6a5966aa754341e094108202dc3e539e"
      }
     },
     "3c09a1d5914f44c19fe349716a4ebf69": {
      "model_module": "@jupyter-widgets/controls",
      "model_module_version": "1.2.0",
      "model_name": "ButtonStyleModel",
      "state": {
       "button_color": "blue"
      }
     },
     "3c0ce724f458489e828ca6db3792de98": {
      "model_module": "@jupyter-widgets/controls",
      "model_module_version": "1.2.0",
      "model_name": "ButtonModel",
      "state": {
       "button_style": "warning",
       "description": "7",
       "layout": "IPY_MODEL_d2db15f9d1834946bd4923f3faf2a54f",
       "style": "IPY_MODEL_2daf48b082724e9c9be57ad78a572a47"
      }
     },
     "3c287f1bdaac420eb5df5c0300f05318": {
      "model_module": "@jupyter-widgets/controls",
      "model_module_version": "1.2.0",
      "model_name": "ButtonModel",
      "state": {
       "layout": "IPY_MODEL_1a6b0a9053e2452ca410e9de3b4fef7d",
       "style": "IPY_MODEL_3ae4961944f84674ba410b9c11d8f7c0"
      }
     },
     "3c30aa8850084fe485e7d3752d43c68a": {
      "model_module": "@jupyter-widgets/base",
      "model_module_version": "1.0.0",
      "model_name": "LayoutModel",
      "state": {
       "flex": "1 1 auto",
       "width": "auto"
      }
     },
     "3c6ddde55f4845f58b377b1f39c4a7e6": {
      "model_module": "@jupyter-widgets/controls",
      "model_module_version": "1.2.0",
      "model_name": "ButtonModel",
      "state": {
       "button_style": "danger",
       "description": "horse",
       "layout": "IPY_MODEL_7af483b22721435dbf76e0c2b97da8dc",
       "style": "IPY_MODEL_16e5eaacd11b4ee188bf0ce3aed717a4"
      }
     },
     "3ca5432dbe554cd582eee60465b79ab5": {
      "model_module": "@jupyter-widgets/controls",
      "model_module_version": "1.2.0",
      "model_name": "GridBoxModel",
      "state": {
       "children": [
        "IPY_MODEL_c65f52e3d2c74d57bc7653c751170092",
        "IPY_MODEL_cee8ffef76124ea8888b651666bf6186",
        "IPY_MODEL_3986a37730e44d6fba91f7ae5e57348a",
        "IPY_MODEL_4280addb7d8148f2aad3eff903bddf28"
       ],
       "layout": "IPY_MODEL_237a7ceb37ec4e7f9acde36ffd816479"
      }
     },
     "3caceecfb73646579727e4634b03fd2f": {
      "model_module": "@jupyter-widgets/controls",
      "model_module_version": "1.2.0",
      "model_name": "ButtonModel",
      "state": {
       "layout": "IPY_MODEL_4d53052a4a3c4ea08b4ae8a0f20ff0ac",
       "style": "IPY_MODEL_00a0b0ff5c22437a88b54205b99c962a"
      }
     },
     "3caee776e353420ea32e7b3649c6fada": {
      "model_module": "@jupyter-widgets/controls",
      "model_module_version": "1.2.0",
      "model_name": "ButtonStyleModel",
      "state": {}
     },
     "3ce04ce4d3dd45c481c90a9b503ce718": {
      "model_module": "@jupyter-widgets/controls",
      "model_module_version": "1.2.0",
      "model_name": "ButtonStyleModel",
      "state": {}
     },
     "3ce59d134b97480f804a21d7f2421f72": {
      "model_module": "@jupyter-widgets/controls",
      "model_module_version": "1.2.0",
      "model_name": "ButtonModel",
      "state": {
       "layout": "IPY_MODEL_bca42cda5863431094ba3b2b4642113f",
       "style": "IPY_MODEL_cf71dfabe0f248c0a180d8df05dbc5cf"
      }
     },
     "3d013590aaaa4874868f12ce6d1d826f": {
      "model_module": "@jupyter-widgets/controls",
      "model_module_version": "1.2.0",
      "model_name": "ButtonModel",
      "state": {
       "button_style": "warning",
       "description": "19",
       "layout": "IPY_MODEL_a810a994ec8c404f8136c2e39def56aa",
       "style": "IPY_MODEL_269c8e3f535b4461835b7a0d000979e1"
      }
     },
     "3d09f85fb78a4239bb5de1eb64bedc5c": {
      "model_module": "@jupyter-widgets/controls",
      "model_module_version": "1.2.0",
      "model_name": "ButtonModel",
      "state": {
       "button_style": "warning",
       "description": "28",
       "layout": "IPY_MODEL_963f958a6a3049a3b012ec8484fb898f",
       "style": "IPY_MODEL_c323144d7c9d41f5aa4d18644d49f1b8"
      }
     },
     "3d29dc23ee5b421891c5d815cd4a49c1": {
      "model_module": "@jupyter-widgets/controls",
      "model_module_version": "1.2.0",
      "model_name": "ButtonStyleModel",
      "state": {}
     },
     "3d3437b791b045bfb4a5a5ab346854ab": {
      "model_module": "@jupyter-widgets/controls",
      "model_module_version": "1.2.0",
      "model_name": "GridBoxModel",
      "state": {
       "children": [
        "IPY_MODEL_b2e3101db4af46f0adc328981c27623d",
        "IPY_MODEL_bf0c61677f5e4aee9784dd39a68f1163",
        "IPY_MODEL_a1d596b139f54679bab5b343f4e0838b",
        "IPY_MODEL_1792822a3d8b4c47a18afa13e7b901d1"
       ],
       "layout": "IPY_MODEL_ab41e36e5c0040e3bbe3143f2816183c"
      }
     },
     "3d437feef890412486ba6bc9fff4f978": {
      "model_module": "@jupyter-widgets/controls",
      "model_module_version": "1.2.0",
      "model_name": "ButtonStyleModel",
      "state": {}
     },
     "3d54651b9275431cb9739a4326d6646a": {
      "model_module": "@jupyter-widgets/controls",
      "model_module_version": "1.2.0",
      "model_name": "ButtonStyleModel",
      "state": {}
     },
     "3d667f8bea874e82bc5451b3d645d727": {
      "model_module": "@jupyter-widgets/controls",
      "model_module_version": "1.2.0",
      "model_name": "ButtonStyleModel",
      "state": {
       "button_color": "blue"
      }
     },
     "3d723e64449a4584a92dccacee95ba4f": {
      "model_module": "@jupyter-widgets/controls",
      "model_module_version": "1.2.0",
      "model_name": "ButtonModel",
      "state": {
       "layout": "IPY_MODEL_6f40ca184b52431fb129559993d708e0",
       "style": "IPY_MODEL_e9ab615766dc44c1a85205d8860b565c"
      }
     },
     "3d7f2330b0da4d2eb677f8fda54836a5": {
      "model_module": "@jupyter-widgets/controls",
      "model_module_version": "1.2.0",
      "model_name": "ButtonStyleModel",
      "state": {
       "button_color": "blue"
      }
     },
     "3d81651a297740e381ac147d7c10fcbe": {
      "model_module": "@jupyter-widgets/base",
      "model_module_version": "1.0.0",
      "model_name": "LayoutModel",
      "state": {}
     },
     "3d967b3d764f47a99635e7ef7341825a": {
      "model_module": "@jupyter-widgets/controls",
      "model_module_version": "1.2.0",
      "model_name": "ButtonStyleModel",
      "state": {}
     },
     "3db2996a6cc3403aadddd5c96cfcb047": {
      "model_module": "@jupyter-widgets/controls",
      "model_module_version": "1.2.0",
      "model_name": "ButtonModel",
      "state": {
       "layout": "IPY_MODEL_838146113b404f3cab0775e9ec2fb331",
       "style": "IPY_MODEL_b144eb780ef347408168c2ce77dc1870"
      }
     },
     "3dc794fce2db4e0ea6468ffb803c5247": {
      "model_module": "@jupyter-widgets/controls",
      "model_module_version": "1.2.0",
      "model_name": "ButtonStyleModel",
      "state": {}
     },
     "3dceac41ff5747b38e18be517bb770cb": {
      "model_module": "@jupyter-widgets/controls",
      "model_module_version": "1.2.0",
      "model_name": "ButtonStyleModel",
      "state": {}
     },
     "3dfa54eacbb34cb09e075ad114c5641b": {
      "model_module": "@jupyter-widgets/controls",
      "model_module_version": "1.2.0",
      "model_name": "ButtonModel",
      "state": {
       "layout": "IPY_MODEL_e4466a6f4f724f0695c817a3cef77d97",
       "style": "IPY_MODEL_44b97b8a066f4d84b0eab021161d0c74"
      }
     },
     "3e122bb83c444d0c851679c9883e51bc": {
      "model_module": "@jupyter-widgets/base",
      "model_module_version": "1.0.0",
      "model_name": "LayoutModel",
      "state": {
       "flex": "1 1 0%",
       "width": "auto"
      }
     },
     "3e21d311d76644ac9961938432da55a9": {
      "model_module": "@jupyter-widgets/controls",
      "model_module_version": "1.2.0",
      "model_name": "HBoxModel",
      "state": {
       "children": [
        "IPY_MODEL_c924ee59dc844855b6db2b9418a3c271",
        "IPY_MODEL_5871d1b3b76f4f63be3c58069f72468a"
       ],
       "layout": "IPY_MODEL_797f89c98ba74c05bbaf8a703d4f0790"
      }
     },
     "3e37f0cf58e04cbc8e5115dcc835f592": {
      "model_module": "@jupyter-widgets/controls",
      "model_module_version": "1.2.0",
      "model_name": "ButtonModel",
      "state": {
       "layout": "IPY_MODEL_3a3f68ca71bc47e7877bb1b9073933ed",
       "style": "IPY_MODEL_1f05a4d8f414443b9894db85118c3a3c"
      }
     },
     "3e380d7cb7d1490fadc5bb46838a50b0": {
      "model_module": "@jupyter-widgets/controls",
      "model_module_version": "1.2.0",
      "model_name": "ButtonStyleModel",
      "state": {}
     },
     "3e3ccffd21f048218d1eb3d06ce03c1b": {
      "model_module": "@jupyter-widgets/base",
      "model_module_version": "1.0.0",
      "model_name": "LayoutModel",
      "state": {}
     },
     "3e4e67e55d064e8fa34459e3fd93622d": {
      "model_module": "@jupyter-widgets/base",
      "model_module_version": "1.0.0",
      "model_name": "LayoutModel",
      "state": {
       "height": "60px",
       "width": "auto"
      }
     },
     "3e62b49d47a44753b55dd00096379c56": {
      "model_module": "@jupyter-widgets/controls",
      "model_module_version": "1.2.0",
      "model_name": "ButtonModel",
      "state": {
       "layout": "IPY_MODEL_0f8fab5875984054a7f4d69598255738",
       "style": "IPY_MODEL_2e7842be666340cfb723b63a2279bed6"
      }
     },
     "3e90cc4ccf7148f79c3801fb6d7ffec5": {
      "model_module": "@jupyter-widgets/controls",
      "model_module_version": "1.2.0",
      "model_name": "ButtonStyleModel",
      "state": {}
     },
     "3eb74ea5bbb841e49d32f4140884eb12": {
      "model_module": "@jupyter-widgets/controls",
      "model_module_version": "1.2.0",
      "model_name": "IntSliderModel",
      "state": {
       "description": "A too long description",
       "layout": "IPY_MODEL_bede99f9274544dfbb243b8b691d14c0",
       "style": "IPY_MODEL_53896ef3cef548b78ccce42c5f9a47ae"
      }
     },
     "3eb836e8e0294a108f60d144513b7da7": {
      "model_module": "@jupyter-widgets/base",
      "model_module_version": "1.0.0",
      "model_name": "LayoutModel",
      "state": {}
     },
     "3ee09d64c60d4c77a74157690c3b9376": {
      "model_module": "@jupyter-widgets/controls",
      "model_module_version": "1.2.0",
      "model_name": "ButtonModel",
      "state": {
       "button_style": "warning",
       "description": "11",
       "layout": "IPY_MODEL_16df380d38fb47a2bbb217b953037b65",
       "style": "IPY_MODEL_5ea97f3262164391ae135ee04d85c8be"
      }
     },
     "3ee1d32e40984f71a3ae74556d10f089": {
      "model_module": "@jupyter-widgets/controls",
      "model_module_version": "1.2.0",
      "model_name": "ButtonModel",
      "state": {
       "layout": "IPY_MODEL_a997cf87cb444be1a8febdf657c22511",
       "style": "IPY_MODEL_8ca3ec099cef4617ada80a003b7ffd27"
      }
     },
     "3ee33ef73484447eacd6651d43b68f93": {
      "model_module": "@jupyter-widgets/base",
      "model_module_version": "1.0.0",
      "model_name": "LayoutModel",
      "state": {}
     },
     "3ee4366d6bb14085a2d8ccc5a9e57cf3": {
      "model_module": "@jupyter-widgets/controls",
      "model_module_version": "1.2.0",
      "model_name": "ButtonStyleModel",
      "state": {
       "button_color": "blue"
      }
     },
     "3ee5b402cd7a48cda33f05d522109fb0": {
      "model_module": "@jupyter-widgets/base",
      "model_module_version": "1.0.0",
      "model_name": "LayoutModel",
      "state": {
       "border": "3px solid black",
       "display": "flex",
       "flex_flow": "row",
       "height": "",
       "overflow_x": "scroll",
       "width": "500px"
      }
     },
     "3ee727f74e2b447b9eeb6f7c4643488d": {
      "model_module": "@jupyter-widgets/controls",
      "model_module_version": "1.2.0",
      "model_name": "ButtonModel",
      "state": {
       "layout": "IPY_MODEL_74570e2f6fa0423283a28715dddb580f",
       "style": "IPY_MODEL_0e7280ecc1394d29a9f4fc24ed947f19"
      }
     },
     "3ef1bf7bb1da45b6a4776b7322af0ae7": {
      "model_module": "@jupyter-widgets/controls",
      "model_module_version": "1.2.0",
      "model_name": "DescriptionStyleModel",
      "state": {
       "description_width": ""
      }
     },
     "3ef54d24564d4bd080d8a9680beb6813": {
      "model_module": "@jupyter-widgets/controls",
      "model_module_version": "1.2.0",
      "model_name": "ButtonModel",
      "state": {
       "layout": "IPY_MODEL_e9e51dc7db2e4dae8f6b58239515ec62",
       "style": "IPY_MODEL_fe53ee275cd445af83a52dfe43c59225"
      }
     },
     "3f19a85622a0437d9c2ee0ecc9faa529": {
      "model_module": "@jupyter-widgets/controls",
      "model_module_version": "1.2.0",
      "model_name": "ButtonModel",
      "state": {
       "layout": "IPY_MODEL_64567f913f574abfafda823bec6dad4f",
       "style": "IPY_MODEL_c2005b32dab1408390f8c77eafc7e7c8"
      }
     },
     "3f1dfa41722b43aeaad292b9b1cb7946": {
      "model_module": "@jupyter-widgets/controls",
      "model_module_version": "1.2.0",
      "model_name": "GridBoxModel",
      "state": {
       "children": [
        "IPY_MODEL_f76d3b5920f14806a97020e46bede465",
        "IPY_MODEL_945700b142eb46c78ae4cfc23f65ceec",
        "IPY_MODEL_c12421abf08048bc9603372a674bf403",
        "IPY_MODEL_44bd5ffeb4d54b9bbae68f0877d25335",
        "IPY_MODEL_a796534c22dd4f33b1ea608d3df3a9ff",
        "IPY_MODEL_66c057f51d0844f988a9a23891780d80",
        "IPY_MODEL_f883fbfd25c54d3aac55f4a6a27a8093",
        "IPY_MODEL_c027f7571ea64f938ced0a48846a2eef"
       ],
       "layout": "IPY_MODEL_06ea428ab6c644cea48706742d8caefd"
      }
     },
     "3f30aa0e8c9745f9a1f1ea64c7b51f7e": {
      "model_module": "@jupyter-widgets/controls",
      "model_module_version": "1.2.0",
      "model_name": "ButtonModel",
      "state": {
       "button_style": "warning",
       "description": "15",
       "layout": "IPY_MODEL_16df380d38fb47a2bbb217b953037b65",
       "style": "IPY_MODEL_a87417456e0e4e868eac01edaf325e24"
      }
     },
     "3f6735b68f114cabbdd27875beb43167": {
      "model_module": "@jupyter-widgets/controls",
      "model_module_version": "1.2.0",
      "model_name": "ButtonModel",
      "state": {
       "button_style": "warning",
       "description": "29",
       "layout": "IPY_MODEL_a810a994ec8c404f8136c2e39def56aa",
       "style": "IPY_MODEL_5f94eb7a7c3b4159b136526cb2545796"
      }
     },
     "3f6a00db54ac4532805509a958e77596": {
      "model_module": "@jupyter-widgets/controls",
      "model_module_version": "1.2.0",
      "model_name": "ButtonModel",
      "state": {
       "button_style": "warning",
       "description": "6",
       "layout": "IPY_MODEL_16df380d38fb47a2bbb217b953037b65",
       "style": "IPY_MODEL_ba9f6457476842b9bcd7699d86df3213"
      }
     },
     "3f6ccaf94cf34f8e885eca536605ab32": {
      "model_module": "@jupyter-widgets/controls",
      "model_module_version": "1.2.0",
      "model_name": "ButtonModel",
      "state": {
       "button_style": "danger",
       "description": "weight=1; 0%",
       "layout": "IPY_MODEL_f3b193e930d0455898a16e8a6738d5cf",
       "style": "IPY_MODEL_a169ace4e847440a9dcfeaa957bdce80"
      }
     },
     "3f71f81b8f7747939c03e358cd4a7a17": {
      "model_module": "@jupyter-widgets/base",
      "model_module_version": "1.0.0",
      "model_name": "LayoutModel",
      "state": {
       "height": "auto",
       "margin": "0",
       "width": "auto"
      }
     },
     "3f7ab63af9754f79b3e1f18d08b477ae": {
      "model_module": "@jupyter-widgets/controls",
      "model_module_version": "1.2.0",
      "model_name": "ButtonModel",
      "state": {
       "layout": "IPY_MODEL_5884f2ef969c4de8a17500c1f244410d",
       "style": "IPY_MODEL_62e5802cc7eb474a8b343ad17ad807a3"
      }
     },
     "3fee740222b14809925792c3e0dc2314": {
      "model_module": "@jupyter-widgets/controls",
      "model_module_version": "1.2.0",
      "model_name": "ButtonStyleModel",
      "state": {}
     },
     "400e4518d20e454f893cdcc614e3aea2": {
      "model_module": "@jupyter-widgets/controls",
      "model_module_version": "1.2.0",
      "model_name": "LabelModel",
      "state": {
       "layout": "IPY_MODEL_fd3207e25e7b48d9a11dc8c3e58814de",
       "style": "IPY_MODEL_92422e36a91d4b6997179ed51307d685",
       "value": "Ship size"
      }
     },
     "401e34ece9b34a3182537e06f9f729bc": {
      "model_module": "@jupyter-widgets/base",
      "model_module_version": "1.0.0",
      "model_name": "LayoutModel",
      "state": {
       "height": "auto",
       "width": "auto"
      }
     },
     "402912dd8a2a42a3a70eb3b94f8fb549": {
      "model_module": "@jupyter-widgets/controls",
      "model_module_version": "1.2.0",
      "model_name": "LabelModel",
      "state": {
       "layout": "IPY_MODEL_5c8310d2de0245a4bad96a4f25254bc9",
       "style": "IPY_MODEL_90355514fc034c7e82ad9be010c88365",
       "value": "A too long description"
      }
     },
     "404b28aa93c043419b2e018017be3b6e": {
      "model_module": "@jupyter-widgets/controls",
      "model_module_version": "1.2.0",
      "model_name": "ButtonModel",
      "state": {
       "layout": "IPY_MODEL_9b300607fb144fe7a0117de2fec396aa",
       "style": "IPY_MODEL_0763e0193b6b4abea9a21820609df242"
      }
     },
     "40570f7874c945498da86776c9cd2be0": {
      "model_module": "@jupyter-widgets/controls",
      "model_module_version": "1.2.0",
      "model_name": "ButtonStyleModel",
      "state": {}
     },
     "405d02fcf802454891b4faae811c9e7f": {
      "model_module": "@jupyter-widgets/controls",
      "model_module_version": "1.2.0",
      "model_name": "ButtonStyleModel",
      "state": {}
     },
     "405f3fe5fddb494db28ebb30d8f5bd39": {
      "model_module": "@jupyter-widgets/controls",
      "model_module_version": "1.2.0",
      "model_name": "ButtonModel",
      "state": {
       "button_style": "warning",
       "description": "30",
       "layout": "IPY_MODEL_d2db15f9d1834946bd4923f3faf2a54f",
       "style": "IPY_MODEL_0c14160f0b754941b2e948a2b531b6aa"
      }
     },
     "406010977d7e45908da11fd78966e9ba": {
      "model_module": "@jupyter-widgets/controls",
      "model_module_version": "1.2.0",
      "model_name": "ButtonStyleModel",
      "state": {}
     },
     "40627d245c6a4ffab5fe54104c3f9da6": {
      "model_module": "@jupyter-widgets/controls",
      "model_module_version": "1.2.0",
      "model_name": "ButtonStyleModel",
      "state": {}
     },
     "40a68308cb2646e1b0de685048a4c0b5": {
      "model_module": "@jupyter-widgets/controls",
      "model_module_version": "1.2.0",
      "model_name": "ButtonStyleModel",
      "state": {}
     },
     "40f1fb96432443938a0d419c4567a60f": {
      "model_module": "@jupyter-widgets/controls",
      "model_module_version": "1.2.0",
      "model_name": "ButtonStyleModel",
      "state": {}
     },
     "40f7570b30834984b56c444d5cdf05da": {
      "model_module": "@jupyter-widgets/base",
      "model_module_version": "1.0.0",
      "model_name": "LayoutModel",
      "state": {
       "flex": "1 1 0%",
       "width": "auto"
      }
     },
     "4116cbc4cb96460caf82f49cbf97b4ed": {
      "model_module": "@jupyter-widgets/controls",
      "model_module_version": "1.2.0",
      "model_name": "ButtonModel",
      "state": {
       "button_style": "warning",
       "description": "37",
       "layout": "IPY_MODEL_963f958a6a3049a3b012ec8484fb898f",
       "style": "IPY_MODEL_de8c377847fc4ec7b4857b70075fdad2"
      }
     },
     "412a117d80ee4f009e2f60c689cd99cc": {
      "model_module": "@jupyter-widgets/controls",
      "model_module_version": "1.2.0",
      "model_name": "ButtonModel",
      "state": {
       "button_style": "warning",
       "description": "30",
       "layout": "IPY_MODEL_a810a994ec8c404f8136c2e39def56aa",
       "style": "IPY_MODEL_5f62407c747149e9a7d82b8a3a3fe5b4"
      }
     },
     "413a47f2c0ad42a1a976061eb9614bb2": {
      "model_module": "@jupyter-widgets/controls",
      "model_module_version": "1.2.0",
      "model_name": "ButtonModel",
      "state": {
       "layout": "IPY_MODEL_af2aef9b5b0d4daa8e74e47e31ee0437",
       "style": "IPY_MODEL_9d86c44cee43471491a440c955773e2f"
      }
     },
     "413e0cd8607646e2aed0c7c404e62a04": {
      "model_module": "@jupyter-widgets/controls",
      "model_module_version": "1.2.0",
      "model_name": "ButtonStyleModel",
      "state": {}
     },
     "414fc2c9d31f4185ab896e7442d5d568": {
      "model_module": "@jupyter-widgets/controls",
      "model_module_version": "1.2.0",
      "model_name": "ButtonStyleModel",
      "state": {}
     },
     "415a2c343c944571ad2469197fba423c": {
      "model_module": "@jupyter-widgets/controls",
      "model_module_version": "1.2.0",
      "model_name": "ButtonModel",
      "state": {
       "description": "correct",
       "layout": "IPY_MODEL_d09a2b6b3e1e4a22bbc97754417c2977",
       "style": "IPY_MODEL_d08492ffac304447b5887b37ef3b52ea"
      }
     },
     "4163fd99df984755a2ef8d071f59793c": {
      "model_module": "@jupyter-widgets/controls",
      "model_module_version": "1.2.0",
      "model_name": "ButtonModel",
      "state": {
       "layout": "IPY_MODEL_36a441e29f00483985e00d555e6108b7",
       "style": "IPY_MODEL_0683f0f4f50141c48a21ae10572b3fc1"
      }
     },
     "41660ac52bc64eed9f4dceb7ae9f250e": {
      "model_module": "@jupyter-widgets/controls",
      "model_module_version": "1.2.0",
      "model_name": "ButtonModel",
      "state": {
       "button_style": "danger",
       "description": "weight=1; auto",
       "layout": "IPY_MODEL_29101ac49c6f46ea864632ec2c5debfc",
       "style": "IPY_MODEL_05d3bf5c323d4098a171088c48ccfd50"
      }
     },
     "4166913d892742ab964adc58623c75e4": {
      "model_module": "@jupyter-widgets/controls",
      "model_module_version": "1.2.0",
      "model_name": "ButtonStyleModel",
      "state": {
       "button_color": "#77A"
      }
     },
     "42259cc083544505b498db3b7c1c2ba2": {
      "model_module": "@jupyter-widgets/controls",
      "model_module_version": "1.2.0",
      "model_name": "ButtonStyleModel",
      "state": {}
     },
     "427288cf9c144002842de0789c30a98f": {
      "model_module": "@jupyter-widgets/controls",
      "model_module_version": "1.2.0",
      "model_name": "ButtonStyleModel",
      "state": {}
     },
     "4279579981294b599e72afa659176754": {
      "model_module": "@jupyter-widgets/controls",
      "model_module_version": "1.2.0",
      "model_name": "ButtonModel",
      "state": {
       "layout": "IPY_MODEL_c9ea692baeb946de96bd3ed36e154abc",
       "style": "IPY_MODEL_b3edc635b2c84d788caf728edd9f1bbf"
      }
     },
     "4279f302ee9c44b285224e91c038181c": {
      "model_module": "@jupyter-widgets/controls",
      "model_module_version": "1.2.0",
      "model_name": "ButtonModel",
      "state": {
       "layout": "IPY_MODEL_401e34ece9b34a3182537e06f9f729bc",
       "style": "IPY_MODEL_661e888e41a041c58543acb39ea70ef4"
      }
     },
     "4280addb7d8148f2aad3eff903bddf28": {
      "model_module": "@jupyter-widgets/controls",
      "model_module_version": "1.2.0",
      "model_name": "ButtonModel",
      "state": {
       "description": "Footer",
       "layout": "IPY_MODEL_0eaa70ef716b439195001d9a9b45c9b7",
       "style": "IPY_MODEL_175cc10709644e5f92cd2f7407c28044"
      }
     },
     "42882273ea674f778e21235c0fdd4d29": {
      "model_module": "@jupyter-widgets/controls",
      "model_module_version": "1.2.0",
      "model_name": "ButtonStyleModel",
      "state": {}
     },
     "429cd35ce911446397b3280608b93e10": {
      "model_module": "@jupyter-widgets/controls",
      "model_module_version": "1.2.0",
      "model_name": "ButtonStyleModel",
      "state": {}
     },
     "42a258d22162432cb4024099577e1f47": {
      "model_module": "@jupyter-widgets/controls",
      "model_module_version": "1.2.0",
      "model_name": "ButtonStyleModel",
      "state": {}
     },
     "42b3b02cf74e4b02ac9a387846dacb6e": {
      "model_module": "@jupyter-widgets/controls",
      "model_module_version": "1.2.0",
      "model_name": "ButtonStyleModel",
      "state": {
       "button_color": "yellow"
      }
     },
     "42d063a8c7e5472984433251bc8d46aa": {
      "model_module": "@jupyter-widgets/base",
      "model_module_version": "1.0.0",
      "model_name": "LayoutModel",
      "state": {}
     },
     "42e3f8f2e00044b6affa9aff137bfec4": {
      "model_module": "@jupyter-widgets/controls",
      "model_module_version": "1.2.0",
      "model_name": "ButtonStyleModel",
      "state": {}
     },
     "42fbef4124434f1bad1528020f0b8420": {
      "model_module": "@jupyter-widgets/controls",
      "model_module_version": "1.2.0",
      "model_name": "ButtonStyleModel",
      "state": {}
     },
     "430f015d665448d192670e0a70c2d2e8": {
      "model_module": "@jupyter-widgets/controls",
      "model_module_version": "1.2.0",
      "model_name": "ButtonStyleModel",
      "state": {}
     },
     "434651426186431bb868e5b0f3255e05": {
      "model_module": "@jupyter-widgets/controls",
      "model_module_version": "1.2.0",
      "model_name": "ButtonStyleModel",
      "state": {}
     },
     "4347665f635a41cc9a3d1c1f611bfab1": {
      "model_module": "@jupyter-widgets/controls",
      "model_module_version": "1.2.0",
      "model_name": "ButtonModel",
      "state": {
       "layout": "IPY_MODEL_49f81b3585ff412698273f2404121602",
       "style": "IPY_MODEL_0c60b7efff78487a82e79c9804b7684c"
      }
     },
     "435531fab7bf40eeb5cce200f4a374f8": {
      "model_module": "@jupyter-widgets/controls",
      "model_module_version": "1.2.0",
      "model_name": "ButtonModel",
      "state": {
       "button_style": "warning",
       "description": "1",
       "layout": "IPY_MODEL_d2db15f9d1834946bd4923f3faf2a54f",
       "style": "IPY_MODEL_146a8803d7174b97847219997325dc7b"
      }
     },
     "4373c6a2bafa483791773d5054e35188": {
      "model_module": "@jupyter-widgets/controls",
      "model_module_version": "1.2.0",
      "model_name": "ButtonStyleModel",
      "state": {}
     },
     "4395f8cc3a7e40ec8cfb8a9925f5baba": {
      "model_module": "@jupyter-widgets/base",
      "model_module_version": "1.0.0",
      "model_name": "LayoutModel",
      "state": {
       "height": "auto",
       "width": "auto"
      }
     },
     "43b1236c8b99417b8c6cb59402b42e1d": {
      "model_module": "@jupyter-widgets/base",
      "model_module_version": "1.0.0",
      "model_name": "LayoutModel",
      "state": {}
     },
     "43d325c55ee6407aba6b22d73e6e0ad2": {
      "model_module": "@jupyter-widgets/controls",
      "model_module_version": "1.2.0",
      "model_name": "ButtonStyleModel",
      "state": {}
     },
     "43fa69e9d0414355a8c8439a8e79bcf1": {
      "model_module": "@jupyter-widgets/controls",
      "model_module_version": "1.2.0",
      "model_name": "GridBoxModel",
      "state": {
       "children": [
        "IPY_MODEL_46f941c1caf4449aad920dec44489909",
        "IPY_MODEL_f20ca54fb70b47eab10c66f6074709f5",
        "IPY_MODEL_a5acbd885c944180ad02a212fde1fb2a",
        "IPY_MODEL_0d3cc528e5cb462aa8566467575c748e",
        "IPY_MODEL_3256c2a01c244a49817abbb7254e7e4b",
        "IPY_MODEL_4659d0db614f4a208fed61e6bf32b370",
        "IPY_MODEL_1c2de1ee1c7d4df98decacd2a8b2fad4",
        "IPY_MODEL_abe5eeb08c3e42cba46937e50e29909a"
       ],
       "layout": "IPY_MODEL_2189c7d6e07543a49e171f5e9e11debb"
      }
     },
     "442d24c6ed8b479fb45825d4e1e1c53b": {
      "model_module": "@jupyter-widgets/controls",
      "model_module_version": "1.2.0",
      "model_name": "SliderStyleModel",
      "state": {
       "description_width": ""
      }
     },
     "4444aa8c5ef8456fa3008b88bce0f226": {
      "model_module": "@jupyter-widgets/controls",
      "model_module_version": "1.2.0",
      "model_name": "ButtonModel",
      "state": {
       "button_style": "warning",
       "description": "38",
       "layout": "IPY_MODEL_e20ec9c5c01e485bbfa90160b80eb8f4",
       "style": "IPY_MODEL_40a68308cb2646e1b0de685048a4c0b5"
      }
     },
     "446963386f424b5b9acc0571c2fd211e": {
      "model_module": "@jupyter-widgets/controls",
      "model_module_version": "1.2.0",
      "model_name": "HBoxModel",
      "state": {
       "children": [
        "IPY_MODEL_5bb2b038523249deb391696ce995f9d5",
        "IPY_MODEL_3105871eac5e4109a78fbb2b5dbeadd5"
       ],
       "layout": "IPY_MODEL_78651434645b48a7a0a8ee05a3b0022f"
      }
     },
     "446b98b5627a4d0a902f80067f7866c7": {
      "model_module": "@jupyter-widgets/base",
      "model_module_version": "1.0.0",
      "model_name": "LayoutModel",
      "state": {
       "height": "auto",
       "width": "auto"
      }
     },
     "4499e5e62b964a91a851460157b0f1c9": {
      "model_module": "@jupyter-widgets/controls",
      "model_module_version": "1.2.0",
      "model_name": "LabelModel",
      "state": {
       "layout": "IPY_MODEL_09894aefd5f045f6bc1e04918febc090",
       "style": "IPY_MODEL_9eddcbf429854b36ae508b89b63e27a8",
       "value": "Information"
      }
     },
     "44a1c9f2d4184d8f88cc85fd862c35b2": {
      "model_module": "@jupyter-widgets/controls",
      "model_module_version": "1.2.0",
      "model_name": "ButtonStyleModel",
      "state": {}
     },
     "44a54274230d49afb4a870faede4b968": {
      "model_module": "@jupyter-widgets/controls",
      "model_module_version": "1.2.0",
      "model_name": "ButtonStyleModel",
      "state": {}
     },
     "44b0259aa8f0484681e1fd003ad1a0b1": {
      "model_module": "@jupyter-widgets/controls",
      "model_module_version": "1.2.0",
      "model_name": "ButtonModel",
      "state": {
       "layout": "IPY_MODEL_edb5edbb1e334fd6a8a6f4e36526261c",
       "style": "IPY_MODEL_0debe83240dc4cdcab00896dfbf2725f"
      }
     },
     "44b6f5d64d764cb0a6e244b5bee97a9c": {
      "model_module": "@jupyter-widgets/controls",
      "model_module_version": "1.2.0",
      "model_name": "ButtonModel",
      "state": {
       "layout": "IPY_MODEL_3ee33ef73484447eacd6651d43b68f93",
       "style": "IPY_MODEL_37df5a9520504afdbf457f54ee68200d"
      }
     },
     "44b97b8a066f4d84b0eab021161d0c74": {
      "model_module": "@jupyter-widgets/controls",
      "model_module_version": "1.2.0",
      "model_name": "ButtonStyleModel",
      "state": {}
     },
     "44bd5ffeb4d54b9bbae68f0877d25335": {
      "model_module": "@jupyter-widgets/controls",
      "model_module_version": "1.2.0",
      "model_name": "ButtonModel",
      "state": {
       "layout": "IPY_MODEL_01ae67175dea44bfa21ca0cbc48be329",
       "style": "IPY_MODEL_f30fc93e9b134b17ada927c4e08725f9"
      }
     },
     "44d19bf89c494830b0987d03a008f686": {
      "model_module": "@jupyter-widgets/controls",
      "model_module_version": "1.2.0",
      "model_name": "ButtonModel",
      "state": {
       "layout": "IPY_MODEL_9a5bfd31f11548d6af73683d0b8fcf4f",
       "style": "IPY_MODEL_22287a73cd36400d94e5fa118b2e7826"
      }
     },
     "44e3ac1d1b854fa993c6e3070f2136c2": {
      "model_module": "@jupyter-widgets/base",
      "model_module_version": "1.0.0",
      "model_name": "LayoutModel",
      "state": {
       "height": "auto",
       "width": "auto"
      }
     },
     "44f810703c584a68a2fb894463857bbf": {
      "model_module": "@jupyter-widgets/controls",
      "model_module_version": "1.2.0",
      "model_name": "ButtonStyleModel",
      "state": {}
     },
     "44fefca50fd24888ae38e83a496c204b": {
      "model_module": "@jupyter-widgets/controls",
      "model_module_version": "1.2.0",
      "model_name": "ButtonStyleModel",
      "state": {
       "button_color": "blue"
      }
     },
     "45176b48ed8d4d5994742be24c89f071": {
      "model_module": "@jupyter-widgets/controls",
      "model_module_version": "1.2.0",
      "model_name": "ButtonModel",
      "state": {
       "button_style": "warning",
       "description": "26",
       "layout": "IPY_MODEL_e20ec9c5c01e485bbfa90160b80eb8f4",
       "style": "IPY_MODEL_ca73105f48d14db893f01fa925421b69"
      }
     },
     "4526a6b4764f47269851fdd4b80fee32": {
      "model_module": "@jupyter-widgets/controls",
      "model_module_version": "1.2.0",
      "model_name": "ButtonModel",
      "state": {
       "layout": "IPY_MODEL_8c7d17fa9b6a48b7832b66d2d78dfc94",
       "style": "IPY_MODEL_0f1b07afc8b74a9ea9fe34a83b541237"
      }
     },
     "452ef82d48ea4a7aa6d82647ce8c69aa": {
      "model_module": "@jupyter-widgets/base",
      "model_module_version": "1.0.0",
      "model_name": "LayoutModel",
      "state": {
       "grid_area": "main",
       "width": "auto"
      }
     },
     "454193fff11e47ab9e4858b081dcb1a4": {
      "model_module": "@jupyter-widgets/controls",
      "model_module_version": "1.2.0",
      "model_name": "ButtonModel",
      "state": {
       "button_style": "danger",
       "description": "correct",
       "layout": "IPY_MODEL_0112515c34d24b3c942c9ca511b83c2a",
       "style": "IPY_MODEL_d777d4251d8c40ef83fd08daa3d7d4c6"
      }
     },
     "4550282314ee411a992e252457061ea6": {
      "model_module": "@jupyter-widgets/controls",
      "model_module_version": "1.2.0",
      "model_name": "ButtonModel",
      "state": {
       "layout": "IPY_MODEL_36a441e29f00483985e00d555e6108b7",
       "style": "IPY_MODEL_0683f0f4f50141c48a21ae10572b3fc1"
      }
     },
     "4557ed1dae894147b8a121b3f983a9d7": {
      "model_module": "@jupyter-widgets/controls",
      "model_module_version": "1.2.0",
      "model_name": "ButtonStyleModel",
      "state": {}
     },
     "458832969d5442fda3f4251b5fa8a279": {
      "model_module": "@jupyter-widgets/controls",
      "model_module_version": "1.2.0",
      "model_name": "TextareaModel",
      "state": {
       "layout": "IPY_MODEL_f8179f0467714822b64efce9196db1df",
       "style": "IPY_MODEL_da2ecc3dcc154d25a4f11dcdec969871"
      }
     },
     "45904169bd37489f9c3c69c29db53159": {
      "model_module": "@jupyter-widgets/controls",
      "model_module_version": "1.2.0",
      "model_name": "ButtonModel",
      "state": {
       "layout": "IPY_MODEL_af2aef9b5b0d4daa8e74e47e31ee0437",
       "style": "IPY_MODEL_9d86c44cee43471491a440c955773e2f"
      }
     },
     "45a37a204f9f4edc8917d60ce9ca0a4b": {
      "model_module": "@jupyter-widgets/controls",
      "model_module_version": "1.2.0",
      "model_name": "ButtonStyleModel",
      "state": {}
     },
     "45d49c186bc64a56a4e0695704e01d7d": {
      "model_module": "@jupyter-widgets/controls",
      "model_module_version": "1.2.0",
      "model_name": "GridBoxModel",
      "state": {
       "children": [
        "IPY_MODEL_a5cc4320c9144a898c653f3c1ca10265",
        "IPY_MODEL_0d947d8d74b74d1987285538dd08a1c4",
        "IPY_MODEL_e9327ad895b54b1d88cb8dc1c6a9e5f9",
        "IPY_MODEL_28fc288d51c34da69446425b17a75d13",
        "IPY_MODEL_4de0d1ae9ee94232b3ff95fb46ec6aba",
        "IPY_MODEL_331073c0c225485ea82a75b32c596074",
        "IPY_MODEL_9b20456122f74f97a527c04d748acccd",
        "IPY_MODEL_ac9e249830b34a23bccafb5694e601a4"
       ],
       "layout": "IPY_MODEL_bfeb3c6efee54ae3bc1f801670f7d42d"
      }
     },
     "45f17e87582c4a1fae3d86a59cf6f38d": {
      "model_module": "@jupyter-widgets/controls",
      "model_module_version": "1.2.0",
      "model_name": "ButtonModel",
      "state": {
       "layout": "IPY_MODEL_609b61692cc24139b4322016274a0bb1",
       "style": "IPY_MODEL_e419783c5b69486289919efeb71a4693"
      }
     },
     "45fae494a81a45cd847121ad65d2f9eb": {
      "model_module": "@jupyter-widgets/controls",
      "model_module_version": "1.2.0",
      "model_name": "BoxModel",
      "state": {
       "children": [
        "IPY_MODEL_af0b5c67e1304195878e97dae5dffbfe",
        "IPY_MODEL_435531fab7bf40eeb5cce200f4a374f8",
        "IPY_MODEL_18f8a895cf9e42b4b38a8c2cb89b68c6",
        "IPY_MODEL_fea6153db9584215a2861a6ba44b926c",
        "IPY_MODEL_ef2d04fbee02426d87ca8c2541aa5077",
        "IPY_MODEL_24f9e20db5454958bcc130f83603dc3d",
        "IPY_MODEL_fd06add4a4bf452c935526d424717993",
        "IPY_MODEL_3c0ce724f458489e828ca6db3792de98",
        "IPY_MODEL_0a07dcf0c37b4c8c88bf4f3d0abfc16e",
        "IPY_MODEL_184e7556cf344aa0bce46357a563737c",
        "IPY_MODEL_ebb5079ff01e4c48ba44cb0919ef25fa",
        "IPY_MODEL_bdf8366c39d349938b2a0cb1911d3ef6",
        "IPY_MODEL_28cb50bcb7e5419280c54b75865c9ad8",
        "IPY_MODEL_c32ded09df874d65a86818ea605c3227",
        "IPY_MODEL_0b6a5703a06b446e87c76c1d84379bb2",
        "IPY_MODEL_3a4da2a9084c4871b1e8add85bdc09bd",
        "IPY_MODEL_311e01c92d294a1dacd82072813f0233",
        "IPY_MODEL_fbe3a15d57b74fc2a52d1166c85f36cd",
        "IPY_MODEL_8788832d20fd4c49b977259f066ac0e9",
        "IPY_MODEL_0975f2e81bab4e6a95bd4b99c96f3502",
        "IPY_MODEL_d9e44a1c243d4e7bbcfdf678488ee2f5",
        "IPY_MODEL_dd915a4b2a9146bbbae64d25c4f0a579",
        "IPY_MODEL_12292b97805548c99dbea1793d53624e",
        "IPY_MODEL_373c72e7f8f4492386d4728762da076f",
        "IPY_MODEL_543731288331413bbb7ea7fe400cdf96",
        "IPY_MODEL_a5799007e7fc425d9ef8a842f8198e84",
        "IPY_MODEL_554d94339fc146f6856658cd9d65a924",
        "IPY_MODEL_87aa3511e5f44df190a6bd1efb909217",
        "IPY_MODEL_053416f2f9cd4c36afdfcbf7eab28483",
        "IPY_MODEL_381bf12b4c9548fcb11bdbc9e06953a5",
        "IPY_MODEL_405f3fe5fddb494db28ebb30d8f5bd39",
        "IPY_MODEL_67e3ec5ab00b41a988698f1c7634eb0e",
        "IPY_MODEL_10e09048d0574fb6a0c544378e9c5cce",
        "IPY_MODEL_826fb4d7aee047ddb353a035cc1d58f8",
        "IPY_MODEL_9fc3fdcaecde46fc866433abac7b0ca4",
        "IPY_MODEL_2a3eec2d7a4d4bd58273950ec4e1e46a",
        "IPY_MODEL_d2ceec6e395a45bfb05c132808a0e880",
        "IPY_MODEL_a6a4c7ddf1ca4ca883813bf705757b32",
        "IPY_MODEL_fa12c79c519f45a985c25b01a9ff289c",
        "IPY_MODEL_2615e0108bbf40749adfea67a1de5d13"
       ],
       "layout": "IPY_MODEL_1ba5a21180fb44a2bb07d168fa322c73"
      }
     },
     "45fccc01bb164e50a6ee09402ed6f6e8": {
      "model_module": "@jupyter-widgets/controls",
      "model_module_version": "1.2.0",
      "model_name": "ButtonStyleModel",
      "state": {
       "button_color": "blue"
      }
     },
     "464773be367c40fe9e8be5605b50d361": {
      "model_module": "@jupyter-widgets/controls",
      "model_module_version": "1.2.0",
      "model_name": "ButtonStyleModel",
      "state": {
       "button_color": "red"
      }
     },
     "464ebdd076e045d29622beb7c93124d4": {
      "model_module": "@jupyter-widgets/controls",
      "model_module_version": "1.2.0",
      "model_name": "ButtonModel",
      "state": {
       "button_style": "warning",
       "description": "24",
       "layout": "IPY_MODEL_79e6f20409fa4963aff904a921b6d604",
       "style": "IPY_MODEL_f0c585458724468d8dc156b8e050dfe0"
      }
     },
     "4651fd493773483cb2a1bb02151582d5": {
      "model_module": "@jupyter-widgets/base",
      "model_module_version": "1.0.0",
      "model_name": "LayoutModel",
      "state": {}
     },
     "4659d0db614f4a208fed61e6bf32b370": {
      "model_module": "@jupyter-widgets/controls",
      "model_module_version": "1.2.0",
      "model_name": "ButtonModel",
      "state": {
       "layout": "IPY_MODEL_33821dd28f834ae0b483c1651213364a",
       "style": "IPY_MODEL_098ec8210636463eac4a46477bd90fa9"
      }
     },
     "465cf363a30d46808f877952129f8421": {
      "model_module": "@jupyter-widgets/controls",
      "model_module_version": "1.2.0",
      "model_name": "ButtonModel",
      "state": {
       "button_style": "danger",
       "description": "weight=1; auto",
       "layout": "IPY_MODEL_2abec4c3a59c47ecae9a93ab1ad5a595",
       "style": "IPY_MODEL_ac3fec050f614ac2824d2447c8e559d7"
      }
     },
     "465e81253a694ddab856445e6eac6fdf": {
      "model_module": "@jupyter-widgets/controls",
      "model_module_version": "1.2.0",
      "model_name": "ButtonModel",
      "state": {
       "layout": "IPY_MODEL_1a6b0a9053e2452ca410e9de3b4fef7d",
       "style": "IPY_MODEL_fc3a933870624e8b9276f4ca78ec4308"
      }
     },
     "466fe2293cc14a9b8b421f7dab33b22a": {
      "model_module": "@jupyter-widgets/controls",
      "model_module_version": "1.2.0",
      "model_name": "ButtonStyleModel",
      "state": {
       "button_color": "green"
      }
     },
     "467d07b2d1774b0a88dfe8800b420419": {
      "model_module": "@jupyter-widgets/controls",
      "model_module_version": "1.2.0",
      "model_name": "ButtonModel",
      "state": {
       "description": "Footer",
       "layout": "IPY_MODEL_30dc5f7eacde4d51b1d41ba42c7f1772",
       "style": "IPY_MODEL_6ee683e74e964c2f9605a46d6924c1ac"
      }
     },
     "46929562b0ab4ee5b6a8b698f2da26c5": {
      "model_module": "@jupyter-widgets/controls",
      "model_module_version": "1.2.0",
      "model_name": "ButtonStyleModel",
      "state": {
       "button_color": "darkseagreen"
      }
     },
     "46b915c913cd4a97bd389e859abacfa3": {
      "model_module": "@jupyter-widgets/controls",
      "model_module_version": "1.2.0",
      "model_name": "DescriptionStyleModel",
      "state": {
       "description_width": ""
      }
     },
     "46c22688e88c4e898981e29b8b813379": {
      "model_module": "@jupyter-widgets/controls",
      "model_module_version": "1.2.0",
      "model_name": "ButtonModel",
      "state": {
       "layout": "IPY_MODEL_60abab77a37145ad9930ea2436979ab6",
       "style": "IPY_MODEL_5ea49e7f4c8141d398f18e923f75cfa7"
      }
     },
     "46c6fab3e1814149a37db4eff9491411": {
      "model_module": "@jupyter-widgets/controls",
      "model_module_version": "1.2.0",
      "model_name": "ButtonStyleModel",
      "state": {}
     },
     "46cf06bcd2854994899b2cf43ffa3fec": {
      "model_module": "@jupyter-widgets/controls",
      "model_module_version": "1.2.0",
      "model_name": "BoxModel",
      "state": {
       "children": [
        "IPY_MODEL_264266403d5346f9b139b2d0ef39ca4d",
        "IPY_MODEL_da876e69095f4a8bb31c06994b6e08cb"
       ],
       "layout": "IPY_MODEL_27c46bcd29e14115b934a43f66853bee"
      }
     },
     "46d0886addc64262afaf08692722f2c4": {
      "model_module": "@jupyter-widgets/controls",
      "model_module_version": "1.2.0",
      "model_name": "ButtonModel",
      "state": {
       "layout": "IPY_MODEL_e4466a6f4f724f0695c817a3cef77d97",
       "style": "IPY_MODEL_7cf671b337714452889a6412033212f0"
      }
     },
     "46f941c1caf4449aad920dec44489909": {
      "model_module": "@jupyter-widgets/controls",
      "model_module_version": "1.2.0",
      "model_name": "ButtonModel",
      "state": {
       "layout": "IPY_MODEL_33821dd28f834ae0b483c1651213364a",
       "style": "IPY_MODEL_098ec8210636463eac4a46477bd90fa9"
      }
     },
     "46fb0cd3c6e349b6b7add514717cd4de": {
      "model_module": "@jupyter-widgets/controls",
      "model_module_version": "1.2.0",
      "model_name": "ButtonStyleModel",
      "state": {}
     },
     "474c22065744467a9ea96d405af0989e": {
      "model_module": "@jupyter-widgets/controls",
      "model_module_version": "1.2.0",
      "model_name": "ButtonModel",
      "state": {
       "description": "Another button with the same layout",
       "layout": "IPY_MODEL_47a44226cefc49ba851fb4472e2b0e3a",
       "style": "IPY_MODEL_2648afd484584476a2532b0ec18f0520"
      }
     },
     "4769ccb5602e4d999b79ae825205eb33": {
      "model_module": "@jupyter-widgets/base",
      "model_module_version": "1.0.0",
      "model_name": "LayoutModel",
      "state": {
       "grid_area": "main",
       "width": "auto"
      }
     },
     "47884687f9fb4c8ab6c8525f708e14ef": {
      "model_module": "@jupyter-widgets/controls",
      "model_module_version": "1.2.0",
      "model_name": "ButtonModel",
      "state": {
       "layout": "IPY_MODEL_a0e22ef5a1134a18b8992c7e7045c52c",
       "style": "IPY_MODEL_f5e1af3d04c341dba3f7a4fa808d5c4f"
      }
     },
     "479472cf339b45689211e597f4ae07ab": {
      "model_module": "@jupyter-widgets/controls",
      "model_module_version": "1.2.0",
      "model_name": "VBoxModel",
      "state": {
       "children": [
        "IPY_MODEL_ae7f685ca15f40559d55d686b6482119",
        "IPY_MODEL_60fd1abc746a41a7901466cbd4933669"
       ],
       "layout": "IPY_MODEL_609d927679764fca833632b66066a00a"
      }
     },
     "47a44226cefc49ba851fb4472e2b0e3a": {
      "model_module": "@jupyter-widgets/base",
      "model_module_version": "1.0.0",
      "model_name": "LayoutModel",
      "state": {
       "height": "80px",
       "width": "50%"
      }
     },
     "47d3753e464341b9bc6e6d3a2e2daf2f": {
      "model_module": "@jupyter-widgets/controls",
      "model_module_version": "1.2.0",
      "model_name": "ButtonModel",
      "state": {
       "layout": "IPY_MODEL_bfea69d00b7047ae9fc2c9c9406858ad",
       "style": "IPY_MODEL_becb235eb2104cdaae0eb387a1f69da3"
      }
     },
     "47ec89dbaad54f5f9854f5b1a09bccad": {
      "model_module": "@jupyter-widgets/controls",
      "model_module_version": "1.2.0",
      "model_name": "ButtonModel",
      "state": {
       "layout": "IPY_MODEL_44e3ac1d1b854fa993c6e3070f2136c2",
       "style": "IPY_MODEL_f9af98d895f14da6ad3d19cb6c43570d"
      }
     },
     "4807c6cb328c45458ddac1d5875a323b": {
      "model_module": "@jupyter-widgets/controls",
      "model_module_version": "1.2.0",
      "model_name": "ButtonModel",
      "state": {
       "layout": "IPY_MODEL_2dbf7836189c43ceacedac172f168e48",
       "style": "IPY_MODEL_1c333f95c2504843b4fa59f702ae7f34"
      }
     },
     "48172c48f65644aca7ba342ed3305068": {
      "model_module": "@jupyter-widgets/controls",
      "model_module_version": "1.2.0",
      "model_name": "ButtonStyleModel",
      "state": {}
     },
     "481c608462174859b120383d068e5e5f": {
      "model_module": "@jupyter-widgets/controls",
      "model_module_version": "1.2.0",
      "model_name": "DescriptionStyleModel",
      "state": {
       "description_width": ""
      }
     },
     "483235b4d3244296a3a37d72ab8dc021": {
      "model_module": "@jupyter-widgets/base",
      "model_module_version": "1.0.0",
      "model_name": "LayoutModel",
      "state": {
       "height": "auto",
       "width": "auto"
      }
     },
     "483895896fe54682bf16a55fbafd55a3": {
      "model_module": "@jupyter-widgets/base",
      "model_module_version": "1.0.0",
      "model_name": "LayoutModel",
      "state": {
       "flex": "1 1 0%",
       "width": "auto"
      }
     },
     "483be317b5f64580af1f1634f1c7ee39": {
      "model_module": "@jupyter-widgets/controls",
      "model_module_version": "1.2.0",
      "model_name": "ButtonModel",
      "state": {
       "layout": "IPY_MODEL_13c22169d16b4d788623cc768d85b73b",
       "style": "IPY_MODEL_71328a3e3d954455b28da5761aba8e5c"
      }
     },
     "486d2b032bd54d65a8577cb02e20b3d2": {
      "model_module": "@jupyter-widgets/controls",
      "model_module_version": "1.2.0",
      "model_name": "ButtonStyleModel",
      "state": {
       "button_color": "yellow"
      }
     },
     "4881a13880bf4673954e7a9a574a50aa": {
      "model_module": "@jupyter-widgets/controls",
      "model_module_version": "1.2.0",
      "model_name": "SliderStyleModel",
      "state": {
       "description_width": "initial"
      }
     },
     "48d993326fa04f7e82fd6bafcd1ba500": {
      "model_module": "@jupyter-widgets/controls",
      "model_module_version": "1.2.0",
      "model_name": "ButtonModel",
      "state": {
       "description": "Another button with the same layout",
       "layout": "IPY_MODEL_0fe71694d5494f96afd2747ee6cf0650",
       "style": "IPY_MODEL_e3021fee415d4d258fe86c7e05b55c0c"
      }
     },
     "48e213f14b454d5cb765122cc1a1fedf": {
      "model_module": "@jupyter-widgets/controls",
      "model_module_version": "1.2.0",
      "model_name": "ButtonStyleModel",
      "state": {}
     },
     "48e9ad2f9b654d18ba4209e703a63e0c": {
      "model_module": "@jupyter-widgets/controls",
      "model_module_version": "1.2.0",
      "model_name": "ButtonStyleModel",
      "state": {}
     },
     "48ed9db4fe0b4c138fe8e94222064098": {
      "model_module": "@jupyter-widgets/base",
      "model_module_version": "1.0.0",
      "model_name": "LayoutModel",
      "state": {
       "grid_area": "main",
       "width": "auto"
      }
     },
     "48fd2aeeef2c4ea994d6d60831e9f00a": {
      "model_module": "@jupyter-widgets/controls",
      "model_module_version": "1.2.0",
      "model_name": "SliderStyleModel",
      "state": {
       "description_width": ""
      }
     },
     "490971e9f3ae4259a0a2fe96d7a0feb1": {
      "model_module": "@jupyter-widgets/controls",
      "model_module_version": "1.2.0",
      "model_name": "ButtonModel",
      "state": {
       "layout": "IPY_MODEL_d9d52397cd8c4c10b7db3ba3c2ebd41e",
       "style": "IPY_MODEL_88272af385e74f018a86413a06bb2d00"
      }
     },
     "4944b1fd61234a2ebd8f5647070b6355": {
      "model_module": "@jupyter-widgets/controls",
      "model_module_version": "1.2.0",
      "model_name": "ButtonStyleModel",
      "state": {
       "button_color": "darkseagreen"
      }
     },
     "4944c2c35c0c4becae871ffdf38b3410": {
      "model_module": "@jupyter-widgets/base",
      "model_module_version": "1.0.0",
      "model_name": "LayoutModel",
      "state": {}
     },
     "4999f0f5d1284b2cb60f35ac3628f4a1": {
      "model_module": "@jupyter-widgets/base",
      "model_module_version": "1.0.0",
      "model_name": "LayoutModel",
      "state": {
       "height": "auto",
       "width": "auto"
      }
     },
     "49a4448ddd624ab789974ae426a292fd": {
      "model_module": "@jupyter-widgets/controls",
      "model_module_version": "1.2.0",
      "model_name": "ButtonStyleModel",
      "state": {}
     },
     "49a688235015477ba593ee7869599c1b": {
      "model_module": "@jupyter-widgets/base",
      "model_module_version": "1.0.0",
      "model_name": "LayoutModel",
      "state": {}
     },
     "49d7a3f7db5e4a0781a580c85c3f42d3": {
      "model_module": "@jupyter-widgets/controls",
      "model_module_version": "1.2.0",
      "model_name": "ButtonStyleModel",
      "state": {
       "button_color": "blue"
      }
     },
     "49f81b3585ff412698273f2404121602": {
      "model_module": "@jupyter-widgets/base",
      "model_module_version": "1.0.0",
      "model_name": "LayoutModel",
      "state": {}
     },
     "4a28ff3f530447bcb176b69ab46d7082": {
      "model_module": "@jupyter-widgets/controls",
      "model_module_version": "1.2.0",
      "model_name": "BoxModel",
      "state": {
       "children": [
        "IPY_MODEL_d037a78f1dac4e6c8a098f2baeecb649",
        "IPY_MODEL_d9bc6cd344b444aa8d9fb2e81a34db4b",
        "IPY_MODEL_0634913131cb4404bad10f08dad16e61",
        "IPY_MODEL_59bc29313bec4ef4a363fc58e9b68e05"
       ],
       "layout": "IPY_MODEL_a7e26572ddb14e2a828395a243251060"
      }
     },
     "4a79ae90dfed45b897fc730b30416ab0": {
      "model_module": "@jupyter-widgets/controls",
      "model_module_version": "1.2.0",
      "model_name": "ButtonStyleModel",
      "state": {}
     },
     "4abc0b03e5a1493980272a77b1722ebc": {
      "model_module": "@jupyter-widgets/controls",
      "model_module_version": "1.2.0",
      "model_name": "ButtonStyleModel",
      "state": {}
     },
     "4abf023ad0354aed9a46c5547741c5e6": {
      "model_module": "@jupyter-widgets/controls",
      "model_module_version": "1.2.0",
      "model_name": "ButtonStyleModel",
      "state": {}
     },
     "4b1d0f6e787d4467a671a9582d3aa058": {
      "model_module": "@jupyter-widgets/controls",
      "model_module_version": "1.2.0",
      "model_name": "ButtonModel",
      "state": {
       "layout": "IPY_MODEL_a5aafc5fec484d77a39f715c3d1a1587",
       "style": "IPY_MODEL_1acdc68cd8e3435e8f7360ccb1474400"
      }
     },
     "4b5f47909cf74f4a884af7b362ee83e0": {
      "model_module": "@jupyter-widgets/controls",
      "model_module_version": "1.2.0",
      "model_name": "BoxModel",
      "state": {
       "children": [
        "IPY_MODEL_c04d50aa3274422f8071a2ba57f00f56",
        "IPY_MODEL_dbef130677a042c48c676bb52efc1e46",
        "IPY_MODEL_8749027b0add4701be45da829255f71b",
        "IPY_MODEL_25ac07c5c7e3492bb04171c7c470dc0e",
        "IPY_MODEL_dbc0f4ff50374b7c9f6cf7182cc97eea",
        "IPY_MODEL_b444191e501747dd9fa9f2a219ebd42c",
        "IPY_MODEL_d01115fc233444888074de65f2d4d8bd",
        "IPY_MODEL_99cd1f225f4c4ae29b579df0bf1240c0",
        "IPY_MODEL_da28995be1de407190d53e38081977de",
        "IPY_MODEL_340db2d0ac0f45dc8e76d06aeca83a6d",
        "IPY_MODEL_38bd6b0af0524b1a97aa99808e2bb6f9",
        "IPY_MODEL_ba5e6942a3e84114ad277e77275fbec8",
        "IPY_MODEL_b86cd600b8344dae9203fe4694b00921",
        "IPY_MODEL_d5ae88561f624e46821fbe4e8cb9e9f8",
        "IPY_MODEL_7976bacba73d4089b105d875254fdffe",
        "IPY_MODEL_78b1998deb924081908f91af95dd4eb7",
        "IPY_MODEL_4fedd72b744e42be85a3d1ac651cebac",
        "IPY_MODEL_912371ae372e40778dc558e5ba2cb34d",
        "IPY_MODEL_a95c99e6e8164fb3a075bdaf89f3f920",
        "IPY_MODEL_3b6fad0c399149d4b7bd383d1234067b",
        "IPY_MODEL_a08dce36d2564d3389b87c104ff3bb08",
        "IPY_MODEL_ae94063e5c014dfb89ba3c3273401ee3",
        "IPY_MODEL_7c56aa94512c404b91f7de3023346b56",
        "IPY_MODEL_2eb8a0c3571b4efbb891840936cc7dc3",
        "IPY_MODEL_1d9a5c6d6df143329bf53ce54fb41c4d",
        "IPY_MODEL_c098d59919c842649c7e9a469c6ed9c6",
        "IPY_MODEL_e0c016081ae5403da29ea6bbcce91006",
        "IPY_MODEL_38a06c6151574bcaa0f4c17a9aef0748",
        "IPY_MODEL_3d09f85fb78a4239bb5de1eb64bedc5c",
        "IPY_MODEL_22aee8138cb742dbaf2ae2510152c640",
        "IPY_MODEL_a72de774e2f043cb9a5d90c9666b59fb",
        "IPY_MODEL_f03c5c76876d45b5959cb132f8c63e69",
        "IPY_MODEL_11c3037dd68548278d5a00027250c22b",
        "IPY_MODEL_256cd856a9fc43df8d3b2aee0e294a38",
        "IPY_MODEL_1fad943e346e4a549a8bab034298233b",
        "IPY_MODEL_b8e1e184e56541a18e2635e4f82f13ca",
        "IPY_MODEL_254e450e33de4cbab951a297dbebc608",
        "IPY_MODEL_4116cbc4cb96460caf82f49cbf97b4ed",
        "IPY_MODEL_4be0826f2d5040d2b698c757776061a1",
        "IPY_MODEL_fa836320275f436a98a48e180bd21ba3"
       ],
       "layout": "IPY_MODEL_a637a27e58f643ec83d4944c805a75e2"
      }
     },
     "4b7aa337b2d745f996df5b9e011dedc9": {
      "model_module": "@jupyter-widgets/controls",
      "model_module_version": "1.2.0",
      "model_name": "BoxModel",
      "state": {
       "children": [
        "IPY_MODEL_400e4518d20e454f893cdcc614e3aea2",
        "IPY_MODEL_7e9d4a1c0a8947c9b482aa492bf9e08e"
       ],
       "layout": "IPY_MODEL_a41eb3128c334307828b7385fc9efed5"
      }
     },
     "4b8141ce3b424d899e1f6d301086ad48": {
      "model_module": "@jupyter-widgets/controls",
      "model_module_version": "1.2.0",
      "model_name": "ButtonStyleModel",
      "state": {}
     },
     "4b8340d8d72a4a7daec11ab2d9dfe37f": {
      "model_module": "@jupyter-widgets/controls",
      "model_module_version": "1.2.0",
      "model_name": "ButtonModel",
      "state": {
       "button_style": "warning",
       "description": "16",
       "layout": "IPY_MODEL_79e6f20409fa4963aff904a921b6d604",
       "style": "IPY_MODEL_6500120db2214488aeeddc89a156c046"
      }
     },
     "4bbffed757e34d98b461b8bc0f1d23c4": {
      "model_module": "@jupyter-widgets/controls",
      "model_module_version": "1.2.0",
      "model_name": "ButtonStyleModel",
      "state": {
       "button_color": "#77A"
      }
     },
     "4bc78b33527b40b2b81794d45a784027": {
      "model_module": "@jupyter-widgets/controls",
      "model_module_version": "1.2.0",
      "model_name": "ButtonStyleModel",
      "state": {
       "button_color": "blue"
      }
     },
     "4be00c4a4bc04d17b9f4534e81f16ba6": {
      "model_module": "@jupyter-widgets/controls",
      "model_module_version": "1.2.0",
      "model_name": "ButtonStyleModel",
      "state": {}
     },
     "4be0826f2d5040d2b698c757776061a1": {
      "model_module": "@jupyter-widgets/controls",
      "model_module_version": "1.2.0",
      "model_name": "ButtonModel",
      "state": {
       "button_style": "warning",
       "description": "38",
       "layout": "IPY_MODEL_963f958a6a3049a3b012ec8484fb898f",
       "style": "IPY_MODEL_038668129d1b4a5b8d88c7a9e6dbe96b"
      }
     },
     "4bfae0618bdd405485aa9e01c0f113db": {
      "model_module": "@jupyter-widgets/controls",
      "model_module_version": "1.2.0",
      "model_name": "ButtonStyleModel",
      "state": {
       "button_color": "blue"
      }
     },
     "4bfcad0681d54717958375fd9a0c6df4": {
      "model_module": "@jupyter-widgets/base",
      "model_module_version": "1.0.0",
      "model_name": "LayoutModel",
      "state": {
       "grid_area": "footer",
       "width": "auto"
      }
     },
     "4c049cfbe9cd4b239f75c68b7a73dd92": {
      "model_module": "@jupyter-widgets/controls",
      "model_module_version": "1.2.0",
      "model_name": "DescriptionStyleModel",
      "state": {
       "description_width": ""
      }
     },
     "4c0e61154998494d9fb19fd516c272ab": {
      "model_module": "@jupyter-widgets/base",
      "model_module_version": "1.0.0",
      "model_name": "LayoutModel",
      "state": {
       "grid_template": "auto / auto auto auto auto"
      }
     },
     "4c1c269b8a694eefb5ec7a779da7feba": {
      "model_module": "@jupyter-widgets/controls",
      "model_module_version": "1.2.0",
      "model_name": "ButtonStyleModel",
      "state": {}
     },
     "4c287f4923be4178bd9539cf36cfbeb6": {
      "model_module": "@jupyter-widgets/controls",
      "model_module_version": "1.2.0",
      "model_name": "ButtonModel",
      "state": {
       "layout": "IPY_MODEL_778fd6c2521c46bb9d5bf22d68857581",
       "style": "IPY_MODEL_89c67586b14b4a9eb430320e22805e2b"
      }
     },
     "4c39f3060ff348c9b433dfa86a8512d4": {
      "model_module": "@jupyter-widgets/controls",
      "model_module_version": "1.2.0",
      "model_name": "ButtonStyleModel",
      "state": {}
     },
     "4c55b1cdbb564860935b57000f7ae9db": {
      "model_module": "@jupyter-widgets/controls",
      "model_module_version": "1.2.0",
      "model_name": "ButtonModel",
      "state": {
       "layout": "IPY_MODEL_bca42cda5863431094ba3b2b4642113f",
       "style": "IPY_MODEL_986dbeb4fc3e44629a3e60b7c3913085"
      }
     },
     "4c6123db099e4753855187fc77cdc0a9": {
      "model_module": "@jupyter-widgets/controls",
      "model_module_version": "1.2.0",
      "model_name": "ButtonModel",
      "state": {
       "layout": "IPY_MODEL_0f8fab5875984054a7f4d69598255738",
       "style": "IPY_MODEL_fff6b60058f9436cbc9a415c53c6c4fc"
      }
     },
     "4c8cda22562a4c0f8ca396bbf334868f": {
      "model_module": "@jupyter-widgets/base",
      "model_module_version": "1.0.0",
      "model_name": "LayoutModel",
      "state": {}
     },
     "4c8f630c291e4951ab04f514ef25d326": {
      "model_module": "@jupyter-widgets/controls",
      "model_module_version": "1.2.0",
      "model_name": "ButtonStyleModel",
      "state": {}
     },
     "4c9ef1ad4449400098c4bf37c6e047c6": {
      "model_module": "@jupyter-widgets/controls",
      "model_module_version": "1.2.0",
      "model_name": "TextareaModel",
      "state": {
       "layout": "IPY_MODEL_883b97aebbdc4a208fe78dd19deed32e",
       "style": "IPY_MODEL_f8d5295c8bc742dabebd654a3101898b"
      }
     },
     "4cd5ee52b346488199304aaae0666867": {
      "model_module": "@jupyter-widgets/controls",
      "model_module_version": "1.2.0",
      "model_name": "ButtonStyleModel",
      "state": {
       "button_color": "blue"
      }
     },
     "4cdcc5581254463382f1a02765d63c87": {
      "model_module": "@jupyter-widgets/controls",
      "model_module_version": "1.2.0",
      "model_name": "ButtonModel",
      "state": {
       "layout": "IPY_MODEL_a5aafc5fec484d77a39f715c3d1a1587",
       "style": "IPY_MODEL_07ced018d79b48bf9ac2e2dc0eb40a02"
      }
     },
     "4d209b7dcc3841c189e9eed7f75f8fab": {
      "model_module": "@jupyter-widgets/controls",
      "model_module_version": "1.2.0",
      "model_name": "ButtonStyleModel",
      "state": {}
     },
     "4d404eaaf9dc401e9436dc9943c90e7d": {
      "model_module": "@jupyter-widgets/base",
      "model_module_version": "1.0.0",
      "model_name": "LayoutModel",
      "state": {
       "grid_template": "'\n    auto / auto auto auto auto auto\n    "
      }
     },
     "4d53052a4a3c4ea08b4ae8a0f20ff0ac": {
      "model_module": "@jupyter-widgets/base",
      "model_module_version": "1.0.0",
      "model_name": "LayoutModel",
      "state": {}
     },
     "4d5b6011eb0d4caebf1fecff1f77afca": {
      "model_module": "@jupyter-widgets/controls",
      "model_module_version": "1.2.0",
      "model_name": "ButtonModel",
      "state": {
       "layout": "IPY_MODEL_4d53052a4a3c4ea08b4ae8a0f20ff0ac",
       "style": "IPY_MODEL_85eded20f3594a4da38c625b30f5d90f"
      }
     },
     "4d75dfde48b945258926c32b9026c0dc": {
      "model_module": "@jupyter-widgets/controls",
      "model_module_version": "1.2.0",
      "model_name": "ButtonModel",
      "state": {
       "layout": "IPY_MODEL_504cfac8b43c4c8eb05668d860dea50b",
       "style": "IPY_MODEL_f21c98a20e7943278aef53135556f064"
      }
     },
     "4d7ef639633d4b2a922078a2b13250a2": {
      "model_module": "@jupyter-widgets/controls",
      "model_module_version": "1.2.0",
      "model_name": "GridBoxModel",
      "state": {
       "children": [
        "IPY_MODEL_9e4814d465534051af2b547f31f6ebc9",
        "IPY_MODEL_f8f45aa8fb9642dc9fef2261bd1eb2e6",
        "IPY_MODEL_b3597526d7664958adc5433fca4ee062",
        "IPY_MODEL_467d07b2d1774b0a88dfe8800b420419"
       ],
       "layout": "IPY_MODEL_185d93ce08ae4cdcae0d7508273cbf5c"
      }
     },
     "4d9046e4e4de4f799227b0054ab2cb63": {
      "model_module": "@jupyter-widgets/controls",
      "model_module_version": "1.2.0",
      "model_name": "IntSliderModel",
      "state": {
       "layout": "IPY_MODEL_65b4c11194ab4beea69006c1404e8681",
       "max": 60,
       "min": 40,
       "style": "IPY_MODEL_442d24c6ed8b479fb45825d4e1e1c53b",
       "value": 40
      }
     },
     "4dadb9a37ece4052b418594dddf23ee6": {
      "model_module": "@jupyter-widgets/controls",
      "model_module_version": "1.2.0",
      "model_name": "ButtonModel",
      "state": {
       "layout": "IPY_MODEL_1c81b91358154c19ab0e8986a32d5733",
       "style": "IPY_MODEL_7bef9ab855874ab4bf4991e176473816"
      }
     },
     "4db9ed19a7e543018cd1e65923b903fa": {
      "model_module": "@jupyter-widgets/base",
      "model_module_version": "1.0.0",
      "model_name": "LayoutModel",
      "state": {
       "align_items": "stretch",
       "display": "flex",
       "flex_flow": "row",
       "width": "70%"
      }
     },
     "4dc4f6cde2a84c79a19e269190197406": {
      "model_module": "@jupyter-widgets/controls",
      "model_module_version": "1.2.0",
      "model_name": "ButtonStyleModel",
      "state": {}
     },
     "4dc73b6c797543af883bcf21a609d85c": {
      "model_module": "@jupyter-widgets/controls",
      "model_module_version": "1.2.0",
      "model_name": "ButtonModel",
      "state": {
       "button_style": "warning",
       "description": "17",
       "layout": "IPY_MODEL_e20ec9c5c01e485bbfa90160b80eb8f4",
       "style": "IPY_MODEL_28689da201194f99bddd831d47a39ba2"
      }
     },
     "4dcd9e30ae80452ca544e4736971c6e2": {
      "model_module": "@jupyter-widgets/controls",
      "model_module_version": "1.2.0",
      "model_name": "ButtonStyleModel",
      "state": {}
     },
     "4de0d1ae9ee94232b3ff95fb46ec6aba": {
      "model_module": "@jupyter-widgets/controls",
      "model_module_version": "1.2.0",
      "model_name": "ButtonModel",
      "state": {
       "layout": "IPY_MODEL_dddc482ee42c496ab9986f5ee610bb9f",
       "style": "IPY_MODEL_b7fa459955c948709b99acdb2ad6e81b"
      }
     },
     "4e08a30c6fe24d54871fd529d95be081": {
      "model_module": "@jupyter-widgets/controls",
      "model_module_version": "1.2.0",
      "model_name": "ButtonStyleModel",
      "state": {
       "button_color": "blue"
      }
     },
     "4e18a05275f746ce8aac88e5e4a459d9": {
      "model_module": "@jupyter-widgets/controls",
      "model_module_version": "1.2.0",
      "model_name": "ButtonModel",
      "state": {
       "layout": "IPY_MODEL_a5aafc5fec484d77a39f715c3d1a1587",
       "style": "IPY_MODEL_d4a12f8eb76d416ab4ac365157ff8587"
      }
     },
     "4e22ea5161bc4c0c95a2076b845620ea": {
      "model_module": "@jupyter-widgets/base",
      "model_module_version": "1.0.0",
      "model_name": "LayoutModel",
      "state": {}
     },
     "4e3cb3fd481e486eb5377c40b31eb75f": {
      "model_module": "@jupyter-widgets/controls",
      "model_module_version": "1.2.0",
      "model_name": "ButtonModel",
      "state": {
       "layout": "IPY_MODEL_9a5bfd31f11548d6af73683d0b8fcf4f",
       "style": "IPY_MODEL_fdbed6cb32b8422ebbe416e1fe8bc68c"
      }
     },
     "4e77966225b340fcada10948f3b7386c": {
      "model_module": "@jupyter-widgets/base",
      "model_module_version": "1.0.0",
      "model_name": "LayoutModel",
      "state": {
       "width": "auto"
      }
     },
     "4e96bccc928f4dc49b30ef34404ffad1": {
      "model_module": "@jupyter-widgets/controls",
      "model_module_version": "1.2.0",
      "model_name": "ButtonModel",
      "state": {
       "layout": "IPY_MODEL_8dcf38172317467a81187686ca3132ec",
       "style": "IPY_MODEL_b9f5abc919074d178b2df3f57523d725"
      }
     },
     "4e9d5228df5e499399e760da49271608": {
      "model_module": "@jupyter-widgets/controls",
      "model_module_version": "1.2.0",
      "model_name": "ButtonModel",
      "state": {
       "layout": "IPY_MODEL_2bdfdf76c0e14eebaddf584bf14e9325",
       "style": "IPY_MODEL_3b3de82328554999a0785a8251c06da2"
      }
     },
     "4ebb89d167944c8c803dd4f3a070c59e": {
      "model_module": "@jupyter-widgets/controls",
      "model_module_version": "1.2.0",
      "model_name": "ButtonModel",
      "state": {
       "layout": "IPY_MODEL_706d95b63d0144b6a672412f3a219036",
       "style": "IPY_MODEL_ae77bd90400246eda5af5e75b3d68c8c"
      }
     },
     "4ebd944a92744199be5f1ae9bb5a4921": {
      "model_module": "@jupyter-widgets/base",
      "model_module_version": "1.0.0",
      "model_name": "LayoutModel",
      "state": {
       "height": "auto",
       "width": "auto"
      }
     },
     "4ec062e6612647ba84f66ae3eddf0f28": {
      "model_module": "@jupyter-widgets/controls",
      "model_module_version": "1.2.0",
      "model_name": "ButtonStyleModel",
      "state": {}
     },
     "4ed4c9ec5e1c40ebb5f03342a140f9d0": {
      "model_module": "@jupyter-widgets/base",
      "model_module_version": "1.0.0",
      "model_name": "LayoutModel",
      "state": {}
     },
     "4eec5a71624d44e2b17d4798b42513cc": {
      "model_module": "@jupyter-widgets/controls",
      "model_module_version": "1.2.0",
      "model_name": "VBoxModel",
      "state": {
       "children": [
        "IPY_MODEL_246693d208c349baa252962099104e02",
        "IPY_MODEL_0b28acc339f54dddb6e66bf1f794a5c9"
       ],
       "layout": "IPY_MODEL_30da614d725647fb98b8f9a157eaaa96"
      }
     },
     "4ef0ac13a69347be9e4c04a935875773": {
      "model_module": "@jupyter-widgets/base",
      "model_module_version": "1.0.0",
      "model_name": "LayoutModel",
      "state": {}
     },
     "4f24154102e24bc893a189eaf1674314": {
      "model_module": "@jupyter-widgets/controls",
      "model_module_version": "1.2.0",
      "model_name": "ButtonModel",
      "state": {
       "layout": "IPY_MODEL_3e4e67e55d064e8fa34459e3fd93622d",
       "style": "IPY_MODEL_9d4c8498e0ad4ae5aee853d82b057db5"
      }
     },
     "4f2fd907fadf4bc1bec4f32041b8fc05": {
      "model_module": "@jupyter-widgets/controls",
      "model_module_version": "1.2.0",
      "model_name": "ButtonStyleModel",
      "state": {}
     },
     "4f383f9867b54dfbb79f388b9a31f92c": {
      "model_module": "@jupyter-widgets/controls",
      "model_module_version": "1.2.0",
      "model_name": "ButtonModel",
      "state": {
       "button_style": "warning",
       "description": "17",
       "layout": "IPY_MODEL_79e6f20409fa4963aff904a921b6d604",
       "style": "IPY_MODEL_4ec062e6612647ba84f66ae3eddf0f28"
      }
     },
     "4f40a7bbdeca4eebb4f0badab47e7823": {
      "model_module": "@jupyter-widgets/controls",
      "model_module_version": "1.2.0",
      "model_name": "ButtonStyleModel",
      "state": {}
     },
     "4f65be82889b4c629cef3154e1bfdaec": {
      "model_module": "@jupyter-widgets/controls",
      "model_module_version": "1.2.0",
      "model_name": "ButtonStyleModel",
      "state": {}
     },
     "4f7f85fed72b4cb6afa653e560abb7b3": {
      "model_module": "@jupyter-widgets/controls",
      "model_module_version": "1.2.0",
      "model_name": "GridBoxModel",
      "state": {
       "children": [
        "IPY_MODEL_233bf5bb5a0d43ed95ee365b40ac3887",
        "IPY_MODEL_8584543e127c4d52b65805e14ca9f7cd",
        "IPY_MODEL_18f7138a192847d99e0cbef15a1738b7",
        "IPY_MODEL_301daa6de09c427fbeac185d161ddafc",
        "IPY_MODEL_202cb4a0d88348e984c566e7c0a3c3e7",
        "IPY_MODEL_56463b64448f4805bbc6fa355fbb404f",
        "IPY_MODEL_7a5191a2d3104666aa6320dae2f04eb1",
        "IPY_MODEL_31954405368e4632ad181254f1261dfd"
       ],
       "layout": "IPY_MODEL_86098b8f040248c18c362d243f3259ab"
      }
     },
     "4fedd72b744e42be85a3d1ac651cebac": {
      "model_module": "@jupyter-widgets/controls",
      "model_module_version": "1.2.0",
      "model_name": "ButtonModel",
      "state": {
       "button_style": "warning",
       "description": "16",
       "layout": "IPY_MODEL_963f958a6a3049a3b012ec8484fb898f",
       "style": "IPY_MODEL_b5a38988704e46ee83b51e2f79037200"
      }
     },
     "4ff78da38a5246f19ccff110ec2434ea": {
      "model_module": "@jupyter-widgets/controls",
      "model_module_version": "1.2.0",
      "model_name": "ButtonModel",
      "state": {
       "button_style": "warning",
       "description": "37",
       "layout": "IPY_MODEL_79e6f20409fa4963aff904a921b6d604",
       "style": "IPY_MODEL_f2c79e6c47f1489caa2c0585d5fa4f70"
      }
     },
     "5016ce2c9bd44a26a3ae23b7e35e46e6": {
      "model_module": "@jupyter-widgets/controls",
      "model_module_version": "1.2.0",
      "model_name": "ButtonModel",
      "state": {
       "layout": "IPY_MODEL_37d5cc2c9bd3481093a14fea6ca5350e",
       "style": "IPY_MODEL_bf7e1d0be0af476abf1ae5022ac82f89"
      }
     },
     "501a7a15c8e44907b542f0666f9047cc": {
      "model_module": "@jupyter-widgets/controls",
      "model_module_version": "1.2.0",
      "model_name": "ButtonModel",
      "state": {
       "layout": "IPY_MODEL_9e780f2e6b5840b9953a4aeb59a2b445",
       "style": "IPY_MODEL_0ff8e3ea0a6e4f5a9ed21c94c4ed7769"
      }
     },
     "503d9b2f2ebb45f5afe7b0282af17075": {
      "model_module": "@jupyter-widgets/controls",
      "model_module_version": "1.2.0",
      "model_name": "ButtonModel",
      "state": {
       "layout": "IPY_MODEL_35e07d15f5c14904936c5a43ba07b967",
       "style": "IPY_MODEL_1673d8f531cc4de896081401b82004e9"
      }
     },
     "504cfac8b43c4c8eb05668d860dea50b": {
      "model_module": "@jupyter-widgets/base",
      "model_module_version": "1.0.0",
      "model_name": "LayoutModel",
      "state": {
       "height": "auto",
       "width": "auto"
      }
     },
     "50837b4535744be1830f7416c1467ba3": {
      "model_module": "@jupyter-widgets/controls",
      "model_module_version": "1.2.0",
      "model_name": "ButtonStyleModel",
      "state": {}
     },
     "50a86bb15f75421b9c2adaab2084ec0b": {
      "model_module": "@jupyter-widgets/controls",
      "model_module_version": "1.2.0",
      "model_name": "BoxModel",
      "state": {
       "children": [
        "IPY_MODEL_6d62b54d45f3439aa15e50fc4533aeb8",
        "IPY_MODEL_05917192c0924ee1a83f4a69cbd1b3a7"
       ],
       "layout": "IPY_MODEL_7ff7d1de92da4cc68956d6d8aa1d002a"
      }
     },
     "50d40dfd1f73480680723399a8e6981c": {
      "model_module": "@jupyter-widgets/controls",
      "model_module_version": "1.2.0",
      "model_name": "ButtonStyleModel",
      "state": {}
     },
     "5116505f9d9144babce0c13f1e8a8631": {
      "model_module": "@jupyter-widgets/controls",
      "model_module_version": "1.2.0",
      "model_name": "ButtonStyleModel",
      "state": {}
     },
     "51796c2f3f3442339d2b29c27d1fe10e": {
      "model_module": "@jupyter-widgets/controls",
      "model_module_version": "1.2.0",
      "model_name": "ButtonStyleModel",
      "state": {}
     },
     "51b3382ea39e44d4b0dc9eef71e15e85": {
      "model_module": "@jupyter-widgets/controls",
      "model_module_version": "1.2.0",
      "model_name": "ButtonStyleModel",
      "state": {}
     },
     "51ddcf490f9644238c94c25c166c4c43": {
      "model_module": "@jupyter-widgets/controls",
      "model_module_version": "1.2.0",
      "model_name": "ButtonStyleModel",
      "state": {}
     },
     "51f92b2e74b741cda4eea01eab1d9bc3": {
      "model_module": "@jupyter-widgets/controls",
      "model_module_version": "1.2.0",
      "model_name": "ButtonStyleModel",
      "state": {}
     },
     "52068671a1bf4bbbac218dd6eb9d0a9f": {
      "model_module": "@jupyter-widgets/controls",
      "model_module_version": "1.2.0",
      "model_name": "ButtonStyleModel",
      "state": {
       "button_color": "blue"
      }
     },
     "521c126293aa45f4a668c447f3fb07c1": {
      "model_module": "@jupyter-widgets/controls",
      "model_module_version": "1.2.0",
      "model_name": "BoxModel",
      "state": {
       "children": [
        "IPY_MODEL_c707e8e6fbb3439e8b032e4564a8729e",
        "IPY_MODEL_fe6d89dc73ba44b1a0ad4b70c88accce",
        "IPY_MODEL_865aa5c886d945e69e0e6013039f05c8"
       ],
       "layout": "IPY_MODEL_f4563fc070fb4fedaff224e2c1e94d71"
      }
     },
     "522914fff0fc4d78bb0ed987b2ef4c3a": {
      "model_module": "@jupyter-widgets/base",
      "model_module_version": "1.0.0",
      "model_name": "LayoutModel",
      "state": {}
     },
     "5293fa7da8054ed3a17266478ee57864": {
      "model_module": "@jupyter-widgets/base",
      "model_module_version": "1.0.0",
      "model_name": "LayoutModel",
      "state": {
       "flex": "3 1 0%",
       "width": "auto"
      }
     },
     "529c6d814a0d4f6aa72449ceed5ca9f6": {
      "model_module": "@jupyter-widgets/controls",
      "model_module_version": "1.2.0",
      "model_name": "ButtonStyleModel",
      "state": {
       "button_color": "darkseagreen"
      }
     },
     "52cc1216664b4895941f33f40955e5ef": {
      "model_module": "@jupyter-widgets/base",
      "model_module_version": "1.0.0",
      "model_name": "LayoutModel",
      "state": {}
     },
     "52ecb5ecf5d543718d552a52bc7f6538": {
      "model_module": "@jupyter-widgets/controls",
      "model_module_version": "1.2.0",
      "model_name": "ButtonModel",
      "state": {
       "layout": "IPY_MODEL_d6fbbd64d0574007be10cdc52884a613",
       "style": "IPY_MODEL_4e08a30c6fe24d54871fd529d95be081"
      }
     },
     "52f6e6a024294d84a7308c1ff18833e0": {
      "model_module": "@jupyter-widgets/controls",
      "model_module_version": "1.2.0",
      "model_name": "ButtonStyleModel",
      "state": {}
     },
     "536c9b5878ea4f26a37db8d4868eed2d": {
      "model_module": "@jupyter-widgets/controls",
      "model_module_version": "1.2.0",
      "model_name": "ButtonModel",
      "state": {
       "layout": "IPY_MODEL_3d81651a297740e381ac147d7c10fcbe",
       "style": "IPY_MODEL_08b6ebdb0e1b41548f19ae9890385433"
      }
     },
     "53896ef3cef548b78ccce42c5f9a47ae": {
      "model_module": "@jupyter-widgets/controls",
      "model_module_version": "1.2.0",
      "model_name": "SliderStyleModel",
      "state": {
       "description_width": ""
      }
     },
     "538c9a6c729949288dbd1d48e259eba5": {
      "model_module": "@jupyter-widgets/controls",
      "model_module_version": "1.2.0",
      "model_name": "ButtonStyleModel",
      "state": {}
     },
     "53a3820ed8cc42cf9ae314bbc2c570cb": {
      "model_module": "@jupyter-widgets/controls",
      "model_module_version": "1.2.0",
      "model_name": "ButtonStyleModel",
      "state": {}
     },
     "53a386cb38134cabab504f2696fb2c1b": {
      "model_module": "@jupyter-widgets/controls",
      "model_module_version": "1.2.0",
      "model_name": "ButtonModel",
      "state": {
       "layout": "IPY_MODEL_2bdfdf76c0e14eebaddf584bf14e9325",
       "style": "IPY_MODEL_816dac90143c42308015bd8697789bad"
      }
     },
     "53d06b4d5ea044eab24ffa2973b27b46": {
      "model_module": "@jupyter-widgets/base",
      "model_module_version": "1.0.0",
      "model_name": "LayoutModel",
      "state": {
       "align_items": "stretch",
       "border": "solid 2px",
       "display": "flex",
       "flex_flow": "column",
       "width": "50%"
      }
     },
     "53d26e5bebc343ccb642bfa205696668": {
      "model_module": "@jupyter-widgets/controls",
      "model_module_version": "1.2.0",
      "model_name": "ButtonModel",
      "state": {
       "layout": "IPY_MODEL_216e771000e440fea088424dae98bc76",
       "style": "IPY_MODEL_641b7e8788ad4bfe867408bf549fabf9"
      }
     },
     "53f300df01544947b1c9ea98caa65f90": {
      "model_module": "@jupyter-widgets/controls",
      "model_module_version": "1.2.0",
      "model_name": "ButtonModel",
      "state": {
       "button_style": "warning",
       "description": "23",
       "layout": "IPY_MODEL_16df380d38fb47a2bbb217b953037b65",
       "style": "IPY_MODEL_77e91d46035144228324d73e8dba9152"
      }
     },
     "540ee0c9af1b446687453a3f2d6b8f26": {
      "model_module": "@jupyter-widgets/controls",
      "model_module_version": "1.2.0",
      "model_name": "ButtonModel",
      "state": {
       "layout": "IPY_MODEL_0f8fab5875984054a7f4d69598255738",
       "style": "IPY_MODEL_696702df407d4e5cb1046cefccb0c4db"
      }
     },
     "5435088ba7a54f118025de5bc236ea42": {
      "model_module": "@jupyter-widgets/controls",
      "model_module_version": "1.2.0",
      "model_name": "ButtonStyleModel",
      "state": {}
     },
     "543731288331413bbb7ea7fe400cdf96": {
      "model_module": "@jupyter-widgets/controls",
      "model_module_version": "1.2.0",
      "model_name": "ButtonModel",
      "state": {
       "button_style": "warning",
       "description": "24",
       "layout": "IPY_MODEL_d2db15f9d1834946bd4923f3faf2a54f",
       "style": "IPY_MODEL_b17a7d60ef394e409e56ca93d5119ace"
      }
     },
     "5455270e10e34c2daf6e6374ffc230a9": {
      "model_module": "@jupyter-widgets/controls",
      "model_module_version": "1.2.0",
      "model_name": "SliderStyleModel",
      "state": {
       "description_width": ""
      }
     },
     "545f77da3e094d8c9fcbfd99443416b9": {
      "model_module": "@jupyter-widgets/controls",
      "model_module_version": "1.2.0",
      "model_name": "ButtonModel",
      "state": {
       "description": "battery",
       "layout": "IPY_MODEL_2f96eceb67ea4655bcd0987cc1c3d0ee",
       "style": "IPY_MODEL_a08ccc454a044ba395141e9d781b64b6"
      }
     },
     "5460a4acedc94f2390817a1abe6f516a": {
      "model_module": "@jupyter-widgets/controls",
      "model_module_version": "1.2.0",
      "model_name": "DescriptionStyleModel",
      "state": {
       "description_width": ""
      }
     },
     "547011a8930c46bb86f68c37a68295b7": {
      "model_module": "@jupyter-widgets/controls",
      "model_module_version": "1.2.0",
      "model_name": "IntSliderModel",
      "state": {
       "description": "Blue handle",
       "layout": "IPY_MODEL_25a74c455053473f87b6cf8c34eb5e81",
       "style": "IPY_MODEL_ad6bf4b5200544c589bf26cfb49111ac"
      }
     },
     "548cb84427044a3d8e6dc7618180c490": {
      "model_module": "@jupyter-widgets/controls",
      "model_module_version": "1.2.0",
      "model_name": "ButtonModel",
      "state": {
       "button_style": "danger",
       "description": "Danger Button",
       "layout": "IPY_MODEL_3b448c7d787347feb7fe1f36c0071892",
       "style": "IPY_MODEL_665461c5bf6b41a79358fb2cc1e0e844"
      }
     },
     "54937a8221254d9a8be641691652be42": {
      "model_module": "@jupyter-widgets/controls",
      "model_module_version": "1.2.0",
      "model_name": "ButtonModel",
      "state": {
       "layout": "IPY_MODEL_4395f8cc3a7e40ec8cfb8a9925f5baba",
       "style": "IPY_MODEL_ba3524c819514585913356276fa06cbe"
      }
     },
     "54dc1791cb77472c8ca601c93d0b0fe1": {
      "model_module": "@jupyter-widgets/base",
      "model_module_version": "1.0.0",
      "model_name": "LayoutModel",
      "state": {
       "height": "60px",
       "width": "auto"
      }
     },
     "54e9f465e0914018aedcf6f0d49a5ee1": {
      "model_module": "@jupyter-widgets/controls",
      "model_module_version": "1.2.0",
      "model_name": "ButtonModel",
      "state": {
       "button_style": "warning",
       "description": "39",
       "layout": "IPY_MODEL_16df380d38fb47a2bbb217b953037b65",
       "style": "IPY_MODEL_45a37a204f9f4edc8917d60ce9ca0a4b"
      }
     },
     "54f86dba31c04256a267e185836ced48": {
      "model_module": "@jupyter-widgets/controls",
      "model_module_version": "1.2.0",
      "model_name": "ButtonModel",
      "state": {
       "layout": "IPY_MODEL_a5aa6632ee0941a6b7fceba69dcb9eb3",
       "style": "IPY_MODEL_6c8b1af7eb684fa585ab4771a9f698cd"
      }
     },
     "550031bbd22540a68893993f5f1a7e24": {
      "model_module": "@jupyter-widgets/controls",
      "model_module_version": "1.2.0",
      "model_name": "GridBoxModel",
      "state": {
       "children": [
        "IPY_MODEL_a33ee0ae4b614bb0a686e2c6a4bed656",
        "IPY_MODEL_3caceecfb73646579727e4634b03fd2f",
        "IPY_MODEL_686d4e34c9b943d8aaa8b169858fa0a3",
        "IPY_MODEL_6a3d6e9869af4c2a876f0c5d84175b67",
        "IPY_MODEL_5e52806666dd428f912b786bcb8fa7b3",
        "IPY_MODEL_4d5b6011eb0d4caebf1fecff1f77afca",
        "IPY_MODEL_2c52277e6bfb4732b97c34ea2e4b93da",
        "IPY_MODEL_257da8e04e8f4f99b31ffe43c3a795fb",
        "IPY_MODEL_7dd688840a0b406a86e4460178ba0d4f",
        "IPY_MODEL_12d9d7a0f4424aab903186a18a71866b"
       ],
       "layout": "IPY_MODEL_b62ad9f0ec2b4279b56a417792586b78"
      }
     },
     "5530ba97cbdf46f5852d705872af19ab": {
      "model_module": "@jupyter-widgets/base",
      "model_module_version": "1.0.0",
      "model_name": "LayoutModel",
      "state": {
       "grid_gap": "4px 4px",
       "grid_template": "50px 100px / 25% 10% auto 200px"
      }
     },
     "554d94339fc146f6856658cd9d65a924": {
      "model_module": "@jupyter-widgets/controls",
      "model_module_version": "1.2.0",
      "model_name": "ButtonModel",
      "state": {
       "button_style": "warning",
       "description": "26",
       "layout": "IPY_MODEL_d2db15f9d1834946bd4923f3faf2a54f",
       "style": "IPY_MODEL_4dcd9e30ae80452ca544e4736971c6e2"
      }
     },
     "55702fb0fff5483e8384db55c5eabcda": {
      "model_module": "@jupyter-widgets/controls",
      "model_module_version": "1.2.0",
      "model_name": "ButtonModel",
      "state": {
       "layout": "IPY_MODEL_3ee33ef73484447eacd6651d43b68f93",
       "style": "IPY_MODEL_0f05846806bb49de9494f1dc09ccf8c9"
      }
     },
     "5587be8c3951486ca49672f1a52f6332": {
      "model_module": "@jupyter-widgets/controls",
      "model_module_version": "1.2.0",
      "model_name": "ButtonModel",
      "state": {
       "layout": "IPY_MODEL_13e0059cd680446a8dbed4b733138cf5",
       "style": "IPY_MODEL_62970e40a51d4456bef4bf5ba64f5b65"
      }
     },
     "55c7c3b893254c838fe06f6d0ddb3700": {
      "model_module": "@jupyter-widgets/controls",
      "model_module_version": "1.2.0",
      "model_name": "ButtonModel",
      "state": {
       "layout": "IPY_MODEL_3e4e67e55d064e8fa34459e3fd93622d",
       "style": "IPY_MODEL_9d4c8498e0ad4ae5aee853d82b057db5"
      }
     },
     "55cf90b894644948a4bd4b8138a23bbf": {
      "model_module": "@jupyter-widgets/base",
      "model_module_version": "1.0.0",
      "model_name": "LayoutModel",
      "state": {
       "flex": "3 1 0%",
       "width": "auto"
      }
     },
     "563c6d5a31b94c2381fe88772acd18cc": {
      "model_module": "@jupyter-widgets/base",
      "model_module_version": "1.0.0",
      "model_name": "LayoutModel",
      "state": {}
     },
     "56463b64448f4805bbc6fa355fbb404f": {
      "model_module": "@jupyter-widgets/controls",
      "model_module_version": "1.2.0",
      "model_name": "ButtonModel",
      "state": {
       "layout": "IPY_MODEL_7b1a8b8157674b6bb054cc6c62227c65",
       "style": "IPY_MODEL_7a4b0b23817b4a94bc467a67e82faecb"
      }
     },
     "565139962b3d4e649196117c6d0aff52": {
      "model_module": "@jupyter-widgets/controls",
      "model_module_version": "1.2.0",
      "model_name": "ButtonStyleModel",
      "state": {}
     },
     "567481646e744fcc8816cbb12be4d228": {
      "model_module": "@jupyter-widgets/controls",
      "model_module_version": "1.2.0",
      "model_name": "ButtonModel",
      "state": {
       "layout": "IPY_MODEL_3d81651a297740e381ac147d7c10fcbe",
       "style": "IPY_MODEL_d6c58f10c9db4646a63dad2d7571553f"
      }
     },
     "567c1d3c26054c59ab69ba9fc026f2ec": {
      "model_module": "@jupyter-widgets/controls",
      "model_module_version": "1.2.0",
      "model_name": "DescriptionStyleModel",
      "state": {
       "description_width": ""
      }
     },
     "567e1a416acc4f0bbd4896e25a1a402b": {
      "model_module": "@jupyter-widgets/controls",
      "model_module_version": "1.2.0",
      "model_name": "VBoxModel",
      "state": {
       "children": [
        "IPY_MODEL_8439abd31fed468683220a74639e2b13",
        "IPY_MODEL_4b5f47909cf74f4a884af7b362ee83e0"
       ],
       "layout": "IPY_MODEL_c734c563f22c4b6997e54bf405e3bb93"
      }
     },
     "56bdfb78167b4d7a98dacd7068afc244": {
      "model_module": "@jupyter-widgets/controls",
      "model_module_version": "1.2.0",
      "model_name": "ButtonModel",
      "state": {
       "layout": "IPY_MODEL_027edf707eb9494cb0a1e0da0d528b12",
       "style": "IPY_MODEL_49a4448ddd624ab789974ae426a292fd"
      }
     },
     "56cc694ec666411da8258af770108b82": {
      "model_module": "@jupyter-widgets/controls",
      "model_module_version": "1.2.0",
      "model_name": "ButtonModel",
      "state": {
       "layout": "IPY_MODEL_5f93039a824040f6892c5a36aa5b0393",
       "style": "IPY_MODEL_405d02fcf802454891b4faae811c9e7f"
      }
     },
     "56d07cbfc07f4cc1aadbb2418d5d85da": {
      "model_module": "@jupyter-widgets/controls",
      "model_module_version": "1.2.0",
      "model_name": "ButtonStyleModel",
      "state": {}
     },
     "56e2345399464eb0a6d21b2501174e40": {
      "model_module": "@jupyter-widgets/controls",
      "model_module_version": "1.2.0",
      "model_name": "ButtonStyleModel",
      "state": {}
     },
     "56ee2df8295a4d99913f1b2b0fdfb8ef": {
      "model_module": "@jupyter-widgets/controls",
      "model_module_version": "1.2.0",
      "model_name": "LabelModel",
      "state": {
       "layout": "IPY_MODEL_a7f496fc16374795b2a5982c49168579",
       "style": "IPY_MODEL_adaaa132bc7143458a3876a7eb33263c",
       "value": "Age of the captain"
      }
     },
     "5713e07a77c1441183703954431aff4a": {
      "model_module": "@jupyter-widgets/controls",
      "model_module_version": "1.2.0",
      "model_name": "GridBoxModel",
      "state": {
       "children": [
        "IPY_MODEL_8cdfed7e4c75447b886a1f3104cd7516",
        "IPY_MODEL_c3669415dadc456e8837b96103f72720",
        "IPY_MODEL_37eb675779524be9b3a54647ad1bfd3d",
        "IPY_MODEL_79985d92e88f4e038e88595543062129",
        "IPY_MODEL_10274125bcd0460bb9aa43e06a5bd955",
        "IPY_MODEL_ff93e91f1f2943f09807b58081440713",
        "IPY_MODEL_c2ccee1d3dc444fe8231e665216a71fa",
        "IPY_MODEL_3058673c57434c1ca945582b909cea1a"
       ],
       "layout": "IPY_MODEL_8a322a8fd7824fedb8ca789384382702"
      }
     },
     "571e075939904f4da795f2cbcc4f8bb2": {
      "model_module": "@jupyter-widgets/base",
      "model_module_version": "1.0.0",
      "model_name": "LayoutModel",
      "state": {}
     },
     "574729ba599a4b9cb467d339a82803e2": {
      "model_module": "@jupyter-widgets/controls",
      "model_module_version": "1.2.0",
      "model_name": "ButtonModel",
      "state": {
       "button_style": "warning",
       "description": "36",
       "layout": "IPY_MODEL_16df380d38fb47a2bbb217b953037b65",
       "style": "IPY_MODEL_ef64576821bd4913988d58102c67ff80"
      }
     },
     "5770d62c46524e26bebd4979fcd4506c": {
      "model_module": "@jupyter-widgets/base",
      "model_module_version": "1.0.0",
      "model_name": "LayoutModel",
      "state": {}
     },
     "577f20f1c45b48689d2a36df593e89aa": {
      "model_module": "@jupyter-widgets/controls",
      "model_module_version": "1.2.0",
      "model_name": "ButtonStyleModel",
      "state": {
       "button_color": "blue"
      }
     },
     "579bbf4511aa44299f2206264c17cf5a": {
      "model_module": "@jupyter-widgets/controls",
      "model_module_version": "1.2.0",
      "model_name": "ButtonStyleModel",
      "state": {}
     },
     "57b21e5b6ad24909a9dbabc3471e93ce": {
      "model_module": "@jupyter-widgets/controls",
      "model_module_version": "1.2.0",
      "model_name": "ButtonModel",
      "state": {
       "button_style": "warning",
       "description": "22",
       "layout": "IPY_MODEL_a810a994ec8c404f8136c2e39def56aa",
       "style": "IPY_MODEL_7294f4e8a59a453991f0cf9bcdbfe678"
      }
     },
     "57dbb99895504be9a5f182b7da48dc5f": {
      "model_module": "@jupyter-widgets/controls",
      "model_module_version": "1.2.0",
      "model_name": "ButtonStyleModel",
      "state": {}
     },
     "5807a72b2abc44249efce18aa262ce00": {
      "model_module": "@jupyter-widgets/controls",
      "model_module_version": "1.2.0",
      "model_name": "BoxModel",
      "state": {
       "children": [
        "IPY_MODEL_d51da245ce374b39b3df1461a1fcce34",
        "IPY_MODEL_33fbea7b681742238100a813caaccab0"
       ],
       "layout": "IPY_MODEL_25e005c687cf45b18e91e45143669dde"
      }
     },
     "580e32ff5e3640bb8e224cc4981fcfb2": {
      "model_module": "@jupyter-widgets/controls",
      "model_module_version": "1.2.0",
      "model_name": "ButtonModel",
      "state": {
       "layout": "IPY_MODEL_01a14506c325415b96aee77af69b4ca8",
       "style": "IPY_MODEL_a754a327e8d24b4a91f6a7e2d61f927e"
      }
     },
     "5818d182ac3747c995b17a983e7ee679": {
      "model_module": "@jupyter-widgets/controls",
      "model_module_version": "1.2.0",
      "model_name": "ButtonModel",
      "state": {
       "layout": "IPY_MODEL_a997cf87cb444be1a8febdf657c22511",
       "style": "IPY_MODEL_f2ed947974eb4d5781056816094f24a4"
      }
     },
     "581ab423d60c45ada854da12cc7f4c39": {
      "model_module": "@jupyter-widgets/controls",
      "model_module_version": "1.2.0",
      "model_name": "ButtonStyleModel",
      "state": {}
     },
     "58346f20a2c04c49a17074c235816d23": {
      "model_module": "@jupyter-widgets/controls",
      "model_module_version": "1.2.0",
      "model_name": "ButtonStyleModel",
      "state": {}
     },
     "5835d99d78444391900bdde94dad816d": {
      "model_module": "@jupyter-widgets/controls",
      "model_module_version": "1.2.0",
      "model_name": "ButtonStyleModel",
      "state": {
       "button_color": "#77A"
      }
     },
     "584b9b0636774c2883d05998dbc98701": {
      "model_module": "@jupyter-widgets/controls",
      "model_module_version": "1.2.0",
      "model_name": "ButtonModel",
      "state": {
       "layout": "IPY_MODEL_d9d52397cd8c4c10b7db3ba3c2ebd41e",
       "style": "IPY_MODEL_88272af385e74f018a86413a06bb2d00"
      }
     },
     "585442a8364e4a09b5c4df573b88b1b3": {
      "model_module": "@jupyter-widgets/base",
      "model_module_version": "1.0.0",
      "model_name": "LayoutModel",
      "state": {}
     },
     "586f44811a154b24b85462b14eccc8fc": {
      "model_module": "@jupyter-widgets/controls",
      "model_module_version": "1.2.0",
      "model_name": "ButtonStyleModel",
      "state": {}
     },
     "5871d1b3b76f4f63be3c58069f72468a": {
      "model_module": "@jupyter-widgets/controls",
      "model_module_version": "1.2.0",
      "model_name": "IntSliderModel",
      "state": {
       "layout": "IPY_MODEL_726ab922593c4d18b58e733e561fded3",
       "style": "IPY_MODEL_bb0c2afe24934321959658c8656e7df3"
      }
     },
     "5884f2ef969c4de8a17500c1f244410d": {
      "model_module": "@jupyter-widgets/base",
      "model_module_version": "1.0.0",
      "model_name": "LayoutModel",
      "state": {
       "height": "auto",
       "width": "auto"
      }
     },
     "589f0957f8a54159aa8aa47648188bbe": {
      "model_module": "@jupyter-widgets/controls",
      "model_module_version": "1.2.0",
      "model_name": "ButtonModel",
      "state": {
       "layout": "IPY_MODEL_e4466a6f4f724f0695c817a3cef77d97",
       "style": "IPY_MODEL_96b2394d0db44259a6427078373762fb"
      }
     },
     "58d8285240e4465c8038231ae09f4577": {
      "model_module": "@jupyter-widgets/controls",
      "model_module_version": "1.2.0",
      "model_name": "ButtonStyleModel",
      "state": {}
     },
     "58e20db8006a4218b969145dafe1fef3": {
      "model_module": "@jupyter-widgets/controls",
      "model_module_version": "1.2.0",
      "model_name": "ButtonModel",
      "state": {
       "layout": "IPY_MODEL_bca42cda5863431094ba3b2b4642113f",
       "style": "IPY_MODEL_8d872d0b94ba4ac99a61c424c17f4052"
      }
     },
     "58f65cbfa12f4edb9c01631cd9fd6807": {
      "model_module": "@jupyter-widgets/controls",
      "model_module_version": "1.2.0",
      "model_name": "ButtonModel",
      "state": {
       "layout": "IPY_MODEL_13e0059cd680446a8dbed4b733138cf5",
       "style": "IPY_MODEL_62970e40a51d4456bef4bf5ba64f5b65"
      }
     },
     "58f844a4226f4522a107450db56f5a05": {
      "model_module": "@jupyter-widgets/controls",
      "model_module_version": "1.2.0",
      "model_name": "BoxModel",
      "state": {
       "children": [
        "IPY_MODEL_33874db07b2042dab1777197fdf6f6b5",
        "IPY_MODEL_024e82e3875349dd8a3d4b7d75ae6924",
        "IPY_MODEL_fe92b39ba43944919e06b86b19b83aba",
        "IPY_MODEL_c9280c5c02634ebdae97438b2e2fbd72",
        "IPY_MODEL_6d0b9c6a3f144501b83a01cc85c2c457",
        "IPY_MODEL_2eba4bcfbb6b4003944ac340af1c0b49",
        "IPY_MODEL_3f6a00db54ac4532805509a958e77596",
        "IPY_MODEL_dda90b2748d44fe399a8221e60cb531b",
        "IPY_MODEL_c264e2c69b0d4f0e8c66a815b282a66f",
        "IPY_MODEL_10fc3a57b2f8415293d0069cc5b2f542",
        "IPY_MODEL_8ec3ee6deaa7403eab306447996d94cc",
        "IPY_MODEL_3ee09d64c60d4c77a74157690c3b9376",
        "IPY_MODEL_cd9cb91dd3ac47ce9b7ec071260504a2",
        "IPY_MODEL_2742c173439042a3a7008049078f1596",
        "IPY_MODEL_1f390d05260a4991a2c1fce5fb73f676",
        "IPY_MODEL_3f30aa0e8c9745f9a1f1ea64c7b51f7e",
        "IPY_MODEL_6fc51599b7474fec80f53acc97d28611",
        "IPY_MODEL_c7ec96d651e143b28bea28ea7f02cf7d",
        "IPY_MODEL_9b0827965fdf449db4ee54e67dbe71ef",
        "IPY_MODEL_8bc3010d4d904e0fb01ce97df3a02ed1",
        "IPY_MODEL_81341d27ffae451692605ac194cc8a61",
        "IPY_MODEL_2a2106f8e8b74c48a631b634dcf15278",
        "IPY_MODEL_e375cf39bd9947cdb5aef2b4b855bf9c",
        "IPY_MODEL_53f300df01544947b1c9ea98caa65f90",
        "IPY_MODEL_d84bf79c62d0486794bee0cd7a587785",
        "IPY_MODEL_13e97803a46b45de9af27fd1dfb614d9",
        "IPY_MODEL_ef6065807aa9401387abbf984cb7a8f2",
        "IPY_MODEL_aa9985dd629941c9b7cd2e67850e3e82",
        "IPY_MODEL_bfcaa8a78fa2429bb9abdb1d74648d07",
        "IPY_MODEL_86c49acaf982432685148a3142ca95e2",
        "IPY_MODEL_1d66aa72492a44369f6fcdc4f0136deb",
        "IPY_MODEL_1260a918b00444b4bbd94dbe9d5028ac",
        "IPY_MODEL_e5cdba0b8c97434cad49f1b0341a9dc7",
        "IPY_MODEL_87ef9db3e7ae497eae4dd0258218a753",
        "IPY_MODEL_ccabdde26ffa41a784d06744c4d9feb6",
        "IPY_MODEL_342a254b621545c6a1506f4d954724c0",
        "IPY_MODEL_574729ba599a4b9cb467d339a82803e2",
        "IPY_MODEL_0904ea1c6f6941a9ac970ba6b190985d",
        "IPY_MODEL_647d3e2738334d13bc0522997d6cba91",
        "IPY_MODEL_54e9f465e0914018aedcf6f0d49a5ee1"
       ],
       "layout": "IPY_MODEL_18fc2f3229af46feadec6f6ef72081c2"
      }
     },
     "5905737ce41348a282bb09a281a0fc04": {
      "model_module": "@jupyter-widgets/controls",
      "model_module_version": "1.2.0",
      "model_name": "ButtonModel",
      "state": {
       "layout": "IPY_MODEL_7aa706c4594f4633bfc813ec6eca6e5c",
       "style": "IPY_MODEL_b5c3667d62d249c8a5d2546f7f413b70"
      }
     },
     "590a77e600024d7186aba2307fe2a3e1": {
      "model_module": "@jupyter-widgets/controls",
      "model_module_version": "1.2.0",
      "model_name": "ButtonStyleModel",
      "state": {}
     },
     "59252022170d407aa4c1a94795526f1e": {
      "model_module": "@jupyter-widgets/controls",
      "model_module_version": "1.2.0",
      "model_name": "ButtonModel",
      "state": {
       "description": "Custom color",
       "layout": "IPY_MODEL_f891f98939e841d2b2205ee1b3db5412",
       "style": "IPY_MODEL_a3104c61af4941a494cedc95df3a2f7d"
      }
     },
     "59358dce142c43bebba34c84690c7303": {
      "model_module": "@jupyter-widgets/controls",
      "model_module_version": "1.2.0",
      "model_name": "ButtonModel",
      "state": {
       "layout": "IPY_MODEL_2789d44a75c248f2895f3799384f6ba5",
       "style": "IPY_MODEL_6b410ec4bd4d475aac9179d334dd2f48"
      }
     },
     "59455b7c7619431fac33101975404e1e": {
      "model_module": "@jupyter-widgets/controls",
      "model_module_version": "1.2.0",
      "model_name": "ButtonModel",
      "state": {
       "layout": "IPY_MODEL_09bbe1f1fc7b4c5cb813271d906a80af",
       "style": "IPY_MODEL_3ce04ce4d3dd45c481c90a9b503ce718"
      }
     },
     "596fa619bcd24b548b5072a76c8a2b68": {
      "model_module": "@jupyter-widgets/controls",
      "model_module_version": "1.2.0",
      "model_name": "GridBoxModel",
      "state": {
       "children": [
        "IPY_MODEL_c957c2fb0a994c84b5451e97d3cd6480",
        "IPY_MODEL_3470892b3e764509be0dfd5ad91f3f2d",
        "IPY_MODEL_5c7b09328a3f4656bd6af44df851e847",
        "IPY_MODEL_d039b843655945739810eb2013331be2",
        "IPY_MODEL_f013e8fde4234a3582325c431065b43b",
        "IPY_MODEL_1ce25b0dd6df4720b7f4d941ea9e80ce",
        "IPY_MODEL_ebfd5c2740a24b54b2cf2599b64b265a",
        "IPY_MODEL_bb6446c672d244978a7eedb51e07bb56"
       ],
       "layout": "IPY_MODEL_a2341fa72f8e41c9a23dae22ed4a7a49"
      }
     },
     "5998b61d9e244283b675655642ce7bad": {
      "model_module": "@jupyter-widgets/controls",
      "model_module_version": "1.2.0",
      "model_name": "ButtonModel",
      "state": {
       "button_style": "danger",
       "description": "weight=3; 0%",
       "layout": "IPY_MODEL_92054b7b62e04217a4bf7a743220df07",
       "style": "IPY_MODEL_0ce80d8a1be44c30ae4644564b3bd5ba"
      }
     },
     "59b3dcacd40743c5b0a4eab98c2b7714": {
      "model_module": "@jupyter-widgets/base",
      "model_module_version": "1.0.0",
      "model_name": "LayoutModel",
      "state": {
       "height": "auto",
       "width": "auto"
      }
     },
     "59bb1c74f86648529f2f7baddf476754": {
      "model_module": "@jupyter-widgets/controls",
      "model_module_version": "1.2.0",
      "model_name": "BoxModel",
      "state": {
       "children": [
        "IPY_MODEL_03ca6dcfa9754108aa0aebd35340e430",
        "IPY_MODEL_1197d4f3167745388b6152fbb6f4fe5a"
       ],
       "layout": "IPY_MODEL_25e005c687cf45b18e91e45143669dde"
      }
     },
     "59bc29313bec4ef4a363fc58e9b68e05": {
      "model_module": "@jupyter-widgets/controls",
      "model_module_version": "1.2.0",
      "model_name": "ButtonModel",
      "state": {
       "button_style": "danger",
       "description": "staple",
       "layout": "IPY_MODEL_5f7d632704bc43f3aec71cf1efb26bdd",
       "style": "IPY_MODEL_3e380d7cb7d1490fadc5bb46838a50b0"
      }
     },
     "59bca185c46a457997bb76a813aea31e": {
      "model_module": "@jupyter-widgets/controls",
      "model_module_version": "1.2.0",
      "model_name": "ButtonStyleModel",
      "state": {}
     },
     "59ff6d2452ca44a48bb7d055486a15f5": {
      "model_module": "@jupyter-widgets/controls",
      "model_module_version": "1.2.0",
      "model_name": "ButtonModel",
      "state": {
       "layout": "IPY_MODEL_93cf562e131e4a7eacb682fd13e54be7",
       "style": "IPY_MODEL_538c9a6c729949288dbd1d48e259eba5"
      }
     },
     "5a0b2ea02c204c9488dc76921cdaead1": {
      "model_module": "@jupyter-widgets/base",
      "model_module_version": "1.0.0",
      "model_name": "LayoutModel",
      "state": {
       "width": "auto"
      }
     },
     "5a290ba21d9c4e3eb28fe65d1038cec5": {
      "model_module": "@jupyter-widgets/controls",
      "model_module_version": "1.2.0",
      "model_name": "ButtonModel",
      "state": {
       "button_style": "danger",
       "description": "weight=3; auto",
       "layout": "IPY_MODEL_e5e88bb4415c4a7a9f5e2de01cee5369",
       "style": "IPY_MODEL_4c1c269b8a694eefb5ec7a779da7feba"
      }
     },
     "5a5f462309c246dc870ab4dffc0af5bd": {
      "model_module": "@jupyter-widgets/controls",
      "model_module_version": "1.2.0",
      "model_name": "ButtonModel",
      "state": {
       "layout": "IPY_MODEL_78d59a2dfd424dcb8e8500e01f717b84",
       "style": "IPY_MODEL_fc8d9ef8aa9d4058808713941d7dd5f1"
      }
     },
     "5a76bbec371040d8b043ac563da3cb66": {
      "model_module": "@jupyter-widgets/base",
      "model_module_version": "1.0.0",
      "model_name": "LayoutModel",
      "state": {
       "align_items": "stretch",
       "border": "solid 2px",
       "display": "flex",
       "flex_flow": "column",
       "width": "50%"
      }
     },
     "5a8da4e4bab14ec79c5eed7a3b865e46": {
      "model_module": "@jupyter-widgets/base",
      "model_module_version": "1.0.0",
      "model_name": "LayoutModel",
      "state": {
       "flex": "1 1 0%",
       "width": "auto"
      }
     },
     "5a9394d210304da68e6bcf9ef5d94ed5": {
      "model_module": "@jupyter-widgets/controls",
      "model_module_version": "1.2.0",
      "model_name": "DescriptionStyleModel",
      "state": {
       "description_width": ""
      }
     },
     "5a949aa1f67e452d957bb1f4b290733a": {
      "model_module": "@jupyter-widgets/controls",
      "model_module_version": "1.2.0",
      "model_name": "GridBoxModel",
      "state": {
       "children": [
        "IPY_MODEL_9dff25bea65448b6befec3e3c1ab73e9",
        "IPY_MODEL_8f9a7e7adbeb43f8a75c45e6b73dfea7",
        "IPY_MODEL_46c22688e88c4e898981e29b8b813379",
        "IPY_MODEL_34406badcc864315a8cb49cf304a0e45",
        "IPY_MODEL_62f06b732b72484cbfe83e4a9abf1262",
        "IPY_MODEL_e237fc7ee11f4e8a9a2526b60ee571a1",
        "IPY_MODEL_54937a8221254d9a8be641691652be42",
        "IPY_MODEL_47ec89dbaad54f5f9854f5b1a09bccad",
        "IPY_MODEL_52ecb5ecf5d543718d552a52bc7f6538"
       ],
       "layout": "IPY_MODEL_5f372cd40f214ecdbc0c4d147b0903e2"
      }
     },
     "5aa4eccf476e4b8ebef1e9e05b253a26": {
      "model_module": "@jupyter-widgets/controls",
      "model_module_version": "1.2.0",
      "model_name": "ButtonStyleModel",
      "state": {}
     },
     "5ad8035f610a4e61b4d154e4aab55e77": {
      "model_module": "@jupyter-widgets/controls",
      "model_module_version": "1.2.0",
      "model_name": "ButtonStyleModel",
      "state": {}
     },
     "5ae1bcb62ed64b4da64f6b32218bee4a": {
      "model_module": "@jupyter-widgets/controls",
      "model_module_version": "1.2.0",
      "model_name": "ButtonStyleModel",
      "state": {}
     },
     "5ae29d8b540242a899ca4e82f909bf50": {
      "model_module": "@jupyter-widgets/controls",
      "model_module_version": "1.2.0",
      "model_name": "ButtonStyleModel",
      "state": {}
     },
     "5afdb12381884f3d9a383abbc4d54626": {
      "model_module": "@jupyter-widgets/controls",
      "model_module_version": "1.2.0",
      "model_name": "IntSliderModel",
      "state": {
       "layout": "IPY_MODEL_13baf9a1a9d04744964652f72ba03032",
       "style": "IPY_MODEL_8bfe8f42a405468e8f3e7a8917fd4f4f"
      }
     },
     "5b0a1f1da978427daa8cc2968faa6441": {
      "model_module": "@jupyter-widgets/controls",
      "model_module_version": "1.2.0",
      "model_name": "BoxModel",
      "state": {
       "children": [
        "IPY_MODEL_91daf867fab8448abea50105651ef7af",
        "IPY_MODEL_5998b61d9e244283b675655642ce7bad",
        "IPY_MODEL_65e793fb9415443db5f9b9855733d42d"
       ],
       "layout": "IPY_MODEL_4db9ed19a7e543018cd1e65923b903fa"
      }
     },
     "5b1643c357ee4953a2a8f8a6daf5c6ed": {
      "model_module": "@jupyter-widgets/controls",
      "model_module_version": "1.2.0",
      "model_name": "ButtonModel",
      "state": {
       "layout": "IPY_MODEL_7aa706c4594f4633bfc813ec6eca6e5c",
       "style": "IPY_MODEL_b5c3667d62d249c8a5d2546f7f413b70"
      }
     },
     "5b168e7445b34ad0957a8d75f5219e18": {
      "model_module": "@jupyter-widgets/controls",
      "model_module_version": "1.2.0",
      "model_name": "ButtonModel",
      "state": {
       "layout": "IPY_MODEL_a0e22ef5a1134a18b8992c7e7045c52c",
       "style": "IPY_MODEL_9109e6169dde4c9094421faba01d347d"
      }
     },
     "5b52388c93204b0485c5e179f9f7c472": {
      "model_module": "@jupyter-widgets/controls",
      "model_module_version": "1.2.0",
      "model_name": "ButtonModel",
      "state": {
       "layout": "IPY_MODEL_0d92f2a7cef94f93bf48bf8151340947",
       "style": "IPY_MODEL_08b222f6cef24381b74c8351c56d2a95"
      }
     },
     "5b55a67e0f784cc396d03af1a180a629": {
      "model_module": "@jupyter-widgets/controls",
      "model_module_version": "1.2.0",
      "model_name": "ButtonModel",
      "state": {
       "layout": "IPY_MODEL_bd032ec0085648d8b4bee7b4b2e75fe2",
       "style": "IPY_MODEL_60e170a7ce634ef9a5578b99cb742a11"
      }
     },
     "5b6cb1c7d289494da5c5be3556cec101": {
      "model_module": "@jupyter-widgets/controls",
      "model_module_version": "1.2.0",
      "model_name": "ButtonModel",
      "state": {
       "button_style": "warning",
       "description": "36",
       "layout": "IPY_MODEL_e20ec9c5c01e485bbfa90160b80eb8f4",
       "style": "IPY_MODEL_9ea1edfa4aa849228ee336c763f128d3"
      }
     },
     "5b6f9b02b03a426cbac0ed2f69585ae4": {
      "model_module": "@jupyter-widgets/controls",
      "model_module_version": "1.2.0",
      "model_name": "DescriptionStyleModel",
      "state": {
       "description_width": ""
      }
     },
     "5b7535633dc041c28e1d769b7e542d89": {
      "model_module": "@jupyter-widgets/controls",
      "model_module_version": "1.2.0",
      "model_name": "ButtonModel",
      "state": {
       "button_style": "warning",
       "description": "27",
       "layout": "IPY_MODEL_a810a994ec8c404f8136c2e39def56aa",
       "style": "IPY_MODEL_413e0cd8607646e2aed0c7c404e62a04"
      }
     },
     "5b79e89827f240b3ab9657aab4295679": {
      "model_module": "@jupyter-widgets/controls",
      "model_module_version": "1.2.0",
      "model_name": "SliderStyleModel",
      "state": {
       "description_width": "initial"
      }
     },
     "5bb2b038523249deb391696ce995f9d5": {
      "model_module": "@jupyter-widgets/controls",
      "model_module_version": "1.2.0",
      "model_name": "LabelModel",
      "state": {
       "layout": "IPY_MODEL_22a94c722bc6475da76ae893487af849",
       "style": "IPY_MODEL_efd79c15b60f484d8f757be63c19ee75",
       "value": "A too long description"
      }
     },
     "5bbba71726f44bb3bb97a31af885452b": {
      "model_module": "@jupyter-widgets/controls",
      "model_module_version": "1.2.0",
      "model_name": "ButtonStyleModel",
      "state": {}
     },
     "5bde867977974247835eb21446f966d3": {
      "model_module": "@jupyter-widgets/controls",
      "model_module_version": "1.2.0",
      "model_name": "ButtonStyleModel",
      "state": {}
     },
     "5bdfc8e68c074e01b857eae0509ea469": {
      "model_module": "@jupyter-widgets/controls",
      "model_module_version": "1.2.0",
      "model_name": "ButtonStyleModel",
      "state": {}
     },
     "5be5d8aa07d845499d2d5835a9436649": {
      "model_module": "@jupyter-widgets/controls",
      "model_module_version": "1.2.0",
      "model_name": "ButtonModel",
      "state": {
       "button_style": "warning",
       "description": "19",
       "layout": "IPY_MODEL_e20ec9c5c01e485bbfa90160b80eb8f4",
       "style": "IPY_MODEL_b0fa8f17415c4b758d7d7b29f7cd4aac"
      }
     },
     "5c1d9cd1d1e74a489d4555ee019dfefa": {
      "model_module": "@jupyter-widgets/controls",
      "model_module_version": "1.2.0",
      "model_name": "ButtonStyleModel",
      "state": {}
     },
     "5c2db70932a54945a414abd023eff856": {
      "model_module": "@jupyter-widgets/base",
      "model_module_version": "1.0.0",
      "model_name": "LayoutModel",
      "state": {
       "grid_area": "main",
       "width": "auto"
      }
     },
     "5c65efe1e22b4f41b3dfdfa9b6d1f2a9": {
      "model_module": "@jupyter-widgets/controls",
      "model_module_version": "1.2.0",
      "model_name": "ButtonModel",
      "state": {
       "layout": "IPY_MODEL_ec9c9dbff71d456f992fe97a8f75cc86",
       "style": "IPY_MODEL_303cacb9de47429898d825f2a5f8bb69"
      }
     },
     "5c7b09328a3f4656bd6af44df851e847": {
      "model_module": "@jupyter-widgets/controls",
      "model_module_version": "1.2.0",
      "model_name": "ButtonModel",
      "state": {
       "layout": "IPY_MODEL_cd50e4eac43d4b9f8fff10571a9d0d69",
       "style": "IPY_MODEL_f6ad98a676324b70b9be196293356fa4"
      }
     },
     "5c8310d2de0245a4bad96a4f25254bc9": {
      "model_module": "@jupyter-widgets/base",
      "model_module_version": "1.0.0",
      "model_name": "LayoutModel",
      "state": {}
     },
     "5ca0db911dcb4e7fbd69e459e7a64aed": {
      "model_module": "@jupyter-widgets/controls",
      "model_module_version": "1.2.0",
      "model_name": "ButtonStyleModel",
      "state": {
       "button_color": "#77A"
      }
     },
     "5cde084636164ef69faea326241a3b35": {
      "model_module": "@jupyter-widgets/base",
      "model_module_version": "1.0.0",
      "model_name": "LayoutModel",
      "state": {
       "height": "auto",
       "width": "auto"
      }
     },
     "5d0b59b926f941d08bb759b227e83330": {
      "model_module": "@jupyter-widgets/controls",
      "model_module_version": "1.2.0",
      "model_name": "GridBoxModel",
      "state": {
       "children": [
        "IPY_MODEL_9e38653c2b50422db40feefe0a4ec0e7",
        "IPY_MODEL_9c06c10d031a4b8e80ce2f132feb2c39",
        "IPY_MODEL_85700b30a8354277bd8a607e59753c1c",
        "IPY_MODEL_3bd53a9c54ae4228aae27a8e37c2cc16"
       ],
       "layout": "IPY_MODEL_0085cf79c733460e8956c9143a8fdae5"
      }
     },
     "5d59611818f04939b9f922f1aec556f0": {
      "model_module": "@jupyter-widgets/base",
      "model_module_version": "1.0.0",
      "model_name": "LayoutModel",
      "state": {}
     },
     "5d867b3da4654914803f7485334563f7": {
      "model_module": "@jupyter-widgets/base",
      "model_module_version": "1.0.0",
      "model_name": "LayoutModel",
      "state": {}
     },
     "5db8b0c791394d6997e34be63c0058df": {
      "model_module": "@jupyter-widgets/controls",
      "model_module_version": "1.2.0",
      "model_name": "ButtonModel",
      "state": {
       "layout": "IPY_MODEL_df299558f7fe43b2b5de00f8a5202d32",
       "style": "IPY_MODEL_5ca0db911dcb4e7fbd69e459e7a64aed"
      }
     },
     "5dc1e10836fa4b8083438c937e200384": {
      "model_module": "@jupyter-widgets/controls",
      "model_module_version": "1.2.0",
      "model_name": "ButtonStyleModel",
      "state": {}
     },
     "5e04d41103a749d98c10c7a5973b9bd5": {
      "model_module": "@jupyter-widgets/controls",
      "model_module_version": "1.2.0",
      "model_name": "IntSliderModel",
      "state": {
       "layout": "IPY_MODEL_9ce1e3198b374d32885ef5071d0e35ef",
       "max": 60,
       "min": 40,
       "style": "IPY_MODEL_211562b1427c4a0fb133b555cdf9f968",
       "value": 40
      }
     },
     "5e2e2a4f57b64ba4981cfd237ffa0edb": {
      "model_module": "@jupyter-widgets/base",
      "model_module_version": "1.0.0",
      "model_name": "LayoutModel",
      "state": {}
     },
     "5e32ef9cf8db4020ae69488f690c58c2": {
      "model_module": "@jupyter-widgets/base",
      "model_module_version": "1.0.0",
      "model_name": "LayoutModel",
      "state": {
       "grid_template": "50px 40px / 25% 10% auto 200px"
      }
     },
     "5e52806666dd428f912b786bcb8fa7b3": {
      "model_module": "@jupyter-widgets/controls",
      "model_module_version": "1.2.0",
      "model_name": "ButtonModel",
      "state": {
       "layout": "IPY_MODEL_4d53052a4a3c4ea08b4ae8a0f20ff0ac",
       "style": "IPY_MODEL_f14e960e219b4d0c868d3a8d0c821a11"
      }
     },
     "5e8594293bae48ba8c51b69f657a8d6a": {
      "model_module": "@jupyter-widgets/controls",
      "model_module_version": "1.2.0",
      "model_name": "ButtonModel",
      "state": {
       "layout": "IPY_MODEL_d9d52397cd8c4c10b7db3ba3c2ebd41e",
       "style": "IPY_MODEL_88272af385e74f018a86413a06bb2d00"
      }
     },
     "5ea49e7f4c8141d398f18e923f75cfa7": {
      "model_module": "@jupyter-widgets/controls",
      "model_module_version": "1.2.0",
      "model_name": "ButtonStyleModel",
      "state": {
       "button_color": "blue"
      }
     },
     "5ea97f3262164391ae135ee04d85c8be": {
      "model_module": "@jupyter-widgets/controls",
      "model_module_version": "1.2.0",
      "model_name": "ButtonStyleModel",
      "state": {}
     },
     "5eb5f2968bbb46cb9cfe9e7aff89154c": {
      "model_module": "@jupyter-widgets/controls",
      "model_module_version": "1.2.0",
      "model_name": "DescriptionStyleModel",
      "state": {
       "description_width": ""
      }
     },
     "5f0abda182d24bfdbbd1fbfcb20a49c5": {
      "model_module": "@jupyter-widgets/controls",
      "model_module_version": "1.2.0",
      "model_name": "ButtonStyleModel",
      "state": {}
     },
     "5f12444123c74d26a9927205e09a6118": {
      "model_module": "@jupyter-widgets/base",
      "model_module_version": "1.0.0",
      "model_name": "LayoutModel",
      "state": {}
     },
     "5f1b672573d041c5afcb5ae37b40afe9": {
      "model_module": "@jupyter-widgets/base",
      "model_module_version": "1.0.0",
      "model_name": "LayoutModel",
      "state": {
       "grid_area": "header",
       "width": "auto"
      }
     },
     "5f370c99d360437b86af0bbc922dbad3": {
      "model_module": "@jupyter-widgets/base",
      "model_module_version": "1.0.0",
      "model_name": "LayoutModel",
      "state": {}
     },
     "5f372cd40f214ecdbc0c4d147b0903e2": {
      "model_module": "@jupyter-widgets/base",
      "model_module_version": "1.0.0",
      "model_name": "LayoutModel",
      "state": {
       "grid_gap": "5px 10px",
       "grid_template_columns": "100px 50px 100px",
       "grid_template_rows": "80px auto 80px",
       "width": "50%"
      }
     },
     "5f5ab4ceded847c384adb094358034e7": {
      "model_module": "@jupyter-widgets/controls",
      "model_module_version": "1.2.0",
      "model_name": "ButtonModel",
      "state": {
       "layout": "IPY_MODEL_3797f4f32b254405a6bcbadb94d4e433",
       "style": "IPY_MODEL_efff5ce340da494ab2cc1fef5faf9270"
      }
     },
     "5f62407c747149e9a7d82b8a3a3fe5b4": {
      "model_module": "@jupyter-widgets/controls",
      "model_module_version": "1.2.0",
      "model_name": "ButtonStyleModel",
      "state": {}
     },
     "5f70c6db2e7944459b17cb134c346466": {
      "model_module": "@jupyter-widgets/controls",
      "model_module_version": "1.2.0",
      "model_name": "ButtonModel",
      "state": {
       "layout": "IPY_MODEL_c9ea692baeb946de96bd3ed36e154abc",
       "style": "IPY_MODEL_b3edc635b2c84d788caf728edd9f1bbf"
      }
     },
     "5f7d632704bc43f3aec71cf1efb26bdd": {
      "model_module": "@jupyter-widgets/base",
      "model_module_version": "1.0.0",
      "model_name": "LayoutModel",
      "state": {
       "width": "auto"
      }
     },
     "5f85bf14ce3c4a71aa9fe332c0a308e9": {
      "model_module": "@jupyter-widgets/controls",
      "model_module_version": "1.2.0",
      "model_name": "ButtonStyleModel",
      "state": {}
     },
     "5f93039a824040f6892c5a36aa5b0393": {
      "model_module": "@jupyter-widgets/base",
      "model_module_version": "1.0.0",
      "model_name": "LayoutModel",
      "state": {
       "height": "200px",
       "width": "auto"
      }
     },
     "5f94eb7a7c3b4159b136526cb2545796": {
      "model_module": "@jupyter-widgets/controls",
      "model_module_version": "1.2.0",
      "model_name": "ButtonStyleModel",
      "state": {}
     },
     "5fa79f90d69f4867adf9b30cae1156e0": {
      "model_module": "@jupyter-widgets/controls",
      "model_module_version": "1.2.0",
      "model_name": "ButtonModel",
      "state": {
       "layout": "IPY_MODEL_5f93039a824040f6892c5a36aa5b0393",
       "style": "IPY_MODEL_5f0abda182d24bfdbbd1fbfcb20a49c5"
      }
     },
     "5fd7eecc07c54b04add1c308db477413": {
      "model_module": "@jupyter-widgets/controls",
      "model_module_version": "1.2.0",
      "model_name": "ButtonStyleModel",
      "state": {}
     },
     "5fd9e4a41b494a9db0d1df4470a7aacd": {
      "model_module": "@jupyter-widgets/base",
      "model_module_version": "1.0.0",
      "model_name": "LayoutModel",
      "state": {
       "flex": "1 1 auto",
       "width": "auto"
      }
     },
     "5fe9776b6c6a48f0bb702ad7c2be7f04": {
      "model_module": "@jupyter-widgets/controls",
      "model_module_version": "1.2.0",
      "model_name": "ButtonModel",
      "state": {
       "button_style": "warning",
       "description": "35",
       "layout": "IPY_MODEL_a810a994ec8c404f8136c2e39def56aa",
       "style": "IPY_MODEL_66e8a51b7f7b43f791cb64a853f3a521"
      }
     },
     "5ffaff23cc404e199c9b12decf5abdc9": {
      "model_module": "@jupyter-widgets/controls",
      "model_module_version": "1.2.0",
      "model_name": "ButtonStyleModel",
      "state": {}
     },
     "60164143aac44fccb746c52957a221c5": {
      "model_module": "@jupyter-widgets/controls",
      "model_module_version": "1.2.0",
      "model_name": "ButtonModel",
      "state": {
       "layout": "IPY_MODEL_90e6ed8c30a54cab8cdc8ca7fb4a9974",
       "style": "IPY_MODEL_ccbfe2e288b3467ab844560b05e1f691"
      }
     },
     "601f1bbb0a524adfb3106e26410de907": {
      "model_module": "@jupyter-widgets/controls",
      "model_module_version": "1.2.0",
      "model_name": "ButtonModel",
      "state": {
       "layout": "IPY_MODEL_3d81651a297740e381ac147d7c10fcbe",
       "style": "IPY_MODEL_b2e9a7942bfd47b18977f37fd5b1ee01"
      }
     },
     "60645222818f40b383abe83c94ce3a6f": {
      "model_module": "@jupyter-widgets/controls",
      "model_module_version": "1.2.0",
      "model_name": "ButtonModel",
      "state": {
       "layout": "IPY_MODEL_64567f913f574abfafda823bec6dad4f",
       "style": "IPY_MODEL_c2005b32dab1408390f8c77eafc7e7c8"
      }
     },
     "608f08bdc95f4b568cd5dfba0eb8bd0c": {
      "model_module": "@jupyter-widgets/controls",
      "model_module_version": "1.2.0",
      "model_name": "DescriptionStyleModel",
      "state": {
       "description_width": ""
      }
     },
     "609b61692cc24139b4322016274a0bb1": {
      "model_module": "@jupyter-widgets/base",
      "model_module_version": "1.0.0",
      "model_name": "LayoutModel",
      "state": {
       "height": "auto",
       "width": "auto"
      }
     },
     "609d927679764fca833632b66066a00a": {
      "model_module": "@jupyter-widgets/base",
      "model_module_version": "1.0.0",
      "model_name": "LayoutModel",
      "state": {}
     },
     "60abab77a37145ad9930ea2436979ab6": {
      "model_module": "@jupyter-widgets/base",
      "model_module_version": "1.0.0",
      "model_name": "LayoutModel",
      "state": {
       "height": "auto",
       "width": "auto"
      }
     },
     "60dc8c07d8ef41c6bca7255361487800": {
      "model_module": "@jupyter-widgets/controls",
      "model_module_version": "1.2.0",
      "model_name": "ButtonModel",
      "state": {
       "layout": "IPY_MODEL_d9d52397cd8c4c10b7db3ba3c2ebd41e",
       "style": "IPY_MODEL_88272af385e74f018a86413a06bb2d00"
      }
     },
     "60dcb66fe6e5456a91338232ae2a635a": {
      "model_module": "@jupyter-widgets/controls",
      "model_module_version": "1.2.0",
      "model_name": "IntSliderModel",
      "state": {
       "description": "A too long description",
       "layout": "IPY_MODEL_bd187d5dfc9647a2b19646cf818c2981",
       "style": "IPY_MODEL_c3ed8d0bbf7147fd88f7bed8cea951f9"
      }
     },
     "60e170a7ce634ef9a5578b99cb742a11": {
      "model_module": "@jupyter-widgets/controls",
      "model_module_version": "1.2.0",
      "model_name": "ButtonStyleModel",
      "state": {
       "button_color": "#77A"
      }
     },
     "60fd1abc746a41a7901466cbd4933669": {
      "model_module": "@jupyter-widgets/controls",
      "model_module_version": "1.2.0",
      "model_name": "ButtonModel",
      "state": {
       "description": "horse",
       "layout": "IPY_MODEL_132d4e37f0674cd7a02e60b7a9738576",
       "style": "IPY_MODEL_d721035c361c420d9e9c8ebe4364e19c"
      }
     },
     "610f7a96cd994282abcf5630f1aba137": {
      "model_module": "@jupyter-widgets/base",
      "model_module_version": "1.0.0",
      "model_name": "LayoutModel",
      "state": {}
     },
     "6116d16c7ad94a508ae660d85f4b8f7b": {
      "model_module": "@jupyter-widgets/controls",
      "model_module_version": "1.2.0",
      "model_name": "ButtonStyleModel",
      "state": {}
     },
     "611ed20f534347a68077737476a3025e": {
      "model_module": "@jupyter-widgets/controls",
      "model_module_version": "1.2.0",
      "model_name": "GridBoxModel",
      "state": {
       "children": [
        "IPY_MODEL_a5591ba770ba4a88ac6454fe671f6247",
        "IPY_MODEL_a6bf1a5cb4564f9887ccaf42cf07f2cf",
        "IPY_MODEL_868405055b0d4c4c890c3cfef7ce435d",
        "IPY_MODEL_f61f46bb68d648f6b9b433d6caeb0aef",
        "IPY_MODEL_287dbea412fd4e36be1a0e2c66014721",
        "IPY_MODEL_c2970cfeb5fe4eb28d1caf0e82f99f25",
        "IPY_MODEL_2c6515a272ec46009e1536b86cbc6e24",
        "IPY_MODEL_bca5d89425e64e2184c47c27fec1ff3b",
        "IPY_MODEL_59455b7c7619431fac33101975404e1e",
        "IPY_MODEL_c218a86908514a829d1dfacfca3c30c6"
       ],
       "layout": "IPY_MODEL_84065b683954486982bf3b642888457b"
      }
     },
     "615413cfa1cd42a68acc8f31116fe34e": {
      "model_module": "@jupyter-widgets/controls",
      "model_module_version": "1.2.0",
      "model_name": "ButtonModel",
      "state": {
       "layout": "IPY_MODEL_a997cf87cb444be1a8febdf657c22511",
       "style": "IPY_MODEL_77a9d085249644e7ade910f572748c07"
      }
     },
     "6155accf169f46ffba94dced113355db": {
      "model_module": "@jupyter-widgets/controls",
      "model_module_version": "1.2.0",
      "model_name": "ButtonStyleModel",
      "state": {}
     },
     "6173f56210db4c7bab61cae223fa0bf5": {
      "model_module": "@jupyter-widgets/controls",
      "model_module_version": "1.2.0",
      "model_name": "ButtonModel",
      "state": {
       "layout": "IPY_MODEL_54dc1791cb77472c8ca601c93d0b0fe1",
       "style": "IPY_MODEL_daa52cefaa7444d1a42749a12c776d45"
      }
     },
     "61864079a5c641e68ef28591239e22ec": {
      "model_module": "@jupyter-widgets/controls",
      "model_module_version": "1.2.0",
      "model_name": "ButtonStyleModel",
      "state": {}
     },
     "61a02fd9374a46398eb4bd38b9111f6f": {
      "model_module": "@jupyter-widgets/controls",
      "model_module_version": "1.2.0",
      "model_name": "ButtonModel",
      "state": {
       "layout": "IPY_MODEL_9a5bfd31f11548d6af73683d0b8fcf4f",
       "style": "IPY_MODEL_9ec7390103c546618c23e95667ecf3a5"
      }
     },
     "61a4edf3cac640698fdb62586b587d80": {
      "model_module": "@jupyter-widgets/controls",
      "model_module_version": "1.2.0",
      "model_name": "ButtonModel",
      "state": {
       "layout": "IPY_MODEL_2dbf7836189c43ceacedac172f168e48",
       "style": "IPY_MODEL_1c333f95c2504843b4fa59f702ae7f34"
      }
     },
     "61b764a4a07e4f579b52ac62f6dc7e3d": {
      "model_module": "@jupyter-widgets/controls",
      "model_module_version": "1.2.0",
      "model_name": "ButtonStyleModel",
      "state": {}
     },
     "61c9a2afa87540759e75fb8c7efcdc3c": {
      "model_module": "@jupyter-widgets/controls",
      "model_module_version": "1.2.0",
      "model_name": "IntSliderModel",
      "state": {
       "description": "Blue handle",
       "layout": "IPY_MODEL_8efdf00938134b5cbd25b70090afc77c",
       "style": "IPY_MODEL_1ff4eb8eb2564233ba10b1727df2c977"
      }
     },
     "620887f863cc43349e5fef2a0046c60d": {
      "model_module": "@jupyter-widgets/controls",
      "model_module_version": "1.2.0",
      "model_name": "ButtonModel",
      "state": {
       "layout": "IPY_MODEL_9695b76cc863463ebd4af52944296e74",
       "style": "IPY_MODEL_7d786d8e410849f3b98406fdb3189ce9"
      }
     },
     "6216d0c956584b168b49e9651fa5d8fe": {
      "model_module": "@jupyter-widgets/base",
      "model_module_version": "1.0.0",
      "model_name": "LayoutModel",
      "state": {
       "width": "auto"
      }
     },
     "621b5827fc9a4622aae3e23a4ce9b93c": {
      "model_module": "@jupyter-widgets/controls",
      "model_module_version": "1.2.0",
      "model_name": "ButtonStyleModel",
      "state": {
       "button_color": "darkseagreen"
      }
     },
     "62351eee520a48268962a95507fc9674": {
      "model_module": "@jupyter-widgets/controls",
      "model_module_version": "1.2.0",
      "model_name": "ButtonStyleModel",
      "state": {
       "button_color": "red"
      }
     },
     "626aca11d21f484eb76bb5f2afb93394": {
      "model_module": "@jupyter-widgets/controls",
      "model_module_version": "1.2.0",
      "model_name": "ButtonModel",
      "state": {
       "layout": "IPY_MODEL_ab4f1d5f0c594bbc9c04549f977b9f0f",
       "style": "IPY_MODEL_119d973a67c74cfda0c9145736683718"
      }
     },
     "62970e40a51d4456bef4bf5ba64f5b65": {
      "model_module": "@jupyter-widgets/controls",
      "model_module_version": "1.2.0",
      "model_name": "ButtonStyleModel",
      "state": {
       "button_color": "blue"
      }
     },
     "62c967c7cb57432ca39a12cebbda1f21": {
      "model_module": "@jupyter-widgets/base",
      "model_module_version": "1.0.0",
      "model_name": "LayoutModel",
      "state": {}
     },
     "62da853fc3ca40a8bd43d2ee929214a9": {
      "model_module": "@jupyter-widgets/controls",
      "model_module_version": "1.2.0",
      "model_name": "ButtonModel",
      "state": {
       "layout": "IPY_MODEL_71edbc4e034840e2a9927c2487c68700",
       "style": "IPY_MODEL_92978bd92b514d5d9be370c17356a025"
      }
     },
     "62e5802cc7eb474a8b343ad17ad807a3": {
      "model_module": "@jupyter-widgets/controls",
      "model_module_version": "1.2.0",
      "model_name": "ButtonStyleModel",
      "state": {}
     },
     "62f06b732b72484cbfe83e4a9abf1262": {
      "model_module": "@jupyter-widgets/controls",
      "model_module_version": "1.2.0",
      "model_name": "ButtonModel",
      "state": {
       "layout": "IPY_MODEL_220230868411444fa006122baa8449aa",
       "style": "IPY_MODEL_e485e6b274864ebf88eb275787889b67"
      }
     },
     "62fe64b651244cd0a3c4bd5cb9131e3e": {
      "model_module": "@jupyter-widgets/controls",
      "model_module_version": "1.2.0",
      "model_name": "ButtonStyleModel",
      "state": {}
     },
     "6325b697803141e0ac293417661f24b4": {
      "model_module": "@jupyter-widgets/controls",
      "model_module_version": "1.2.0",
      "model_name": "ButtonModel",
      "state": {
       "layout": "IPY_MODEL_8316acf5cc97468892ce820f7bf33bd1",
       "style": "IPY_MODEL_68840d7cb19144d08361c77405293778"
      }
     },
     "632d0603db194ed0b1d50c7f003ae808": {
      "model_module": "@jupyter-widgets/controls",
      "model_module_version": "1.2.0",
      "model_name": "ButtonStyleModel",
      "state": {}
     },
     "6337a760241f476a9608b5672b52f313": {
      "model_module": "@jupyter-widgets/controls",
      "model_module_version": "1.2.0",
      "model_name": "ButtonStyleModel",
      "state": {
       "button_color": "blue"
      }
     },
     "63493feefd124c128bdfe68df8f24d12": {
      "model_module": "@jupyter-widgets/base",
      "model_module_version": "1.0.0",
      "model_name": "LayoutModel",
      "state": {
       "grid_gap": "5px 10px",
       "grid_template_columns": "100px 50px 100px",
       "grid_template_rows": "80px auto 80px",
       "width": "50%"
      }
     },
     "6356ffb792ab4d6593f24605a48af889": {
      "model_module": "@jupyter-widgets/controls",
      "model_module_version": "1.2.0",
      "model_name": "ButtonStyleModel",
      "state": {}
     },
     "635c84b708674c4c90b657489199e00d": {
      "model_module": "@jupyter-widgets/controls",
      "model_module_version": "1.2.0",
      "model_name": "ButtonModel",
      "state": {
       "layout": "IPY_MODEL_aab1d2b921f94ecf9ccd996610aac7d1",
       "style": "IPY_MODEL_24c97944f7694910b0aa78b60e3d35f9"
      }
     },
     "63746b191afd4e43900fb704ff3735b1": {
      "model_module": "@jupyter-widgets/controls",
      "model_module_version": "1.2.0",
      "model_name": "ButtonModel",
      "state": {
       "description": "Another button with the same layout",
       "style": "IPY_MODEL_64a5d78267e44e228b915a34046c2564"
      }
     },
     "639ff8e7e8d3482692781ab4f557c5e5": {
      "model_module": "@jupyter-widgets/controls",
      "model_module_version": "1.2.0",
      "model_name": "GridBoxModel",
      "state": {
       "children": [
        "IPY_MODEL_d8bc273a18f343c5aea097b740babcdb",
        "IPY_MODEL_9818d86cde4c49c7be3d9889632bee51",
        "IPY_MODEL_8510619552bf4b52b52b9a17f947e0ee",
        "IPY_MODEL_228e7fbfc4cc405d8577d016f0b61cd3",
        "IPY_MODEL_da7190d5ae7545af82c992a7e3d80fed",
        "IPY_MODEL_3a9b5e9ae9b2425386a78be623730bd5",
        "IPY_MODEL_a5b20f4974a3459fad629ad765580197",
        "IPY_MODEL_47d3753e464341b9bc6e6d3a2e2daf2f",
        "IPY_MODEL_b7a05b40dedb4d04998268aa24dc7530",
        "IPY_MODEL_a47f17e25450445ea76f7d9c93cf9f3b"
       ],
       "layout": "IPY_MODEL_77c71b49a67a4443a3e6a5d17469e8b2"
      }
     },
     "63b33bba6d704eb687b5478ab933c9c9": {
      "model_module": "@jupyter-widgets/controls",
      "model_module_version": "1.2.0",
      "model_name": "ButtonStyleModel",
      "state": {}
     },
     "63c08b8422c24dbcbd105a81d1e0ce54": {
      "model_module": "@jupyter-widgets/controls",
      "model_module_version": "1.2.0",
      "model_name": "ButtonStyleModel",
      "state": {}
     },
     "63f41c3a4e494358a0c7b31ea70ecaa0": {
      "model_module": "@jupyter-widgets/controls",
      "model_module_version": "1.2.0",
      "model_name": "ButtonStyleModel",
      "state": {}
     },
     "63fa6006211c436a95e7cdd86c7d4530": {
      "model_module": "@jupyter-widgets/controls",
      "model_module_version": "1.2.0",
      "model_name": "LabelModel",
      "state": {
       "layout": "IPY_MODEL_1ac2709eea534fbf9d82f17410446954",
       "style": "IPY_MODEL_5460a4acedc94f2390817a1abe6f516a",
       "value": "\\(e=mc^2\\)"
      }
     },
     "63fcd74b30c24ea59a628a1ed6a94239": {
      "model_module": "@jupyter-widgets/controls",
      "model_module_version": "1.2.0",
      "model_name": "ButtonModel",
      "state": {
       "button_style": "warning",
       "description": "18",
       "layout": "IPY_MODEL_e20ec9c5c01e485bbfa90160b80eb8f4",
       "style": "IPY_MODEL_965780de3269401ba572d7e6ced0a417"
      }
     },
     "64054e865fa84f3893746e9dae3781e7": {
      "model_module": "@jupyter-widgets/controls",
      "model_module_version": "1.2.0",
      "model_name": "ButtonModel",
      "state": {
       "layout": "IPY_MODEL_0f8fab5875984054a7f4d69598255738",
       "style": "IPY_MODEL_7ee0b1c756d344b89f96fade3dadfcc0"
      }
     },
     "6419cd622ce34822a90ee96558225a02": {
      "model_module": "@jupyter-widgets/controls",
      "model_module_version": "1.2.0",
      "model_name": "ButtonModel",
      "state": {
       "layout": "IPY_MODEL_e4466a6f4f724f0695c817a3cef77d97",
       "style": "IPY_MODEL_4be00c4a4bc04d17b9f4534e81f16ba6"
      }
     },
     "641b7e8788ad4bfe867408bf549fabf9": {
      "model_module": "@jupyter-widgets/controls",
      "model_module_version": "1.2.0",
      "model_name": "ButtonStyleModel",
      "state": {
       "button_color": "#77A"
      }
     },
     "6447e1f4191f4bfcbb7f422ab34cc162": {
      "model_module": "@jupyter-widgets/base",
      "model_module_version": "1.0.0",
      "model_name": "LayoutModel",
      "state": {}
     },
     "64567f913f574abfafda823bec6dad4f": {
      "model_module": "@jupyter-widgets/base",
      "model_module_version": "1.0.0",
      "model_name": "LayoutModel",
      "state": {
       "height": "auto",
       "margin": "0",
       "width": "auto"
      }
     },
     "647d3e2738334d13bc0522997d6cba91": {
      "model_module": "@jupyter-widgets/controls",
      "model_module_version": "1.2.0",
      "model_name": "ButtonModel",
      "state": {
       "button_style": "warning",
       "description": "38",
       "layout": "IPY_MODEL_16df380d38fb47a2bbb217b953037b65",
       "style": "IPY_MODEL_c25d83149a4240cbb8297749e503bbd2"
      }
     },
     "64a5d78267e44e228b915a34046c2564": {
      "model_module": "@jupyter-widgets/controls",
      "model_module_version": "1.2.0",
      "model_name": "ButtonStyleModel",
      "state": {}
     },
     "64c00059b0a84dd0b8442fb0d559f5bd": {
      "model_module": "@jupyter-widgets/controls",
      "model_module_version": "1.2.0",
      "model_name": "ButtonModel",
      "state": {
       "layout": "IPY_MODEL_a5aafc5fec484d77a39f715c3d1a1587",
       "style": "IPY_MODEL_6116d16c7ad94a508ae660d85f4b8f7b"
      }
     },
     "64c795cd196f4105ad2fb0bd0ff5caed": {
      "model_module": "@jupyter-widgets/controls",
      "model_module_version": "1.2.0",
      "model_name": "ButtonModel",
      "state": {
       "layout": "IPY_MODEL_97f59d9afbe840f3a0be0c37d5e84ae8",
       "style": "IPY_MODEL_4bbffed757e34d98b461b8bc0f1d23c4"
      }
     },
     "64efbb2c3e6b465194d12b63f064695d": {
      "model_module": "@jupyter-widgets/controls",
      "model_module_version": "1.2.0",
      "model_name": "ButtonModel",
      "state": {
       "button_style": "danger",
       "description": "weight=1; 0%",
       "layout": "IPY_MODEL_36f92e74bf5c4bc79a5edc1f072a6b2c",
       "style": "IPY_MODEL_dc6f37b3001f424fb9b05e7f22500e45"
      }
     },
     "6500120db2214488aeeddc89a156c046": {
      "model_module": "@jupyter-widgets/controls",
      "model_module_version": "1.2.0",
      "model_name": "ButtonStyleModel",
      "state": {}
     },
     "65037a72ea3e4bb098c42d9a239fa90e": {
      "model_module": "@jupyter-widgets/controls",
      "model_module_version": "1.2.0",
      "model_name": "ButtonStyleModel",
      "state": {
       "button_color": "yellow"
      }
     },
     "6514025c7d97463eab686484aa902270": {
      "model_module": "@jupyter-widgets/controls",
      "model_module_version": "1.2.0",
      "model_name": "GridBoxModel",
      "state": {
       "children": [
        "IPY_MODEL_652f0fa5b1a2468cbea8908added4a35",
        "IPY_MODEL_f47e0e60e79b4baab9913d909d1d833d",
        "IPY_MODEL_b24d954bd5e342de93849eddd84fb68f",
        "IPY_MODEL_5f70c6db2e7944459b17cb134c346466",
        "IPY_MODEL_4279579981294b599e72afa659176754",
        "IPY_MODEL_2f1047bd7a504b4fa0e6c31f57db9641",
        "IPY_MODEL_d7b3a1de2958464bab11c24d698254dd",
        "IPY_MODEL_06b7e1f5deb9492c8af3a53dfcd627e2"
       ],
       "layout": "IPY_MODEL_0f990f255a6941999c723ad2b3bc352e"
      }
     },
     "652f0fa5b1a2468cbea8908added4a35": {
      "model_module": "@jupyter-widgets/controls",
      "model_module_version": "1.2.0",
      "model_name": "ButtonModel",
      "state": {
       "layout": "IPY_MODEL_c9ea692baeb946de96bd3ed36e154abc",
       "style": "IPY_MODEL_b3edc635b2c84d788caf728edd9f1bbf"
      }
     },
     "65466b346f5c476ea5b287e5617a7716": {
      "model_module": "@jupyter-widgets/base",
      "model_module_version": "1.0.0",
      "model_name": "LayoutModel",
      "state": {
       "height": "auto",
       "width": "auto"
      }
     },
     "6570791ecbd442b6b31340ca9b3ff6e0": {
      "model_module": "@jupyter-widgets/controls",
      "model_module_version": "1.2.0",
      "model_name": "ButtonModel",
      "state": {
       "layout": "IPY_MODEL_64567f913f574abfafda823bec6dad4f",
       "style": "IPY_MODEL_c2005b32dab1408390f8c77eafc7e7c8"
      }
     },
     "6593fdfd629f433ea8a97f18f44f64af": {
      "model_module": "@jupyter-widgets/controls",
      "model_module_version": "1.2.0",
      "model_name": "ButtonStyleModel",
      "state": {
       "button_color": "olive"
      }
     },
     "65b2496dd6934ef58b0b6404942acb8c": {
      "model_module": "@jupyter-widgets/controls",
      "model_module_version": "1.2.0",
      "model_name": "ButtonModel",
      "state": {
       "layout": "IPY_MODEL_a5aafc5fec484d77a39f715c3d1a1587",
       "style": "IPY_MODEL_1ec6f56a6cc54a61a653cbd60fa60bd5"
      }
     },
     "65b4c11194ab4beea69006c1404e8681": {
      "model_module": "@jupyter-widgets/base",
      "model_module_version": "1.0.0",
      "model_name": "LayoutModel",
      "state": {}
     },
     "65e752b790a041e9adea816eaf88b7e9": {
      "model_module": "@jupyter-widgets/controls",
      "model_module_version": "1.2.0",
      "model_name": "ButtonStyleModel",
      "state": {}
     },
     "65e793fb9415443db5f9b9855733d42d": {
      "model_module": "@jupyter-widgets/controls",
      "model_module_version": "1.2.0",
      "model_name": "ButtonModel",
      "state": {
       "button_style": "danger",
       "description": "weight=1; 0%",
       "layout": "IPY_MODEL_98f84d59002f46c3973eafdf7b668c56",
       "style": "IPY_MODEL_aee0c1334a164694aa2622a4631d53d8"
      }
     },
     "6612ee0c498d46088bc745ecfed550df": {
      "model_module": "@jupyter-widgets/controls",
      "model_module_version": "1.2.0",
      "model_name": "ButtonModel",
      "state": {
       "layout": "IPY_MODEL_838146113b404f3cab0775e9ec2fb331",
       "style": "IPY_MODEL_9fcc2ce900dd4b30acee501473d646a7"
      }
     },
     "661e888e41a041c58543acb39ea70ef4": {
      "model_module": "@jupyter-widgets/controls",
      "model_module_version": "1.2.0",
      "model_name": "ButtonStyleModel",
      "state": {}
     },
     "663d76139e034f019742c5181f45ac66": {
      "model_module": "@jupyter-widgets/controls",
      "model_module_version": "1.2.0",
      "model_name": "ButtonStyleModel",
      "state": {}
     },
     "665461c5bf6b41a79358fb2cc1e0e844": {
      "model_module": "@jupyter-widgets/controls",
      "model_module_version": "1.2.0",
      "model_name": "ButtonStyleModel",
      "state": {}
     },
     "6655d5d792a741d09a090f14ce8826f7": {
      "model_module": "@jupyter-widgets/controls",
      "model_module_version": "1.2.0",
      "model_name": "ButtonModel",
      "state": {
       "layout": "IPY_MODEL_7263ddecabeb4e269b32136d72ee4abd",
       "style": "IPY_MODEL_1a3dcc136330477aafdbb897c90ce1ec"
      }
     },
     "66582f6673924c4f943d265084242d7f": {
      "model_module": "@jupyter-widgets/controls",
      "model_module_version": "1.2.0",
      "model_name": "ButtonModel",
      "state": {
       "layout": "IPY_MODEL_a0e22ef5a1134a18b8992c7e7045c52c",
       "style": "IPY_MODEL_663d76139e034f019742c5181f45ac66"
      }
     },
     "66808ab8473f4769a33c3062f7dcc002": {
      "model_module": "@jupyter-widgets/controls",
      "model_module_version": "1.2.0",
      "model_name": "ButtonModel",
      "state": {
       "description": "staple",
       "layout": "IPY_MODEL_6447e1f4191f4bfcbb7f422ab34cc162",
       "style": "IPY_MODEL_0691746f11a7456c9b722993225b8af5"
      }
     },
     "6689970a7f5c4f50947d444b6339033d": {
      "model_module": "@jupyter-widgets/controls",
      "model_module_version": "1.2.0",
      "model_name": "ButtonStyleModel",
      "state": {
       "button_color": "salmon"
      }
     },
     "66abe9638dc64267af61dc11864c0df9": {
      "model_module": "@jupyter-widgets/controls",
      "model_module_version": "1.2.0",
      "model_name": "ButtonStyleModel",
      "state": {}
     },
     "66c057f51d0844f988a9a23891780d80": {
      "model_module": "@jupyter-widgets/controls",
      "model_module_version": "1.2.0",
      "model_name": "ButtonModel",
      "state": {
       "layout": "IPY_MODEL_01ae67175dea44bfa21ca0cbc48be329",
       "style": "IPY_MODEL_f30fc93e9b134b17ada927c4e08725f9"
      }
     },
     "66d3270e1c504db396806d170c1632c5": {
      "model_module": "@jupyter-widgets/controls",
      "model_module_version": "1.2.0",
      "model_name": "ButtonModel",
      "state": {
       "button_style": "danger",
       "description": "Danger Button",
       "layout": "IPY_MODEL_bff2aa1d5b2440a29bd3d36a8d1be2a6",
       "style": "IPY_MODEL_e5afc340e2d74170a0151643e5372b3d"
      }
     },
     "66e8a51b7f7b43f791cb64a853f3a521": {
      "model_module": "@jupyter-widgets/controls",
      "model_module_version": "1.2.0",
      "model_name": "ButtonStyleModel",
      "state": {}
     },
     "67135ad991e7461e8ae8f85a11c52361": {
      "model_module": "@jupyter-widgets/controls",
      "model_module_version": "1.2.0",
      "model_name": "ButtonModel",
      "state": {
       "layout": "IPY_MODEL_35e07d15f5c14904936c5a43ba07b967",
       "style": "IPY_MODEL_1673d8f531cc4de896081401b82004e9"
      }
     },
     "677ca7223e6f4d2597b7dafb9c5ff7af": {
      "model_module": "@jupyter-widgets/controls",
      "model_module_version": "1.2.0",
      "model_name": "ButtonStyleModel",
      "state": {}
     },
     "67aa363332194cdd93c6cf8e3119fcc6": {
      "model_module": "@jupyter-widgets/base",
      "model_module_version": "1.0.0",
      "model_name": "LayoutModel",
      "state": {}
     },
     "67b5495b7f7c4bb490b0adcc05a834a3": {
      "model_module": "@jupyter-widgets/controls",
      "model_module_version": "1.2.0",
      "model_name": "ButtonStyleModel",
      "state": {
       "button_color": "blue"
      }
     },
     "67d6032233904cd6907750abad6838c6": {
      "model_module": "@jupyter-widgets/controls",
      "model_module_version": "1.2.0",
      "model_name": "ButtonStyleModel",
      "state": {}
     },
     "67e3ec5ab00b41a988698f1c7634eb0e": {
      "model_module": "@jupyter-widgets/controls",
      "model_module_version": "1.2.0",
      "model_name": "ButtonModel",
      "state": {
       "button_style": "warning",
       "description": "31",
       "layout": "IPY_MODEL_d2db15f9d1834946bd4923f3faf2a54f",
       "style": "IPY_MODEL_3ba52c5250244d59897ebd29fc923b9a"
      }
     },
     "67f0bfc349c84df8a9ffb75117f2bb7b": {
      "model_module": "@jupyter-widgets/controls",
      "model_module_version": "1.2.0",
      "model_name": "ButtonModel",
      "state": {
       "layout": "IPY_MODEL_a997cf87cb444be1a8febdf657c22511",
       "style": "IPY_MODEL_16a1130aa63a4bdda2a9ea0488966eb4"
      }
     },
     "67f7e50adeed4ec5874563ede1865cf3": {
      "model_module": "@jupyter-widgets/base",
      "model_module_version": "1.0.0",
      "model_name": "LayoutModel",
      "state": {
       "grid_template": "auto / auto auto auto auto auto"
      }
     },
     "68480e8eba8a4f5db070364ccaad9625": {
      "model_module": "@jupyter-widgets/base",
      "model_module_version": "1.0.0",
      "model_name": "LayoutModel",
      "state": {
       "grid_template": "50px 100px / 25% 10% auto 200px"
      }
     },
     "6852ba35278a4241bc7558a7d0cadfc7": {
      "model_module": "@jupyter-widgets/controls",
      "model_module_version": "1.2.0",
      "model_name": "ButtonStyleModel",
      "state": {}
     },
     "685743a4a19b42999b5ffdd7ca77356f": {
      "model_module": "@jupyter-widgets/controls",
      "model_module_version": "1.2.0",
      "model_name": "SliderStyleModel",
      "state": {
       "description_width": "initial"
      }
     },
     "686812bd18f4492ea356de1afa412427": {
      "model_module": "@jupyter-widgets/controls",
      "model_module_version": "1.2.0",
      "model_name": "BoxModel",
      "state": {
       "children": [
        "IPY_MODEL_da50c912e8ee4ea1abe8e2f94c226ab9",
        "IPY_MODEL_fea4c257d60b4b53a0247d8d2e96c650"
       ],
       "layout": "IPY_MODEL_addf6f78f36149718c9b21ed3851d43a"
      }
     },
     "686d4e34c9b943d8aaa8b169858fa0a3": {
      "model_module": "@jupyter-widgets/controls",
      "model_module_version": "1.2.0",
      "model_name": "ButtonModel",
      "state": {
       "layout": "IPY_MODEL_4d53052a4a3c4ea08b4ae8a0f20ff0ac",
       "style": "IPY_MODEL_a3843512f4274f4f9a44f006d9bdcbf1"
      }
     },
     "687bb36d7737419e8d9764896fe0d183": {
      "model_module": "@jupyter-widgets/base",
      "model_module_version": "1.0.0",
      "model_name": "LayoutModel",
      "state": {
       "flex": "3 1 0%",
       "width": "auto"
      }
     },
     "68840d7cb19144d08361c77405293778": {
      "model_module": "@jupyter-widgets/controls",
      "model_module_version": "1.2.0",
      "model_name": "ButtonStyleModel",
      "state": {
       "button_color": "blue"
      }
     },
     "68a055e20ff24a6a87734da3e02cff3a": {
      "model_module": "@jupyter-widgets/controls",
      "model_module_version": "1.2.0",
      "model_name": "ButtonStyleModel",
      "state": {
       "button_color": "red"
      }
     },
     "68dbf392bf89439b98665b8bffad008b": {
      "model_module": "@jupyter-widgets/controls",
      "model_module_version": "1.2.0",
      "model_name": "ButtonStyleModel",
      "state": {}
     },
     "68eb70474d8141a18a3a11ff9ebe67ea": {
      "model_module": "@jupyter-widgets/controls",
      "model_module_version": "1.2.0",
      "model_name": "ButtonStyleModel",
      "state": {}
     },
     "695786288d194a6188c5b3229f389697": {
      "model_module": "@jupyter-widgets/controls",
      "model_module_version": "1.2.0",
      "model_name": "ButtonModel",
      "state": {
       "button_style": "warning",
       "description": "25",
       "layout": "IPY_MODEL_79e6f20409fa4963aff904a921b6d604",
       "style": "IPY_MODEL_3ac7d9935b0e45358ec0287fdf55934b"
      }
     },
     "696702df407d4e5cb1046cefccb0c4db": {
      "model_module": "@jupyter-widgets/controls",
      "model_module_version": "1.2.0",
      "model_name": "ButtonStyleModel",
      "state": {}
     },
     "6970cb58befc4f0a8a218c5c71ce32d2": {
      "model_module": "@jupyter-widgets/controls",
      "model_module_version": "1.2.0",
      "model_name": "ButtonStyleModel",
      "state": {}
     },
     "6985ad31b03340e2a0dbc1afebb0571d": {
      "model_module": "@jupyter-widgets/controls",
      "model_module_version": "1.2.0",
      "model_name": "ButtonModel",
      "state": {
       "layout": "IPY_MODEL_65466b346f5c476ea5b287e5617a7716",
       "style": "IPY_MODEL_8f66c49442c94d708f8b0c2f433995ea"
      }
     },
     "69933ee62ad9427dbefde7b05ba98323": {
      "model_module": "@jupyter-widgets/controls",
      "model_module_version": "1.2.0",
      "model_name": "ButtonStyleModel",
      "state": {}
     },
     "69c8a43ca39245c79205ac6fb7953e46": {
      "model_module": "@jupyter-widgets/controls",
      "model_module_version": "1.2.0",
      "model_name": "ButtonStyleModel",
      "state": {}
     },
     "69da115e5fce4f779381ae407d0e5a0b": {
      "model_module": "@jupyter-widgets/controls",
      "model_module_version": "1.2.0",
      "model_name": "ButtonModel",
      "state": {
       "button_style": "danger",
       "description": "correct",
       "layout": "IPY_MODEL_9c32ec512a2c44cd9f57fac2a3aca9a1",
       "style": "IPY_MODEL_3fee740222b14809925792c3e0dc2314"
      }
     },
     "69e4d5c6cbfd488994f06aad82ad2cdb": {
      "model_module": "@jupyter-widgets/controls",
      "model_module_version": "1.2.0",
      "model_name": "ButtonModel",
      "state": {
       "layout": "IPY_MODEL_3d81651a297740e381ac147d7c10fcbe",
       "style": "IPY_MODEL_360aaa8d8a884992a654d04624a6c473"
      }
     },
     "69f3a29ffe2a4321b7897e72f03cfc49": {
      "model_module": "@jupyter-widgets/controls",
      "model_module_version": "1.2.0",
      "model_name": "ButtonStyleModel",
      "state": {
       "button_color": "blue"
      }
     },
     "6a3d6e9869af4c2a876f0c5d84175b67": {
      "model_module": "@jupyter-widgets/controls",
      "model_module_version": "1.2.0",
      "model_name": "ButtonModel",
      "state": {
       "layout": "IPY_MODEL_4d53052a4a3c4ea08b4ae8a0f20ff0ac",
       "style": "IPY_MODEL_a7518df6973d4245b65e95dc4aef09e4"
      }
     },
     "6a5966aa754341e094108202dc3e539e": {
      "model_module": "@jupyter-widgets/controls",
      "model_module_version": "1.2.0",
      "model_name": "ButtonStyleModel",
      "state": {
       "button_color": "darkseagreen"
      }
     },
     "6a5a9279f5fb42fa872520618d23b58c": {
      "model_module": "@jupyter-widgets/controls",
      "model_module_version": "1.2.0",
      "model_name": "IntSliderModel",
      "state": {
       "description": "A too long description",
       "layout": "IPY_MODEL_7008b43f814a41ba8c99ae791e324622",
       "style": "IPY_MODEL_3a49f8cc1f2341089a606fa65bbd76a3"
      }
     },
     "6a65e28d5d4b43eb8398d7254554c99d": {
      "model_module": "@jupyter-widgets/base",
      "model_module_version": "1.0.0",
      "model_name": "LayoutModel",
      "state": {}
     },
     "6ab8cd979a764df6b98b3f77961f6cea": {
      "model_module": "@jupyter-widgets/controls",
      "model_module_version": "1.2.0",
      "model_name": "ButtonModel",
      "state": {
       "layout": "IPY_MODEL_35e07d15f5c14904936c5a43ba07b967",
       "style": "IPY_MODEL_1673d8f531cc4de896081401b82004e9"
      }
     },
     "6b10f5ad7fc4492bac67cd166332ed92": {
      "model_module": "@jupyter-widgets/controls",
      "model_module_version": "1.2.0",
      "model_name": "ButtonStyleModel",
      "state": {}
     },
     "6b13b697889f4d29be045d33903596f4": {
      "model_module": "@jupyter-widgets/controls",
      "model_module_version": "1.2.0",
      "model_name": "ButtonModel",
      "state": {
       "layout": "IPY_MODEL_103234e568ba4bb98ea79e609e3433cf",
       "style": "IPY_MODEL_07f4c746f33144f2a1e68056a07a39f4"
      }
     },
     "6b156acfc5bf4c41b0166c57c3a275dd": {
      "model_module": "@jupyter-widgets/controls",
      "model_module_version": "1.2.0",
      "model_name": "ButtonModel",
      "state": {
       "layout": "IPY_MODEL_fab719789b8e45a592a40bdcb0d6d5da",
       "style": "IPY_MODEL_cb6e2037f2ce4346acfa1623ab0ccba4"
      }
     },
     "6b32441b4cc5435ba507948b252d60d8": {
      "model_module": "@jupyter-widgets/base",
      "model_module_version": "1.0.0",
      "model_name": "LayoutModel",
      "state": {}
     },
     "6b3312f9e1f04bab87dbe1bedfa442a1": {
      "model_module": "@jupyter-widgets/controls",
      "model_module_version": "1.2.0",
      "model_name": "ButtonModel",
      "state": {
       "description": "horse",
       "layout": "IPY_MODEL_e983c13ac703417183039e54f9500c0e",
       "style": "IPY_MODEL_fcb23679ff024eccbc65b48a295b428a"
      }
     },
     "6b410ec4bd4d475aac9179d334dd2f48": {
      "model_module": "@jupyter-widgets/controls",
      "model_module_version": "1.2.0",
      "model_name": "ButtonStyleModel",
      "state": {}
     },
     "6b835d73ef264c67b97f5cb0b4970d75": {
      "model_module": "@jupyter-widgets/controls",
      "model_module_version": "1.2.0",
      "model_name": "ButtonModel",
      "state": {
       "layout": "IPY_MODEL_edb5edbb1e334fd6a8a6f4e36526261c",
       "style": "IPY_MODEL_0debe83240dc4cdcab00896dfbf2725f"
      }
     },
     "6b8eeb358eee4d7fb4717e57210a7457": {
      "model_module": "@jupyter-widgets/base",
      "model_module_version": "1.0.0",
      "model_name": "LayoutModel",
      "state": {
       "grid_template_areas": "\n            \"header header header header\"\n            \"main main . sidebar \"\n            \"footer footer footer footer\"\n            ",
       "grid_template_columns": "25% 25% 25% 25%",
       "grid_template_rows": "auto auto auto",
       "width": "50%"
      }
     },
     "6b993b2c17674c6ea8e982660a3e3d42": {
      "model_module": "@jupyter-widgets/controls",
      "model_module_version": "1.2.0",
      "model_name": "DescriptionStyleModel",
      "state": {
       "description_width": ""
      }
     },
     "6bb723490fa647939b5e915be1d19060": {
      "model_module": "@jupyter-widgets/base",
      "model_module_version": "1.0.0",
      "model_name": "LayoutModel",
      "state": {
       "height": "auto",
       "width": "auto"
      }
     },
     "6bd722c41e304346afe3933e436f547c": {
      "model_module": "@jupyter-widgets/base",
      "model_module_version": "1.0.0",
      "model_name": "LayoutModel",
      "state": {
       "grid_area": "footer",
       "width": "auto"
      }
     },
     "6be3e3c42e2c44bba0a0e6cc5a51f78f": {
      "model_module": "@jupyter-widgets/controls",
      "model_module_version": "1.2.0",
      "model_name": "ButtonModel",
      "state": {
       "layout": "IPY_MODEL_4999f0f5d1284b2cb60f35ac3628f4a1",
       "style": "IPY_MODEL_9ced759d935e43f1a15b8ccaa1bff549"
      }
     },
     "6c0ef80f603e4cacb7a9ff1375c71a25": {
      "model_module": "@jupyter-widgets/controls",
      "model_module_version": "1.2.0",
      "model_name": "ButtonStyleModel",
      "state": {}
     },
     "6c129983e19142bbbc2dc8568995e26a": {
      "model_module": "@jupyter-widgets/controls",
      "model_module_version": "1.2.0",
      "model_name": "ButtonModel",
      "state": {
       "layout": "IPY_MODEL_36a441e29f00483985e00d555e6108b7",
       "style": "IPY_MODEL_0683f0f4f50141c48a21ae10572b3fc1"
      }
     },
     "6c474b07068f4f189cbdf9e840408633": {
      "model_module": "@jupyter-widgets/controls",
      "model_module_version": "1.2.0",
      "model_name": "ButtonModel",
      "state": {
       "button_style": "warning",
       "description": "14",
       "layout": "IPY_MODEL_e20ec9c5c01e485bbfa90160b80eb8f4",
       "style": "IPY_MODEL_ac7af33615bd446bb40ed4ef4abc32a4"
      }
     },
     "6c7cf01258a54cd18266c7fd9c241d1e": {
      "model_module": "@jupyter-widgets/base",
      "model_module_version": "1.0.0",
      "model_name": "LayoutModel",
      "state": {}
     },
     "6c8b1af7eb684fa585ab4771a9f698cd": {
      "model_module": "@jupyter-widgets/controls",
      "model_module_version": "1.2.0",
      "model_name": "ButtonStyleModel",
      "state": {}
     },
     "6c9877ead532484aa68020b870facb64": {
      "model_module": "@jupyter-widgets/controls",
      "model_module_version": "1.2.0",
      "model_name": "BoxModel",
      "state": {
       "children": [
        "IPY_MODEL_79cf1616958040268fd9c88f9c8c00ca",
        "IPY_MODEL_3c6ddde55f4845f58b377b1f39c4a7e6",
        "IPY_MODEL_cd410ed8632644fbbc263c56b23bd604",
        "IPY_MODEL_f76c6c52df9a44fd9ca349589f8ae37f"
       ],
       "layout": "IPY_MODEL_34410363eb534083bd227909bbdb4871"
      }
     },
     "6cc09107ea974e7da0448efd2a65d278": {
      "model_module": "@jupyter-widgets/controls",
      "model_module_version": "1.2.0",
      "model_name": "ButtonModel",
      "state": {
       "layout": "IPY_MODEL_cd00ac948481485281a97b3b91a79e4e",
       "style": "IPY_MODEL_9395a3cf87454e9a8e241577a8268a54"
      }
     },
     "6cd9a16b46f0482dbe30a6a0d58b1dda": {
      "model_module": "@jupyter-widgets/controls",
      "model_module_version": "1.2.0",
      "model_name": "ButtonStyleModel",
      "state": {}
     },
     "6cdf7de4db404aa9bc36cda261199834": {
      "model_module": "@jupyter-widgets/controls",
      "model_module_version": "1.2.0",
      "model_name": "ButtonModel",
      "state": {
       "layout": "IPY_MODEL_104c1bfded49449794e8408e206b484c",
       "style": "IPY_MODEL_1f992ad0340b44c387d10cb48509c5d5"
      }
     },
     "6cfbbc0529d64f389efdc822028c053b": {
      "model_module": "@jupyter-widgets/controls",
      "model_module_version": "1.2.0",
      "model_name": "ButtonStyleModel",
      "state": {
       "button_color": "red"
      }
     },
     "6cfc05ddddb64ee9843c72c9e8869e4d": {
      "model_module": "@jupyter-widgets/controls",
      "model_module_version": "1.2.0",
      "model_name": "ButtonModel",
      "state": {
       "layout": "IPY_MODEL_0644b7b8372048b8bdbd9a2fb6cbe839",
       "style": "IPY_MODEL_22d68066b4964df58ee9ce69e38506ba"
      }
     },
     "6cfca8337fc44cf48666f74a5fa43c43": {
      "model_module": "@jupyter-widgets/controls",
      "model_module_version": "1.2.0",
      "model_name": "ButtonStyleModel",
      "state": {}
     },
     "6d0b9c6a3f144501b83a01cc85c2c457": {
      "model_module": "@jupyter-widgets/controls",
      "model_module_version": "1.2.0",
      "model_name": "ButtonModel",
      "state": {
       "button_style": "warning",
       "description": "4",
       "layout": "IPY_MODEL_16df380d38fb47a2bbb217b953037b65",
       "style": "IPY_MODEL_565139962b3d4e649196117c6d0aff52"
      }
     },
     "6d358b3a66f145b09c4cae47e3f48768": {
      "model_module": "@jupyter-widgets/base",
      "model_module_version": "1.0.0",
      "model_name": "LayoutModel",
      "state": {}
     },
     "6d62b54d45f3439aa15e50fc4533aeb8": {
      "model_module": "@jupyter-widgets/controls",
      "model_module_version": "1.2.0",
      "model_name": "LabelModel",
      "state": {
       "layout": "IPY_MODEL_4651fd493773483cb2a1bb02151582d5",
       "style": "IPY_MODEL_fa8b8616e85f45c5894d12003de074d9",
       "value": "Ship size"
      }
     },
     "6d968510dac4476baa4e1bee2b551ac9": {
      "model_module": "@jupyter-widgets/base",
      "model_module_version": "1.0.0",
      "model_name": "LayoutModel",
      "state": {
       "grid_area": "main",
       "width": "auto"
      }
     },
     "6dcf1389cc784db0bee083d6ce11652c": {
      "model_module": "@jupyter-widgets/controls",
      "model_module_version": "1.2.0",
      "model_name": "ButtonStyleModel",
      "state": {}
     },
     "6dea539d15154564ae5057a4f766d7dc": {
      "model_module": "@jupyter-widgets/controls",
      "model_module_version": "1.2.0",
      "model_name": "BoxModel",
      "state": {
       "children": [
        "IPY_MODEL_7d29f5a9a33b425bb57fd282d826fc05",
        "IPY_MODEL_cc5da32438f24678884d36e86e95fc82"
       ],
       "layout": "IPY_MODEL_27c46bcd29e14115b934a43f66853bee"
      }
     },
     "6e27090b952a48509dd0a20fc2dc8805": {
      "model_module": "@jupyter-widgets/base",
      "model_module_version": "1.0.0",
      "model_name": "LayoutModel",
      "state": {
       "grid_gap": "3px 4px",
       "grid_template": "50px 100px / 25% 10% auto 200px"
      }
     },
     "6e3201399c284e1f88e65b8f7036f9d9": {
      "model_module": "@jupyter-widgets/base",
      "model_module_version": "1.0.0",
      "model_name": "LayoutModel",
      "state": {}
     },
     "6e3d0a77a4d44804b10b675d2e6a571b": {
      "model_module": "@jupyter-widgets/base",
      "model_module_version": "1.0.0",
      "model_name": "LayoutModel",
      "state": {
       "align_items": "stretch",
       "border": "solid 2px",
       "display": "flex",
       "flex_flow": "column",
       "width": "50%"
      }
     },
     "6e45b1d8665f406fa82696e7a6cac487": {
      "model_module": "@jupyter-widgets/base",
      "model_module_version": "1.0.0",
      "model_name": "LayoutModel",
      "state": {}
     },
     "6e7ac3ea208f4bbaa6aa949faf67890c": {
      "model_module": "@jupyter-widgets/controls",
      "model_module_version": "1.2.0",
      "model_name": "ButtonModel",
      "state": {
       "layout": "IPY_MODEL_3d81651a297740e381ac147d7c10fcbe",
       "style": "IPY_MODEL_d9c105e1560440b7981b5eedad43ccb2"
      }
     },
     "6e91bd5061f74f5d972998097204f9e3": {
      "model_module": "@jupyter-widgets/controls",
      "model_module_version": "1.2.0",
      "model_name": "ButtonModel",
      "state": {
       "layout": "IPY_MODEL_3e4e67e55d064e8fa34459e3fd93622d",
       "style": "IPY_MODEL_9d4c8498e0ad4ae5aee853d82b057db5"
      }
     },
     "6eb3bb31b85a4ba48cba70ec32459308": {
      "model_module": "@jupyter-widgets/controls",
      "model_module_version": "1.2.0",
      "model_name": "ButtonModel",
      "state": {
       "layout": "IPY_MODEL_838146113b404f3cab0775e9ec2fb331",
       "style": "IPY_MODEL_d344fbbf38ef41e5917706ce7c924cc7"
      }
     },
     "6eb7f2bb9d454316867636c304f16bf2": {
      "model_module": "@jupyter-widgets/controls",
      "model_module_version": "1.2.0",
      "model_name": "ButtonStyleModel",
      "state": {}
     },
     "6ecdc7f6830a4b188ab0822ec376bb6a": {
      "model_module": "@jupyter-widgets/controls",
      "model_module_version": "1.2.0",
      "model_name": "IntSliderModel",
      "state": {
       "description": "\\(\\int_0^t f\\)",
       "layout": "IPY_MODEL_fcee991a2643425d89689c2965cee8d1",
       "style": "IPY_MODEL_48fd2aeeef2c4ea994d6d60831e9f00a"
      }
     },
     "6ee683e74e964c2f9605a46d6924c1ac": {
      "model_module": "@jupyter-widgets/controls",
      "model_module_version": "1.2.0",
      "model_name": "ButtonStyleModel",
      "state": {
       "button_color": "green"
      }
     },
     "6f40ca184b52431fb129559993d708e0": {
      "model_module": "@jupyter-widgets/base",
      "model_module_version": "1.0.0",
      "model_name": "LayoutModel",
      "state": {
       "height": "auto",
       "margin": "0",
       "width": "auto"
      }
     },
     "6f6a348e1e694ad18a0e123e143beac9": {
      "model_module": "@jupyter-widgets/controls",
      "model_module_version": "1.2.0",
      "model_name": "DescriptionStyleModel",
      "state": {
       "description_width": ""
      }
     },
     "6f78c389a2aa442f9564842959c99ad1": {
      "model_module": "@jupyter-widgets/base",
      "model_module_version": "1.0.0",
      "model_name": "LayoutModel",
      "state": {
       "height": "auto",
       "width": "auto"
      }
     },
     "6f7b79066b9c489ba8ab367505076cce": {
      "model_module": "@jupyter-widgets/controls",
      "model_module_version": "1.2.0",
      "model_name": "ButtonModel",
      "state": {
       "layout": "IPY_MODEL_ab4f1d5f0c594bbc9c04549f977b9f0f",
       "style": "IPY_MODEL_3a8a256a09f44eeea3056a255d1fec03"
      }
     },
     "6f80b06bab9f4cb7a0fe91536d986eb0": {
      "model_module": "@jupyter-widgets/controls",
      "model_module_version": "1.2.0",
      "model_name": "BoxModel",
      "state": {
       "children": [
        "IPY_MODEL_a8808f88e0f441c0838213d8c5171cec",
        "IPY_MODEL_7e7807bd02fd450caca73cb47556ac8f",
        "IPY_MODEL_64efbb2c3e6b465194d12b63f064695d"
       ],
       "layout": "IPY_MODEL_a623253d09c341dc9defacc4718c7313"
      }
     },
     "6fa613a8c2dd4340a5e1554859bf4c2a": {
      "model_module": "@jupyter-widgets/base",
      "model_module_version": "1.0.0",
      "model_name": "LayoutModel",
      "state": {
       "flex": "1 1 0%",
       "width": "auto"
      }
     },
     "6fafe869e13542cebee71a1da5e85ac2": {
      "model_module": "@jupyter-widgets/controls",
      "model_module_version": "1.2.0",
      "model_name": "ButtonModel",
      "state": {
       "layout": "IPY_MODEL_7aa706c4594f4633bfc813ec6eca6e5c",
       "style": "IPY_MODEL_b5c3667d62d249c8a5d2546f7f413b70"
      }
     },
     "6fb372f4fe0b493babde251481a19f3f": {
      "model_module": "@jupyter-widgets/controls",
      "model_module_version": "1.2.0",
      "model_name": "ButtonModel",
      "state": {
       "layout": "IPY_MODEL_a922650c84614ed9b053f3c346caf79d",
       "style": "IPY_MODEL_9d22f3c96417453f90c2a86f9d4c11e7"
      }
     },
     "6fc51599b7474fec80f53acc97d28611": {
      "model_module": "@jupyter-widgets/controls",
      "model_module_version": "1.2.0",
      "model_name": "ButtonModel",
      "state": {
       "button_style": "warning",
       "description": "16",
       "layout": "IPY_MODEL_16df380d38fb47a2bbb217b953037b65",
       "style": "IPY_MODEL_d090ab57a8a343c38dca6b31ae3aa7f9"
      }
     },
     "6fc7c2a53a2944fda94ab10e5e3a726b": {
      "model_module": "@jupyter-widgets/controls",
      "model_module_version": "1.2.0",
      "model_name": "ButtonModel",
      "state": {
       "layout": "IPY_MODEL_af2aef9b5b0d4daa8e74e47e31ee0437",
       "style": "IPY_MODEL_9d86c44cee43471491a440c955773e2f"
      }
     },
     "6fd19c67ee694f25b60e8c6901c7e377": {
      "model_module": "@jupyter-widgets/controls",
      "model_module_version": "1.2.0",
      "model_name": "ButtonStyleModel",
      "state": {}
     },
     "6fe1f14add6e4f9bbb83f330dc26c1eb": {
      "model_module": "@jupyter-widgets/controls",
      "model_module_version": "1.2.0",
      "model_name": "ButtonStyleModel",
      "state": {}
     },
     "6fe2692c6df54fc8b7bb72b8945c8fe7": {
      "model_module": "@jupyter-widgets/controls",
      "model_module_version": "1.2.0",
      "model_name": "ButtonStyleModel",
      "state": {}
     },
     "6ff8608816394464a30167fd66e86369": {
      "model_module": "@jupyter-widgets/controls",
      "model_module_version": "1.2.0",
      "model_name": "LabelModel",
      "state": {
       "layout": "IPY_MODEL_8717d8d7ba104606a7d04d81d132c60e",
       "style": "IPY_MODEL_1b7e200fb3604405ad26b41ef1e7b409",
       "value": "Information"
      }
     },
     "6fffa7d9f77d4e55b3c0c19dacb23c53": {
      "model_module": "@jupyter-widgets/controls",
      "model_module_version": "1.2.0",
      "model_name": "ButtonStyleModel",
      "state": {}
     },
     "7008b43f814a41ba8c99ae791e324622": {
      "model_module": "@jupyter-widgets/base",
      "model_module_version": "1.0.0",
      "model_name": "LayoutModel",
      "state": {}
     },
     "702077bd9c1e4c4caa9d25c900b133aa": {
      "model_module": "@jupyter-widgets/base",
      "model_module_version": "1.0.0",
      "model_name": "LayoutModel",
      "state": {
       "height": "auto",
       "width": "auto"
      }
     },
     "702412678d4940e0892f728f2c494c56": {
      "model_module": "@jupyter-widgets/controls",
      "model_module_version": "1.2.0",
      "model_name": "IntSliderModel",
      "state": {
       "description": "\\(\\int_0^t f\\)",
       "layout": "IPY_MODEL_1144b1f41aae47a1a34e4a3659d2da11",
       "style": "IPY_MODEL_1f81dc0aaa6b43ccb10f804e2bbfedd1"
      }
     },
     "7025200a46d94aeab92d6a4eddde732e": {
      "model_module": "@jupyter-widgets/controls",
      "model_module_version": "1.2.0",
      "model_name": "IntSliderModel",
      "state": {
       "description": "A too long description",
       "layout": "IPY_MODEL_d835d37726d74f7ab3cf21a770abb041",
       "style": "IPY_MODEL_a29f75247e064d8eb6ff00893fda92d2"
      }
     },
     "706d95b63d0144b6a672412f3a219036": {
      "model_module": "@jupyter-widgets/base",
      "model_module_version": "1.0.0",
      "model_name": "LayoutModel",
      "state": {}
     },
     "70915e3bb8214cc38125732f857f0715": {
      "model_module": "@jupyter-widgets/controls",
      "model_module_version": "1.2.0",
      "model_name": "ButtonStyleModel",
      "state": {}
     },
     "70a5ee2242fb4a97b9437e1dec071c1d": {
      "model_module": "@jupyter-widgets/controls",
      "model_module_version": "1.2.0",
      "model_name": "ButtonModel",
      "state": {
       "layout": "IPY_MODEL_2dbf7836189c43ceacedac172f168e48",
       "style": "IPY_MODEL_1c333f95c2504843b4fa59f702ae7f34"
      }
     },
     "70a84f09889b479da81524d4cdd48ed4": {
      "model_module": "@jupyter-widgets/controls",
      "model_module_version": "1.2.0",
      "model_name": "ButtonStyleModel",
      "state": {}
     },
     "70e86a823c9943fa897db3ceeb3c745d": {
      "model_module": "@jupyter-widgets/controls",
      "model_module_version": "1.2.0",
      "model_name": "ButtonModel",
      "state": {
       "layout": "IPY_MODEL_3ee33ef73484447eacd6651d43b68f93",
       "style": "IPY_MODEL_a3090bb1c22d45f1b8bcd3957baffcee"
      }
     },
     "7119537fdb0748bc9c2b4757edc2d9af": {
      "model_module": "@jupyter-widgets/controls",
      "model_module_version": "1.2.0",
      "model_name": "ButtonModel",
      "state": {
       "layout": "IPY_MODEL_0092c073e9a448b1b99ac9470c49fef5",
       "style": "IPY_MODEL_52f6e6a024294d84a7308c1ff18833e0"
      }
     },
     "712622b841e24f779a9b2f711b6ebf44": {
      "model_module": "@jupyter-widgets/controls",
      "model_module_version": "1.2.0",
      "model_name": "ButtonStyleModel",
      "state": {}
     },
     "712b29d871554ed1880845f28bf9226e": {
      "model_module": "@jupyter-widgets/controls",
      "model_module_version": "1.2.0",
      "model_name": "ButtonStyleModel",
      "state": {}
     },
     "712bf23aaf9445a2986f66004a23eaae": {
      "model_module": "@jupyter-widgets/base",
      "model_module_version": "1.0.0",
      "model_name": "LayoutModel",
      "state": {}
     },
     "712f9e8f419048bf9e7176ed7ba1d5d3": {
      "model_module": "@jupyter-widgets/controls",
      "model_module_version": "1.2.0",
      "model_name": "ButtonModel",
      "state": {
       "layout": "IPY_MODEL_bd032ec0085648d8b4bee7b4b2e75fe2",
       "style": "IPY_MODEL_60e170a7ce634ef9a5578b99cb742a11"
      }
     },
     "71328a3e3d954455b28da5761aba8e5c": {
      "model_module": "@jupyter-widgets/controls",
      "model_module_version": "1.2.0",
      "model_name": "ButtonStyleModel",
      "state": {
       "button_color": "blue"
      }
     },
     "713eedd7236c4419af78f5a71ae37c7d": {
      "model_module": "@jupyter-widgets/controls",
      "model_module_version": "1.2.0",
      "model_name": "LabelModel",
      "state": {
       "layout": "IPY_MODEL_8e17d860434e4233a9f64203329c3d90",
       "style": "IPY_MODEL_a2aada4643654f6ba62c63571481a6ac",
       "value": "Egg style"
      }
     },
     "714910b8ab2744fe9a26e684fa3c8175": {
      "model_module": "@jupyter-widgets/controls",
      "model_module_version": "1.2.0",
      "model_name": "ButtonStyleModel",
      "state": {
       "button_color": "green"
      }
     },
     "714ddc2f3d744d83ac72fd6fc1cf98e0": {
      "model_module": "@jupyter-widgets/controls",
      "model_module_version": "1.2.0",
      "model_name": "ButtonStyleModel",
      "state": {}
     },
     "71582f31edd6480fb4eb4ad5de6933f1": {
      "model_module": "@jupyter-widgets/base",
      "model_module_version": "1.0.0",
      "model_name": "LayoutModel",
      "state": {
       "grid_template": "'\n    auto auto auto auto auto / auto\n    "
      }
     },
     "7164a801c9254619b3d3b8e8c2d656e1": {
      "model_module": "@jupyter-widgets/controls",
      "model_module_version": "1.2.0",
      "model_name": "ButtonStyleModel",
      "state": {
       "button_color": "darkseagreen"
      }
     },
     "71a8b8d602644c0bb4785d578a494d0f": {
      "model_module": "@jupyter-widgets/controls",
      "model_module_version": "1.2.0",
      "model_name": "ButtonModel",
      "state": {
       "button_style": "warning",
       "description": "26",
       "layout": "IPY_MODEL_a810a994ec8c404f8136c2e39def56aa",
       "style": "IPY_MODEL_166baca46b9941a5b7460f3b20ae0eb7"
      }
     },
     "71edbc4e034840e2a9927c2487c68700": {
      "model_module": "@jupyter-widgets/base",
      "model_module_version": "1.0.0",
      "model_name": "LayoutModel",
      "state": {
       "height": "50px",
       "width": "auto"
      }
     },
     "7207cc096ab245c2b6662399d0b2fd54": {
      "model_module": "@jupyter-widgets/controls",
      "model_module_version": "1.2.0",
      "model_name": "LabelModel",
      "state": {
       "layout": "IPY_MODEL_781e402458404fa599d66ba75be87a8b",
       "style": "IPY_MODEL_9e9b8f3034f44e6bbcb5df925e1b75a9",
       "value": "\\(e=mc^2\\)"
      }
     },
     "725a73922fa4463996a8f5e059f5a3db": {
      "model_module": "@jupyter-widgets/controls",
      "model_module_version": "1.2.0",
      "model_name": "LabelModel",
      "state": {
       "layout": "IPY_MODEL_adc04e9e63ce44938d52f10be7728a35",
       "style": "IPY_MODEL_285eaa2c2a4c45d687ff3ef195d7be4d",
       "value": "Information"
      }
     },
     "7263ddecabeb4e269b32136d72ee4abd": {
      "model_module": "@jupyter-widgets/base",
      "model_module_version": "1.0.0",
      "model_name": "LayoutModel",
      "state": {
       "height": "auto",
       "width": "auto"
      }
     },
     "726ab922593c4d18b58e733e561fded3": {
      "model_module": "@jupyter-widgets/base",
      "model_module_version": "1.0.0",
      "model_name": "LayoutModel",
      "state": {}
     },
     "727988a5bd944941b272616507871333": {
      "model_module": "@jupyter-widgets/controls",
      "model_module_version": "1.2.0",
      "model_name": "ButtonModel",
      "state": {
       "layout": "IPY_MODEL_aff83bbb224048c7bf1483521bfb0427",
       "style": "IPY_MODEL_847a5f4e6648404b94fa1d8e9efd37b0"
      }
     },
     "727c804c54974a69835673c2cca273e8": {
      "model_module": "@jupyter-widgets/controls",
      "model_module_version": "1.2.0",
      "model_name": "ButtonModel",
      "state": {
       "button_style": "danger",
       "description": "horse",
       "layout": "IPY_MODEL_4e77966225b340fcada10948f3b7386c",
       "style": "IPY_MODEL_ddcf6e958d764a27b749c703ed3603fa"
      }
     },
     "72907f20d4cc4b9eb02d7e0503093434": {
      "model_module": "@jupyter-widgets/base",
      "model_module_version": "1.0.0",
      "model_name": "LayoutModel",
      "state": {}
     },
     "7294f4e8a59a453991f0cf9bcdbfe678": {
      "model_module": "@jupyter-widgets/controls",
      "model_module_version": "1.2.0",
      "model_name": "ButtonStyleModel",
      "state": {}
     },
     "72a1c3289897487a9ef9cfaf58f256a4": {
      "model_module": "@jupyter-widgets/controls",
      "model_module_version": "1.2.0",
      "model_name": "ButtonStyleModel",
      "state": {}
     },
     "72af633c04a848b8a0432207d57fb473": {
      "model_module": "@jupyter-widgets/base",
      "model_module_version": "1.0.0",
      "model_name": "LayoutModel",
      "state": {
       "flex": "1 1 auto",
       "width": "auto"
      }
     },
     "72ccac26c98140b2a6bbb7c96f39ed1e": {
      "model_module": "@jupyter-widgets/controls",
      "model_module_version": "1.2.0",
      "model_name": "ButtonModel",
      "state": {
       "layout": "IPY_MODEL_3e4e67e55d064e8fa34459e3fd93622d",
       "style": "IPY_MODEL_9d4c8498e0ad4ae5aee853d82b057db5"
      }
     },
     "72e5f8b5b42b4fc9a3d9a67ad8bb1926": {
      "model_module": "@jupyter-widgets/controls",
      "model_module_version": "1.2.0",
      "model_name": "ButtonModel",
      "state": {
       "description": "Sidebar",
       "layout": "IPY_MODEL_f99955c875064329a8d49c080c474f3c",
       "style": "IPY_MODEL_ddfa4d7b61324b2f963d60d3afb0e65e"
      }
     },
     "72efcb6296754f1da80feec12809fc23": {
      "model_module": "@jupyter-widgets/base",
      "model_module_version": "1.0.0",
      "model_name": "LayoutModel",
      "state": {
       "height": "auto",
       "width": "auto"
      }
     },
     "73510e8a644946e4ad38cd61f6d8758d": {
      "model_module": "@jupyter-widgets/controls",
      "model_module_version": "1.2.0",
      "model_name": "ButtonStyleModel",
      "state": {}
     },
     "73b921942eb64c0aa2c25785aacb0024": {
      "model_module": "@jupyter-widgets/controls",
      "model_module_version": "1.2.0",
      "model_name": "ButtonStyleModel",
      "state": {}
     },
     "7419e74f2c5a46fbb7ea76e4a01bb117": {
      "model_module": "@jupyter-widgets/controls",
      "model_module_version": "1.2.0",
      "model_name": "SliderStyleModel",
      "state": {
       "description_width": "initial"
      }
     },
     "74570e2f6fa0423283a28715dddb580f": {
      "model_module": "@jupyter-widgets/base",
      "model_module_version": "1.0.0",
      "model_name": "LayoutModel",
      "state": {
       "height": "auto",
       "width": "auto"
      }
     },
     "74618bed64d248b8ab701efd8a934dc7": {
      "model_module": "@jupyter-widgets/controls",
      "model_module_version": "1.2.0",
      "model_name": "ButtonModel",
      "state": {
       "layout": "IPY_MODEL_7aa706c4594f4633bfc813ec6eca6e5c",
       "style": "IPY_MODEL_b5c3667d62d249c8a5d2546f7f413b70"
      }
     },
     "74e269d8a8f84e76b3d0c3197e18e2d7": {
      "model_module": "@jupyter-widgets/controls",
      "model_module_version": "1.2.0",
      "model_name": "ButtonStyleModel",
      "state": {}
     },
     "74f3bc129b1241b7a569f43186ad8ebf": {
      "model_module": "@jupyter-widgets/controls",
      "model_module_version": "1.2.0",
      "model_name": "ButtonModel",
      "state": {
       "layout": "IPY_MODEL_5f93039a824040f6892c5a36aa5b0393",
       "style": "IPY_MODEL_23f4ee2b53c743e5b64b6a0868e991ae"
      }
     },
     "74fa6935edb64e02b4630d9c52b25ace": {
      "model_module": "@jupyter-widgets/controls",
      "model_module_version": "1.2.0",
      "model_name": "ButtonModel",
      "state": {
       "layout": "IPY_MODEL_c66d6c30f1c9459789e9c57d531c8ce5",
       "style": "IPY_MODEL_34bfa7ed66454f30a281bd9bb318d443"
      }
     },
     "754c89b7c70342acbd7131a41597f32b": {
      "model_module": "@jupyter-widgets/controls",
      "model_module_version": "1.2.0",
      "model_name": "ButtonModel",
      "state": {
       "layout": "IPY_MODEL_0f8fab5875984054a7f4d69598255738",
       "style": "IPY_MODEL_c279811a5698412db0753d087dbc70e9"
      }
     },
     "75548641bb744f758cb16a10d7854dd4": {
      "model_module": "@jupyter-widgets/base",
      "model_module_version": "1.0.0",
      "model_name": "LayoutModel",
      "state": {
       "height": "auto",
       "width": "auto"
      }
     },
     "75fb7a3fb7ef468ba86f9dbcf9f83ad8": {
      "model_module": "@jupyter-widgets/controls",
      "model_module_version": "1.2.0",
      "model_name": "ButtonStyleModel",
      "state": {}
     },
     "760079cdcd8040138ab4ca406cc87db2": {
      "model_module": "@jupyter-widgets/controls",
      "model_module_version": "1.2.0",
      "model_name": "ButtonModel",
      "state": {
       "layout": "IPY_MODEL_edb5edbb1e334fd6a8a6f4e36526261c",
       "style": "IPY_MODEL_0debe83240dc4cdcab00896dfbf2725f"
      }
     },
     "76323bb09674427d8fd01e9b09b848d2": {
      "model_module": "@jupyter-widgets/controls",
      "model_module_version": "1.2.0",
      "model_name": "ButtonModel",
      "state": {
       "button_style": "warning",
       "description": "27",
       "layout": "IPY_MODEL_79e6f20409fa4963aff904a921b6d604",
       "style": "IPY_MODEL_30eabe248c9a45da9534eef175794f5b"
      }
     },
     "763e871be91b44d09ca2f50b58569d99": {
      "model_module": "@jupyter-widgets/controls",
      "model_module_version": "1.2.0",
      "model_name": "ButtonStyleModel",
      "state": {}
     },
     "764ce07002754bd493ff0e5300510b31": {
      "model_module": "@jupyter-widgets/controls",
      "model_module_version": "1.2.0",
      "model_name": "ButtonModel",
      "state": {
       "layout": "IPY_MODEL_2bdfdf76c0e14eebaddf584bf14e9325",
       "style": "IPY_MODEL_8855cef7a7af4bd1896c1de7887cc7bd"
      }
     },
     "7671a3836ce1434db149ca494e345833": {
      "model_module": "@jupyter-widgets/controls",
      "model_module_version": "1.2.0",
      "model_name": "ButtonStyleModel",
      "state": {}
     },
     "7710589689734402a62e1f423f425e0e": {
      "model_module": "@jupyter-widgets/controls",
      "model_module_version": "1.2.0",
      "model_name": "ButtonStyleModel",
      "state": {
       "button_color": "moccasin"
      }
     },
     "771aad9471cc459f937075e9245d0ad2": {
      "model_module": "@jupyter-widgets/base",
      "model_module_version": "1.0.0",
      "model_name": "LayoutModel",
      "state": {
       "height": "auto",
       "width": "auto"
      }
     },
     "774788e06f234b39a6e13f58c1e19f38": {
      "model_module": "@jupyter-widgets/controls",
      "model_module_version": "1.2.0",
      "model_name": "ButtonStyleModel",
      "state": {}
     },
     "7749c27175734b8099d85a98b080a781": {
      "model_module": "@jupyter-widgets/controls",
      "model_module_version": "1.2.0",
      "model_name": "ButtonModel",
      "state": {
       "layout": "IPY_MODEL_0f8fab5875984054a7f4d69598255738",
       "style": "IPY_MODEL_87f870291d5f43e584f102463b45d217"
      }
     },
     "7785a516bdac44ed8bc441ea6f32c01a": {
      "model_module": "@jupyter-widgets/controls",
      "model_module_version": "1.2.0",
      "model_name": "ButtonModel",
      "state": {
       "layout": "IPY_MODEL_b11871aa02cf46d5beaaf1100966d50e",
       "style": "IPY_MODEL_cf64c3aa7cea4c8db34e1434393f9b6b"
      }
     },
     "778fd6c2521c46bb9d5bf22d68857581": {
      "model_module": "@jupyter-widgets/base",
      "model_module_version": "1.0.0",
      "model_name": "LayoutModel",
      "state": {
       "width": "auto"
      }
     },
     "77964cb862ea4f859c486d67670fcb44": {
      "model_module": "@jupyter-widgets/base",
      "model_module_version": "1.0.0",
      "model_name": "LayoutModel",
      "state": {
       "align_items": "stretch",
       "display": "flex",
       "flex_flow": "row",
       "width": "70%"
      }
     },
     "77a9d085249644e7ade910f572748c07": {
      "model_module": "@jupyter-widgets/controls",
      "model_module_version": "1.2.0",
      "model_name": "ButtonStyleModel",
      "state": {}
     },
     "77abba8b13ef453a89b23163785740f4": {
      "model_module": "@jupyter-widgets/controls",
      "model_module_version": "1.2.0",
      "model_name": "GridBoxModel",
      "state": {
       "children": [
        "IPY_MODEL_aacffce1802a46eab4c5f6f916f43662",
        "IPY_MODEL_9a715b685a394ea08e59f412f82f056a",
        "IPY_MODEL_130716dac53c4639b31e520c9738b396",
        "IPY_MODEL_079c2cf5ec2b4704a543517b0f1680ec",
        "IPY_MODEL_3b9f2b08cf1f4527819073c265b1e041",
        "IPY_MODEL_8df810b2bfa44c7c9cfb258d8bdba80d",
        "IPY_MODEL_dbf5206ed4c04f18a87bc3e34fee0ce3",
        "IPY_MODEL_786af11096b14433ae1be98167648a77",
        "IPY_MODEL_231c98a37a3d4e09b06ba68a4b374a37",
        "IPY_MODEL_4526a6b4764f47269851fdd4b80fee32"
       ],
       "layout": "IPY_MODEL_78c78f1ad38c4a0eb9abf96323dc7bcb"
      }
     },
     "77c71b49a67a4443a3e6a5d17469e8b2": {
      "model_module": "@jupyter-widgets/base",
      "model_module_version": "1.0.0",
      "model_name": "LayoutModel",
      "state": {
       "grid_template": "'\n    auto auto / auto auto auto auto\n    "
      }
     },
     "77c77c05e7dc492f9d8297dec24a677c": {
      "model_module": "@jupyter-widgets/base",
      "model_module_version": "1.0.0",
      "model_name": "LayoutModel",
      "state": {
       "height": "auto",
       "width": "auto"
      }
     },
     "77ca05fada8c42ab91791836d35e0ddd": {
      "model_module": "@jupyter-widgets/base",
      "model_module_version": "1.0.0",
      "model_name": "LayoutModel",
      "state": {
       "grid_area": "header",
       "width": "auto"
      }
     },
     "77d0af1406cc40338c0dd8546723f297": {
      "model_module": "@jupyter-widgets/controls",
      "model_module_version": "1.2.0",
      "model_name": "ButtonModel",
      "state": {
       "layout": "IPY_MODEL_f5b417d7e1df4155948ccc11e2f1e644",
       "style": "IPY_MODEL_11b02eb96d9c4336b38723a09960060a"
      }
     },
     "77e8d291d570437588228c2d6db58d9c": {
      "model_module": "@jupyter-widgets/controls",
      "model_module_version": "1.2.0",
      "model_name": "GridBoxModel",
      "state": {
       "children": [
        "IPY_MODEL_11bd5825ba55494d882d6b89b0868883",
        "IPY_MODEL_c75c4be776e247c0867db4056724eded",
        "IPY_MODEL_009fb5ae9b514b15b915acdbd32718bb",
        "IPY_MODEL_08ddd1764fb94c13b30a47c61691fa63",
        "IPY_MODEL_f294041a725d40009a0264402bc26b63",
        "IPY_MODEL_7119537fdb0748bc9c2b4757edc2d9af",
        "IPY_MODEL_a9b9b841323f4bbd842c1b8c5651c00b",
        "IPY_MODEL_f8305f4f5b1446a78b8627b20ed68f5a",
        "IPY_MODEL_a861e6d4372f40a1bf9f3617e0e77fc7",
        "IPY_MODEL_bf31e8cab2f44756b337d9c23a338da3"
       ],
       "layout": "IPY_MODEL_2b9b603076064f4eadc47dccf2d055bf"
      }
     },
     "77e91d46035144228324d73e8dba9152": {
      "model_module": "@jupyter-widgets/controls",
      "model_module_version": "1.2.0",
      "model_name": "ButtonStyleModel",
      "state": {}
     },
     "77f11f33b54a4f759c838c431308e623": {
      "model_module": "@jupyter-widgets/controls",
      "model_module_version": "1.2.0",
      "model_name": "BoxModel",
      "state": {
       "children": [
        "IPY_MODEL_56ee2df8295a4d99913f1b2b0fdfb8ef",
        "IPY_MODEL_0847ee668ce347f8a931be39371ef6dc"
       ],
       "layout": "IPY_MODEL_addf6f78f36149718c9b21ed3851d43a"
      }
     },
     "781825dcb4ed4306abf9f3883a87879c": {
      "model_module": "@jupyter-widgets/controls",
      "model_module_version": "1.2.0",
      "model_name": "ButtonStyleModel",
      "state": {}
     },
     "781e402458404fa599d66ba75be87a8b": {
      "model_module": "@jupyter-widgets/base",
      "model_module_version": "1.0.0",
      "model_name": "LayoutModel",
      "state": {}
     },
     "7841f40ddc1d46bd88e233249a2d60b8": {
      "model_module": "@jupyter-widgets/base",
      "model_module_version": "1.0.0",
      "model_name": "LayoutModel",
      "state": {
       "align_items": "stretch",
       "border": "solid 2px",
       "display": "flex",
       "flex_flow": "column",
       "width": "50%"
      }
     },
     "784ab263dfac423eb557c5dc21910df5": {
      "model_module": "@jupyter-widgets/controls",
      "model_module_version": "1.2.0",
      "model_name": "GridBoxModel",
      "state": {
       "children": [
        "IPY_MODEL_9beadebc64124a1293564ccff7d3afdc",
        "IPY_MODEL_67f0bfc349c84df8a9ffb75117f2bb7b",
        "IPY_MODEL_b415d0266d8f4252a7fcfd412cfb5c03",
        "IPY_MODEL_180edad4827b498894e246fd8131617f",
        "IPY_MODEL_3ee1d32e40984f71a3ae74556d10f089",
        "IPY_MODEL_791e8d6c3be943f694b9ae9008191b9b",
        "IPY_MODEL_fadeaafeb87d45798193be75e4ce310b",
        "IPY_MODEL_c582923f5ec84e11a8cdd360b361015f",
        "IPY_MODEL_5818d182ac3747c995b17a983e7ee679",
        "IPY_MODEL_615413cfa1cd42a68acc8f31116fe34e"
       ],
       "layout": "IPY_MODEL_bf35a523c3f74738ba0debcd2e3ffd68"
      }
     },
     "78522015158f49518e1068f5c2874a52": {
      "model_module": "@jupyter-widgets/controls",
      "model_module_version": "1.2.0",
      "model_name": "IntSliderModel",
      "state": {
       "layout": "IPY_MODEL_bf9638242d5943cb80a4230425fe544c",
       "style": "IPY_MODEL_93517441c69349acbeed56efc3c65088"
      }
     },
     "786320fb5566461ab1b7bf1a7280e9e4": {
      "model_module": "@jupyter-widgets/base",
      "model_module_version": "1.0.0",
      "model_name": "LayoutModel",
      "state": {}
     },
     "78651434645b48a7a0a8ee05a3b0022f": {
      "model_module": "@jupyter-widgets/base",
      "model_module_version": "1.0.0",
      "model_name": "LayoutModel",
      "state": {}
     },
     "786af11096b14433ae1be98167648a77": {
      "model_module": "@jupyter-widgets/controls",
      "model_module_version": "1.2.0",
      "model_name": "ButtonModel",
      "state": {
       "layout": "IPY_MODEL_8c7d17fa9b6a48b7832b66d2d78dfc94",
       "style": "IPY_MODEL_268ee6b1e3874ffca3834c3cf0fe2738"
      }
     },
     "7882791eee244bb18e3c48a70d436b31": {
      "model_module": "@jupyter-widgets/controls",
      "model_module_version": "1.2.0",
      "model_name": "ButtonStyleModel",
      "state": {}
     },
     "788321bb339d41cc810c7e575cd3d197": {
      "model_module": "@jupyter-widgets/controls",
      "model_module_version": "1.2.0",
      "model_name": "ButtonModel",
      "state": {
       "layout": "IPY_MODEL_df9e2e0507484692b334d2df271d390d",
       "style": "IPY_MODEL_258ca3b836c34ee19a7da44900682468"
      }
     },
     "7893a78e45de4d94add533269d12774f": {
      "model_module": "@jupyter-widgets/controls",
      "model_module_version": "1.2.0",
      "model_name": "ButtonModel",
      "state": {
       "layout": "IPY_MODEL_e9822519c2c7452aba21f3fb99ddf2cd",
       "style": "IPY_MODEL_69f3a29ffe2a4321b7897e72f03cfc49"
      }
     },
     "78b1998deb924081908f91af95dd4eb7": {
      "model_module": "@jupyter-widgets/controls",
      "model_module_version": "1.2.0",
      "model_name": "ButtonModel",
      "state": {
       "button_style": "warning",
       "description": "15",
       "layout": "IPY_MODEL_963f958a6a3049a3b012ec8484fb898f",
       "style": "IPY_MODEL_804b9e8ec58b4a70bec92446b5d6057e"
      }
     },
     "78b2bc7898a8448981999b7ada786d75": {
      "model_module": "@jupyter-widgets/controls",
      "model_module_version": "1.2.0",
      "model_name": "ButtonModel",
      "state": {
       "button_style": "warning",
       "description": "34",
       "layout": "IPY_MODEL_e20ec9c5c01e485bbfa90160b80eb8f4",
       "style": "IPY_MODEL_361ae5533b4440528c5de71f493d28be"
      }
     },
     "78bce2ffe08a4ac0a39e6ebb49286b0a": {
      "model_module": "@jupyter-widgets/controls",
      "model_module_version": "1.2.0",
      "model_name": "ButtonModel",
      "state": {
       "description": "staple",
       "layout": "IPY_MODEL_585442a8364e4a09b5c4df573b88b1b3",
       "style": "IPY_MODEL_3283f7e6ef594197ab9b4a98ec1788ef"
      }
     },
     "78c78f1ad38c4a0eb9abf96323dc7bcb": {
      "model_module": "@jupyter-widgets/base",
      "model_module_version": "1.0.0",
      "model_name": "LayoutModel",
      "state": {
       "grid_template": "auto auto auto auto auto / auto"
      }
     },
     "78d59a2dfd424dcb8e8500e01f717b84": {
      "model_module": "@jupyter-widgets/base",
      "model_module_version": "1.0.0",
      "model_name": "LayoutModel",
      "state": {
       "height": "auto",
       "width": "auto"
      }
     },
     "78d9aeef7c0e42cb968e479178c8cc16": {
      "model_module": "@jupyter-widgets/controls",
      "model_module_version": "1.2.0",
      "model_name": "ButtonStyleModel",
      "state": {}
     },
     "7900ebf31e314438a0ceaddb14b3b291": {
      "model_module": "@jupyter-widgets/controls",
      "model_module_version": "1.2.0",
      "model_name": "ButtonModel",
      "state": {
       "layout": "IPY_MODEL_90e6ed8c30a54cab8cdc8ca7fb4a9974",
       "style": "IPY_MODEL_ccbfe2e288b3467ab844560b05e1f691"
      }
     },
     "7905f414fd8d4a64b3ef74e70a300832": {
      "model_module": "@jupyter-widgets/controls",
      "model_module_version": "1.2.0",
      "model_name": "HBoxModel",
      "state": {
       "children": [
        "IPY_MODEL_d1d2df1c11a040eeaaa88dc42b04fb55",
        "IPY_MODEL_025c01db33084a36bf46e39af5070c38"
       ],
       "layout": "IPY_MODEL_abb5c22a68ea48ae9c6dadba34445aa2"
      }
     },
     "791b1a448ee445b4a800236e84cbe744": {
      "model_module": "@jupyter-widgets/controls",
      "model_module_version": "1.2.0",
      "model_name": "ButtonModel",
      "state": {
       "layout": "IPY_MODEL_ab4f1d5f0c594bbc9c04549f977b9f0f",
       "style": "IPY_MODEL_5ae29d8b540242a899ca4e82f909bf50"
      }
     },
     "791e8d6c3be943f694b9ae9008191b9b": {
      "model_module": "@jupyter-widgets/controls",
      "model_module_version": "1.2.0",
      "model_name": "ButtonModel",
      "state": {
       "layout": "IPY_MODEL_a997cf87cb444be1a8febdf657c22511",
       "style": "IPY_MODEL_63f41c3a4e494358a0c7b31ea70ecaa0"
      }
     },
     "79399177b5ec46dd8a36c07efb6fa0d4": {
      "model_module": "@jupyter-widgets/base",
      "model_module_version": "1.0.0",
      "model_name": "LayoutModel",
      "state": {
       "height": "auto",
       "width": "auto"
      }
     },
     "79681d134c494a19b660ad370d4c3c65": {
      "model_module": "@jupyter-widgets/controls",
      "model_module_version": "1.2.0",
      "model_name": "ButtonModel",
      "state": {
       "layout": "IPY_MODEL_a922650c84614ed9b053f3c346caf79d",
       "style": "IPY_MODEL_9d22f3c96417453f90c2a86f9d4c11e7"
      }
     },
     "7976bacba73d4089b105d875254fdffe": {
      "model_module": "@jupyter-widgets/controls",
      "model_module_version": "1.2.0",
      "model_name": "ButtonModel",
      "state": {
       "button_style": "warning",
       "description": "14",
       "layout": "IPY_MODEL_963f958a6a3049a3b012ec8484fb898f",
       "style": "IPY_MODEL_96d5b54cafb14975922f15b7a475ef29"
      }
     },
     "797f89c98ba74c05bbaf8a703d4f0790": {
      "model_module": "@jupyter-widgets/base",
      "model_module_version": "1.0.0",
      "model_name": "LayoutModel",
      "state": {}
     },
     "7985be7ef5eb4ad29d1110a1145143e6": {
      "model_module": "@jupyter-widgets/base",
      "model_module_version": "1.0.0",
      "model_name": "LayoutModel",
      "state": {
       "align_items": "stretch",
       "border": "solid",
       "display": "flex",
       "flex_flow": "column",
       "width": "50%"
      }
     },
     "79985d92e88f4e038e88595543062129": {
      "model_module": "@jupyter-widgets/controls",
      "model_module_version": "1.2.0",
      "model_name": "ButtonModel",
      "state": {
       "layout": "IPY_MODEL_2847cc6e71494c5a86d07475d49deca7",
       "style": "IPY_MODEL_4166913d892742ab964adc58623c75e4"
      }
     },
     "79c8ec8c71bf4143a3f69c2e55b6f5c5": {
      "model_module": "@jupyter-widgets/base",
      "model_module_version": "1.0.0",
      "model_name": "LayoutModel",
      "state": {
       "height": "auto",
       "width": "auto"
      }
     },
     "79cf1616958040268fd9c88f9c8c00ca": {
      "model_module": "@jupyter-widgets/controls",
      "model_module_version": "1.2.0",
      "model_name": "ButtonModel",
      "state": {
       "button_style": "danger",
       "description": "correct",
       "layout": "IPY_MODEL_7af483b22721435dbf76e0c2b97da8dc",
       "style": "IPY_MODEL_32969de0eafc45a5abc57dc093877c1f"
      }
     },
     "79e6f20409fa4963aff904a921b6d604": {
      "model_module": "@jupyter-widgets/base",
      "model_module_version": "1.0.0",
      "model_name": "LayoutModel",
      "state": {
       "height": "100px",
       "min_width": "40px"
      }
     },
     "7a0a16b726974629886f4d1d80fd32ff": {
      "model_module": "@jupyter-widgets/controls",
      "model_module_version": "1.2.0",
      "model_name": "ButtonStyleModel",
      "state": {}
     },
     "7a1e834d34e24e6195d5b6a6871156bd": {
      "model_module": "@jupyter-widgets/controls",
      "model_module_version": "1.2.0",
      "model_name": "ButtonModel",
      "state": {
       "layout": "IPY_MODEL_ec783a7c1b58460294551a9588400dab",
       "style": "IPY_MODEL_c3be25475795492cb85da41186c0e43a"
      }
     },
     "7a331edf6ffb4949aab1fe5e258b687a": {
      "model_module": "@jupyter-widgets/base",
      "model_module_version": "1.0.0",
      "model_name": "LayoutModel",
      "state": {
       "height": "auto",
       "width": "auto"
      }
     },
     "7a3c1c85685d40e9b9d05d40de6861f8": {
      "model_module": "@jupyter-widgets/controls",
      "model_module_version": "1.2.0",
      "model_name": "ButtonStyleModel",
      "state": {}
     },
     "7a4b0b23817b4a94bc467a67e82faecb": {
      "model_module": "@jupyter-widgets/controls",
      "model_module_version": "1.2.0",
      "model_name": "ButtonStyleModel",
      "state": {
       "button_color": "#77A"
      }
     },
     "7a5191a2d3104666aa6320dae2f04eb1": {
      "model_module": "@jupyter-widgets/controls",
      "model_module_version": "1.2.0",
      "model_name": "ButtonModel",
      "state": {
       "layout": "IPY_MODEL_7b1a8b8157674b6bb054cc6c62227c65",
       "style": "IPY_MODEL_7a4b0b23817b4a94bc467a67e82faecb"
      }
     },
     "7a68edc053904d088fdcdc14cde4d314": {
      "model_module": "@jupyter-widgets/controls",
      "model_module_version": "1.2.0",
      "model_name": "ButtonModel",
      "state": {
       "layout": "IPY_MODEL_104c1bfded49449794e8408e206b484c",
       "style": "IPY_MODEL_2966f39e920840a19c25b856dc173d10"
      }
     },
     "7a6b44f0bd014114a99c8d438662dbef": {
      "model_module": "@jupyter-widgets/controls",
      "model_module_version": "1.2.0",
      "model_name": "ButtonModel",
      "state": {
       "layout": "IPY_MODEL_35e07d15f5c14904936c5a43ba07b967",
       "style": "IPY_MODEL_1673d8f531cc4de896081401b82004e9"
      }
     },
     "7a87a428773a43f68bb07dd02576f740": {
      "model_module": "@jupyter-widgets/controls",
      "model_module_version": "1.2.0",
      "model_name": "ButtonModel",
      "state": {
       "layout": "IPY_MODEL_8a6968f56b6647b9955ad531e806c7bc",
       "style": "IPY_MODEL_12978f9e77ac42aa8b72f72e2b166216"
      }
     },
     "7a9587c6956347d9a762309ee4c5363a": {
      "model_module": "@jupyter-widgets/controls",
      "model_module_version": "1.2.0",
      "model_name": "ButtonModel",
      "state": {
       "layout": "IPY_MODEL_bca42cda5863431094ba3b2b4642113f",
       "style": "IPY_MODEL_32120bb2e7294f7ca606c0b27785079d"
      }
     },
     "7aa706c4594f4633bfc813ec6eca6e5c": {
      "model_module": "@jupyter-widgets/base",
      "model_module_version": "1.0.0",
      "model_name": "LayoutModel",
      "state": {
       "height": "60px",
       "width": "auto"
      }
     },
     "7ad5be10a8894aa393edcdbf71937756": {
      "model_module": "@jupyter-widgets/controls",
      "model_module_version": "1.2.0",
      "model_name": "GridBoxModel",
      "state": {
       "children": [
        "IPY_MODEL_060737f4af6e4bc7932ab11fcf6efe6e",
        "IPY_MODEL_6173f56210db4c7bab61cae223fa0bf5",
        "IPY_MODEL_d0e808a0b45e479eafc71579a7c41684",
        "IPY_MODEL_be61b0b5106246a183d91c189e2e0414",
        "IPY_MODEL_8795d098d40845b4a4197be4ee06b28a",
        "IPY_MODEL_f57d925d235f4fe19a53f866d51f8461",
        "IPY_MODEL_fad24aebedd24f65b9feb08e65c1d11c",
        "IPY_MODEL_ad6c6e3e71444e4a865f5e8876613f30",
        "IPY_MODEL_7c690471cabb44468bf832e68da385c1",
        "IPY_MODEL_1f6e3c55683544c1b648f1b74b0ca7f5"
       ],
       "layout": "IPY_MODEL_d4ca5ca01bc04690a45380eff04a0735"
      }
     },
     "7aeb359eb38046afbf54384c07446021": {
      "model_module": "@jupyter-widgets/base",
      "model_module_version": "1.0.0",
      "model_name": "LayoutModel",
      "state": {}
     },
     "7af483b22721435dbf76e0c2b97da8dc": {
      "model_module": "@jupyter-widgets/base",
      "model_module_version": "1.0.0",
      "model_name": "LayoutModel",
      "state": {
       "width": "auto"
      }
     },
     "7b18ef8a7d814639a6fe559997f014c8": {
      "model_module": "@jupyter-widgets/base",
      "model_module_version": "1.0.0",
      "model_name": "LayoutModel",
      "state": {}
     },
     "7b1a8b8157674b6bb054cc6c62227c65": {
      "model_module": "@jupyter-widgets/base",
      "model_module_version": "1.0.0",
      "model_name": "LayoutModel",
      "state": {
       "height": "auto",
       "margin": "0",
       "width": "auto"
      }
     },
     "7b2cfabfd3c549a8b7390722e7f76a7c": {
      "model_module": "@jupyter-widgets/controls",
      "model_module_version": "1.2.0",
      "model_name": "SliderStyleModel",
      "state": {
       "description_width": ""
      }
     },
     "7b3c48ccb67f44c49ad6ac12a42788dc": {
      "model_module": "@jupyter-widgets/controls",
      "model_module_version": "1.2.0",
      "model_name": "ButtonStyleModel",
      "state": {}
     },
     "7b4184ffe4104dada5c59503720b01f8": {
      "model_module": "@jupyter-widgets/controls",
      "model_module_version": "1.2.0",
      "model_name": "ButtonModel",
      "state": {
       "description": "Footer",
       "layout": "IPY_MODEL_285e589718884943a1e349414e4f7cbd",
       "style": "IPY_MODEL_714910b8ab2744fe9a26e684fa3c8175"
      }
     },
     "7b699fa2ee2549158ef3e55d1445786a": {
      "model_module": "@jupyter-widgets/controls",
      "model_module_version": "1.2.0",
      "model_name": "ButtonStyleModel",
      "state": {}
     },
     "7bad3d10f3b948afbac0fef79a7642e6": {
      "model_module": "@jupyter-widgets/controls",
      "model_module_version": "1.2.0",
      "model_name": "ButtonModel",
      "state": {
       "layout": "IPY_MODEL_ab4f1d5f0c594bbc9c04549f977b9f0f",
       "style": "IPY_MODEL_429cd35ce911446397b3280608b93e10"
      }
     },
     "7bb79a51b63e4cb9a6c24fc73dd71974": {
      "model_module": "@jupyter-widgets/controls",
      "model_module_version": "1.2.0",
      "model_name": "BoxModel",
      "state": {
       "children": [
        "IPY_MODEL_26868b537ea54281aabbfa09442a93d8",
        "IPY_MODEL_ae9dbb5cf1344773aaad4db41f96bea9",
        "IPY_MODEL_f3fee141a5604d26a09676dd19b430c7",
        "IPY_MODEL_ed3c9218e6e1492281db4e6218043974",
        "IPY_MODEL_21cf9a06320c4a22b2c75844e4162656",
        "IPY_MODEL_e61451ed6d7b433d8503653255ae3e95",
        "IPY_MODEL_c7db165662f74f1993ca63977ea9aff2",
        "IPY_MODEL_1c4ca211072340db80b5972601611593",
        "IPY_MODEL_c4b98e2f52fd483fb0a707569298c297",
        "IPY_MODEL_344fff8dbcee45b6856c1403f3ee5e62",
        "IPY_MODEL_0392a3e386914427b7b6daab496b6cf5",
        "IPY_MODEL_2406e8393329452a95cd6667c8eb2219",
        "IPY_MODEL_262ad5ffdc8444488727c495fa03f29b",
        "IPY_MODEL_fd8d2014f5174e70a75b94c7c9b9c42d",
        "IPY_MODEL_6c474b07068f4f189cbdf9e840408633",
        "IPY_MODEL_343def8c28434323b295e16e1dd9edc0",
        "IPY_MODEL_95bf76ee083041449f8eba5d24ac3d2e",
        "IPY_MODEL_4dc73b6c797543af883bcf21a609d85c",
        "IPY_MODEL_63fcd74b30c24ea59a628a1ed6a94239",
        "IPY_MODEL_5be5d8aa07d845499d2d5835a9436649",
        "IPY_MODEL_bc85acca37084c1c924cbe2da758a162",
        "IPY_MODEL_cf387d58f18748a98bb6df3eabb28868",
        "IPY_MODEL_ffdab319e62c485dab43e86f6d0c5dd1",
        "IPY_MODEL_7e338727848f41719be9037950017ab8",
        "IPY_MODEL_c8bbf77d8a824f8b961173c026717423",
        "IPY_MODEL_8e64c6360a1a417393e5822c317fbe8e",
        "IPY_MODEL_45176b48ed8d4d5994742be24c89f071",
        "IPY_MODEL_eb65af811b6645dab02c87dfb56e4ebb",
        "IPY_MODEL_dc0b39c7265b4a92992f8a98041e8fd4",
        "IPY_MODEL_95d38e56f8dc4b068d63b572cf06fff7",
        "IPY_MODEL_e274e37692144753b25578f97d7514bf",
        "IPY_MODEL_17b8b00acf75400a96b622cfcf5164dd",
        "IPY_MODEL_271b14767dca401c883ea7ad2be15194",
        "IPY_MODEL_8ce22b72df6e4f03b4e7866b0b170ae2",
        "IPY_MODEL_78b2bc7898a8448981999b7ada786d75",
        "IPY_MODEL_fc17cd9345f041f6b0b07048ceaa8500",
        "IPY_MODEL_5b6cb1c7d289494da5c5be3556cec101",
        "IPY_MODEL_008ab1ccd0fa41c983856007ff93103b",
        "IPY_MODEL_4444aa8c5ef8456fa3008b88bce0f226",
        "IPY_MODEL_debc349add4d4f8aa124012b07a1bb44"
       ],
       "layout": "IPY_MODEL_27b9a166d3494605a5fb0d8f63f39941"
      }
     },
     "7bef9ab855874ab4bf4991e176473816": {
      "model_module": "@jupyter-widgets/controls",
      "model_module_version": "1.2.0",
      "model_name": "ButtonStyleModel",
      "state": {}
     },
     "7c347937cd1a47c6b8622f6ff8a38248": {
      "model_module": "@jupyter-widgets/base",
      "model_module_version": "1.0.0",
      "model_name": "LayoutModel",
      "state": {
       "grid_template": "auto / auto auto auto auto auto"
      }
     },
     "7c56aa94512c404b91f7de3023346b56": {
      "model_module": "@jupyter-widgets/controls",
      "model_module_version": "1.2.0",
      "model_name": "ButtonModel",
      "state": {
       "button_style": "warning",
       "description": "22",
       "layout": "IPY_MODEL_963f958a6a3049a3b012ec8484fb898f",
       "style": "IPY_MODEL_85670a9d18f3486687703fea95e9f48a"
      }
     },
     "7c690471cabb44468bf832e68da385c1": {
      "model_module": "@jupyter-widgets/controls",
      "model_module_version": "1.2.0",
      "model_name": "ButtonModel",
      "state": {
       "layout": "IPY_MODEL_54dc1791cb77472c8ca601c93d0b0fe1",
       "style": "IPY_MODEL_dacf73c319c84c7b9e68c7e8c7b7ef51"
      }
     },
     "7c756bfb6d78493c9c16ebe512b8a0cb": {
      "model_module": "@jupyter-widgets/controls",
      "model_module_version": "1.2.0",
      "model_name": "ButtonStyleModel",
      "state": {}
     },
     "7c776e463a284e3f86ee2a6f278b4d97": {
      "model_module": "@jupyter-widgets/controls",
      "model_module_version": "1.2.0",
      "model_name": "BoxModel",
      "state": {
       "children": [
        "IPY_MODEL_3f6ccaf94cf34f8e885eca536605ab32",
        "IPY_MODEL_15c877df87954434b0003382c63d0665",
        "IPY_MODEL_9af644e3dac24d2b826bf19197c5aea6"
       ],
       "layout": "IPY_MODEL_77964cb862ea4f859c486d67670fcb44"
      }
     },
     "7c7b340435c14d7bb4cb14922c892338": {
      "model_module": "@jupyter-widgets/base",
      "model_module_version": "1.0.0",
      "model_name": "LayoutModel",
      "state": {
       "width": "auto"
      }
     },
     "7ca1e3714f72479787810f810dfc721d": {
      "model_module": "@jupyter-widgets/base",
      "model_module_version": "1.0.0",
      "model_name": "LayoutModel",
      "state": {
       "height": "auto",
       "width": "auto"
      }
     },
     "7cbe554444f44531afa647fe24af2c8d": {
      "model_module": "@jupyter-widgets/base",
      "model_module_version": "1.0.0",
      "model_name": "LayoutModel",
      "state": {}
     },
     "7cc1566eb9dc401389216ecc15771057": {
      "model_module": "@jupyter-widgets/base",
      "model_module_version": "1.0.0",
      "model_name": "LayoutModel",
      "state": {
       "height": "auto",
       "width": "auto"
      }
     },
     "7cc40d92dfbb43d397fb0300f30aaa16": {
      "model_module": "@jupyter-widgets/controls",
      "model_module_version": "1.2.0",
      "model_name": "ButtonStyleModel",
      "state": {}
     },
     "7cf671b337714452889a6412033212f0": {
      "model_module": "@jupyter-widgets/controls",
      "model_module_version": "1.2.0",
      "model_name": "ButtonStyleModel",
      "state": {}
     },
     "7d252656920c4d79a7a0ac098ce2bf73": {
      "model_module": "@jupyter-widgets/controls",
      "model_module_version": "1.2.0",
      "model_name": "ButtonModel",
      "state": {
       "button_style": "danger",
       "description": "staple",
       "layout": "IPY_MODEL_9c32ec512a2c44cd9f57fac2a3aca9a1",
       "style": "IPY_MODEL_d0ede38de7394d0497186c3c87358fed"
      }
     },
     "7d29f5a9a33b425bb57fd282d826fc05": {
      "model_module": "@jupyter-widgets/controls",
      "model_module_version": "1.2.0",
      "model_name": "LabelModel",
      "state": {
       "layout": "IPY_MODEL_05ffb4a215c44ac5a28a566e470a6adc",
       "style": "IPY_MODEL_4c049cfbe9cd4b239f75c68b7a73dd92",
       "value": "Ship size"
      }
     },
     "7d2f941921224d1db6e932ff7f0eb65d": {
      "model_module": "@jupyter-widgets/controls",
      "model_module_version": "1.2.0",
      "model_name": "ButtonModel",
      "state": {
       "layout": "IPY_MODEL_fab719789b8e45a592a40bdcb0d6d5da",
       "style": "IPY_MODEL_241cc29bf34547e1b31e647c11cbe107"
      }
     },
     "7d72a1d1033c41359719581838d06bca": {
      "model_module": "@jupyter-widgets/controls",
      "model_module_version": "1.2.0",
      "model_name": "ButtonStyleModel",
      "state": {}
     },
     "7d786d8e410849f3b98406fdb3189ce9": {
      "model_module": "@jupyter-widgets/controls",
      "model_module_version": "1.2.0",
      "model_name": "ButtonStyleModel",
      "state": {
       "button_color": "blue"
      }
     },
     "7dbee97eda3b4722a235a18bde488cc9": {
      "model_module": "@jupyter-widgets/controls",
      "model_module_version": "1.2.0",
      "model_name": "ButtonStyleModel",
      "state": {
       "button_color": "lightgreen"
      }
     },
     "7dd688840a0b406a86e4460178ba0d4f": {
      "model_module": "@jupyter-widgets/controls",
      "model_module_version": "1.2.0",
      "model_name": "ButtonModel",
      "state": {
       "layout": "IPY_MODEL_4d53052a4a3c4ea08b4ae8a0f20ff0ac",
       "style": "IPY_MODEL_09c4d177a702474f8079c1af19c69d8a"
      }
     },
     "7dee567517dd4a51a3a9e64c0a7c127f": {
      "model_module": "@jupyter-widgets/controls",
      "model_module_version": "1.2.0",
      "model_name": "ButtonStyleModel",
      "state": {}
     },
     "7e338727848f41719be9037950017ab8": {
      "model_module": "@jupyter-widgets/controls",
      "model_module_version": "1.2.0",
      "model_name": "ButtonModel",
      "state": {
       "button_style": "warning",
       "description": "23",
       "layout": "IPY_MODEL_e20ec9c5c01e485bbfa90160b80eb8f4",
       "style": "IPY_MODEL_a48c8af0dc104e12a0d837519dcd48ae"
      }
     },
     "7e3fd618f32b4b26af66a6d2df795af9": {
      "model_module": "@jupyter-widgets/controls",
      "model_module_version": "1.2.0",
      "model_name": "DescriptionStyleModel",
      "state": {
       "description_width": ""
      }
     },
     "7e5486086a0747fe8c1e06555f13e88f": {
      "model_module": "@jupyter-widgets/controls",
      "model_module_version": "1.2.0",
      "model_name": "ButtonModel",
      "state": {
       "description": "(50% width, 80px height) button",
       "layout": "IPY_MODEL_27d56a5f957240fb8aef65e856043472",
       "style": "IPY_MODEL_d6f7bb2e5239411bb4a0677370ea108f"
      }
     },
     "7e5668ed89e44ca39276fa4ca4f2b374": {
      "model_module": "@jupyter-widgets/controls",
      "model_module_version": "1.2.0",
      "model_name": "GridBoxModel",
      "state": {
       "children": [
        "IPY_MODEL_ba8ee3e15c2746e39a83d7e26a704c6b",
        "IPY_MODEL_a0ce9bf17d124664aab7cea84b97df9d",
        "IPY_MODEL_6cfc05ddddb64ee9843c72c9e8869e4d",
        "IPY_MODEL_96c9cd3783e742439ea68a42d1c9fb89",
        "IPY_MODEL_ebfeae23995146578147723a288beaaa",
        "IPY_MODEL_c6e6de48e08d44be988df046fbfade13",
        "IPY_MODEL_eb19d4783aa04160a1c7898f7375aded",
        "IPY_MODEL_ac7bcfed29fe4810ab8b43cd4fbc006f"
       ],
       "layout": "IPY_MODEL_68480e8eba8a4f5db070364ccaad9625"
      }
     },
     "7e6523ede21d4646a470226acf6b7aaf": {
      "model_module": "@jupyter-widgets/controls",
      "model_module_version": "1.2.0",
      "model_name": "ButtonStyleModel",
      "state": {
       "button_color": "blue"
      }
     },
     "7e7807bd02fd450caca73cb47556ac8f": {
      "model_module": "@jupyter-widgets/controls",
      "model_module_version": "1.2.0",
      "model_name": "ButtonModel",
      "state": {
       "button_style": "danger",
       "description": "weight=3; 0%",
       "layout": "IPY_MODEL_2756b90efa5849268ac39e0568d18be8",
       "style": "IPY_MODEL_a6bb4d248a4747f987450f9bc6add2b8"
      }
     },
     "7e90b6b709f54a5e85fd546a0f11b7d8": {
      "model_module": "@jupyter-widgets/controls",
      "model_module_version": "1.2.0",
      "model_name": "ButtonStyleModel",
      "state": {}
     },
     "7e9d4a1c0a8947c9b482aa492bf9e08e": {
      "model_module": "@jupyter-widgets/controls",
      "model_module_version": "1.2.0",
      "model_name": "FloatTextModel",
      "state": {
       "layout": "IPY_MODEL_a7c6a29738704c5ca649fd17bc337059",
       "step": null,
       "style": "IPY_MODEL_fdab95919fbf4a96a80da63d87a8257e"
      }
     },
     "7ec758bef8784cfe853eb51eb51139e5": {
      "model_module": "@jupyter-widgets/controls",
      "model_module_version": "1.2.0",
      "model_name": "ButtonModel",
      "state": {
       "layout": "IPY_MODEL_706d95b63d0144b6a672412f3a219036",
       "style": "IPY_MODEL_dcedd3e44ef744d689fde24f30e0717e"
      }
     },
     "7ed56417629a4d9b9036b1526486d661": {
      "model_module": "@jupyter-widgets/controls",
      "model_module_version": "1.2.0",
      "model_name": "ButtonStyleModel",
      "state": {}
     },
     "7edc609d32f2424e9657e61e3d7aeed0": {
      "model_module": "@jupyter-widgets/controls",
      "model_module_version": "1.2.0",
      "model_name": "DescriptionStyleModel",
      "state": {
       "description_width": ""
      }
     },
     "7edd4e92ca4e4e4fa00462bdbf9ab1e3": {
      "model_module": "@jupyter-widgets/controls",
      "model_module_version": "1.2.0",
      "model_name": "ButtonModel",
      "state": {
       "button_style": "danger",
       "description": "horse",
       "layout": "IPY_MODEL_0112515c34d24b3c942c9ca511b83c2a",
       "style": "IPY_MODEL_3dceac41ff5747b38e18be517bb770cb"
      }
     },
     "7ee0b1c756d344b89f96fade3dadfcc0": {
      "model_module": "@jupyter-widgets/controls",
      "model_module_version": "1.2.0",
      "model_name": "ButtonStyleModel",
      "state": {}
     },
     "7eebc405a9e54be4b0d09c0f0941cb86": {
      "model_module": "@jupyter-widgets/controls",
      "model_module_version": "1.2.0",
      "model_name": "ButtonStyleModel",
      "state": {}
     },
     "7ef6314e445844a185d6ca1297bf6258": {
      "model_module": "@jupyter-widgets/controls",
      "model_module_version": "1.2.0",
      "model_name": "ButtonModel",
      "state": {
       "layout": "IPY_MODEL_104c1bfded49449794e8408e206b484c",
       "style": "IPY_MODEL_d5035bfa07ca41e884e4fcf3ae5aef11"
      }
     },
     "7f008ba884ff4de3a749b2b8686cf926": {
      "model_module": "@jupyter-widgets/controls",
      "model_module_version": "1.2.0",
      "model_name": "ButtonModel",
      "state": {
       "layout": "IPY_MODEL_5cde084636164ef69faea326241a3b35",
       "style": "IPY_MODEL_0b301c9c21ec48038244b71296546e59"
      }
     },
     "7f043878daa54eb380d3de6dfafae154": {
      "model_module": "@jupyter-widgets/controls",
      "model_module_version": "1.2.0",
      "model_name": "ButtonModel",
      "state": {
       "layout": "IPY_MODEL_4bfcad0681d54717958375fd9a0c6df4",
       "style": "IPY_MODEL_902cca25cac64f019a1cc6c1b15abb39"
      }
     },
     "7f14872d2ea346e78b1e264659bbb00f": {
      "model_module": "@jupyter-widgets/base",
      "model_module_version": "1.0.0",
      "model_name": "LayoutModel",
      "state": {
       "grid_template": "auto / auto auto auto auto auto"
      }
     },
     "7f1d43ffd3b947c781cd0bd3a801fafa": {
      "model_module": "@jupyter-widgets/controls",
      "model_module_version": "1.2.0",
      "model_name": "ButtonStyleModel",
      "state": {
       "button_color": "#77A"
      }
     },
     "7f4dc8ac710b43f0989bafa1a2024c68": {
      "model_module": "@jupyter-widgets/controls",
      "model_module_version": "1.2.0",
      "model_name": "ButtonStyleModel",
      "state": {}
     },
     "7f72a7433c1346d198ae7c3de2ed797d": {
      "model_module": "@jupyter-widgets/controls",
      "model_module_version": "1.2.0",
      "model_name": "ButtonModel",
      "state": {
       "layout": "IPY_MODEL_a922650c84614ed9b053f3c346caf79d",
       "style": "IPY_MODEL_9d22f3c96417453f90c2a86f9d4c11e7"
      }
     },
     "7f77aa2eb623427386522faafb624ff1": {
      "model_module": "@jupyter-widgets/base",
      "model_module_version": "1.0.0",
      "model_name": "LayoutModel",
      "state": {}
     },
     "7f78be1714914ca2b4d83d728e220412": {
      "model_module": "@jupyter-widgets/controls",
      "model_module_version": "1.2.0",
      "model_name": "ButtonModel",
      "state": {
       "layout": "IPY_MODEL_216e771000e440fea088424dae98bc76",
       "style": "IPY_MODEL_641b7e8788ad4bfe867408bf549fabf9"
      }
     },
     "7f8bb7acaadd473f8caa649c7ef7ea9d": {
      "model_module": "@jupyter-widgets/base",
      "model_module_version": "1.0.0",
      "model_name": "LayoutModel",
      "state": {
       "height": "auto",
       "width": "auto"
      }
     },
     "7f8da018e742473bafbb8dfc74cc1d83": {
      "model_module": "@jupyter-widgets/controls",
      "model_module_version": "1.2.0",
      "model_name": "ButtonModel",
      "state": {
       "layout": "IPY_MODEL_3e4e67e55d064e8fa34459e3fd93622d",
       "style": "IPY_MODEL_9d4c8498e0ad4ae5aee853d82b057db5"
      }
     },
     "7fcaa4d2081847b5902ce6f2257930b1": {
      "model_module": "@jupyter-widgets/controls",
      "model_module_version": "1.2.0",
      "model_name": "ButtonModel",
      "state": {
       "layout": "IPY_MODEL_94868313b3524bee8e02d4fc11c600e7",
       "style": "IPY_MODEL_e9d01b4b98b742edbc64f82992d94450"
      }
     },
     "7fd1b82aae984836b171907daa1a6c11": {
      "model_module": "@jupyter-widgets/controls",
      "model_module_version": "1.2.0",
      "model_name": "ButtonModel",
      "state": {
       "layout": "IPY_MODEL_1c81b91358154c19ab0e8986a32d5733",
       "style": "IPY_MODEL_42e3f8f2e00044b6affa9aff137bfec4"
      }
     },
     "7ff7d1de92da4cc68956d6d8aa1d002a": {
      "model_module": "@jupyter-widgets/base",
      "model_module_version": "1.0.0",
      "model_name": "LayoutModel",
      "state": {
       "display": "flex",
       "flex_flow": "row",
       "justify_content": "space-between"
      }
     },
     "8001268266974540b782930c9d40e71b": {
      "model_module": "@jupyter-widgets/controls",
      "model_module_version": "1.2.0",
      "model_name": "ButtonModel",
      "state": {
       "layout": "IPY_MODEL_e9e51dc7db2e4dae8f6b58239515ec62",
       "style": "IPY_MODEL_11a131d151b6498fbaa51c84b06b5917"
      }
     },
     "801b614bb9484dc1b427a1c7aa0d0d2f": {
      "model_module": "@jupyter-widgets/base",
      "model_module_version": "1.0.0",
      "model_name": "LayoutModel",
      "state": {}
     },
     "80257fa5ed954b618bd9d9b2b78edd3f": {
      "model_module": "@jupyter-widgets/controls",
      "model_module_version": "1.2.0",
      "model_name": "GridBoxModel",
      "state": {
       "children": [
        "IPY_MODEL_2d7596549abe4999a3f20cb57d1737b9",
        "IPY_MODEL_a1e77d842ad04c0f8a9b8717864ee135",
        "IPY_MODEL_72e5f8b5b42b4fc9a3d9a67ad8bb1926",
        "IPY_MODEL_b80c0238f1134a0da5e5047e326979e8"
       ],
       "layout": "IPY_MODEL_6b8eeb358eee4d7fb4717e57210a7457"
      }
     },
     "804b9e8ec58b4a70bec92446b5d6057e": {
      "model_module": "@jupyter-widgets/controls",
      "model_module_version": "1.2.0",
      "model_name": "ButtonStyleModel",
      "state": {}
     },
     "809da4fa19be41efb7142472c2cb81a6": {
      "model_module": "@jupyter-widgets/controls",
      "model_module_version": "1.2.0",
      "model_name": "ButtonStyleModel",
      "state": {}
     },
     "80cea5329a05486d8de32d10b8894f95": {
      "model_module": "@jupyter-widgets/controls",
      "model_module_version": "1.2.0",
      "model_name": "VBoxModel",
      "state": {
       "children": [
        "IPY_MODEL_415a2c343c944571ad2469197fba423c",
        "IPY_MODEL_257feb1ebd6d42a2baa2659705028f4e"
       ],
       "layout": "IPY_MODEL_3524a62015bf4ae5adf74cc08bf37bd9"
      }
     },
     "80e95e721ba1446899a5f8e01c7189d7": {
      "model_module": "@jupyter-widgets/controls",
      "model_module_version": "1.2.0",
      "model_name": "ButtonModel",
      "state": {
       "layout": "IPY_MODEL_72efcb6296754f1da80feec12809fc23",
       "style": "IPY_MODEL_7e6523ede21d4646a470226acf6b7aaf"
      }
     },
     "81341d27ffae451692605ac194cc8a61": {
      "model_module": "@jupyter-widgets/controls",
      "model_module_version": "1.2.0",
      "model_name": "ButtonModel",
      "state": {
       "button_style": "warning",
       "description": "20",
       "layout": "IPY_MODEL_16df380d38fb47a2bbb217b953037b65",
       "style": "IPY_MODEL_fd926916b6594dddaba20219f9b11238"
      }
     },
     "813a080fdcb3410989a70bba0ea0ecad": {
      "model_module": "@jupyter-widgets/controls",
      "model_module_version": "1.2.0",
      "model_name": "ButtonModel",
      "state": {
       "layout": "IPY_MODEL_2af0478414984409850c07e18b6cb56f",
       "style": "IPY_MODEL_56e2345399464eb0a6d21b2501174e40"
      }
     },
     "816388f40d1c48189528d741dca9d7b4": {
      "model_module": "@jupyter-widgets/controls",
      "model_module_version": "1.2.0",
      "model_name": "ButtonModel",
      "state": {
       "layout": "IPY_MODEL_3f71f81b8f7747939c03e358cd4a7a17",
       "style": "IPY_MODEL_fdd73a93225844ce94f47f4a447c7c07"
      }
     },
     "816dac90143c42308015bd8697789bad": {
      "model_module": "@jupyter-widgets/controls",
      "model_module_version": "1.2.0",
      "model_name": "ButtonStyleModel",
      "state": {}
     },
     "817877cc612c41bd83072cdb1e7f4d0e": {
      "model_module": "@jupyter-widgets/base",
      "model_module_version": "1.0.0",
      "model_name": "LayoutModel",
      "state": {
       "height": "auto",
       "width": "auto"
      }
     },
     "81b2a08d47e74ad3a2ffac78638c1741": {
      "model_module": "@jupyter-widgets/controls",
      "model_module_version": "1.2.0",
      "model_name": "ButtonStyleModel",
      "state": {}
     },
     "81b785a8c522421983831ec9f185c7b7": {
      "model_module": "@jupyter-widgets/controls",
      "model_module_version": "1.2.0",
      "model_name": "ButtonModel",
      "state": {
       "layout": "IPY_MODEL_fab719789b8e45a592a40bdcb0d6d5da",
       "style": "IPY_MODEL_eedb6a0ec1b94899a6273bc84b89b5be"
      }
     },
     "81ca6f0f19ee449f8d201f7f36e93224": {
      "model_module": "@jupyter-widgets/controls",
      "model_module_version": "1.2.0",
      "model_name": "ButtonModel",
      "state": {
       "layout": "IPY_MODEL_216e771000e440fea088424dae98bc76",
       "style": "IPY_MODEL_641b7e8788ad4bfe867408bf549fabf9"
      }
     },
     "81ec9249081b40309ecba75d25524319": {
      "model_module": "@jupyter-widgets/controls",
      "model_module_version": "1.2.0",
      "model_name": "ButtonModel",
      "state": {
       "layout": "IPY_MODEL_a8a4a992eee54af0b1fe3c12946711d2",
       "style": "IPY_MODEL_241d4d6b26484ab2ba9c0662edd70841"
      }
     },
     "81f0a48d7e494b0f92c1466da416fb04": {
      "model_module": "@jupyter-widgets/controls",
      "model_module_version": "1.2.0",
      "model_name": "ButtonModel",
      "state": {
       "layout": "IPY_MODEL_8401a7458b0c47bab21012a81f4833f7",
       "style": "IPY_MODEL_49d7a3f7db5e4a0781a580c85c3f42d3"
      }
     },
     "81f4ea0f17924beebd7ed7f1b53c6967": {
      "model_module": "@jupyter-widgets/controls",
      "model_module_version": "1.2.0",
      "model_name": "ButtonModel",
      "state": {
       "button_style": "warning",
       "description": "28",
       "layout": "IPY_MODEL_a810a994ec8c404f8136c2e39def56aa",
       "style": "IPY_MODEL_c5c9e26d5207492481d414f928baecc8"
      }
     },
     "826fb4d7aee047ddb353a035cc1d58f8": {
      "model_module": "@jupyter-widgets/controls",
      "model_module_version": "1.2.0",
      "model_name": "ButtonModel",
      "state": {
       "button_style": "warning",
       "description": "33",
       "layout": "IPY_MODEL_d2db15f9d1834946bd4923f3faf2a54f",
       "style": "IPY_MODEL_08c681f71ec44598957d6ef0cd0c644d"
      }
     },
     "82acdfe7579549568b0bd13e1584c131": {
      "model_module": "@jupyter-widgets/base",
      "model_module_version": "1.0.0",
      "model_name": "LayoutModel",
      "state": {
       "grid_gap": "10px 10px",
       "grid_template": "50px 100px / 25% 10% auto 200px"
      }
     },
     "82d520dd6ce4408a97c17e555d036461": {
      "model_module": "@jupyter-widgets/controls",
      "model_module_version": "1.2.0",
      "model_name": "ButtonStyleModel",
      "state": {}
     },
     "82dcd800b6534348bfb61cb5e29d11e6": {
      "model_module": "@jupyter-widgets/controls",
      "model_module_version": "1.2.0",
      "model_name": "ButtonStyleModel",
      "state": {}
     },
     "82ec96d6abdf4ba290cddfc6d4cf3f38": {
      "model_module": "@jupyter-widgets/controls",
      "model_module_version": "1.2.0",
      "model_name": "ButtonModel",
      "state": {
       "layout": "IPY_MODEL_3f71f81b8f7747939c03e358cd4a7a17",
       "style": "IPY_MODEL_fdd73a93225844ce94f47f4a447c7c07"
      }
     },
     "82fd0b8125cb47e7b3e73c398b45fcac": {
      "model_module": "@jupyter-widgets/controls",
      "model_module_version": "1.2.0",
      "model_name": "ButtonStyleModel",
      "state": {}
     },
     "82feac817b294955a2e39c2c4ed1db46": {
      "model_module": "@jupyter-widgets/controls",
      "model_module_version": "1.2.0",
      "model_name": "ButtonModel",
      "state": {
       "layout": "IPY_MODEL_f5b417d7e1df4155948ccc11e2f1e644",
       "style": "IPY_MODEL_4abc0b03e5a1493980272a77b1722ebc"
      }
     },
     "8316acf5cc97468892ce820f7bf33bd1": {
      "model_module": "@jupyter-widgets/base",
      "model_module_version": "1.0.0",
      "model_name": "LayoutModel",
      "state": {
       "height": "auto",
       "width": "auto"
      }
     },
     "834ca556be8d456e887d998d75dda08a": {
      "model_module": "@jupyter-widgets/controls",
      "model_module_version": "1.2.0",
      "model_name": "GridBoxModel",
      "state": {
       "children": [
        "IPY_MODEL_7785a516bdac44ed8bc441ea6f32c01a",
        "IPY_MODEL_4e96bccc928f4dc49b30ef34404ffad1",
        "IPY_MODEL_3a28163a68064cddab6d4a56d8dd9461",
        "IPY_MODEL_635c84b708674c4c90b657489199e00d",
        "IPY_MODEL_1a58fa3504594579b3c287f5275db665",
        "IPY_MODEL_813a080fdcb3410989a70bba0ea0ecad",
        "IPY_MODEL_4279f302ee9c44b285224e91c038181c",
        "IPY_MODEL_3f7ab63af9754f79b3e1f18d08b477ae",
        "IPY_MODEL_f996ed9a4a634d279d0efce7af55c1bc"
       ],
       "layout": "IPY_MODEL_37b4bea761f3457fa43011c7d460b446"
      }
     },
     "838146113b404f3cab0775e9ec2fb331": {
      "model_module": "@jupyter-widgets/base",
      "model_module_version": "1.0.0",
      "model_name": "LayoutModel",
      "state": {
       "height": "40px",
       "width": "auto"
      }
     },
     "838a6b02109b4cdf8069de772e21bd5a": {
      "model_module": "@jupyter-widgets/base",
      "model_module_version": "1.0.0",
      "model_name": "LayoutModel",
      "state": {
       "grid_area": "sidebar",
       "width": "auto"
      }
     },
     "839400e7db0442089379aebc9b9c1272": {
      "model_module": "@jupyter-widgets/controls",
      "model_module_version": "1.2.0",
      "model_name": "ButtonStyleModel",
      "state": {
       "button_color": "green"
      }
     },
     "83a8dc9e7a8e4343a02cb937c5d52f74": {
      "model_module": "@jupyter-widgets/controls",
      "model_module_version": "1.2.0",
      "model_name": "ButtonModel",
      "state": {
       "layout": "IPY_MODEL_027edf707eb9494cb0a1e0da0d528b12",
       "style": "IPY_MODEL_3d967b3d764f47a99635e7ef7341825a"
      }
     },
     "83d9f6ec854845b7a6b1cc2672052109": {
      "model_module": "@jupyter-widgets/controls",
      "model_module_version": "1.2.0",
      "model_name": "ButtonModel",
      "state": {
       "button_style": "danger",
       "description": "weight=1; auto",
       "layout": "IPY_MODEL_5fd9e4a41b494a9db0d1df4470a7aacd",
       "style": "IPY_MODEL_36abbe684a7649dda0d56d4c9ae5ff6f"
      }
     },
     "8401a7458b0c47bab21012a81f4833f7": {
      "model_module": "@jupyter-widgets/base",
      "model_module_version": "1.0.0",
      "model_name": "LayoutModel",
      "state": {
       "grid_area": "header",
       "width": "auto"
      }
     },
     "84065b683954486982bf3b642888457b": {
      "model_module": "@jupyter-widgets/base",
      "model_module_version": "1.0.0",
      "model_name": "LayoutModel",
      "state": {
       "grid_template": "auto / auto auto auto auto auto"
      }
     },
     "8439abd31fed468683220a74639e2b13": {
      "model_module": "@jupyter-widgets/controls",
      "model_module_version": "1.2.0",
      "model_name": "LabelModel",
      "state": {
       "layout": "IPY_MODEL_6c7cf01258a54cd18266c7fd9c241d1e",
       "style": "IPY_MODEL_481c608462174859b120383d068e5e5f",
       "value": "Scroll horizontally:"
      }
     },
     "8448468c4a0249f4bd9a8e6ae2bf9372": {
      "model_module": "@jupyter-widgets/controls",
      "model_module_version": "1.2.0",
      "model_name": "IntSliderModel",
      "state": {
       "description": "A too long description",
       "layout": "IPY_MODEL_4e22ea5161bc4c0c95a2076b845620ea",
       "style": "IPY_MODEL_19179014f7d44133a4e1c6de120a9596"
      }
     },
     "8478df0cb35e48efb154fa0c8681d60a": {
      "model_module": "@jupyter-widgets/controls",
      "model_module_version": "1.2.0",
      "model_name": "GridBoxModel",
      "state": {
       "children": [
        "IPY_MODEL_89420c40ca804833802df8969fe0f79b",
        "IPY_MODEL_4e9d5228df5e499399e760da49271608",
        "IPY_MODEL_13f979cffbdd4b0bbb5a7869b0a72d35",
        "IPY_MODEL_1ceb665848fe4119934023e9ffd9e680",
        "IPY_MODEL_0d96cf65a07b4961a590a9259f33ae1b",
        "IPY_MODEL_eb4d3fd0cd99414fa882d65abcd3a899",
        "IPY_MODEL_53a386cb38134cabab504f2696fb2c1b",
        "IPY_MODEL_764ce07002754bd493ff0e5300510b31",
        "IPY_MODEL_8702ae607d734aee8b70ffa8a73bd42e",
        "IPY_MODEL_376c21fbfac643448ac1bd93f7ac22ed"
       ],
       "layout": "IPY_MODEL_c77cefd752004dd0b6c1ea02a62f8c45"
      }
     },
     "847a5f4e6648404b94fa1d8e9efd37b0": {
      "model_module": "@jupyter-widgets/controls",
      "model_module_version": "1.2.0",
      "model_name": "ButtonStyleModel",
      "state": {
       "button_color": "blue"
      }
     },
     "84c66b49adcb4023aeae8cbd4b9a8c4a": {
      "model_module": "@jupyter-widgets/controls",
      "model_module_version": "1.2.0",
      "model_name": "IntSliderModel",
      "state": {
       "description": "A too long description",
       "layout": "IPY_MODEL_522914fff0fc4d78bb0ed987b2ef4c3a",
       "style": "IPY_MODEL_7419e74f2c5a46fbb7ea76e4a01bb117"
      }
     },
     "84e3b8da0eca4865b1baff7e0c3eaf3b": {
      "model_module": "@jupyter-widgets/controls",
      "model_module_version": "1.2.0",
      "model_name": "ButtonStyleModel",
      "state": {}
     },
     "8510619552bf4b52b52b9a17f947e0ee": {
      "model_module": "@jupyter-widgets/controls",
      "model_module_version": "1.2.0",
      "model_name": "ButtonModel",
      "state": {
       "layout": "IPY_MODEL_bfea69d00b7047ae9fc2c9c9406858ad",
       "style": "IPY_MODEL_5ad8035f610a4e61b4d154e4aab55e77"
      }
     },
     "8518112a654942ca990222dc156f3a51": {
      "model_module": "@jupyter-widgets/controls",
      "model_module_version": "1.2.0",
      "model_name": "ButtonStyleModel",
      "state": {}
     },
     "85472917dac94f60bc4ae5f795ed2da9": {
      "model_module": "@jupyter-widgets/controls",
      "model_module_version": "1.2.0",
      "model_name": "ButtonModel",
      "state": {
       "layout": "IPY_MODEL_cc0b5b6837d64a208102ee5a61410dd8",
       "style": "IPY_MODEL_de99fa1577f84e06ac7663caf6ad4bc3"
      }
     },
     "856188283bf445858fc61d0ec7123473": {
      "model_module": "@jupyter-widgets/base",
      "model_module_version": "1.0.0",
      "model_name": "LayoutModel",
      "state": {}
     },
     "8562ad751df442fcab8eb7a5859d3167": {
      "model_module": "@jupyter-widgets/controls",
      "model_module_version": "1.2.0",
      "model_name": "ButtonStyleModel",
      "state": {}
     },
     "8565e49dd10d4bd5806cae55d5e741b0": {
      "model_module": "@jupyter-widgets/controls",
      "model_module_version": "1.2.0",
      "model_name": "ButtonStyleModel",
      "state": {}
     },
     "85670a9d18f3486687703fea95e9f48a": {
      "model_module": "@jupyter-widgets/controls",
      "model_module_version": "1.2.0",
      "model_name": "ButtonStyleModel",
      "state": {}
     },
     "85700b30a8354277bd8a607e59753c1c": {
      "model_module": "@jupyter-widgets/controls",
      "model_module_version": "1.2.0",
      "model_name": "ButtonModel",
      "state": {
       "description": "sidebar",
       "layout": "IPY_MODEL_8e8d99a0a6f944aeae79c3a11e87c4ec",
       "style": "IPY_MODEL_ab1cfd9006c54b88b906581717a827d4"
      }
     },
     "8570267e433340a59de0ae496f11065c": {
      "model_module": "@jupyter-widgets/controls",
      "model_module_version": "1.2.0",
      "model_name": "ButtonStyleModel",
      "state": {
       "button_color": "blue"
      }
     },
     "8582fc988c154f82a53557235e01e06d": {
      "model_module": "@jupyter-widgets/controls",
      "model_module_version": "1.2.0",
      "model_name": "ButtonModel",
      "state": {
       "layout": "IPY_MODEL_0f8fab5875984054a7f4d69598255738",
       "style": "IPY_MODEL_d01abeb187d24927bb61c3e6b44518fd"
      }
     },
     "8584543e127c4d52b65805e14ca9f7cd": {
      "model_module": "@jupyter-widgets/controls",
      "model_module_version": "1.2.0",
      "model_name": "ButtonModel",
      "state": {
       "layout": "IPY_MODEL_7b1a8b8157674b6bb054cc6c62227c65",
       "style": "IPY_MODEL_7a4b0b23817b4a94bc467a67e82faecb"
      }
     },
     "858e568cf3404c5f954be0b98b325cab": {
      "model_module": "@jupyter-widgets/base",
      "model_module_version": "1.0.0",
      "model_name": "LayoutModel",
      "state": {
       "height": "auto",
       "width": "auto"
      }
     },
     "859c093adf2346a1a966750a581e7d1a": {
      "model_module": "@jupyter-widgets/controls",
      "model_module_version": "1.2.0",
      "model_name": "IntSliderModel",
      "state": {
       "description": "A too long description",
       "layout": "IPY_MODEL_571e075939904f4da795f2cbcc4f8bb2",
       "style": "IPY_MODEL_8fec03142c904f3995b6049e85d919d0"
      }
     },
     "85ce8b4b84834637bdfc22a7a3cba30c": {
      "model_module": "@jupyter-widgets/controls",
      "model_module_version": "1.2.0",
      "model_name": "ButtonStyleModel",
      "state": {}
     },
     "85eded20f3594a4da38c625b30f5d90f": {
      "model_module": "@jupyter-widgets/controls",
      "model_module_version": "1.2.0",
      "model_name": "ButtonStyleModel",
      "state": {}
     },
     "85fd74259c794fceb994b7b3a6215ba6": {
      "model_module": "@jupyter-widgets/controls",
      "model_module_version": "1.2.0",
      "model_name": "ButtonStyleModel",
      "state": {
       "button_color": "lightblue"
      }
     },
     "85ff54fb4dbc49ce904418c329c39fb5": {
      "model_module": "@jupyter-widgets/controls",
      "model_module_version": "1.2.0",
      "model_name": "ButtonStyleModel",
      "state": {}
     },
     "86098b8f040248c18c362d243f3259ab": {
      "model_module": "@jupyter-widgets/base",
      "model_module_version": "1.0.0",
      "model_name": "LayoutModel",
      "state": {
       "grid_gap": "2px 2px",
       "grid_template": "50px 100px / 25% 10% auto 200px"
      }
     },
     "864cfbffdf0e47a78d23cb2eaf653c7b": {
      "model_module": "@jupyter-widgets/controls",
      "model_module_version": "1.2.0",
      "model_name": "ButtonStyleModel",
      "state": {}
     },
     "864fe372f94d4df7b19e4d77b131b70e": {
      "model_module": "@jupyter-widgets/controls",
      "model_module_version": "1.2.0",
      "model_name": "ButtonStyleModel",
      "state": {}
     },
     "865aa5c886d945e69e0e6013039f05c8": {
      "model_module": "@jupyter-widgets/controls",
      "model_module_version": "1.2.0",
      "model_name": "ButtonModel",
      "state": {
       "button_style": "danger",
       "description": "weight=1; 0%",
       "layout": "IPY_MODEL_5a8da4e4bab14ec79c5eed7a3b865e46",
       "style": "IPY_MODEL_f90da99e3c4c48bd91f39fb0a54fc0a8"
      }
     },
     "8670eebe0edd46e28c72d32f55e21fd1": {
      "model_module": "@jupyter-widgets/controls",
      "model_module_version": "1.2.0",
      "model_name": "ButtonStyleModel",
      "state": {}
     },
     "86759cdfe7ee411cb1d13bee30fbe2b3": {
      "model_module": "@jupyter-widgets/controls",
      "model_module_version": "1.2.0",
      "model_name": "ButtonModel",
      "state": {
       "description": "Another button with the same layout",
       "layout": "IPY_MODEL_be4f5bdc71744edc8bebe2e143af825a",
       "style": "IPY_MODEL_63c08b8422c24dbcbd105a81d1e0ce54"
      }
     },
     "86835fc268904fb5ab021b95ecee3239": {
      "model_module": "@jupyter-widgets/controls",
      "model_module_version": "1.2.0",
      "model_name": "ButtonModel",
      "state": {
       "layout": "IPY_MODEL_5f93039a824040f6892c5a36aa5b0393",
       "style": "IPY_MODEL_f32b6dd485274cf288c1887ca967da73"
      }
     },
     "868405055b0d4c4c890c3cfef7ce435d": {
      "model_module": "@jupyter-widgets/controls",
      "model_module_version": "1.2.0",
      "model_name": "ButtonModel",
      "state": {
       "layout": "IPY_MODEL_09bbe1f1fc7b4c5cb813271d906a80af",
       "style": "IPY_MODEL_44a54274230d49afb4a870faede4b968"
      }
     },
     "8685035b90cb40d3a7a07f07156f0cde": {
      "model_module": "@jupyter-widgets/controls",
      "model_module_version": "1.2.0",
      "model_name": "ButtonModel",
      "state": {
       "description": "Custom color",
       "layout": "IPY_MODEL_e7b5eab948be430da50549e8a478f72d",
       "style": "IPY_MODEL_7dbee97eda3b4722a235a18bde488cc9"
      }
     },
     "868b1e339460411786ba4846d3a46648": {
      "model_module": "@jupyter-widgets/controls",
      "model_module_version": "1.2.0",
      "model_name": "ButtonStyleModel",
      "state": {}
     },
     "869e643c617444b08106f6b111ec5588": {
      "model_module": "@jupyter-widgets/controls",
      "model_module_version": "1.2.0",
      "model_name": "ButtonModel",
      "state": {
       "layout": "IPY_MODEL_86b01bd661a74b7b96dbc14612ddfdef",
       "style": "IPY_MODEL_e309f978dba140eb8fa044589700e5e4"
      }
     },
     "86b01bd661a74b7b96dbc14612ddfdef": {
      "model_module": "@jupyter-widgets/base",
      "model_module_version": "1.0.0",
      "model_name": "LayoutModel",
      "state": {
       "height": "auto",
       "width": "auto"
      }
     },
     "86befae85c0d4fe7826ec8be4d45e4ca": {
      "model_module": "@jupyter-widgets/controls",
      "model_module_version": "1.2.0",
      "model_name": "ButtonStyleModel",
      "state": {}
     },
     "86c2621f87844d12a3116e3a9cf40c27": {
      "model_module": "@jupyter-widgets/controls",
      "model_module_version": "1.2.0",
      "model_name": "ButtonStyleModel",
      "state": {}
     },
     "86c49acaf982432685148a3142ca95e2": {
      "model_module": "@jupyter-widgets/controls",
      "model_module_version": "1.2.0",
      "model_name": "ButtonModel",
      "state": {
       "button_style": "warning",
       "description": "29",
       "layout": "IPY_MODEL_16df380d38fb47a2bbb217b953037b65",
       "style": "IPY_MODEL_2a2828057241432b8be083402f550674"
      }
     },
     "86e138b1435d437298ee6473889710d7": {
      "model_module": "@jupyter-widgets/controls",
      "model_module_version": "1.2.0",
      "model_name": "ButtonStyleModel",
      "state": {}
     },
     "86f2ec92bd5d42a895f58920ec1b27a2": {
      "model_module": "@jupyter-widgets/controls",
      "model_module_version": "1.2.0",
      "model_name": "ButtonStyleModel",
      "state": {}
     },
     "8702ae607d734aee8b70ffa8a73bd42e": {
      "model_module": "@jupyter-widgets/controls",
      "model_module_version": "1.2.0",
      "model_name": "ButtonModel",
      "state": {
       "layout": "IPY_MODEL_2bdfdf76c0e14eebaddf584bf14e9325",
       "style": "IPY_MODEL_74e269d8a8f84e76b3d0c3197e18e2d7"
      }
     },
     "8708a465944943bf98413a381da7a111": {
      "model_module": "@jupyter-widgets/controls",
      "model_module_version": "1.2.0",
      "model_name": "ButtonStyleModel",
      "state": {}
     },
     "871557464aab43e89dbfc8a37efb4de1": {
      "model_module": "@jupyter-widgets/controls",
      "model_module_version": "1.2.0",
      "model_name": "BoxModel",
      "state": {
       "children": [
        "IPY_MODEL_f6ab089285c74edeae0cc0c46c154f9f",
        "IPY_MODEL_18155f42db1f426185321e072344fb79"
       ],
       "layout": "IPY_MODEL_7ff7d1de92da4cc68956d6d8aa1d002a"
      }
     },
     "8717d8d7ba104606a7d04d81d132c60e": {
      "model_module": "@jupyter-widgets/base",
      "model_module_version": "1.0.0",
      "model_name": "LayoutModel",
      "state": {}
     },
     "8749027b0add4701be45da829255f71b": {
      "model_module": "@jupyter-widgets/controls",
      "model_module_version": "1.2.0",
      "model_name": "ButtonModel",
      "state": {
       "button_style": "warning",
       "description": "2",
       "layout": "IPY_MODEL_963f958a6a3049a3b012ec8484fb898f",
       "style": "IPY_MODEL_e23125f4d8164dc287fb2654ccf66955"
      }
     },
     "87695662861b45f2a2f1d186ab4b7cd8": {
      "model_module": "@jupyter-widgets/controls",
      "model_module_version": "1.2.0",
      "model_name": "ButtonModel",
      "state": {
       "layout": "IPY_MODEL_df299558f7fe43b2b5de00f8a5202d32",
       "style": "IPY_MODEL_5ca0db911dcb4e7fbd69e459e7a64aed"
      }
     },
     "87796abe557a4d00b2904d0764eca352": {
      "model_module": "@jupyter-widgets/controls",
      "model_module_version": "1.2.0",
      "model_name": "ButtonModel",
      "state": {
       "button_style": "warning",
       "description": "14",
       "layout": "IPY_MODEL_a810a994ec8c404f8136c2e39def56aa",
       "style": "IPY_MODEL_1bad5da17c3b43dca0c46618540f8149"
      }
     },
     "8788832d20fd4c49b977259f066ac0e9": {
      "model_module": "@jupyter-widgets/controls",
      "model_module_version": "1.2.0",
      "model_name": "ButtonModel",
      "state": {
       "button_style": "warning",
       "description": "18",
       "layout": "IPY_MODEL_d2db15f9d1834946bd4923f3faf2a54f",
       "style": "IPY_MODEL_1d7aa050b9264c269ecb31a0804cce2e"
      }
     },
     "8795d098d40845b4a4197be4ee06b28a": {
      "model_module": "@jupyter-widgets/controls",
      "model_module_version": "1.2.0",
      "model_name": "ButtonModel",
      "state": {
       "layout": "IPY_MODEL_54dc1791cb77472c8ca601c93d0b0fe1",
       "style": "IPY_MODEL_774788e06f234b39a6e13f58c1e19f38"
      }
     },
     "879bf1cfee124af09e15139ee99daa8d": {
      "model_module": "@jupyter-widgets/base",
      "model_module_version": "1.0.0",
      "model_name": "LayoutModel",
      "state": {
       "grid_template": "auto / auto auto auto auto auto"
      }
     },
     "87aa3511e5f44df190a6bd1efb909217": {
      "model_module": "@jupyter-widgets/controls",
      "model_module_version": "1.2.0",
      "model_name": "ButtonModel",
      "state": {
       "button_style": "warning",
       "description": "27",
       "layout": "IPY_MODEL_d2db15f9d1834946bd4923f3faf2a54f",
       "style": "IPY_MODEL_f9f7e1897bee43b5ad8c562adc6f092f"
      }
     },
     "87b34cb208f548279e1607b79e766a52": {
      "model_module": "@jupyter-widgets/controls",
      "model_module_version": "1.2.0",
      "model_name": "ButtonModel",
      "state": {
       "layout": "IPY_MODEL_6f40ca184b52431fb129559993d708e0",
       "style": "IPY_MODEL_e9ab615766dc44c1a85205d8860b565c"
      }
     },
     "87b5a152aeb24afeaeeaf995fa2b82f3": {
      "model_module": "@jupyter-widgets/controls",
      "model_module_version": "1.2.0",
      "model_name": "ButtonModel",
      "state": {
       "button_style": "danger",
       "description": "weight=1; auto",
       "layout": "IPY_MODEL_b9e98823f645484fafca75a4396d538b",
       "style": "IPY_MODEL_c417aee785554344879c1006c7f4c71a"
      }
     },
     "87ce759e335548e08777f327e705313f": {
      "model_module": "@jupyter-widgets/base",
      "model_module_version": "1.0.0",
      "model_name": "LayoutModel",
      "state": {
       "grid_template": "'\n    auto auto auto / auto auto auto auto\n    "
      }
     },
     "87ef9db3e7ae497eae4dd0258218a753": {
      "model_module": "@jupyter-widgets/controls",
      "model_module_version": "1.2.0",
      "model_name": "ButtonModel",
      "state": {
       "button_style": "warning",
       "description": "33",
       "layout": "IPY_MODEL_16df380d38fb47a2bbb217b953037b65",
       "style": "IPY_MODEL_109e1ad9d8c54aec94b4d93e6e13c324"
      }
     },
     "87f4ad9aa273415099d672963f5a3e9c": {
      "model_module": "@jupyter-widgets/controls",
      "model_module_version": "1.2.0",
      "model_name": "ButtonModel",
      "state": {
       "layout": "IPY_MODEL_d14b3ce2f12542aa85087e29226d7f69",
       "style": "IPY_MODEL_52068671a1bf4bbbac218dd6eb9d0a9f"
      }
     },
     "87f870291d5f43e584f102463b45d217": {
      "model_module": "@jupyter-widgets/controls",
      "model_module_version": "1.2.0",
      "model_name": "ButtonStyleModel",
      "state": {}
     },
     "8800b80cffda439d949298a760eeb41f": {
      "model_module": "@jupyter-widgets/controls",
      "model_module_version": "1.2.0",
      "model_name": "ButtonStyleModel",
      "state": {}
     },
     "8806ad240a2a4d5eba495cf89e1b1043": {
      "model_module": "@jupyter-widgets/controls",
      "model_module_version": "1.2.0",
      "model_name": "ButtonModel",
      "state": {
       "button_style": "warning",
       "description": "23",
       "layout": "IPY_MODEL_79e6f20409fa4963aff904a921b6d604",
       "style": "IPY_MODEL_dae17b55d40148dcaa7f5ffb8c2f8660"
      }
     },
     "881b69e2fbd04c05b68fcfd3ff8ab85a": {
      "model_module": "@jupyter-widgets/controls",
      "model_module_version": "1.2.0",
      "model_name": "ButtonModel",
      "state": {
       "button_style": "warning",
       "description": "11",
       "layout": "IPY_MODEL_79e6f20409fa4963aff904a921b6d604",
       "style": "IPY_MODEL_714ddc2f3d744d83ac72fd6fc1cf98e0"
      }
     },
     "88272af385e74f018a86413a06bb2d00": {
      "model_module": "@jupyter-widgets/controls",
      "model_module_version": "1.2.0",
      "model_name": "ButtonStyleModel",
      "state": {
       "button_color": "#77A"
      }
     },
     "883b97aebbdc4a208fe78dd19deed32e": {
      "model_module": "@jupyter-widgets/base",
      "model_module_version": "1.0.0",
      "model_name": "LayoutModel",
      "state": {}
     },
     "8855cef7a7af4bd1896c1de7887cc7bd": {
      "model_module": "@jupyter-widgets/controls",
      "model_module_version": "1.2.0",
      "model_name": "ButtonStyleModel",
      "state": {}
     },
     "8861bd1a9a6a40918f3365e85563e31f": {
      "model_module": "@jupyter-widgets/controls",
      "model_module_version": "1.2.0",
      "model_name": "VBoxModel",
      "state": {
       "children": [
        "IPY_MODEL_e8176ab1ac96403b8c3a5e3ea376bda3",
        "IPY_MODEL_f6adf1062a6d42ff9de72d302b020ae1"
       ],
       "layout": "IPY_MODEL_38e8f711a1bc4a47800ea8b627f2fe41"
      }
     },
     "889fbbbc61a048e6aaaf16f80892812e": {
      "model_module": "@jupyter-widgets/controls",
      "model_module_version": "1.2.0",
      "model_name": "ButtonModel",
      "state": {
       "layout": "IPY_MODEL_36a441e29f00483985e00d555e6108b7",
       "style": "IPY_MODEL_0683f0f4f50141c48a21ae10572b3fc1"
      }
     },
     "88b25d9ece3e453f8ecbd4f9e2511770": {
      "model_module": "@jupyter-widgets/base",
      "model_module_version": "1.0.0",
      "model_name": "LayoutModel",
      "state": {}
     },
     "88bcc1e07aaf4c71a8cb8e712193c631": {
      "model_module": "@jupyter-widgets/controls",
      "model_module_version": "1.2.0",
      "model_name": "ButtonStyleModel",
      "state": {}
     },
     "88cb04e8ba424148be46944a650562fe": {
      "model_module": "@jupyter-widgets/controls",
      "model_module_version": "1.2.0",
      "model_name": "ButtonModel",
      "state": {
       "layout": "IPY_MODEL_0f8fab5875984054a7f4d69598255738",
       "style": "IPY_MODEL_fbae31bbe80e4628b9e4a3859341b104"
      }
     },
     "88dbce414c684cc7879bfcba534a04b6": {
      "model_module": "@jupyter-widgets/controls",
      "model_module_version": "1.2.0",
      "model_name": "ButtonStyleModel",
      "state": {}
     },
     "88e146a1a6194d638e41752390e15c10": {
      "model_module": "@jupyter-widgets/controls",
      "model_module_version": "1.2.0",
      "model_name": "ButtonModel",
      "state": {
       "layout": "IPY_MODEL_ea2a717a6abb43d58ed664b124108192",
       "style": "IPY_MODEL_7f1d43ffd3b947c781cd0bd3a801fafa"
      }
     },
     "88f3ce78e90e42d1ba9edda5ebf384cc": {
      "model_module": "@jupyter-widgets/controls",
      "model_module_version": "1.2.0",
      "model_name": "ButtonModel",
      "state": {
       "layout": "IPY_MODEL_3ee33ef73484447eacd6651d43b68f93",
       "style": "IPY_MODEL_10663661f9a64d3c9f68ecd31561cbd9"
      }
     },
     "8917918e85dd49b0a323f3d0c8e2d4ca": {
      "model_module": "@jupyter-widgets/controls",
      "model_module_version": "1.2.0",
      "model_name": "ButtonStyleModel",
      "state": {}
     },
     "89420c40ca804833802df8969fe0f79b": {
      "model_module": "@jupyter-widgets/controls",
      "model_module_version": "1.2.0",
      "model_name": "ButtonModel",
      "state": {
       "layout": "IPY_MODEL_2bdfdf76c0e14eebaddf584bf14e9325",
       "style": "IPY_MODEL_3d437feef890412486ba6bc9fff4f978"
      }
     },
     "89713b1e02404a01ab94fddab0ed279d": {
      "model_module": "@jupyter-widgets/controls",
      "model_module_version": "1.2.0",
      "model_name": "ButtonModel",
      "state": {
       "layout": "IPY_MODEL_bca42cda5863431094ba3b2b4642113f",
       "style": "IPY_MODEL_d2de6072a0c24d5582f24ff79f45da6f"
      }
     },
     "89923d5842534a18a0dc627b3f587215": {
      "model_module": "@jupyter-widgets/controls",
      "model_module_version": "1.2.0",
      "model_name": "ButtonStyleModel",
      "state": {}
     },
     "8993f6b443a5464f94356aec076b623b": {
      "model_module": "@jupyter-widgets/controls",
      "model_module_version": "1.2.0",
      "model_name": "ButtonStyleModel",
      "state": {}
     },
     "89998fe748444f1bbf301d2f8f1ff47f": {
      "model_module": "@jupyter-widgets/controls",
      "model_module_version": "1.2.0",
      "model_name": "ButtonModel",
      "state": {
       "description": "(50% width, 80px height) button",
       "layout": "IPY_MODEL_47a44226cefc49ba851fb4472e2b0e3a",
       "style": "IPY_MODEL_28060249bc9f41f4baedc749c0333992"
      }
     },
     "89c67586b14b4a9eb430320e22805e2b": {
      "model_module": "@jupyter-widgets/controls",
      "model_module_version": "1.2.0",
      "model_name": "ButtonStyleModel",
      "state": {}
     },
     "89d2e6e2e5724ec49edf94d25807edf0": {
      "model_module": "@jupyter-widgets/controls",
      "model_module_version": "1.2.0",
      "model_name": "ButtonStyleModel",
      "state": {}
     },
     "89db54476bba4eddbc981f6a864b6ed0": {
      "model_module": "@jupyter-widgets/base",
      "model_module_version": "1.0.0",
      "model_name": "LayoutModel",
      "state": {
       "height": "auto",
       "width": "auto"
      }
     },
     "8a0ecd0cdf6c4ca09611c081e298c11f": {
      "model_module": "@jupyter-widgets/base",
      "model_module_version": "1.0.0",
      "model_name": "LayoutModel",
      "state": {}
     },
     "8a16c3e2e29b4ec3a755bfe0a0be5bbb": {
      "model_module": "@jupyter-widgets/controls",
      "model_module_version": "1.2.0",
      "model_name": "ButtonStyleModel",
      "state": {}
     },
     "8a1c253d29c04c71ba3097fb482e9a03": {
      "model_module": "@jupyter-widgets/controls",
      "model_module_version": "1.2.0",
      "model_name": "ButtonModel",
      "state": {
       "layout": "IPY_MODEL_027edf707eb9494cb0a1e0da0d528b12",
       "style": "IPY_MODEL_7a0a16b726974629886f4d1d80fd32ff"
      }
     },
     "8a1c9e44eed54302bf0cf904fb656e43": {
      "model_module": "@jupyter-widgets/controls",
      "model_module_version": "1.2.0",
      "model_name": "ButtonStyleModel",
      "state": {
       "button_color": "lightgreen"
      }
     },
     "8a1d025d7be44a2ead8a4b39e7bfdc48": {
      "model_module": "@jupyter-widgets/controls",
      "model_module_version": "1.2.0",
      "model_name": "TextareaModel",
      "state": {
       "layout": "IPY_MODEL_008367db52dd4d67a23ef0c537d69065",
       "style": "IPY_MODEL_fbd2376450b249d8aaa415e01969f949"
      }
     },
     "8a246928f6be4458ba150212f86b869f": {
      "model_module": "@jupyter-widgets/controls",
      "model_module_version": "1.2.0",
      "model_name": "ButtonStyleModel",
      "state": {}
     },
     "8a322a8fd7824fedb8ca789384382702": {
      "model_module": "@jupyter-widgets/base",
      "model_module_version": "1.0.0",
      "model_name": "LayoutModel",
      "state": {
       "grid_gap": "3fr 4px",
       "grid_template": "50px 100px / 25% 10% auto 200px"
      }
     },
     "8a3f1796ee91466f82c262c79d2684b1": {
      "model_module": "@jupyter-widgets/base",
      "model_module_version": "1.0.0",
      "model_name": "LayoutModel",
      "state": {
       "height": "60px",
       "width": "auto"
      }
     },
     "8a64c55ac58f45d788fd1db770e81344": {
      "model_module": "@jupyter-widgets/controls",
      "model_module_version": "1.2.0",
      "model_name": "VBoxModel",
      "state": {
       "children": [
        "IPY_MODEL_ce161bec922f4720b76790b303ad078f",
        "IPY_MODEL_6b3312f9e1f04bab87dbe1bedfa442a1"
       ],
       "layout": "IPY_MODEL_e5871e93b9b84ac8a2e4777a443626bd"
      }
     },
     "8a6968f56b6647b9955ad531e806c7bc": {
      "model_module": "@jupyter-widgets/base",
      "model_module_version": "1.0.0",
      "model_name": "LayoutModel",
      "state": {
       "grid_area": "main",
       "width": "auto"
      }
     },
     "8a7e4bc6abe848128c923435e7f6d56f": {
      "model_module": "@jupyter-widgets/base",
      "model_module_version": "1.0.0",
      "model_name": "LayoutModel",
      "state": {
       "width": "auto"
      }
     },
     "8a8eebf1f4f645278af997c65b0aa7d0": {
      "model_module": "@jupyter-widgets/controls",
      "model_module_version": "1.2.0",
      "model_name": "TextareaModel",
      "state": {
       "layout": "IPY_MODEL_67aa363332194cdd93c6cf8e3119fcc6",
       "style": "IPY_MODEL_7e3fd618f32b4b26af66a6d2df795af9"
      }
     },
     "8ab61040c7ac47e699926195029fac32": {
      "model_module": "@jupyter-widgets/controls",
      "model_module_version": "1.2.0",
      "model_name": "ButtonStyleModel",
      "state": {
       "button_color": "yellow"
      }
     },
     "8ace901d0001407c9c12d1f19cc838a5": {
      "model_module": "@jupyter-widgets/controls",
      "model_module_version": "1.2.0",
      "model_name": "ButtonModel",
      "state": {
       "layout": "IPY_MODEL_8a3f1796ee91466f82c262c79d2684b1",
       "style": "IPY_MODEL_329272f43e0f4c388a07997989034b82"
      }
     },
     "8ad80c7388274cfcb2f2d89ac6851c5f": {
      "model_module": "@jupyter-widgets/controls",
      "model_module_version": "1.2.0",
      "model_name": "ButtonStyleModel",
      "state": {}
     },
     "8b706274e8954a2daf60b15a1a36295b": {
      "model_module": "@jupyter-widgets/controls",
      "model_module_version": "1.2.0",
      "model_name": "ButtonStyleModel",
      "state": {}
     },
     "8b789da440f948e397fc3cec19a373c4": {
      "model_module": "@jupyter-widgets/controls",
      "model_module_version": "1.2.0",
      "model_name": "ButtonModel",
      "state": {
       "layout": "IPY_MODEL_e9e51dc7db2e4dae8f6b58239515ec62",
       "style": "IPY_MODEL_afa3ab7e3a5645908496d3eadc6d5c7a"
      }
     },
     "8ba0529560344a35a96bec26ed391f09": {
      "model_module": "@jupyter-widgets/controls",
      "model_module_version": "1.2.0",
      "model_name": "DescriptionStyleModel",
      "state": {
       "description_width": ""
      }
     },
     "8ba67d843090418bb20a613cd76d7ef4": {
      "model_module": "@jupyter-widgets/controls",
      "model_module_version": "1.2.0",
      "model_name": "ButtonModel",
      "state": {
       "layout": "IPY_MODEL_d83b993e7a8845a096a187a2b2936026",
       "style": "IPY_MODEL_a591cce11edf4a3f80a5a3b55c0345a0"
      }
     },
     "8bc3010d4d904e0fb01ce97df3a02ed1": {
      "model_module": "@jupyter-widgets/controls",
      "model_module_version": "1.2.0",
      "model_name": "ButtonModel",
      "state": {
       "button_style": "warning",
       "description": "19",
       "layout": "IPY_MODEL_16df380d38fb47a2bbb217b953037b65",
       "style": "IPY_MODEL_e72f6799d8094e7a90e57de587fa85c5"
      }
     },
     "8bd64642530243aba34d4421d728c492": {
      "model_module": "@jupyter-widgets/base",
      "model_module_version": "1.0.0",
      "model_name": "LayoutModel",
      "state": {}
     },
     "8bf63e5aa74044ae9ff4719eb2dcb25d": {
      "model_module": "@jupyter-widgets/controls",
      "model_module_version": "1.2.0",
      "model_name": "ButtonModel",
      "state": {
       "layout": "IPY_MODEL_7aa706c4594f4633bfc813ec6eca6e5c",
       "style": "IPY_MODEL_b5c3667d62d249c8a5d2546f7f413b70"
      }
     },
     "8bfe8f42a405468e8f3e7a8917fd4f4f": {
      "model_module": "@jupyter-widgets/controls",
      "model_module_version": "1.2.0",
      "model_name": "SliderStyleModel",
      "state": {
       "description_width": ""
      }
     },
     "8c0e6de7e2374246bc0a31d16ba9fbe7": {
      "model_module": "@jupyter-widgets/controls",
      "model_module_version": "1.2.0",
      "model_name": "ButtonStyleModel",
      "state": {}
     },
     "8c1a69348f384bd4ad035ae6bb89c0a4": {
      "model_module": "@jupyter-widgets/controls",
      "model_module_version": "1.2.0",
      "model_name": "ButtonStyleModel",
      "state": {}
     },
     "8c3838cdffe34ff1931089c93844304d": {
      "model_module": "@jupyter-widgets/controls",
      "model_module_version": "1.2.0",
      "model_name": "ButtonModel",
      "state": {
       "layout": "IPY_MODEL_027edf707eb9494cb0a1e0da0d528b12",
       "style": "IPY_MODEL_9610ae5ac30b4c01ac3038bc901b2605"
      }
     },
     "8c54bf8feac7415b9638097001997dc6": {
      "model_module": "@jupyter-widgets/controls",
      "model_module_version": "1.2.0",
      "model_name": "ButtonStyleModel",
      "state": {}
     },
     "8c7d17fa9b6a48b7832b66d2d78dfc94": {
      "model_module": "@jupyter-widgets/base",
      "model_module_version": "1.0.0",
      "model_name": "LayoutModel",
      "state": {}
     },
     "8c828fd5268c41ac85776bb78c5085b1": {
      "model_module": "@jupyter-widgets/controls",
      "model_module_version": "1.2.0",
      "model_name": "ButtonStyleModel",
      "state": {}
     },
     "8c99575899504a56b26824adb2b1c399": {
      "model_module": "@jupyter-widgets/controls",
      "model_module_version": "1.2.0",
      "model_name": "ButtonStyleModel",
      "state": {}
     },
     "8ca3ec099cef4617ada80a003b7ffd27": {
      "model_module": "@jupyter-widgets/controls",
      "model_module_version": "1.2.0",
      "model_name": "ButtonStyleModel",
      "state": {}
     },
     "8cd3764533f540d58445d443332e87b5": {
      "model_module": "@jupyter-widgets/controls",
      "model_module_version": "1.2.0",
      "model_name": "ButtonStyleModel",
      "state": {}
     },
     "8cd59527d9914077a5fb2c77e18dbbb9": {
      "model_module": "@jupyter-widgets/controls",
      "model_module_version": "1.2.0",
      "model_name": "ButtonStyleModel",
      "state": {}
     },
     "8cdfed7e4c75447b886a1f3104cd7516": {
      "model_module": "@jupyter-widgets/controls",
      "model_module_version": "1.2.0",
      "model_name": "ButtonModel",
      "state": {
       "layout": "IPY_MODEL_2847cc6e71494c5a86d07475d49deca7",
       "style": "IPY_MODEL_4166913d892742ab964adc58623c75e4"
      }
     },
     "8ce22b72df6e4f03b4e7866b0b170ae2": {
      "model_module": "@jupyter-widgets/controls",
      "model_module_version": "1.2.0",
      "model_name": "ButtonModel",
      "state": {
       "button_style": "warning",
       "description": "33",
       "layout": "IPY_MODEL_e20ec9c5c01e485bbfa90160b80eb8f4",
       "style": "IPY_MODEL_f92fd543c37e4413b65ad7f949705956"
      }
     },
     "8d0528150ec04eac9b7b460a41f901a0": {
      "model_module": "@jupyter-widgets/controls",
      "model_module_version": "1.2.0",
      "model_name": "SliderStyleModel",
      "state": {
       "description_width": ""
      }
     },
     "8d5d9d7839c54c0296342c9d5d9a80d1": {
      "model_module": "@jupyter-widgets/base",
      "model_module_version": "1.0.0",
      "model_name": "LayoutModel",
      "state": {}
     },
     "8d872d0b94ba4ac99a61c424c17f4052": {
      "model_module": "@jupyter-widgets/controls",
      "model_module_version": "1.2.0",
      "model_name": "ButtonStyleModel",
      "state": {}
     },
     "8d8bf18b502b49eca362e7ec1946258e": {
      "model_module": "@jupyter-widgets/controls",
      "model_module_version": "1.2.0",
      "model_name": "ButtonModel",
      "state": {
       "layout": "IPY_MODEL_13e0059cd680446a8dbed4b733138cf5",
       "style": "IPY_MODEL_62970e40a51d4456bef4bf5ba64f5b65"
      }
     },
     "8d94dfc15d22480bac7e2456084fc99e": {
      "model_module": "@jupyter-widgets/controls",
      "model_module_version": "1.2.0",
      "model_name": "ButtonStyleModel",
      "state": {}
     },
     "8dcf38172317467a81187686ca3132ec": {
      "model_module": "@jupyter-widgets/base",
      "model_module_version": "1.0.0",
      "model_name": "LayoutModel",
      "state": {
       "height": "auto",
       "width": "auto"
      }
     },
     "8df810b2bfa44c7c9cfb258d8bdba80d": {
      "model_module": "@jupyter-widgets/controls",
      "model_module_version": "1.2.0",
      "model_name": "ButtonModel",
      "state": {
       "layout": "IPY_MODEL_8c7d17fa9b6a48b7832b66d2d78dfc94",
       "style": "IPY_MODEL_df45e92970d846289a432240f0d22adc"
      }
     },
     "8e17d860434e4233a9f64203329c3d90": {
      "model_module": "@jupyter-widgets/base",
      "model_module_version": "1.0.0",
      "model_name": "LayoutModel",
      "state": {}
     },
     "8e596daa094641c8a7aec57ccf4f8a12": {
      "model_module": "@jupyter-widgets/base",
      "model_module_version": "1.0.0",
      "model_name": "LayoutModel",
      "state": {}
     },
     "8e64c6360a1a417393e5822c317fbe8e": {
      "model_module": "@jupyter-widgets/controls",
      "model_module_version": "1.2.0",
      "model_name": "ButtonModel",
      "state": {
       "button_style": "warning",
       "description": "25",
       "layout": "IPY_MODEL_e20ec9c5c01e485bbfa90160b80eb8f4",
       "style": "IPY_MODEL_56d07cbfc07f4cc1aadbb2418d5d85da"
      }
     },
     "8e8d99a0a6f944aeae79c3a11e87c4ec": {
      "model_module": "@jupyter-widgets/base",
      "model_module_version": "1.0.0",
      "model_name": "LayoutModel",
      "state": {
       "grid_area": "sidebar",
       "width": "auto"
      }
     },
     "8ec3ee6deaa7403eab306447996d94cc": {
      "model_module": "@jupyter-widgets/controls",
      "model_module_version": "1.2.0",
      "model_name": "ButtonModel",
      "state": {
       "button_style": "warning",
       "description": "10",
       "layout": "IPY_MODEL_16df380d38fb47a2bbb217b953037b65",
       "style": "IPY_MODEL_aa6629761a1c4e92950bf1234fa2cb1e"
      }
     },
     "8edf04b8251948129a3aa3b2f6ed3084": {
      "model_module": "@jupyter-widgets/controls",
      "model_module_version": "1.2.0",
      "model_name": "ButtonStyleModel",
      "state": {}
     },
     "8ee26a3fa5414a03aff783e9c7bb9753": {
      "model_module": "@jupyter-widgets/controls",
      "model_module_version": "1.2.0",
      "model_name": "GridBoxModel",
      "state": {
       "children": [
        "IPY_MODEL_36a218bae8b143f8983edaeaa4e467c0",
        "IPY_MODEL_de3d06b11709451eb420d9ca5e76c6fd",
        "IPY_MODEL_305d828b4cee433c9d0623462f0efc53",
        "IPY_MODEL_c79a73b1723848bf939750b3aa67a785",
        "IPY_MODEL_81ec9249081b40309ecba75d25524319",
        "IPY_MODEL_38756641a17a47108e9d67f36757297c",
        "IPY_MODEL_174c9a55396f4ec3a2d97e1f7dc1c593",
        "IPY_MODEL_33303fadade040ba8abaed2e3317e90d"
       ],
       "layout": "IPY_MODEL_3aeee302b8c845b4b6f2c56e755c2257"
      }
     },
     "8efdf00938134b5cbd25b70090afc77c": {
      "model_module": "@jupyter-widgets/base",
      "model_module_version": "1.0.0",
      "model_name": "LayoutModel",
      "state": {}
     },
     "8f35246fc5614012b4e90c238caccc38": {
      "model_module": "@jupyter-widgets/base",
      "model_module_version": "1.0.0",
      "model_name": "LayoutModel",
      "state": {}
     },
     "8f3976da977348adbf47681e7f7bfa79": {
      "model_module": "@jupyter-widgets/controls",
      "model_module_version": "1.2.0",
      "model_name": "BoxModel",
      "state": {
       "children": [
        "IPY_MODEL_725a73922fa4463996a8f5e059f5a3db",
        "IPY_MODEL_8a8eebf1f4f645278af997c65b0aa7d0"
       ],
       "layout": "IPY_MODEL_7ff7d1de92da4cc68956d6d8aa1d002a"
      }
     },
     "8f5370fa83e14c8192a3fd9fa20e27b4": {
      "model_module": "@jupyter-widgets/controls",
      "model_module_version": "1.2.0",
      "model_name": "ButtonModel",
      "state": {
       "layout": "IPY_MODEL_35e07d15f5c14904936c5a43ba07b967",
       "style": "IPY_MODEL_1673d8f531cc4de896081401b82004e9"
      }
     },
     "8f66c49442c94d708f8b0c2f433995ea": {
      "model_module": "@jupyter-widgets/controls",
      "model_module_version": "1.2.0",
      "model_name": "ButtonStyleModel",
      "state": {
       "button_color": "blue"
      }
     },
     "8f9855947b5b4c73a1d179361ef7c032": {
      "model_module": "@jupyter-widgets/controls",
      "model_module_version": "1.2.0",
      "model_name": "ButtonModel",
      "state": {
       "layout": "IPY_MODEL_f5b417d7e1df4155948ccc11e2f1e644",
       "style": "IPY_MODEL_d14e0abb38ed4051a3c726ebf038c0bb"
      }
     },
     "8f9a7e7adbeb43f8a75c45e6b73dfea7": {
      "model_module": "@jupyter-widgets/controls",
      "model_module_version": "1.2.0",
      "model_name": "ButtonModel",
      "state": {
       "layout": "IPY_MODEL_fb08fb5613784e3191d2d4536bb00ca1",
       "style": "IPY_MODEL_f8c7c6a7f14a4f34b78a17c969edd2a9"
      }
     },
     "8f9efc394e3143ac868fd4e18c00cb9d": {
      "model_module": "@jupyter-widgets/controls",
      "model_module_version": "1.2.0",
      "model_name": "GridBoxModel",
      "state": {
       "children": [
        "IPY_MODEL_f64f788d9f7e4f40aaf0ff33c9347671",
        "IPY_MODEL_269a7061d8434a10a83df1c995fe8d89",
        "IPY_MODEL_98c962d92ac548068c976560adc8ff4c",
        "IPY_MODEL_1f77029ddf9543a1995725ae73170297",
        "IPY_MODEL_64c795cd196f4105ad2fb0bd0ff5caed",
        "IPY_MODEL_ba9a45119a2b471981feacecc6f1ca6c",
        "IPY_MODEL_ab981c53915840e7b49064b4a7f807b4",
        "IPY_MODEL_29964ad1297a4bbc92f8495b96abf081"
       ],
       "layout": "IPY_MODEL_1ac66fdf073c4fbbb68340a5acbb9a7e"
      }
     },
     "8fd0b51c93df4477a1ab2d38bff8b809": {
      "model_module": "@jupyter-widgets/controls",
      "model_module_version": "1.2.0",
      "model_name": "LabelModel",
      "state": {
       "layout": "IPY_MODEL_cd4e9b29498b473a9b011339f4df3330",
       "style": "IPY_MODEL_ef9eeb31af084d3e9c7941c6e857d67a",
       "value": "Ship size"
      }
     },
     "8fd144b023b54c92ad81da275a6bb0f1": {
      "model_module": "@jupyter-widgets/base",
      "model_module_version": "1.0.0",
      "model_name": "LayoutModel",
      "state": {}
     },
     "8feaa20214314b0e8ab86a62fa180e89": {
      "model_module": "@jupyter-widgets/controls",
      "model_module_version": "1.2.0",
      "model_name": "ButtonModel",
      "state": {
       "layout": "IPY_MODEL_3f71f81b8f7747939c03e358cd4a7a17",
       "style": "IPY_MODEL_fdd73a93225844ce94f47f4a447c7c07"
      }
     },
     "8fec03142c904f3995b6049e85d919d0": {
      "model_module": "@jupyter-widgets/controls",
      "model_module_version": "1.2.0",
      "model_name": "SliderStyleModel",
      "state": {
       "description_width": ""
      }
     },
     "900c64d6aa87406ea1b5c302abb54148": {
      "model_module": "@jupyter-widgets/controls",
      "model_module_version": "1.2.0",
      "model_name": "DescriptionStyleModel",
      "state": {
       "description_width": ""
      }
     },
     "9012aec664724ba4922e498b1690e2c2": {
      "model_module": "@jupyter-widgets/base",
      "model_module_version": "1.0.0",
      "model_name": "LayoutModel",
      "state": {
       "grid_template": "'\n    auto / auto auto auto auto\n    "
      }
     },
     "9027482073b849e8b0f8982b73f274e6": {
      "model_module": "@jupyter-widgets/controls",
      "model_module_version": "1.2.0",
      "model_name": "ButtonModel",
      "state": {
       "layout": "IPY_MODEL_a0e22ef5a1134a18b8992c7e7045c52c",
       "style": "IPY_MODEL_08570b0555d44050af2962e5727282c4"
      }
     },
     "9027d6b32e2c425d84e7042ac34826fd": {
      "model_module": "@jupyter-widgets/controls",
      "model_module_version": "1.2.0",
      "model_name": "ButtonModel",
      "state": {
       "layout": "IPY_MODEL_f5b417d7e1df4155948ccc11e2f1e644",
       "style": "IPY_MODEL_be5e0fb283264f1685a91858c9174871"
      }
     },
     "902cca25cac64f019a1cc6c1b15abb39": {
      "model_module": "@jupyter-widgets/controls",
      "model_module_version": "1.2.0",
      "model_name": "ButtonStyleModel",
      "state": {
       "button_color": "green"
      }
     },
     "90355514fc034c7e82ad9be010c88365": {
      "model_module": "@jupyter-widgets/controls",
      "model_module_version": "1.2.0",
      "model_name": "DescriptionStyleModel",
      "state": {
       "description_width": ""
      }
     },
     "9093562e09844a90b33ca6f962c50a9b": {
      "model_module": "@jupyter-widgets/controls",
      "model_module_version": "1.2.0",
      "model_name": "ButtonModel",
      "state": {
       "layout": "IPY_MODEL_df9e2e0507484692b334d2df271d390d",
       "style": "IPY_MODEL_27328e10140545d98fc5b2cae3aa5fc4"
      }
     },
     "90a702ff0fea49f08dd0d6e43b78a2da": {
      "model_module": "@jupyter-widgets/controls",
      "model_module_version": "1.2.0",
      "model_name": "ButtonModel",
      "state": {
       "layout": "IPY_MODEL_8a3f1796ee91466f82c262c79d2684b1",
       "style": "IPY_MODEL_329272f43e0f4c388a07997989034b82"
      }
     },
     "90b65de1096d456199c80f3e78f3dcfa": {
      "model_module": "@jupyter-widgets/controls",
      "model_module_version": "1.2.0",
      "model_name": "ButtonModel",
      "state": {
       "layout": "IPY_MODEL_0b30705d137944dda81129e6265c8de7",
       "style": "IPY_MODEL_ba42bf01dfce4da78721f46164a451dd"
      }
     },
     "90e6ed8c30a54cab8cdc8ca7fb4a9974": {
      "model_module": "@jupyter-widgets/base",
      "model_module_version": "1.0.0",
      "model_name": "LayoutModel",
      "state": {
       "height": "auto",
       "margin": "0",
       "width": "auto"
      }
     },
     "9109e6169dde4c9094421faba01d347d": {
      "model_module": "@jupyter-widgets/controls",
      "model_module_version": "1.2.0",
      "model_name": "ButtonStyleModel",
      "state": {}
     },
     "9118e8a66e7f482b84009573f0183b16": {
      "model_module": "@jupyter-widgets/controls",
      "model_module_version": "1.2.0",
      "model_name": "ButtonStyleModel",
      "state": {
       "button_color": "blue"
      }
     },
     "912371ae372e40778dc558e5ba2cb34d": {
      "model_module": "@jupyter-widgets/controls",
      "model_module_version": "1.2.0",
      "model_name": "ButtonModel",
      "state": {
       "button_style": "warning",
       "description": "17",
       "layout": "IPY_MODEL_963f958a6a3049a3b012ec8484fb898f",
       "style": "IPY_MODEL_bade876d6c9a4bd593e0b4e8d79bec78"
      }
     },
     "9128f573912f4bbd9a3136753adf75fa": {
      "model_module": "@jupyter-widgets/controls",
      "model_module_version": "1.2.0",
      "model_name": "ButtonModel",
      "state": {
       "layout": "IPY_MODEL_d30a2ef172f74780ab392f33d5285740",
       "style": "IPY_MODEL_cc0a2ec9de604f8f91b02e885178e900"
      }
     },
     "9149e8bc0b3644008cfb653017b1e0bb": {
      "model_module": "@jupyter-widgets/controls",
      "model_module_version": "1.2.0",
      "model_name": "ButtonModel",
      "state": {
       "layout": "IPY_MODEL_3d81651a297740e381ac147d7c10fcbe",
       "style": "IPY_MODEL_7f4dc8ac710b43f0989bafa1a2024c68"
      }
     },
     "914db5ca8a8847ecaca7acaec503d04e": {
      "model_module": "@jupyter-widgets/controls",
      "model_module_version": "1.2.0",
      "model_name": "ButtonModel",
      "state": {
       "layout": "IPY_MODEL_e4466a6f4f724f0695c817a3cef77d97",
       "style": "IPY_MODEL_e89b51b1fa3b42a59b7c8403083a6ad3"
      }
     },
     "91c6c3de4a0d483fb2e9b13cec6bc52b": {
      "model_module": "@jupyter-widgets/controls",
      "model_module_version": "1.2.0",
      "model_name": "ButtonStyleModel",
      "state": {}
     },
     "91daf867fab8448abea50105651ef7af": {
      "model_module": "@jupyter-widgets/controls",
      "model_module_version": "1.2.0",
      "model_name": "ButtonModel",
      "state": {
       "button_style": "danger",
       "description": "weight=1; 0%",
       "layout": "IPY_MODEL_1bfff04b76ae4bb792ea6cc180c64c3a",
       "style": "IPY_MODEL_3aef37fe7ec645ceb46f5ad6ed6c05bf"
      }
     },
     "92054b7b62e04217a4bf7a743220df07": {
      "model_module": "@jupyter-widgets/base",
      "model_module_version": "1.0.0",
      "model_name": "LayoutModel",
      "state": {
       "flex": "3 1 0%",
       "width": "auto"
      }
     },
     "920556d4df6c4e338a22a072c16692a2": {
      "model_module": "@jupyter-widgets/controls",
      "model_module_version": "1.2.0",
      "model_name": "ButtonModel",
      "state": {
       "button_style": "danger",
       "description": "correct",
       "layout": "IPY_MODEL_8a7e4bc6abe848128c923435e7f6d56f",
       "style": "IPY_MODEL_edac28d17a084f2dbe1c96736e24ea93"
      }
     },
     "920aac169f0d4fdf9bef1df0e5422c2b": {
      "model_module": "@jupyter-widgets/controls",
      "model_module_version": "1.2.0",
      "model_name": "ButtonStyleModel",
      "state": {}
     },
     "9212968c17e5404a93ec874ce88a10a1": {
      "model_module": "@jupyter-widgets/controls",
      "model_module_version": "1.2.0",
      "model_name": "ButtonStyleModel",
      "state": {}
     },
     "921b8d6e6d2748fd88ee84199262c58b": {
      "model_module": "@jupyter-widgets/controls",
      "model_module_version": "1.2.0",
      "model_name": "ButtonModel",
      "state": {
       "layout": "IPY_MODEL_e4466a6f4f724f0695c817a3cef77d97",
       "style": "IPY_MODEL_86c2621f87844d12a3116e3a9cf40c27"
      }
     },
     "922d16fc45584909a7df35c381cd41f5": {
      "model_module": "@jupyter-widgets/controls",
      "model_module_version": "1.2.0",
      "model_name": "ButtonModel",
      "state": {
       "layout": "IPY_MODEL_1a6b0a9053e2452ca410e9de3b4fef7d",
       "style": "IPY_MODEL_ff1f28c26ce54ffba3cec0d3f20fb62d"
      }
     },
     "923a48bb52604bbda108c664b65d0915": {
      "model_module": "@jupyter-widgets/controls",
      "model_module_version": "1.2.0",
      "model_name": "ButtonModel",
      "state": {
       "layout": "IPY_MODEL_5d59611818f04939b9f922f1aec556f0",
       "style": "IPY_MODEL_a3104c61af4941a494cedc95df3a2f7d"
      }
     },
     "92422e36a91d4b6997179ed51307d685": {
      "model_module": "@jupyter-widgets/controls",
      "model_module_version": "1.2.0",
      "model_name": "DescriptionStyleModel",
      "state": {
       "description_width": ""
      }
     },
     "92444a4319754f6988fa4e49dea67834": {
      "model_module": "@jupyter-widgets/controls",
      "model_module_version": "1.2.0",
      "model_name": "ButtonModel",
      "state": {
       "button_style": "warning",
       "description": "23",
       "layout": "IPY_MODEL_a810a994ec8c404f8136c2e39def56aa",
       "style": "IPY_MODEL_8cd3764533f540d58445d443332e87b5"
      }
     },
     "924eadcc246c4019924373f888d55323": {
      "model_module": "@jupyter-widgets/controls",
      "model_module_version": "1.2.0",
      "model_name": "ButtonStyleModel",
      "state": {}
     },
     "9254c9a567544980987bf2231199d147": {
      "model_module": "@jupyter-widgets/controls",
      "model_module_version": "1.2.0",
      "model_name": "ButtonModel",
      "state": {
       "layout": "IPY_MODEL_7ca1e3714f72479787810f810dfc721d",
       "style": "IPY_MODEL_3d7f2330b0da4d2eb677f8fda54836a5"
      }
     },
     "9278540162814008b17d561016c5594e": {
      "model_module": "@jupyter-widgets/controls",
      "model_module_version": "1.2.0",
      "model_name": "ButtonModel",
      "state": {
       "layout": "IPY_MODEL_6bd722c41e304346afe3933e436f547c",
       "style": "IPY_MODEL_839400e7db0442089379aebc9b9c1272"
      }
     },
     "92978bd92b514d5d9be370c17356a025": {
      "model_module": "@jupyter-widgets/controls",
      "model_module_version": "1.2.0",
      "model_name": "ButtonStyleModel",
      "state": {}
     },
     "9317d80cff394508bca0618416248579": {
      "model_module": "@jupyter-widgets/controls",
      "model_module_version": "1.2.0",
      "model_name": "BoxModel",
      "state": {
       "children": [
        "IPY_MODEL_342373b2a26d4299981f1e6b8be28ad0",
        "IPY_MODEL_ae38c25a242a4e4b8c9ced3de3c54113"
       ],
       "layout": "IPY_MODEL_7ff7d1de92da4cc68956d6d8aa1d002a"
      }
     },
     "931cea5bf70b4d7ba58c1e270e33ab9c": {
      "model_module": "@jupyter-widgets/controls",
      "model_module_version": "1.2.0",
      "model_name": "ButtonStyleModel",
      "state": {}
     },
     "93356aaaef8b4b6fb200e9b8847ecb5a": {
      "model_module": "@jupyter-widgets/controls",
      "model_module_version": "1.2.0",
      "model_name": "ButtonModel",
      "state": {
       "layout": "IPY_MODEL_f6a7edbf0ac641d6a4fb0bf46e7533f0",
       "style": "IPY_MODEL_b214892db92341cf9c857219824a3777"
      }
     },
     "93506b8248b54c51ad3a13d214086f2b": {
      "model_module": "@jupyter-widgets/controls",
      "model_module_version": "1.2.0",
      "model_name": "HBoxModel",
      "state": {
       "children": [
        "IPY_MODEL_e1b57bee8bad40379863682cd8031c84",
        "IPY_MODEL_9ed487d84b0c425e9c604968d92b48dd"
       ],
       "layout": "IPY_MODEL_aeb3d0d9b528464eada0a0749794e094"
      }
     },
     "93517441c69349acbeed56efc3c65088": {
      "model_module": "@jupyter-widgets/controls",
      "model_module_version": "1.2.0",
      "model_name": "SliderStyleModel",
      "state": {
       "description_width": ""
      }
     },
     "935a386dce78450b8000bab524fe485b": {
      "model_module": "@jupyter-widgets/controls",
      "model_module_version": "1.2.0",
      "model_name": "ButtonModel",
      "state": {
       "layout": "IPY_MODEL_ab4f1d5f0c594bbc9c04549f977b9f0f",
       "style": "IPY_MODEL_a4daddfcab9148f2a0723ed1cf8a1091"
      }
     },
     "93734aa8af344c4096e07bf392f9ce51": {
      "model_module": "@jupyter-widgets/controls",
      "model_module_version": "1.2.0",
      "model_name": "ButtonStyleModel",
      "state": {}
     },
     "938da67af246421ea1d3ff62d6aa0da8": {
      "model_module": "@jupyter-widgets/controls",
      "model_module_version": "1.2.0",
      "model_name": "ButtonModel",
      "state": {
       "layout": "IPY_MODEL_1a6b0a9053e2452ca410e9de3b4fef7d",
       "style": "IPY_MODEL_85ff54fb4dbc49ce904418c329c39fb5"
      }
     },
     "9395a3cf87454e9a8e241577a8268a54": {
      "model_module": "@jupyter-widgets/controls",
      "model_module_version": "1.2.0",
      "model_name": "ButtonStyleModel",
      "state": {}
     },
     "93c3b28f114345b0bd3faf7b605bbce3": {
      "model_module": "@jupyter-widgets/controls",
      "model_module_version": "1.2.0",
      "model_name": "ButtonModel",
      "state": {
       "layout": "IPY_MODEL_2e502d5a102f4844971576e7c918f23b",
       "style": "IPY_MODEL_5835d99d78444391900bdde94dad816d"
      }
     },
     "93c601c0104e4a80b599e176116bffa0": {
      "model_module": "@jupyter-widgets/controls",
      "model_module_version": "1.2.0",
      "model_name": "ButtonStyleModel",
      "state": {}
     },
     "93c8738bf9624e6ebbfee24ab6bfb325": {
      "model_module": "@jupyter-widgets/controls",
      "model_module_version": "1.2.0",
      "model_name": "ButtonModel",
      "state": {
       "layout": "IPY_MODEL_93cf562e131e4a7eacb682fd13e54be7",
       "style": "IPY_MODEL_ce0a59191b6243ccbdcc333c9a05d24f"
      }
     },
     "93cf562e131e4a7eacb682fd13e54be7": {
      "model_module": "@jupyter-widgets/base",
      "model_module_version": "1.0.0",
      "model_name": "LayoutModel",
      "state": {
       "height": "60px",
       "width": "auto"
      }
     },
     "93e23fef246846cc96e5266b3b120883": {
      "model_module": "@jupyter-widgets/controls",
      "model_module_version": "1.2.0",
      "model_name": "ButtonStyleModel",
      "state": {}
     },
     "93e2a0c0c570489d988599f48632d7b3": {
      "model_module": "@jupyter-widgets/controls",
      "model_module_version": "1.2.0",
      "model_name": "ButtonModel",
      "state": {
       "layout": "IPY_MODEL_cd00ac948481485281a97b3b91a79e4e",
       "style": "IPY_MODEL_920aac169f0d4fdf9bef1df0e5422c2b"
      }
     },
     "93f88ead02ce4e4bbf5611fc697f861b": {
      "model_module": "@jupyter-widgets/controls",
      "model_module_version": "1.2.0",
      "model_name": "ButtonModel",
      "state": {
       "button_style": "warning",
       "description": "21",
       "layout": "IPY_MODEL_a810a994ec8c404f8136c2e39def56aa",
       "style": "IPY_MODEL_da878f2edaa3420c9aa3579ce394fdd8"
      }
     },
     "93fdd6bc8dda4109b2e92b388752839f": {
      "model_module": "@jupyter-widgets/base",
      "model_module_version": "1.0.0",
      "model_name": "LayoutModel",
      "state": {}
     },
     "94364bd9fa8041e48f3bd1c8fbdcacfa": {
      "model_module": "@jupyter-widgets/base",
      "model_module_version": "1.0.0",
      "model_name": "LayoutModel",
      "state": {}
     },
     "945406fe34c84fd7a2c09124df168cec": {
      "model_module": "@jupyter-widgets/controls",
      "model_module_version": "1.2.0",
      "model_name": "ButtonStyleModel",
      "state": {}
     },
     "945700b142eb46c78ae4cfc23f65ceec": {
      "model_module": "@jupyter-widgets/controls",
      "model_module_version": "1.2.0",
      "model_name": "ButtonModel",
      "state": {
       "layout": "IPY_MODEL_01ae67175dea44bfa21ca0cbc48be329",
       "style": "IPY_MODEL_f30fc93e9b134b17ada927c4e08725f9"
      }
     },
     "9472a9672e03404d9189c0b111132469": {
      "model_module": "@jupyter-widgets/base",
      "model_module_version": "1.0.0",
      "model_name": "LayoutModel",
      "state": {
       "grid_template": "auto / auto auto auto auto auto"
      }
     },
     "94868313b3524bee8e02d4fc11c600e7": {
      "model_module": "@jupyter-widgets/base",
      "model_module_version": "1.0.0",
      "model_name": "LayoutModel",
      "state": {}
     },
     "94a139b9b83d49708336bb7cff31f5ef": {
      "model_module": "@jupyter-widgets/controls",
      "model_module_version": "1.2.0",
      "model_name": "ButtonModel",
      "state": {
       "layout": "IPY_MODEL_1c81b91358154c19ab0e8986a32d5733",
       "style": "IPY_MODEL_5435088ba7a54f118025de5bc236ea42"
      }
     },
     "94eb99732d3b41cca21059dd81bfef83": {
      "model_module": "@jupyter-widgets/controls",
      "model_module_version": "1.2.0",
      "model_name": "ButtonModel",
      "state": {
       "layout": "IPY_MODEL_6f78c389a2aa442f9564842959c99ad1",
       "style": "IPY_MODEL_c8a900dda78444929e3e3cbf5ea12ca1"
      }
     },
     "94f276be01d8469b84484402110554ca": {
      "model_module": "@jupyter-widgets/controls",
      "model_module_version": "1.2.0",
      "model_name": "GridBoxModel",
      "state": {
       "children": [
        "IPY_MODEL_503d9b2f2ebb45f5afe7b0282af17075",
        "IPY_MODEL_21fcf9f6cdfd45dfaf4d2bebed91b972",
        "IPY_MODEL_8f5370fa83e14c8192a3fd9fa20e27b4",
        "IPY_MODEL_6ab8cd979a764df6b98b3f77961f6cea",
        "IPY_MODEL_67135ad991e7461e8ae8f85a11c52361",
        "IPY_MODEL_7a6b44f0bd014114a99c8d438662dbef",
        "IPY_MODEL_c869e4913ab64918bc9c343c37750ccb",
        "IPY_MODEL_2ec3799c40564d5c8dd8780fc5c7661f"
       ],
       "layout": "IPY_MODEL_82acdfe7579549568b0bd13e1584c131"
      }
     },
     "953a0e23e7bc400983cfa3ec9b984dc1": {
      "model_module": "@jupyter-widgets/controls",
      "model_module_version": "1.2.0",
      "model_name": "ButtonModel",
      "state": {
       "layout": "IPY_MODEL_71edbc4e034840e2a9927c2487c68700",
       "style": "IPY_MODEL_c4b54d610dae46ffa4b77f06bd036c65"
      }
     },
     "95584f92ea1e4efca51a52a58bfbca9c": {
      "model_module": "@jupyter-widgets/controls",
      "model_module_version": "1.2.0",
      "model_name": "ButtonStyleModel",
      "state": {}
     },
     "959dad73242442c29291fa0abae6b63b": {
      "model_module": "@jupyter-widgets/controls",
      "model_module_version": "1.2.0",
      "model_name": "ButtonModel",
      "state": {
       "button_style": "warning",
       "description": "1",
       "layout": "IPY_MODEL_79e6f20409fa4963aff904a921b6d604",
       "style": "IPY_MODEL_107b063f8415402bac4f9a13e52eaa98"
      }
     },
     "95ba00773e5a4564b58a2d4c4eb57379": {
      "model_module": "@jupyter-widgets/controls",
      "model_module_version": "1.2.0",
      "model_name": "ButtonModel",
      "state": {
       "layout": "IPY_MODEL_1a6b0a9053e2452ca410e9de3b4fef7d",
       "style": "IPY_MODEL_0973bc2c47884cdaa0108d647ae70eae"
      }
     },
     "95bf76ee083041449f8eba5d24ac3d2e": {
      "model_module": "@jupyter-widgets/controls",
      "model_module_version": "1.2.0",
      "model_name": "ButtonModel",
      "state": {
       "button_style": "warning",
       "description": "16",
       "layout": "IPY_MODEL_e20ec9c5c01e485bbfa90160b80eb8f4",
       "style": "IPY_MODEL_8a246928f6be4458ba150212f86b869f"
      }
     },
     "95ccca5418e643a3b6fd3bafe7fe6b87": {
      "model_module": "@jupyter-widgets/controls",
      "model_module_version": "1.2.0",
      "model_name": "ButtonModel",
      "state": {
       "layout": "IPY_MODEL_a5aafc5fec484d77a39f715c3d1a1587",
       "style": "IPY_MODEL_af0804c471604cd88fc9dcc9a761168f"
      }
     },
     "95d38e56f8dc4b068d63b572cf06fff7": {
      "model_module": "@jupyter-widgets/controls",
      "model_module_version": "1.2.0",
      "model_name": "ButtonModel",
      "state": {
       "button_style": "warning",
       "description": "29",
       "layout": "IPY_MODEL_e20ec9c5c01e485bbfa90160b80eb8f4",
       "style": "IPY_MODEL_19376e95f34447a8a769483f02813236"
      }
     },
     "95dc599c3d7749a18abd612310087e7c": {
      "model_module": "@jupyter-widgets/controls",
      "model_module_version": "1.2.0",
      "model_name": "ButtonStyleModel",
      "state": {}
     },
     "95de64b7dcc5412ea53e7689c7967a34": {
      "model_module": "@jupyter-widgets/controls",
      "model_module_version": "1.2.0",
      "model_name": "ButtonStyleModel",
      "state": {}
     },
     "95efebc771fa487aae1edaeb4c018b48": {
      "model_module": "@jupyter-widgets/controls",
      "model_module_version": "1.2.0",
      "model_name": "ButtonModel",
      "state": {
       "layout": "IPY_MODEL_e9e51dc7db2e4dae8f6b58239515ec62",
       "style": "IPY_MODEL_ca878348b33348eeab640f383b789740"
      }
     },
     "9610ae5ac30b4c01ac3038bc901b2605": {
      "model_module": "@jupyter-widgets/controls",
      "model_module_version": "1.2.0",
      "model_name": "ButtonStyleModel",
      "state": {}
     },
     "963f958a6a3049a3b012ec8484fb898f": {
      "model_module": "@jupyter-widgets/base",
      "model_module_version": "1.0.0",
      "model_name": "LayoutModel",
      "state": {
       "height": "100px",
       "min_width": "40px"
      }
     },
     "965780de3269401ba572d7e6ced0a417": {
      "model_module": "@jupyter-widgets/controls",
      "model_module_version": "1.2.0",
      "model_name": "ButtonStyleModel",
      "state": {}
     },
     "967541ec25814b528934c8222f85448e": {
      "model_module": "@jupyter-widgets/controls",
      "model_module_version": "1.2.0",
      "model_name": "ButtonStyleModel",
      "state": {}
     },
     "96906a7aff3d424dad0ad1b4d8c3cdf0": {
      "model_module": "@jupyter-widgets/base",
      "model_module_version": "1.0.0",
      "model_name": "LayoutModel",
      "state": {}
     },
     "9695b76cc863463ebd4af52944296e74": {
      "model_module": "@jupyter-widgets/base",
      "model_module_version": "1.0.0",
      "model_name": "LayoutModel",
      "state": {
       "height": "auto",
       "width": "auto"
      }
     },
     "96b2394d0db44259a6427078373762fb": {
      "model_module": "@jupyter-widgets/controls",
      "model_module_version": "1.2.0",
      "model_name": "ButtonStyleModel",
      "state": {}
     },
     "96c9cd3783e742439ea68a42d1c9fb89": {
      "model_module": "@jupyter-widgets/controls",
      "model_module_version": "1.2.0",
      "model_name": "ButtonModel",
      "state": {
       "layout": "IPY_MODEL_0644b7b8372048b8bdbd9a2fb6cbe839",
       "style": "IPY_MODEL_22d68066b4964df58ee9ce69e38506ba"
      }
     },
     "96d5b54cafb14975922f15b7a475ef29": {
      "model_module": "@jupyter-widgets/controls",
      "model_module_version": "1.2.0",
      "model_name": "ButtonStyleModel",
      "state": {}
     },
     "96fa459f02eb402a9585ffa5bdd2fa00": {
      "model_module": "@jupyter-widgets/controls",
      "model_module_version": "1.2.0",
      "model_name": "ButtonModel",
      "state": {
       "layout": "IPY_MODEL_90e6ed8c30a54cab8cdc8ca7fb4a9974",
       "style": "IPY_MODEL_ccbfe2e288b3467ab844560b05e1f691"
      }
     },
     "973625043a144ba0ba2ed9ad0fc333ab": {
      "model_module": "@jupyter-widgets/controls",
      "model_module_version": "1.2.0",
      "model_name": "ButtonModel",
      "state": {
       "button_style": "warning",
       "description": "4",
       "layout": "IPY_MODEL_a810a994ec8c404f8136c2e39def56aa",
       "style": "IPY_MODEL_15b9b038bb014eaa9ac53a87646bf2e3"
      }
     },
     "97525bbcbcd8447d9bf17eaebefa433d": {
      "model_module": "@jupyter-widgets/controls",
      "model_module_version": "1.2.0",
      "model_name": "ButtonStyleModel",
      "state": {}
     },
     "976f4089175f4418ad58d8b049330d1a": {
      "model_module": "@jupyter-widgets/base",
      "model_module_version": "1.0.0",
      "model_name": "LayoutModel",
      "state": {
       "grid_area": "header",
       "width": "auto"
      }
     },
     "97b7a4389a414ee2811f68ded34e8a58": {
      "model_module": "@jupyter-widgets/controls",
      "model_module_version": "1.2.0",
      "model_name": "ButtonModel",
      "state": {
       "layout": "IPY_MODEL_d9d52397cd8c4c10b7db3ba3c2ebd41e",
       "style": "IPY_MODEL_88272af385e74f018a86413a06bb2d00"
      }
     },
     "97d99b127b96437d848064f55860146b": {
      "model_module": "@jupyter-widgets/base",
      "model_module_version": "1.0.0",
      "model_name": "LayoutModel",
      "state": {}
     },
     "97f59d9afbe840f3a0be0c37d5e84ae8": {
      "model_module": "@jupyter-widgets/base",
      "model_module_version": "1.0.0",
      "model_name": "LayoutModel",
      "state": {
       "height": "60px",
       "width": "auto"
      }
     },
     "98036d5c78a14059927bc6e1280274ca": {
      "model_module": "@jupyter-widgets/controls",
      "model_module_version": "1.2.0",
      "model_name": "ButtonModel",
      "state": {
       "button_style": "warning",
       "description": "12",
       "layout": "IPY_MODEL_a810a994ec8c404f8136c2e39def56aa",
       "style": "IPY_MODEL_0eb923843eaa4ed88bd14ccb12e04dd8"
      }
     },
     "980cf7af97914743b6e3b85ada5d8fab": {
      "model_module": "@jupyter-widgets/controls",
      "model_module_version": "1.2.0",
      "model_name": "ButtonStyleModel",
      "state": {}
     },
     "9810a042b60740f997ceb92f35b70514": {
      "model_module": "@jupyter-widgets/controls",
      "model_module_version": "1.2.0",
      "model_name": "ButtonModel",
      "state": {
       "layout": "IPY_MODEL_b28ce45f6ebf4851aed606899fb18059",
       "style": "IPY_MODEL_efb2108c0a574478b3aedb8894e50701"
      }
     },
     "9818d86cde4c49c7be3d9889632bee51": {
      "model_module": "@jupyter-widgets/controls",
      "model_module_version": "1.2.0",
      "model_name": "ButtonModel",
      "state": {
       "layout": "IPY_MODEL_bfea69d00b7047ae9fc2c9c9406858ad",
       "style": "IPY_MODEL_30bc507cbc7842ac8f74286412690c15"
      }
     },
     "982ba2f02793408396d8971797d75892": {
      "model_module": "@jupyter-widgets/controls",
      "model_module_version": "1.2.0",
      "model_name": "ButtonModel",
      "state": {
       "layout": "IPY_MODEL_df9e2e0507484692b334d2df271d390d",
       "style": "IPY_MODEL_57dbb99895504be9a5f182b7da48dc5f"
      }
     },
     "9859b0ab522347019e427189bcc8d689": {
      "model_module": "@jupyter-widgets/controls",
      "model_module_version": "1.2.0",
      "model_name": "ButtonStyleModel",
      "state": {}
     },
     "98638cb2dc034eb8ab9e687a626426b1": {
      "model_module": "@jupyter-widgets/controls",
      "model_module_version": "1.2.0",
      "model_name": "ButtonStyleModel",
      "state": {}
     },
     "986dbeb4fc3e44629a3e60b7c3913085": {
      "model_module": "@jupyter-widgets/controls",
      "model_module_version": "1.2.0",
      "model_name": "ButtonStyleModel",
      "state": {}
     },
     "987ef8c2e47c4a87b0e9fc1a826288e3": {
      "model_module": "@jupyter-widgets/controls",
      "model_module_version": "1.2.0",
      "model_name": "ButtonModel",
      "state": {
       "description": "correct",
       "layout": "IPY_MODEL_08d24c7819a148b6adedb7bebccebd99",
       "style": "IPY_MODEL_114cd8c950814177958e608c551ff405"
      }
     },
     "989016197b0645bc95929f04d84a81dd": {
      "model_module": "@jupyter-widgets/controls",
      "model_module_version": "1.2.0",
      "model_name": "ButtonStyleModel",
      "state": {}
     },
     "98c962d92ac548068c976560adc8ff4c": {
      "model_module": "@jupyter-widgets/controls",
      "model_module_version": "1.2.0",
      "model_name": "ButtonModel",
      "state": {
       "layout": "IPY_MODEL_97f59d9afbe840f3a0be0c37d5e84ae8",
       "style": "IPY_MODEL_4bbffed757e34d98b461b8bc0f1d23c4"
      }
     },
     "98e3491b77d44962bf62ac15aab4c527": {
      "model_module": "@jupyter-widgets/controls",
      "model_module_version": "1.2.0",
      "model_name": "ButtonStyleModel",
      "state": {}
     },
     "98f84d59002f46c3973eafdf7b668c56": {
      "model_module": "@jupyter-widgets/base",
      "model_module_version": "1.0.0",
      "model_name": "LayoutModel",
      "state": {
       "flex": "1 1 0%",
       "width": "auto"
      }
     },
     "98fcdf5d6ebb44328b5cb42cb22aa4cd": {
      "model_module": "@jupyter-widgets/controls",
      "model_module_version": "1.2.0",
      "model_name": "ButtonModel",
      "state": {
       "layout": "IPY_MODEL_0c2e31f2329545469188df7a31084f08",
       "style": "IPY_MODEL_577f20f1c45b48689d2a36df593e89aa"
      }
     },
     "98fd2d9b3c8c4d7fa92349fa79efe12f": {
      "model_module": "@jupyter-widgets/controls",
      "model_module_version": "1.2.0",
      "model_name": "ButtonStyleModel",
      "state": {}
     },
     "9926d26f76e548e484ac02daeaeb8bca": {
      "model_module": "@jupyter-widgets/controls",
      "model_module_version": "1.2.0",
      "model_name": "ButtonStyleModel",
      "state": {}
     },
     "999684df59614e8a87eaeb6b17984942": {
      "model_module": "@jupyter-widgets/controls",
      "model_module_version": "1.2.0",
      "model_name": "ButtonStyleModel",
      "state": {}
     },
     "999f7795db104c6d8e5f3dcd8bedcefc": {
      "model_module": "@jupyter-widgets/controls",
      "model_module_version": "1.2.0",
      "model_name": "IntSliderModel",
      "state": {
       "description": "A too long description",
       "layout": "IPY_MODEL_5e2e2a4f57b64ba4981cfd237ffa0edb",
       "style": "IPY_MODEL_685743a4a19b42999b5ffdd7ca77356f"
      }
     },
     "99b1126dffa246b5a95588e29ca1a148": {
      "model_module": "@jupyter-widgets/controls",
      "model_module_version": "1.2.0",
      "model_name": "GridBoxModel",
      "state": {
       "children": [
        "IPY_MODEL_b9c54081169a4becbf6c1403a47de0e8",
        "IPY_MODEL_2deec5acc56740cd8b87f6a89f64668a",
        "IPY_MODEL_15641e84c39e45bc875dc01d589a9086",
        "IPY_MODEL_d533bbb405714cfd993a69e8dfd68c75",
        "IPY_MODEL_b700543ff08e4bb3a5ab96b0edb447ff",
        "IPY_MODEL_4347665f635a41cc9a3d1c1f611bfab1",
        "IPY_MODEL_20f31065ace34fa4abeb1b4db9a71072",
        "IPY_MODEL_9d911873ba944302bf258dce0bd97fcb",
        "IPY_MODEL_f0b0edc9db244c608c1a254ee7afa23b",
        "IPY_MODEL_cdc05c7a473a4c6384b3ae4faafcf1cd"
       ],
       "layout": "IPY_MODEL_38a09713326c4989a24113e860812a0f"
      }
     },
     "99b9a9bb7c004ac6aa9145be465b48cb": {
      "model_module": "@jupyter-widgets/controls",
      "model_module_version": "1.2.0",
      "model_name": "ButtonModel",
      "state": {
       "layout": "IPY_MODEL_6f40ca184b52431fb129559993d708e0",
       "style": "IPY_MODEL_e9ab615766dc44c1a85205d8860b565c"
      }
     },
     "99c70077104442fa99e103a9d3969ec0": {
      "model_module": "@jupyter-widgets/base",
      "model_module_version": "1.0.0",
      "model_name": "LayoutModel",
      "state": {
       "grid_area": "main",
       "width": "auto"
      }
     },
     "99cd1f225f4c4ae29b579df0bf1240c0": {
      "model_module": "@jupyter-widgets/controls",
      "model_module_version": "1.2.0",
      "model_name": "ButtonModel",
      "state": {
       "button_style": "warning",
       "description": "7",
       "layout": "IPY_MODEL_963f958a6a3049a3b012ec8484fb898f",
       "style": "IPY_MODEL_7b699fa2ee2549158ef3e55d1445786a"
      }
     },
     "9a2b79e5dead480f8d80d8ce3362866c": {
      "model_module": "@jupyter-widgets/controls",
      "model_module_version": "1.2.0",
      "model_name": "LabelModel",
      "state": {
       "layout": "IPY_MODEL_2ac31349c293482ea4bcc22021d897ad",
       "style": "IPY_MODEL_900c64d6aa87406ea1b5c302abb54148",
       "value": "\\(e=mc^2\\)"
      }
     },
     "9a2da46bfc4848c19d7a0204b0635f4d": {
      "model_module": "@jupyter-widgets/controls",
      "model_module_version": "1.2.0",
      "model_name": "ButtonModel",
      "state": {
       "layout": "IPY_MODEL_13e0059cd680446a8dbed4b733138cf5",
       "style": "IPY_MODEL_62970e40a51d4456bef4bf5ba64f5b65"
      }
     },
     "9a5bfd31f11548d6af73683d0b8fcf4f": {
      "model_module": "@jupyter-widgets/base",
      "model_module_version": "1.0.0",
      "model_name": "LayoutModel",
      "state": {}
     },
     "9a5ca9ba99a74067839ff444d5e51b15": {
      "model_module": "@jupyter-widgets/controls",
      "model_module_version": "1.2.0",
      "model_name": "DescriptionStyleModel",
      "state": {
       "description_width": ""
      }
     },
     "9a5dd1d002044e47bf3d09d4dd300968": {
      "model_module": "@jupyter-widgets/controls",
      "model_module_version": "1.2.0",
      "model_name": "ButtonModel",
      "state": {
       "button_style": "warning",
       "description": "28",
       "layout": "IPY_MODEL_79e6f20409fa4963aff904a921b6d604",
       "style": "IPY_MODEL_51796c2f3f3442339d2b29c27d1fe10e"
      }
     },
     "9a715b685a394ea08e59f412f82f056a": {
      "model_module": "@jupyter-widgets/controls",
      "model_module_version": "1.2.0",
      "model_name": "ButtonModel",
      "state": {
       "layout": "IPY_MODEL_8c7d17fa9b6a48b7832b66d2d78dfc94",
       "style": "IPY_MODEL_712b29d871554ed1880845f28bf9226e"
      }
     },
     "9aa5194711a44bf1aa3ace7b7f128c29": {
      "model_module": "@jupyter-widgets/controls",
      "model_module_version": "1.2.0",
      "model_name": "LabelModel",
      "state": {
       "layout": "IPY_MODEL_af1bf59615cd4483bb9b45d5abf77a34",
       "style": "IPY_MODEL_c21ca6494f8a46a3845bee02ac83b9f7",
       "value": "Scroll horizontally:"
      }
     },
     "9ad0e9460cf94ed4a804d7f3c8041c58": {
      "model_module": "@jupyter-widgets/controls",
      "model_module_version": "1.2.0",
      "model_name": "ButtonModel",
      "state": {
       "button_style": "danger",
       "description": "weight=3; auto",
       "layout": "IPY_MODEL_eb9517bf3bb742178cc79747a3407a10",
       "style": "IPY_MODEL_95dc599c3d7749a18abd612310087e7c"
      }
     },
     "9ad6bb2de73742d581d86d28626258ba": {
      "model_module": "@jupyter-widgets/base",
      "model_module_version": "1.0.0",
      "model_name": "LayoutModel",
      "state": {
       "grid_template": "auto / auto auto auto auto auto"
      }
     },
     "9af644e3dac24d2b826bf19197c5aea6": {
      "model_module": "@jupyter-widgets/controls",
      "model_module_version": "1.2.0",
      "model_name": "ButtonModel",
      "state": {
       "button_style": "danger",
       "description": "weight=1; 0%",
       "layout": "IPY_MODEL_f498e270572c48ee87420bf1839ac7eb",
       "style": "IPY_MODEL_d376444350f842b8aa6ce684677f8254"
      }
     },
     "9aff1b30a77a4ddab3484e5f140a4ff1": {
      "model_module": "@jupyter-widgets/controls",
      "model_module_version": "1.2.0",
      "model_name": "GridBoxModel",
      "state": {
       "children": [
        "IPY_MODEL_37aae45ef12943ebbf117df29b8ddb24",
        "IPY_MODEL_39f0989a40864ff9abf3b9ffe4822a9c",
        "IPY_MODEL_21fb480c58224a74a94de12dfcdc5f93",
        "IPY_MODEL_ff72050de9ce4c21b2f1805fa139e09e"
       ],
       "layout": "IPY_MODEL_d60f7a81954d407fa19501467eaa46cf"
      }
     },
     "9b0827965fdf449db4ee54e67dbe71ef": {
      "model_module": "@jupyter-widgets/controls",
      "model_module_version": "1.2.0",
      "model_name": "ButtonModel",
      "state": {
       "button_style": "warning",
       "description": "18",
       "layout": "IPY_MODEL_16df380d38fb47a2bbb217b953037b65",
       "style": "IPY_MODEL_0c983000e9d4432da22ec338797e8043"
      }
     },
     "9b1632c4b88f4fbb8b35c26ae300c03e": {
      "model_module": "@jupyter-widgets/controls",
      "model_module_version": "1.2.0",
      "model_name": "ButtonStyleModel",
      "state": {}
     },
     "9b20456122f74f97a527c04d748acccd": {
      "model_module": "@jupyter-widgets/controls",
      "model_module_version": "1.2.0",
      "model_name": "ButtonModel",
      "state": {
       "layout": "IPY_MODEL_dddc482ee42c496ab9986f5ee610bb9f",
       "style": "IPY_MODEL_b7fa459955c948709b99acdb2ad6e81b"
      }
     },
     "9b27f50e6ed6490db69d011c0aaf91d1": {
      "model_module": "@jupyter-widgets/controls",
      "model_module_version": "1.2.0",
      "model_name": "ButtonStyleModel",
      "state": {
       "button_color": "moccasin"
      }
     },
     "9b29716445574b7e8f9870794c23cfef": {
      "model_module": "@jupyter-widgets/controls",
      "model_module_version": "1.2.0",
      "model_name": "ButtonStyleModel",
      "state": {}
     },
     "9b300607fb144fe7a0117de2fec396aa": {
      "model_module": "@jupyter-widgets/base",
      "model_module_version": "1.0.0",
      "model_name": "LayoutModel",
      "state": {
       "grid_area": "header",
       "width": "auto"
      }
     },
     "9b7e36ea183046ca976e370b320e2c83": {
      "model_module": "@jupyter-widgets/controls",
      "model_module_version": "1.2.0",
      "model_name": "SliderStyleModel",
      "state": {
       "description_width": ""
      }
     },
     "9ba424e74ce746a18cfe330c4d98fe0e": {
      "model_module": "@jupyter-widgets/base",
      "model_module_version": "1.0.0",
      "model_name": "LayoutModel",
      "state": {
       "grid_area": "footer",
       "width": "auto"
      }
     },
     "9be841bdb88047c9954479366d3d6937": {
      "model_module": "@jupyter-widgets/controls",
      "model_module_version": "1.2.0",
      "model_name": "ButtonModel",
      "state": {
       "button_style": "danger",
       "description": "weight=1; 0%",
       "layout": "IPY_MODEL_3e122bb83c444d0c851679c9883e51bc",
       "style": "IPY_MODEL_f5c3d3c4ba5e43dca1d6ebc46ac4062c"
      }
     },
     "9beadebc64124a1293564ccff7d3afdc": {
      "model_module": "@jupyter-widgets/controls",
      "model_module_version": "1.2.0",
      "model_name": "ButtonModel",
      "state": {
       "layout": "IPY_MODEL_a997cf87cb444be1a8febdf657c22511",
       "style": "IPY_MODEL_3b53611a5faf4a06b86e774b5b9fd408"
      }
     },
     "9c06c10d031a4b8e80ce2f132feb2c39": {
      "model_module": "@jupyter-widgets/controls",
      "model_module_version": "1.2.0",
      "model_name": "ButtonModel",
      "state": {
       "description": "main",
       "layout": "IPY_MODEL_5c2db70932a54945a414abd023eff856",
       "style": "IPY_MODEL_65037a72ea3e4bb098c42d9a239fa90e"
      }
     },
     "9c0de5612ced4cad88af674179232db4": {
      "model_module": "@jupyter-widgets/controls",
      "model_module_version": "1.2.0",
      "model_name": "ButtonModel",
      "state": {
       "layout": "IPY_MODEL_8a3f1796ee91466f82c262c79d2684b1",
       "style": "IPY_MODEL_329272f43e0f4c388a07997989034b82"
      }
     },
     "9c191087a8094020841d3d98fa61e32a": {
      "model_module": "@jupyter-widgets/controls",
      "model_module_version": "1.2.0",
      "model_name": "ButtonStyleModel",
      "state": {}
     },
     "9c32ec512a2c44cd9f57fac2a3aca9a1": {
      "model_module": "@jupyter-widgets/base",
      "model_module_version": "1.0.0",
      "model_name": "LayoutModel",
      "state": {
       "width": "auto"
      }
     },
     "9c34b9938dc34c2bbc9ac2d2cf2eeaf8": {
      "model_module": "@jupyter-widgets/controls",
      "model_module_version": "1.2.0",
      "model_name": "ButtonModel",
      "state": {
       "layout": "IPY_MODEL_93cf562e131e4a7eacb682fd13e54be7",
       "style": "IPY_MODEL_10a40198a3e64609951c638e6dc22a26"
      }
     },
     "9c68d9336df247afa0aa355082952c78": {
      "model_module": "@jupyter-widgets/base",
      "model_module_version": "1.0.0",
      "model_name": "LayoutModel",
      "state": {}
     },
     "9c711ec0f8fd4576a7af3be4765243b9": {
      "model_module": "@jupyter-widgets/controls",
      "model_module_version": "1.2.0",
      "model_name": "SliderStyleModel",
      "state": {
       "description_width": ""
      }
     },
     "9cb6728c6c5e4416864127d7cc3e75fa": {
      "model_module": "@jupyter-widgets/controls",
      "model_module_version": "1.2.0",
      "model_name": "ButtonModel",
      "state": {
       "layout": "IPY_MODEL_ab4f1d5f0c594bbc9c04549f977b9f0f",
       "style": "IPY_MODEL_9ff4e28abcc54086b5956f4665c53a99"
      }
     },
     "9cb94b943e52445f93fba4c4dee627e3": {
      "model_module": "@jupyter-widgets/base",
      "model_module_version": "1.0.0",
      "model_name": "LayoutModel",
      "state": {
       "align_items": "stretch",
       "border": "solid",
       "display": "flex",
       "flex_flow": "column",
       "width": "50%"
      }
     },
     "9cd27c50b6924598adf09b2c9f30c788": {
      "model_module": "@jupyter-widgets/base",
      "model_module_version": "1.0.0",
      "model_name": "LayoutModel",
      "state": {
       "grid_gap": "10px 2px",
       "grid_template": "50px 100px / 25% 10% auto 200px"
      }
     },
     "9ce1e3198b374d32885ef5071d0e35ef": {
      "model_module": "@jupyter-widgets/base",
      "model_module_version": "1.0.0",
      "model_name": "LayoutModel",
      "state": {}
     },
     "9ced759d935e43f1a15b8ccaa1bff549": {
      "model_module": "@jupyter-widgets/controls",
      "model_module_version": "1.2.0",
      "model_name": "ButtonStyleModel",
      "state": {
       "button_color": "darkseagreen"
      }
     },
     "9cf521b4896847dd947a4fde830ce75e": {
      "model_module": "@jupyter-widgets/controls",
      "model_module_version": "1.2.0",
      "model_name": "ButtonModel",
      "state": {
       "layout": "IPY_MODEL_2e502d5a102f4844971576e7c918f23b",
       "style": "IPY_MODEL_5835d99d78444391900bdde94dad816d"
      }
     },
     "9d22f3c96417453f90c2a86f9d4c11e7": {
      "model_module": "@jupyter-widgets/controls",
      "model_module_version": "1.2.0",
      "model_name": "ButtonStyleModel",
      "state": {
       "button_color": "#77A"
      }
     },
     "9d291edade8f48b2805d02c8dca35265": {
      "model_module": "@jupyter-widgets/controls",
      "model_module_version": "1.2.0",
      "model_name": "DescriptionStyleModel",
      "state": {
       "description_width": ""
      }
     },
     "9d41f04acd8d45c0a86586cc343c06c3": {
      "model_module": "@jupyter-widgets/controls",
      "model_module_version": "1.2.0",
      "model_name": "ButtonModel",
      "state": {
       "button_style": "warning",
       "description": "5",
       "layout": "IPY_MODEL_a810a994ec8c404f8136c2e39def56aa",
       "style": "IPY_MODEL_4f2fd907fadf4bc1bec4f32041b8fc05"
      }
     },
     "9d4c8498e0ad4ae5aee853d82b057db5": {
      "model_module": "@jupyter-widgets/controls",
      "model_module_version": "1.2.0",
      "model_name": "ButtonStyleModel",
      "state": {
       "button_color": "#77A"
      }
     },
     "9d7c7fce24c74b3cb2dfde1660bb0f95": {
      "model_module": "@jupyter-widgets/controls",
      "model_module_version": "1.2.0",
      "model_name": "ButtonModel",
      "state": {
       "layout": "IPY_MODEL_e4466a6f4f724f0695c817a3cef77d97",
       "style": "IPY_MODEL_48172c48f65644aca7ba342ed3305068"
      }
     },
     "9d86c44cee43471491a440c955773e2f": {
      "model_module": "@jupyter-widgets/controls",
      "model_module_version": "1.2.0",
      "model_name": "ButtonStyleModel",
      "state": {
       "button_color": "#77A"
      }
     },
     "9d911873ba944302bf258dce0bd97fcb": {
      "model_module": "@jupyter-widgets/controls",
      "model_module_version": "1.2.0",
      "model_name": "ButtonModel",
      "state": {
       "layout": "IPY_MODEL_49f81b3585ff412698273f2404121602",
       "style": "IPY_MODEL_8800b80cffda439d949298a760eeb41f"
      }
     },
     "9d9b126055ac47559f8b4d126d8c8535": {
      "model_module": "@jupyter-widgets/controls",
      "model_module_version": "1.2.0",
      "model_name": "ButtonStyleModel",
      "state": {}
     },
     "9da9900b46584124ae307a81eff3d6c6": {
      "model_module": "@jupyter-widgets/controls",
      "model_module_version": "1.2.0",
      "model_name": "ButtonModel",
      "state": {
       "layout": "IPY_MODEL_6f78c389a2aa442f9564842959c99ad1",
       "style": "IPY_MODEL_c8a900dda78444929e3e3cbf5ea12ca1"
      }
     },
     "9dda47445de14d8aa0336a704fc1bf20": {
      "model_module": "@jupyter-widgets/controls",
      "model_module_version": "1.2.0",
      "model_name": "ButtonModel",
      "state": {
       "button_style": "warning",
       "description": "4",
       "layout": "IPY_MODEL_79e6f20409fa4963aff904a921b6d604",
       "style": "IPY_MODEL_caf2fc3a17a741f09c6639b27dbfa877"
      }
     },
     "9dff25bea65448b6befec3e3c1ab73e9": {
      "model_module": "@jupyter-widgets/controls",
      "model_module_version": "1.2.0",
      "model_name": "ButtonModel",
      "state": {
       "layout": "IPY_MODEL_9facc02d9ff24777a95d45d2ead5062f",
       "style": "IPY_MODEL_3ee4366d6bb14085a2d8ccc5a9e57cf3"
      }
     },
     "9e02294e34fc43d080cd13f6b409ea28": {
      "model_module": "@jupyter-widgets/controls",
      "model_module_version": "1.2.0",
      "model_name": "ButtonStyleModel",
      "state": {}
     },
     "9e072322bd3c40dcbafd78b967cdbf47": {
      "model_module": "@jupyter-widgets/controls",
      "model_module_version": "1.2.0",
      "model_name": "GridBoxModel",
      "state": {
       "children": [
        "IPY_MODEL_d157227f90314eb285ccfc4de6319399",
        "IPY_MODEL_1cebee2e443e41e88b56c7d05a2cf48b",
        "IPY_MODEL_87f4ad9aa273415099d672963f5a3e9c",
        "IPY_MODEL_483be317b5f64580af1f1634f1c7ee39",
        "IPY_MODEL_9254c9a567544980987bf2231199d147",
        "IPY_MODEL_33f9d21bea31463a8118f640a908cc0d",
        "IPY_MODEL_e927d721d6b14c1b8e4ca6e4a11786b8",
        "IPY_MODEL_501a7a15c8e44907b542f0666f9047cc",
        "IPY_MODEL_d847372e643b44c284e2f38580d7a3b8"
       ],
       "layout": "IPY_MODEL_ae9907f674564634946ed17f0d2064b7"
      }
     },
     "9e38653c2b50422db40feefe0a4ec0e7": {
      "model_module": "@jupyter-widgets/controls",
      "model_module_version": "1.2.0",
      "model_name": "ButtonModel",
      "state": {
       "description": "header",
       "layout": "IPY_MODEL_317563768be84f52b2c5155e37aa3b2c",
       "style": "IPY_MODEL_a9aea455a32741e1ac9c7404cc548cb8"
      }
     },
     "9e4814d465534051af2b547f31f6ebc9": {
      "model_module": "@jupyter-widgets/controls",
      "model_module_version": "1.2.0",
      "model_name": "ButtonModel",
      "state": {
       "description": "Header",
       "layout": "IPY_MODEL_30f6adef42be4791aac717c640ba3ee8",
       "style": "IPY_MODEL_21b54d9ed30845fc85792c0d944b4a7d"
      }
     },
     "9e66f74353d8455aa748c50c5c86bfd1": {
      "model_module": "@jupyter-widgets/controls",
      "model_module_version": "1.2.0",
      "model_name": "BoxModel",
      "state": {
       "children": [
        "IPY_MODEL_77f11f33b54a4f759c838c431308e623",
        "IPY_MODEL_e43f55851208423fad14da3a8ece696e",
        "IPY_MODEL_686812bd18f4492ea356de1afa412427",
        "IPY_MODEL_0d30484229ed48cbb88ebea1bc8b188e"
       ],
       "layout": "IPY_MODEL_53d06b4d5ea044eab24ffa2973b27b46"
      }
     },
     "9e712de284b847da82e7394cfbd807f8": {
      "model_module": "@jupyter-widgets/base",
      "model_module_version": "1.0.0",
      "model_name": "LayoutModel",
      "state": {
       "grid_gap": "0px",
       "grid_template": "50px 100px / 25% 10% auto 200px"
      }
     },
     "9e764da24e55467dbbedb5415313c237": {
      "model_module": "@jupyter-widgets/controls",
      "model_module_version": "1.2.0",
      "model_name": "ButtonStyleModel",
      "state": {}
     },
     "9e780f2e6b5840b9953a4aeb59a2b445": {
      "model_module": "@jupyter-widgets/base",
      "model_module_version": "1.0.0",
      "model_name": "LayoutModel",
      "state": {
       "height": "auto",
       "width": "auto"
      }
     },
     "9e9b8f3034f44e6bbcb5df925e1b75a9": {
      "model_module": "@jupyter-widgets/controls",
      "model_module_version": "1.2.0",
      "model_name": "DescriptionStyleModel",
      "state": {
       "description_width": ""
      }
     },
     "9ea1edfa4aa849228ee336c763f128d3": {
      "model_module": "@jupyter-widgets/controls",
      "model_module_version": "1.2.0",
      "model_name": "ButtonStyleModel",
      "state": {}
     },
     "9ec7390103c546618c23e95667ecf3a5": {
      "model_module": "@jupyter-widgets/controls",
      "model_module_version": "1.2.0",
      "model_name": "ButtonStyleModel",
      "state": {}
     },
     "9eca27cb2ea6405298d9bb28f8f80940": {
      "model_module": "@jupyter-widgets/controls",
      "model_module_version": "1.2.0",
      "model_name": "ButtonModel",
      "state": {
       "layout": "IPY_MODEL_bca42cda5863431094ba3b2b4642113f",
       "style": "IPY_MODEL_6b10f5ad7fc4492bac67cd166332ed92"
      }
     },
     "9ed487d84b0c425e9c604968d92b48dd": {
      "model_module": "@jupyter-widgets/controls",
      "model_module_version": "1.2.0",
      "model_name": "IntSliderModel",
      "state": {
       "layout": "IPY_MODEL_faccbee1da38413c92767b5077c0e821",
       "style": "IPY_MODEL_e4305bdf8c48431da816ab102005c67b"
      }
     },
     "9eddcbf429854b36ae508b89b63e27a8": {
      "model_module": "@jupyter-widgets/controls",
      "model_module_version": "1.2.0",
      "model_name": "DescriptionStyleModel",
      "state": {
       "description_width": ""
      }
     },
     "9eff936520cd40198d037bf10eb37530": {
      "model_module": "@jupyter-widgets/controls",
      "model_module_version": "1.2.0",
      "model_name": "ButtonModel",
      "state": {
       "layout": "IPY_MODEL_3ee33ef73484447eacd6651d43b68f93",
       "style": "IPY_MODEL_a9531aadceb94f4db3c7a4695ef70ce3"
      }
     },
     "9f2d442970974af58dc5bc5f1cc12d1d": {
      "model_module": "@jupyter-widgets/controls",
      "model_module_version": "1.2.0",
      "model_name": "DropdownModel",
      "state": {
       "_options_labels": [
        "Scrambled",
        "Sunny side up",
        "Over easy"
       ],
       "index": 0,
       "layout": "IPY_MODEL_7cbe554444f44531afa647fe24af2c8d",
       "style": "IPY_MODEL_5a9394d210304da68e6bcf9ef5d94ed5"
      }
     },
     "9f404c9c951f486280399c73b82b2eaa": {
      "model_module": "@jupyter-widgets/base",
      "model_module_version": "1.0.0",
      "model_name": "LayoutModel",
      "state": {
       "width": "auto"
      }
     },
     "9f7b02f14b4a420c8cfb89ee9e24196b": {
      "model_module": "@jupyter-widgets/controls",
      "model_module_version": "1.2.0",
      "model_name": "GridBoxModel",
      "state": {
       "children": [
        "IPY_MODEL_64c00059b0a84dd0b8442fb0d559f5bd",
        "IPY_MODEL_95ccca5418e643a3b6fd3bafe7fe6b87",
        "IPY_MODEL_ab9ec3d9b5414e25b4745f244127a9d0",
        "IPY_MODEL_d3e6fdf88f864be8b30ad43f0f5de85f",
        "IPY_MODEL_a06307e1dc45457a8408fc949fdd2e33",
        "IPY_MODEL_4b1d0f6e787d4467a671a9582d3aa058",
        "IPY_MODEL_65b2496dd6934ef58b0b6404942acb8c",
        "IPY_MODEL_31e01176e583476eb7fac0ff43878a0b",
        "IPY_MODEL_4e18a05275f746ce8aac88e5e4a459d9",
        "IPY_MODEL_4cdcc5581254463382f1a02765d63c87"
       ],
       "layout": "IPY_MODEL_2558a5a5046941b2884cb8035ea23581"
      }
     },
     "9f8e6fc0394240adb3ce249c4fbfc907": {
      "model_module": "@jupyter-widgets/controls",
      "model_module_version": "1.2.0",
      "model_name": "ButtonStyleModel",
      "state": {}
     },
     "9f969f0ba6724d7a9c8ac087b44d5cbc": {
      "model_module": "@jupyter-widgets/base",
      "model_module_version": "1.0.0",
      "model_name": "LayoutModel",
      "state": {}
     },
     "9facc02d9ff24777a95d45d2ead5062f": {
      "model_module": "@jupyter-widgets/base",
      "model_module_version": "1.0.0",
      "model_name": "LayoutModel",
      "state": {
       "height": "auto",
       "width": "auto"
      }
     },
     "9fb081bed51345d0a2608c177bd9bf49": {
      "model_module": "@jupyter-widgets/base",
      "model_module_version": "1.0.0",
      "model_name": "LayoutModel",
      "state": {}
     },
     "9fb6e8f5e0664af98e0163a519f24cab": {
      "model_module": "@jupyter-widgets/controls",
      "model_module_version": "1.2.0",
      "model_name": "ButtonModel",
      "state": {
       "layout": "IPY_MODEL_1c52d9de214f4c79ab5cdf32c18c7cac",
       "style": "IPY_MODEL_6cfbbc0529d64f389efdc822028c053b"
      }
     },
     "9fc3fdcaecde46fc866433abac7b0ca4": {
      "model_module": "@jupyter-widgets/controls",
      "model_module_version": "1.2.0",
      "model_name": "ButtonModel",
      "state": {
       "button_style": "warning",
       "description": "34",
       "layout": "IPY_MODEL_d2db15f9d1834946bd4923f3faf2a54f",
       "style": "IPY_MODEL_42259cc083544505b498db3b7c1c2ba2"
      }
     },
     "9fcac7057f544c608d38e82d29e32c05": {
      "model_module": "@jupyter-widgets/controls",
      "model_module_version": "1.2.0",
      "model_name": "ButtonStyleModel",
      "state": {}
     },
     "9fcc2ce900dd4b30acee501473d646a7": {
      "model_module": "@jupyter-widgets/controls",
      "model_module_version": "1.2.0",
      "model_name": "ButtonStyleModel",
      "state": {}
     },
     "9fd77377b2eb4a389b6dc8aa3ab882f0": {
      "model_module": "@jupyter-widgets/controls",
      "model_module_version": "1.2.0",
      "model_name": "ButtonModel",
      "state": {
       "layout": "IPY_MODEL_e523029279594318bc243374b596d3db",
       "style": "IPY_MODEL_6dcf1389cc784db0bee083d6ce11652c"
      }
     },
     "9fefdba03c574d63998ba30dc30490f1": {
      "model_module": "@jupyter-widgets/controls",
      "model_module_version": "1.2.0",
      "model_name": "DescriptionStyleModel",
      "state": {
       "description_width": ""
      }
     },
     "9ff4e28abcc54086b5956f4665c53a99": {
      "model_module": "@jupyter-widgets/controls",
      "model_module_version": "1.2.0",
      "model_name": "ButtonStyleModel",
      "state": {}
     },
     "a0049c33290d413bb6f7f09434642b00": {
      "model_module": "@jupyter-widgets/base",
      "model_module_version": "1.0.0",
      "model_name": "LayoutModel",
      "state": {
       "grid_template": "auto / auto auto auto auto auto"
      }
     },
     "a04b520ab9db4902a16849defc888565": {
      "model_module": "@jupyter-widgets/controls",
      "model_module_version": "1.2.0",
      "model_name": "IntSliderModel",
      "state": {
       "description": "Blue handle",
       "layout": "IPY_MODEL_f6cf24aaa9e74104a7389c9d87c1bb36",
       "style": "IPY_MODEL_fd8bb2f7714146578434243a89bd2ff2"
      }
     },
     "a05144dd016e47b78bae8c6933f523c2": {
      "model_module": "@jupyter-widgets/controls",
      "model_module_version": "1.2.0",
      "model_name": "GridBoxModel",
      "state": {
       "children": [
        "IPY_MODEL_adddd212367a4809ad91d96c5c9ba10b",
        "IPY_MODEL_c39d3a10e1884c89a9894e1052b2ec79",
        "IPY_MODEL_0eba417b71724b9b8e118f6ecb9beb2e",
        "IPY_MODEL_7b4184ffe4104dada5c59503720b01f8"
       ],
       "layout": "IPY_MODEL_d3453f05c9004c9da6fad8ff3e7ba7fd"
      }
     },
     "a0535a0e9b5a4691926cd7309acb4e67": {
      "model_module": "@jupyter-widgets/controls",
      "model_module_version": "1.2.0",
      "model_name": "SliderStyleModel",
      "state": {
       "description_width": ""
      }
     },
     "a06307e1dc45457a8408fc949fdd2e33": {
      "model_module": "@jupyter-widgets/controls",
      "model_module_version": "1.2.0",
      "model_name": "ButtonModel",
      "state": {
       "layout": "IPY_MODEL_a5aafc5fec484d77a39f715c3d1a1587",
       "style": "IPY_MODEL_d1d0d6458d9d431492b4d59b0db3ec78"
      }
     },
     "a08ccc454a044ba395141e9d781b64b6": {
      "model_module": "@jupyter-widgets/controls",
      "model_module_version": "1.2.0",
      "model_name": "ButtonStyleModel",
      "state": {}
     },
     "a08dce36d2564d3389b87c104ff3bb08": {
      "model_module": "@jupyter-widgets/controls",
      "model_module_version": "1.2.0",
      "model_name": "ButtonModel",
      "state": {
       "button_style": "warning",
       "description": "20",
       "layout": "IPY_MODEL_963f958a6a3049a3b012ec8484fb898f",
       "style": "IPY_MODEL_d6963970cd664974a29b58dacdb07e54"
      }
     },
     "a0901dbbb2b241659bb5759f9d0d1fc3": {
      "model_module": "@jupyter-widgets/controls",
      "model_module_version": "1.2.0",
      "model_name": "ButtonModel",
      "state": {
       "layout": "IPY_MODEL_a0e22ef5a1134a18b8992c7e7045c52c",
       "style": "IPY_MODEL_a895caad300147bebab139b00cf83af9"
      }
     },
     "a098bdd092bf42e7b227716a77633dad": {
      "model_module": "@jupyter-widgets/controls",
      "model_module_version": "1.2.0",
      "model_name": "ButtonModel",
      "state": {
       "button_style": "warning",
       "description": "29",
       "layout": "IPY_MODEL_79e6f20409fa4963aff904a921b6d604",
       "style": "IPY_MODEL_6fffa7d9f77d4e55b3c0c19dacb23c53"
      }
     },
     "a0c3ed548c36450489d9da0387a3de22": {
      "model_module": "@jupyter-widgets/base",
      "model_module_version": "1.0.0",
      "model_name": "LayoutModel",
      "state": {}
     },
     "a0ce9bf17d124664aab7cea84b97df9d": {
      "model_module": "@jupyter-widgets/controls",
      "model_module_version": "1.2.0",
      "model_name": "ButtonModel",
      "state": {
       "layout": "IPY_MODEL_0644b7b8372048b8bdbd9a2fb6cbe839",
       "style": "IPY_MODEL_22d68066b4964df58ee9ce69e38506ba"
      }
     },
     "a0dfa1137ba64e8c9bf72f86a162a446": {
      "model_module": "@jupyter-widgets/base",
      "model_module_version": "1.0.0",
      "model_name": "LayoutModel",
      "state": {}
     },
     "a0e22ef5a1134a18b8992c7e7045c52c": {
      "model_module": "@jupyter-widgets/base",
      "model_module_version": "1.0.0",
      "model_name": "LayoutModel",
      "state": {}
     },
     "a0e4e7520c1849108b4f6c8e730e7ca3": {
      "model_module": "@jupyter-widgets/controls",
      "model_module_version": "1.2.0",
      "model_name": "VBoxModel",
      "state": {
       "children": [
        "IPY_MODEL_b2513389b57c4bd9b829ba73f8eed759",
        "IPY_MODEL_08ab0ade0a624745b89113881639f8c7"
       ],
       "layout": "IPY_MODEL_36096767d8734fdab824b2159047216f"
      }
     },
     "a1106e79d40446a1a91e50ba2607e09a": {
      "model_module": "@jupyter-widgets/controls",
      "model_module_version": "1.2.0",
      "model_name": "ButtonModel",
      "state": {
       "button_style": "warning",
       "description": "12",
       "layout": "IPY_MODEL_79e6f20409fa4963aff904a921b6d604",
       "style": "IPY_MODEL_98638cb2dc034eb8ab9e687a626426b1"
      }
     },
     "a130f8e55e0a4da08d75ca616934ca05": {
      "model_module": "@jupyter-widgets/controls",
      "model_module_version": "1.2.0",
      "model_name": "ButtonModel",
      "state": {
       "layout": "IPY_MODEL_5f1b672573d041c5afcb5ae37b40afe9",
       "style": "IPY_MODEL_70915e3bb8214cc38125732f857f0715"
      }
     },
     "a15aed34f9394d69ae7f1c6ea5e18aaf": {
      "model_module": "@jupyter-widgets/controls",
      "model_module_version": "1.2.0",
      "model_name": "GridBoxModel",
      "state": {
       "children": [
        "IPY_MODEL_61a02fd9374a46398eb4bd38b9111f6f",
        "IPY_MODEL_29e59c379e97452f85f5ee360b14bf5a",
        "IPY_MODEL_bcd5247cf7f0430f90e23f95c9704c42",
        "IPY_MODEL_1dcd9db9589f4b3fb39044aad77394ae",
        "IPY_MODEL_c52629849a9046a785d160c78c6e72ee",
        "IPY_MODEL_4e3cb3fd481e486eb5377c40b31eb75f",
        "IPY_MODEL_c1da64b1c7c748d7b14f4039b19e93f3",
        "IPY_MODEL_44d19bf89c494830b0987d03a008f686",
        "IPY_MODEL_277fa7a2bff94f928168ac180072d187",
        "IPY_MODEL_18620655e6f84b5e9ad81378898da26d"
       ],
       "layout": "IPY_MODEL_71582f31edd6480fb4eb4ad5de6933f1"
      }
     },
     "a169ace4e847440a9dcfeaa957bdce80": {
      "model_module": "@jupyter-widgets/controls",
      "model_module_version": "1.2.0",
      "model_name": "ButtonStyleModel",
      "state": {}
     },
     "a17fe074481742d0ba793d412ad4f6b8": {
      "model_module": "@jupyter-widgets/controls",
      "model_module_version": "1.2.0",
      "model_name": "GridBoxModel",
      "state": {
       "children": [
        "IPY_MODEL_bf402f56ee604bdda7e2ab8006518a65",
        "IPY_MODEL_03901890bc43469596d47aceda60d23d",
        "IPY_MODEL_18ba69e71901468f897a4cf5fc9192a9",
        "IPY_MODEL_404b28aa93c043419b2e018017be3b6e",
        "IPY_MODEL_9128f573912f4bbd9a3136753adf75fa",
        "IPY_MODEL_93356aaaef8b4b6fb200e9b8847ecb5a",
        "IPY_MODEL_a130f8e55e0a4da08d75ca616934ca05",
        "IPY_MODEL_df99ea7b5d14476b8106a219e37c3523",
        "IPY_MODEL_5f5ab4ceded847c384adb094358034e7"
       ],
       "layout": "IPY_MODEL_1f569a90c673470b824e1687a8474a6c"
      }
     },
     "a18348772a4e4d75b4a88ac9032d14e9": {
      "model_module": "@jupyter-widgets/controls",
      "model_module_version": "1.2.0",
      "model_name": "ButtonModel",
      "state": {
       "layout": "IPY_MODEL_2dbf7836189c43ceacedac172f168e48",
       "style": "IPY_MODEL_1c333f95c2504843b4fa59f702ae7f34"
      }
     },
     "a198195f3a4a49598a014d29a987f706": {
      "model_module": "@jupyter-widgets/controls",
      "model_module_version": "1.2.0",
      "model_name": "ButtonModel",
      "state": {
       "layout": "IPY_MODEL_2e502d5a102f4844971576e7c918f23b",
       "style": "IPY_MODEL_5835d99d78444391900bdde94dad816d"
      }
     },
     "a1d596b139f54679bab5b343f4e0838b": {
      "model_module": "@jupyter-widgets/controls",
      "model_module_version": "1.2.0",
      "model_name": "ButtonModel",
      "state": {
       "description": "Sidebar",
       "layout": "IPY_MODEL_3304f9ad2ee048a7ad9632bbb70a8938",
       "style": "IPY_MODEL_68a055e20ff24a6a87734da3e02cff3a"
      }
     },
     "a1e27b784c7f4bedbf7ecd40530a3e26": {
      "model_module": "@jupyter-widgets/controls",
      "model_module_version": "1.2.0",
      "model_name": "ButtonModel",
      "state": {
       "layout": "IPY_MODEL_af2aef9b5b0d4daa8e74e47e31ee0437",
       "style": "IPY_MODEL_9d86c44cee43471491a440c955773e2f"
      }
     },
     "a1e77d842ad04c0f8a9b8717864ee135": {
      "model_module": "@jupyter-widgets/controls",
      "model_module_version": "1.2.0",
      "model_name": "ButtonModel",
      "state": {
       "description": "Main",
       "layout": "IPY_MODEL_99c70077104442fa99e103a9d3969ec0",
       "style": "IPY_MODEL_9b27f50e6ed6490db69d011c0aaf91d1"
      }
     },
     "a20c1c3d1790456a92efe8d5df55ccfc": {
      "model_module": "@jupyter-widgets/controls",
      "model_module_version": "1.2.0",
      "model_name": "ButtonModel",
      "state": {
       "layout": "IPY_MODEL_104c1bfded49449794e8408e206b484c",
       "style": "IPY_MODEL_9fcac7057f544c608d38e82d29e32c05"
      }
     },
     "a2215c06ff59492eb59e01dae5f2dff7": {
      "model_module": "@jupyter-widgets/controls",
      "model_module_version": "1.2.0",
      "model_name": "ButtonStyleModel",
      "state": {
       "button_color": "blue"
      }
     },
     "a2258103f0aa428b8c242534774ca56b": {
      "model_module": "@jupyter-widgets/controls",
      "model_module_version": "1.2.0",
      "model_name": "ButtonStyleModel",
      "state": {}
     },
     "a22ec6c1428d4a56af8d71051b02ab02": {
      "model_module": "@jupyter-widgets/controls",
      "model_module_version": "1.2.0",
      "model_name": "ButtonModel",
      "state": {
       "layout": "IPY_MODEL_ab4f1d5f0c594bbc9c04549f977b9f0f",
       "style": "IPY_MODEL_58346f20a2c04c49a17074c235816d23"
      }
     },
     "a2341fa72f8e41c9a23dae22ed4a7a49": {
      "model_module": "@jupyter-widgets/base",
      "model_module_version": "1.0.0",
      "model_name": "LayoutModel",
      "state": {
       "grid_gap": "3px 3px",
       "grid_template": "50px 100px / 25% 10% auto 200px"
      }
     },
     "a294359379d140c8aec16162208589d3": {
      "model_module": "@jupyter-widgets/controls",
      "model_module_version": "1.2.0",
      "model_name": "GridBoxModel",
      "state": {
       "children": [
        "IPY_MODEL_82ec96d6abdf4ba290cddfc6d4cf3f38",
        "IPY_MODEL_f9f0ccf47b1f4dd5b3e98faf95197d43",
        "IPY_MODEL_a88561f96fa2450f9c605483380d43bf",
        "IPY_MODEL_e50049438a0b4ebd9e3459f0458d9725",
        "IPY_MODEL_f6f8eb1e4e664d9cab44f3906d992646",
        "IPY_MODEL_816388f40d1c48189528d741dca9d7b4",
        "IPY_MODEL_240bbd2c9d8247fc8217016140cc4bdf",
        "IPY_MODEL_8feaa20214314b0e8ab86a62fa180e89"
       ],
       "layout": "IPY_MODEL_2fafefedf0da4dc0a140e7b3403eb305"
      }
     },
     "a29f75247e064d8eb6ff00893fda92d2": {
      "model_module": "@jupyter-widgets/controls",
      "model_module_version": "1.2.0",
      "model_name": "SliderStyleModel",
      "state": {
       "description_width": "initial"
      }
     },
     "a2aada4643654f6ba62c63571481a6ac": {
      "model_module": "@jupyter-widgets/controls",
      "model_module_version": "1.2.0",
      "model_name": "DescriptionStyleModel",
      "state": {
       "description_width": ""
      }
     },
     "a301f0cb2e7944a3b2f76a588c3ffac4": {
      "model_module": "@jupyter-widgets/controls",
      "model_module_version": "1.2.0",
      "model_name": "ButtonModel",
      "state": {
       "layout": "IPY_MODEL_706d95b63d0144b6a672412f3a219036",
       "style": "IPY_MODEL_ae7467ace2d64986b182a88c7af8e88e"
      }
     },
     "a3090bb1c22d45f1b8bcd3957baffcee": {
      "model_module": "@jupyter-widgets/controls",
      "model_module_version": "1.2.0",
      "model_name": "ButtonStyleModel",
      "state": {}
     },
     "a3104c61af4941a494cedc95df3a2f7d": {
      "model_module": "@jupyter-widgets/controls",
      "model_module_version": "1.2.0",
      "model_name": "ButtonStyleModel",
      "state": {
       "button_color": "lightgreen"
      }
     },
     "a3297f28a706443a924ae0961e2d74a6": {
      "model_module": "@jupyter-widgets/base",
      "model_module_version": "1.0.0",
      "model_name": "LayoutModel",
      "state": {
       "height": "auto",
       "width": "auto"
      }
     },
     "a33ee0ae4b614bb0a686e2c6a4bed656": {
      "model_module": "@jupyter-widgets/controls",
      "model_module_version": "1.2.0",
      "model_name": "ButtonModel",
      "state": {
       "layout": "IPY_MODEL_4d53052a4a3c4ea08b4ae8a0f20ff0ac",
       "style": "IPY_MODEL_0c0ffc327da8491db3d03f3d1ac9a3d1"
      }
     },
     "a3519d5239d24ca1ac03a74e6b49a862": {
      "model_module": "@jupyter-widgets/controls",
      "model_module_version": "1.2.0",
      "model_name": "ButtonModel",
      "state": {
       "layout": "IPY_MODEL_0c0fc1e59b914515bc223e6c7d036b96",
       "style": "IPY_MODEL_7164a801c9254619b3d3b8e8c2d656e1"
      }
     },
     "a369dac4a3ef4cca88d6c51c06d14142": {
      "model_module": "@jupyter-widgets/base",
      "model_module_version": "1.0.0",
      "model_name": "LayoutModel",
      "state": {
       "grid_template": "auto / auto auto auto auto auto"
      }
     },
     "a3723ac651e146448f6f50d8077b5d61": {
      "model_module": "@jupyter-widgets/controls",
      "model_module_version": "1.2.0",
      "model_name": "ButtonStyleModel",
      "state": {}
     },
     "a3735539cff64129a6bac9e7dacbd3c0": {
      "model_module": "@jupyter-widgets/controls",
      "model_module_version": "1.2.0",
      "model_name": "ButtonStyleModel",
      "state": {}
     },
     "a3843512f4274f4f9a44f006d9bdcbf1": {
      "model_module": "@jupyter-widgets/controls",
      "model_module_version": "1.2.0",
      "model_name": "ButtonStyleModel",
      "state": {}
     },
     "a3cc13f2e84a44b79f544cc188a4126f": {
      "model_module": "@jupyter-widgets/controls",
      "model_module_version": "1.2.0",
      "model_name": "IntSliderModel",
      "state": {
       "layout": "IPY_MODEL_7b18ef8a7d814639a6fe559997f014c8",
       "max": 60,
       "min": 40,
       "style": "IPY_MODEL_a0535a0e9b5a4691926cd7309acb4e67",
       "value": 40
      }
     },
     "a3f4cf92613f4550af2e4c7116f95237": {
      "model_module": "@jupyter-widgets/controls",
      "model_module_version": "1.2.0",
      "model_name": "SliderStyleModel",
      "state": {
       "description_width": ""
      }
     },
     "a3f719a533a247ed8609f09df5311780": {
      "model_module": "@jupyter-widgets/base",
      "model_module_version": "1.0.0",
      "model_name": "LayoutModel",
      "state": {
       "height": "auto",
       "width": "auto"
      }
     },
     "a4007f71ffb941dea56ed22f43e795d0": {
      "model_module": "@jupyter-widgets/controls",
      "model_module_version": "1.2.0",
      "model_name": "HBoxModel",
      "state": {
       "children": [
        "IPY_MODEL_402912dd8a2a42a3a70eb3b94f8fb549",
        "IPY_MODEL_36968859894749dd9e9e6f5742198189"
       ],
       "layout": "IPY_MODEL_6e45b1d8665f406fa82696e7a6cac487"
      }
     },
     "a4168dcec95c4100b1a32df8eeebcae9": {
      "model_module": "@jupyter-widgets/controls",
      "model_module_version": "1.2.0",
      "model_name": "GridBoxModel",
      "state": {
       "children": [
        "IPY_MODEL_b3c38054f0b745149c9c53d3e2ce73a3",
        "IPY_MODEL_25e26a5141814e42b90db579dac93ff6",
        "IPY_MODEL_d60a6c9860a849ee83d0a63a67b46728",
        "IPY_MODEL_a47947ed231c440786c88a9fa8ab81f5",
        "IPY_MODEL_ab092309913547f884a09d22e06779a5",
        "IPY_MODEL_f5fdd002a7da4b4eb089112db853c912",
        "IPY_MODEL_580e32ff5e3640bb8e224cc4981fcfb2",
        "IPY_MODEL_85472917dac94f60bc4ae5f795ed2da9",
        "IPY_MODEL_54f86dba31c04256a267e185836ced48",
        "IPY_MODEL_59358dce142c43bebba34c84690c7303"
       ],
       "layout": "IPY_MODEL_5d867b3da4654914803f7485334563f7"
      }
     },
     "a41a00bef578435ab91d7f595eb3edc9": {
      "model_module": "@jupyter-widgets/controls",
      "model_module_version": "1.2.0",
      "model_name": "BoxModel",
      "state": {
       "children": [
        "IPY_MODEL_920556d4df6c4e338a22a072c16692a2",
        "IPY_MODEL_2c7315777cd34b58b2d44095650c56db",
        "IPY_MODEL_be0856cd18914ecd9c2df2e2c82e3b9b",
        "IPY_MODEL_31dcaf75b0d34d14a98a9a7fa6472876"
       ],
       "layout": "IPY_MODEL_c10490d77d264ce683a4ee405164a138"
      }
     },
     "a41eb3128c334307828b7385fc9efed5": {
      "model_module": "@jupyter-widgets/base",
      "model_module_version": "1.0.0",
      "model_name": "LayoutModel",
      "state": {
       "display": "flex",
       "flex_flow": "row",
       "justify_content": "space-between"
      }
     },
     "a41f74adfe1d4ed09e6f637aef612a9e": {
      "model_module": "@jupyter-widgets/controls",
      "model_module_version": "1.2.0",
      "model_name": "DescriptionStyleModel",
      "state": {
       "description_width": ""
      }
     },
     "a469512b8c4d4a32b52a4fcecbd2b1fe": {
      "model_module": "@jupyter-widgets/controls",
      "model_module_version": "1.2.0",
      "model_name": "GridBoxModel",
      "state": {
       "children": [
        "IPY_MODEL_a93e9544d4e1484391073a61b26f160e",
        "IPY_MODEL_3ab4fe3fa5264d81a33f69522d430311",
        "IPY_MODEL_a85986231d6e4ab6a3d2d1fe00588c9c",
        "IPY_MODEL_2f9120eeed0b40059c5b81319f3d1239",
        "IPY_MODEL_f9f5592f12a0463086201d7a52e8b72b",
        "IPY_MODEL_81ca6f0f19ee449f8d201f7f36e93224",
        "IPY_MODEL_7f78be1714914ca2b4d83d728e220412",
        "IPY_MODEL_53d26e5bebc343ccb642bfa205696668"
       ],
       "layout": "IPY_MODEL_d26fc0d846774850bc7d87cedf821973"
      }
     },
     "a47847b90099443cbf7414124423fbd0": {
      "model_module": "@jupyter-widgets/controls",
      "model_module_version": "1.2.0",
      "model_name": "ButtonStyleModel",
      "state": {
       "button_color": "blue"
      }
     },
     "a47947ed231c440786c88a9fa8ab81f5": {
      "model_module": "@jupyter-widgets/controls",
      "model_module_version": "1.2.0",
      "model_name": "ButtonModel",
      "state": {
       "layout": "IPY_MODEL_6b32441b4cc5435ba507948b252d60d8",
       "style": "IPY_MODEL_30a706dec3f64d89816d4106ce6cce65"
      }
     },
     "a47e1c813b084b98b51eff584c5a53b9": {
      "model_module": "@jupyter-widgets/controls",
      "model_module_version": "1.2.0",
      "model_name": "ButtonModel",
      "state": {
       "layout": "IPY_MODEL_af2aef9b5b0d4daa8e74e47e31ee0437",
       "style": "IPY_MODEL_9d86c44cee43471491a440c955773e2f"
      }
     },
     "a47f17e25450445ea76f7d9c93cf9f3b": {
      "model_module": "@jupyter-widgets/controls",
      "model_module_version": "1.2.0",
      "model_name": "ButtonModel",
      "state": {
       "layout": "IPY_MODEL_bfea69d00b7047ae9fc2c9c9406858ad",
       "style": "IPY_MODEL_4557ed1dae894147b8a121b3f983a9d7"
      }
     },
     "a48c8af0dc104e12a0d837519dcd48ae": {
      "model_module": "@jupyter-widgets/controls",
      "model_module_version": "1.2.0",
      "model_name": "ButtonStyleModel",
      "state": {}
     },
     "a48e869b141145daa475d1e4ed21c5aa": {
      "model_module": "@jupyter-widgets/controls",
      "model_module_version": "1.2.0",
      "model_name": "ButtonStyleModel",
      "state": {}
     },
     "a49ccee08f4b4bada5818da08fcd37f1": {
      "model_module": "@jupyter-widgets/controls",
      "model_module_version": "1.2.0",
      "model_name": "ButtonModel",
      "state": {
       "layout": "IPY_MODEL_bd032ec0085648d8b4bee7b4b2e75fe2",
       "style": "IPY_MODEL_60e170a7ce634ef9a5578b99cb742a11"
      }
     },
     "a4b3265e5db04824b898d6621d73f5ec": {
      "model_module": "@jupyter-widgets/controls",
      "model_module_version": "1.2.0",
      "model_name": "ButtonStyleModel",
      "state": {}
     },
     "a4daddfcab9148f2a0723ed1cf8a1091": {
      "model_module": "@jupyter-widgets/controls",
      "model_module_version": "1.2.0",
      "model_name": "ButtonStyleModel",
      "state": {}
     },
     "a4f3269b9a1e48d79b357d90cd13605b": {
      "model_module": "@jupyter-widgets/controls",
      "model_module_version": "1.2.0",
      "model_name": "ButtonStyleModel",
      "state": {}
     },
     "a4fbce107bb14464bd7b6b69cf6117f5": {
      "model_module": "@jupyter-widgets/base",
      "model_module_version": "1.0.0",
      "model_name": "LayoutModel",
      "state": {}
     },
     "a507adb6103d45a0a46d97f148ccd910": {
      "model_module": "@jupyter-widgets/controls",
      "model_module_version": "1.2.0",
      "model_name": "GridBoxModel",
      "state": {
       "children": [
        "IPY_MODEL_f9697f47d40042349adc98b937fba482",
        "IPY_MODEL_7d2f941921224d1db6e932ff7f0eb65d",
        "IPY_MODEL_bf4cb34ac9b7472da20c30d5b5962758",
        "IPY_MODEL_6b156acfc5bf4c41b0166c57c3a275dd",
        "IPY_MODEL_024fde54eafb433c8618907975c955db",
        "IPY_MODEL_f6cf8da4a8104d599adba528dd56efff",
        "IPY_MODEL_81b785a8c522421983831ec9f185c7b7",
        "IPY_MODEL_334743edb733421d95919537097595dc",
        "IPY_MODEL_cafb4af0a418450fbdf29abb8a4037bc",
        "IPY_MODEL_0fdef5837bd64089bd9514b2833a4312"
       ],
       "layout": "IPY_MODEL_7c347937cd1a47c6b8622f6ff8a38248"
      }
     },
     "a52e249d26be439cb233a66b197e022a": {
      "model_module": "@jupyter-widgets/controls",
      "model_module_version": "1.2.0",
      "model_name": "IntSliderModel",
      "state": {
       "description": "\\(\\int_0^t f\\)",
       "layout": "IPY_MODEL_801b614bb9484dc1b427a1c7aa0d0d2f",
       "style": "IPY_MODEL_a3f4cf92613f4550af2e4c7116f95237"
      }
     },
     "a5452f76affd40e29157d09254c19d60": {
      "model_module": "@jupyter-widgets/controls",
      "model_module_version": "1.2.0",
      "model_name": "ButtonStyleModel",
      "state": {}
     },
     "a5591ba770ba4a88ac6454fe671f6247": {
      "model_module": "@jupyter-widgets/controls",
      "model_module_version": "1.2.0",
      "model_name": "ButtonModel",
      "state": {
       "layout": "IPY_MODEL_09bbe1f1fc7b4c5cb813271d906a80af",
       "style": "IPY_MODEL_bd573b05722a48ef9182b7292aa14b0e"
      }
     },
     "a55f3e81a3594da994e081fbc480e8c8": {
      "model_module": "@jupyter-widgets/base",
      "model_module_version": "1.0.0",
      "model_name": "LayoutModel",
      "state": {}
     },
     "a5799007e7fc425d9ef8a842f8198e84": {
      "model_module": "@jupyter-widgets/controls",
      "model_module_version": "1.2.0",
      "model_name": "ButtonModel",
      "state": {
       "button_style": "warning",
       "description": "25",
       "layout": "IPY_MODEL_d2db15f9d1834946bd4923f3faf2a54f",
       "style": "IPY_MODEL_5fd7eecc07c54b04add1c308db477413"
      }
     },
     "a591cce11edf4a3f80a5a3b55c0345a0": {
      "model_module": "@jupyter-widgets/controls",
      "model_module_version": "1.2.0",
      "model_name": "ButtonStyleModel",
      "state": {
       "button_color": "blue"
      }
     },
     "a5aa6632ee0941a6b7fceba69dcb9eb3": {
      "model_module": "@jupyter-widgets/base",
      "model_module_version": "1.0.0",
      "model_name": "LayoutModel",
      "state": {}
     },
     "a5aafc5fec484d77a39f715c3d1a1587": {
      "model_module": "@jupyter-widgets/base",
      "model_module_version": "1.0.0",
      "model_name": "LayoutModel",
      "state": {}
     },
     "a5acbd885c944180ad02a212fde1fb2a": {
      "model_module": "@jupyter-widgets/controls",
      "model_module_version": "1.2.0",
      "model_name": "ButtonModel",
      "state": {
       "layout": "IPY_MODEL_33821dd28f834ae0b483c1651213364a",
       "style": "IPY_MODEL_098ec8210636463eac4a46477bd90fa9"
      }
     },
     "a5b20f4974a3459fad629ad765580197": {
      "model_module": "@jupyter-widgets/controls",
      "model_module_version": "1.2.0",
      "model_name": "ButtonModel",
      "state": {
       "layout": "IPY_MODEL_bfea69d00b7047ae9fc2c9c9406858ad",
       "style": "IPY_MODEL_d787a30a102d4fdf858c2f79a8902f13"
      }
     },
     "a5ba3d53d2ed421ab333983a8ae99517": {
      "model_module": "@jupyter-widgets/controls",
      "model_module_version": "1.2.0",
      "model_name": "DescriptionStyleModel",
      "state": {
       "description_width": ""
      }
     },
     "a5cc4320c9144a898c653f3c1ca10265": {
      "model_module": "@jupyter-widgets/controls",
      "model_module_version": "1.2.0",
      "model_name": "ButtonModel",
      "state": {
       "layout": "IPY_MODEL_dddc482ee42c496ab9986f5ee610bb9f",
       "style": "IPY_MODEL_b7fa459955c948709b99acdb2ad6e81b"
      }
     },
     "a5cc95f744ce4c1b96fedc46a6dfc3e4": {
      "model_module": "@jupyter-widgets/controls",
      "model_module_version": "1.2.0",
      "model_name": "ButtonModel",
      "state": {
       "layout": "IPY_MODEL_cd00ac948481485281a97b3b91a79e4e",
       "style": "IPY_MODEL_163bd97f53204953a80350f34a5a8bb7"
      }
     },
     "a60c250339eb4d44946c2166b7cea26c": {
      "model_module": "@jupyter-widgets/controls",
      "model_module_version": "1.2.0",
      "model_name": "ButtonModel",
      "state": {
       "layout": "IPY_MODEL_90e6ed8c30a54cab8cdc8ca7fb4a9974",
       "style": "IPY_MODEL_ccbfe2e288b3467ab844560b05e1f691"
      }
     },
     "a623253d09c341dc9defacc4718c7313": {
      "model_module": "@jupyter-widgets/base",
      "model_module_version": "1.0.0",
      "model_name": "LayoutModel",
      "state": {
       "align_items": "stretch",
       "display": "flex",
       "flex_flow": "row",
       "width": "70%"
      }
     },
     "a637a27e58f643ec83d4944c805a75e2": {
      "model_module": "@jupyter-widgets/base",
      "model_module_version": "1.0.0",
      "model_name": "LayoutModel",
      "state": {
       "border": "3px solid black",
       "display": "flex",
       "flex_flow": "row",
       "height": "",
       "overflow_x": "scroll",
       "width": "500px"
      }
     },
     "a65aef71443246fe8e754f263013632c": {
      "model_module": "@jupyter-widgets/controls",
      "model_module_version": "1.2.0",
      "model_name": "ButtonModel",
      "state": {
       "description": "Custom color",
       "layout": "IPY_MODEL_217f7a608fbb4a4c85ed010e22c77b4c",
       "style": "IPY_MODEL_e9d01b4b98b742edbc64f82992d94450"
      }
     },
     "a691f6de33554e9ca65a950f702e40e0": {
      "model_module": "@jupyter-widgets/controls",
      "model_module_version": "1.2.0",
      "model_name": "ButtonStyleModel",
      "state": {}
     },
     "a6a06f5d42a14930ae5504cfb3200f66": {
      "model_module": "@jupyter-widgets/base",
      "model_module_version": "1.0.0",
      "model_name": "LayoutModel",
      "state": {}
     },
     "a6a4c7ddf1ca4ca883813bf705757b32": {
      "model_module": "@jupyter-widgets/controls",
      "model_module_version": "1.2.0",
      "model_name": "ButtonModel",
      "state": {
       "button_style": "warning",
       "description": "37",
       "layout": "IPY_MODEL_d2db15f9d1834946bd4923f3faf2a54f",
       "style": "IPY_MODEL_93734aa8af344c4096e07bf392f9ce51"
      }
     },
     "a6b7cbc68869498da09cc63370b501cf": {
      "model_module": "@jupyter-widgets/base",
      "model_module_version": "1.0.0",
      "model_name": "LayoutModel",
      "state": {}
     },
     "a6bb4d248a4747f987450f9bc6add2b8": {
      "model_module": "@jupyter-widgets/controls",
      "model_module_version": "1.2.0",
      "model_name": "ButtonStyleModel",
      "state": {}
     },
     "a6bf1a5cb4564f9887ccaf42cf07f2cf": {
      "model_module": "@jupyter-widgets/controls",
      "model_module_version": "1.2.0",
      "model_name": "ButtonModel",
      "state": {
       "layout": "IPY_MODEL_09bbe1f1fc7b4c5cb813271d906a80af",
       "style": "IPY_MODEL_2c102b1458ae4459b92b830fd498223b"
      }
     },
     "a70ae2d881a64d32a59c9eda7536b61d": {
      "model_module": "@jupyter-widgets/controls",
      "model_module_version": "1.2.0",
      "model_name": "ButtonStyleModel",
      "state": {}
     },
     "a7239407c092475fa4b36f09c3b75816": {
      "model_module": "@jupyter-widgets/base",
      "model_module_version": "1.0.0",
      "model_name": "LayoutModel",
      "state": {
       "flex": "1 1 auto",
       "width": "auto"
      }
     },
     "a728b579477f4f848c68cb118b6d09c6": {
      "model_module": "@jupyter-widgets/controls",
      "model_module_version": "1.2.0",
      "model_name": "ButtonStyleModel",
      "state": {
       "button_color": "darkseagreen"
      }
     },
     "a72de774e2f043cb9a5d90c9666b59fb": {
      "model_module": "@jupyter-widgets/controls",
      "model_module_version": "1.2.0",
      "model_name": "ButtonModel",
      "state": {
       "button_style": "warning",
       "description": "30",
       "layout": "IPY_MODEL_963f958a6a3049a3b012ec8484fb898f",
       "style": "IPY_MODEL_9c191087a8094020841d3d98fa61e32a"
      }
     },
     "a7518df6973d4245b65e95dc4aef09e4": {
      "model_module": "@jupyter-widgets/controls",
      "model_module_version": "1.2.0",
      "model_name": "ButtonStyleModel",
      "state": {}
     },
     "a75311f09b5a462989208f5953e1ee0f": {
      "model_module": "@jupyter-widgets/controls",
      "model_module_version": "1.2.0",
      "model_name": "ButtonStyleModel",
      "state": {}
     },
     "a754a327e8d24b4a91f6a7e2d61f927e": {
      "model_module": "@jupyter-widgets/controls",
      "model_module_version": "1.2.0",
      "model_name": "ButtonStyleModel",
      "state": {}
     },
     "a77af6fe9def48e283781e95d25eca59": {
      "model_module": "@jupyter-widgets/controls",
      "model_module_version": "1.2.0",
      "model_name": "ButtonModel",
      "state": {
       "layout": "IPY_MODEL_104c1bfded49449794e8408e206b484c",
       "style": "IPY_MODEL_eb7be3282432449a9bc4cf232477e9ef"
      }
     },
     "a77e6bd5998c4bc8a3c9a222f6c0f328": {
      "model_module": "@jupyter-widgets/controls",
      "model_module_version": "1.2.0",
      "model_name": "ButtonStyleModel",
      "state": {}
     },
     "a796534c22dd4f33b1ea608d3df3a9ff": {
      "model_module": "@jupyter-widgets/controls",
      "model_module_version": "1.2.0",
      "model_name": "ButtonModel",
      "state": {
       "layout": "IPY_MODEL_01ae67175dea44bfa21ca0cbc48be329",
       "style": "IPY_MODEL_f30fc93e9b134b17ada927c4e08725f9"
      }
     },
     "a7a704ba71f24708807e1652607e0aab": {
      "model_module": "@jupyter-widgets/controls",
      "model_module_version": "1.2.0",
      "model_name": "ButtonModel",
      "state": {
       "layout": "IPY_MODEL_df299558f7fe43b2b5de00f8a5202d32",
       "style": "IPY_MODEL_5ca0db911dcb4e7fbd69e459e7a64aed"
      }
     },
     "a7b4280232a94bc4b4462febadd54c23": {
      "model_module": "@jupyter-widgets/controls",
      "model_module_version": "1.2.0",
      "model_name": "ButtonModel",
      "state": {
       "button_style": "warning",
       "description": "15",
       "layout": "IPY_MODEL_a810a994ec8c404f8136c2e39def56aa",
       "style": "IPY_MODEL_d2681c18ab584663a028a25b4d4341d1"
      }
     },
     "a7c6a29738704c5ca649fd17bc337059": {
      "model_module": "@jupyter-widgets/base",
      "model_module_version": "1.0.0",
      "model_name": "LayoutModel",
      "state": {}
     },
     "a7e26572ddb14e2a828395a243251060": {
      "model_module": "@jupyter-widgets/base",
      "model_module_version": "1.0.0",
      "model_name": "LayoutModel",
      "state": {
       "align_items": "stretch",
       "border": "solid",
       "display": "flex",
       "flex_flow": "column",
       "width": "50%"
      }
     },
     "a7f496fc16374795b2a5982c49168579": {
      "model_module": "@jupyter-widgets/base",
      "model_module_version": "1.0.0",
      "model_name": "LayoutModel",
      "state": {}
     },
     "a810a994ec8c404f8136c2e39def56aa": {
      "model_module": "@jupyter-widgets/base",
      "model_module_version": "1.0.0",
      "model_name": "LayoutModel",
      "state": {
       "height": "100px",
       "min_width": "40px"
      }
     },
     "a81267e6c2a04cad8d77f073c0b02817": {
      "model_module": "@jupyter-widgets/controls",
      "model_module_version": "1.2.0",
      "model_name": "ButtonStyleModel",
      "state": {}
     },
     "a81be0d9e5be4484be71185dbf8a02f7": {
      "model_module": "@jupyter-widgets/controls",
      "model_module_version": "1.2.0",
      "model_name": "GridBoxModel",
      "state": {
       "children": [
        "IPY_MODEL_0c6e24aff3b24814816c35f8d0c2d772",
        "IPY_MODEL_56bdfb78167b4d7a98dacd7068afc244",
        "IPY_MODEL_b14ccd7305684ccbb68ef7768ef15347",
        "IPY_MODEL_8c3838cdffe34ff1931089c93844304d",
        "IPY_MODEL_cdda947b551e4d84bfb425f3d0a3ee0b",
        "IPY_MODEL_8a1c253d29c04c71ba3097fb482e9a03",
        "IPY_MODEL_cdb010acc93e4bbcaaf95e4c6cd1111c",
        "IPY_MODEL_0899071ddb57466a923546dec061f97b",
        "IPY_MODEL_83a8dc9e7a8e4343a02cb937c5d52f74",
        "IPY_MODEL_0869477180c04e2ebb0476bfdc6a12dd"
       ],
       "layout": "IPY_MODEL_1c4b903a56f9414d9c04608b916b23dd"
      }
     },
     "a83bc6f1f68941608681fe912ce6bfc4": {
      "model_module": "@jupyter-widgets/base",
      "model_module_version": "1.0.0",
      "model_name": "LayoutModel",
      "state": {}
     },
     "a84944615eda49cdbfbf8f8c642dec85": {
      "model_module": "@jupyter-widgets/controls",
      "model_module_version": "1.2.0",
      "model_name": "ButtonStyleModel",
      "state": {}
     },
     "a85986231d6e4ab6a3d2d1fe00588c9c": {
      "model_module": "@jupyter-widgets/controls",
      "model_module_version": "1.2.0",
      "model_name": "ButtonModel",
      "state": {
       "layout": "IPY_MODEL_216e771000e440fea088424dae98bc76",
       "style": "IPY_MODEL_641b7e8788ad4bfe867408bf549fabf9"
      }
     },
     "a861e6d4372f40a1bf9f3617e0e77fc7": {
      "model_module": "@jupyter-widgets/controls",
      "model_module_version": "1.2.0",
      "model_name": "ButtonModel",
      "state": {
       "layout": "IPY_MODEL_0092c073e9a448b1b99ac9470c49fef5",
       "style": "IPY_MODEL_5bde867977974247835eb21446f966d3"
      }
     },
     "a8646da613da402999442f84557963b6": {
      "model_module": "@jupyter-widgets/controls",
      "model_module_version": "1.2.0",
      "model_name": "ButtonModel",
      "state": {
       "layout": "IPY_MODEL_6a65e28d5d4b43eb8398d7254554c99d",
       "style": "IPY_MODEL_f48893efc187441293918d4b1f0fc3bb"
      }
     },
     "a87417456e0e4e868eac01edaf325e24": {
      "model_module": "@jupyter-widgets/controls",
      "model_module_version": "1.2.0",
      "model_name": "ButtonStyleModel",
      "state": {}
     },
     "a8808f88e0f441c0838213d8c5171cec": {
      "model_module": "@jupyter-widgets/controls",
      "model_module_version": "1.2.0",
      "model_name": "ButtonModel",
      "state": {
       "button_style": "danger",
       "description": "weight=1; 0%",
       "layout": "IPY_MODEL_6fa613a8c2dd4340a5e1554859bf4c2a",
       "style": "IPY_MODEL_afd3e638458e46f8b71b6877cf441c0a"
      }
     },
     "a88561f96fa2450f9c605483380d43bf": {
      "model_module": "@jupyter-widgets/controls",
      "model_module_version": "1.2.0",
      "model_name": "ButtonModel",
      "state": {
       "layout": "IPY_MODEL_3f71f81b8f7747939c03e358cd4a7a17",
       "style": "IPY_MODEL_fdd73a93225844ce94f47f4a447c7c07"
      }
     },
     "a88dd60205d248589e9bb76b1a7bf90b": {
      "model_module": "@jupyter-widgets/controls",
      "model_module_version": "1.2.0",
      "model_name": "ButtonStyleModel",
      "state": {}
     },
     "a895caad300147bebab139b00cf83af9": {
      "model_module": "@jupyter-widgets/controls",
      "model_module_version": "1.2.0",
      "model_name": "ButtonStyleModel",
      "state": {}
     },
     "a8a20374e0c448b5a14285a9aee103d2": {
      "model_module": "@jupyter-widgets/controls",
      "model_module_version": "1.2.0",
      "model_name": "ButtonModel",
      "state": {
       "layout": "IPY_MODEL_64567f913f574abfafda823bec6dad4f",
       "style": "IPY_MODEL_c2005b32dab1408390f8c77eafc7e7c8"
      }
     },
     "a8a4a992eee54af0b1fe3c12946711d2": {
      "model_module": "@jupyter-widgets/base",
      "model_module_version": "1.0.0",
      "model_name": "LayoutModel",
      "state": {
       "height": "60px",
       "width": "auto"
      }
     },
     "a8b4045b8a884bc897b05c4d7e65e02d": {
      "model_module": "@jupyter-widgets/controls",
      "model_module_version": "1.2.0",
      "model_name": "ButtonModel",
      "state": {
       "button_style": "warning",
       "description": "34",
       "layout": "IPY_MODEL_79e6f20409fa4963aff904a921b6d604",
       "style": "IPY_MODEL_181d5d722fb9408a81c97952d7272c62"
      }
     },
     "a8b9b64d090949b2968dad41aa2dd415": {
      "model_module": "@jupyter-widgets/controls",
      "model_module_version": "1.2.0",
      "model_name": "ButtonModel",
      "state": {
       "layout": "IPY_MODEL_5f93039a824040f6892c5a36aa5b0393",
       "style": "IPY_MODEL_70a84f09889b479da81524d4cdd48ed4"
      }
     },
     "a8f5d7aca9e44aaaa99e493c4ea3ede9": {
      "model_module": "@jupyter-widgets/controls",
      "model_module_version": "1.2.0",
      "model_name": "ButtonModel",
      "state": {
       "layout": "IPY_MODEL_838146113b404f3cab0775e9ec2fb331",
       "style": "IPY_MODEL_d7dd774a8180434bb24c5c26676b13af"
      }
     },
     "a91225b868d24f258fecb55ec15a1b1f": {
      "model_module": "@jupyter-widgets/base",
      "model_module_version": "1.0.0",
      "model_name": "LayoutModel",
      "state": {}
     },
     "a922650c84614ed9b053f3c346caf79d": {
      "model_module": "@jupyter-widgets/base",
      "model_module_version": "1.0.0",
      "model_name": "LayoutModel",
      "state": {
       "height": "60px",
       "width": "auto"
      }
     },
     "a93e9544d4e1484391073a61b26f160e": {
      "model_module": "@jupyter-widgets/controls",
      "model_module_version": "1.2.0",
      "model_name": "ButtonModel",
      "state": {
       "layout": "IPY_MODEL_216e771000e440fea088424dae98bc76",
       "style": "IPY_MODEL_641b7e8788ad4bfe867408bf549fabf9"
      }
     },
     "a944c02deddc42d78f0d77f36dae760a": {
      "model_module": "@jupyter-widgets/controls",
      "model_module_version": "1.2.0",
      "model_name": "ButtonStyleModel",
      "state": {}
     },
     "a9531aadceb94f4db3c7a4695ef70ce3": {
      "model_module": "@jupyter-widgets/controls",
      "model_module_version": "1.2.0",
      "model_name": "ButtonStyleModel",
      "state": {}
     },
     "a954e009ea3f46df8ac9eeea672906a5": {
      "model_module": "@jupyter-widgets/base",
      "model_module_version": "1.0.0",
      "model_name": "LayoutModel",
      "state": {}
     },
     "a95c99e6e8164fb3a075bdaf89f3f920": {
      "model_module": "@jupyter-widgets/controls",
      "model_module_version": "1.2.0",
      "model_name": "ButtonModel",
      "state": {
       "button_style": "warning",
       "description": "18",
       "layout": "IPY_MODEL_963f958a6a3049a3b012ec8484fb898f",
       "style": "IPY_MODEL_1670d7fc4d9c4fc8beaa6d651543adb6"
      }
     },
     "a960c5b3af4343ada6f887dcc3d48e9b": {
      "model_module": "@jupyter-widgets/base",
      "model_module_version": "1.0.0",
      "model_name": "LayoutModel",
      "state": {}
     },
     "a965d769c0b34ce69b116c835694afc7": {
      "model_module": "@jupyter-widgets/controls",
      "model_module_version": "1.2.0",
      "model_name": "ButtonModel",
      "state": {
       "layout": "IPY_MODEL_6f40ca184b52431fb129559993d708e0",
       "style": "IPY_MODEL_e9ab615766dc44c1a85205d8860b565c"
      }
     },
     "a997cf87cb444be1a8febdf657c22511": {
      "model_module": "@jupyter-widgets/base",
      "model_module_version": "1.0.0",
      "model_name": "LayoutModel",
      "state": {
       "height": "auto",
       "width": "auto"
      }
     },
     "a9a0e52c5e8040fb9d96be13f6eba93a": {
      "model_module": "@jupyter-widgets/controls",
      "model_module_version": "1.2.0",
      "model_name": "ButtonStyleModel",
      "state": {}
     },
     "a9adac41b9d842dda33be3de65f433a9": {
      "model_module": "@jupyter-widgets/base",
      "model_module_version": "1.0.0",
      "model_name": "LayoutModel",
      "state": {}
     },
     "a9aea455a32741e1ac9c7404cc548cb8": {
      "model_module": "@jupyter-widgets/controls",
      "model_module_version": "1.2.0",
      "model_name": "ButtonStyleModel",
      "state": {
       "button_color": "blue"
      }
     },
     "a9b9b841323f4bbd842c1b8c5651c00b": {
      "model_module": "@jupyter-widgets/controls",
      "model_module_version": "1.2.0",
      "model_name": "ButtonModel",
      "state": {
       "layout": "IPY_MODEL_0092c073e9a448b1b99ac9470c49fef5",
       "style": "IPY_MODEL_202c7c4749234c77b85edbf133073af0"
      }
     },
     "a9cedb60bbfd411597b55c61af1127d3": {
      "model_module": "@jupyter-widgets/controls",
      "model_module_version": "1.2.0",
      "model_name": "ButtonModel",
      "state": {
       "layout": "IPY_MODEL_858e568cf3404c5f954be0b98b325cab",
       "style": "IPY_MODEL_3d667f8bea874e82bc5451b3d645d727"
      }
     },
     "a9d942f725f14c97b8bc5e29af6ffdd9": {
      "model_module": "@jupyter-widgets/controls",
      "model_module_version": "1.2.0",
      "model_name": "ButtonStyleModel",
      "state": {}
     },
     "aa0d861f849148fcabc8128122e89fa0": {
      "model_module": "@jupyter-widgets/controls",
      "model_module_version": "1.2.0",
      "model_name": "ButtonModel",
      "state": {
       "layout": "IPY_MODEL_bd032ec0085648d8b4bee7b4b2e75fe2",
       "style": "IPY_MODEL_60e170a7ce634ef9a5578b99cb742a11"
      }
     },
     "aa1dde5b9d89444f969bff182bfc819d": {
      "model_module": "@jupyter-widgets/controls",
      "model_module_version": "1.2.0",
      "model_name": "ButtonModel",
      "state": {
       "layout": "IPY_MODEL_6f40ca184b52431fb129559993d708e0",
       "style": "IPY_MODEL_e9ab615766dc44c1a85205d8860b565c"
      }
     },
     "aa6629761a1c4e92950bf1234fa2cb1e": {
      "model_module": "@jupyter-widgets/controls",
      "model_module_version": "1.2.0",
      "model_name": "ButtonStyleModel",
      "state": {}
     },
     "aa7f985d379d4f7b9ed5fe8e743e2141": {
      "model_module": "@jupyter-widgets/controls",
      "model_module_version": "1.2.0",
      "model_name": "ButtonStyleModel",
      "state": {}
     },
     "aa9985dd629941c9b7cd2e67850e3e82": {
      "model_module": "@jupyter-widgets/controls",
      "model_module_version": "1.2.0",
      "model_name": "ButtonModel",
      "state": {
       "button_style": "warning",
       "description": "27",
       "layout": "IPY_MODEL_16df380d38fb47a2bbb217b953037b65",
       "style": "IPY_MODEL_287a42553cfc45268efc2fd1dda200a6"
      }
     },
     "aab1d2b921f94ecf9ccd996610aac7d1": {
      "model_module": "@jupyter-widgets/base",
      "model_module_version": "1.0.0",
      "model_name": "LayoutModel",
      "state": {
       "height": "auto",
       "width": "auto"
      }
     },
     "aacffce1802a46eab4c5f6f916f43662": {
      "model_module": "@jupyter-widgets/controls",
      "model_module_version": "1.2.0",
      "model_name": "ButtonModel",
      "state": {
       "layout": "IPY_MODEL_8c7d17fa9b6a48b7832b66d2d78dfc94",
       "style": "IPY_MODEL_8b706274e8954a2daf60b15a1a36295b"
      }
     },
     "aad767bbb80346e5b804589d830cca00": {
      "model_module": "@jupyter-widgets/controls",
      "model_module_version": "1.2.0",
      "model_name": "DescriptionStyleModel",
      "state": {
       "description_width": ""
      }
     },
     "aaf847fb561644f59a54e188be20c4a3": {
      "model_module": "@jupyter-widgets/controls",
      "model_module_version": "1.2.0",
      "model_name": "ButtonModel",
      "state": {
       "button_style": "warning",
       "description": "20",
       "layout": "IPY_MODEL_a810a994ec8c404f8136c2e39def56aa",
       "style": "IPY_MODEL_d140b89298e74b3c839ff39ea57b3998"
      }
     },
     "ab092309913547f884a09d22e06779a5": {
      "model_module": "@jupyter-widgets/controls",
      "model_module_version": "1.2.0",
      "model_name": "ButtonModel",
      "state": {
       "layout": "IPY_MODEL_a83bc6f1f68941608681fe912ce6bfc4",
       "style": "IPY_MODEL_225d065876f841a4aa809ca6fa11eb12"
      }
     },
     "ab13a515feea4581adf632df1a0c8b11": {
      "model_module": "@jupyter-widgets/controls",
      "model_module_version": "1.2.0",
      "model_name": "ButtonModel",
      "state": {
       "layout": "IPY_MODEL_df9e2e0507484692b334d2df271d390d",
       "style": "IPY_MODEL_3a0ed38c1551495087bec43ac6312d7f"
      }
     },
     "ab1cfd9006c54b88b906581717a827d4": {
      "model_module": "@jupyter-widgets/controls",
      "model_module_version": "1.2.0",
      "model_name": "ButtonStyleModel",
      "state": {
       "button_color": "red"
      }
     },
     "ab41e36e5c0040e3bbe3143f2816183c": {
      "model_module": "@jupyter-widgets/base",
      "model_module_version": "1.0.0",
      "model_name": "LayoutModel",
      "state": {
       "grid_template_areas": "\n            \"header header header header\"\n            \"main main . sidebar \"\n            \"footer footer footer footer\"\n            ",
       "grid_template_columns": "25% 25% 25% 25%",
       "grid_template_rows": "auto auto auto",
       "width": "50%"
      }
     },
     "ab4b2b8f29ec42198d4a342c9a8bc2a7": {
      "model_module": "@jupyter-widgets/controls",
      "model_module_version": "1.2.0",
      "model_name": "ButtonModel",
      "state": {
       "layout": "IPY_MODEL_a3f719a533a247ed8609f09df5311780",
       "style": "IPY_MODEL_37014aa9993242e099030afbbe29ae5b"
      }
     },
     "ab4f1d5f0c594bbc9c04549f977b9f0f": {
      "model_module": "@jupyter-widgets/base",
      "model_module_version": "1.0.0",
      "model_name": "LayoutModel",
      "state": {}
     },
     "ab532f8865a345d3a0183fe5f8caa91e": {
      "model_module": "@jupyter-widgets/controls",
      "model_module_version": "1.2.0",
      "model_name": "ButtonModel",
      "state": {
       "layout": "IPY_MODEL_64567f913f574abfafda823bec6dad4f",
       "style": "IPY_MODEL_c2005b32dab1408390f8c77eafc7e7c8"
      }
     },
     "ab6f83c463cc432aa4aaed2be050cd40": {
      "model_module": "@jupyter-widgets/controls",
      "model_module_version": "1.2.0",
      "model_name": "ButtonModel",
      "state": {
       "layout": "IPY_MODEL_90e6ed8c30a54cab8cdc8ca7fb4a9974",
       "style": "IPY_MODEL_ccbfe2e288b3467ab844560b05e1f691"
      }
     },
     "ab76ed9ca4474fcf9ccc5785eddfc291": {
      "model_module": "@jupyter-widgets/base",
      "model_module_version": "1.0.0",
      "model_name": "LayoutModel",
      "state": {
       "height": "auto",
       "width": "auto"
      }
     },
     "ab8769af68364d82b37a9f3b6cbc786b": {
      "model_module": "@jupyter-widgets/controls",
      "model_module_version": "1.2.0",
      "model_name": "ButtonModel",
      "state": {
       "layout": "IPY_MODEL_6f78c389a2aa442f9564842959c99ad1",
       "style": "IPY_MODEL_c8a900dda78444929e3e3cbf5ea12ca1"
      }
     },
     "ab8f4a5b08764b299fa76ade95977d49": {
      "model_module": "@jupyter-widgets/controls",
      "model_module_version": "1.2.0",
      "model_name": "GridBoxModel",
      "state": {
       "children": [
        "IPY_MODEL_2ac497962db4477baaf06a11be6d504b",
        "IPY_MODEL_4c287f4923be4178bd9539cf36cfbeb6",
        "IPY_MODEL_9810a042b60740f997ceb92f35b70514",
        "IPY_MODEL_b4eea5af36ac41bca589dc55695b3b5c",
        "IPY_MODEL_15891808713246f88e08ce6248fb5830",
        "IPY_MODEL_cf9e4062deb9483f8652bf0026527752",
        "IPY_MODEL_e0c0daf276264e1599ee86b38c52d232",
        "IPY_MODEL_7a1e834d34e24e6195d5b6a6871156bd",
        "IPY_MODEL_cab0f445580548acb8ca3f1df1061544"
       ],
       "layout": "IPY_MODEL_19cf35c68a3c4bf9b7093f65000f9069"
      }
     },
     "ab981c53915840e7b49064b4a7f807b4": {
      "model_module": "@jupyter-widgets/controls",
      "model_module_version": "1.2.0",
      "model_name": "ButtonModel",
      "state": {
       "layout": "IPY_MODEL_97f59d9afbe840f3a0be0c37d5e84ae8",
       "style": "IPY_MODEL_4bbffed757e34d98b461b8bc0f1d23c4"
      }
     },
     "ab9ec3d9b5414e25b4745f244127a9d0": {
      "model_module": "@jupyter-widgets/controls",
      "model_module_version": "1.2.0",
      "model_name": "ButtonModel",
      "state": {
       "layout": "IPY_MODEL_a5aafc5fec484d77a39f715c3d1a1587",
       "style": "IPY_MODEL_ba86794a91474a239b55c3eeee7afffb"
      }
     },
     "aba824e49ef3407aa10d7463f36884f7": {
      "model_module": "@jupyter-widgets/controls",
      "model_module_version": "1.2.0",
      "model_name": "GridBoxModel",
      "state": {
       "children": [
        "IPY_MODEL_0bd6a2d833ad4201bed868972c5d55d4",
        "IPY_MODEL_3d723e64449a4584a92dccacee95ba4f",
        "IPY_MODEL_87b34cb208f548279e1607b79e766a52",
        "IPY_MODEL_e998a3b78e624a79b6aad66a589f0b15",
        "IPY_MODEL_a965d769c0b34ce69b116c835694afc7",
        "IPY_MODEL_aa1dde5b9d89444f969bff182bfc819d",
        "IPY_MODEL_bc280158cbc14f4fac3c4c044821fbd7",
        "IPY_MODEL_99b9a9bb7c004ac6aa9145be465b48cb"
       ],
       "layout": "IPY_MODEL_9cd27c50b6924598adf09b2c9f30c788"
      }
     },
     "abb367ff8aaf4fd4831942e86bc14f19": {
      "model_module": "@jupyter-widgets/controls",
      "model_module_version": "1.2.0",
      "model_name": "ButtonModel",
      "state": {
       "button_style": "danger",
       "description": "Danger Button",
       "layout": "IPY_MODEL_5770d62c46524e26bebd4979fcd4506c",
       "style": "IPY_MODEL_ed22292c89004eaca733179aa825f8b8"
      }
     },
     "abb5c22a68ea48ae9c6dadba34445aa2": {
      "model_module": "@jupyter-widgets/base",
      "model_module_version": "1.0.0",
      "model_name": "LayoutModel",
      "state": {}
     },
     "abb87bd4242c48e8ad29b42bb8e77c39": {
      "model_module": "@jupyter-widgets/controls",
      "model_module_version": "1.2.0",
      "model_name": "ButtonStyleModel",
      "state": {}
     },
     "abc85fdd55bc481caaeaf493480ce9e7": {
      "model_module": "@jupyter-widgets/base",
      "model_module_version": "1.0.0",
      "model_name": "LayoutModel",
      "state": {
       "height": "auto",
       "width": "auto"
      }
     },
     "abd87ad747c942798c5e9862820d6d5e": {
      "model_module": "@jupyter-widgets/controls",
      "model_module_version": "1.2.0",
      "model_name": "GridBoxModel",
      "state": {
       "children": [
        "IPY_MODEL_ba37503c2be443daac4d38e72f23268a",
        "IPY_MODEL_fcbba95b776f47109aaf2446132eccb7",
        "IPY_MODEL_25201b6ab1b5436c882180202903f787",
        "IPY_MODEL_b28cf1beeaee4cca840f42e472286ebd",
        "IPY_MODEL_62da853fc3ca40a8bd43d2ee929214a9",
        "IPY_MODEL_d5d0d909e23f46dfb553c038f30509a6",
        "IPY_MODEL_f90596d4a0254043aae695996675a879",
        "IPY_MODEL_346a53fb316944208f954fa3d6c7a3d2",
        "IPY_MODEL_953a0e23e7bc400983cfa3ec9b984dc1",
        "IPY_MODEL_e4c858c31e014c758e45357a1aad3f67"
       ],
       "layout": "IPY_MODEL_e25bf36a575a4acd814bb904c8301173"
      }
     },
     "abde9670932943d1961f9c631aff49b6": {
      "model_module": "@jupyter-widgets/controls",
      "model_module_version": "1.2.0",
      "model_name": "ButtonModel",
      "state": {
       "layout": "IPY_MODEL_3d81651a297740e381ac147d7c10fcbe",
       "style": "IPY_MODEL_a2258103f0aa428b8c242534774ca56b"
      }
     },
     "abe5eeb08c3e42cba46937e50e29909a": {
      "model_module": "@jupyter-widgets/controls",
      "model_module_version": "1.2.0",
      "model_name": "ButtonModel",
      "state": {
       "layout": "IPY_MODEL_33821dd28f834ae0b483c1651213364a",
       "style": "IPY_MODEL_098ec8210636463eac4a46477bd90fa9"
      }
     },
     "ac3fec050f614ac2824d2447c8e559d7": {
      "model_module": "@jupyter-widgets/controls",
      "model_module_version": "1.2.0",
      "model_name": "ButtonStyleModel",
      "state": {}
     },
     "ac45e16d52ce49a7ac9bba45d188ddb3": {
      "model_module": "@jupyter-widgets/controls",
      "model_module_version": "1.2.0",
      "model_name": "ButtonModel",
      "state": {
       "button_style": "danger",
       "description": "weight=1; auto",
       "layout": "IPY_MODEL_3a6a8ae5bd4b41d2ad47bd9e157df707",
       "style": "IPY_MODEL_2cd4a3ab05c84a72aa4abd3801293341"
      }
     },
     "ac7af33615bd446bb40ed4ef4abc32a4": {
      "model_module": "@jupyter-widgets/controls",
      "model_module_version": "1.2.0",
      "model_name": "ButtonStyleModel",
      "state": {}
     },
     "ac7bcfed29fe4810ab8b43cd4fbc006f": {
      "model_module": "@jupyter-widgets/controls",
      "model_module_version": "1.2.0",
      "model_name": "ButtonModel",
      "state": {
       "layout": "IPY_MODEL_0644b7b8372048b8bdbd9a2fb6cbe839",
       "style": "IPY_MODEL_22d68066b4964df58ee9ce69e38506ba"
      }
     },
     "ac9e249830b34a23bccafb5694e601a4": {
      "model_module": "@jupyter-widgets/controls",
      "model_module_version": "1.2.0",
      "model_name": "ButtonModel",
      "state": {
       "layout": "IPY_MODEL_dddc482ee42c496ab9986f5ee610bb9f",
       "style": "IPY_MODEL_b7fa459955c948709b99acdb2ad6e81b"
      }
     },
     "acc6792c3398416fa480c1c444eb54b6": {
      "model_module": "@jupyter-widgets/controls",
      "model_module_version": "1.2.0",
      "model_name": "VBoxModel",
      "state": {
       "children": [
        "IPY_MODEL_d683c7f1444f452786341cd5ac138109",
        "IPY_MODEL_f3d2c8d56584472bb31f61a554bdd35c"
       ],
       "layout": "IPY_MODEL_856188283bf445858fc61d0ec7123473"
      }
     },
     "acc966dfb494410fb3ba1acd094f4c83": {
      "model_module": "@jupyter-widgets/controls",
      "model_module_version": "1.2.0",
      "model_name": "ButtonModel",
      "state": {
       "layout": "IPY_MODEL_cd00ac948481485281a97b3b91a79e4e",
       "style": "IPY_MODEL_b9cfdb7a16264ba6aa7bc9391d512f3e"
      }
     },
     "ad1f6a8af60d4a59af296a56ffcd595d": {
      "model_module": "@jupyter-widgets/controls",
      "model_module_version": "1.2.0",
      "model_name": "ButtonStyleModel",
      "state": {}
     },
     "ad48a41a4da448e989141d916a2dd7dc": {
      "model_module": "@jupyter-widgets/base",
      "model_module_version": "1.0.0",
      "model_name": "LayoutModel",
      "state": {
       "height": "80px",
       "width": "50%"
      }
     },
     "ad617969fa0043ea911e4cfae74cba11": {
      "model_module": "@jupyter-widgets/controls",
      "model_module_version": "1.2.0",
      "model_name": "ButtonModel",
      "state": {
       "button_style": "warning",
       "description": "9",
       "layout": "IPY_MODEL_79e6f20409fa4963aff904a921b6d604",
       "style": "IPY_MODEL_a944c02deddc42d78f0d77f36dae760a"
      }
     },
     "ad6728d43a1c4be5be1695321146a038": {
      "model_module": "@jupyter-widgets/controls",
      "model_module_version": "1.2.0",
      "model_name": "ButtonStyleModel",
      "state": {}
     },
     "ad6bf4b5200544c589bf26cfb49111ac": {
      "model_module": "@jupyter-widgets/controls",
      "model_module_version": "1.2.0",
      "model_name": "SliderStyleModel",
      "state": {
       "description_width": "",
       "handle_color": "lightblue"
      }
     },
     "ad6c6e3e71444e4a865f5e8876613f30": {
      "model_module": "@jupyter-widgets/controls",
      "model_module_version": "1.2.0",
      "model_name": "ButtonModel",
      "state": {
       "layout": "IPY_MODEL_54dc1791cb77472c8ca601c93d0b0fe1",
       "style": "IPY_MODEL_a84944615eda49cdbfbf8f8c642dec85"
      }
     },
     "ad6e8c5ad39f4005b26bd1a7f36e59d0": {
      "model_module": "@jupyter-widgets/controls",
      "model_module_version": "1.2.0",
      "model_name": "ButtonModel",
      "state": {
       "layout": "IPY_MODEL_93cf562e131e4a7eacb682fd13e54be7",
       "style": "IPY_MODEL_86e138b1435d437298ee6473889710d7"
      }
     },
     "ad7c81d268b54595a0d6affd00bb4f28": {
      "model_module": "@jupyter-widgets/controls",
      "model_module_version": "1.2.0",
      "model_name": "ButtonStyleModel",
      "state": {}
     },
     "ad7cac06da7e493198a1221c32b9d622": {
      "model_module": "@jupyter-widgets/controls",
      "model_module_version": "1.2.0",
      "model_name": "ButtonStyleModel",
      "state": {}
     },
     "ad999a47452a43b5b7847fb215229dc9": {
      "model_module": "@jupyter-widgets/controls",
      "model_module_version": "1.2.0",
      "model_name": "ButtonModel",
      "state": {
       "layout": "IPY_MODEL_706d95b63d0144b6a672412f3a219036",
       "style": "IPY_MODEL_fa254a0a381942c38bbe4acded65f7bb"
      }
     },
     "adaaa132bc7143458a3876a7eb33263c": {
      "model_module": "@jupyter-widgets/controls",
      "model_module_version": "1.2.0",
      "model_name": "DescriptionStyleModel",
      "state": {
       "description_width": ""
      }
     },
     "adad8d1d69b546038159a3dc13300611": {
      "model_module": "@jupyter-widgets/controls",
      "model_module_version": "1.2.0",
      "model_name": "ButtonStyleModel",
      "state": {}
     },
     "adb4d8b8142e4fd9b5ed1111f8b0ad71": {
      "model_module": "@jupyter-widgets/controls",
      "model_module_version": "1.2.0",
      "model_name": "ButtonStyleModel",
      "state": {}
     },
     "adc04e9e63ce44938d52f10be7728a35": {
      "model_module": "@jupyter-widgets/base",
      "model_module_version": "1.0.0",
      "model_name": "LayoutModel",
      "state": {}
     },
     "adddd212367a4809ad91d96c5c9ba10b": {
      "model_module": "@jupyter-widgets/controls",
      "model_module_version": "1.2.0",
      "model_name": "ButtonModel",
      "state": {
       "description": "Header",
       "layout": "IPY_MODEL_2b4567f850a545d9b64fd4ec7e469295",
       "style": "IPY_MODEL_85fd74259c794fceb994b7b3a6215ba6"
      }
     },
     "addf6f78f36149718c9b21ed3851d43a": {
      "model_module": "@jupyter-widgets/base",
      "model_module_version": "1.0.0",
      "model_name": "LayoutModel",
      "state": {
       "display": "flex",
       "flex_flow": "row",
       "justify_content": "space-between"
      }
     },
     "adf55ce3043541228e7a5a4ee94a35eb": {
      "model_module": "@jupyter-widgets/controls",
      "model_module_version": "1.2.0",
      "model_name": "ButtonStyleModel",
      "state": {}
     },
     "adff560f090e422092860e0fcdf68bd3": {
      "model_module": "@jupyter-widgets/controls",
      "model_module_version": "1.2.0",
      "model_name": "ButtonStyleModel",
      "state": {}
     },
     "ae38c25a242a4e4b8c9ced3de3c54113": {
      "model_module": "@jupyter-widgets/controls",
      "model_module_version": "1.2.0",
      "model_name": "DropdownModel",
      "state": {
       "_options_labels": [
        "Scrambled",
        "Sunny side up",
        "Over easy"
       ],
       "index": 0,
       "layout": "IPY_MODEL_5f370c99d360437b86af0bbc922dbad3",
       "style": "IPY_MODEL_567c1d3c26054c59ab69ba9fc026f2ec"
      }
     },
     "ae3dc7b7d423487eabd8560ca054a018": {
      "model_module": "@jupyter-widgets/controls",
      "model_module_version": "1.2.0",
      "model_name": "ButtonStyleModel",
      "state": {}
     },
     "ae635a22ec9e4c17856a0a71eb971f21": {
      "model_module": "@jupyter-widgets/controls",
      "model_module_version": "1.2.0",
      "model_name": "ButtonModel",
      "state": {
       "button_style": "danger",
       "description": "staple",
       "layout": "IPY_MODEL_4e77966225b340fcada10948f3b7386c",
       "style": "IPY_MODEL_ea6001894c0840809d2d105da2ebad3c"
      }
     },
     "ae673d62329f4fdcb20d5a31b23ecda0": {
      "model_module": "@jupyter-widgets/controls",
      "model_module_version": "1.2.0",
      "model_name": "ButtonStyleModel",
      "state": {}
     },
     "ae69b55b16f544dabc20f69b972f32c0": {
      "model_module": "@jupyter-widgets/controls",
      "model_module_version": "1.2.0",
      "model_name": "ButtonModel",
      "state": {
       "description": "Custom color",
       "layout": "IPY_MODEL_42d063a8c7e5472984433251bc8d46aa",
       "style": "IPY_MODEL_f48893efc187441293918d4b1f0fc3bb"
      }
     },
     "ae6b8d20cfbf46f19c6867e3a9534f95": {
      "model_module": "@jupyter-widgets/controls",
      "model_module_version": "1.2.0",
      "model_name": "ButtonModel",
      "state": {
       "button_style": "warning",
       "description": "31",
       "layout": "IPY_MODEL_a810a994ec8c404f8136c2e39def56aa",
       "style": "IPY_MODEL_44f810703c584a68a2fb894463857bbf"
      }
     },
     "ae7467ace2d64986b182a88c7af8e88e": {
      "model_module": "@jupyter-widgets/controls",
      "model_module_version": "1.2.0",
      "model_name": "ButtonStyleModel",
      "state": {}
     },
     "ae77bd90400246eda5af5e75b3d68c8c": {
      "model_module": "@jupyter-widgets/controls",
      "model_module_version": "1.2.0",
      "model_name": "ButtonStyleModel",
      "state": {}
     },
     "ae7f685ca15f40559d55d686b6482119": {
      "model_module": "@jupyter-widgets/controls",
      "model_module_version": "1.2.0",
      "model_name": "ButtonModel",
      "state": {
       "description": "correct",
       "layout": "IPY_MODEL_fefaa01c23a7411bbc6e135a6990b615",
       "style": "IPY_MODEL_b1bc1492f21145dfa70459637ffd50aa"
      }
     },
     "ae88990ba5df4940bf8743989800b979": {
      "model_module": "@jupyter-widgets/controls",
      "model_module_version": "1.2.0",
      "model_name": "ButtonModel",
      "state": {
       "layout": "IPY_MODEL_1a6b0a9053e2452ca410e9de3b4fef7d",
       "style": "IPY_MODEL_0e5fde1b3244427da5374aa51154d343"
      }
     },
     "ae94063e5c014dfb89ba3c3273401ee3": {
      "model_module": "@jupyter-widgets/controls",
      "model_module_version": "1.2.0",
      "model_name": "ButtonModel",
      "state": {
       "button_style": "warning",
       "description": "21",
       "layout": "IPY_MODEL_963f958a6a3049a3b012ec8484fb898f",
       "style": "IPY_MODEL_12ac7b3b1bdf4ced82d85fa93f3f108f"
      }
     },
     "ae9907f674564634946ed17f0d2064b7": {
      "model_module": "@jupyter-widgets/base",
      "model_module_version": "1.0.0",
      "model_name": "LayoutModel",
      "state": {
       "grid_gap": "5px 10px",
       "grid_template_columns": "100px 50px 100px",
       "grid_template_rows": "80px auto 80px",
       "width": "50%"
      }
     },
     "ae9dbb5cf1344773aaad4db41f96bea9": {
      "model_module": "@jupyter-widgets/controls",
      "model_module_version": "1.2.0",
      "model_name": "ButtonModel",
      "state": {
       "button_style": "warning",
       "description": "1",
       "layout": "IPY_MODEL_e20ec9c5c01e485bbfa90160b80eb8f4",
       "style": "IPY_MODEL_de3045b1676a4be7b3f37a03315ab54e"
      }
     },
     "aeb0760d674544c99e4459b12150bcfa": {
      "model_module": "@jupyter-widgets/controls",
      "model_module_version": "1.2.0",
      "model_name": "ButtonStyleModel",
      "state": {}
     },
     "aeb3d0d9b528464eada0a0749794e094": {
      "model_module": "@jupyter-widgets/base",
      "model_module_version": "1.0.0",
      "model_name": "LayoutModel",
      "state": {}
     },
     "aed0a7b766ec4db78057bad00cd5f85d": {
      "model_module": "@jupyter-widgets/controls",
      "model_module_version": "1.2.0",
      "model_name": "ButtonModel",
      "state": {
       "description": "horse",
       "layout": "IPY_MODEL_0f9d590890e540c2a48427a19972d03b",
       "style": "IPY_MODEL_bf14d09f8ad1466aa359499b2fbcad42"
      }
     },
     "aee0c1334a164694aa2622a4631d53d8": {
      "model_module": "@jupyter-widgets/controls",
      "model_module_version": "1.2.0",
      "model_name": "ButtonStyleModel",
      "state": {}
     },
     "aef3a448df1b4b9ba3869233981dfb42": {
      "model_module": "@jupyter-widgets/controls",
      "model_module_version": "1.2.0",
      "model_name": "ButtonStyleModel",
      "state": {}
     },
     "aef9a978a66942ca8db2b985bfe1eaae": {
      "model_module": "@jupyter-widgets/controls",
      "model_module_version": "1.2.0",
      "model_name": "LabelModel",
      "state": {
       "layout": "IPY_MODEL_c6e03fb0b24a4ea78826e1f7e62b592a",
       "style": "IPY_MODEL_46b915c913cd4a97bd389e859abacfa3",
       "value": "Age of the captain"
      }
     },
     "af0804c471604cd88fc9dcc9a761168f": {
      "model_module": "@jupyter-widgets/controls",
      "model_module_version": "1.2.0",
      "model_name": "ButtonStyleModel",
      "state": {}
     },
     "af0936b1473e4aa3b0873edc9207c54c": {
      "model_module": "@jupyter-widgets/base",
      "model_module_version": "1.0.0",
      "model_name": "LayoutModel",
      "state": {
       "height": "auto",
       "width": "auto"
      }
     },
     "af0b5c67e1304195878e97dae5dffbfe": {
      "model_module": "@jupyter-widgets/controls",
      "model_module_version": "1.2.0",
      "model_name": "ButtonModel",
      "state": {
       "button_style": "warning",
       "description": "0",
       "layout": "IPY_MODEL_d2db15f9d1834946bd4923f3faf2a54f",
       "style": "IPY_MODEL_b4b6e16a79eb4363be7618237d55def3"
      }
     },
     "af1bf59615cd4483bb9b45d5abf77a34": {
      "model_module": "@jupyter-widgets/base",
      "model_module_version": "1.0.0",
      "model_name": "LayoutModel",
      "state": {}
     },
     "af2aef9b5b0d4daa8e74e47e31ee0437": {
      "model_module": "@jupyter-widgets/base",
      "model_module_version": "1.0.0",
      "model_name": "LayoutModel",
      "state": {
       "height": "auto",
       "margin": "0",
       "width": "auto"
      }
     },
     "af6cf47d57774c22b0a45b5abec6695b": {
      "model_module": "@jupyter-widgets/base",
      "model_module_version": "1.0.0",
      "model_name": "LayoutModel",
      "state": {}
     },
     "af7b66e6fff44d03816a963caf7ed011": {
      "model_module": "@jupyter-widgets/controls",
      "model_module_version": "1.2.0",
      "model_name": "ButtonStyleModel",
      "state": {}
     },
     "afa3ab7e3a5645908496d3eadc6d5c7a": {
      "model_module": "@jupyter-widgets/controls",
      "model_module_version": "1.2.0",
      "model_name": "ButtonStyleModel",
      "state": {}
     },
     "afa7d5a1c3d44ec98194c7915c50687c": {
      "model_module": "@jupyter-widgets/controls",
      "model_module_version": "1.2.0",
      "model_name": "ButtonModel",
      "state": {
       "layout": "IPY_MODEL_1c81b91358154c19ab0e8986a32d5733",
       "style": "IPY_MODEL_84e3b8da0eca4865b1baff7e0c3eaf3b"
      }
     },
     "afd3e638458e46f8b71b6877cf441c0a": {
      "model_module": "@jupyter-widgets/controls",
      "model_module_version": "1.2.0",
      "model_name": "ButtonStyleModel",
      "state": {}
     },
     "aff83bbb224048c7bf1483521bfb0427": {
      "model_module": "@jupyter-widgets/base",
      "model_module_version": "1.0.0",
      "model_name": "LayoutModel",
      "state": {
       "grid_area": "header",
       "width": "auto"
      }
     },
     "b0219376f85743879e299364b5c29a7a": {
      "model_module": "@jupyter-widgets/controls",
      "model_module_version": "1.2.0",
      "model_name": "ButtonStyleModel",
      "state": {}
     },
     "b031db54dae14bac85ddc0d1dab8efea": {
      "model_module": "@jupyter-widgets/controls",
      "model_module_version": "1.2.0",
      "model_name": "ButtonModel",
      "state": {
       "layout": "IPY_MODEL_702077bd9c1e4c4caa9d25c900b133aa",
       "style": "IPY_MODEL_2839dd39b2114ad9872e6981fffc80f9"
      }
     },
     "b04a8cae14464c17bc8acb3ff62ee447": {
      "model_module": "@jupyter-widgets/controls",
      "model_module_version": "1.2.0",
      "model_name": "ButtonStyleModel",
      "state": {
       "button_color": "darkseagreen"
      }
     },
     "b04e41167a0b4ad7b252f307e5720824": {
      "model_module": "@jupyter-widgets/base",
      "model_module_version": "1.0.0",
      "model_name": "LayoutModel",
      "state": {
       "grid_gap": "1px 1px",
       "grid_template": "50px 100px / 25% 10% auto 200px"
      }
     },
     "b04fd43aa61d476ba3c9d541102e8930": {
      "model_module": "@jupyter-widgets/controls",
      "model_module_version": "1.2.0",
      "model_name": "ButtonStyleModel",
      "state": {}
     },
     "b05a4ae3d2984cf9afb1452e1e0c6fd6": {
      "model_module": "@jupyter-widgets/controls",
      "model_module_version": "1.2.0",
      "model_name": "ButtonModel",
      "state": {
       "layout": "IPY_MODEL_3ee33ef73484447eacd6651d43b68f93",
       "style": "IPY_MODEL_350337c1228b438fa4e4be85cffbb214"
      }
     },
     "b0631bb8c0934069acc328b739f8d62f": {
      "model_module": "@jupyter-widgets/controls",
      "model_module_version": "1.2.0",
      "model_name": "ButtonModel",
      "state": {
       "layout": "IPY_MODEL_1c7ba21a68894fa5839d2d5f6611901f",
       "style": "IPY_MODEL_8570267e433340a59de0ae496f11065c"
      }
     },
     "b0fa8f17415c4b758d7d7b29f7cd4aac": {
      "model_module": "@jupyter-widgets/controls",
      "model_module_version": "1.2.0",
      "model_name": "ButtonStyleModel",
      "state": {}
     },
     "b101ddb08e684127ba229f02d68a9024": {
      "model_module": "@jupyter-widgets/controls",
      "model_module_version": "1.2.0",
      "model_name": "ButtonModel",
      "state": {
       "layout": "IPY_MODEL_3e4e67e55d064e8fa34459e3fd93622d",
       "style": "IPY_MODEL_9d4c8498e0ad4ae5aee853d82b057db5"
      }
     },
     "b10e75bf3f7c423f9cbc2ebac1f6f337": {
      "model_module": "@jupyter-widgets/base",
      "model_module_version": "1.0.0",
      "model_name": "LayoutModel",
      "state": {
       "flex": "1 1 0%",
       "width": "auto"
      }
     },
     "b11871aa02cf46d5beaaf1100966d50e": {
      "model_module": "@jupyter-widgets/base",
      "model_module_version": "1.0.0",
      "model_name": "LayoutModel",
      "state": {
       "height": "auto",
       "width": "auto"
      }
     },
     "b141c4e03c6548da809237bb9c6bde36": {
      "model_module": "@jupyter-widgets/controls",
      "model_module_version": "1.2.0",
      "model_name": "ButtonStyleModel",
      "state": {}
     },
     "b144eb780ef347408168c2ce77dc1870": {
      "model_module": "@jupyter-widgets/controls",
      "model_module_version": "1.2.0",
      "model_name": "ButtonStyleModel",
      "state": {}
     },
     "b145bffad2004e6490bf118c3885c4f7": {
      "model_module": "@jupyter-widgets/controls",
      "model_module_version": "1.2.0",
      "model_name": "ButtonModel",
      "state": {
       "layout": "IPY_MODEL_13e0059cd680446a8dbed4b733138cf5",
       "style": "IPY_MODEL_62970e40a51d4456bef4bf5ba64f5b65"
      }
     },
     "b14ccd7305684ccbb68ef7768ef15347": {
      "model_module": "@jupyter-widgets/controls",
      "model_module_version": "1.2.0",
      "model_name": "ButtonModel",
      "state": {
       "layout": "IPY_MODEL_027edf707eb9494cb0a1e0da0d528b12",
       "style": "IPY_MODEL_0447d14ed08b489fab921ee537f91ab5"
      }
     },
     "b17a7d60ef394e409e56ca93d5119ace": {
      "model_module": "@jupyter-widgets/controls",
      "model_module_version": "1.2.0",
      "model_name": "ButtonStyleModel",
      "state": {}
     },
     "b17d503f6cec425cbcabb35ad3e0cb18": {
      "model_module": "@jupyter-widgets/controls",
      "model_module_version": "1.2.0",
      "model_name": "ButtonModel",
      "state": {
       "layout": "IPY_MODEL_8a3f1796ee91466f82c262c79d2684b1",
       "style": "IPY_MODEL_329272f43e0f4c388a07997989034b82"
      }
     },
     "b18c749210e644708339597ca06d41e8": {
      "model_module": "@jupyter-widgets/controls",
      "model_module_version": "1.2.0",
      "model_name": "GridBoxModel",
      "state": {
       "children": [
        "IPY_MODEL_c3d6cb4b64f945a6a453af117d5a1ecb",
        "IPY_MODEL_6985ad31b03340e2a0dbc1afebb0571d",
        "IPY_MODEL_26fc581bb0f84ed2993c1c8dbd164ba5",
        "IPY_MODEL_f86e042c84c441868e9f4366420d503c",
        "IPY_MODEL_cca4eefc65b942feafe33a1080810b17",
        "IPY_MODEL_ab4b2b8f29ec42198d4a342c9a8bc2a7",
        "IPY_MODEL_6b13b697889f4d29be045d33903596f4",
        "IPY_MODEL_3ee727f74e2b447b9eeb6f7c4643488d",
        "IPY_MODEL_5c65efe1e22b4f41b3dfdfa9b6d1f2a9"
       ],
       "layout": "IPY_MODEL_c06584b4df274993b73b6da9f8b15e2d"
      }
     },
     "b19177023a824ac7b2237f1ca2f14346": {
      "model_module": "@jupyter-widgets/controls",
      "model_module_version": "1.2.0",
      "model_name": "ButtonStyleModel",
      "state": {}
     },
     "b199ddc890be462d90cb9f2dfe17a17c": {
      "model_module": "@jupyter-widgets/controls",
      "model_module_version": "1.2.0",
      "model_name": "ButtonStyleModel",
      "state": {}
     },
     "b1b4a999656549ef9692d3111c4c1a67": {
      "model_module": "@jupyter-widgets/controls",
      "model_module_version": "1.2.0",
      "model_name": "ButtonModel",
      "state": {
       "layout": "IPY_MODEL_8a3f1796ee91466f82c262c79d2684b1",
       "style": "IPY_MODEL_329272f43e0f4c388a07997989034b82"
      }
     },
     "b1b8d356a11f487baf7ea787b337c86a": {
      "model_module": "@jupyter-widgets/controls",
      "model_module_version": "1.2.0",
      "model_name": "ButtonStyleModel",
      "state": {
       "button_color": "red"
      }
     },
     "b1bc1492f21145dfa70459637ffd50aa": {
      "model_module": "@jupyter-widgets/controls",
      "model_module_version": "1.2.0",
      "model_name": "ButtonStyleModel",
      "state": {}
     },
     "b205329851834c39b3dab5513514d9d2": {
      "model_module": "@jupyter-widgets/controls",
      "model_module_version": "1.2.0",
      "model_name": "ButtonModel",
      "state": {
       "layout": "IPY_MODEL_df9e2e0507484692b334d2df271d390d",
       "style": "IPY_MODEL_266c9d2ef29b448b89edf367b1f262bc"
      }
     },
     "b214892db92341cf9c857219824a3777": {
      "model_module": "@jupyter-widgets/controls",
      "model_module_version": "1.2.0",
      "model_name": "ButtonStyleModel",
      "state": {}
     },
     "b24d954bd5e342de93849eddd84fb68f": {
      "model_module": "@jupyter-widgets/controls",
      "model_module_version": "1.2.0",
      "model_name": "ButtonModel",
      "state": {
       "layout": "IPY_MODEL_c9ea692baeb946de96bd3ed36e154abc",
       "style": "IPY_MODEL_b3edc635b2c84d788caf728edd9f1bbf"
      }
     },
     "b2513389b57c4bd9b829ba73f8eed759": {
      "model_module": "@jupyter-widgets/controls",
      "model_module_version": "1.2.0",
      "model_name": "ButtonModel",
      "state": {
       "description": "correct",
       "layout": "IPY_MODEL_ba6c1ece4afc444eb180c4686adf8249",
       "style": "IPY_MODEL_cacf6af4fb494b288cc4306d0fbd218c"
      }
     },
     "b26986387c7b49358a391b0e19abc7ea": {
      "model_module": "@jupyter-widgets/base",
      "model_module_version": "1.0.0",
      "model_name": "LayoutModel",
      "state": {}
     },
     "b2848c12f02a4daaa33184092d53b6b3": {
      "model_module": "@jupyter-widgets/base",
      "model_module_version": "1.0.0",
      "model_name": "LayoutModel",
      "state": {
       "height": "auto",
       "width": "auto"
      }
     },
     "b28ce45f6ebf4851aed606899fb18059": {
      "model_module": "@jupyter-widgets/base",
      "model_module_version": "1.0.0",
      "model_name": "LayoutModel",
      "state": {
       "width": "auto"
      }
     },
     "b28cf1beeaee4cca840f42e472286ebd": {
      "model_module": "@jupyter-widgets/controls",
      "model_module_version": "1.2.0",
      "model_name": "ButtonModel",
      "state": {
       "layout": "IPY_MODEL_71edbc4e034840e2a9927c2487c68700",
       "style": "IPY_MODEL_d643d475b4bc413190191fc23910b7ca"
      }
     },
     "b2963020ac0049838ea56b712297d285": {
      "model_module": "@jupyter-widgets/controls",
      "model_module_version": "1.2.0",
      "model_name": "ButtonModel",
      "state": {
       "description": "battery",
       "layout": "IPY_MODEL_2e3083dac09e4b4e92149d7b86ef76f2",
       "style": "IPY_MODEL_c10e83594c944ee4b017f6c5bdba01a5"
      }
     },
     "b29e64aac9bc4d9790e12dfaacd1e37a": {
      "model_module": "@jupyter-widgets/controls",
      "model_module_version": "1.2.0",
      "model_name": "GridBoxModel",
      "state": {
       "children": [
        "IPY_MODEL_60645222818f40b383abe83c94ce3a6f",
        "IPY_MODEL_a8a20374e0c448b5a14285a9aee103d2",
        "IPY_MODEL_3b4710a1272a433db4380806cb7e4d2a",
        "IPY_MODEL_173eeefb96d24124b6f106fb28b787c9",
        "IPY_MODEL_3f19a85622a0437d9c2ee0ecc9faa529",
        "IPY_MODEL_ab532f8865a345d3a0183fe5f8caa91e",
        "IPY_MODEL_cea7b28617054c70b428111d8a7be2c1",
        "IPY_MODEL_6570791ecbd442b6b31340ca9b3ff6e0"
       ],
       "layout": "IPY_MODEL_2c7dbb9891654a2db85f115e8ad55a0b"
      }
     },
     "b2e3101db4af46f0adc328981c27623d": {
      "model_module": "@jupyter-widgets/controls",
      "model_module_version": "1.2.0",
      "model_name": "ButtonModel",
      "state": {
       "description": "Header",
       "layout": "IPY_MODEL_e14ed0250f08409f8c8b12ad40c15eb5",
       "style": "IPY_MODEL_e8188f1d3b0742b68c699dcb56853ea4"
      }
     },
     "b2e9a7942bfd47b18977f37fd5b1ee01": {
      "model_module": "@jupyter-widgets/controls",
      "model_module_version": "1.2.0",
      "model_name": "ButtonStyleModel",
      "state": {}
     },
     "b31e4831c9dd468bb100cee2b6ec9225": {
      "model_module": "@jupyter-widgets/controls",
      "model_module_version": "1.2.0",
      "model_name": "ButtonStyleModel",
      "state": {}
     },
     "b3597526d7664958adc5433fca4ee062": {
      "model_module": "@jupyter-widgets/controls",
      "model_module_version": "1.2.0",
      "model_name": "ButtonModel",
      "state": {
       "description": "Sidebar",
       "layout": "IPY_MODEL_838a6b02109b4cdf8069de772e21bd5a",
       "style": "IPY_MODEL_f1a6ec4b7511467d81e76770ccdc77e4"
      }
     },
     "b3599e60b2a44f3da816dd680285f841": {
      "model_module": "@jupyter-widgets/controls",
      "model_module_version": "1.2.0",
      "model_name": "ButtonStyleModel",
      "state": {}
     },
     "b35fe71d1d3b4030aac73066bc35348f": {
      "model_module": "@jupyter-widgets/controls",
      "model_module_version": "1.2.0",
      "model_name": "GridBoxModel",
      "state": {
       "children": [
        "IPY_MODEL_727988a5bd944941b272616507871333",
        "IPY_MODEL_b9b75c8860f34dee93d935317ebbd70f",
        "IPY_MODEL_b5491c6505ec4f8c8345e90b4a8927ca",
        "IPY_MODEL_9278540162814008b17d561016c5594e"
       ],
       "layout": "IPY_MODEL_cf528e2db73242cf93443639f8c926ec"
      }
     },
     "b376653cd3344b24a923eaf84674ba62": {
      "model_module": "@jupyter-widgets/controls",
      "model_module_version": "1.2.0",
      "model_name": "SliderStyleModel",
      "state": {
       "description_width": ""
      }
     },
     "b37892c37cf646909b687fa044dde602": {
      "model_module": "@jupyter-widgets/controls",
      "model_module_version": "1.2.0",
      "model_name": "ButtonModel",
      "state": {
       "description": "(50% width, 80px height) button",
       "layout": "IPY_MODEL_ad48a41a4da448e989141d916a2dd7dc",
       "style": "IPY_MODEL_51f92b2e74b741cda4eea01eab1d9bc3"
      }
     },
     "b37f510da8d840ec90f58a35c884dc66": {
      "model_module": "@jupyter-widgets/controls",
      "model_module_version": "1.2.0",
      "model_name": "ButtonStyleModel",
      "state": {}
     },
     "b3c38054f0b745149c9c53d3e2ce73a3": {
      "model_module": "@jupyter-widgets/controls",
      "model_module_version": "1.2.0",
      "model_name": "ButtonModel",
      "state": {
       "layout": "IPY_MODEL_deb589a3e2ba408083dfaad0c5dd7243",
       "style": "IPY_MODEL_0e7dec8e6aa041929922b9bfdc12b910"
      }
     },
     "b3c7a8008f55494fb7a3420e3f4481b6": {
      "model_module": "@jupyter-widgets/controls",
      "model_module_version": "1.2.0",
      "model_name": "SliderStyleModel",
      "state": {
       "description_width": ""
      }
     },
     "b3edc635b2c84d788caf728edd9f1bbf": {
      "model_module": "@jupyter-widgets/controls",
      "model_module_version": "1.2.0",
      "model_name": "ButtonStyleModel",
      "state": {
       "button_color": "#77A"
      }
     },
     "b3f86726c4794be7b7b8fe89ca227807": {
      "model_module": "@jupyter-widgets/controls",
      "model_module_version": "1.2.0",
      "model_name": "ButtonModel",
      "state": {
       "layout": "IPY_MODEL_2dbf7836189c43ceacedac172f168e48",
       "style": "IPY_MODEL_1c333f95c2504843b4fa59f702ae7f34"
      }
     },
     "b415d0266d8f4252a7fcfd412cfb5c03": {
      "model_module": "@jupyter-widgets/controls",
      "model_module_version": "1.2.0",
      "model_name": "ButtonModel",
      "state": {
       "layout": "IPY_MODEL_a997cf87cb444be1a8febdf657c22511",
       "style": "IPY_MODEL_46c6fab3e1814149a37db4eff9491411"
      }
     },
     "b444191e501747dd9fa9f2a219ebd42c": {
      "model_module": "@jupyter-widgets/controls",
      "model_module_version": "1.2.0",
      "model_name": "ButtonModel",
      "state": {
       "button_style": "warning",
       "description": "5",
       "layout": "IPY_MODEL_963f958a6a3049a3b012ec8484fb898f",
       "style": "IPY_MODEL_bc1016a4077e4d83b9d0a2d82da9782d"
      }
     },
     "b44fc87cd59c41bd848e81e5b58ae072": {
      "model_module": "@jupyter-widgets/controls",
      "model_module_version": "1.2.0",
      "model_name": "ButtonModel",
      "state": {
       "button_style": "danger",
       "description": "weight=1; 0%",
       "layout": "IPY_MODEL_483895896fe54682bf16a55fbafd55a3",
       "style": "IPY_MODEL_5bdfc8e68c074e01b857eae0509ea469"
      }
     },
     "b4b6e16a79eb4363be7618237d55def3": {
      "model_module": "@jupyter-widgets/controls",
      "model_module_version": "1.2.0",
      "model_name": "ButtonStyleModel",
      "state": {}
     },
     "b4c1503a968c4b6ba9842a0d6cb1133e": {
      "model_module": "@jupyter-widgets/controls",
      "model_module_version": "1.2.0",
      "model_name": "ButtonStyleModel",
      "state": {}
     },
     "b4d016e83ff8417fab8f1047842be33b": {
      "model_module": "@jupyter-widgets/controls",
      "model_module_version": "1.2.0",
      "model_name": "ButtonModel",
      "state": {
       "layout": "IPY_MODEL_6f78c389a2aa442f9564842959c99ad1",
       "style": "IPY_MODEL_c8a900dda78444929e3e3cbf5ea12ca1"
      }
     },
     "b4eea5af36ac41bca589dc55695b3b5c": {
      "model_module": "@jupyter-widgets/controls",
      "model_module_version": "1.2.0",
      "model_name": "ButtonModel",
      "state": {
       "layout": "IPY_MODEL_5a0b2ea02c204c9488dc76921cdaead1",
       "style": "IPY_MODEL_25f2420b7b4f46228d8b129ed1baaced"
      }
     },
     "b507d6f642aa437298670e936ab22a7b": {
      "model_module": "@jupyter-widgets/controls",
      "model_module_version": "1.2.0",
      "model_name": "DescriptionStyleModel",
      "state": {
       "description_width": ""
      }
     },
     "b5091dced09149eb9f773a30a34452d2": {
      "model_module": "@jupyter-widgets/controls",
      "model_module_version": "1.2.0",
      "model_name": "ButtonModel",
      "state": {
       "layout": "IPY_MODEL_e9e51dc7db2e4dae8f6b58239515ec62",
       "style": "IPY_MODEL_7d72a1d1033c41359719581838d06bca"
      }
     },
     "b509ab7de3f243468f325c73373f6b50": {
      "model_module": "@jupyter-widgets/controls",
      "model_module_version": "1.2.0",
      "model_name": "ButtonModel",
      "state": {
       "layout": "IPY_MODEL_fd308fd37b3641ad899740eed0421df0",
       "style": "IPY_MODEL_f0a088c8d1ea46a4be8acad433947907"
      }
     },
     "b52d8524c2004fd7886f9cff112650a4": {
      "model_module": "@jupyter-widgets/controls",
      "model_module_version": "1.2.0",
      "model_name": "BoxModel",
      "state": {
       "children": [
        "IPY_MODEL_3126ce13a5054dc6a1dde290d9a04aab",
        "IPY_MODEL_c2388f7f5ef443e8b4d81720d5cb9ec2"
       ],
       "layout": "IPY_MODEL_277ead2d41e1436a9574e6d01925f443"
      }
     },
     "b5491c6505ec4f8c8345e90b4a8927ca": {
      "model_module": "@jupyter-widgets/controls",
      "model_module_version": "1.2.0",
      "model_name": "ButtonModel",
      "state": {
       "layout": "IPY_MODEL_0cb597d751ce408487696c6a373114ed",
       "style": "IPY_MODEL_62351eee520a48268962a95507fc9674"
      }
     },
     "b5664b064f914726b12c904682e31d22": {
      "model_module": "@jupyter-widgets/base",
      "model_module_version": "1.0.0",
      "model_name": "LayoutModel",
      "state": {}
     },
     "b56c958adb8346f3a9865a0c014e7b1a": {
      "model_module": "@jupyter-widgets/controls",
      "model_module_version": "1.2.0",
      "model_name": "ButtonStyleModel",
      "state": {}
     },
     "b5769b28f4a4493bbf329a2cbf4f2019": {
      "model_module": "@jupyter-widgets/controls",
      "model_module_version": "1.2.0",
      "model_name": "DropdownModel",
      "state": {
       "_options_labels": [
        "Scrambled",
        "Sunny side up",
        "Over easy"
       ],
       "index": 0,
       "layout": "IPY_MODEL_d45372c1cda441debef3ef0c6204c53c",
       "style": "IPY_MODEL_37c4c026958e4c97bccbf73fd2d3fe57"
      }
     },
     "b57ac78112424874be11541a034f9764": {
      "model_module": "@jupyter-widgets/base",
      "model_module_version": "1.0.0",
      "model_name": "LayoutModel",
      "state": {
       "grid_area": "sidebar",
       "width": "auto"
      }
     },
     "b5a38988704e46ee83b51e2f79037200": {
      "model_module": "@jupyter-widgets/controls",
      "model_module_version": "1.2.0",
      "model_name": "ButtonStyleModel",
      "state": {}
     },
     "b5a3987d5ff549c0840abaa4993a17ca": {
      "model_module": "@jupyter-widgets/controls",
      "model_module_version": "1.2.0",
      "model_name": "ButtonStyleModel",
      "state": {}
     },
     "b5c3667d62d249c8a5d2546f7f413b70": {
      "model_module": "@jupyter-widgets/controls",
      "model_module_version": "1.2.0",
      "model_name": "ButtonStyleModel",
      "state": {
       "button_color": "#888"
      }
     },
     "b625cdd40df74f6a9c27381fbce0ecdc": {
      "model_module": "@jupyter-widgets/base",
      "model_module_version": "1.0.0",
      "model_name": "LayoutModel",
      "state": {
       "grid_template": "auto auto auto auto auto / auto auto"
      }
     },
     "b62ad9f0ec2b4279b56a417792586b78": {
      "model_module": "@jupyter-widgets/base",
      "model_module_version": "1.0.0",
      "model_name": "LayoutModel",
      "state": {
       "grid_template": "'\n    auto auto auto auto / auto auto auto auto\n    "
      }
     },
     "b62e16c941324d578491d7e09db811cb": {
      "model_module": "@jupyter-widgets/controls",
      "model_module_version": "1.2.0",
      "model_name": "ButtonModel",
      "state": {
       "layout": "IPY_MODEL_7aa706c4594f4633bfc813ec6eca6e5c",
       "style": "IPY_MODEL_b5c3667d62d249c8a5d2546f7f413b70"
      }
     },
     "b6529efb604d43c0ba25a50185254d5d": {
      "model_module": "@jupyter-widgets/controls",
      "model_module_version": "1.2.0",
      "model_name": "ButtonModel",
      "state": {
       "description": "(50% width, 80px height) button",
       "layout": "IPY_MODEL_0fe71694d5494f96afd2747ee6cf0650",
       "style": "IPY_MODEL_1e25d78a776343d88f430d45bcbc6263"
      }
     },
     "b664bd8831574972902898526cfd81b6": {
      "model_module": "@jupyter-widgets/controls",
      "model_module_version": "1.2.0",
      "model_name": "ButtonModel",
      "state": {
       "layout": "IPY_MODEL_a0e22ef5a1134a18b8992c7e7045c52c",
       "style": "IPY_MODEL_29ce1c01ee8f47f281145a8c51d0e414"
      }
     },
     "b67cfac68fa14f548811d64b1db28f85": {
      "model_module": "@jupyter-widgets/controls",
      "model_module_version": "1.2.0",
      "model_name": "ButtonModel",
      "state": {
       "button_style": "warning",
       "description": "30",
       "layout": "IPY_MODEL_79e6f20409fa4963aff904a921b6d604",
       "style": "IPY_MODEL_53a3820ed8cc42cf9ae314bbc2c570cb"
      }
     },
     "b6b6d326b35343b2a70f762d7a03ce34": {
      "model_module": "@jupyter-widgets/controls",
      "model_module_version": "1.2.0",
      "model_name": "ButtonModel",
      "state": {
       "button_style": "danger",
       "description": "weight=3; auto",
       "layout": "IPY_MODEL_3735e3ce691d43db8989fa8ba199907e",
       "style": "IPY_MODEL_fdb23b8664f742049ebd5d36511fbea4"
      }
     },
     "b6fb7fe0b43142c086caf27a2f52174a": {
      "model_module": "@jupyter-widgets/controls",
      "model_module_version": "1.2.0",
      "model_name": "ButtonStyleModel",
      "state": {}
     },
     "b700543ff08e4bb3a5ab96b0edb447ff": {
      "model_module": "@jupyter-widgets/controls",
      "model_module_version": "1.2.0",
      "model_name": "ButtonModel",
      "state": {
       "layout": "IPY_MODEL_49f81b3585ff412698273f2404121602",
       "style": "IPY_MODEL_50837b4535744be1830f7416c1467ba3"
      }
     },
     "b781b9a51d594902abbe07353bc61f83": {
      "model_module": "@jupyter-widgets/controls",
      "model_module_version": "1.2.0",
      "model_name": "ButtonModel",
      "state": {
       "layout": "IPY_MODEL_cd00ac948481485281a97b3b91a79e4e",
       "style": "IPY_MODEL_82d520dd6ce4408a97c17e555d036461"
      }
     },
     "b7a05b40dedb4d04998268aa24dc7530": {
      "model_module": "@jupyter-widgets/controls",
      "model_module_version": "1.2.0",
      "model_name": "ButtonModel",
      "state": {
       "layout": "IPY_MODEL_bfea69d00b7047ae9fc2c9c9406858ad",
       "style": "IPY_MODEL_23db6c31aba14cfa82ddab82054c5358"
      }
     },
     "b7a12dffdc9c4d72b7c088567ce7c8cf": {
      "model_module": "@jupyter-widgets/controls",
      "model_module_version": "1.2.0",
      "model_name": "ButtonModel",
      "state": {
       "layout": "IPY_MODEL_eb7654fb08d943f0b831617fe5458ddb",
       "style": "IPY_MODEL_e017c76df62142ec9b04a60d6e923e57"
      }
     },
     "b7a6c0c1468f4f96950c8bddde9875ba": {
      "model_module": "@jupyter-widgets/controls",
      "model_module_version": "1.2.0",
      "model_name": "ButtonStyleModel",
      "state": {}
     },
     "b7fa459955c948709b99acdb2ad6e81b": {
      "model_module": "@jupyter-widgets/controls",
      "model_module_version": "1.2.0",
      "model_name": "ButtonStyleModel",
      "state": {
       "button_color": "#77A"
      }
     },
     "b80c0238f1134a0da5e5047e326979e8": {
      "model_module": "@jupyter-widgets/controls",
      "model_module_version": "1.2.0",
      "model_name": "ButtonModel",
      "state": {
       "description": "Footer",
       "layout": "IPY_MODEL_cea38ca39887429596bc2f47674aab09",
       "style": "IPY_MODEL_6593fdfd629f433ea8a97f18f44f64af"
      }
     },
     "b86cd600b8344dae9203fe4694b00921": {
      "model_module": "@jupyter-widgets/controls",
      "model_module_version": "1.2.0",
      "model_name": "ButtonModel",
      "state": {
       "button_style": "warning",
       "description": "12",
       "layout": "IPY_MODEL_963f958a6a3049a3b012ec8484fb898f",
       "style": "IPY_MODEL_cd2793feed414718a7a196baf2cc94d9"
      }
     },
     "b884e484a4a74e8e9690804b69625a0e": {
      "model_module": "@jupyter-widgets/controls",
      "model_module_version": "1.2.0",
      "model_name": "ButtonModel",
      "state": {
       "layout": "IPY_MODEL_f5b417d7e1df4155948ccc11e2f1e644",
       "style": "IPY_MODEL_f67dcf175a15496494146607d8c05e53"
      }
     },
     "b8a58385ae644644916dd0a8bf7e9149": {
      "model_module": "@jupyter-widgets/controls",
      "model_module_version": "1.2.0",
      "model_name": "ButtonModel",
      "state": {
       "layout": "IPY_MODEL_838146113b404f3cab0775e9ec2fb331",
       "style": "IPY_MODEL_f8a7fdb438b64b40baf51792dd9337b5"
      }
     },
     "b8afaa38c9354d4dbf1266cc8760cc48": {
      "model_module": "@jupyter-widgets/controls",
      "model_module_version": "1.2.0",
      "model_name": "ButtonModel",
      "state": {
       "layout": "IPY_MODEL_838146113b404f3cab0775e9ec2fb331",
       "style": "IPY_MODEL_ad7c81d268b54595a0d6affd00bb4f28"
      }
     },
     "b8c510d2b17d42c1846e26b2b3290752": {
      "model_module": "@jupyter-widgets/controls",
      "model_module_version": "1.2.0",
      "model_name": "ButtonModel",
      "state": {
       "layout": "IPY_MODEL_edb5edbb1e334fd6a8a6f4e36526261c",
       "style": "IPY_MODEL_0debe83240dc4cdcab00896dfbf2725f"
      }
     },
     "b8e1e184e56541a18e2635e4f82f13ca": {
      "model_module": "@jupyter-widgets/controls",
      "model_module_version": "1.2.0",
      "model_name": "ButtonModel",
      "state": {
       "button_style": "warning",
       "description": "35",
       "layout": "IPY_MODEL_963f958a6a3049a3b012ec8484fb898f",
       "style": "IPY_MODEL_931cea5bf70b4d7ba58c1e270e33ab9c"
      }
     },
     "b8fd7f21ad854cb487d08a5be7a59b9c": {
      "model_module": "@jupyter-widgets/controls",
      "model_module_version": "1.2.0",
      "model_name": "GridBoxModel",
      "state": {
       "children": [
        "IPY_MODEL_9da9900b46584124ae307a81eff3d6c6",
        "IPY_MODEL_25fc2934c05b487fbf98adcbaad09d8f",
        "IPY_MODEL_0dde1e3beecd4a5d9b22a781bd4dc322",
        "IPY_MODEL_ab8769af68364d82b37a9f3b6cbc786b",
        "IPY_MODEL_94eb99732d3b41cca21059dd81bfef83",
        "IPY_MODEL_cdd58cef1bd041aabe736398a15161bf",
        "IPY_MODEL_b4d016e83ff8417fab8f1047842be33b",
        "IPY_MODEL_2ae58c4de006474b82ddc358fd8f1418"
       ],
       "layout": "IPY_MODEL_5e32ef9cf8db4020ae69488f690c58c2"
      }
     },
     "b9452345388241f286b46807f193cb9e": {
      "model_module": "@jupyter-widgets/controls",
      "model_module_version": "1.2.0",
      "model_name": "ButtonStyleModel",
      "state": {}
     },
     "b9827710d09541439ed0ea58528de8cc": {
      "model_module": "@jupyter-widgets/controls",
      "model_module_version": "1.2.0",
      "model_name": "ButtonModel",
      "state": {
       "layout": "IPY_MODEL_df9e2e0507484692b334d2df271d390d",
       "style": "IPY_MODEL_763e871be91b44d09ca2f50b58569d99"
      }
     },
     "b98d705c5c184f2690f31758788c021f": {
      "model_module": "@jupyter-widgets/controls",
      "model_module_version": "1.2.0",
      "model_name": "ButtonStyleModel",
      "state": {}
     },
     "b9a0efd37ecb4214b17474645e169c98": {
      "model_module": "@jupyter-widgets/base",
      "model_module_version": "1.0.0",
      "model_name": "LayoutModel",
      "state": {}
     },
     "b9b75c8860f34dee93d935317ebbd70f": {
      "model_module": "@jupyter-widgets/controls",
      "model_module_version": "1.2.0",
      "model_name": "ButtonModel",
      "state": {
       "layout": "IPY_MODEL_48ed9db4fe0b4c138fe8e94222064098",
       "style": "IPY_MODEL_8ab61040c7ac47e699926195029fac32"
      }
     },
     "b9c54081169a4becbf6c1403a47de0e8": {
      "model_module": "@jupyter-widgets/controls",
      "model_module_version": "1.2.0",
      "model_name": "ButtonModel",
      "state": {
       "layout": "IPY_MODEL_49f81b3585ff412698273f2404121602",
       "style": "IPY_MODEL_cfb0b9cd071348ed9e34efa35a571c03"
      }
     },
     "b9cfdb7a16264ba6aa7bc9391d512f3e": {
      "model_module": "@jupyter-widgets/controls",
      "model_module_version": "1.2.0",
      "model_name": "ButtonStyleModel",
      "state": {}
     },
     "b9e98823f645484fafca75a4396d538b": {
      "model_module": "@jupyter-widgets/base",
      "model_module_version": "1.0.0",
      "model_name": "LayoutModel",
      "state": {
       "flex": "1 1 auto",
       "width": "auto"
      }
     },
     "b9f5abc919074d178b2df3f57523d725": {
      "model_module": "@jupyter-widgets/controls",
      "model_module_version": "1.2.0",
      "model_name": "ButtonStyleModel",
      "state": {}
     },
     "b9f8d7b200504e3f97a34be912abab70": {
      "model_module": "@jupyter-widgets/controls",
      "model_module_version": "1.2.0",
      "model_name": "GridBoxModel",
      "state": {
       "children": [
        "IPY_MODEL_f8a810e2a9394767b31176d28c4d3b50",
        "IPY_MODEL_bfd599588198454290e94d2ca0a83d7a",
        "IPY_MODEL_6fb372f4fe0b493babde251481a19f3f",
        "IPY_MODEL_1b3c7e6ff27e4d1783dbdc989c467cc2",
        "IPY_MODEL_c96fb30661af4ccb92ee7517153558b6",
        "IPY_MODEL_7f72a7433c1346d198ae7c3de2ed797d",
        "IPY_MODEL_112fba56e1964e01a85ddc9cd3f1b3ee",
        "IPY_MODEL_79681d134c494a19b660ad370d4c3c65"
       ],
       "layout": "IPY_MODEL_df87dabe344f4df4b4cc775ca561988e"
      }
     },
     "ba04d4272aa04eeaa97de50ce73adbc7": {
      "model_module": "@jupyter-widgets/controls",
      "model_module_version": "1.2.0",
      "model_name": "ButtonStyleModel",
      "state": {}
     },
     "ba0c71cee2254c2f94bb12facfe8d471": {
      "model_module": "@jupyter-widgets/controls",
      "model_module_version": "1.2.0",
      "model_name": "ButtonModel",
      "state": {
       "layout": "IPY_MODEL_93cf562e131e4a7eacb682fd13e54be7",
       "style": "IPY_MODEL_586f44811a154b24b85462b14eccc8fc"
      }
     },
     "ba2719f6604844fc91679cdfc211d9ce": {
      "model_module": "@jupyter-widgets/controls",
      "model_module_version": "1.2.0",
      "model_name": "ButtonModel",
      "state": {
       "layout": "IPY_MODEL_93cf562e131e4a7eacb682fd13e54be7",
       "style": "IPY_MODEL_2c5e3bfd5b3e41d293f992feb8bcd4e7"
      }
     },
     "ba27c08d7abd4ae4b81af68196806229": {
      "model_module": "@jupyter-widgets/controls",
      "model_module_version": "1.2.0",
      "model_name": "ButtonModel",
      "state": {
       "button_style": "danger",
       "description": "Danger Button",
       "layout": "IPY_MODEL_8d5d9d7839c54c0296342c9d5d9a80d1",
       "style": "IPY_MODEL_ddd0280234144317b63ce140fb444e40"
      }
     },
     "ba3524c819514585913356276fa06cbe": {
      "model_module": "@jupyter-widgets/controls",
      "model_module_version": "1.2.0",
      "model_name": "ButtonStyleModel",
      "state": {
       "button_color": "blue"
      }
     },
     "ba37503c2be443daac4d38e72f23268a": {
      "model_module": "@jupyter-widgets/controls",
      "model_module_version": "1.2.0",
      "model_name": "ButtonModel",
      "state": {
       "layout": "IPY_MODEL_71edbc4e034840e2a9927c2487c68700",
       "style": "IPY_MODEL_e7f4b0a3cbc24a40a55d04b1827165e9"
      }
     },
     "ba42bf01dfce4da78721f46164a451dd": {
      "model_module": "@jupyter-widgets/controls",
      "model_module_version": "1.2.0",
      "model_name": "ButtonStyleModel",
      "state": {
       "button_color": "blue"
      }
     },
     "ba5e6942a3e84114ad277e77275fbec8": {
      "model_module": "@jupyter-widgets/controls",
      "model_module_version": "1.2.0",
      "model_name": "ButtonModel",
      "state": {
       "button_style": "warning",
       "description": "11",
       "layout": "IPY_MODEL_963f958a6a3049a3b012ec8484fb898f",
       "style": "IPY_MODEL_21a5fcc34e784633b5fa36206f3645b5"
      }
     },
     "ba633c7797884fefb7eeadb230ecddb4": {
      "model_module": "@jupyter-widgets/controls",
      "model_module_version": "1.2.0",
      "model_name": "ButtonStyleModel",
      "state": {}
     },
     "ba6c1ece4afc444eb180c4686adf8249": {
      "model_module": "@jupyter-widgets/base",
      "model_module_version": "1.0.0",
      "model_name": "LayoutModel",
      "state": {}
     },
     "ba71d3f98b674ea79e24219bdb2f16c4": {
      "model_module": "@jupyter-widgets/controls",
      "model_module_version": "1.2.0",
      "model_name": "ButtonStyleModel",
      "state": {}
     },
     "ba86794a91474a239b55c3eeee7afffb": {
      "model_module": "@jupyter-widgets/controls",
      "model_module_version": "1.2.0",
      "model_name": "ButtonStyleModel",
      "state": {}
     },
     "ba8ee3e15c2746e39a83d7e26a704c6b": {
      "model_module": "@jupyter-widgets/controls",
      "model_module_version": "1.2.0",
      "model_name": "ButtonModel",
      "state": {
       "layout": "IPY_MODEL_0644b7b8372048b8bdbd9a2fb6cbe839",
       "style": "IPY_MODEL_22d68066b4964df58ee9ce69e38506ba"
      }
     },
     "ba9a45119a2b471981feacecc6f1ca6c": {
      "model_module": "@jupyter-widgets/controls",
      "model_module_version": "1.2.0",
      "model_name": "ButtonModel",
      "state": {
       "layout": "IPY_MODEL_97f59d9afbe840f3a0be0c37d5e84ae8",
       "style": "IPY_MODEL_4bbffed757e34d98b461b8bc0f1d23c4"
      }
     },
     "ba9f6457476842b9bcd7699d86df3213": {
      "model_module": "@jupyter-widgets/controls",
      "model_module_version": "1.2.0",
      "model_name": "ButtonStyleModel",
      "state": {}
     },
     "baa4caacfc1e4564bfeff236202361db": {
      "model_module": "@jupyter-widgets/controls",
      "model_module_version": "1.2.0",
      "model_name": "ButtonStyleModel",
      "state": {}
     },
     "bade876d6c9a4bd593e0b4e8d79bec78": {
      "model_module": "@jupyter-widgets/controls",
      "model_module_version": "1.2.0",
      "model_name": "ButtonStyleModel",
      "state": {}
     },
     "bb0c2afe24934321959658c8656e7df3": {
      "model_module": "@jupyter-widgets/controls",
      "model_module_version": "1.2.0",
      "model_name": "SliderStyleModel",
      "state": {
       "description_width": ""
      }
     },
     "bb0f0041b64446318ef89ac788e4c744": {
      "model_module": "@jupyter-widgets/controls",
      "model_module_version": "1.2.0",
      "model_name": "GridBoxModel",
      "state": {
       "children": [
        "IPY_MODEL_44b0259aa8f0484681e1fd003ad1a0b1",
        "IPY_MODEL_d7ffb17c4d674aed8237249860617552",
        "IPY_MODEL_760079cdcd8040138ab4ca406cc87db2",
        "IPY_MODEL_eae720ce374e4a159a4dd196d499296c",
        "IPY_MODEL_168a1494d2e140fd85a553441665852c",
        "IPY_MODEL_d4e88f3810aa4b9f98bef2eab2067ad9",
        "IPY_MODEL_6b835d73ef264c67b97f5cb0b4970d75",
        "IPY_MODEL_b8c510d2b17d42c1846e26b2b3290752"
       ],
       "layout": "IPY_MODEL_fc1b3145e1394527b7c63556ea17ee1c"
      }
     },
     "bb513be7901a4b8ea5859bd96213facb": {
      "model_module": "@jupyter-widgets/base",
      "model_module_version": "1.0.0",
      "model_name": "LayoutModel",
      "state": {
       "grid_area": "sidebar",
       "width": "auto"
      }
     },
     "bb6446c672d244978a7eedb51e07bb56": {
      "model_module": "@jupyter-widgets/controls",
      "model_module_version": "1.2.0",
      "model_name": "ButtonModel",
      "state": {
       "layout": "IPY_MODEL_cd50e4eac43d4b9f8fff10571a9d0d69",
       "style": "IPY_MODEL_f6ad98a676324b70b9be196293356fa4"
      }
     },
     "bbd3ab09d02b472691a3530b20b9ca3d": {
      "model_module": "@jupyter-widgets/controls",
      "model_module_version": "1.2.0",
      "model_name": "ButtonStyleModel",
      "state": {}
     },
     "bbda3c2a05874ba280b11a82b3bd8c38": {
      "model_module": "@jupyter-widgets/controls",
      "model_module_version": "1.2.0",
      "model_name": "ButtonModel",
      "state": {
       "layout": "IPY_MODEL_bca42cda5863431094ba3b2b4642113f",
       "style": "IPY_MODEL_0c39fb286c1b4b3cb2694058cd4f33cf"
      }
     },
     "bbe71df4cfd14324bcd6b1f66f81b398": {
      "model_module": "@jupyter-widgets/controls",
      "model_module_version": "1.2.0",
      "model_name": "SliderStyleModel",
      "state": {
       "description_width": "",
       "handle_color": "lightblue"
      }
     },
     "bc071a1a4ccf4f3b927bcea0a7343595": {
      "model_module": "@jupyter-widgets/controls",
      "model_module_version": "1.2.0",
      "model_name": "ButtonModel",
      "state": {
       "layout": "IPY_MODEL_838146113b404f3cab0775e9ec2fb331",
       "style": "IPY_MODEL_4f65be82889b4c629cef3154e1bfdaec"
      }
     },
     "bc1016a4077e4d83b9d0a2d82da9782d": {
      "model_module": "@jupyter-widgets/controls",
      "model_module_version": "1.2.0",
      "model_name": "ButtonStyleModel",
      "state": {}
     },
     "bc280158cbc14f4fac3c4c044821fbd7": {
      "model_module": "@jupyter-widgets/controls",
      "model_module_version": "1.2.0",
      "model_name": "ButtonModel",
      "state": {
       "layout": "IPY_MODEL_6f40ca184b52431fb129559993d708e0",
       "style": "IPY_MODEL_e9ab615766dc44c1a85205d8860b565c"
      }
     },
     "bc3e2014309b4f1c94f8769c56eb9971": {
      "model_module": "@jupyter-widgets/base",
      "model_module_version": "1.0.0",
      "model_name": "LayoutModel",
      "state": {
       "grid_template": "'\n    [row1-start] \"header header header\" 25px [row1-end]\n    [row2-start] \"footer footer footer\" 25px [row2-end]\n    / auto 50px auto;\n    "
      }
     },
     "bc4001c1af0343e781e6bd523bba40e4": {
      "model_module": "@jupyter-widgets/controls",
      "model_module_version": "1.2.0",
      "model_name": "ButtonModel",
      "state": {
       "layout": "IPY_MODEL_e4466a6f4f724f0695c817a3cef77d97",
       "style": "IPY_MODEL_b0219376f85743879e299364b5c29a7a"
      }
     },
     "bc548230c8904d52a42205aaf0f733dd": {
      "model_module": "@jupyter-widgets/controls",
      "model_module_version": "1.2.0",
      "model_name": "ButtonModel",
      "state": {
       "layout": "IPY_MODEL_75548641bb744f758cb16a10d7854dd4",
       "style": "IPY_MODEL_6337a760241f476a9608b5672b52f313"
      }
     },
     "bc685864e9ed4d41b9c99b3fb2dadd6b": {
      "model_module": "@jupyter-widgets/controls",
      "model_module_version": "1.2.0",
      "model_name": "ButtonStyleModel",
      "state": {}
     },
     "bc85acca37084c1c924cbe2da758a162": {
      "model_module": "@jupyter-widgets/controls",
      "model_module_version": "1.2.0",
      "model_name": "ButtonModel",
      "state": {
       "button_style": "warning",
       "description": "20",
       "layout": "IPY_MODEL_e20ec9c5c01e485bbfa90160b80eb8f4",
       "style": "IPY_MODEL_9d9b126055ac47559f8b4d126d8c8535"
      }
     },
     "bca42cda5863431094ba3b2b4642113f": {
      "model_module": "@jupyter-widgets/base",
      "model_module_version": "1.0.0",
      "model_name": "LayoutModel",
      "state": {
       "height": "60px",
       "width": "auto"
      }
     },
     "bca5d89425e64e2184c47c27fec1ff3b": {
      "model_module": "@jupyter-widgets/controls",
      "model_module_version": "1.2.0",
      "model_name": "ButtonModel",
      "state": {
       "layout": "IPY_MODEL_09bbe1f1fc7b4c5cb813271d906a80af",
       "style": "IPY_MODEL_ba633c7797884fefb7eeadb230ecddb4"
      }
     },
     "bca6ea5f2ce044c482c5cb725bc38d83": {
      "model_module": "@jupyter-widgets/controls",
      "model_module_version": "1.2.0",
      "model_name": "ButtonStyleModel",
      "state": {}
     },
     "bccf8a4a12614c9b98a26fdccac2f9b5": {
      "model_module": "@jupyter-widgets/base",
      "model_module_version": "1.0.0",
      "model_name": "LayoutModel",
      "state": {}
     },
     "bcd5247cf7f0430f90e23f95c9704c42": {
      "model_module": "@jupyter-widgets/controls",
      "model_module_version": "1.2.0",
      "model_name": "ButtonModel",
      "state": {
       "layout": "IPY_MODEL_9a5bfd31f11548d6af73683d0b8fcf4f",
       "style": "IPY_MODEL_91c6c3de4a0d483fb2e9b13cec6bc52b"
      }
     },
     "bce3abae2cc941ee82facb88470e3775": {
      "model_module": "@jupyter-widgets/controls",
      "model_module_version": "1.2.0",
      "model_name": "ButtonStyleModel",
      "state": {}
     },
     "bd032ec0085648d8b4bee7b4b2e75fe2": {
      "model_module": "@jupyter-widgets/base",
      "model_module_version": "1.0.0",
      "model_name": "LayoutModel",
      "state": {
       "height": "auto",
       "width": "auto"
      }
     },
     "bd187d5dfc9647a2b19646cf818c2981": {
      "model_module": "@jupyter-widgets/base",
      "model_module_version": "1.0.0",
      "model_name": "LayoutModel",
      "state": {}
     },
     "bd29eb110fb140c7af16afbad00a89c3": {
      "model_module": "@jupyter-widgets/controls",
      "model_module_version": "1.2.0",
      "model_name": "ButtonModel",
      "state": {
       "button_style": "danger",
       "description": "weight=3; 0%",
       "layout": "IPY_MODEL_55cf90b894644948a4bd4b8138a23bbf",
       "style": "IPY_MODEL_09a03adbcf8f441a8384b903236e760e"
      }
     },
     "bd2a12f373c8454c8f79d84940289f44": {
      "model_module": "@jupyter-widgets/base",
      "model_module_version": "1.0.0",
      "model_name": "LayoutModel",
      "state": {}
     },
     "bd5648a7c84f49ae950cf67ea0eda03c": {
      "model_module": "@jupyter-widgets/controls",
      "model_module_version": "1.2.0",
      "model_name": "ButtonModel",
      "state": {
       "layout": "IPY_MODEL_f86d4870a5e5471b93aeb7079cd2992c",
       "style": "IPY_MODEL_529c6d814a0d4f6aa72449ceed5ca9f6"
      }
     },
     "bd573b05722a48ef9182b7292aa14b0e": {
      "model_module": "@jupyter-widgets/controls",
      "model_module_version": "1.2.0",
      "model_name": "ButtonStyleModel",
      "state": {}
     },
     "bd5b1a4567a8482582943ebb468cfee4": {
      "model_module": "@jupyter-widgets/controls",
      "model_module_version": "1.2.0",
      "model_name": "ButtonStyleModel",
      "state": {}
     },
     "bd5bbba112e346b6bf7a7772eb862ce0": {
      "model_module": "@jupyter-widgets/controls",
      "model_module_version": "1.2.0",
      "model_name": "ButtonStyleModel",
      "state": {}
     },
     "bdf8366c39d349938b2a0cb1911d3ef6": {
      "model_module": "@jupyter-widgets/controls",
      "model_module_version": "1.2.0",
      "model_name": "ButtonModel",
      "state": {
       "button_style": "warning",
       "description": "11",
       "layout": "IPY_MODEL_d2db15f9d1834946bd4923f3faf2a54f",
       "style": "IPY_MODEL_d240b1f431bd4186a310fa6924188552"
      }
     },
     "bdfcd8412c704beb8ea63bd4238ffe8d": {
      "model_module": "@jupyter-widgets/controls",
      "model_module_version": "1.2.0",
      "model_name": "ButtonStyleModel",
      "state": {}
     },
     "be0856cd18914ecd9c2df2e2c82e3b9b": {
      "model_module": "@jupyter-widgets/controls",
      "model_module_version": "1.2.0",
      "model_name": "ButtonModel",
      "state": {
       "button_style": "danger",
       "description": "battery",
       "layout": "IPY_MODEL_8a7e4bc6abe848128c923435e7f6d56f",
       "style": "IPY_MODEL_1db6765265ac45ccb4b073480aecc938"
      }
     },
     "be0e73cce55740b684f49ccac9d71bfa": {
      "model_module": "@jupyter-widgets/controls",
      "model_module_version": "1.2.0",
      "model_name": "IntSliderModel",
      "state": {
       "description": "A too long description",
       "layout": "IPY_MODEL_f756cd6d63b74f11a277eb74b4fcdc0f",
       "style": "IPY_MODEL_5b79e89827f240b3ab9657aab4295679"
      }
     },
     "be241b3db3164678961a247be443c5d0": {
      "model_module": "@jupyter-widgets/base",
      "model_module_version": "1.0.0",
      "model_name": "LayoutModel",
      "state": {
       "align_items": "stretch",
       "display": "flex",
       "flex_flow": "row",
       "width": "70%"
      }
     },
     "be46001663fb4ce89ef8178c2ff3bffe": {
      "model_module": "@jupyter-widgets/controls",
      "model_module_version": "1.2.0",
      "model_name": "ButtonStyleModel",
      "state": {
       "button_color": "darkseagreen"
      }
     },
     "be4f5bdc71744edc8bebe2e143af825a": {
      "model_module": "@jupyter-widgets/base",
      "model_module_version": "1.0.0",
      "model_name": "LayoutModel",
      "state": {
       "height": "80px",
       "width": "50%"
      }
     },
     "be5e0fb283264f1685a91858c9174871": {
      "model_module": "@jupyter-widgets/controls",
      "model_module_version": "1.2.0",
      "model_name": "ButtonStyleModel",
      "state": {}
     },
     "be61b0b5106246a183d91c189e2e0414": {
      "model_module": "@jupyter-widgets/controls",
      "model_module_version": "1.2.0",
      "model_name": "ButtonModel",
      "state": {
       "layout": "IPY_MODEL_54dc1791cb77472c8ca601c93d0b0fe1",
       "style": "IPY_MODEL_d165f93377114e11bf88a279f1c36200"
      }
     },
     "be653629aa29423784128a69c45046b8": {
      "model_module": "@jupyter-widgets/base",
      "model_module_version": "1.0.0",
      "model_name": "LayoutModel",
      "state": {}
     },
     "be77939224194478be1b435ef278d050": {
      "model_module": "@jupyter-widgets/controls",
      "model_module_version": "1.2.0",
      "model_name": "BoxModel",
      "state": {
       "children": [
        "IPY_MODEL_871557464aab43e89dbfc8a37efb4de1",
        "IPY_MODEL_9317d80cff394508bca0618416248579",
        "IPY_MODEL_50a86bb15f75421b9c2adaab2084ec0b",
        "IPY_MODEL_8f3976da977348adbf47681e7f7bfa79"
       ],
       "layout": "IPY_MODEL_7841f40ddc1d46bd88e233249a2d60b8"
      }
     },
     "be8f6ac50ce1484b854927f357ff1f54": {
      "model_module": "@jupyter-widgets/controls",
      "model_module_version": "1.2.0",
      "model_name": "ButtonModel",
      "state": {
       "layout": "IPY_MODEL_e4466a6f4f724f0695c817a3cef77d97",
       "style": "IPY_MODEL_4b8141ce3b424d899e1f6d301086ad48"
      }
     },
     "becb235eb2104cdaae0eb387a1f69da3": {
      "model_module": "@jupyter-widgets/controls",
      "model_module_version": "1.2.0",
      "model_name": "ButtonStyleModel",
      "state": {}
     },
     "becf0778d1874c25b0bb91e440d39b71": {
      "model_module": "@jupyter-widgets/controls",
      "model_module_version": "1.2.0",
      "model_name": "ButtonStyleModel",
      "state": {}
     },
     "bede99f9274544dfbb243b8b691d14c0": {
      "model_module": "@jupyter-widgets/base",
      "model_module_version": "1.0.0",
      "model_name": "LayoutModel",
      "state": {}
     },
     "bf0c61677f5e4aee9784dd39a68f1163": {
      "model_module": "@jupyter-widgets/controls",
      "model_module_version": "1.2.0",
      "model_name": "ButtonModel",
      "state": {
       "description": "Main",
       "layout": "IPY_MODEL_452ef82d48ea4a7aa6d82647ce8c69aa",
       "style": "IPY_MODEL_42b3b02cf74e4b02ac9a387846dacb6e"
      }
     },
     "bf1350fcff954d1fb9b5dff5705124b5": {
      "model_module": "@jupyter-widgets/controls",
      "model_module_version": "1.2.0",
      "model_name": "ButtonModel",
      "state": {
       "button_style": "warning",
       "description": "2",
       "layout": "IPY_MODEL_a810a994ec8c404f8136c2e39def56aa",
       "style": "IPY_MODEL_ed1064fc32f341988c0c7d9eaecd253d"
      }
     },
     "bf14d09f8ad1466aa359499b2fbcad42": {
      "model_module": "@jupyter-widgets/controls",
      "model_module_version": "1.2.0",
      "model_name": "ButtonStyleModel",
      "state": {}
     },
     "bf31e8cab2f44756b337d9c23a338da3": {
      "model_module": "@jupyter-widgets/controls",
      "model_module_version": "1.2.0",
      "model_name": "ButtonModel",
      "state": {
       "layout": "IPY_MODEL_0092c073e9a448b1b99ac9470c49fef5",
       "style": "IPY_MODEL_101af60977754f42a8ad99ca2da51b42"
      }
     },
     "bf35a523c3f74738ba0debcd2e3ffd68": {
      "model_module": "@jupyter-widgets/base",
      "model_module_version": "1.0.0",
      "model_name": "LayoutModel",
      "state": {
       "grid_template": "auto / auto auto auto auto auto"
      }
     },
     "bf402f56ee604bdda7e2ab8006518a65": {
      "model_module": "@jupyter-widgets/controls",
      "model_module_version": "1.2.0",
      "model_name": "ButtonModel",
      "state": {
       "layout": "IPY_MODEL_ea3cf23de0bb417ca82629fa0f59746d",
       "style": "IPY_MODEL_0b82e7adef8b4095a3a64907a27c9264"
      }
     },
     "bf4cb34ac9b7472da20c30d5b5962758": {
      "model_module": "@jupyter-widgets/controls",
      "model_module_version": "1.2.0",
      "model_name": "ButtonModel",
      "state": {
       "layout": "IPY_MODEL_fab719789b8e45a592a40bdcb0d6d5da",
       "style": "IPY_MODEL_1eb43f0e5654483ba27a3eab000aca8a"
      }
     },
     "bf7e1d0be0af476abf1ae5022ac82f89": {
      "model_module": "@jupyter-widgets/controls",
      "model_module_version": "1.2.0",
      "model_name": "ButtonStyleModel",
      "state": {
       "button_color": "green"
      }
     },
     "bf8119bfc78d46b0a2807e658194f3c1": {
      "model_module": "@jupyter-widgets/controls",
      "model_module_version": "1.2.0",
      "model_name": "ButtonModel",
      "state": {
       "layout": "IPY_MODEL_13e0059cd680446a8dbed4b733138cf5",
       "style": "IPY_MODEL_62970e40a51d4456bef4bf5ba64f5b65"
      }
     },
     "bf9638242d5943cb80a4230425fe544c": {
      "model_module": "@jupyter-widgets/base",
      "model_module_version": "1.0.0",
      "model_name": "LayoutModel",
      "state": {}
     },
     "bfb6637d5acd4029aeb81da2396dce8e": {
      "model_module": "@jupyter-widgets/base",
      "model_module_version": "1.0.0",
      "model_name": "LayoutModel",
      "state": {}
     },
     "bfcaa8a78fa2429bb9abdb1d74648d07": {
      "model_module": "@jupyter-widgets/controls",
      "model_module_version": "1.2.0",
      "model_name": "ButtonModel",
      "state": {
       "button_style": "warning",
       "description": "28",
       "layout": "IPY_MODEL_16df380d38fb47a2bbb217b953037b65",
       "style": "IPY_MODEL_1a41b745823e498cbe9d44527779d29f"
      }
     },
     "bfd599588198454290e94d2ca0a83d7a": {
      "model_module": "@jupyter-widgets/controls",
      "model_module_version": "1.2.0",
      "model_name": "ButtonModel",
      "state": {
       "layout": "IPY_MODEL_a922650c84614ed9b053f3c346caf79d",
       "style": "IPY_MODEL_9d22f3c96417453f90c2a86f9d4c11e7"
      }
     },
     "bfdca4fd846b4e979ecb029349c6e19a": {
      "model_module": "@jupyter-widgets/base",
      "model_module_version": "1.0.0",
      "model_name": "LayoutModel",
      "state": {
       "width": "auto"
      }
     },
     "bfe010fc640e4377b2a807ba6150e3da": {
      "model_module": "@jupyter-widgets/controls",
      "model_module_version": "1.2.0",
      "model_name": "ButtonModel",
      "state": {
       "layout": "IPY_MODEL_1c81b91358154c19ab0e8986a32d5733",
       "style": "IPY_MODEL_3069b50d5f50471d996f3af93cdd764d"
      }
     },
     "bfe225cf5a414a1885b7b7b8f850ef1c": {
      "model_module": "@jupyter-widgets/controls",
      "model_module_version": "1.2.0",
      "model_name": "ButtonStyleModel",
      "state": {}
     },
     "bfe61caab164441d821648443d2dec11": {
      "model_module": "@jupyter-widgets/controls",
      "model_module_version": "1.2.0",
      "model_name": "ButtonModel",
      "state": {
       "button_style": "warning",
       "description": "11",
       "layout": "IPY_MODEL_a810a994ec8c404f8136c2e39def56aa",
       "style": "IPY_MODEL_6fd19c67ee694f25b60e8c6901c7e377"
      }
     },
     "bfea69d00b7047ae9fc2c9c9406858ad": {
      "model_module": "@jupyter-widgets/base",
      "model_module_version": "1.0.0",
      "model_name": "LayoutModel",
      "state": {}
     },
     "bfeb3c6efee54ae3bc1f801670f7d42d": {
      "model_module": "@jupyter-widgets/base",
      "model_module_version": "1.0.0",
      "model_name": "LayoutModel",
      "state": {
       "grid_template": "auto / auto auto auto auto"
      }
     },
     "bff2aa1d5b2440a29bd3d36a8d1be2a6": {
      "model_module": "@jupyter-widgets/base",
      "model_module_version": "1.0.0",
      "model_name": "LayoutModel",
      "state": {}
     },
     "c027f7571ea64f938ced0a48846a2eef": {
      "model_module": "@jupyter-widgets/controls",
      "model_module_version": "1.2.0",
      "model_name": "ButtonModel",
      "state": {
       "layout": "IPY_MODEL_01ae67175dea44bfa21ca0cbc48be329",
       "style": "IPY_MODEL_f30fc93e9b134b17ada927c4e08725f9"
      }
     },
     "c03c741e43734fd5835c9ce2101ea321": {
      "model_module": "@jupyter-widgets/controls",
      "model_module_version": "1.2.0",
      "model_name": "ButtonStyleModel",
      "state": {}
     },
     "c04d50aa3274422f8071a2ba57f00f56": {
      "model_module": "@jupyter-widgets/controls",
      "model_module_version": "1.2.0",
      "model_name": "ButtonModel",
      "state": {
       "button_style": "warning",
       "description": "0",
       "layout": "IPY_MODEL_963f958a6a3049a3b012ec8484fb898f",
       "style": "IPY_MODEL_ba71d3f98b674ea79e24219bdb2f16c4"
      }
     },
     "c05a60ec2da04b3295662fca788a1abc": {
      "model_module": "@jupyter-widgets/controls",
      "model_module_version": "1.2.0",
      "model_name": "DescriptionStyleModel",
      "state": {
       "description_width": ""
      }
     },
     "c06584b4df274993b73b6da9f8b15e2d": {
      "model_module": "@jupyter-widgets/base",
      "model_module_version": "1.0.0",
      "model_name": "LayoutModel",
      "state": {
       "grid_gap": "5px 7px",
       "grid_template_columns": "100px 50px 100px",
       "grid_template_rows": "80px auto 80px",
       "width": "50%"
      }
     },
     "c0685683a1cd4fa7b27be83ee2421384": {
      "model_module": "@jupyter-widgets/controls",
      "model_module_version": "1.2.0",
      "model_name": "ButtonModel",
      "state": {
       "layout": "IPY_MODEL_3e4e67e55d064e8fa34459e3fd93622d",
       "style": "IPY_MODEL_9d4c8498e0ad4ae5aee853d82b057db5"
      }
     },
     "c082fe1a78e5489796cc66b441e0f7ad": {
      "model_module": "@jupyter-widgets/base",
      "model_module_version": "1.0.0",
      "model_name": "LayoutModel",
      "state": {}
     },
     "c098d59919c842649c7e9a469c6ed9c6": {
      "model_module": "@jupyter-widgets/controls",
      "model_module_version": "1.2.0",
      "model_name": "ButtonModel",
      "state": {
       "button_style": "warning",
       "description": "25",
       "layout": "IPY_MODEL_963f958a6a3049a3b012ec8484fb898f",
       "style": "IPY_MODEL_0aa1aae1601449e59286b13b4a88825c"
      }
     },
     "c0bf0d037fd3449baee5d09e58883c5c": {
      "model_module": "@jupyter-widgets/controls",
      "model_module_version": "1.2.0",
      "model_name": "DropdownModel",
      "state": {
       "_options_labels": [
        "Scrambled",
        "Sunny side up",
        "Over easy"
       ],
       "index": 0,
       "layout": "IPY_MODEL_0b77316c545a4dfd8c3138756eb5e873",
       "style": "IPY_MODEL_c7be4c9ecb4249a69e03213ba8a9ba8d"
      }
     },
     "c0d7c0548b4d4aa895e6ae540f2cf276": {
      "model_module": "@jupyter-widgets/controls",
      "model_module_version": "1.2.0",
      "model_name": "GridBoxModel",
      "state": {
       "children": [
        "IPY_MODEL_b1b4a999656549ef9692d3111c4c1a67",
        "IPY_MODEL_b17d503f6cec425cbcabb35ad3e0cb18",
        "IPY_MODEL_da1e9e356fb943889dd6e2a16ca08aac",
        "IPY_MODEL_9c0de5612ced4cad88af674179232db4",
        "IPY_MODEL_90a702ff0fea49f08dd0d6e43b78a2da",
        "IPY_MODEL_8ace901d0001407c9c12d1f19cc838a5",
        "IPY_MODEL_eebce49c7658418f816e740ddaec903f",
        "IPY_MODEL_d8a7a91bd54d46fe9c8841748d905d87"
       ],
       "layout": "IPY_MODEL_dd713d95c5b44315ac7f92a095b077ea"
      }
     },
     "c102c485377b4c8787057d40d05cd674": {
      "model_module": "@jupyter-widgets/controls",
      "model_module_version": "1.2.0",
      "model_name": "ButtonModel",
      "state": {
       "layout": "IPY_MODEL_104c1bfded49449794e8408e206b484c",
       "style": "IPY_MODEL_a5452f76affd40e29157d09254c19d60"
      }
     },
     "c10490d77d264ce683a4ee405164a138": {
      "model_module": "@jupyter-widgets/base",
      "model_module_version": "1.0.0",
      "model_name": "LayoutModel",
      "state": {
       "align_items": "stretch",
       "border": "solid",
       "display": "flex",
       "flex_flow": "column",
       "width": "50%"
      }
     },
     "c1051cf96aa449d797b6d8bbab851eb9": {
      "model_module": "@jupyter-widgets/controls",
      "model_module_version": "1.2.0",
      "model_name": "ButtonStyleModel",
      "state": {}
     },
     "c107269f6a604c1ab41f047818417209": {
      "model_module": "@jupyter-widgets/controls",
      "model_module_version": "1.2.0",
      "model_name": "ButtonStyleModel",
      "state": {}
     },
     "c10e83594c944ee4b017f6c5bdba01a5": {
      "model_module": "@jupyter-widgets/controls",
      "model_module_version": "1.2.0",
      "model_name": "ButtonStyleModel",
      "state": {}
     },
     "c122ca651733435aa7a96fea5c56450a": {
      "model_module": "@jupyter-widgets/controls",
      "model_module_version": "1.2.0",
      "model_name": "ButtonStyleModel",
      "state": {}
     },
     "c12421abf08048bc9603372a674bf403": {
      "model_module": "@jupyter-widgets/controls",
      "model_module_version": "1.2.0",
      "model_name": "ButtonModel",
      "state": {
       "layout": "IPY_MODEL_01ae67175dea44bfa21ca0cbc48be329",
       "style": "IPY_MODEL_f30fc93e9b134b17ada927c4e08725f9"
      }
     },
     "c12773f3bd894b5683f68e539b4de139": {
      "model_module": "@jupyter-widgets/controls",
      "model_module_version": "1.2.0",
      "model_name": "VBoxModel",
      "state": {
       "children": [
        "IPY_MODEL_987ef8c2e47c4a87b0e9fc1a826288e3",
        "IPY_MODEL_29ad24b768004faba39c1750a5bf9afb"
       ],
       "layout": "IPY_MODEL_72907f20d4cc4b9eb02d7e0503093434"
      }
     },
     "c148b386cc4a4d46ae83ebafedd69bba": {
      "model_module": "@jupyter-widgets/base",
      "model_module_version": "1.0.0",
      "model_name": "LayoutModel",
      "state": {}
     },
     "c14b0f3235ae482cb8e326d7043cf4e8": {
      "model_module": "@jupyter-widgets/base",
      "model_module_version": "1.0.0",
      "model_name": "LayoutModel",
      "state": {}
     },
     "c14b21a93490487db1d84628dae88f62": {
      "model_module": "@jupyter-widgets/controls",
      "model_module_version": "1.2.0",
      "model_name": "ButtonStyleModel",
      "state": {}
     },
     "c14e6f9447d94603a0148c29b7bc6906": {
      "model_module": "@jupyter-widgets/controls",
      "model_module_version": "1.2.0",
      "model_name": "GridBoxModel",
      "state": {
       "children": [
        "IPY_MODEL_034930c97f4a4f2ab7c6d350371378fa",
        "IPY_MODEL_a5cc95f744ce4c1b96fedc46a6dfc3e4",
        "IPY_MODEL_b781b9a51d594902abbe07353bc61f83",
        "IPY_MODEL_6cc09107ea974e7da0448efd2a65d278",
        "IPY_MODEL_acc966dfb494410fb3ba1acd094f4c83",
        "IPY_MODEL_3631e2ce41d14479b636aeada065d8c8",
        "IPY_MODEL_1ffecd31d26e4b38afcae7ab7ea5036e",
        "IPY_MODEL_93e2a0c0c570489d988599f48632d7b3",
        "IPY_MODEL_1a226e148d214326a220029538a3dce7",
        "IPY_MODEL_c33f049731de43738f40f93cbce5f653"
       ],
       "layout": "IPY_MODEL_4d404eaaf9dc401e9436dc9943c90e7d"
      }
     },
     "c188999c2e034616bfe9aae7c6307aa9": {
      "model_module": "@jupyter-widgets/base",
      "model_module_version": "1.0.0",
      "model_name": "LayoutModel",
      "state": {}
     },
     "c1ab01ae176946099fb63b9840e9ef61": {
      "model_module": "@jupyter-widgets/base",
      "model_module_version": "1.0.0",
      "model_name": "LayoutModel",
      "state": {
       "align_items": "stretch",
       "display": "flex",
       "flex_flow": "row",
       "width": "70%"
      }
     },
     "c1da64b1c7c748d7b14f4039b19e93f3": {
      "model_module": "@jupyter-widgets/controls",
      "model_module_version": "1.2.0",
      "model_name": "ButtonModel",
      "state": {
       "layout": "IPY_MODEL_9a5bfd31f11548d6af73683d0b8fcf4f",
       "style": "IPY_MODEL_712622b841e24f779a9b2f711b6ebf44"
      }
     },
     "c1ef139620f34d02a3129c0e0338271e": {
      "model_module": "@jupyter-widgets/controls",
      "model_module_version": "1.2.0",
      "model_name": "ButtonStyleModel",
      "state": {}
     },
     "c2005b32dab1408390f8c77eafc7e7c8": {
      "model_module": "@jupyter-widgets/controls",
      "model_module_version": "1.2.0",
      "model_name": "ButtonStyleModel",
      "state": {
       "button_color": "#77A"
      }
     },
     "c218a86908514a829d1dfacfca3c30c6": {
      "model_module": "@jupyter-widgets/controls",
      "model_module_version": "1.2.0",
      "model_name": "ButtonModel",
      "state": {
       "layout": "IPY_MODEL_09bbe1f1fc7b4c5cb813271d906a80af",
       "style": "IPY_MODEL_adad8d1d69b546038159a3dc13300611"
      }
     },
     "c21ca6494f8a46a3845bee02ac83b9f7": {
      "model_module": "@jupyter-widgets/controls",
      "model_module_version": "1.2.0",
      "model_name": "DescriptionStyleModel",
      "state": {
       "description_width": ""
      }
     },
     "c2388f7f5ef443e8b4d81720d5cb9ec2": {
      "model_module": "@jupyter-widgets/controls",
      "model_module_version": "1.2.0",
      "model_name": "DropdownModel",
      "state": {
       "_options_labels": [
        "Scrambled",
        "Sunny side up",
        "Over easy"
       ],
       "index": 0,
       "layout": "IPY_MODEL_be653629aa29423784128a69c45046b8",
       "style": "IPY_MODEL_7edc609d32f2424e9657e61e3d7aeed0"
      }
     },
     "c25d83149a4240cbb8297749e503bbd2": {
      "model_module": "@jupyter-widgets/controls",
      "model_module_version": "1.2.0",
      "model_name": "ButtonStyleModel",
      "state": {}
     },
     "c264e2c69b0d4f0e8c66a815b282a66f": {
      "model_module": "@jupyter-widgets/controls",
      "model_module_version": "1.2.0",
      "model_name": "ButtonModel",
      "state": {
       "button_style": "warning",
       "description": "8",
       "layout": "IPY_MODEL_16df380d38fb47a2bbb217b953037b65",
       "style": "IPY_MODEL_86f2ec92bd5d42a895f58920ec1b27a2"
      }
     },
     "c265ff2db0654b298d8a137827fceae0": {
      "model_module": "@jupyter-widgets/controls",
      "model_module_version": "1.2.0",
      "model_name": "LabelModel",
      "state": {
       "layout": "IPY_MODEL_88b25d9ece3e453f8ecbd4f9e2511770",
       "style": "IPY_MODEL_9a5ca9ba99a74067839ff444d5e51b15",
       "value": "A too long description"
      }
     },
     "c26960d128bc498aa84cddd8969174de": {
      "model_module": "@jupyter-widgets/controls",
      "model_module_version": "1.2.0",
      "model_name": "BoxModel",
      "state": {
       "children": [
        "IPY_MODEL_1871184aae1742928363b3543c5d5542",
        "IPY_MODEL_b52d8524c2004fd7886f9cff112650a4",
        "IPY_MODEL_f0be8b44e57c4f179fbd47fb8a9967a9",
        "IPY_MODEL_e438271b4c484417a08416980458b1f3"
       ],
       "layout": "IPY_MODEL_1451c9d35c40428a8e9c2e39468087ac"
      }
     },
     "c26ed703748b4c07b53f00db86b4c85f": {
      "model_module": "@jupyter-widgets/controls",
      "model_module_version": "1.2.0",
      "model_name": "ButtonStyleModel",
      "state": {
       "button_color": "darkseagreen"
      }
     },
     "c279811a5698412db0753d087dbc70e9": {
      "model_module": "@jupyter-widgets/controls",
      "model_module_version": "1.2.0",
      "model_name": "ButtonStyleModel",
      "state": {}
     },
     "c29168683c794fa2a686e61e339a4c8a": {
      "model_module": "@jupyter-widgets/controls",
      "model_module_version": "1.2.0",
      "model_name": "ButtonModel",
      "state": {
       "layout": "IPY_MODEL_3a3f68ca71bc47e7877bb1b9073933ed",
       "style": "IPY_MODEL_a48e869b141145daa475d1e4ed21c5aa"
      }
     },
     "c2970cfeb5fe4eb28d1caf0e82f99f25": {
      "model_module": "@jupyter-widgets/controls",
      "model_module_version": "1.2.0",
      "model_name": "ButtonModel",
      "state": {
       "layout": "IPY_MODEL_09bbe1f1fc7b4c5cb813271d906a80af",
       "style": "IPY_MODEL_e81c3fdbfec6424499e5205cf85262aa"
      }
     },
     "c2ac5f4a144d409d84a42c4218d602fb": {
      "model_module": "@jupyter-widgets/controls",
      "model_module_version": "1.2.0",
      "model_name": "ButtonModel",
      "state": {
       "button_style": "warning",
       "description": "9",
       "layout": "IPY_MODEL_a810a994ec8c404f8136c2e39def56aa",
       "style": "IPY_MODEL_7a3c1c85685d40e9b9d05d40de6861f8"
      }
     },
     "c2ccee1d3dc444fe8231e665216a71fa": {
      "model_module": "@jupyter-widgets/controls",
      "model_module_version": "1.2.0",
      "model_name": "ButtonModel",
      "state": {
       "layout": "IPY_MODEL_2847cc6e71494c5a86d07475d49deca7",
       "style": "IPY_MODEL_4166913d892742ab964adc58623c75e4"
      }
     },
     "c2de3764856349a8986ad3c26db3b81b": {
      "model_module": "@jupyter-widgets/controls",
      "model_module_version": "1.2.0",
      "model_name": "ButtonModel",
      "state": {
       "layout": "IPY_MODEL_ab4f1d5f0c594bbc9c04549f977b9f0f",
       "style": "IPY_MODEL_fd35848b424c49eba656211dcb505c20"
      }
     },
     "c310ade0009f4a1b8455cb78ef29f19d": {
      "model_module": "@jupyter-widgets/controls",
      "model_module_version": "1.2.0",
      "model_name": "DescriptionStyleModel",
      "state": {
       "description_width": ""
      }
     },
     "c323144d7c9d41f5aa4d18644d49f1b8": {
      "model_module": "@jupyter-widgets/controls",
      "model_module_version": "1.2.0",
      "model_name": "ButtonStyleModel",
      "state": {}
     },
     "c329269987ad4476bf8e7cbcdac29f43": {
      "model_module": "@jupyter-widgets/controls",
      "model_module_version": "1.2.0",
      "model_name": "ButtonStyleModel",
      "state": {}
     },
     "c32ded09df874d65a86818ea605c3227": {
      "model_module": "@jupyter-widgets/controls",
      "model_module_version": "1.2.0",
      "model_name": "ButtonModel",
      "state": {
       "button_style": "warning",
       "description": "13",
       "layout": "IPY_MODEL_d2db15f9d1834946bd4923f3faf2a54f",
       "style": "IPY_MODEL_bd5bbba112e346b6bf7a7772eb862ce0"
      }
     },
     "c33f049731de43738f40f93cbce5f653": {
      "model_module": "@jupyter-widgets/controls",
      "model_module_version": "1.2.0",
      "model_name": "ButtonModel",
      "state": {
       "layout": "IPY_MODEL_cd00ac948481485281a97b3b91a79e4e",
       "style": "IPY_MODEL_3d54651b9275431cb9739a4326d6646a"
      }
     },
     "c361f2ef6007404a8e51b3b083a5bed5": {
      "model_module": "@jupyter-widgets/controls",
      "model_module_version": "1.2.0",
      "model_name": "ButtonStyleModel",
      "state": {
       "button_color": "lightgreen"
      }
     },
     "c3669415dadc456e8837b96103f72720": {
      "model_module": "@jupyter-widgets/controls",
      "model_module_version": "1.2.0",
      "model_name": "ButtonModel",
      "state": {
       "layout": "IPY_MODEL_2847cc6e71494c5a86d07475d49deca7",
       "style": "IPY_MODEL_4166913d892742ab964adc58623c75e4"
      }
     },
     "c39d3a10e1884c89a9894e1052b2ec79": {
      "model_module": "@jupyter-widgets/controls",
      "model_module_version": "1.2.0",
      "model_name": "ButtonModel",
      "state": {
       "description": "Main",
       "layout": "IPY_MODEL_6d968510dac4476baa4e1bee2b551ac9",
       "style": "IPY_MODEL_fb33485c3bb44c6a8664358dbdd843f6"
      }
     },
     "c3be25475795492cb85da41186c0e43a": {
      "model_module": "@jupyter-widgets/controls",
      "model_module_version": "1.2.0",
      "model_name": "ButtonStyleModel",
      "state": {}
     },
     "c3d6cb4b64f945a6a453af117d5a1ecb": {
      "model_module": "@jupyter-widgets/controls",
      "model_module_version": "1.2.0",
      "model_name": "ButtonModel",
      "state": {
       "layout": "IPY_MODEL_3a0f1a853467480d9cc2058903b5d835",
       "style": "IPY_MODEL_1d3258ba1ac24d7daed5fedab76a99c1"
      }
     },
     "c3ed8d0bbf7147fd88f7bed8cea951f9": {
      "model_module": "@jupyter-widgets/controls",
      "model_module_version": "1.2.0",
      "model_name": "SliderStyleModel",
      "state": {
       "description_width": "initial"
      }
     },
     "c3ee81d98fb946c59655116df3a42b7a": {
      "model_module": "@jupyter-widgets/controls",
      "model_module_version": "1.2.0",
      "model_name": "ButtonModel",
      "state": {
       "layout": "IPY_MODEL_df299558f7fe43b2b5de00f8a5202d32",
       "style": "IPY_MODEL_5ca0db911dcb4e7fbd69e459e7a64aed"
      }
     },
     "c40adfe1bc34469589d80c7319ef6a31": {
      "model_module": "@jupyter-widgets/controls",
      "model_module_version": "1.2.0",
      "model_name": "ButtonModel",
      "state": {
       "layout": "IPY_MODEL_d9d52397cd8c4c10b7db3ba3c2ebd41e",
       "style": "IPY_MODEL_88272af385e74f018a86413a06bb2d00"
      }
     },
     "c417aee785554344879c1006c7f4c71a": {
      "model_module": "@jupyter-widgets/controls",
      "model_module_version": "1.2.0",
      "model_name": "ButtonStyleModel",
      "state": {}
     },
     "c42b93197d5a43f69365dd7b2dfb3afc": {
      "model_module": "@jupyter-widgets/controls",
      "model_module_version": "1.2.0",
      "model_name": "ButtonModel",
      "state": {
       "layout": "IPY_MODEL_706d95b63d0144b6a672412f3a219036",
       "style": "IPY_MODEL_2da5b9a3959d48c2b38621971999d651"
      }
     },
     "c436a962964b45b089ec77696f781e20": {
      "model_module": "@jupyter-widgets/controls",
      "model_module_version": "1.2.0",
      "model_name": "ButtonModel",
      "state": {
       "button_style": "warning",
       "description": "19",
       "layout": "IPY_MODEL_79e6f20409fa4963aff904a921b6d604",
       "style": "IPY_MODEL_e576314fbaf14125b159f4f6827a87d8"
      }
     },
     "c4473b5a28214e9e9a04affa176297cd": {
      "model_module": "@jupyter-widgets/controls",
      "model_module_version": "1.2.0",
      "model_name": "ButtonStyleModel",
      "state": {}
     },
     "c44c6f0fc341452c9cedb0d94c64125a": {
      "model_module": "@jupyter-widgets/controls",
      "model_module_version": "1.2.0",
      "model_name": "ButtonStyleModel",
      "state": {}
     },
     "c456d571a334456db39be20e19a6a94d": {
      "model_module": "@jupyter-widgets/controls",
      "model_module_version": "1.2.0",
      "model_name": "ButtonModel",
      "state": {
       "button_style": "warning",
       "description": "39",
       "layout": "IPY_MODEL_79e6f20409fa4963aff904a921b6d604",
       "style": "IPY_MODEL_f20b486790ef4fbf8695dca1d4f27835"
      }
     },
     "c45dc896704944ba91ae757924e64edb": {
      "model_module": "@jupyter-widgets/controls",
      "model_module_version": "1.2.0",
      "model_name": "VBoxModel",
      "state": {
       "children": [
        "IPY_MODEL_9aa5194711a44bf1aa3ace7b7f128c29",
        "IPY_MODEL_58f844a4226f4522a107450db56f5a05"
       ],
       "layout": "IPY_MODEL_6e3201399c284e1f88e65b8f7036f9d9"
      }
     },
     "c471640e80c341ee8f7c0cbd4916450a": {
      "model_module": "@jupyter-widgets/controls",
      "model_module_version": "1.2.0",
      "model_name": "VBoxModel",
      "state": {
       "children": [
        "IPY_MODEL_3450be0e4d2a46369452c028af6dbc3e",
        "IPY_MODEL_3a818d02af9c448193b6ab9bd53abebb"
       ],
       "layout": "IPY_MODEL_563c6d5a31b94c2381fe88772acd18cc"
      }
     },
     "c4ae0f0399054b399ffd361108b2f6e5": {
      "model_module": "@jupyter-widgets/controls",
      "model_module_version": "1.2.0",
      "model_name": "ButtonModel",
      "state": {
       "layout": "IPY_MODEL_ab4f1d5f0c594bbc9c04549f977b9f0f",
       "style": "IPY_MODEL_08785d807ef947d1bbc98cc58fe8246e"
      }
     },
     "c4b0a151e3d948749aa7875659335168": {
      "model_module": "@jupyter-widgets/base",
      "model_module_version": "1.0.0",
      "model_name": "LayoutModel",
      "state": {}
     },
     "c4b54d610dae46ffa4b77f06bd036c65": {
      "model_module": "@jupyter-widgets/controls",
      "model_module_version": "1.2.0",
      "model_name": "ButtonStyleModel",
      "state": {}
     },
     "c4b98e2f52fd483fb0a707569298c297": {
      "model_module": "@jupyter-widgets/controls",
      "model_module_version": "1.2.0",
      "model_name": "ButtonModel",
      "state": {
       "button_style": "warning",
       "description": "8",
       "layout": "IPY_MODEL_e20ec9c5c01e485bbfa90160b80eb8f4",
       "style": "IPY_MODEL_51b3382ea39e44d4b0dc9eef71e15e85"
      }
     },
     "c4cfb1dc058040119275f511354e0626": {
      "model_module": "@jupyter-widgets/controls",
      "model_module_version": "1.2.0",
      "model_name": "ButtonStyleModel",
      "state": {}
     },
     "c4f1b757b4ae473cb0a582efc3a635c6": {
      "model_module": "@jupyter-widgets/controls",
      "model_module_version": "1.2.0",
      "model_name": "GridBoxModel",
      "state": {
       "children": [
        "IPY_MODEL_6e91bd5061f74f5d972998097204f9e3",
        "IPY_MODEL_29fc9c9fe90a4d98851d8c84963b729c",
        "IPY_MODEL_c0685683a1cd4fa7b27be83ee2421384",
        "IPY_MODEL_7f8da018e742473bafbb8dfc74cc1d83",
        "IPY_MODEL_72ccac26c98140b2a6bbb7c96f39ed1e",
        "IPY_MODEL_b101ddb08e684127ba229f02d68a9024",
        "IPY_MODEL_4f24154102e24bc893a189eaf1674314",
        "IPY_MODEL_55c7c3b893254c838fe06f6d0ddb3700"
       ],
       "layout": "IPY_MODEL_de8a7e648bed4b94a85a5d3a11b8dd94"
      }
     },
     "c52629849a9046a785d160c78c6e72ee": {
      "model_module": "@jupyter-widgets/controls",
      "model_module_version": "1.2.0",
      "model_name": "ButtonModel",
      "state": {
       "layout": "IPY_MODEL_9a5bfd31f11548d6af73683d0b8fcf4f",
       "style": "IPY_MODEL_f4f9d23ceb774328b1c5934016eb94d6"
      }
     },
     "c55a476c2aba4315aa585797572a28e4": {
      "model_module": "@jupyter-widgets/controls",
      "model_module_version": "1.2.0",
      "model_name": "ButtonModel",
      "state": {
       "layout": "IPY_MODEL_36a441e29f00483985e00d555e6108b7",
       "style": "IPY_MODEL_0683f0f4f50141c48a21ae10572b3fc1"
      }
     },
     "c55ad89730d9414aa8920558f7b0c530": {
      "model_module": "@jupyter-widgets/controls",
      "model_module_version": "1.2.0",
      "model_name": "ButtonModel",
      "state": {
       "layout": "IPY_MODEL_df9e2e0507484692b334d2df271d390d",
       "style": "IPY_MODEL_4c8f630c291e4951ab04f514ef25d326"
      }
     },
     "c582923f5ec84e11a8cdd360b361015f": {
      "model_module": "@jupyter-widgets/controls",
      "model_module_version": "1.2.0",
      "model_name": "ButtonModel",
      "state": {
       "layout": "IPY_MODEL_a997cf87cb444be1a8febdf657c22511",
       "style": "IPY_MODEL_5ae1bcb62ed64b4da64f6b32218bee4a"
      }
     },
     "c5a928dcd0ff4d0ab4a20e9591b5fdc4": {
      "model_module": "@jupyter-widgets/controls",
      "model_module_version": "1.2.0",
      "model_name": "ButtonStyleModel",
      "state": {}
     },
     "c5bbd99760284cfeaee783676cffbdf3": {
      "model_module": "@jupyter-widgets/controls",
      "model_module_version": "1.2.0",
      "model_name": "ButtonStyleModel",
      "state": {}
     },
     "c5c9e26d5207492481d414f928baecc8": {
      "model_module": "@jupyter-widgets/controls",
      "model_module_version": "1.2.0",
      "model_name": "ButtonStyleModel",
      "state": {}
     },
     "c5d34f0378d943d9ba3a63fe0fe2f405": {
      "model_module": "@jupyter-widgets/controls",
      "model_module_version": "1.2.0",
      "model_name": "ButtonModel",
      "state": {
       "layout": "IPY_MODEL_f5b417d7e1df4155948ccc11e2f1e644",
       "style": "IPY_MODEL_09142be2787f498d95f54e1204841ff8"
      }
     },
     "c61e229ad9314789a624056b0c44d660": {
      "model_module": "@jupyter-widgets/controls",
      "model_module_version": "1.2.0",
      "model_name": "ButtonStyleModel",
      "state": {}
     },
     "c65f52e3d2c74d57bc7653c751170092": {
      "model_module": "@jupyter-widgets/controls",
      "model_module_version": "1.2.0",
      "model_name": "ButtonModel",
      "state": {
       "description": "Header",
       "layout": "IPY_MODEL_0f2f5f1dc9c9441e8cef8d5fe3a70697",
       "style": "IPY_MODEL_0d589a9906c84270af26d49aba59943e"
      }
     },
     "c66d6c30f1c9459789e9c57d531c8ce5": {
      "model_module": "@jupyter-widgets/base",
      "model_module_version": "1.0.0",
      "model_name": "LayoutModel",
      "state": {
       "height": "auto",
       "width": "auto"
      }
     },
     "c6e03fb0b24a4ea78826e1f7e62b592a": {
      "model_module": "@jupyter-widgets/base",
      "model_module_version": "1.0.0",
      "model_name": "LayoutModel",
      "state": {}
     },
     "c6e6de48e08d44be988df046fbfade13": {
      "model_module": "@jupyter-widgets/controls",
      "model_module_version": "1.2.0",
      "model_name": "ButtonModel",
      "state": {
       "layout": "IPY_MODEL_0644b7b8372048b8bdbd9a2fb6cbe839",
       "style": "IPY_MODEL_22d68066b4964df58ee9ce69e38506ba"
      }
     },
     "c707e8e6fbb3439e8b032e4564a8729e": {
      "model_module": "@jupyter-widgets/controls",
      "model_module_version": "1.2.0",
      "model_name": "ButtonModel",
      "state": {
       "button_style": "danger",
       "description": "weight=1; 0%",
       "layout": "IPY_MODEL_40f7570b30834984b56c444d5cdf05da",
       "style": "IPY_MODEL_967541ec25814b528934c8222f85448e"
      }
     },
     "c71412151fef414897021c7d55942e58": {
      "model_module": "@jupyter-widgets/controls",
      "model_module_version": "1.2.0",
      "model_name": "ButtonStyleModel",
      "state": {
       "button_color": "blue"
      }
     },
     "c719766508db4a15a939cc4cfee2a6c1": {
      "model_module": "@jupyter-widgets/base",
      "model_module_version": "1.0.0",
      "model_name": "LayoutModel",
      "state": {
       "height": "auto",
       "width": "auto"
      }
     },
     "c734c563f22c4b6997e54bf405e3bb93": {
      "model_module": "@jupyter-widgets/base",
      "model_module_version": "1.0.0",
      "model_name": "LayoutModel",
      "state": {}
     },
     "c742b7bf7cc54fc7880be807a667bfa5": {
      "model_module": "@jupyter-widgets/controls",
      "model_module_version": "1.2.0",
      "model_name": "ButtonStyleModel",
      "state": {}
     },
     "c744e574de424185afa884e7cd0bc948": {
      "model_module": "@jupyter-widgets/controls",
      "model_module_version": "1.2.0",
      "model_name": "ButtonStyleModel",
      "state": {
       "button_color": "blue"
      }
     },
     "c754f46cd2c149dfaea01589c3ce0113": {
      "model_module": "@jupyter-widgets/controls",
      "model_module_version": "1.2.0",
      "model_name": "ButtonStyleModel",
      "state": {}
     },
     "c75c4be776e247c0867db4056724eded": {
      "model_module": "@jupyter-widgets/controls",
      "model_module_version": "1.2.0",
      "model_name": "ButtonModel",
      "state": {
       "layout": "IPY_MODEL_0092c073e9a448b1b99ac9470c49fef5",
       "style": "IPY_MODEL_279828d62fc442de80669ec8e68903c5"
      }
     },
     "c77cefd752004dd0b6c1ea02a62f8c45": {
      "model_module": "@jupyter-widgets/base",
      "model_module_version": "1.0.0",
      "model_name": "LayoutModel",
      "state": {
       "grid_template": "'\n    50px 50px 50px 50px / auto\n    "
      }
     },
     "c77f98b4f863481daab4e69c0147719b": {
      "model_module": "@jupyter-widgets/controls",
      "model_module_version": "1.2.0",
      "model_name": "ButtonModel",
      "state": {
       "button_style": "warning",
       "description": "8",
       "layout": "IPY_MODEL_79e6f20409fa4963aff904a921b6d604",
       "style": "IPY_MODEL_d6f0803eb83f4822ac79a4a5dc594d42"
      }
     },
     "c79a73b1723848bf939750b3aa67a785": {
      "model_module": "@jupyter-widgets/controls",
      "model_module_version": "1.2.0",
      "model_name": "ButtonModel",
      "state": {
       "layout": "IPY_MODEL_a8a4a992eee54af0b1fe3c12946711d2",
       "style": "IPY_MODEL_241d4d6b26484ab2ba9c0662edd70841"
      }
     },
     "c79f6b6a778646f2b6fcf3c2411ce39a": {
      "model_module": "@jupyter-widgets/controls",
      "model_module_version": "1.2.0",
      "model_name": "ButtonModel",
      "state": {
       "layout": "IPY_MODEL_e9e51dc7db2e4dae8f6b58239515ec62",
       "style": "IPY_MODEL_8c0e6de7e2374246bc0a31d16ba9fbe7"
      }
     },
     "c7be4c9ecb4249a69e03213ba8a9ba8d": {
      "model_module": "@jupyter-widgets/controls",
      "model_module_version": "1.2.0",
      "model_name": "DescriptionStyleModel",
      "state": {
       "description_width": ""
      }
     },
     "c7cefc2abbbd4009b18e022201d7c557": {
      "model_module": "@jupyter-widgets/controls",
      "model_module_version": "1.2.0",
      "model_name": "ButtonModel",
      "state": {
       "layout": "IPY_MODEL_706d95b63d0144b6a672412f3a219036",
       "style": "IPY_MODEL_ddcd7fdf071c438dbf42af83c105c3de"
      }
     },
     "c7db165662f74f1993ca63977ea9aff2": {
      "model_module": "@jupyter-widgets/controls",
      "model_module_version": "1.2.0",
      "model_name": "ButtonModel",
      "state": {
       "button_style": "warning",
       "description": "6",
       "layout": "IPY_MODEL_e20ec9c5c01e485bbfa90160b80eb8f4",
       "style": "IPY_MODEL_7cc40d92dfbb43d397fb0300f30aaa16"
      }
     },
     "c7ec96d651e143b28bea28ea7f02cf7d": {
      "model_module": "@jupyter-widgets/controls",
      "model_module_version": "1.2.0",
      "model_name": "ButtonModel",
      "state": {
       "button_style": "warning",
       "description": "17",
       "layout": "IPY_MODEL_16df380d38fb47a2bbb217b953037b65",
       "style": "IPY_MODEL_6852ba35278a4241bc7558a7d0cadfc7"
      }
     },
     "c857e9573e7c40d794210222fa1cfe44": {
      "model_module": "@jupyter-widgets/controls",
      "model_module_version": "1.2.0",
      "model_name": "ButtonModel",
      "state": {
       "layout": "IPY_MODEL_1c81b91358154c19ab0e8986a32d5733",
       "style": "IPY_MODEL_7b3c48ccb67f44c49ad6ac12a42788dc"
      }
     },
     "c869e4913ab64918bc9c343c37750ccb": {
      "model_module": "@jupyter-widgets/controls",
      "model_module_version": "1.2.0",
      "model_name": "ButtonModel",
      "state": {
       "layout": "IPY_MODEL_35e07d15f5c14904936c5a43ba07b967",
       "style": "IPY_MODEL_1673d8f531cc4de896081401b82004e9"
      }
     },
     "c86f3754fbfa42a09f607d9afa620924": {
      "model_module": "@jupyter-widgets/base",
      "model_module_version": "1.0.0",
      "model_name": "LayoutModel",
      "state": {}
     },
     "c8a900dda78444929e3e3cbf5ea12ca1": {
      "model_module": "@jupyter-widgets/controls",
      "model_module_version": "1.2.0",
      "model_name": "ButtonStyleModel",
      "state": {
       "button_color": "#77A"
      }
     },
     "c8a91f900f9f4f7da64b193accc79a77": {
      "model_module": "@jupyter-widgets/controls",
      "model_module_version": "1.2.0",
      "model_name": "DescriptionStyleModel",
      "state": {
       "description_width": ""
      }
     },
     "c8b8989ae326418dbb5e9e458d56aa1e": {
      "model_module": "@jupyter-widgets/controls",
      "model_module_version": "1.2.0",
      "model_name": "ButtonStyleModel",
      "state": {}
     },
     "c8bbf77d8a824f8b961173c026717423": {
      "model_module": "@jupyter-widgets/controls",
      "model_module_version": "1.2.0",
      "model_name": "ButtonModel",
      "state": {
       "button_style": "warning",
       "description": "24",
       "layout": "IPY_MODEL_e20ec9c5c01e485bbfa90160b80eb8f4",
       "style": "IPY_MODEL_dc6d1be49474472fa5091bb4a0d79370"
      }
     },
     "c8c1c6e924ec47b888e50f6ab3a4bd5e": {
      "model_module": "@jupyter-widgets/base",
      "model_module_version": "1.0.0",
      "model_name": "LayoutModel",
      "state": {
       "border": "3px solid black",
       "display": "flex",
       "flex_flow": "row",
       "height": "",
       "overflow_x": "scroll",
       "width": "500px"
      }
     },
     "c9212528ce634c30841b335b8865b6dc": {
      "model_module": "@jupyter-widgets/base",
      "model_module_version": "1.0.0",
      "model_name": "LayoutModel",
      "state": {}
     },
     "c924ee59dc844855b6db2b9418a3c271": {
      "model_module": "@jupyter-widgets/controls",
      "model_module_version": "1.2.0",
      "model_name": "LabelModel",
      "state": {
       "layout": "IPY_MODEL_34c731d625584e6394a07d4a7f03bc6b",
       "style": "IPY_MODEL_1eb64f529e9144aba9d2a59d24233073",
       "value": "A too long description"
      }
     },
     "c927baa9e61b4e918c6ebb209dd512b7": {
      "model_module": "@jupyter-widgets/controls",
      "model_module_version": "1.2.0",
      "model_name": "DescriptionStyleModel",
      "state": {
       "description_width": ""
      }
     },
     "c9280c5c02634ebdae97438b2e2fbd72": {
      "model_module": "@jupyter-widgets/controls",
      "model_module_version": "1.2.0",
      "model_name": "ButtonModel",
      "state": {
       "button_style": "warning",
       "description": "3",
       "layout": "IPY_MODEL_16df380d38fb47a2bbb217b953037b65",
       "style": "IPY_MODEL_68eb70474d8141a18a3a11ff9ebe67ea"
      }
     },
     "c92f5aed641745c6b668009a50e2423f": {
      "model_module": "@jupyter-widgets/controls",
      "model_module_version": "1.2.0",
      "model_name": "ButtonStyleModel",
      "state": {}
     },
     "c957c2fb0a994c84b5451e97d3cd6480": {
      "model_module": "@jupyter-widgets/controls",
      "model_module_version": "1.2.0",
      "model_name": "ButtonModel",
      "state": {
       "layout": "IPY_MODEL_cd50e4eac43d4b9f8fff10571a9d0d69",
       "style": "IPY_MODEL_f6ad98a676324b70b9be196293356fa4"
      }
     },
     "c96fb30661af4ccb92ee7517153558b6": {
      "model_module": "@jupyter-widgets/controls",
      "model_module_version": "1.2.0",
      "model_name": "ButtonModel",
      "state": {
       "layout": "IPY_MODEL_a922650c84614ed9b053f3c346caf79d",
       "style": "IPY_MODEL_9d22f3c96417453f90c2a86f9d4c11e7"
      }
     },
     "c972ca0777634ff881723050d64a5507": {
      "model_module": "@jupyter-widgets/controls",
      "model_module_version": "1.2.0",
      "model_name": "ButtonModel",
      "state": {
       "layout": "IPY_MODEL_838146113b404f3cab0775e9ec2fb331",
       "style": "IPY_MODEL_9b29716445574b7e8f9870794c23cfef"
      }
     },
     "c97b2e68f2c24ba0a25a6ff97327c418": {
      "model_module": "@jupyter-widgets/base",
      "model_module_version": "1.0.0",
      "model_name": "LayoutModel",
      "state": {}
     },
     "c97dde67ad324ed5aef4854783b9ad6b": {
      "model_module": "@jupyter-widgets/base",
      "model_module_version": "1.0.0",
      "model_name": "LayoutModel",
      "state": {
       "flex": "3 1 auto",
       "width": "auto"
      }
     },
     "c9ea692baeb946de96bd3ed36e154abc": {
      "model_module": "@jupyter-widgets/base",
      "model_module_version": "1.0.0",
      "model_name": "LayoutModel",
      "state": {
       "height": "auto",
       "margin": "0",
       "width": "auto"
      }
     },
     "ca73105f48d14db893f01fa925421b69": {
      "model_module": "@jupyter-widgets/controls",
      "model_module_version": "1.2.0",
      "model_name": "ButtonStyleModel",
      "state": {}
     },
     "ca7a92c0a7834a6e8f6f5ec805f4e028": {
      "model_module": "@jupyter-widgets/controls",
      "model_module_version": "1.2.0",
      "model_name": "ButtonStyleModel",
      "state": {}
     },
     "ca878348b33348eeab640f383b789740": {
      "model_module": "@jupyter-widgets/controls",
      "model_module_version": "1.2.0",
      "model_name": "ButtonStyleModel",
      "state": {}
     },
     "ca8e4f97d97b40698a0d0a328c63071f": {
      "model_module": "@jupyter-widgets/controls",
      "model_module_version": "1.2.0",
      "model_name": "ButtonModel",
      "state": {
       "layout": "IPY_MODEL_3a3f68ca71bc47e7877bb1b9073933ed",
       "style": "IPY_MODEL_ba04d4272aa04eeaa97de50ce73adbc7"
      }
     },
     "cab0f445580548acb8ca3f1df1061544": {
      "model_module": "@jupyter-widgets/controls",
      "model_module_version": "1.2.0",
      "model_name": "ButtonModel",
      "state": {
       "layout": "IPY_MODEL_9f404c9c951f486280399c73b82b2eaa",
       "style": "IPY_MODEL_2d81be821dd44dbbb79fa25c6eadb917"
      }
     },
     "cabf50103f0b49b19c7d21f4ff515d6e": {
      "model_module": "@jupyter-widgets/controls",
      "model_module_version": "1.2.0",
      "model_name": "GridBoxModel",
      "state": {
       "children": [
        "IPY_MODEL_ea97ac0495774211b6d016142a004d9c",
        "IPY_MODEL_b05a4ae3d2984cf9afb1452e1e0c6fd6",
        "IPY_MODEL_70e86a823c9943fa897db3ceeb3c745d",
        "IPY_MODEL_17f1be3b211f45a09542136d525a3f4e",
        "IPY_MODEL_9eff936520cd40198d037bf10eb37530",
        "IPY_MODEL_0f7109237b4346e997a2c8d48ea4cf39",
        "IPY_MODEL_44b6f5d64d764cb0a6e244b5bee97a9c",
        "IPY_MODEL_55702fb0fff5483e8384db55c5eabcda",
        "IPY_MODEL_88f3ce78e90e42d1ba9edda5ebf384cc",
        "IPY_MODEL_1576f655b69b4b0cb99fbe1d9018f1c7"
       ],
       "layout": "IPY_MODEL_d14c84fc67e94ead8ed6a19cb7628d8d"
      }
     },
     "cacf6af4fb494b288cc4306d0fbd218c": {
      "model_module": "@jupyter-widgets/controls",
      "model_module_version": "1.2.0",
      "model_name": "ButtonStyleModel",
      "state": {}
     },
     "cad20722c1744544b0646fadeb69d3e4": {
      "model_module": "@jupyter-widgets/base",
      "model_module_version": "1.0.0",
      "model_name": "LayoutModel",
      "state": {}
     },
     "caf2fc3a17a741f09c6639b27dbfa877": {
      "model_module": "@jupyter-widgets/controls",
      "model_module_version": "1.2.0",
      "model_name": "ButtonStyleModel",
      "state": {}
     },
     "caf878459d934da8b4545eb8bb1c2ed5": {
      "model_module": "@jupyter-widgets/controls",
      "model_module_version": "1.2.0",
      "model_name": "ButtonModel",
      "state": {
       "layout": "IPY_MODEL_36a441e29f00483985e00d555e6108b7",
       "style": "IPY_MODEL_0683f0f4f50141c48a21ae10572b3fc1"
      }
     },
     "cafb4af0a418450fbdf29abb8a4037bc": {
      "model_module": "@jupyter-widgets/controls",
      "model_module_version": "1.2.0",
      "model_name": "ButtonModel",
      "state": {
       "layout": "IPY_MODEL_fab719789b8e45a592a40bdcb0d6d5da",
       "style": "IPY_MODEL_ec51008af616464b96a41d5946e4a67e"
      }
     },
     "cb6e2037f2ce4346acfa1623ab0ccba4": {
      "model_module": "@jupyter-widgets/controls",
      "model_module_version": "1.2.0",
      "model_name": "ButtonStyleModel",
      "state": {}
     },
     "cb8f5de16661414cb4dc75f5833dc6ca": {
      "model_module": "@jupyter-widgets/controls",
      "model_module_version": "1.2.0",
      "model_name": "GridBoxModel",
      "state": {
       "children": [
        "IPY_MODEL_1cbebd05f4264c899b954f65e669bb27",
        "IPY_MODEL_f617f72e4db64771820122ff01631b85",
        "IPY_MODEL_4550282314ee411a992e252457061ea6",
        "IPY_MODEL_0e97cf40974745e6ad990eb2507d73f5",
        "IPY_MODEL_caf878459d934da8b4545eb8bb1c2ed5",
        "IPY_MODEL_1a57301cc53d4285bb263fe12a41e113",
        "IPY_MODEL_4163fd99df984755a2ef8d071f59793c",
        "IPY_MODEL_6c129983e19142bbbc2dc8568995e26a",
        "IPY_MODEL_889fbbbc61a048e6aaaf16f80892812e",
        "IPY_MODEL_c55a476c2aba4315aa585797572a28e4"
       ],
       "layout": "IPY_MODEL_67f7e50adeed4ec5874563ede1865cf3"
      }
     },
     "cbcd8bbdeb7246588d5d639db597779a": {
      "model_module": "@jupyter-widgets/base",
      "model_module_version": "1.0.0",
      "model_name": "LayoutModel",
      "state": {
       "flex": "1 1 auto",
       "width": "auto"
      }
     },
     "cc0a2ec9de604f8f91b02e885178e900": {
      "model_module": "@jupyter-widgets/controls",
      "model_module_version": "1.2.0",
      "model_name": "ButtonStyleModel",
      "state": {}
     },
     "cc0b5b6837d64a208102ee5a61410dd8": {
      "model_module": "@jupyter-widgets/base",
      "model_module_version": "1.0.0",
      "model_name": "LayoutModel",
      "state": {}
     },
     "cc1160cdc524467aa39bc4df694bc4f9": {
      "model_module": "@jupyter-widgets/base",
      "model_module_version": "1.0.0",
      "model_name": "LayoutModel",
      "state": {
       "grid_template": "auto / auto auto auto auto auto"
      }
     },
     "cc1ca938848a45ecae3a739b6ae32f0d": {
      "model_module": "@jupyter-widgets/base",
      "model_module_version": "1.0.0",
      "model_name": "LayoutModel",
      "state": {}
     },
     "cc5da32438f24678884d36e86e95fc82": {
      "model_module": "@jupyter-widgets/controls",
      "model_module_version": "1.2.0",
      "model_name": "FloatTextModel",
      "state": {
       "layout": "IPY_MODEL_97d99b127b96437d848064f55860146b",
       "step": null,
       "style": "IPY_MODEL_608f08bdc95f4b568cd5dfba0eb8bd0c"
      }
     },
     "cca4eefc65b942feafe33a1080810b17": {
      "model_module": "@jupyter-widgets/controls",
      "model_module_version": "1.2.0",
      "model_name": "ButtonModel",
      "state": {
       "layout": "IPY_MODEL_af0936b1473e4aa3b0873edc9207c54c",
       "style": "IPY_MODEL_c71412151fef414897021c7d55942e58"
      }
     },
     "ccabdde26ffa41a784d06744c4d9feb6": {
      "model_module": "@jupyter-widgets/controls",
      "model_module_version": "1.2.0",
      "model_name": "ButtonModel",
      "state": {
       "button_style": "warning",
       "description": "34",
       "layout": "IPY_MODEL_16df380d38fb47a2bbb217b953037b65",
       "style": "IPY_MODEL_406010977d7e45908da11fd78966e9ba"
      }
     },
     "ccbfe2e288b3467ab844560b05e1f691": {
      "model_module": "@jupyter-widgets/controls",
      "model_module_version": "1.2.0",
      "model_name": "ButtonStyleModel",
      "state": {
       "button_color": "#77A"
      }
     },
     "ccc8da668a09432d9ca9b1edca031772": {
      "model_module": "@jupyter-widgets/controls",
      "model_module_version": "1.2.0",
      "model_name": "ButtonModel",
      "state": {
       "description": "(50% width, 80px height) button",
       "layout": "IPY_MODEL_be4f5bdc71744edc8bebe2e143af825a",
       "style": "IPY_MODEL_30cc319162154c4fae1a354bd2e566fa"
      }
     },
     "cd00ac948481485281a97b3b91a79e4e": {
      "model_module": "@jupyter-widgets/base",
      "model_module_version": "1.0.0",
      "model_name": "LayoutModel",
      "state": {}
     },
     "cd225b76aedb4e39a9d3b0380cde4647": {
      "model_module": "@jupyter-widgets/controls",
      "model_module_version": "1.2.0",
      "model_name": "ButtonStyleModel",
      "state": {}
     },
     "cd2793feed414718a7a196baf2cc94d9": {
      "model_module": "@jupyter-widgets/controls",
      "model_module_version": "1.2.0",
      "model_name": "ButtonStyleModel",
      "state": {}
     },
     "cd410ed8632644fbbc263c56b23bd604": {
      "model_module": "@jupyter-widgets/controls",
      "model_module_version": "1.2.0",
      "model_name": "ButtonModel",
      "state": {
       "button_style": "danger",
       "description": "battery",
       "layout": "IPY_MODEL_7af483b22721435dbf76e0c2b97da8dc",
       "style": "IPY_MODEL_f2cf2b2d44a24d109dde819bcbf02ea0"
      }
     },
     "cd4e9b29498b473a9b011339f4df3330": {
      "model_module": "@jupyter-widgets/base",
      "model_module_version": "1.0.0",
      "model_name": "LayoutModel",
      "state": {}
     },
     "cd50e4eac43d4b9f8fff10571a9d0d69": {
      "model_module": "@jupyter-widgets/base",
      "model_module_version": "1.0.0",
      "model_name": "LayoutModel",
      "state": {
       "height": "auto",
       "margin": "0",
       "width": "auto"
      }
     },
     "cd50ed6ed9754dcb8a918b6c87349b4c": {
      "model_module": "@jupyter-widgets/controls",
      "model_module_version": "1.2.0",
      "model_name": "ButtonModel",
      "state": {
       "button_style": "warning",
       "description": "10",
       "layout": "IPY_MODEL_79e6f20409fa4963aff904a921b6d604",
       "style": "IPY_MODEL_8a16c3e2e29b4ec3a755bfe0a0be5bbb"
      }
     },
     "cd68cff7639f4367a4869cf03dffda26": {
      "model_module": "@jupyter-widgets/controls",
      "model_module_version": "1.2.0",
      "model_name": "ButtonModel",
      "state": {
       "button_style": "warning",
       "description": "5",
       "layout": "IPY_MODEL_79e6f20409fa4963aff904a921b6d604",
       "style": "IPY_MODEL_88dbce414c684cc7879bfcba534a04b6"
      }
     },
     "cd6e05a80ceb4751b32b13ebd2cb1c04": {
      "model_module": "@jupyter-widgets/controls",
      "model_module_version": "1.2.0",
      "model_name": "IntSliderModel",
      "state": {
       "description": "\\(\\int_0^t f\\)",
       "layout": "IPY_MODEL_3706927be20f43b3b0ded778879338af",
       "style": "IPY_MODEL_5455270e10e34c2daf6e6374ffc230a9"
      }
     },
     "cd82539adc914034ab7829553b84c4f7": {
      "model_module": "@jupyter-widgets/controls",
      "model_module_version": "1.2.0",
      "model_name": "ButtonModel",
      "state": {
       "button_style": "warning",
       "description": "21",
       "layout": "IPY_MODEL_79e6f20409fa4963aff904a921b6d604",
       "style": "IPY_MODEL_3e90cc4ccf7148f79c3801fb6d7ffec5"
      }
     },
     "cd97b71580434563b2a9eca80e3f0539": {
      "model_module": "@jupyter-widgets/controls",
      "model_module_version": "1.2.0",
      "model_name": "ButtonModel",
      "state": {
       "layout": "IPY_MODEL_35ee427b32e64866a89e81a660323818",
       "style": "IPY_MODEL_67b5495b7f7c4bb490b0adcc05a834a3"
      }
     },
     "cd9cb91dd3ac47ce9b7ec071260504a2": {
      "model_module": "@jupyter-widgets/controls",
      "model_module_version": "1.2.0",
      "model_name": "ButtonModel",
      "state": {
       "button_style": "warning",
       "description": "12",
       "layout": "IPY_MODEL_16df380d38fb47a2bbb217b953037b65",
       "style": "IPY_MODEL_3a44ea298681484f89ac54ce4a1a844e"
      }
     },
     "cda5985ca13746a28477e75f758fbf53": {
      "model_module": "@jupyter-widgets/base",
      "model_module_version": "1.0.0",
      "model_name": "LayoutModel",
      "state": {}
     },
     "cda5eefe77db4929aa450d1fa0a142c8": {
      "model_module": "@jupyter-widgets/controls",
      "model_module_version": "1.2.0",
      "model_name": "ButtonStyleModel",
      "state": {}
     },
     "cdb010acc93e4bbcaaf95e4c6cd1111c": {
      "model_module": "@jupyter-widgets/controls",
      "model_module_version": "1.2.0",
      "model_name": "ButtonModel",
      "state": {
       "layout": "IPY_MODEL_027edf707eb9494cb0a1e0da0d528b12",
       "style": "IPY_MODEL_f57f440479d34004ab06b78aee6ef3e9"
      }
     },
     "cdc05c7a473a4c6384b3ae4faafcf1cd": {
      "model_module": "@jupyter-widgets/controls",
      "model_module_version": "1.2.0",
      "model_name": "ButtonModel",
      "state": {
       "layout": "IPY_MODEL_49f81b3585ff412698273f2404121602",
       "style": "IPY_MODEL_8c99575899504a56b26824adb2b1c399"
      }
     },
     "cdd58cef1bd041aabe736398a15161bf": {
      "model_module": "@jupyter-widgets/controls",
      "model_module_version": "1.2.0",
      "model_name": "ButtonModel",
      "state": {
       "layout": "IPY_MODEL_6f78c389a2aa442f9564842959c99ad1",
       "style": "IPY_MODEL_c8a900dda78444929e3e3cbf5ea12ca1"
      }
     },
     "cdda947b551e4d84bfb425f3d0a3ee0b": {
      "model_module": "@jupyter-widgets/controls",
      "model_module_version": "1.2.0",
      "model_name": "ButtonModel",
      "state": {
       "layout": "IPY_MODEL_027edf707eb9494cb0a1e0da0d528b12",
       "style": "IPY_MODEL_d1a94adb0c1a4b069536d97ea6f6ae95"
      }
     },
     "ce0a59191b6243ccbdcc333c9a05d24f": {
      "model_module": "@jupyter-widgets/controls",
      "model_module_version": "1.2.0",
      "model_name": "ButtonStyleModel",
      "state": {}
     },
     "ce0d54c3c10540759d656057c4f6d4da": {
      "model_module": "@jupyter-widgets/controls",
      "model_module_version": "1.2.0",
      "model_name": "ButtonStyleModel",
      "state": {}
     },
     "ce161bec922f4720b76790b303ad078f": {
      "model_module": "@jupyter-widgets/controls",
      "model_module_version": "1.2.0",
      "model_name": "ButtonModel",
      "state": {
       "description": "correct",
       "layout": "IPY_MODEL_1f56cb39e8134e718506db6d40f01fb0",
       "style": "IPY_MODEL_e73f4a3c29184e79bfcdf701e345f287"
      }
     },
     "ce2235be12114b3e8f54bb452fc2732c": {
      "model_module": "@jupyter-widgets/controls",
      "model_module_version": "1.2.0",
      "model_name": "IntSliderModel",
      "state": {
       "description": "Blue handle",
       "layout": "IPY_MODEL_c188999c2e034616bfe9aae7c6307aa9",
       "style": "IPY_MODEL_bbe71df4cfd14324bcd6b1f66f81b398"
      }
     },
     "ce5aee057f6145c69c3961f2f5b0fd2d": {
      "model_module": "@jupyter-widgets/controls",
      "model_module_version": "1.2.0",
      "model_name": "ButtonModel",
      "state": {
       "layout": "IPY_MODEL_2e502d5a102f4844971576e7c918f23b",
       "style": "IPY_MODEL_5835d99d78444391900bdde94dad816d"
      }
     },
     "ce60a122c6ac4344891ed1f8d8938683": {
      "model_module": "@jupyter-widgets/base",
      "model_module_version": "1.0.0",
      "model_name": "LayoutModel",
      "state": {
       "height": "auto",
       "width": "auto"
      }
     },
     "cea38ca39887429596bc2f47674aab09": {
      "model_module": "@jupyter-widgets/base",
      "model_module_version": "1.0.0",
      "model_name": "LayoutModel",
      "state": {
       "grid_area": "footer",
       "width": "auto"
      }
     },
     "cea7b28617054c70b428111d8a7be2c1": {
      "model_module": "@jupyter-widgets/controls",
      "model_module_version": "1.2.0",
      "model_name": "ButtonModel",
      "state": {
       "layout": "IPY_MODEL_64567f913f574abfafda823bec6dad4f",
       "style": "IPY_MODEL_c2005b32dab1408390f8c77eafc7e7c8"
      }
     },
     "cec5369438764aebbcb2f7e9e77333c3": {
      "model_module": "@jupyter-widgets/controls",
      "model_module_version": "1.2.0",
      "model_name": "ButtonStyleModel",
      "state": {
       "button_color": "darkseagreen"
      }
     },
     "ced2d4a8c15d45d2998765bc9975d17a": {
      "model_module": "@jupyter-widgets/controls",
      "model_module_version": "1.2.0",
      "model_name": "ButtonModel",
      "state": {
       "layout": "IPY_MODEL_59b3dcacd40743c5b0a4eab98c2b7714",
       "style": "IPY_MODEL_4944b1fd61234a2ebd8f5647070b6355"
      }
     },
     "cee8ffef76124ea8888b651666bf6186": {
      "model_module": "@jupyter-widgets/controls",
      "model_module_version": "1.2.0",
      "model_name": "ButtonModel",
      "state": {
       "description": "Main",
       "layout": "IPY_MODEL_d0d2eb23035840eeace021913fb2b032",
       "style": "IPY_MODEL_fb946953d9614cc48491ec2363937410"
      }
     },
     "cf035bafdf0040c9b6854c49c1f9e55b": {
      "model_module": "@jupyter-widgets/controls",
      "model_module_version": "1.2.0",
      "model_name": "ButtonModel",
      "state": {
       "layout": "IPY_MODEL_5f93039a824040f6892c5a36aa5b0393",
       "style": "IPY_MODEL_280a7b4663164b4f95384c02c9a37854"
      }
     },
     "cf35f150c6244acdabfa33ae530b3060": {
      "model_module": "@jupyter-widgets/controls",
      "model_module_version": "1.2.0",
      "model_name": "ButtonModel",
      "state": {
       "layout": "IPY_MODEL_df9e2e0507484692b334d2df271d390d",
       "style": "IPY_MODEL_85ce8b4b84834637bdfc22a7a3cba30c"
      }
     },
     "cf387d58f18748a98bb6df3eabb28868": {
      "model_module": "@jupyter-widgets/controls",
      "model_module_version": "1.2.0",
      "model_name": "ButtonModel",
      "state": {
       "button_style": "warning",
       "description": "21",
       "layout": "IPY_MODEL_e20ec9c5c01e485bbfa90160b80eb8f4",
       "style": "IPY_MODEL_8c828fd5268c41ac85776bb78c5085b1"
      }
     },
     "cf528e2db73242cf93443639f8c926ec": {
      "model_module": "@jupyter-widgets/base",
      "model_module_version": "1.0.0",
      "model_name": "LayoutModel",
      "state": {
       "grid_template_areas": "\n            \"header header header header\"\n            \"main main . sidebar \"\n            \"footer footer footer footer\"\n            ",
       "grid_template_columns": "25% 25% 25% 25%",
       "grid_template_rows": "auto auto auto",
       "width": "50%"
      }
     },
     "cf64c3aa7cea4c8db34e1434393f9b6b": {
      "model_module": "@jupyter-widgets/controls",
      "model_module_version": "1.2.0",
      "model_name": "ButtonStyleModel",
      "state": {}
     },
     "cf71dfabe0f248c0a180d8df05dbc5cf": {
      "model_module": "@jupyter-widgets/controls",
      "model_module_version": "1.2.0",
      "model_name": "ButtonStyleModel",
      "state": {}
     },
     "cf828bbae541447ebcd44eead3b0d124": {
      "model_module": "@jupyter-widgets/controls",
      "model_module_version": "1.2.0",
      "model_name": "ButtonStyleModel",
      "state": {}
     },
     "cf8e94812590402d8622fa1c0e81e892": {
      "model_module": "@jupyter-widgets/controls",
      "model_module_version": "1.2.0",
      "model_name": "ButtonModel",
      "state": {
       "button_style": "warning",
       "description": "38",
       "layout": "IPY_MODEL_a810a994ec8c404f8136c2e39def56aa",
       "style": "IPY_MODEL_d366534e1d694157a83beef4ebfa6e1f"
      }
     },
     "cf9e4062deb9483f8652bf0026527752": {
      "model_module": "@jupyter-widgets/controls",
      "model_module_version": "1.2.0",
      "model_name": "ButtonModel",
      "state": {
       "layout": "IPY_MODEL_bfdca4fd846b4e979ecb029349c6e19a",
       "style": "IPY_MODEL_6eb7f2bb9d454316867636c304f16bf2"
      }
     },
     "cfaf142226144c9d84146cec4444995a": {
      "model_module": "@jupyter-widgets/controls",
      "model_module_version": "1.2.0",
      "model_name": "ButtonStyleModel",
      "state": {}
     },
     "cfb0b9cd071348ed9e34efa35a571c03": {
      "model_module": "@jupyter-widgets/controls",
      "model_module_version": "1.2.0",
      "model_name": "ButtonStyleModel",
      "state": {}
     },
     "cfb3f79003c5449b963bdd48522afcb9": {
      "model_module": "@jupyter-widgets/controls",
      "model_module_version": "1.2.0",
      "model_name": "VBoxModel",
      "state": {
       "children": [
        "IPY_MODEL_da62080995d147d48d399fe7d4ea4fac",
        "IPY_MODEL_7bb79a51b63e4cb9a6c24fc73dd71974"
       ],
       "layout": "IPY_MODEL_cad20722c1744544b0646fadeb69d3e4"
      }
     },
     "cfb65fbc1f3943bea2a9a829d302f25b": {
      "model_module": "@jupyter-widgets/base",
      "model_module_version": "1.0.0",
      "model_name": "LayoutModel",
      "state": {}
     },
     "cfb6c2c13bbc4d53990bca7cf78133f1": {
      "model_module": "@jupyter-widgets/controls",
      "model_module_version": "1.2.0",
      "model_name": "ButtonStyleModel",
      "state": {
       "button_color": "blue"
      }
     },
     "cfc1c8bbdec749d1972d014adaa4cd59": {
      "model_module": "@jupyter-widgets/controls",
      "model_module_version": "1.2.0",
      "model_name": "ButtonStyleModel",
      "state": {}
     },
     "cfc7717f61e7459dae1cc5558c1fa9db": {
      "model_module": "@jupyter-widgets/controls",
      "model_module_version": "1.2.0",
      "model_name": "ButtonModel",
      "state": {
       "layout": "IPY_MODEL_253e1eae5e494cbcadab1483336c6e21",
       "style": "IPY_MODEL_4bc78b33527b40b2b81794d45a784027"
      }
     },
     "cfed5a2c99434030be82cbfe8e9af157": {
      "model_module": "@jupyter-widgets/controls",
      "model_module_version": "1.2.0",
      "model_name": "ButtonModel",
      "state": {
       "layout": "IPY_MODEL_2e502d5a102f4844971576e7c918f23b",
       "style": "IPY_MODEL_5835d99d78444391900bdde94dad816d"
      }
     },
     "d000dc7d31ed49c496639dd203f4d586": {
      "model_module": "@jupyter-widgets/controls",
      "model_module_version": "1.2.0",
      "model_name": "ButtonStyleModel",
      "state": {}
     },
     "d01115fc233444888074de65f2d4d8bd": {
      "model_module": "@jupyter-widgets/controls",
      "model_module_version": "1.2.0",
      "model_name": "ButtonModel",
      "state": {
       "button_style": "warning",
       "description": "6",
       "layout": "IPY_MODEL_963f958a6a3049a3b012ec8484fb898f",
       "style": "IPY_MODEL_253b7aafaeb448f3b36c5b7cbdbc2a80"
      }
     },
     "d01abeb187d24927bb61c3e6b44518fd": {
      "model_module": "@jupyter-widgets/controls",
      "model_module_version": "1.2.0",
      "model_name": "ButtonStyleModel",
      "state": {}
     },
     "d037a78f1dac4e6c8a098f2baeecb649": {
      "model_module": "@jupyter-widgets/controls",
      "model_module_version": "1.2.0",
      "model_name": "ButtonModel",
      "state": {
       "button_style": "danger",
       "description": "correct",
       "layout": "IPY_MODEL_5f7d632704bc43f3aec71cf1efb26bdd",
       "style": "IPY_MODEL_93e23fef246846cc96e5266b3b120883"
      }
     },
     "d039b843655945739810eb2013331be2": {
      "model_module": "@jupyter-widgets/controls",
      "model_module_version": "1.2.0",
      "model_name": "ButtonModel",
      "state": {
       "layout": "IPY_MODEL_cd50e4eac43d4b9f8fff10571a9d0d69",
       "style": "IPY_MODEL_f6ad98a676324b70b9be196293356fa4"
      }
     },
     "d03e0191ea1046fdbf85aba48d38024e": {
      "model_module": "@jupyter-widgets/controls",
      "model_module_version": "1.2.0",
      "model_name": "GridBoxModel",
      "state": {
       "children": [
        "IPY_MODEL_b145bffad2004e6490bf118c3885c4f7",
        "IPY_MODEL_120e0bbb438349b1985343dcaadbaec7",
        "IPY_MODEL_9a2da46bfc4848c19d7a0204b0635f4d",
        "IPY_MODEL_5587be8c3951486ca49672f1a52f6332",
        "IPY_MODEL_bf8119bfc78d46b0a2807e658194f3c1",
        "IPY_MODEL_58f65cbfa12f4edb9c01631cd9fd6807",
        "IPY_MODEL_1b2609e98c3b4a1ba3dcdd96a2ff2689",
        "IPY_MODEL_8d8bf18b502b49eca362e7ec1946258e",
        "IPY_MODEL_1f8f83d2eef8494cbd9792c0b1748076",
        "IPY_MODEL_0550e23917514aa6852d74bb6b3a95cb"
       ],
       "layout": "IPY_MODEL_cc1160cdc524467aa39bc4df694bc4f9"
      }
     },
     "d08492ffac304447b5887b37ef3b52ea": {
      "model_module": "@jupyter-widgets/controls",
      "model_module_version": "1.2.0",
      "model_name": "ButtonStyleModel",
      "state": {}
     },
     "d090ab57a8a343c38dca6b31ae3aa7f9": {
      "model_module": "@jupyter-widgets/controls",
      "model_module_version": "1.2.0",
      "model_name": "ButtonStyleModel",
      "state": {}
     },
     "d0968f5af7e640b9b080b68fcca78e2e": {
      "model_module": "@jupyter-widgets/controls",
      "model_module_version": "1.2.0",
      "model_name": "ButtonStyleModel",
      "state": {}
     },
     "d09a2b6b3e1e4a22bbc97754417c2977": {
      "model_module": "@jupyter-widgets/base",
      "model_module_version": "1.0.0",
      "model_name": "LayoutModel",
      "state": {}
     },
     "d0b7ed6baf2c4473a3d9d2d6ab10f0c6": {
      "model_module": "@jupyter-widgets/controls",
      "model_module_version": "1.2.0",
      "model_name": "ButtonStyleModel",
      "state": {}
     },
     "d0d2eb23035840eeace021913fb2b032": {
      "model_module": "@jupyter-widgets/base",
      "model_module_version": "1.0.0",
      "model_name": "LayoutModel",
      "state": {
       "grid_area": "main",
       "width": "auto"
      }
     },
     "d0e808a0b45e479eafc71579a7c41684": {
      "model_module": "@jupyter-widgets/controls",
      "model_module_version": "1.2.0",
      "model_name": "ButtonModel",
      "state": {
       "layout": "IPY_MODEL_54dc1791cb77472c8ca601c93d0b0fe1",
       "style": "IPY_MODEL_f0ce41076f124b7d9a8114235c69a214"
      }
     },
     "d0ede38de7394d0497186c3c87358fed": {
      "model_module": "@jupyter-widgets/controls",
      "model_module_version": "1.2.0",
      "model_name": "ButtonStyleModel",
      "state": {}
     },
     "d0f7e90f8b324c7cb40e5c986347be99": {
      "model_module": "@jupyter-widgets/base",
      "model_module_version": "1.0.0",
      "model_name": "LayoutModel",
      "state": {
       "flex": "1 1 auto",
       "width": "auto"
      }
     },
     "d0f8691dc6be43ac9e15777cbf886292": {
      "model_module": "@jupyter-widgets/controls",
      "model_module_version": "1.2.0",
      "model_name": "ButtonStyleModel",
      "state": {
       "button_color": "lightblue"
      }
     },
     "d10a8cb5fc514f3cb5e8a6f137a5a0c5": {
      "model_module": "@jupyter-widgets/base",
      "model_module_version": "1.0.0",
      "model_name": "LayoutModel",
      "state": {}
     },
     "d140b89298e74b3c839ff39ea57b3998": {
      "model_module": "@jupyter-widgets/controls",
      "model_module_version": "1.2.0",
      "model_name": "ButtonStyleModel",
      "state": {}
     },
     "d14b3ce2f12542aa85087e29226d7f69": {
      "model_module": "@jupyter-widgets/base",
      "model_module_version": "1.0.0",
      "model_name": "LayoutModel",
      "state": {
       "height": "auto",
       "width": "auto"
      }
     },
     "d14c84fc67e94ead8ed6a19cb7628d8d": {
      "model_module": "@jupyter-widgets/base",
      "model_module_version": "1.0.0",
      "model_name": "LayoutModel",
      "state": {}
     },
     "d14e0abb38ed4051a3c726ebf038c0bb": {
      "model_module": "@jupyter-widgets/controls",
      "model_module_version": "1.2.0",
      "model_name": "ButtonStyleModel",
      "state": {}
     },
     "d157227f90314eb285ccfc4de6319399": {
      "model_module": "@jupyter-widgets/controls",
      "model_module_version": "1.2.0",
      "model_name": "ButtonModel",
      "state": {
       "layout": "IPY_MODEL_abc85fdd55bc481caaeaf493480ce9e7",
       "style": "IPY_MODEL_069d3778d2d8451c916245aecdf11dc5"
      }
     },
     "d15853185df54233b5b35b038a82ba21": {
      "model_module": "@jupyter-widgets/controls",
      "model_module_version": "1.2.0",
      "model_name": "ButtonModel",
      "state": {
       "description": "Custom color",
       "layout": "IPY_MODEL_d4ee0cd81ac9477fbcfa26b4e32e5be8",
       "style": "IPY_MODEL_c361f2ef6007404a8e51b3b083a5bed5"
      }
     },
     "d165f93377114e11bf88a279f1c36200": {
      "model_module": "@jupyter-widgets/controls",
      "model_module_version": "1.2.0",
      "model_name": "ButtonStyleModel",
      "state": {}
     },
     "d17cad7abf8c44c0b3156ea99cb774b4": {
      "model_module": "@jupyter-widgets/controls",
      "model_module_version": "1.2.0",
      "model_name": "ButtonStyleModel",
      "state": {}
     },
     "d1a86e73c0e64cf4819374a61363aa96": {
      "model_module": "@jupyter-widgets/controls",
      "model_module_version": "1.2.0",
      "model_name": "ButtonStyleModel",
      "state": {
       "button_color": "blue"
      }
     },
     "d1a94adb0c1a4b069536d97ea6f6ae95": {
      "model_module": "@jupyter-widgets/controls",
      "model_module_version": "1.2.0",
      "model_name": "ButtonStyleModel",
      "state": {}
     },
     "d1d0d6458d9d431492b4d59b0db3ec78": {
      "model_module": "@jupyter-widgets/controls",
      "model_module_version": "1.2.0",
      "model_name": "ButtonStyleModel",
      "state": {}
     },
     "d1d2df1c11a040eeaaa88dc42b04fb55": {
      "model_module": "@jupyter-widgets/controls",
      "model_module_version": "1.2.0",
      "model_name": "VBoxModel",
      "state": {
       "children": [
        "IPY_MODEL_18fec4e9b39247e48714ea2560449d23",
        "IPY_MODEL_aed0a7b766ec4db78057bad00cd5f85d"
       ],
       "layout": "IPY_MODEL_d37e3de37eac4180bef29958d158490f"
      }
     },
     "d240b1f431bd4186a310fa6924188552": {
      "model_module": "@jupyter-widgets/controls",
      "model_module_version": "1.2.0",
      "model_name": "ButtonStyleModel",
      "state": {}
     },
     "d245cc7f29724b82bf24c41862586449": {
      "model_module": "@jupyter-widgets/base",
      "model_module_version": "1.0.0",
      "model_name": "LayoutModel",
      "state": {
       "flex": "3 1 0%",
       "width": "auto"
      }
     },
     "d2681c18ab584663a028a25b4d4341d1": {
      "model_module": "@jupyter-widgets/controls",
      "model_module_version": "1.2.0",
      "model_name": "ButtonStyleModel",
      "state": {}
     },
     "d26fc0d846774850bc7d87cedf821973": {
      "model_module": "@jupyter-widgets/base",
      "model_module_version": "1.0.0",
      "model_name": "LayoutModel",
      "state": {
       "grid_template": "50px / 25% 10% auto 200px"
      }
     },
     "d27386e5223549d5b61605b5dfa3e2f8": {
      "model_module": "@jupyter-widgets/controls",
      "model_module_version": "1.2.0",
      "model_name": "VBoxModel",
      "state": {
       "children": [
        "IPY_MODEL_096ebc5a2e204b908914d7e4cfad67ab",
        "IPY_MODEL_521c126293aa45f4a668c447f3fb07c1"
       ],
       "layout": "IPY_MODEL_b5664b064f914726b12c904682e31d22"
      }
     },
     "d287c5eb9b1245f896252703cda58122": {
      "model_module": "@jupyter-widgets/controls",
      "model_module_version": "1.2.0",
      "model_name": "ButtonStyleModel",
      "state": {}
     },
     "d28f3cda2a374f06b5946f92fb9b32be": {
      "model_module": "@jupyter-widgets/controls",
      "model_module_version": "1.2.0",
      "model_name": "ButtonStyleModel",
      "state": {
       "button_color": "lightblue"
      }
     },
     "d2ceec6e395a45bfb05c132808a0e880": {
      "model_module": "@jupyter-widgets/controls",
      "model_module_version": "1.2.0",
      "model_name": "ButtonModel",
      "state": {
       "button_style": "warning",
       "description": "36",
       "layout": "IPY_MODEL_d2db15f9d1834946bd4923f3faf2a54f",
       "style": "IPY_MODEL_cd225b76aedb4e39a9d3b0380cde4647"
      }
     },
     "d2db15f9d1834946bd4923f3faf2a54f": {
      "model_module": "@jupyter-widgets/base",
      "model_module_version": "1.0.0",
      "model_name": "LayoutModel",
      "state": {
       "height": "100px",
       "min_width": "40px"
      }
     },
     "d2de6072a0c24d5582f24ff79f45da6f": {
      "model_module": "@jupyter-widgets/controls",
      "model_module_version": "1.2.0",
      "model_name": "ButtonStyleModel",
      "state": {}
     },
     "d2e5316323f04627908e901c010ec13a": {
      "model_module": "@jupyter-widgets/base",
      "model_module_version": "1.0.0",
      "model_name": "LayoutModel",
      "state": {
       "grid_template": "auto auto auto auto auto / auto"
      }
     },
     "d2fafbe9d4ee4e8b8d3f62ae16407bcb": {
      "model_module": "@jupyter-widgets/controls",
      "model_module_version": "1.2.0",
      "model_name": "GridBoxModel",
      "state": {
       "children": [
        "IPY_MODEL_540ee0c9af1b446687453a3f2d6b8f26",
        "IPY_MODEL_8582fc988c154f82a53557235e01e06d",
        "IPY_MODEL_7749c27175734b8099d85a98b080a781",
        "IPY_MODEL_64054e865fa84f3893746e9dae3781e7",
        "IPY_MODEL_d8c5d851f203490488bf3cc6c51c7e32",
        "IPY_MODEL_3e62b49d47a44753b55dd00096379c56",
        "IPY_MODEL_88cb04e8ba424148be46944a650562fe",
        "IPY_MODEL_754c89b7c70342acbd7131a41597f32b",
        "IPY_MODEL_f8f965b80b83494e9dffe8d497516704",
        "IPY_MODEL_4c6123db099e4753855187fc77cdc0a9"
       ],
       "layout": "IPY_MODEL_d2e5316323f04627908e901c010ec13a"
      }
     },
     "d30a2ef172f74780ab392f33d5285740": {
      "model_module": "@jupyter-widgets/base",
      "model_module_version": "1.0.0",
      "model_name": "LayoutModel",
      "state": {
       "grid_area": "header",
       "width": "auto"
      }
     },
     "d3337c8bba394303bc8b7dc4ab059542": {
      "model_module": "@jupyter-widgets/controls",
      "model_module_version": "1.2.0",
      "model_name": "ButtonStyleModel",
      "state": {}
     },
     "d344fbbf38ef41e5917706ce7c924cc7": {
      "model_module": "@jupyter-widgets/controls",
      "model_module_version": "1.2.0",
      "model_name": "ButtonStyleModel",
      "state": {}
     },
     "d3453f05c9004c9da6fad8ff3e7ba7fd": {
      "model_module": "@jupyter-widgets/base",
      "model_module_version": "1.0.0",
      "model_name": "LayoutModel",
      "state": {
       "grid_template_areas": "\n            \"header header header header\"\n            \"main main . sidebar \"\n            \"footer footer footer footer\"\n            ",
       "grid_template_columns": "25% 25% 25% 25%",
       "grid_template_rows": "auto auto auto",
       "width": "50%"
      }
     },
     "d348e6bf60c94d49a994c2d05a851fbc": {
      "model_module": "@jupyter-widgets/controls",
      "model_module_version": "1.2.0",
      "model_name": "ButtonModel",
      "state": {
       "description": "Another button with the same layout",
       "layout": "IPY_MODEL_27d56a5f957240fb8aef65e856043472",
       "style": "IPY_MODEL_1e2801f938384c9e8e2a372ebfb35003"
      }
     },
     "d366534e1d694157a83beef4ebfa6e1f": {
      "model_module": "@jupyter-widgets/controls",
      "model_module_version": "1.2.0",
      "model_name": "ButtonStyleModel",
      "state": {}
     },
     "d376444350f842b8aa6ce684677f8254": {
      "model_module": "@jupyter-widgets/controls",
      "model_module_version": "1.2.0",
      "model_name": "ButtonStyleModel",
      "state": {}
     },
     "d37e3de37eac4180bef29958d158490f": {
      "model_module": "@jupyter-widgets/base",
      "model_module_version": "1.0.0",
      "model_name": "LayoutModel",
      "state": {}
     },
     "d38cdc6032d6432c83f425b79236a9b8": {
      "model_module": "@jupyter-widgets/controls",
      "model_module_version": "1.2.0",
      "model_name": "ButtonModel",
      "state": {
       "button_style": "danger",
       "description": "weight=1; 0%",
       "layout": "IPY_MODEL_b10e75bf3f7c423f9cbc2ebac1f6f337",
       "style": "IPY_MODEL_82dcd800b6534348bfb61cb5e29d11e6"
      }
     },
     "d3a49aad0cc442c09cd4b4d49a496984": {
      "model_module": "@jupyter-widgets/controls",
      "model_module_version": "1.2.0",
      "model_name": "ButtonModel",
      "state": {
       "button_style": "warning",
       "description": "6",
       "layout": "IPY_MODEL_79e6f20409fa4963aff904a921b6d604",
       "style": "IPY_MODEL_67d6032233904cd6907750abad6838c6"
      }
     },
     "d3bddd3794424c1f9e85f3d746c01e7c": {
      "model_module": "@jupyter-widgets/controls",
      "model_module_version": "1.2.0",
      "model_name": "ButtonModel",
      "state": {
       "layout": "IPY_MODEL_104c1bfded49449794e8408e206b484c",
       "style": "IPY_MODEL_ad7cac06da7e493198a1221c32b9d622"
      }
     },
     "d3c018341a0d404aadd293d0355ac0b6": {
      "model_module": "@jupyter-widgets/controls",
      "model_module_version": "1.2.0",
      "model_name": "VBoxModel",
      "state": {
       "children": [
        "IPY_MODEL_545f77da3e094d8c9fcbfd99443416b9",
        "IPY_MODEL_0f377db9c9cd481fa3891a69582ee452"
       ],
       "layout": "IPY_MODEL_a954e009ea3f46df8ac9eeea672906a5"
      }
     },
     "d3e6fdf88f864be8b30ad43f0f5de85f": {
      "model_module": "@jupyter-widgets/controls",
      "model_module_version": "1.2.0",
      "model_name": "ButtonModel",
      "state": {
       "layout": "IPY_MODEL_a5aafc5fec484d77a39f715c3d1a1587",
       "style": "IPY_MODEL_d4a89aabd2c64dd697b5dfc8a7561316"
      }
     },
     "d3f24e08f4eb4415960eb30eff390360": {
      "model_module": "@jupyter-widgets/controls",
      "model_module_version": "1.2.0",
      "model_name": "VBoxModel",
      "state": {
       "children": [
        "IPY_MODEL_b2963020ac0049838ea56b712297d285",
        "IPY_MODEL_66808ab8473f4769a33c3062f7dcc002"
       ],
       "layout": "IPY_MODEL_94364bd9fa8041e48f3bd1c8fbdcacfa"
      }
     },
     "d411b68082dd47d19d38888b62949518": {
      "model_module": "@jupyter-widgets/controls",
      "model_module_version": "1.2.0",
      "model_name": "GridBoxModel",
      "state": {
       "children": [
        "IPY_MODEL_81f0a48d7e494b0f92c1466da416fb04",
        "IPY_MODEL_7a87a428773a43f68bb07dd02576f740",
        "IPY_MODEL_9fb6e8f5e0664af98e0163a519f24cab",
        "IPY_MODEL_7f043878daa54eb380d3de6dfafae154"
       ],
       "layout": "IPY_MODEL_0b8049b0211e4e78a58235003132e218"
      }
     },
     "d423fc886873440ca97545957d5f1eda": {
      "model_module": "@jupyter-widgets/controls",
      "model_module_version": "1.2.0",
      "model_name": "ButtonStyleModel",
      "state": {}
     },
     "d45372c1cda441debef3ef0c6204c53c": {
      "model_module": "@jupyter-widgets/base",
      "model_module_version": "1.0.0",
      "model_name": "LayoutModel",
      "state": {}
     },
     "d48eb2765fcf4569a2124c7732e40a56": {
      "model_module": "@jupyter-widgets/controls",
      "model_module_version": "1.2.0",
      "model_name": "ButtonStyleModel",
      "state": {}
     },
     "d49b70de89014be3ad4644b4019f70f0": {
      "model_module": "@jupyter-widgets/controls",
      "model_module_version": "1.2.0",
      "model_name": "BoxModel",
      "state": {
       "children": [
        "IPY_MODEL_e6fb424c83534ec3a6d8a1569c74a219",
        "IPY_MODEL_727c804c54974a69835673c2cca273e8",
        "IPY_MODEL_fe541457b3c248538510983aad13aff9",
        "IPY_MODEL_ae635a22ec9e4c17856a0a71eb971f21"
       ],
       "layout": "IPY_MODEL_34062868f84d4fe583951261fd6fffa4"
      }
     },
     "d49ec6220e1b4083b7fba4d28ad92ac0": {
      "model_module": "@jupyter-widgets/controls",
      "model_module_version": "1.2.0",
      "model_name": "ButtonModel",
      "state": {
       "layout": "IPY_MODEL_3a3f68ca71bc47e7877bb1b9073933ed",
       "style": "IPY_MODEL_3ada5a1089f440a79fed41c8b21e6e21"
      }
     },
     "d4a12f8eb76d416ab4ac365157ff8587": {
      "model_module": "@jupyter-widgets/controls",
      "model_module_version": "1.2.0",
      "model_name": "ButtonStyleModel",
      "state": {}
     },
     "d4a89aabd2c64dd697b5dfc8a7561316": {
      "model_module": "@jupyter-widgets/controls",
      "model_module_version": "1.2.0",
      "model_name": "ButtonStyleModel",
      "state": {}
     },
     "d4c093b9ad02405d8c8c77aee1b97910": {
      "model_module": "@jupyter-widgets/controls",
      "model_module_version": "1.2.0",
      "model_name": "ButtonStyleModel",
      "state": {}
     },
     "d4ca5ca01bc04690a45380eff04a0735": {
      "model_module": "@jupyter-widgets/base",
      "model_module_version": "1.0.0",
      "model_name": "LayoutModel",
      "state": {
       "grid_template": "auto / auto auto auto auto auto"
      }
     },
     "d4e88f3810aa4b9f98bef2eab2067ad9": {
      "model_module": "@jupyter-widgets/controls",
      "model_module_version": "1.2.0",
      "model_name": "ButtonModel",
      "state": {
       "layout": "IPY_MODEL_edb5edbb1e334fd6a8a6f4e36526261c",
       "style": "IPY_MODEL_0debe83240dc4cdcab00896dfbf2725f"
      }
     },
     "d4e9c394fcf64e1d8dc284a4f8419edd": {
      "model_module": "@jupyter-widgets/controls",
      "model_module_version": "1.2.0",
      "model_name": "ButtonModel",
      "state": {
       "layout": "IPY_MODEL_f029eea3a6dd4e4d9a505f99f708054e",
       "style": "IPY_MODEL_7dbee97eda3b4722a235a18bde488cc9"
      }
     },
     "d4ee0cd81ac9477fbcfa26b4e32e5be8": {
      "model_module": "@jupyter-widgets/base",
      "model_module_version": "1.0.0",
      "model_name": "LayoutModel",
      "state": {}
     },
     "d5035bfa07ca41e884e4fcf3ae5aef11": {
      "model_module": "@jupyter-widgets/controls",
      "model_module_version": "1.2.0",
      "model_name": "ButtonStyleModel",
      "state": {}
     },
     "d51da245ce374b39b3df1461a1fcce34": {
      "model_module": "@jupyter-widgets/controls",
      "model_module_version": "1.2.0",
      "model_name": "LabelModel",
      "state": {
       "layout": "IPY_MODEL_a6b7cbc68869498da09cc63370b501cf",
       "style": "IPY_MODEL_2d94e718ac32407285165fab55ad0d2a",
       "value": "Egg style"
      }
     },
     "d525f8b3d0444065be3d7d5fb984d9bc": {
      "model_module": "@jupyter-widgets/base",
      "model_module_version": "1.0.0",
      "model_name": "LayoutModel",
      "state": {}
     },
     "d527a5c188944698ab39e7f29a579698": {
      "model_module": "@jupyter-widgets/base",
      "model_module_version": "1.0.0",
      "model_name": "LayoutModel",
      "state": {
       "grid_area": "header",
       "width": "auto"
      }
     },
     "d533bbb405714cfd993a69e8dfd68c75": {
      "model_module": "@jupyter-widgets/controls",
      "model_module_version": "1.2.0",
      "model_name": "ButtonModel",
      "state": {
       "layout": "IPY_MODEL_49f81b3585ff412698273f2404121602",
       "style": "IPY_MODEL_6fe2692c6df54fc8b7bb72b8945c8fe7"
      }
     },
     "d566dd4b16fb4a1ea4e4cdd06089d2e0": {
      "model_module": "@jupyter-widgets/controls",
      "model_module_version": "1.2.0",
      "model_name": "SliderStyleModel",
      "state": {
       "description_width": ""
      }
     },
     "d5ae88561f624e46821fbe4e8cb9e9f8": {
      "model_module": "@jupyter-widgets/controls",
      "model_module_version": "1.2.0",
      "model_name": "ButtonModel",
      "state": {
       "button_style": "warning",
       "description": "13",
       "layout": "IPY_MODEL_963f958a6a3049a3b012ec8484fb898f",
       "style": "IPY_MODEL_48e9ad2f9b654d18ba4209e703a63e0c"
      }
     },
     "d5d0d909e23f46dfb553c038f30509a6": {
      "model_module": "@jupyter-widgets/controls",
      "model_module_version": "1.2.0",
      "model_name": "ButtonModel",
      "state": {
       "layout": "IPY_MODEL_71edbc4e034840e2a9927c2487c68700",
       "style": "IPY_MODEL_6c0ef80f603e4cacb7a9ff1375c71a25"
      }
     },
     "d5f5e04b527e41d99f4742055ffb2b1f": {
      "model_module": "@jupyter-widgets/controls",
      "model_module_version": "1.2.0",
      "model_name": "GridBoxModel",
      "state": {
       "children": [
        "IPY_MODEL_284cac29f0304e27864d6599006355da",
        "IPY_MODEL_0eef5604109c4621b765746d09036b73",
        "IPY_MODEL_b3f86726c4794be7b7b8fe89ca227807",
        "IPY_MODEL_1a1d36271122473ea059a1c628918375",
        "IPY_MODEL_61a4edf3cac640698fdb62586b587d80",
        "IPY_MODEL_a18348772a4e4d75b4a88ac9032d14e9",
        "IPY_MODEL_4807c6cb328c45458ddac1d5875a323b",
        "IPY_MODEL_70a5ee2242fb4a97b9437e1dec071c1d"
       ],
       "layout": "IPY_MODEL_6e27090b952a48509dd0a20fc2dc8805"
      }
     },
     "d60a6c9860a849ee83d0a63a67b46728": {
      "model_module": "@jupyter-widgets/controls",
      "model_module_version": "1.2.0",
      "model_name": "ButtonModel",
      "state": {
       "layout": "IPY_MODEL_d525f8b3d0444065be3d7d5fb984d9bc",
       "style": "IPY_MODEL_250ee33347e644a994da13d153d4601d"
      }
     },
     "d60f7a81954d407fa19501467eaa46cf": {
      "model_module": "@jupyter-widgets/base",
      "model_module_version": "1.0.0",
      "model_name": "LayoutModel",
      "state": {
       "grid_template_areas": "\n            \"header header header header\"\n            \"main main . sidebar \"\n            \"footer footer footer footer\"\n            ",
       "grid_template_columns": "25% 25% 25% 25%",
       "grid_template_rows": "auto auto auto",
       "width": "50%"
      }
     },
     "d643d475b4bc413190191fc23910b7ca": {
      "model_module": "@jupyter-widgets/controls",
      "model_module_version": "1.2.0",
      "model_name": "ButtonStyleModel",
      "state": {}
     },
     "d683c7f1444f452786341cd5ac138109": {
      "model_module": "@jupyter-widgets/controls",
      "model_module_version": "1.2.0",
      "model_name": "LabelModel",
      "state": {
       "layout": "IPY_MODEL_a55f3e81a3594da994e081fbc480e8c8",
       "style": "IPY_MODEL_c05a60ec2da04b3295662fca788a1abc",
       "value": "Scroll horizontally:"
      }
     },
     "d6963970cd664974a29b58dacdb07e54": {
      "model_module": "@jupyter-widgets/controls",
      "model_module_version": "1.2.0",
      "model_name": "ButtonStyleModel",
      "state": {}
     },
     "d6c58f10c9db4646a63dad2d7571553f": {
      "model_module": "@jupyter-widgets/controls",
      "model_module_version": "1.2.0",
      "model_name": "ButtonStyleModel",
      "state": {}
     },
     "d6d33bdad68e43fdbb83c9fb4d54d123": {
      "model_module": "@jupyter-widgets/controls",
      "model_module_version": "1.2.0",
      "model_name": "GridBoxModel",
      "state": {
       "children": [
        "IPY_MODEL_cf35f150c6244acdabfa33ae530b3060",
        "IPY_MODEL_ab13a515feea4581adf632df1a0c8b11",
        "IPY_MODEL_788321bb339d41cc810c7e575cd3d197",
        "IPY_MODEL_b205329851834c39b3dab5513514d9d2",
        "IPY_MODEL_9093562e09844a90b33ca6f962c50a9b",
        "IPY_MODEL_982ba2f02793408396d8971797d75892",
        "IPY_MODEL_b9827710d09541439ed0ea58528de8cc",
        "IPY_MODEL_fb97bf9598804b7b95f30fd450da0c09",
        "IPY_MODEL_0ea2c221e71a4668a324a15eac7fdaab",
        "IPY_MODEL_c55ad89730d9414aa8920558f7b0c530"
       ],
       "layout": "IPY_MODEL_b9a0efd37ecb4214b17474645e169c98"
      }
     },
     "d6d62f821eeb4d2f8c423666fbd3c73e": {
      "model_module": "@jupyter-widgets/controls",
      "model_module_version": "1.2.0",
      "model_name": "ButtonModel",
      "state": {
       "layout": "IPY_MODEL_ea2a717a6abb43d58ed664b124108192",
       "style": "IPY_MODEL_7f1d43ffd3b947c781cd0bd3a801fafa"
      }
     },
     "d6f0803eb83f4822ac79a4a5dc594d42": {
      "model_module": "@jupyter-widgets/controls",
      "model_module_version": "1.2.0",
      "model_name": "ButtonStyleModel",
      "state": {}
     },
     "d6f7bb2e5239411bb4a0677370ea108f": {
      "model_module": "@jupyter-widgets/controls",
      "model_module_version": "1.2.0",
      "model_name": "ButtonStyleModel",
      "state": {}
     },
     "d6fbbd64d0574007be10cdc52884a613": {
      "model_module": "@jupyter-widgets/base",
      "model_module_version": "1.0.0",
      "model_name": "LayoutModel",
      "state": {
       "height": "auto",
       "width": "auto"
      }
     },
     "d721035c361c420d9e9c8ebe4364e19c": {
      "model_module": "@jupyter-widgets/controls",
      "model_module_version": "1.2.0",
      "model_name": "ButtonStyleModel",
      "state": {}
     },
     "d74d104591044e47a683b26ec940306c": {
      "model_module": "@jupyter-widgets/controls",
      "model_module_version": "1.2.0",
      "model_name": "ButtonModel",
      "state": {
       "button_style": "danger",
       "description": "weight=3; auto",
       "layout": "IPY_MODEL_df0d7b03638043d98771092532ba49b3",
       "style": "IPY_MODEL_020b3a7b469149aeab4a18bce03aac7a"
      }
     },
     "d76b7e60474e4947a7fb54929c8cd9ca": {
      "model_module": "@jupyter-widgets/controls",
      "model_module_version": "1.2.0",
      "model_name": "ButtonModel",
      "state": {
       "layout": "IPY_MODEL_ea2a717a6abb43d58ed664b124108192",
       "style": "IPY_MODEL_7f1d43ffd3b947c781cd0bd3a801fafa"
      }
     },
     "d777d4251d8c40ef83fd08daa3d7d4c6": {
      "model_module": "@jupyter-widgets/controls",
      "model_module_version": "1.2.0",
      "model_name": "ButtonStyleModel",
      "state": {}
     },
     "d787a30a102d4fdf858c2f79a8902f13": {
      "model_module": "@jupyter-widgets/controls",
      "model_module_version": "1.2.0",
      "model_name": "ButtonStyleModel",
      "state": {}
     },
     "d7b3a1de2958464bab11c24d698254dd": {
      "model_module": "@jupyter-widgets/controls",
      "model_module_version": "1.2.0",
      "model_name": "ButtonModel",
      "state": {
       "layout": "IPY_MODEL_c9ea692baeb946de96bd3ed36e154abc",
       "style": "IPY_MODEL_b3edc635b2c84d788caf728edd9f1bbf"
      }
     },
     "d7b9b9eaed32480ea68d597b60d79f5d": {
      "model_module": "@jupyter-widgets/controls",
      "model_module_version": "1.2.0",
      "model_name": "ButtonStyleModel",
      "state": {}
     },
     "d7dd774a8180434bb24c5c26676b13af": {
      "model_module": "@jupyter-widgets/controls",
      "model_module_version": "1.2.0",
      "model_name": "ButtonStyleModel",
      "state": {}
     },
     "d7ffb17c4d674aed8237249860617552": {
      "model_module": "@jupyter-widgets/controls",
      "model_module_version": "1.2.0",
      "model_name": "ButtonModel",
      "state": {
       "layout": "IPY_MODEL_edb5edbb1e334fd6a8a6f4e36526261c",
       "style": "IPY_MODEL_0debe83240dc4cdcab00896dfbf2725f"
      }
     },
     "d8100261b94a4c6bbef86a6363bae20f": {
      "model_module": "@jupyter-widgets/controls",
      "model_module_version": "1.2.0",
      "model_name": "GridBoxModel",
      "state": {
       "children": [
        "IPY_MODEL_c29168683c794fa2a686e61e339a4c8a",
        "IPY_MODEL_ca8e4f97d97b40698a0d0a328c63071f",
        "IPY_MODEL_e316fdadd1584f18b543af965f50550a",
        "IPY_MODEL_e0c6c7e0d8b4434a8dc6e3a3e2b64d0b",
        "IPY_MODEL_d49ec6220e1b4083b7fba4d28ad92ac0",
        "IPY_MODEL_0d86989b593a43e292d0dbe329561f6f",
        "IPY_MODEL_f843dfcb9b19468ea915f979a0e774bb",
        "IPY_MODEL_ffbf96f1cb3f4278a56b95e98df8aebc",
        "IPY_MODEL_eb1f2566df884c6d862667c2c02a9015",
        "IPY_MODEL_3e37f0cf58e04cbc8e5115dcc835f592"
       ],
       "layout": "IPY_MODEL_232aaf8f4dc8498c9527f7ddf1712c95"
      }
     },
     "d835d37726d74f7ab3cf21a770abb041": {
      "model_module": "@jupyter-widgets/base",
      "model_module_version": "1.0.0",
      "model_name": "LayoutModel",
      "state": {}
     },
     "d83b993e7a8845a096a187a2b2936026": {
      "model_module": "@jupyter-widgets/base",
      "model_module_version": "1.0.0",
      "model_name": "LayoutModel",
      "state": {
       "height": "auto",
       "width": "auto"
      }
     },
     "d847372e643b44c284e2f38580d7a3b8": {
      "model_module": "@jupyter-widgets/controls",
      "model_module_version": "1.2.0",
      "model_name": "ButtonModel",
      "state": {
       "layout": "IPY_MODEL_239cffe8ce4b4e999c50fdf9bb9c043d",
       "style": "IPY_MODEL_315541df87cc46d399fc97a9c359de9c"
      }
     },
     "d84bf79c62d0486794bee0cd7a587785": {
      "model_module": "@jupyter-widgets/controls",
      "model_module_version": "1.2.0",
      "model_name": "ButtonModel",
      "state": {
       "button_style": "warning",
       "description": "24",
       "layout": "IPY_MODEL_16df380d38fb47a2bbb217b953037b65",
       "style": "IPY_MODEL_2143b1641b7449c68ad25364c223976a"
      }
     },
     "d8a7a91bd54d46fe9c8841748d905d87": {
      "model_module": "@jupyter-widgets/controls",
      "model_module_version": "1.2.0",
      "model_name": "ButtonModel",
      "state": {
       "layout": "IPY_MODEL_8a3f1796ee91466f82c262c79d2684b1",
       "style": "IPY_MODEL_329272f43e0f4c388a07997989034b82"
      }
     },
     "d8bc273a18f343c5aea097b740babcdb": {
      "model_module": "@jupyter-widgets/controls",
      "model_module_version": "1.2.0",
      "model_name": "ButtonModel",
      "state": {
       "layout": "IPY_MODEL_bfea69d00b7047ae9fc2c9c9406858ad",
       "style": "IPY_MODEL_89d2e6e2e5724ec49edf94d25807edf0"
      }
     },
     "d8c5d851f203490488bf3cc6c51c7e32": {
      "model_module": "@jupyter-widgets/controls",
      "model_module_version": "1.2.0",
      "model_name": "ButtonModel",
      "state": {
       "layout": "IPY_MODEL_0f8fab5875984054a7f4d69598255738",
       "style": "IPY_MODEL_632d0603db194ed0b1d50c7f003ae808"
      }
     },
     "d8cfcf7cdfdd48969afcd149eafefddd": {
      "model_module": "@jupyter-widgets/controls",
      "model_module_version": "1.2.0",
      "model_name": "ButtonModel",
      "state": {
       "layout": "IPY_MODEL_af2aef9b5b0d4daa8e74e47e31ee0437",
       "style": "IPY_MODEL_9d86c44cee43471491a440c955773e2f"
      }
     },
     "d8f9e4f52eda4968b9e484609563c080": {
      "model_module": "@jupyter-widgets/base",
      "model_module_version": "1.0.0",
      "model_name": "LayoutModel",
      "state": {
       "grid_template": "'\n    auto auto auto auto auto / auto\n    "
      }
     },
     "d91d8b18e7194753a5e6cdd2437fc376": {
      "model_module": "@jupyter-widgets/base",
      "model_module_version": "1.0.0",
      "model_name": "LayoutModel",
      "state": {
       "grid_gap": "5% 4px",
       "grid_template": "50px 100px / 25% 10% auto 200px"
      }
     },
     "d978d2e99baf4624961426706b11e7b7": {
      "model_module": "@jupyter-widgets/controls",
      "model_module_version": "1.2.0",
      "model_name": "ButtonStyleModel",
      "state": {}
     },
     "d9900327b4c14f5b8f88fcfeecc89fd9": {
      "model_module": "@jupyter-widgets/controls",
      "model_module_version": "1.2.0",
      "model_name": "ButtonModel",
      "state": {
       "button_style": "warning",
       "description": "17",
       "layout": "IPY_MODEL_a810a994ec8c404f8136c2e39def56aa",
       "style": "IPY_MODEL_d287c5eb9b1245f896252703cda58122"
      }
     },
     "d9bc6cd344b444aa8d9fb2e81a34db4b": {
      "model_module": "@jupyter-widgets/controls",
      "model_module_version": "1.2.0",
      "model_name": "ButtonModel",
      "state": {
       "button_style": "danger",
       "description": "horse",
       "layout": "IPY_MODEL_5f7d632704bc43f3aec71cf1efb26bdd",
       "style": "IPY_MODEL_86befae85c0d4fe7826ec8be4d45e4ca"
      }
     },
     "d9c105e1560440b7981b5eedad43ccb2": {
      "model_module": "@jupyter-widgets/controls",
      "model_module_version": "1.2.0",
      "model_name": "ButtonStyleModel",
      "state": {}
     },
     "d9d52397cd8c4c10b7db3ba3c2ebd41e": {
      "model_module": "@jupyter-widgets/base",
      "model_module_version": "1.0.0",
      "model_name": "LayoutModel",
      "state": {
       "height": "auto",
       "margin": "0",
       "width": "auto"
      }
     },
     "d9e44a1c243d4e7bbcfdf678488ee2f5": {
      "model_module": "@jupyter-widgets/controls",
      "model_module_version": "1.2.0",
      "model_name": "ButtonModel",
      "state": {
       "button_style": "warning",
       "description": "20",
       "layout": "IPY_MODEL_d2db15f9d1834946bd4923f3faf2a54f",
       "style": "IPY_MODEL_924eadcc246c4019924373f888d55323"
      }
     },
     "da1e9e356fb943889dd6e2a16ca08aac": {
      "model_module": "@jupyter-widgets/controls",
      "model_module_version": "1.2.0",
      "model_name": "ButtonModel",
      "state": {
       "layout": "IPY_MODEL_8a3f1796ee91466f82c262c79d2684b1",
       "style": "IPY_MODEL_329272f43e0f4c388a07997989034b82"
      }
     },
     "da28995be1de407190d53e38081977de": {
      "model_module": "@jupyter-widgets/controls",
      "model_module_version": "1.2.0",
      "model_name": "ButtonModel",
      "state": {
       "button_style": "warning",
       "description": "8",
       "layout": "IPY_MODEL_963f958a6a3049a3b012ec8484fb898f",
       "style": "IPY_MODEL_d0b7ed6baf2c4473a3d9d2d6ab10f0c6"
      }
     },
     "da2ecc3dcc154d25a4f11dcdec969871": {
      "model_module": "@jupyter-widgets/controls",
      "model_module_version": "1.2.0",
      "model_name": "DescriptionStyleModel",
      "state": {
       "description_width": ""
      }
     },
     "da3227e24e41427a915cd5df035be588": {
      "model_module": "@jupyter-widgets/controls",
      "model_module_version": "1.2.0",
      "model_name": "GridBoxModel",
      "state": {
       "children": [
        "IPY_MODEL_a49ccee08f4b4bada5818da08fcd37f1",
        "IPY_MODEL_e86c8f1647014c8c96bd5e4c4f19b7d5",
        "IPY_MODEL_0b186d4f292c41ff958ee32d02f43bdd",
        "IPY_MODEL_aa0d861f849148fcabc8128122e89fa0",
        "IPY_MODEL_20c323bbfe024a849fa04663265699ca",
        "IPY_MODEL_5b55a67e0f784cc396d03af1a180a629",
        "IPY_MODEL_17f8b24b677c4991b8de8f4f0dedc1c1",
        "IPY_MODEL_712f9e8f419048bf9e7176ed7ba1d5d3"
       ],
       "layout": "IPY_MODEL_df7b737edc1f4e2d8e0287462cd184d5"
      }
     },
     "da50c912e8ee4ea1abe8e2f94c226ab9": {
      "model_module": "@jupyter-widgets/controls",
      "model_module_version": "1.2.0",
      "model_name": "LabelModel",
      "state": {
       "layout": "IPY_MODEL_93fdd6bc8dda4109b2e92b388752839f",
       "style": "IPY_MODEL_16b3aa63fa75494e8e599bfd25f8307d",
       "value": "Ship size"
      }
     },
     "da62080995d147d48d399fe7d4ea4fac": {
      "model_module": "@jupyter-widgets/controls",
      "model_module_version": "1.2.0",
      "model_name": "LabelModel",
      "state": {
       "layout": "IPY_MODEL_1dc9d13a213746f8a5aad958c134ee06",
       "style": "IPY_MODEL_6b993b2c17674c6ea8e982660a3e3d42",
       "value": "Scroll horizontally:"
      }
     },
     "da7190d5ae7545af82c992a7e3d80fed": {
      "model_module": "@jupyter-widgets/controls",
      "model_module_version": "1.2.0",
      "model_name": "ButtonModel",
      "state": {
       "layout": "IPY_MODEL_bfea69d00b7047ae9fc2c9c9406858ad",
       "style": "IPY_MODEL_c107269f6a604c1ab41f047818417209"
      }
     },
     "da876e69095f4a8bb31c06994b6e08cb": {
      "model_module": "@jupyter-widgets/controls",
      "model_module_version": "1.2.0",
      "model_name": "TextareaModel",
      "state": {
       "layout": "IPY_MODEL_25bc0eb255dc474bb6f33356778913b8",
       "style": "IPY_MODEL_f1f1084c4a2d475aaeae5571efea8fb0"
      }
     },
     "da878f2edaa3420c9aa3579ce394fdd8": {
      "model_module": "@jupyter-widgets/controls",
      "model_module_version": "1.2.0",
      "model_name": "ButtonStyleModel",
      "state": {}
     },
     "daa52cefaa7444d1a42749a12c776d45": {
      "model_module": "@jupyter-widgets/controls",
      "model_module_version": "1.2.0",
      "model_name": "ButtonStyleModel",
      "state": {}
     },
     "dacf73c319c84c7b9e68c7e8c7b7ef51": {
      "model_module": "@jupyter-widgets/controls",
      "model_module_version": "1.2.0",
      "model_name": "ButtonStyleModel",
      "state": {}
     },
     "dae17b55d40148dcaa7f5ffb8c2f8660": {
      "model_module": "@jupyter-widgets/controls",
      "model_module_version": "1.2.0",
      "model_name": "ButtonStyleModel",
      "state": {}
     },
     "db1b64feb16b4853b2823e5bc3731eba": {
      "model_module": "@jupyter-widgets/controls",
      "model_module_version": "1.2.0",
      "model_name": "ButtonModel",
      "state": {
       "layout": "IPY_MODEL_5f93039a824040f6892c5a36aa5b0393",
       "style": "IPY_MODEL_59bca185c46a457997bb76a813aea31e"
      }
     },
     "db5cece6c1ed4f09926683d11170fe68": {
      "model_module": "@jupyter-widgets/controls",
      "model_module_version": "1.2.0",
      "model_name": "ButtonStyleModel",
      "state": {}
     },
     "db6221b797a14b14a7ef60699f157690": {
      "model_module": "@jupyter-widgets/controls",
      "model_module_version": "1.2.0",
      "model_name": "BoxModel",
      "state": {
       "children": [
        "IPY_MODEL_23ec22dd2cb14d3f8d6d8f14e805fae4",
        "IPY_MODEL_5e04d41103a749d98c10c7a5973b9bd5"
       ],
       "layout": "IPY_MODEL_a41eb3128c334307828b7385fc9efed5"
      }
     },
     "db66025fe03e4ff8a4d99777d285315f": {
      "model_module": "@jupyter-widgets/controls",
      "model_module_version": "1.2.0",
      "model_name": "ButtonModel",
      "state": {
       "layout": "IPY_MODEL_ea2a717a6abb43d58ed664b124108192",
       "style": "IPY_MODEL_7f1d43ffd3b947c781cd0bd3a801fafa"
      }
     },
     "db8364d6dc5547568da66c7bd2b23303": {
      "model_module": "@jupyter-widgets/controls",
      "model_module_version": "1.2.0",
      "model_name": "FloatTextModel",
      "state": {
       "layout": "IPY_MODEL_faca48b60eb645f1bae430d5ff89958e",
       "step": null,
       "style": "IPY_MODEL_5eb5f2968bbb46cb9cfe9e7aff89154c"
      }
     },
     "dbc0f4ff50374b7c9f6cf7182cc97eea": {
      "model_module": "@jupyter-widgets/controls",
      "model_module_version": "1.2.0",
      "model_name": "ButtonModel",
      "state": {
       "button_style": "warning",
       "description": "4",
       "layout": "IPY_MODEL_963f958a6a3049a3b012ec8484fb898f",
       "style": "IPY_MODEL_dd9ba733f8fd49b6a325bac5068dd58d"
      }
     },
     "dbef130677a042c48c676bb52efc1e46": {
      "model_module": "@jupyter-widgets/controls",
      "model_module_version": "1.2.0",
      "model_name": "ButtonModel",
      "state": {
       "button_style": "warning",
       "description": "1",
       "layout": "IPY_MODEL_963f958a6a3049a3b012ec8484fb898f",
       "style": "IPY_MODEL_150a02099ae84e2f928f97ceb4eff062"
      }
     },
     "dbf5206ed4c04f18a87bc3e34fee0ce3": {
      "model_module": "@jupyter-widgets/controls",
      "model_module_version": "1.2.0",
      "model_name": "ButtonModel",
      "state": {
       "layout": "IPY_MODEL_8c7d17fa9b6a48b7832b66d2d78dfc94",
       "style": "IPY_MODEL_88bcc1e07aaf4c71a8cb8e712193c631"
      }
     },
     "dc0b39c7265b4a92992f8a98041e8fd4": {
      "model_module": "@jupyter-widgets/controls",
      "model_module_version": "1.2.0",
      "model_name": "ButtonModel",
      "state": {
       "button_style": "warning",
       "description": "28",
       "layout": "IPY_MODEL_e20ec9c5c01e485bbfa90160b80eb8f4",
       "style": "IPY_MODEL_4c39f3060ff348c9b433dfa86a8512d4"
      }
     },
     "dc6d1be49474472fa5091bb4a0d79370": {
      "model_module": "@jupyter-widgets/controls",
      "model_module_version": "1.2.0",
      "model_name": "ButtonStyleModel",
      "state": {}
     },
     "dc6f37b3001f424fb9b05e7f22500e45": {
      "model_module": "@jupyter-widgets/controls",
      "model_module_version": "1.2.0",
      "model_name": "ButtonStyleModel",
      "state": {}
     },
     "dc7b582bcec94101931d385bc55141ef": {
      "model_module": "@jupyter-widgets/controls",
      "model_module_version": "1.2.0",
      "model_name": "ButtonModel",
      "state": {
       "layout": "IPY_MODEL_af2aef9b5b0d4daa8e74e47e31ee0437",
       "style": "IPY_MODEL_9d86c44cee43471491a440c955773e2f"
      }
     },
     "dc93f4f0d47b415fa525640a64c4bb74": {
      "model_module": "@jupyter-widgets/controls",
      "model_module_version": "1.2.0",
      "model_name": "ButtonStyleModel",
      "state": {}
     },
     "dced7f0589a44b8b9a56d089ffcb8fae": {
      "model_module": "@jupyter-widgets/controls",
      "model_module_version": "1.2.0",
      "model_name": "DescriptionStyleModel",
      "state": {
       "description_width": ""
      }
     },
     "dcedd3e44ef744d689fde24f30e0717e": {
      "model_module": "@jupyter-widgets/controls",
      "model_module_version": "1.2.0",
      "model_name": "ButtonStyleModel",
      "state": {}
     },
     "dcf873a39d804738b3adff8ef04c14a7": {
      "model_module": "@jupyter-widgets/base",
      "model_module_version": "1.0.0",
      "model_name": "LayoutModel",
      "state": {}
     },
     "dd55631ac61341749df242f2fe90915a": {
      "model_module": "@jupyter-widgets/controls",
      "model_module_version": "1.2.0",
      "model_name": "ButtonModel",
      "state": {
       "layout": "IPY_MODEL_2e502d5a102f4844971576e7c918f23b",
       "style": "IPY_MODEL_5835d99d78444391900bdde94dad816d"
      }
     },
     "dd62e51bf5a54d4db9bb8f8a579670dd": {
      "model_module": "@jupyter-widgets/controls",
      "model_module_version": "1.2.0",
      "model_name": "GridBoxModel",
      "state": {
       "children": [
        "IPY_MODEL_3bdbf940b1c446deb17085d53c5049c6",
        "IPY_MODEL_b0631bb8c0934069acc328b739f8d62f",
        "IPY_MODEL_cd97b71580434563b2a9eca80e3f0539",
        "IPY_MODEL_a9cedb60bbfd411597b55c61af1127d3",
        "IPY_MODEL_e9166da80b5c41c4ae4aad97a2b46c4c",
        "IPY_MODEL_f94415751fd3407ea2166aa83bc4c17e",
        "IPY_MODEL_cfc7717f61e7459dae1cc5558c1fa9db",
        "IPY_MODEL_90b65de1096d456199c80f3e78f3dcfa",
        "IPY_MODEL_ebf2c0232e4646b3b2e9bbba58b1773e"
       ],
       "layout": "IPY_MODEL_214be6a933ec426f92f22f23e70abe74"
      }
     },
     "dd6b2034672941fb8a0dd298ececee4e": {
      "model_module": "@jupyter-widgets/controls",
      "model_module_version": "1.2.0",
      "model_name": "ButtonStyleModel",
      "state": {}
     },
     "dd713d95c5b44315ac7f92a095b077ea": {
      "model_module": "@jupyter-widgets/base",
      "model_module_version": "1.0.0",
      "model_name": "LayoutModel",
      "state": {
       "grid_template": "auto / 25% 10% auto 50px"
      }
     },
     "dd8a3f7aa7084793b4f4ce9c2c3f4f5d": {
      "model_module": "@jupyter-widgets/base",
      "model_module_version": "1.0.0",
      "model_name": "LayoutModel",
      "state": {
       "height": "auto",
       "width": "auto"
      }
     },
     "dd915a4b2a9146bbbae64d25c4f0a579": {
      "model_module": "@jupyter-widgets/controls",
      "model_module_version": "1.2.0",
      "model_name": "ButtonModel",
      "state": {
       "button_style": "warning",
       "description": "21",
       "layout": "IPY_MODEL_d2db15f9d1834946bd4923f3faf2a54f",
       "style": "IPY_MODEL_a4f3269b9a1e48d79b357d90cd13605b"
      }
     },
     "dd9ba733f8fd49b6a325bac5068dd58d": {
      "model_module": "@jupyter-widgets/controls",
      "model_module_version": "1.2.0",
      "model_name": "ButtonStyleModel",
      "state": {}
     },
     "dda25470e47848bbb4dc4a3981e8eec2": {
      "model_module": "@jupyter-widgets/controls",
      "model_module_version": "1.2.0",
      "model_name": "DescriptionStyleModel",
      "state": {
       "description_width": ""
      }
     },
     "dda90b2748d44fe399a8221e60cb531b": {
      "model_module": "@jupyter-widgets/controls",
      "model_module_version": "1.2.0",
      "model_name": "ButtonModel",
      "state": {
       "button_style": "warning",
       "description": "7",
       "layout": "IPY_MODEL_16df380d38fb47a2bbb217b953037b65",
       "style": "IPY_MODEL_becf0778d1874c25b0bb91e440d39b71"
      }
     },
     "ddcd7fdf071c438dbf42af83c105c3de": {
      "model_module": "@jupyter-widgets/controls",
      "model_module_version": "1.2.0",
      "model_name": "ButtonStyleModel",
      "state": {}
     },
     "ddcf6e958d764a27b749c703ed3603fa": {
      "model_module": "@jupyter-widgets/controls",
      "model_module_version": "1.2.0",
      "model_name": "ButtonStyleModel",
      "state": {}
     },
     "ddd0280234144317b63ce140fb444e40": {
      "model_module": "@jupyter-widgets/controls",
      "model_module_version": "1.2.0",
      "model_name": "ButtonStyleModel",
      "state": {}
     },
     "ddd786f97d3648d2a8623f161e22c146": {
      "model_module": "@jupyter-widgets/controls",
      "model_module_version": "1.2.0",
      "model_name": "BoxModel",
      "state": {
       "children": [
        "IPY_MODEL_de86953c8dc947ef88a66fda3f197c85",
        "IPY_MODEL_458832969d5442fda3f4251b5fa8a279"
       ],
       "layout": "IPY_MODEL_25e005c687cf45b18e91e45143669dde"
      }
     },
     "dddc482ee42c496ab9986f5ee610bb9f": {
      "model_module": "@jupyter-widgets/base",
      "model_module_version": "1.0.0",
      "model_name": "LayoutModel",
      "state": {
       "height": "60px",
       "width": "auto"
      }
     },
     "ddfa4d7b61324b2f963d60d3afb0e65e": {
      "model_module": "@jupyter-widgets/controls",
      "model_module_version": "1.2.0",
      "model_name": "ButtonStyleModel",
      "state": {
       "button_color": "salmon"
      }
     },
     "ddfa5112496b45489a084afe4ce8ca3b": {
      "model_module": "@jupyter-widgets/controls",
      "model_module_version": "1.2.0",
      "model_name": "ButtonStyleModel",
      "state": {
       "button_color": "blue"
      }
     },
     "de3045b1676a4be7b3f37a03315ab54e": {
      "model_module": "@jupyter-widgets/controls",
      "model_module_version": "1.2.0",
      "model_name": "ButtonStyleModel",
      "state": {}
     },
     "de3d06b11709451eb420d9ca5e76c6fd": {
      "model_module": "@jupyter-widgets/controls",
      "model_module_version": "1.2.0",
      "model_name": "ButtonModel",
      "state": {
       "layout": "IPY_MODEL_a8a4a992eee54af0b1fe3c12946711d2",
       "style": "IPY_MODEL_241d4d6b26484ab2ba9c0662edd70841"
      }
     },
     "de85d792ca1b457683d5ff924ac01ce1": {
      "model_module": "@jupyter-widgets/controls",
      "model_module_version": "1.2.0",
      "model_name": "ButtonStyleModel",
      "state": {}
     },
     "de86953c8dc947ef88a66fda3f197c85": {
      "model_module": "@jupyter-widgets/controls",
      "model_module_version": "1.2.0",
      "model_name": "LabelModel",
      "state": {
       "layout": "IPY_MODEL_3592063d72e74706a1c6ddcddc17724e",
       "style": "IPY_MODEL_9d291edade8f48b2805d02c8dca35265",
       "value": "Information"
      }
     },
     "de8a7e648bed4b94a85a5d3a11b8dd94": {
      "model_module": "@jupyter-widgets/base",
      "model_module_version": "1.0.0",
      "model_name": "LayoutModel",
      "state": {
       "grid_template": "auto / 25% 10% auto 200px"
      }
     },
     "de8c377847fc4ec7b4857b70075fdad2": {
      "model_module": "@jupyter-widgets/controls",
      "model_module_version": "1.2.0",
      "model_name": "ButtonStyleModel",
      "state": {}
     },
     "de8ccfe5b4af478d828a6c94fb4c2ec4": {
      "model_module": "@jupyter-widgets/controls",
      "model_module_version": "1.2.0",
      "model_name": "DescriptionStyleModel",
      "state": {
       "description_width": ""
      }
     },
     "de99fa1577f84e06ac7663caf6ad4bc3": {
      "model_module": "@jupyter-widgets/controls",
      "model_module_version": "1.2.0",
      "model_name": "ButtonStyleModel",
      "state": {}
     },
     "deb1738f765e4746bb49dbf08bd5451e": {
      "model_module": "@jupyter-widgets/controls",
      "model_module_version": "1.2.0",
      "model_name": "IntSliderModel",
      "state": {
       "description": "\\(\\int_0^t f\\)",
       "layout": "IPY_MODEL_610f7a96cd994282abcf5630f1aba137",
       "style": "IPY_MODEL_8d0528150ec04eac9b7b460a41f901a0"
      }
     },
     "deb589a3e2ba408083dfaad0c5dd7243": {
      "model_module": "@jupyter-widgets/base",
      "model_module_version": "1.0.0",
      "model_name": "LayoutModel",
      "state": {}
     },
     "debc349add4d4f8aa124012b07a1bb44": {
      "model_module": "@jupyter-widgets/controls",
      "model_module_version": "1.2.0",
      "model_name": "ButtonModel",
      "state": {
       "button_style": "warning",
       "description": "39",
       "layout": "IPY_MODEL_e20ec9c5c01e485bbfa90160b80eb8f4",
       "style": "IPY_MODEL_31a99d8956a94d5fb7c556586653cc3d"
      }
     },
     "df0d7b03638043d98771092532ba49b3": {
      "model_module": "@jupyter-widgets/base",
      "model_module_version": "1.0.0",
      "model_name": "LayoutModel",
      "state": {
       "flex": "3 1 auto",
       "width": "auto"
      }
     },
     "df1d18b61f8a434d916ab0936bf51cbf": {
      "model_module": "@jupyter-widgets/controls",
      "model_module_version": "1.2.0",
      "model_name": "ButtonStyleModel",
      "state": {}
     },
     "df299558f7fe43b2b5de00f8a5202d32": {
      "model_module": "@jupyter-widgets/base",
      "model_module_version": "1.0.0",
      "model_name": "LayoutModel",
      "state": {
       "height": "auto",
       "width": "auto"
      }
     },
     "df44272d5eff4650882c63c8bc998fd6": {
      "model_module": "@jupyter-widgets/controls",
      "model_module_version": "1.2.0",
      "model_name": "VBoxModel",
      "state": {
       "children": [
        "IPY_MODEL_02e955f32d264b68bc8f09f620570e4d",
        "IPY_MODEL_3bf445327f9e4a02a154bf0d7d043cf1"
       ],
       "layout": "IPY_MODEL_cfb65fbc1f3943bea2a9a829d302f25b"
      }
     },
     "df45e92970d846289a432240f0d22adc": {
      "model_module": "@jupyter-widgets/controls",
      "model_module_version": "1.2.0",
      "model_name": "ButtonStyleModel",
      "state": {}
     },
     "df7b737edc1f4e2d8e0287462cd184d5": {
      "model_module": "@jupyter-widgets/base",
      "model_module_version": "1.0.0",
      "model_name": "LayoutModel",
      "state": {
       "grid_gap": "1px 1px",
       "grid_template": "50px 100px / 25% 10% auto 200px"
      }
     },
     "df87dabe344f4df4b4cc775ca561988e": {
      "model_module": "@jupyter-widgets/base",
      "model_module_version": "1.0.0",
      "model_name": "LayoutModel",
      "state": {
       "grid_template": "auto / 30px 40px auto 50px"
      }
     },
     "df99ea7b5d14476b8106a219e37c3523": {
      "model_module": "@jupyter-widgets/controls",
      "model_module_version": "1.2.0",
      "model_name": "ButtonModel",
      "state": {
       "layout": "IPY_MODEL_77ca05fada8c42ab91791836d35e0ddd",
       "style": "IPY_MODEL_c44c6f0fc341452c9cedb0d94c64125a"
      }
     },
     "df9e2e0507484692b334d2df271d390d": {
      "model_module": "@jupyter-widgets/base",
      "model_module_version": "1.0.0",
      "model_name": "LayoutModel",
      "state": {}
     },
     "e017c76df62142ec9b04a60d6e923e57": {
      "model_module": "@jupyter-widgets/controls",
      "model_module_version": "1.2.0",
      "model_name": "ButtonStyleModel",
      "state": {
       "button_color": "blue"
      }
     },
     "e09910c030444c53b4a48022d78b1746": {
      "model_module": "@jupyter-widgets/controls",
      "model_module_version": "1.2.0",
      "model_name": "BoxModel",
      "state": {
       "children": [
        "IPY_MODEL_201c5ffe20854f2ead15d7f8c48249a2",
        "IPY_MODEL_27b7c154ebcc4b0aa7313b7f46b0e0b7"
       ],
       "layout": "IPY_MODEL_25e005c687cf45b18e91e45143669dde"
      }
     },
     "e0c016081ae5403da29ea6bbcce91006": {
      "model_module": "@jupyter-widgets/controls",
      "model_module_version": "1.2.0",
      "model_name": "ButtonModel",
      "state": {
       "button_style": "warning",
       "description": "26",
       "layout": "IPY_MODEL_963f958a6a3049a3b012ec8484fb898f",
       "style": "IPY_MODEL_d3337c8bba394303bc8b7dc4ab059542"
      }
     },
     "e0c0daf276264e1599ee86b38c52d232": {
      "model_module": "@jupyter-widgets/controls",
      "model_module_version": "1.2.0",
      "model_name": "ButtonModel",
      "state": {
       "layout": "IPY_MODEL_108b7a291ea1463a995ad47b5465d0b3",
       "style": "IPY_MODEL_8670eebe0edd46e28c72d32f55e21fd1"
      }
     },
     "e0c3b58427324a85900bbf8967c35a92": {
      "model_module": "@jupyter-widgets/controls",
      "model_module_version": "1.2.0",
      "model_name": "ButtonModel",
      "state": {
       "layout": "IPY_MODEL_af2aef9b5b0d4daa8e74e47e31ee0437",
       "style": "IPY_MODEL_9d86c44cee43471491a440c955773e2f"
      }
     },
     "e0c6c7e0d8b4434a8dc6e3a3e2b64d0b": {
      "model_module": "@jupyter-widgets/controls",
      "model_module_version": "1.2.0",
      "model_name": "ButtonModel",
      "state": {
       "layout": "IPY_MODEL_3a3f68ca71bc47e7877bb1b9073933ed",
       "style": "IPY_MODEL_f63f3153934046f081ba41b3a57b6ecb"
      }
     },
     "e0d26e262ec8472eaefde02e72a03e78": {
      "model_module": "@jupyter-widgets/controls",
      "model_module_version": "1.2.0",
      "model_name": "ButtonModel",
      "state": {
       "layout": "IPY_MODEL_93cf562e131e4a7eacb682fd13e54be7",
       "style": "IPY_MODEL_a9a0e52c5e8040fb9d96be13f6eba93a"
      }
     },
     "e0da6ee0aa2943f49f378a0ec851dd69": {
      "model_module": "@jupyter-widgets/controls",
      "model_module_version": "1.2.0",
      "model_name": "ButtonModel",
      "state": {
       "button_style": "danger",
       "description": "weight=3; auto",
       "layout": "IPY_MODEL_c97dde67ad324ed5aef4854783b9ad6b",
       "style": "IPY_MODEL_2f18d7602c3f4540ba202e1f741f5b7b"
      }
     },
     "e0e44eb3564e4127867de331b6aa8bba": {
      "model_module": "@jupyter-widgets/controls",
      "model_module_version": "1.2.0",
      "model_name": "ButtonModel",
      "state": {
       "button_style": "warning",
       "description": "13",
       "layout": "IPY_MODEL_a810a994ec8c404f8136c2e39def56aa",
       "style": "IPY_MODEL_18ff526b1a3041abbac137af480e6f11"
      }
     },
     "e14ed0250f08409f8c8b12ad40c15eb5": {
      "model_module": "@jupyter-widgets/base",
      "model_module_version": "1.0.0",
      "model_name": "LayoutModel",
      "state": {
       "grid_area": "header",
       "width": "auto"
      }
     },
     "e164e46c0cce4791a5ebe50f3f0eac0e": {
      "model_module": "@jupyter-widgets/controls",
      "model_module_version": "1.2.0",
      "model_name": "ButtonModel",
      "state": {
       "button_style": "danger",
       "description": "battery",
       "layout": "IPY_MODEL_0112515c34d24b3c942c9ca511b83c2a",
       "style": "IPY_MODEL_310c3e0e543345c787f35c1dd88dd3dc"
      }
     },
     "e1b57bee8bad40379863682cd8031c84": {
      "model_module": "@jupyter-widgets/controls",
      "model_module_version": "1.2.0",
      "model_name": "LabelModel",
      "state": {
       "layout": "IPY_MODEL_bfb6637d5acd4029aeb81da2396dce8e",
       "style": "IPY_MODEL_eef741c1b1c64351b90ee6f741bd76d6",
       "value": "A too long description"
      }
     },
     "e1ef9b0170f64e81a076f03738c75c07": {
      "model_module": "@jupyter-widgets/controls",
      "model_module_version": "1.2.0",
      "model_name": "ButtonModel",
      "state": {
       "layout": "IPY_MODEL_e9e51dc7db2e4dae8f6b58239515ec62",
       "style": "IPY_MODEL_1854695c41804cc3af3eda5f6f59c60c"
      }
     },
     "e20ec9c5c01e485bbfa90160b80eb8f4": {
      "model_module": "@jupyter-widgets/base",
      "model_module_version": "1.0.0",
      "model_name": "LayoutModel",
      "state": {
       "height": "100px",
       "min_width": "40px"
      }
     },
     "e21b446398d04e2a9314afe9f4d2f216": {
      "model_module": "@jupyter-widgets/controls",
      "model_module_version": "1.2.0",
      "model_name": "ButtonModel",
      "state": {
       "layout": "IPY_MODEL_df299558f7fe43b2b5de00f8a5202d32",
       "style": "IPY_MODEL_5ca0db911dcb4e7fbd69e459e7a64aed"
      }
     },
     "e23125f4d8164dc287fb2654ccf66955": {
      "model_module": "@jupyter-widgets/controls",
      "model_module_version": "1.2.0",
      "model_name": "ButtonStyleModel",
      "state": {}
     },
     "e237fc7ee11f4e8a9a2526b60ee571a1": {
      "model_module": "@jupyter-widgets/controls",
      "model_module_version": "1.2.0",
      "model_name": "ButtonModel",
      "state": {
       "layout": "IPY_MODEL_ed7a8c83001940449ee5091e663ebda9",
       "style": "IPY_MODEL_3c09a1d5914f44c19fe349716a4ebf69"
      }
     },
     "e24526c40df74f35a2c139e67f215a08": {
      "model_module": "@jupyter-widgets/controls",
      "model_module_version": "1.2.0",
      "model_name": "ButtonStyleModel",
      "state": {}
     },
     "e25bf36a575a4acd814bb904c8301173": {
      "model_module": "@jupyter-widgets/base",
      "model_module_version": "1.0.0",
      "model_name": "LayoutModel",
      "state": {
       "grid_template": "auto / auto auto auto auto auto"
      }
     },
     "e274e37692144753b25578f97d7514bf": {
      "model_module": "@jupyter-widgets/controls",
      "model_module_version": "1.2.0",
      "model_name": "ButtonModel",
      "state": {
       "button_style": "warning",
       "description": "30",
       "layout": "IPY_MODEL_e20ec9c5c01e485bbfa90160b80eb8f4",
       "style": "IPY_MODEL_32740091352b47dbabd3cd1b411d3fc1"
      }
     },
     "e2d7d0dbeef24837bc95e7ceed2a019a": {
      "model_module": "@jupyter-widgets/controls",
      "model_module_version": "1.2.0",
      "model_name": "LabelModel",
      "state": {
       "layout": "IPY_MODEL_c148b386cc4a4d46ae83ebafedd69bba",
       "style": "IPY_MODEL_201486be687c475cb32d0dc0ed205666",
       "value": "Age of the captain"
      }
     },
     "e2dc26e2404840789fcb3b5108b49990": {
      "model_module": "@jupyter-widgets/base",
      "model_module_version": "1.0.0",
      "model_name": "LayoutModel",
      "state": {}
     },
     "e3021fee415d4d258fe86c7e05b55c0c": {
      "model_module": "@jupyter-widgets/controls",
      "model_module_version": "1.2.0",
      "model_name": "ButtonStyleModel",
      "state": {}
     },
     "e309f978dba140eb8fa044589700e5e4": {
      "model_module": "@jupyter-widgets/controls",
      "model_module_version": "1.2.0",
      "model_name": "ButtonStyleModel",
      "state": {
       "button_color": "darkseagreen"
      }
     },
     "e316fdadd1584f18b543af965f50550a": {
      "model_module": "@jupyter-widgets/controls",
      "model_module_version": "1.2.0",
      "model_name": "ButtonModel",
      "state": {
       "layout": "IPY_MODEL_3a3f68ca71bc47e7877bb1b9073933ed",
       "style": "IPY_MODEL_427288cf9c144002842de0789c30a98f"
      }
     },
     "e34c1737997c42479f4ae0b5dc0b7d85": {
      "model_module": "@jupyter-widgets/controls",
      "model_module_version": "1.2.0",
      "model_name": "ButtonStyleModel",
      "state": {
       "button_color": "salmon"
      }
     },
     "e35f6aad6d4c4296a564b8fbf6f864f1": {
      "model_module": "@jupyter-widgets/base",
      "model_module_version": "1.0.0",
      "model_name": "LayoutModel",
      "state": {}
     },
     "e36d4afaed644ebd9d832f6525d209b4": {
      "model_module": "@jupyter-widgets/base",
      "model_module_version": "1.0.0",
      "model_name": "LayoutModel",
      "state": {
       "height": "auto",
       "width": "auto"
      }
     },
     "e3714205bc5c4896ae65033334dd34b3": {
      "model_module": "@jupyter-widgets/controls",
      "model_module_version": "1.2.0",
      "model_name": "ButtonStyleModel",
      "state": {}
     },
     "e375cf39bd9947cdb5aef2b4b855bf9c": {
      "model_module": "@jupyter-widgets/controls",
      "model_module_version": "1.2.0",
      "model_name": "ButtonModel",
      "state": {
       "button_style": "warning",
       "description": "22",
       "layout": "IPY_MODEL_16df380d38fb47a2bbb217b953037b65",
       "style": "IPY_MODEL_f0af374e937b4293b8a0e4475fad4f30"
      }
     },
     "e383fdd6a9644483972eb22f9e9eedbb": {
      "model_module": "@jupyter-widgets/controls",
      "model_module_version": "1.2.0",
      "model_name": "ButtonStyleModel",
      "state": {}
     },
     "e3ff943146764dedab7dce45fdaa0221": {
      "model_module": "@jupyter-widgets/base",
      "model_module_version": "1.0.0",
      "model_name": "LayoutModel",
      "state": {
       "grid_area": "main",
       "width": "auto"
      }
     },
     "e419783c5b69486289919efeb71a4693": {
      "model_module": "@jupyter-widgets/controls",
      "model_module_version": "1.2.0",
      "model_name": "ButtonStyleModel",
      "state": {
       "button_color": "blue"
      }
     },
     "e4305bdf8c48431da816ab102005c67b": {
      "model_module": "@jupyter-widgets/controls",
      "model_module_version": "1.2.0",
      "model_name": "SliderStyleModel",
      "state": {
       "description_width": ""
      }
     },
     "e438271b4c484417a08416980458b1f3": {
      "model_module": "@jupyter-widgets/controls",
      "model_module_version": "1.2.0",
      "model_name": "BoxModel",
      "state": {
       "children": [
        "IPY_MODEL_f9881827bfa347d7bce7c669d5a500ac",
        "IPY_MODEL_31c9864a5f044a6dbabd52279aaa6904"
       ],
       "layout": "IPY_MODEL_277ead2d41e1436a9574e6d01925f443"
      }
     },
     "e43f55851208423fad14da3a8ece696e": {
      "model_module": "@jupyter-widgets/controls",
      "model_module_version": "1.2.0",
      "model_name": "BoxModel",
      "state": {
       "children": [
        "IPY_MODEL_1e9b8a81f6854f81855211c9a538a08d",
        "IPY_MODEL_9f2d442970974af58dc5bc5f1cc12d1d"
       ],
       "layout": "IPY_MODEL_addf6f78f36149718c9b21ed3851d43a"
      }
     },
     "e4466a6f4f724f0695c817a3cef77d97": {
      "model_module": "@jupyter-widgets/base",
      "model_module_version": "1.0.0",
      "model_name": "LayoutModel",
      "state": {
       "width": "auto"
      }
     },
     "e44a39f3acce413989516774e2fc2c49": {
      "model_module": "@jupyter-widgets/controls",
      "model_module_version": "1.2.0",
      "model_name": "SliderStyleModel",
      "state": {
       "description_width": "",
       "handle_color": "lightblue"
      }
     },
     "e44cc3e2370c46bdba3ecde921a95d83": {
      "model_module": "@jupyter-widgets/controls",
      "model_module_version": "1.2.0",
      "model_name": "ButtonModel",
      "state": {
       "layout": "IPY_MODEL_e4466a6f4f724f0695c817a3cef77d97",
       "style": "IPY_MODEL_b141c4e03c6548da809237bb9c6bde36"
      }
     },
     "e4621d95cdb942f8a1bf04de93c705f9": {
      "model_module": "@jupyter-widgets/controls",
      "model_module_version": "1.2.0",
      "model_name": "ButtonModel",
      "state": {
       "layout": "IPY_MODEL_d9d52397cd8c4c10b7db3ba3c2ebd41e",
       "style": "IPY_MODEL_88272af385e74f018a86413a06bb2d00"
      }
     },
     "e476519c710d40d1bb3f0b76d39d43c6": {
      "model_module": "@jupyter-widgets/controls",
      "model_module_version": "1.2.0",
      "model_name": "ButtonModel",
      "state": {
       "layout": "IPY_MODEL_ea2a717a6abb43d58ed664b124108192",
       "style": "IPY_MODEL_7f1d43ffd3b947c781cd0bd3a801fafa"
      }
     },
     "e47be531bc294f88b7f66588b90f376b": {
      "model_module": "@jupyter-widgets/base",
      "model_module_version": "1.0.0",
      "model_name": "LayoutModel",
      "state": {
       "flex": "1 1 auto",
       "width": "auto"
      }
     },
     "e485e6b274864ebf88eb275787889b67": {
      "model_module": "@jupyter-widgets/controls",
      "model_module_version": "1.2.0",
      "model_name": "ButtonStyleModel",
      "state": {
       "button_color": "blue"
      }
     },
     "e4c858c31e014c758e45357a1aad3f67": {
      "model_module": "@jupyter-widgets/controls",
      "model_module_version": "1.2.0",
      "model_name": "ButtonModel",
      "state": {
       "layout": "IPY_MODEL_71edbc4e034840e2a9927c2487c68700",
       "style": "IPY_MODEL_2b700f2071f847d28eef645898d7bb5a"
      }
     },
     "e4f3c0316bbd491398e2d793aede1f6c": {
      "model_module": "@jupyter-widgets/controls",
      "model_module_version": "1.2.0",
      "model_name": "ButtonModel",
      "state": {
       "layout": "IPY_MODEL_1c81b91358154c19ab0e8986a32d5733",
       "style": "IPY_MODEL_8708a465944943bf98413a381da7a111"
      }
     },
     "e50049438a0b4ebd9e3459f0458d9725": {
      "model_module": "@jupyter-widgets/controls",
      "model_module_version": "1.2.0",
      "model_name": "ButtonModel",
      "state": {
       "layout": "IPY_MODEL_3f71f81b8f7747939c03e358cd4a7a17",
       "style": "IPY_MODEL_fdd73a93225844ce94f47f4a447c7c07"
      }
     },
     "e515e0e1a57440c6b207ac6770b8d7bf": {
      "model_module": "@jupyter-widgets/controls",
      "model_module_version": "1.2.0",
      "model_name": "GridBoxModel",
      "state": {
       "children": [
        "IPY_MODEL_16d0118f06184ab49e5713d6af57cb97",
        "IPY_MODEL_8001268266974540b782930c9d40e71b",
        "IPY_MODEL_fd3314b30fcb4a75856eeffedd3ccc62",
        "IPY_MODEL_c79f6b6a778646f2b6fcf3c2411ce39a",
        "IPY_MODEL_b5091dced09149eb9f773a30a34452d2",
        "IPY_MODEL_e1ef9b0170f64e81a076f03738c75c07",
        "IPY_MODEL_95efebc771fa487aae1edaeb4c018b48",
        "IPY_MODEL_3ef54d24564d4bd080d8a9680beb6813",
        "IPY_MODEL_fcd7a10309b64730aae196f60edae24a",
        "IPY_MODEL_8b789da440f948e397fc3cec19a373c4"
       ],
       "layout": "IPY_MODEL_d8f9e4f52eda4968b9e484609563c080"
      }
     },
     "e523029279594318bc243374b596d3db": {
      "model_module": "@jupyter-widgets/base",
      "model_module_version": "1.0.0",
      "model_name": "LayoutModel",
      "state": {}
     },
     "e576314fbaf14125b159f4f6827a87d8": {
      "model_module": "@jupyter-widgets/controls",
      "model_module_version": "1.2.0",
      "model_name": "ButtonStyleModel",
      "state": {}
     },
     "e5871e93b9b84ac8a2e4777a443626bd": {
      "model_module": "@jupyter-widgets/base",
      "model_module_version": "1.0.0",
      "model_name": "LayoutModel",
      "state": {}
     },
     "e5afc340e2d74170a0151643e5372b3d": {
      "model_module": "@jupyter-widgets/controls",
      "model_module_version": "1.2.0",
      "model_name": "ButtonStyleModel",
      "state": {}
     },
     "e5cdba0b8c97434cad49f1b0341a9dc7": {
      "model_module": "@jupyter-widgets/controls",
      "model_module_version": "1.2.0",
      "model_name": "ButtonModel",
      "state": {
       "button_style": "warning",
       "description": "32",
       "layout": "IPY_MODEL_16df380d38fb47a2bbb217b953037b65",
       "style": "IPY_MODEL_75fb7a3fb7ef468ba86f9dbcf9f83ad8"
      }
     },
     "e5e88bb4415c4a7a9f5e2de01cee5369": {
      "model_module": "@jupyter-widgets/base",
      "model_module_version": "1.0.0",
      "model_name": "LayoutModel",
      "state": {
       "flex": "3 1 auto",
       "width": "auto"
      }
     },
     "e5f0c4a58f884bfc8620057261cc7ca0": {
      "model_module": "@jupyter-widgets/controls",
      "model_module_version": "1.2.0",
      "model_name": "ButtonStyleModel",
      "state": {}
     },
     "e61451ed6d7b433d8503653255ae3e95": {
      "model_module": "@jupyter-widgets/controls",
      "model_module_version": "1.2.0",
      "model_name": "ButtonModel",
      "state": {
       "button_style": "warning",
       "description": "5",
       "layout": "IPY_MODEL_e20ec9c5c01e485bbfa90160b80eb8f4",
       "style": "IPY_MODEL_0f061107c3d941f393353fec07b3a195"
      }
     },
     "e6291c84d6ff455f884d87116879e9e2": {
      "model_module": "@jupyter-widgets/controls",
      "model_module_version": "1.2.0",
      "model_name": "ButtonModel",
      "state": {
       "button_style": "danger",
       "description": "weight=1; auto",
       "layout": "IPY_MODEL_d0f7e90f8b324c7cb40e5c986347be99",
       "style": "IPY_MODEL_97525bbcbcd8447d9bf17eaebefa433d"
      }
     },
     "e6f5653445c64c489b3a49b9f3d2ce28": {
      "model_module": "@jupyter-widgets/controls",
      "model_module_version": "1.2.0",
      "model_name": "ButtonStyleModel",
      "state": {}
     },
     "e6fb424c83534ec3a6d8a1569c74a219": {
      "model_module": "@jupyter-widgets/controls",
      "model_module_version": "1.2.0",
      "model_name": "ButtonModel",
      "state": {
       "button_style": "danger",
       "description": "correct",
       "layout": "IPY_MODEL_4e77966225b340fcada10948f3b7386c",
       "style": "IPY_MODEL_0e370b39ed4f410eb0dcafda8f0fc9f9"
      }
     },
     "e72f6799d8094e7a90e57de587fa85c5": {
      "model_module": "@jupyter-widgets/controls",
      "model_module_version": "1.2.0",
      "model_name": "ButtonStyleModel",
      "state": {}
     },
     "e73a1e7208da4ec6af0a28d004f5f218": {
      "model_module": "@jupyter-widgets/controls",
      "model_module_version": "1.2.0",
      "model_name": "ButtonStyleModel",
      "state": {}
     },
     "e73f4a3c29184e79bfcdf701e345f287": {
      "model_module": "@jupyter-widgets/controls",
      "model_module_version": "1.2.0",
      "model_name": "ButtonStyleModel",
      "state": {}
     },
     "e73f9a6636dd4219bd2f0d06ef51749d": {
      "model_module": "@jupyter-widgets/controls",
      "model_module_version": "1.2.0",
      "model_name": "ButtonStyleModel",
      "state": {}
     },
     "e7aaefc5ff514e2eaf23f1ef883f7435": {
      "model_module": "@jupyter-widgets/controls",
      "model_module_version": "1.2.0",
      "model_name": "ButtonStyleModel",
      "state": {}
     },
     "e7b5eab948be430da50549e8a478f72d": {
      "model_module": "@jupyter-widgets/base",
      "model_module_version": "1.0.0",
      "model_name": "LayoutModel",
      "state": {}
     },
     "e7d0bb814287413e8c9cd93f09a390ee": {
      "model_module": "@jupyter-widgets/controls",
      "model_module_version": "1.2.0",
      "model_name": "ButtonStyleModel",
      "state": {}
     },
     "e7f4b0a3cbc24a40a55d04b1827165e9": {
      "model_module": "@jupyter-widgets/controls",
      "model_module_version": "1.2.0",
      "model_name": "ButtonStyleModel",
      "state": {}
     },
     "e8151f9390d049f482dfffe73f3a89ac": {
      "model_module": "@jupyter-widgets/controls",
      "model_module_version": "1.2.0",
      "model_name": "IntSliderModel",
      "state": {
       "description": "Blue handle",
       "layout": "IPY_MODEL_4944c2c35c0c4becae871ffdf38b3410",
       "style": "IPY_MODEL_fedb44fa44354e588e5e68eef1c59f35"
      }
     },
     "e8176ab1ac96403b8c3a5e3ea376bda3": {
      "model_module": "@jupyter-widgets/controls",
      "model_module_version": "1.2.0",
      "model_name": "LabelModel",
      "state": {
       "layout": "IPY_MODEL_3e3ccffd21f048218d1eb3d06ce03c1b",
       "style": "IPY_MODEL_0efa2ecda5704ff4bd450c765eecd773",
       "value": "Scroll horizontally:"
      }
     },
     "e8188f1d3b0742b68c699dcb56853ea4": {
      "model_module": "@jupyter-widgets/controls",
      "model_module_version": "1.2.0",
      "model_name": "ButtonStyleModel",
      "state": {
       "button_color": "lightblue"
      }
     },
     "e81c3fdbfec6424499e5205cf85262aa": {
      "model_module": "@jupyter-widgets/controls",
      "model_module_version": "1.2.0",
      "model_name": "ButtonStyleModel",
      "state": {}
     },
     "e823eab5caa0448fbbafbfe651310c7b": {
      "model_module": "@jupyter-widgets/controls",
      "model_module_version": "1.2.0",
      "model_name": "ButtonModel",
      "state": {
       "button_style": "warning",
       "description": "32",
       "layout": "IPY_MODEL_a810a994ec8c404f8136c2e39def56aa",
       "style": "IPY_MODEL_999684df59614e8a87eaeb6b17984942"
      }
     },
     "e83bb151937644dba8862abeb4d63195": {
      "model_module": "@jupyter-widgets/controls",
      "model_module_version": "1.2.0",
      "model_name": "ButtonModel",
      "state": {
       "layout": "IPY_MODEL_bca42cda5863431094ba3b2b4642113f",
       "style": "IPY_MODEL_980cf7af97914743b6e3b85ada5d8fab"
      }
     },
     "e8673b7678fe4d1db1c973d702b87426": {
      "model_module": "@jupyter-widgets/controls",
      "model_module_version": "1.2.0",
      "model_name": "ButtonStyleModel",
      "state": {}
     },
     "e86c8f1647014c8c96bd5e4c4f19b7d5": {
      "model_module": "@jupyter-widgets/controls",
      "model_module_version": "1.2.0",
      "model_name": "ButtonModel",
      "state": {
       "layout": "IPY_MODEL_bd032ec0085648d8b4bee7b4b2e75fe2",
       "style": "IPY_MODEL_60e170a7ce634ef9a5578b99cb742a11"
      }
     },
     "e89b51b1fa3b42a59b7c8403083a6ad3": {
      "model_module": "@jupyter-widgets/controls",
      "model_module_version": "1.2.0",
      "model_name": "ButtonStyleModel",
      "state": {}
     },
     "e90b5b93e7ab432788e15c9ad389d576": {
      "model_module": "@jupyter-widgets/controls",
      "model_module_version": "1.2.0",
      "model_name": "ButtonStyleModel",
      "state": {}
     },
     "e9166da80b5c41c4ae4aad97a2b46c4c": {
      "model_module": "@jupyter-widgets/controls",
      "model_module_version": "1.2.0",
      "model_name": "ButtonModel",
      "state": {
       "layout": "IPY_MODEL_ab76ed9ca4474fcf9ccc5785eddfc291",
       "style": "IPY_MODEL_1f88ba38140f46da8e14b2de81f5ae79"
      }
     },
     "e921cc9595f348f5a07569ba1ff524f0": {
      "model_module": "@jupyter-widgets/controls",
      "model_module_version": "1.2.0",
      "model_name": "ButtonModel",
      "state": {
       "button_style": "warning",
       "description": "8",
       "layout": "IPY_MODEL_a810a994ec8c404f8136c2e39def56aa",
       "style": "IPY_MODEL_2feaf7f574d848589ab4d36e9762e0e4"
      }
     },
     "e927d721d6b14c1b8e4ca6e4a11786b8": {
      "model_module": "@jupyter-widgets/controls",
      "model_module_version": "1.2.0",
      "model_name": "ButtonModel",
      "state": {
       "layout": "IPY_MODEL_79399177b5ec46dd8a36c07efb6fa0d4",
       "style": "IPY_MODEL_d1a86e73c0e64cf4819374a61363aa96"
      }
     },
     "e9327ad895b54b1d88cb8dc1c6a9e5f9": {
      "model_module": "@jupyter-widgets/controls",
      "model_module_version": "1.2.0",
      "model_name": "ButtonModel",
      "state": {
       "layout": "IPY_MODEL_dddc482ee42c496ab9986f5ee610bb9f",
       "style": "IPY_MODEL_b7fa459955c948709b99acdb2ad6e81b"
      }
     },
     "e9822519c2c7452aba21f3fb99ddf2cd": {
      "model_module": "@jupyter-widgets/base",
      "model_module_version": "1.0.0",
      "model_name": "LayoutModel",
      "state": {
       "height": "auto",
       "width": "auto"
      }
     },
     "e983c13ac703417183039e54f9500c0e": {
      "model_module": "@jupyter-widgets/base",
      "model_module_version": "1.0.0",
      "model_name": "LayoutModel",
      "state": {}
     },
     "e998a3b78e624a79b6aad66a589f0b15": {
      "model_module": "@jupyter-widgets/controls",
      "model_module_version": "1.2.0",
      "model_name": "ButtonModel",
      "state": {
       "layout": "IPY_MODEL_6f40ca184b52431fb129559993d708e0",
       "style": "IPY_MODEL_e9ab615766dc44c1a85205d8860b565c"
      }
     },
     "e9ab615766dc44c1a85205d8860b565c": {
      "model_module": "@jupyter-widgets/controls",
      "model_module_version": "1.2.0",
      "model_name": "ButtonStyleModel",
      "state": {
       "button_color": "#77A"
      }
     },
     "e9b5b56fa75543f4888f227e9e831dfe": {
      "model_module": "@jupyter-widgets/controls",
      "model_module_version": "1.2.0",
      "model_name": "DescriptionStyleModel",
      "state": {
       "description_width": ""
      }
     },
     "e9d01b4b98b742edbc64f82992d94450": {
      "model_module": "@jupyter-widgets/controls",
      "model_module_version": "1.2.0",
      "model_name": "ButtonStyleModel",
      "state": {
       "button_color": "lightgreen"
      }
     },
     "e9e51dc7db2e4dae8f6b58239515ec62": {
      "model_module": "@jupyter-widgets/base",
      "model_module_version": "1.0.0",
      "model_name": "LayoutModel",
      "state": {}
     },
     "ea16721f856b4693acae2092ca13dd59": {
      "model_module": "@jupyter-widgets/controls",
      "model_module_version": "1.2.0",
      "model_name": "ButtonModel",
      "state": {
       "layout": "IPY_MODEL_bca42cda5863431094ba3b2b4642113f",
       "style": "IPY_MODEL_3759f47f24fc49ac8d60bd00a81a1f66"
      }
     },
     "ea2a717a6abb43d58ed664b124108192": {
      "model_module": "@jupyter-widgets/base",
      "model_module_version": "1.0.0",
      "model_name": "LayoutModel",
      "state": {
       "height": "60px",
       "width": "auto"
      }
     },
     "ea3cf23de0bb417ca82629fa0f59746d": {
      "model_module": "@jupyter-widgets/base",
      "model_module_version": "1.0.0",
      "model_name": "LayoutModel",
      "state": {
       "grid_area": "header",
       "width": "auto"
      }
     },
     "ea6001894c0840809d2d105da2ebad3c": {
      "model_module": "@jupyter-widgets/controls",
      "model_module_version": "1.2.0",
      "model_name": "ButtonStyleModel",
      "state": {}
     },
     "ea8723a0521349199bc067181f0ca48e": {
      "model_module": "@jupyter-widgets/base",
      "model_module_version": "1.0.0",
      "model_name": "LayoutModel",
      "state": {}
     },
     "ea97ac0495774211b6d016142a004d9c": {
      "model_module": "@jupyter-widgets/controls",
      "model_module_version": "1.2.0",
      "model_name": "ButtonModel",
      "state": {
       "layout": "IPY_MODEL_3ee33ef73484447eacd6651d43b68f93",
       "style": "IPY_MODEL_ae3dc7b7d423487eabd8560ca054a018"
      }
     },
     "eae720ce374e4a159a4dd196d499296c": {
      "model_module": "@jupyter-widgets/controls",
      "model_module_version": "1.2.0",
      "model_name": "ButtonModel",
      "state": {
       "layout": "IPY_MODEL_edb5edbb1e334fd6a8a6f4e36526261c",
       "style": "IPY_MODEL_0debe83240dc4cdcab00896dfbf2725f"
      }
     },
     "eb08fa7d25434155afe01e696b4e6ee5": {
      "model_module": "@jupyter-widgets/controls",
      "model_module_version": "1.2.0",
      "model_name": "GridBoxModel",
      "state": {
       "children": [
        "IPY_MODEL_9fd77377b2eb4a389b6dc8aa3ab882f0"
       ],
       "layout": "IPY_MODEL_a4fbce107bb14464bd7b6b69cf6117f5"
      }
     },
     "eb173f7dcd8d4c93ae34a9f4d8cef416": {
      "model_module": "@jupyter-widgets/controls",
      "model_module_version": "1.2.0",
      "model_name": "ButtonModel",
      "state": {
       "button_style": "danger",
       "description": "weight=1; auto",
       "layout": "IPY_MODEL_72af633c04a848b8a0432207d57fb473",
       "style": "IPY_MODEL_a81267e6c2a04cad8d77f073c0b02817"
      }
     },
     "eb19d4783aa04160a1c7898f7375aded": {
      "model_module": "@jupyter-widgets/controls",
      "model_module_version": "1.2.0",
      "model_name": "ButtonModel",
      "state": {
       "layout": "IPY_MODEL_0644b7b8372048b8bdbd9a2fb6cbe839",
       "style": "IPY_MODEL_22d68066b4964df58ee9ce69e38506ba"
      }
     },
     "eb1f2566df884c6d862667c2c02a9015": {
      "model_module": "@jupyter-widgets/controls",
      "model_module_version": "1.2.0",
      "model_name": "ButtonModel",
      "state": {
       "layout": "IPY_MODEL_3a3f68ca71bc47e7877bb1b9073933ed",
       "style": "IPY_MODEL_8565e49dd10d4bd5806cae55d5e741b0"
      }
     },
     "eb4d3fd0cd99414fa882d65abcd3a899": {
      "model_module": "@jupyter-widgets/controls",
      "model_module_version": "1.2.0",
      "model_name": "ButtonModel",
      "state": {
       "layout": "IPY_MODEL_2bdfdf76c0e14eebaddf584bf14e9325",
       "style": "IPY_MODEL_6970cb58befc4f0a8a218c5c71ce32d2"
      }
     },
     "eb65af811b6645dab02c87dfb56e4ebb": {
      "model_module": "@jupyter-widgets/controls",
      "model_module_version": "1.2.0",
      "model_name": "ButtonModel",
      "state": {
       "button_style": "warning",
       "description": "27",
       "layout": "IPY_MODEL_e20ec9c5c01e485bbfa90160b80eb8f4",
       "style": "IPY_MODEL_fac4019d57e04d3f9d463fdd7ec80e66"
      }
     },
     "eb7654fb08d943f0b831617fe5458ddb": {
      "model_module": "@jupyter-widgets/base",
      "model_module_version": "1.0.0",
      "model_name": "LayoutModel",
      "state": {
       "height": "auto",
       "width": "auto"
      }
     },
     "eb7be3282432449a9bc4cf232477e9ef": {
      "model_module": "@jupyter-widgets/controls",
      "model_module_version": "1.2.0",
      "model_name": "ButtonStyleModel",
      "state": {}
     },
     "eb9517bf3bb742178cc79747a3407a10": {
      "model_module": "@jupyter-widgets/base",
      "model_module_version": "1.0.0",
      "model_name": "LayoutModel",
      "state": {
       "flex": "3 1 auto",
       "width": "auto"
      }
     },
     "eb9b2021f669461abb01bf45de3cdbe6": {
      "model_module": "@jupyter-widgets/controls",
      "model_module_version": "1.2.0",
      "model_name": "ButtonStyleModel",
      "state": {}
     },
     "ebb5079ff01e4c48ba44cb0919ef25fa": {
      "model_module": "@jupyter-widgets/controls",
      "model_module_version": "1.2.0",
      "model_name": "ButtonModel",
      "state": {
       "button_style": "warning",
       "description": "10",
       "layout": "IPY_MODEL_d2db15f9d1834946bd4923f3faf2a54f",
       "style": "IPY_MODEL_016fb50caab943acb6a8a8ec8f60d24e"
      }
     },
     "ebe606436e9d4a0fa15a22a907cbf644": {
      "model_module": "@jupyter-widgets/controls",
      "model_module_version": "1.2.0",
      "model_name": "ButtonModel",
      "state": {
       "button_style": "warning",
       "description": "18",
       "layout": "IPY_MODEL_79e6f20409fa4963aff904a921b6d604",
       "style": "IPY_MODEL_aeb0760d674544c99e4459b12150bcfa"
      }
     },
     "ebf2c0232e4646b3b2e9bbba58b1773e": {
      "model_module": "@jupyter-widgets/controls",
      "model_module_version": "1.2.0",
      "model_name": "ButtonModel",
      "state": {
       "layout": "IPY_MODEL_79c8ec8c71bf4143a3f69c2e55b6f5c5",
       "style": "IPY_MODEL_352ad5d8c261456da0b123c6d9ee4ed5"
      }
     },
     "ebfd5c2740a24b54b2cf2599b64b265a": {
      "model_module": "@jupyter-widgets/controls",
      "model_module_version": "1.2.0",
      "model_name": "ButtonModel",
      "state": {
       "layout": "IPY_MODEL_cd50e4eac43d4b9f8fff10571a9d0d69",
       "style": "IPY_MODEL_f6ad98a676324b70b9be196293356fa4"
      }
     },
     "ebfeae23995146578147723a288beaaa": {
      "model_module": "@jupyter-widgets/controls",
      "model_module_version": "1.2.0",
      "model_name": "ButtonModel",
      "state": {
       "layout": "IPY_MODEL_0644b7b8372048b8bdbd9a2fb6cbe839",
       "style": "IPY_MODEL_22d68066b4964df58ee9ce69e38506ba"
      }
     },
     "ec475ea136ef41b1a158a9fedeff92e0": {
      "model_module": "@jupyter-widgets/controls",
      "model_module_version": "1.2.0",
      "model_name": "ButtonModel",
      "state": {
       "layout": "IPY_MODEL_df299558f7fe43b2b5de00f8a5202d32",
       "style": "IPY_MODEL_5ca0db911dcb4e7fbd69e459e7a64aed"
      }
     },
     "ec487b35f41c46bb8982c752f87c9cf8": {
      "model_module": "@jupyter-widgets/controls",
      "model_module_version": "1.2.0",
      "model_name": "HBoxModel",
      "state": {
       "children": [
        "IPY_MODEL_479472cf339b45689211e597f4ae07ab",
        "IPY_MODEL_d3f24e08f4eb4415960eb30eff390360"
       ],
       "layout": "IPY_MODEL_e2dc26e2404840789fcb3b5108b49990"
      }
     },
     "ec51008af616464b96a41d5946e4a67e": {
      "model_module": "@jupyter-widgets/controls",
      "model_module_version": "1.2.0",
      "model_name": "ButtonStyleModel",
      "state": {}
     },
     "ec705ed1e8e74e72a2bd592a423b5bd1": {
      "model_module": "@jupyter-widgets/controls",
      "model_module_version": "1.2.0",
      "model_name": "ButtonModel",
      "state": {
       "layout": "IPY_MODEL_d9d52397cd8c4c10b7db3ba3c2ebd41e",
       "style": "IPY_MODEL_88272af385e74f018a86413a06bb2d00"
      }
     },
     "ec7436d6e29c462fafce3e9d3f8181f5": {
      "model_module": "@jupyter-widgets/controls",
      "model_module_version": "1.2.0",
      "model_name": "ButtonStyleModel",
      "state": {}
     },
     "ec783a7c1b58460294551a9588400dab": {
      "model_module": "@jupyter-widgets/base",
      "model_module_version": "1.0.0",
      "model_name": "LayoutModel",
      "state": {
       "width": "auto"
      }
     },
     "ec9c9dbff71d456f992fe97a8f75cc86": {
      "model_module": "@jupyter-widgets/base",
      "model_module_version": "1.0.0",
      "model_name": "LayoutModel",
      "state": {
       "height": "auto",
       "width": "auto"
      }
     },
     "ecad2495a7754bd99a0e1fad95817eaa": {
      "model_module": "@jupyter-widgets/controls",
      "model_module_version": "1.2.0",
      "model_name": "ButtonModel",
      "state": {
       "layout": "IPY_MODEL_7a331edf6ffb4949aab1fe5e258b687a",
       "style": "IPY_MODEL_a2215c06ff59492eb59e01dae5f2dff7"
      }
     },
     "ecebbe406b4c4fabb33c0e065faf58a8": {
      "model_module": "@jupyter-widgets/controls",
      "model_module_version": "1.2.0",
      "model_name": "VBoxModel",
      "state": {
       "children": [
        "IPY_MODEL_ee05591964bf4884bd2bc8355c8d5a16",
        "IPY_MODEL_7c776e463a284e3f86ee2a6f278b4d97"
       ],
       "layout": "IPY_MODEL_fba21cc082a34bce9fae82b8687bac30"
      }
     },
     "ed1064fc32f341988c0c7d9eaecd253d": {
      "model_module": "@jupyter-widgets/controls",
      "model_module_version": "1.2.0",
      "model_name": "ButtonStyleModel",
      "state": {}
     },
     "ed1787fd22d24a6dbcf765e55ee6790c": {
      "model_module": "@jupyter-widgets/controls",
      "model_module_version": "1.2.0",
      "model_name": "ButtonModel",
      "state": {
       "layout": "IPY_MODEL_1a6b0a9053e2452ca410e9de3b4fef7d",
       "style": "IPY_MODEL_4f40a7bbdeca4eebb4f0badab47e7823"
      }
     },
     "ed22292c89004eaca733179aa825f8b8": {
      "model_module": "@jupyter-widgets/controls",
      "model_module_version": "1.2.0",
      "model_name": "ButtonStyleModel",
      "state": {}
     },
     "ed3c9218e6e1492281db4e6218043974": {
      "model_module": "@jupyter-widgets/controls",
      "model_module_version": "1.2.0",
      "model_name": "ButtonModel",
      "state": {
       "button_style": "warning",
       "description": "3",
       "layout": "IPY_MODEL_e20ec9c5c01e485bbfa90160b80eb8f4",
       "style": "IPY_MODEL_8ad80c7388274cfcb2f2d89ac6851c5f"
      }
     },
     "ed58333a4a024b469470cdd7b7deaa51": {
      "model_module": "@jupyter-widgets/controls",
      "model_module_version": "1.2.0",
      "model_name": "GridBoxModel",
      "state": {
       "children": [
        "IPY_MODEL_9eca27cb2ea6405298d9bb28f8f80940",
        "IPY_MODEL_e83bb151937644dba8862abeb4d63195",
        "IPY_MODEL_bbda3c2a05874ba280b11a82b3bd8c38",
        "IPY_MODEL_3ce59d134b97480f804a21d7f2421f72",
        "IPY_MODEL_89713b1e02404a01ab94fddab0ed279d",
        "IPY_MODEL_58e20db8006a4218b969145dafe1fef3",
        "IPY_MODEL_ea16721f856b4693acae2092ca13dd59",
        "IPY_MODEL_24ff4336e24f493ebb5fc49b1f73afb5",
        "IPY_MODEL_4c55b1cdbb564860935b57000f7ae9db",
        "IPY_MODEL_7a9587c6956347d9a762309ee4c5363a"
       ],
       "layout": "IPY_MODEL_9ad6bb2de73742d581d86d28626258ba"
      }
     },
     "ed7a8c83001940449ee5091e663ebda9": {
      "model_module": "@jupyter-widgets/base",
      "model_module_version": "1.0.0",
      "model_name": "LayoutModel",
      "state": {
       "height": "auto",
       "width": "auto"
      }
     },
     "ed8119f5c4b246238d87eece2fd1f682": {
      "model_module": "@jupyter-widgets/controls",
      "model_module_version": "1.2.0",
      "model_name": "ButtonModel",
      "state": {
       "layout": "IPY_MODEL_f5b417d7e1df4155948ccc11e2f1e644",
       "style": "IPY_MODEL_c4473b5a28214e9e9a04affa176297cd"
      }
     },
     "ed8bc0028655450f993c13575e08399b": {
      "model_module": "@jupyter-widgets/controls",
      "model_module_version": "1.2.0",
      "model_name": "HBoxModel",
      "state": {
       "children": [
        "IPY_MODEL_1e84e5dcece04116a45fde561dd8157d",
        "IPY_MODEL_5afdb12381884f3d9a383abbc4d54626"
       ],
       "layout": "IPY_MODEL_3a12286e17c24faa93a919b028f4c9c2"
      }
     },
     "edac28d17a084f2dbe1c96736e24ea93": {
      "model_module": "@jupyter-widgets/controls",
      "model_module_version": "1.2.0",
      "model_name": "ButtonStyleModel",
      "state": {}
     },
     "edb5edbb1e334fd6a8a6f4e36526261c": {
      "model_module": "@jupyter-widgets/base",
      "model_module_version": "1.0.0",
      "model_name": "LayoutModel",
      "state": {
       "height": "auto",
       "width": "auto"
      }
     },
     "ede1bb6a0d614a768dd2fbb3e638d883": {
      "model_module": "@jupyter-widgets/controls",
      "model_module_version": "1.2.0",
      "model_name": "GridBoxModel",
      "state": {
       "children": [
        "IPY_MODEL_3c287f1bdaac420eb5df5c0300f05318",
        "IPY_MODEL_119c02953ef84056b1a7681053b11186",
        "IPY_MODEL_922d16fc45584909a7df35c381cd41f5",
        "IPY_MODEL_ae88990ba5df4940bf8743989800b979",
        "IPY_MODEL_ed1787fd22d24a6dbcf765e55ee6790c",
        "IPY_MODEL_95ba00773e5a4564b58a2d4c4eb57379",
        "IPY_MODEL_938da67af246421ea1d3ff62d6aa0da8",
        "IPY_MODEL_465e81253a694ddab856445e6eac6fdf",
        "IPY_MODEL_22b9d68e19d444b19b7b673a3786a713",
        "IPY_MODEL_0b67d25795954e249c9c7ceb18571550"
       ],
       "layout": "IPY_MODEL_a0049c33290d413bb6f7f09434642b00"
      }
     },
     "ee05591964bf4884bd2bc8355c8d5a16": {
      "model_module": "@jupyter-widgets/controls",
      "model_module_version": "1.2.0",
      "model_name": "BoxModel",
      "state": {
       "children": [
        "IPY_MODEL_f96ac9e037d44f158252de7069feb7ef",
        "IPY_MODEL_d74d104591044e47a683b26ec940306c",
        "IPY_MODEL_83d9f6ec854845b7a6b1cc2672052109"
       ],
       "layout": "IPY_MODEL_77964cb862ea4f859c486d67670fcb44"
      }
     },
     "ee9576febaa0454eabbae7893e601f53": {
      "model_module": "@jupyter-widgets/controls",
      "model_module_version": "1.2.0",
      "model_name": "ButtonModel",
      "state": {
       "layout": "IPY_MODEL_838146113b404f3cab0775e9ec2fb331",
       "style": "IPY_MODEL_50d40dfd1f73480680723399a8e6981c"
      }
     },
     "eebce49c7658418f816e740ddaec903f": {
      "model_module": "@jupyter-widgets/controls",
      "model_module_version": "1.2.0",
      "model_name": "ButtonModel",
      "state": {
       "layout": "IPY_MODEL_8a3f1796ee91466f82c262c79d2684b1",
       "style": "IPY_MODEL_329272f43e0f4c388a07997989034b82"
      }
     },
     "eeccf557adb843f3af513f845f8f2844": {
      "model_module": "@jupyter-widgets/controls",
      "model_module_version": "1.2.0",
      "model_name": "ButtonStyleModel",
      "state": {
       "button_color": "blue"
      }
     },
     "eed06082510d4863b5e23a71f82b3b99": {
      "model_module": "@jupyter-widgets/controls",
      "model_module_version": "1.2.0",
      "model_name": "HBoxModel",
      "state": {
       "children": [
        "IPY_MODEL_8a64c55ac58f45d788fd1db770e81344",
        "IPY_MODEL_28873bf1c7f94dfeb5aff66ec8ff35ba"
       ],
       "layout": "IPY_MODEL_2c012ea993e846198794e72a46a9b397"
      }
     },
     "eed250f20db1441fb9b7e5e88e6c0e54": {
      "model_module": "@jupyter-widgets/controls",
      "model_module_version": "1.2.0",
      "model_name": "ButtonModel",
      "state": {
       "button_style": "warning",
       "description": "7",
       "layout": "IPY_MODEL_a810a994ec8c404f8136c2e39def56aa",
       "style": "IPY_MODEL_40627d245c6a4ffab5fe54104c3f9da6"
      }
     },
     "eedb6a0ec1b94899a6273bc84b89b5be": {
      "model_module": "@jupyter-widgets/controls",
      "model_module_version": "1.2.0",
      "model_name": "ButtonStyleModel",
      "state": {}
     },
     "eef741c1b1c64351b90ee6f741bd76d6": {
      "model_module": "@jupyter-widgets/controls",
      "model_module_version": "1.2.0",
      "model_name": "DescriptionStyleModel",
      "state": {
       "description_width": ""
      }
     },
     "ef04bac9d4f54ba1bff1b2cc42c39527": {
      "model_module": "@jupyter-widgets/controls",
      "model_module_version": "1.2.0",
      "model_name": "ButtonStyleModel",
      "state": {}
     },
     "ef19f948813c4d1a920d0cc38dc54384": {
      "model_module": "@jupyter-widgets/controls",
      "model_module_version": "1.2.0",
      "model_name": "ButtonModel",
      "state": {
       "layout": "IPY_MODEL_04968d543d694c63940f9386c399c6cd",
       "style": "IPY_MODEL_b1b8d356a11f487baf7ea787b337c86a"
      }
     },
     "ef2d04fbee02426d87ca8c2541aa5077": {
      "model_module": "@jupyter-widgets/controls",
      "model_module_version": "1.2.0",
      "model_name": "ButtonModel",
      "state": {
       "button_style": "warning",
       "description": "4",
       "layout": "IPY_MODEL_d2db15f9d1834946bd4923f3faf2a54f",
       "style": "IPY_MODEL_a77e6bd5998c4bc8a3c9a222f6c0f328"
      }
     },
     "ef6065807aa9401387abbf984cb7a8f2": {
      "model_module": "@jupyter-widgets/controls",
      "model_module_version": "1.2.0",
      "model_name": "ButtonModel",
      "state": {
       "button_style": "warning",
       "description": "26",
       "layout": "IPY_MODEL_16df380d38fb47a2bbb217b953037b65",
       "style": "IPY_MODEL_0e573e7b0b134be9bb8921c8f60e3e10"
      }
     },
     "ef64576821bd4913988d58102c67ff80": {
      "model_module": "@jupyter-widgets/controls",
      "model_module_version": "1.2.0",
      "model_name": "ButtonStyleModel",
      "state": {}
     },
     "ef79227166624ecf81ea8c58c2799351": {
      "model_module": "@jupyter-widgets/controls",
      "model_module_version": "1.2.0",
      "model_name": "BoxModel",
      "state": {
       "children": [
        "IPY_MODEL_17166bef47db4fa8899ffa8f69324c6b",
        "IPY_MODEL_f36bb8f321f541dabaa705e777bb398b",
        "IPY_MODEL_6dea539d15154564ae5057a4f766d7dc",
        "IPY_MODEL_46cf06bcd2854994899b2cf43ffa3fec"
       ],
       "layout": "IPY_MODEL_5a76bbec371040d8b043ac563da3cb66"
      }
     },
     "ef9eeb31af084d3e9c7941c6e857d67a": {
      "model_module": "@jupyter-widgets/controls",
      "model_module_version": "1.2.0",
      "model_name": "DescriptionStyleModel",
      "state": {
       "description_width": ""
      }
     },
     "efad0269ea2d414e9f0c884828030b42": {
      "model_module": "@jupyter-widgets/controls",
      "model_module_version": "1.2.0",
      "model_name": "ButtonModel",
      "state": {
       "layout": "IPY_MODEL_117ea36357e04602b4b9777c5e3c176a",
       "style": "IPY_MODEL_cfb6c2c13bbc4d53990bca7cf78133f1"
      }
     },
     "efb19bd1d76e4dec841c3b31b802b4be": {
      "model_module": "@jupyter-widgets/base",
      "model_module_version": "1.0.0",
      "model_name": "LayoutModel",
      "state": {
       "align_items": "stretch",
       "border": "solid 2px",
       "display": "flex",
       "flex_flow": "column",
       "width": "50%"
      }
     },
     "efb2108c0a574478b3aedb8894e50701": {
      "model_module": "@jupyter-widgets/controls",
      "model_module_version": "1.2.0",
      "model_name": "ButtonStyleModel",
      "state": {}
     },
     "efd79c15b60f484d8f757be63c19ee75": {
      "model_module": "@jupyter-widgets/controls",
      "model_module_version": "1.2.0",
      "model_name": "DescriptionStyleModel",
      "state": {
       "description_width": ""
      }
     },
     "efff5ce340da494ab2cc1fef5faf9270": {
      "model_module": "@jupyter-widgets/controls",
      "model_module_version": "1.2.0",
      "model_name": "ButtonStyleModel",
      "state": {}
     },
     "f013e8fde4234a3582325c431065b43b": {
      "model_module": "@jupyter-widgets/controls",
      "model_module_version": "1.2.0",
      "model_name": "ButtonModel",
      "state": {
       "layout": "IPY_MODEL_cd50e4eac43d4b9f8fff10571a9d0d69",
       "style": "IPY_MODEL_f6ad98a676324b70b9be196293356fa4"
      }
     },
     "f029eea3a6dd4e4d9a505f99f708054e": {
      "model_module": "@jupyter-widgets/base",
      "model_module_version": "1.0.0",
      "model_name": "LayoutModel",
      "state": {}
     },
     "f03c5c76876d45b5959cb132f8c63e69": {
      "model_module": "@jupyter-widgets/controls",
      "model_module_version": "1.2.0",
      "model_name": "ButtonModel",
      "state": {
       "button_style": "warning",
       "description": "31",
       "layout": "IPY_MODEL_963f958a6a3049a3b012ec8484fb898f",
       "style": "IPY_MODEL_c8b8989ae326418dbb5e9e458d56aa1e"
      }
     },
     "f097c38d25244d81bae69284fe8cd667": {
      "model_module": "@jupyter-widgets/controls",
      "model_module_version": "1.2.0",
      "model_name": "ButtonModel",
      "state": {
       "layout": "IPY_MODEL_7aa706c4594f4633bfc813ec6eca6e5c",
       "style": "IPY_MODEL_b5c3667d62d249c8a5d2546f7f413b70"
      }
     },
     "f0a088c8d1ea46a4be8acad433947907": {
      "model_module": "@jupyter-widgets/controls",
      "model_module_version": "1.2.0",
      "model_name": "ButtonStyleModel",
      "state": {
       "button_color": "darkseagreen"
      }
     },
     "f0af374e937b4293b8a0e4475fad4f30": {
      "model_module": "@jupyter-widgets/controls",
      "model_module_version": "1.2.0",
      "model_name": "ButtonStyleModel",
      "state": {}
     },
     "f0b0edc9db244c608c1a254ee7afa23b": {
      "model_module": "@jupyter-widgets/controls",
      "model_module_version": "1.2.0",
      "model_name": "ButtonModel",
      "state": {
       "layout": "IPY_MODEL_49f81b3585ff412698273f2404121602",
       "style": "IPY_MODEL_8917918e85dd49b0a323f3d0c8e2d4ca"
      }
     },
     "f0be8b44e57c4f179fbd47fb8a9967a9": {
      "model_module": "@jupyter-widgets/controls",
      "model_module_version": "1.2.0",
      "model_name": "BoxModel",
      "state": {
       "children": [
        "IPY_MODEL_8fd0b51c93df4477a1ab2d38bff8b809",
        "IPY_MODEL_db8364d6dc5547568da66c7bd2b23303"
       ],
       "layout": "IPY_MODEL_277ead2d41e1436a9574e6d01925f443"
      }
     },
     "f0c0b8146a7b4c939bde4fd580ef7b94": {
      "model_module": "@jupyter-widgets/controls",
      "model_module_version": "1.2.0",
      "model_name": "ButtonStyleModel",
      "state": {}
     },
     "f0c585458724468d8dc156b8e050dfe0": {
      "model_module": "@jupyter-widgets/controls",
      "model_module_version": "1.2.0",
      "model_name": "ButtonStyleModel",
      "state": {}
     },
     "f0ce41076f124b7d9a8114235c69a214": {
      "model_module": "@jupyter-widgets/controls",
      "model_module_version": "1.2.0",
      "model_name": "ButtonStyleModel",
      "state": {}
     },
     "f0eb11b8923c43aa97f847ca86d595ed": {
      "model_module": "@jupyter-widgets/controls",
      "model_module_version": "1.2.0",
      "model_name": "ButtonModel",
      "state": {
       "layout": "IPY_MODEL_7f77aa2eb623427386522faafb624ff1",
       "style": "IPY_MODEL_8a1c9e44eed54302bf0cf904fb656e43"
      }
     },
     "f1276f13fcf946fbb161b86286670b9b": {
      "model_module": "@jupyter-widgets/base",
      "model_module_version": "1.0.0",
      "model_name": "LayoutModel",
      "state": {
       "grid_area": "footer",
       "width": "auto"
      }
     },
     "f14e960e219b4d0c868d3a8d0c821a11": {
      "model_module": "@jupyter-widgets/controls",
      "model_module_version": "1.2.0",
      "model_name": "ButtonStyleModel",
      "state": {}
     },
     "f182bbfd77844a69982313f721a4640c": {
      "model_module": "@jupyter-widgets/controls",
      "model_module_version": "1.2.0",
      "model_name": "ButtonModel",
      "state": {
       "button_style": "warning",
       "description": "36",
       "layout": "IPY_MODEL_a810a994ec8c404f8136c2e39def56aa",
       "style": "IPY_MODEL_61b764a4a07e4f579b52ac62f6dc7e3d"
      }
     },
     "f198559cb1da4b1e96e07f9310692cde": {
      "model_module": "@jupyter-widgets/controls",
      "model_module_version": "1.2.0",
      "model_name": "ButtonModel",
      "state": {
       "button_style": "warning",
       "description": "16",
       "layout": "IPY_MODEL_a810a994ec8c404f8136c2e39def56aa",
       "style": "IPY_MODEL_8c54bf8feac7415b9638097001997dc6"
      }
     },
     "f1a6ec4b7511467d81e76770ccdc77e4": {
      "model_module": "@jupyter-widgets/controls",
      "model_module_version": "1.2.0",
      "model_name": "ButtonStyleModel",
      "state": {
       "button_color": "salmon"
      }
     },
     "f1badb8a356d433bb0c49e5cf3580e71": {
      "model_module": "@jupyter-widgets/controls",
      "model_module_version": "1.2.0",
      "model_name": "ButtonModel",
      "state": {
       "layout": "IPY_MODEL_3d81651a297740e381ac147d7c10fcbe",
       "style": "IPY_MODEL_b9452345388241f286b46807f193cb9e"
      }
     },
     "f1dd0ad89f0c4e478b40891c7f5d4be1": {
      "model_module": "@jupyter-widgets/controls",
      "model_module_version": "1.2.0",
      "model_name": "DescriptionStyleModel",
      "state": {
       "description_width": ""
      }
     },
     "f1f1084c4a2d475aaeae5571efea8fb0": {
      "model_module": "@jupyter-widgets/controls",
      "model_module_version": "1.2.0",
      "model_name": "DescriptionStyleModel",
      "state": {
       "description_width": ""
      }
     },
     "f20b486790ef4fbf8695dca1d4f27835": {
      "model_module": "@jupyter-widgets/controls",
      "model_module_version": "1.2.0",
      "model_name": "ButtonStyleModel",
      "state": {}
     },
     "f20ca54fb70b47eab10c66f6074709f5": {
      "model_module": "@jupyter-widgets/controls",
      "model_module_version": "1.2.0",
      "model_name": "ButtonModel",
      "state": {
       "layout": "IPY_MODEL_33821dd28f834ae0b483c1651213364a",
       "style": "IPY_MODEL_098ec8210636463eac4a46477bd90fa9"
      }
     },
     "f21c98a20e7943278aef53135556f064": {
      "model_module": "@jupyter-widgets/controls",
      "model_module_version": "1.2.0",
      "model_name": "ButtonStyleModel",
      "state": {
       "button_color": "darkseagreen"
      }
     },
     "f290c4b873be49bcaf3392d02b5ad661": {
      "model_module": "@jupyter-widgets/controls",
      "model_module_version": "1.2.0",
      "model_name": "ButtonModel",
      "state": {
       "description": "battery",
       "layout": "IPY_MODEL_e35f6aad6d4c4296a564b8fbf6f864f1",
       "style": "IPY_MODEL_69933ee62ad9427dbefde7b05ba98323"
      }
     },
     "f294041a725d40009a0264402bc26b63": {
      "model_module": "@jupyter-widgets/controls",
      "model_module_version": "1.2.0",
      "model_name": "ButtonModel",
      "state": {
       "layout": "IPY_MODEL_0092c073e9a448b1b99ac9470c49fef5",
       "style": "IPY_MODEL_17830cd5257b4f6dbc58afae68aedbf3"
      }
     },
     "f2c79e6c47f1489caa2c0585d5fa4f70": {
      "model_module": "@jupyter-widgets/controls",
      "model_module_version": "1.2.0",
      "model_name": "ButtonStyleModel",
      "state": {}
     },
     "f2ce827c783b410089bf6f01a554d551": {
      "model_module": "@jupyter-widgets/controls",
      "model_module_version": "1.2.0",
      "model_name": "ButtonModel",
      "state": {
       "layout": "IPY_MODEL_104c1bfded49449794e8408e206b484c",
       "style": "IPY_MODEL_bd5b1a4567a8482582943ebb468cfee4"
      }
     },
     "f2cf2b2d44a24d109dde819bcbf02ea0": {
      "model_module": "@jupyter-widgets/controls",
      "model_module_version": "1.2.0",
      "model_name": "ButtonStyleModel",
      "state": {}
     },
     "f2dec8f8f7394d7e85855f179a8914b4": {
      "model_module": "@jupyter-widgets/controls",
      "model_module_version": "1.2.0",
      "model_name": "ButtonModel",
      "state": {
       "layout": "IPY_MODEL_f5b417d7e1df4155948ccc11e2f1e644",
       "style": "IPY_MODEL_b6fb7fe0b43142c086caf27a2f52174a"
      }
     },
     "f2ed947974eb4d5781056816094f24a4": {
      "model_module": "@jupyter-widgets/controls",
      "model_module_version": "1.2.0",
      "model_name": "ButtonStyleModel",
      "state": {}
     },
     "f30fc93e9b134b17ada927c4e08725f9": {
      "model_module": "@jupyter-widgets/controls",
      "model_module_version": "1.2.0",
      "model_name": "ButtonStyleModel",
      "state": {
       "button_color": "#77A"
      }
     },
     "f32b6dd485274cf288c1887ca967da73": {
      "model_module": "@jupyter-widgets/controls",
      "model_module_version": "1.2.0",
      "model_name": "ButtonStyleModel",
      "state": {}
     },
     "f32c89a6592d4e6581d2fc66a4b8f7da": {
      "model_module": "@jupyter-widgets/controls",
      "model_module_version": "1.2.0",
      "model_name": "ButtonStyleModel",
      "state": {}
     },
     "f36bb8f321f541dabaa705e777bb398b": {
      "model_module": "@jupyter-widgets/controls",
      "model_module_version": "1.2.0",
      "model_name": "BoxModel",
      "state": {
       "children": [
        "IPY_MODEL_2d7fb643f15540e2a2e4d8112cbaada1",
        "IPY_MODEL_c0bf0d037fd3449baee5d09e58883c5c"
       ],
       "layout": "IPY_MODEL_27c46bcd29e14115b934a43f66853bee"
      }
     },
     "f3777968ce224917b52b8bfc5de9270a": {
      "model_module": "@jupyter-widgets/controls",
      "model_module_version": "1.2.0",
      "model_name": "BoxModel",
      "state": {
       "children": [
        "IPY_MODEL_30020fb4cd594441a972e87150923732",
        "IPY_MODEL_e0da6ee0aa2943f49f378a0ec851dd69",
        "IPY_MODEL_e6291c84d6ff455f884d87116879e9e2"
       ],
       "layout": "IPY_MODEL_a623253d09c341dc9defacc4718c7313"
      }
     },
     "f3b193e930d0455898a16e8a6738d5cf": {
      "model_module": "@jupyter-widgets/base",
      "model_module_version": "1.0.0",
      "model_name": "LayoutModel",
      "state": {
       "flex": "1 1 0%",
       "width": "auto"
      }
     },
     "f3d2c8d56584472bb31f61a554bdd35c": {
      "model_module": "@jupyter-widgets/controls",
      "model_module_version": "1.2.0",
      "model_name": "BoxModel",
      "state": {
       "children": [
        "IPY_MODEL_005ae38db58644688318d0af0d855149",
        "IPY_MODEL_316f74e173c348888bed12363aa18af2",
        "IPY_MODEL_bf1350fcff954d1fb9b5dff5705124b5",
        "IPY_MODEL_2718a577ac92453198d6705621802e09",
        "IPY_MODEL_973625043a144ba0ba2ed9ad0fc333ab",
        "IPY_MODEL_9d41f04acd8d45c0a86586cc343c06c3",
        "IPY_MODEL_2c56959864584dbc8b2a0f9a4816e48f",
        "IPY_MODEL_eed250f20db1441fb9b7e5e88e6c0e54",
        "IPY_MODEL_e921cc9595f348f5a07569ba1ff524f0",
        "IPY_MODEL_c2ac5f4a144d409d84a42c4218d602fb",
        "IPY_MODEL_1f9a1221f0e94f3e89716708ec4afd1b",
        "IPY_MODEL_bfe61caab164441d821648443d2dec11",
        "IPY_MODEL_98036d5c78a14059927bc6e1280274ca",
        "IPY_MODEL_e0e44eb3564e4127867de331b6aa8bba",
        "IPY_MODEL_87796abe557a4d00b2904d0764eca352",
        "IPY_MODEL_a7b4280232a94bc4b4462febadd54c23",
        "IPY_MODEL_f198559cb1da4b1e96e07f9310692cde",
        "IPY_MODEL_d9900327b4c14f5b8f88fcfeecc89fd9",
        "IPY_MODEL_14fc2b8c63494cdc92e8f70336960935",
        "IPY_MODEL_3d013590aaaa4874868f12ce6d1d826f",
        "IPY_MODEL_aaf847fb561644f59a54e188be20c4a3",
        "IPY_MODEL_93f88ead02ce4e4bbf5611fc697f861b",
        "IPY_MODEL_57b21e5b6ad24909a9dbabc3471e93ce",
        "IPY_MODEL_92444a4319754f6988fa4e49dea67834",
        "IPY_MODEL_f407ce173ad346ba80a209fc78ae88d8",
        "IPY_MODEL_15bdb53ba7b64f9da3285d9a314773aa",
        "IPY_MODEL_71a8b8d602644c0bb4785d578a494d0f",
        "IPY_MODEL_5b7535633dc041c28e1d769b7e542d89",
        "IPY_MODEL_81f4ea0f17924beebd7ed7f1b53c6967",
        "IPY_MODEL_3f6735b68f114cabbdd27875beb43167",
        "IPY_MODEL_412a117d80ee4f009e2f60c689cd99cc",
        "IPY_MODEL_ae6b8d20cfbf46f19c6867e3a9534f95",
        "IPY_MODEL_e823eab5caa0448fbbafbfe651310c7b",
        "IPY_MODEL_0524f3af8726409c8c03b9ea80cd486f",
        "IPY_MODEL_3537c6e995ed49fe86e9b8ec17741df2",
        "IPY_MODEL_5fe9776b6c6a48f0bb702ad7c2be7f04",
        "IPY_MODEL_f182bbfd77844a69982313f721a4640c",
        "IPY_MODEL_1a8d182bc67148b998395f04b6109707",
        "IPY_MODEL_cf8e94812590402d8622fa1c0e81e892",
        "IPY_MODEL_0b59b14c5692434daa40bbd907023c54"
       ],
       "layout": "IPY_MODEL_3ee5b402cd7a48cda33f05d522109fb0"
      }
     },
     "f3fee141a5604d26a09676dd19b430c7": {
      "model_module": "@jupyter-widgets/controls",
      "model_module_version": "1.2.0",
      "model_name": "ButtonModel",
      "state": {
       "button_style": "warning",
       "description": "2",
       "layout": "IPY_MODEL_e20ec9c5c01e485bbfa90160b80eb8f4",
       "style": "IPY_MODEL_bfe225cf5a414a1885b7b7b8f850ef1c"
      }
     },
     "f407ce173ad346ba80a209fc78ae88d8": {
      "model_module": "@jupyter-widgets/controls",
      "model_module_version": "1.2.0",
      "model_name": "ButtonModel",
      "state": {
       "button_style": "warning",
       "description": "24",
       "layout": "IPY_MODEL_a810a994ec8c404f8136c2e39def56aa",
       "style": "IPY_MODEL_e6f5653445c64c489b3a49b9f3d2ce28"
      }
     },
     "f41e991cdb2e49008a6baff2435e74cd": {
      "model_module": "@jupyter-widgets/controls",
      "model_module_version": "1.2.0",
      "model_name": "ButtonStyleModel",
      "state": {}
     },
     "f4563fc070fb4fedaff224e2c1e94d71": {
      "model_module": "@jupyter-widgets/base",
      "model_module_version": "1.0.0",
      "model_name": "LayoutModel",
      "state": {
       "align_items": "stretch",
       "display": "flex",
       "flex_flow": "row",
       "width": "70%"
      }
     },
     "f45f8020ee07478f9e24669e7ef24ff4": {
      "model_module": "@jupyter-widgets/controls",
      "model_module_version": "1.2.0",
      "model_name": "ButtonModel",
      "state": {
       "layout": "IPY_MODEL_2e502d5a102f4844971576e7c918f23b",
       "style": "IPY_MODEL_5835d99d78444391900bdde94dad816d"
      }
     },
     "f47e0e60e79b4baab9913d909d1d833d": {
      "model_module": "@jupyter-widgets/controls",
      "model_module_version": "1.2.0",
      "model_name": "ButtonModel",
      "state": {
       "layout": "IPY_MODEL_c9ea692baeb946de96bd3ed36e154abc",
       "style": "IPY_MODEL_b3edc635b2c84d788caf728edd9f1bbf"
      }
     },
     "f48893efc187441293918d4b1f0fc3bb": {
      "model_module": "@jupyter-widgets/controls",
      "model_module_version": "1.2.0",
      "model_name": "ButtonStyleModel",
      "state": {
       "button_color": "lightgreen"
      }
     },
     "f48bd545e76944d8be2e9f082a22c04e": {
      "model_module": "@jupyter-widgets/controls",
      "model_module_version": "1.2.0",
      "model_name": "ButtonStyleModel",
      "state": {}
     },
     "f498e270572c48ee87420bf1839ac7eb": {
      "model_module": "@jupyter-widgets/base",
      "model_module_version": "1.0.0",
      "model_name": "LayoutModel",
      "state": {
       "flex": "1 1 0%",
       "width": "auto"
      }
     },
     "f4a132b140b64b45be713c39a0b5fcfb": {
      "model_module": "@jupyter-widgets/controls",
      "model_module_version": "1.2.0",
      "model_name": "ButtonStyleModel",
      "state": {
       "button_color": "moccasin"
      }
     },
     "f4f9d23ceb774328b1c5934016eb94d6": {
      "model_module": "@jupyter-widgets/controls",
      "model_module_version": "1.2.0",
      "model_name": "ButtonStyleModel",
      "state": {}
     },
     "f510e5b048dd4673974ecf75cd2efdc2": {
      "model_module": "@jupyter-widgets/controls",
      "model_module_version": "1.2.0",
      "model_name": "ButtonStyleModel",
      "state": {}
     },
     "f52efc8854664206b13238bcad37f235": {
      "model_module": "@jupyter-widgets/base",
      "model_module_version": "1.0.0",
      "model_name": "LayoutModel",
      "state": {}
     },
     "f57d925d235f4fe19a53f866d51f8461": {
      "model_module": "@jupyter-widgets/controls",
      "model_module_version": "1.2.0",
      "model_name": "ButtonModel",
      "state": {
       "layout": "IPY_MODEL_54dc1791cb77472c8ca601c93d0b0fe1",
       "style": "IPY_MODEL_581ab423d60c45ada854da12cc7f4c39"
      }
     },
     "f57f440479d34004ab06b78aee6ef3e9": {
      "model_module": "@jupyter-widgets/controls",
      "model_module_version": "1.2.0",
      "model_name": "ButtonStyleModel",
      "state": {}
     },
     "f5b417d7e1df4155948ccc11e2f1e644": {
      "model_module": "@jupyter-widgets/base",
      "model_module_version": "1.0.0",
      "model_name": "LayoutModel",
      "state": {
       "height": "auto",
       "width": "auto"
      }
     },
     "f5c3d3c4ba5e43dca1d6ebc46ac4062c": {
      "model_module": "@jupyter-widgets/controls",
      "model_module_version": "1.2.0",
      "model_name": "ButtonStyleModel",
      "state": {}
     },
     "f5cbfe0b58fe47bb9cd1fc56ae505e74": {
      "model_module": "@jupyter-widgets/base",
      "model_module_version": "1.0.0",
      "model_name": "LayoutModel",
      "state": {
       "flex": "1 1 auto",
       "width": "auto"
      }
     },
     "f5e1af3d04c341dba3f7a4fa808d5c4f": {
      "model_module": "@jupyter-widgets/controls",
      "model_module_version": "1.2.0",
      "model_name": "ButtonStyleModel",
      "state": {}
     },
     "f5fdd002a7da4b4eb089112db853c912": {
      "model_module": "@jupyter-widgets/controls",
      "model_module_version": "1.2.0",
      "model_name": "ButtonModel",
      "state": {
       "layout": "IPY_MODEL_f52efc8854664206b13238bcad37f235",
       "style": "IPY_MODEL_7dee567517dd4a51a3a9e64c0a7c127f"
      }
     },
     "f615c27e9a304cd3909259465fb8721c": {
      "model_module": "@jupyter-widgets/base",
      "model_module_version": "1.0.0",
      "model_name": "LayoutModel",
      "state": {}
     },
     "f617f72e4db64771820122ff01631b85": {
      "model_module": "@jupyter-widgets/controls",
      "model_module_version": "1.2.0",
      "model_name": "ButtonModel",
      "state": {
       "layout": "IPY_MODEL_36a441e29f00483985e00d555e6108b7",
       "style": "IPY_MODEL_0683f0f4f50141c48a21ae10572b3fc1"
      }
     },
     "f61f46bb68d648f6b9b433d6caeb0aef": {
      "model_module": "@jupyter-widgets/controls",
      "model_module_version": "1.2.0",
      "model_name": "ButtonModel",
      "state": {
       "layout": "IPY_MODEL_09bbe1f1fc7b4c5cb813271d906a80af",
       "style": "IPY_MODEL_a75311f09b5a462989208f5953e1ee0f"
      }
     },
     "f63f3153934046f081ba41b3a57b6ecb": {
      "model_module": "@jupyter-widgets/controls",
      "model_module_version": "1.2.0",
      "model_name": "ButtonStyleModel",
      "state": {}
     },
     "f64f788d9f7e4f40aaf0ff33c9347671": {
      "model_module": "@jupyter-widgets/controls",
      "model_module_version": "1.2.0",
      "model_name": "ButtonModel",
      "state": {
       "layout": "IPY_MODEL_97f59d9afbe840f3a0be0c37d5e84ae8",
       "style": "IPY_MODEL_4bbffed757e34d98b461b8bc0f1d23c4"
      }
     },
     "f67324894330473995efe85b8173ddda": {
      "model_module": "@jupyter-widgets/controls",
      "model_module_version": "1.2.0",
      "model_name": "LabelModel",
      "state": {
       "layout": "IPY_MODEL_8a0ecd0cdf6c4ca09611c081e298c11f",
       "style": "IPY_MODEL_b507d6f642aa437298670e936ab22a7b",
       "value": "Scroll horizontally:"
      }
     },
     "f67c74242f694926805e0fd8b6f92f5d": {
      "model_module": "@jupyter-widgets/controls",
      "model_module_version": "1.2.0",
      "model_name": "ButtonModel",
      "state": {
       "layout": "IPY_MODEL_7aa706c4594f4633bfc813ec6eca6e5c",
       "style": "IPY_MODEL_b5c3667d62d249c8a5d2546f7f413b70"
      }
     },
     "f67dcf175a15496494146607d8c05e53": {
      "model_module": "@jupyter-widgets/controls",
      "model_module_version": "1.2.0",
      "model_name": "ButtonStyleModel",
      "state": {}
     },
     "f6a65b69a3fc47cb8c14e32ea334d959": {
      "model_module": "@jupyter-widgets/controls",
      "model_module_version": "1.2.0",
      "model_name": "ButtonStyleModel",
      "state": {}
     },
     "f6a7edbf0ac641d6a4fb0bf46e7533f0": {
      "model_module": "@jupyter-widgets/base",
      "model_module_version": "1.0.0",
      "model_name": "LayoutModel",
      "state": {
       "grid_area": "header",
       "width": "auto"
      }
     },
     "f6ab089285c74edeae0cc0c46c154f9f": {
      "model_module": "@jupyter-widgets/controls",
      "model_module_version": "1.2.0",
      "model_name": "LabelModel",
      "state": {
       "layout": "IPY_MODEL_8f35246fc5614012b4e90c238caccc38",
       "style": "IPY_MODEL_148242db5ef04bbc9d8633f1ee7fc6b2",
       "value": "Age of the captain"
      }
     },
     "f6ad98a676324b70b9be196293356fa4": {
      "model_module": "@jupyter-widgets/controls",
      "model_module_version": "1.2.0",
      "model_name": "ButtonStyleModel",
      "state": {
       "button_color": "#77A"
      }
     },
     "f6adf1062a6d42ff9de72d302b020ae1": {
      "model_module": "@jupyter-widgets/controls",
      "model_module_version": "1.2.0",
      "model_name": "BoxModel",
      "state": {
       "children": [
        "IPY_MODEL_36e15c52712f4e4caeef4631179f15bf",
        "IPY_MODEL_959dad73242442c29291fa0abae6b63b",
        "IPY_MODEL_fc6072f0fe764ff4b88714553a4dca5e",
        "IPY_MODEL_3aae34e3bf384d27a8fc054360d24910",
        "IPY_MODEL_9dda47445de14d8aa0336a704fc1bf20",
        "IPY_MODEL_cd68cff7639f4367a4869cf03dffda26",
        "IPY_MODEL_d3a49aad0cc442c09cd4b4d49a496984",
        "IPY_MODEL_36ec471cf13c48f0abe7d36dcf9bb090",
        "IPY_MODEL_c77f98b4f863481daab4e69c0147719b",
        "IPY_MODEL_ad617969fa0043ea911e4cfae74cba11",
        "IPY_MODEL_cd50ed6ed9754dcb8a918b6c87349b4c",
        "IPY_MODEL_881b69e2fbd04c05b68fcfd3ff8ab85a",
        "IPY_MODEL_a1106e79d40446a1a91e50ba2607e09a",
        "IPY_MODEL_2b152b3e04ef4cee9dff0930e1002869",
        "IPY_MODEL_30a56d635e9247de96d441fc7b516927",
        "IPY_MODEL_39f7669be18047dfb4f95421d0fb4c6f",
        "IPY_MODEL_4b8340d8d72a4a7daec11ab2d9dfe37f",
        "IPY_MODEL_4f383f9867b54dfbb79f388b9a31f92c",
        "IPY_MODEL_ebe606436e9d4a0fa15a22a907cbf644",
        "IPY_MODEL_c436a962964b45b089ec77696f781e20",
        "IPY_MODEL_0714a84036ab409d83aef7105d353f6f",
        "IPY_MODEL_cd82539adc914034ab7829553b84c4f7",
        "IPY_MODEL_14b5d4377aee472f943c2b7dc61a5b94",
        "IPY_MODEL_8806ad240a2a4d5eba495cf89e1b1043",
        "IPY_MODEL_464ebdd076e045d29622beb7c93124d4",
        "IPY_MODEL_695786288d194a6188c5b3229f389697",
        "IPY_MODEL_1db73abd3ecb478181339b866917f40c",
        "IPY_MODEL_76323bb09674427d8fd01e9b09b848d2",
        "IPY_MODEL_9a5dd1d002044e47bf3d09d4dd300968",
        "IPY_MODEL_a098bdd092bf42e7b227716a77633dad",
        "IPY_MODEL_b67cfac68fa14f548811d64b1db28f85",
        "IPY_MODEL_fc5178f51304464bbf7f2892328fa5fa",
        "IPY_MODEL_07deecf0fa6e4f7c884ef27ced2742d2",
        "IPY_MODEL_2be73471f3a445eab6ba99b9e6240fda",
        "IPY_MODEL_a8b4045b8a884bc897b05c4d7e65e02d",
        "IPY_MODEL_39f484451a8542fc9d4d14e512bbafa5",
        "IPY_MODEL_065b9e52d648497e8a15203eea972322",
        "IPY_MODEL_4ff78da38a5246f19ccff110ec2434ea",
        "IPY_MODEL_04d4a250243f4616bc3ced893cb58f50",
        "IPY_MODEL_c456d571a334456db39be20e19a6a94d"
       ],
       "layout": "IPY_MODEL_c8c1c6e924ec47b888e50f6ab3a4bd5e"
      }
     },
     "f6cf24aaa9e74104a7389c9d87c1bb36": {
      "model_module": "@jupyter-widgets/base",
      "model_module_version": "1.0.0",
      "model_name": "LayoutModel",
      "state": {}
     },
     "f6cf8da4a8104d599adba528dd56efff": {
      "model_module": "@jupyter-widgets/controls",
      "model_module_version": "1.2.0",
      "model_name": "ButtonModel",
      "state": {
       "layout": "IPY_MODEL_fab719789b8e45a592a40bdcb0d6d5da",
       "style": "IPY_MODEL_a70ae2d881a64d32a59c9eda7536b61d"
      }
     },
     "f6d3c5b9bedd4ac187d41a1795fbb39f": {
      "model_module": "@jupyter-widgets/base",
      "model_module_version": "1.0.0",
      "model_name": "LayoutModel",
      "state": {
       "grid_area": "header",
       "width": "auto"
      }
     },
     "f6f8eb1e4e664d9cab44f3906d992646": {
      "model_module": "@jupyter-widgets/controls",
      "model_module_version": "1.2.0",
      "model_name": "ButtonModel",
      "state": {
       "layout": "IPY_MODEL_3f71f81b8f7747939c03e358cd4a7a17",
       "style": "IPY_MODEL_fdd73a93225844ce94f47f4a447c7c07"
      }
     },
     "f74f2e285de849238fbd2204812f8e4c": {
      "model_module": "@jupyter-widgets/controls",
      "model_module_version": "1.2.0",
      "model_name": "ButtonModel",
      "state": {
       "button_style": "danger",
       "description": "Danger Button",
       "layout": "IPY_MODEL_8e596daa094641c8a7aec57ccf4f8a12",
       "style": "IPY_MODEL_8518112a654942ca990222dc156f3a51"
      }
     },
     "f756cd6d63b74f11a277eb74b4fcdc0f": {
      "model_module": "@jupyter-widgets/base",
      "model_module_version": "1.0.0",
      "model_name": "LayoutModel",
      "state": {}
     },
     "f76c6c52df9a44fd9ca349589f8ae37f": {
      "model_module": "@jupyter-widgets/controls",
      "model_module_version": "1.2.0",
      "model_name": "ButtonModel",
      "state": {
       "button_style": "danger",
       "description": "staple",
       "layout": "IPY_MODEL_7af483b22721435dbf76e0c2b97da8dc",
       "style": "IPY_MODEL_2ce2841df4604adf93674f8768111059"
      }
     },
     "f76d3b5920f14806a97020e46bede465": {
      "model_module": "@jupyter-widgets/controls",
      "model_module_version": "1.2.0",
      "model_name": "ButtonModel",
      "state": {
       "layout": "IPY_MODEL_01ae67175dea44bfa21ca0cbc48be329",
       "style": "IPY_MODEL_f30fc93e9b134b17ada927c4e08725f9"
      }
     },
     "f7d91e5447524d9895f1f80149887ad3": {
      "model_module": "@jupyter-widgets/controls",
      "model_module_version": "1.2.0",
      "model_name": "ButtonModel",
      "state": {
       "layout": "IPY_MODEL_2e502d5a102f4844971576e7c918f23b",
       "style": "IPY_MODEL_5835d99d78444391900bdde94dad816d"
      }
     },
     "f7e6fc8c5a684702b49608882cca7888": {
      "model_module": "@jupyter-widgets/controls",
      "model_module_version": "1.2.0",
      "model_name": "ButtonModel",
      "state": {
       "layout": "IPY_MODEL_a0e22ef5a1134a18b8992c7e7045c52c",
       "style": "IPY_MODEL_6155accf169f46ffba94dced113355db"
      }
     },
     "f8179f0467714822b64efce9196db1df": {
      "model_module": "@jupyter-widgets/base",
      "model_module_version": "1.0.0",
      "model_name": "LayoutModel",
      "state": {}
     },
     "f8305f4f5b1446a78b8627b20ed68f5a": {
      "model_module": "@jupyter-widgets/controls",
      "model_module_version": "1.2.0",
      "model_name": "ButtonModel",
      "state": {
       "layout": "IPY_MODEL_0092c073e9a448b1b99ac9470c49fef5",
       "style": "IPY_MODEL_c4cfb1dc058040119275f511354e0626"
      }
     },
     "f843dfcb9b19468ea915f979a0e774bb": {
      "model_module": "@jupyter-widgets/controls",
      "model_module_version": "1.2.0",
      "model_name": "ButtonModel",
      "state": {
       "layout": "IPY_MODEL_3a3f68ca71bc47e7877bb1b9073933ed",
       "style": "IPY_MODEL_44a1c9f2d4184d8f88cc85fd862c35b2"
      }
     },
     "f86d4870a5e5471b93aeb7079cd2992c": {
      "model_module": "@jupyter-widgets/base",
      "model_module_version": "1.0.0",
      "model_name": "LayoutModel",
      "state": {
       "height": "auto",
       "width": "auto"
      }
     },
     "f86e042c84c441868e9f4366420d503c": {
      "model_module": "@jupyter-widgets/controls",
      "model_module_version": "1.2.0",
      "model_name": "ButtonModel",
      "state": {
       "layout": "IPY_MODEL_a3297f28a706443a924ae0961e2d74a6",
       "style": "IPY_MODEL_45fccc01bb164e50a6ee09402ed6f6e8"
      }
     },
     "f883fbfd25c54d3aac55f4a6a27a8093": {
      "model_module": "@jupyter-widgets/controls",
      "model_module_version": "1.2.0",
      "model_name": "ButtonModel",
      "state": {
       "layout": "IPY_MODEL_01ae67175dea44bfa21ca0cbc48be329",
       "style": "IPY_MODEL_f30fc93e9b134b17ada927c4e08725f9"
      }
     },
     "f891f98939e841d2b2205ee1b3db5412": {
      "model_module": "@jupyter-widgets/base",
      "model_module_version": "1.0.0",
      "model_name": "LayoutModel",
      "state": {}
     },
     "f8a7fdb438b64b40baf51792dd9337b5": {
      "model_module": "@jupyter-widgets/controls",
      "model_module_version": "1.2.0",
      "model_name": "ButtonStyleModel",
      "state": {}
     },
     "f8a810e2a9394767b31176d28c4d3b50": {
      "model_module": "@jupyter-widgets/controls",
      "model_module_version": "1.2.0",
      "model_name": "ButtonModel",
      "state": {
       "layout": "IPY_MODEL_a922650c84614ed9b053f3c346caf79d",
       "style": "IPY_MODEL_9d22f3c96417453f90c2a86f9d4c11e7"
      }
     },
     "f8b4500943064b628538d6f05eb356c7": {
      "model_module": "@jupyter-widgets/controls",
      "model_module_version": "1.2.0",
      "model_name": "ButtonStyleModel",
      "state": {}
     },
     "f8c7c6a7f14a4f34b78a17c969edd2a9": {
      "model_module": "@jupyter-widgets/controls",
      "model_module_version": "1.2.0",
      "model_name": "ButtonStyleModel",
      "state": {
       "button_color": "blue"
      }
     },
     "f8d5295c8bc742dabebd654a3101898b": {
      "model_module": "@jupyter-widgets/controls",
      "model_module_version": "1.2.0",
      "model_name": "DescriptionStyleModel",
      "state": {
       "description_width": ""
      }
     },
     "f8f45aa8fb9642dc9fef2261bd1eb2e6": {
      "model_module": "@jupyter-widgets/controls",
      "model_module_version": "1.2.0",
      "model_name": "ButtonModel",
      "state": {
       "description": "Main",
       "layout": "IPY_MODEL_2f23fc994d684c519e32ce0f6b58d6fd",
       "style": "IPY_MODEL_7710589689734402a62e1f423f425e0e"
      }
     },
     "f8f965b80b83494e9dffe8d497516704": {
      "model_module": "@jupyter-widgets/controls",
      "model_module_version": "1.2.0",
      "model_name": "ButtonModel",
      "state": {
       "layout": "IPY_MODEL_0f8fab5875984054a7f4d69598255738",
       "style": "IPY_MODEL_2ec82a1fef7a4e32aa4364a7fa79a3da"
      }
     },
     "f9023ce4d1a148ac9cb350e90d5b8cbe": {
      "model_module": "@jupyter-widgets/controls",
      "model_module_version": "1.2.0",
      "model_name": "HBoxModel",
      "state": {
       "children": [
        "IPY_MODEL_c12773f3bd894b5683f68e539b4de139",
        "IPY_MODEL_d3c018341a0d404aadd293d0355ac0b6"
       ],
       "layout": "IPY_MODEL_6d358b3a66f145b09c4cae47e3f48768"
      }
     },
     "f90596d4a0254043aae695996675a879": {
      "model_module": "@jupyter-widgets/controls",
      "model_module_version": "1.2.0",
      "model_name": "ButtonModel",
      "state": {
       "layout": "IPY_MODEL_71edbc4e034840e2a9927c2487c68700",
       "style": "IPY_MODEL_e7aaefc5ff514e2eaf23f1ef883f7435"
      }
     },
     "f90da99e3c4c48bd91f39fb0a54fc0a8": {
      "model_module": "@jupyter-widgets/controls",
      "model_module_version": "1.2.0",
      "model_name": "ButtonStyleModel",
      "state": {}
     },
     "f92fd543c37e4413b65ad7f949705956": {
      "model_module": "@jupyter-widgets/controls",
      "model_module_version": "1.2.0",
      "model_name": "ButtonStyleModel",
      "state": {}
     },
     "f93f4631f5b846319bfd6438e9dd7442": {
      "model_module": "@jupyter-widgets/controls",
      "model_module_version": "1.2.0",
      "model_name": "ButtonStyleModel",
      "state": {}
     },
     "f94415751fd3407ea2166aa83bc4c17e": {
      "model_module": "@jupyter-widgets/controls",
      "model_module_version": "1.2.0",
      "model_name": "ButtonModel",
      "state": {
       "layout": "IPY_MODEL_0b240c6f0d4f479da4a19e4c1de9aa06",
       "style": "IPY_MODEL_44fefca50fd24888ae38e83a496c204b"
      }
     },
     "f958b8e9ec444a42be778cd1987f4b09": {
      "model_module": "@jupyter-widgets/controls",
      "model_module_version": "1.2.0",
      "model_name": "IntSliderModel",
      "state": {
       "description": "Blue handle",
       "layout": "IPY_MODEL_8bd64642530243aba34d4421d728c492",
       "style": "IPY_MODEL_e44a39f3acce413989516774e2fc2c49"
      }
     },
     "f9697f47d40042349adc98b937fba482": {
      "model_module": "@jupyter-widgets/controls",
      "model_module_version": "1.2.0",
      "model_name": "ButtonModel",
      "state": {
       "layout": "IPY_MODEL_fab719789b8e45a592a40bdcb0d6d5da",
       "style": "IPY_MODEL_43d325c55ee6407aba6b22d73e6e0ad2"
      }
     },
     "f96ac9e037d44f158252de7069feb7ef": {
      "model_module": "@jupyter-widgets/controls",
      "model_module_version": "1.2.0",
      "model_name": "ButtonModel",
      "state": {
       "button_style": "danger",
       "description": "weight=1; auto",
       "layout": "IPY_MODEL_e47be531bc294f88b7f66588b90f376b",
       "style": "IPY_MODEL_1e40022da7884ab99a825561ca8aa7ac"
      }
     },
     "f9881827bfa347d7bce7c669d5a500ac": {
      "model_module": "@jupyter-widgets/controls",
      "model_module_version": "1.2.0",
      "model_name": "LabelModel",
      "state": {
       "layout": "IPY_MODEL_4c8cda22562a4c0f8ca396bbf334868f",
       "style": "IPY_MODEL_8ba0529560344a35a96bec26ed391f09",
       "value": "Information"
      }
     },
     "f996ed9a4a634d279d0efce7af55c1bc": {
      "model_module": "@jupyter-widgets/controls",
      "model_module_version": "1.2.0",
      "model_name": "ButtonModel",
      "state": {
       "layout": "IPY_MODEL_2e4cca560d1e46568ddc597724544c52",
       "style": "IPY_MODEL_c122ca651733435aa7a96fea5c56450a"
      }
     },
     "f99955c875064329a8d49c080c474f3c": {
      "model_module": "@jupyter-widgets/base",
      "model_module_version": "1.0.0",
      "model_name": "LayoutModel",
      "state": {
       "grid_area": "sidebar",
       "width": "auto"
      }
     },
     "f9af98d895f14da6ad3d19cb6c43570d": {
      "model_module": "@jupyter-widgets/controls",
      "model_module_version": "1.2.0",
      "model_name": "ButtonStyleModel",
      "state": {
       "button_color": "blue"
      }
     },
     "f9ecd67c10324f23b88ff3c9214de919": {
      "model_module": "@jupyter-widgets/controls",
      "model_module_version": "1.2.0",
      "model_name": "ButtonModel",
      "state": {
       "layout": "IPY_MODEL_4ebd944a92744199be5f1ae9bb5a4921",
       "style": "IPY_MODEL_066954f45e5e4d84ad45ee0f553b94d8"
      }
     },
     "f9f0ccf47b1f4dd5b3e98faf95197d43": {
      "model_module": "@jupyter-widgets/controls",
      "model_module_version": "1.2.0",
      "model_name": "ButtonModel",
      "state": {
       "layout": "IPY_MODEL_3f71f81b8f7747939c03e358cd4a7a17",
       "style": "IPY_MODEL_fdd73a93225844ce94f47f4a447c7c07"
      }
     },
     "f9f1e78ffa5e440aa50ac52aa2b5df82": {
      "model_module": "@jupyter-widgets/controls",
      "model_module_version": "1.2.0",
      "model_name": "ButtonStyleModel",
      "state": {}
     },
     "f9f5592f12a0463086201d7a52e8b72b": {
      "model_module": "@jupyter-widgets/controls",
      "model_module_version": "1.2.0",
      "model_name": "ButtonModel",
      "state": {
       "layout": "IPY_MODEL_216e771000e440fea088424dae98bc76",
       "style": "IPY_MODEL_641b7e8788ad4bfe867408bf549fabf9"
      }
     },
     "f9f7e1897bee43b5ad8c562adc6f092f": {
      "model_module": "@jupyter-widgets/controls",
      "model_module_version": "1.2.0",
      "model_name": "ButtonStyleModel",
      "state": {}
     },
     "fa12c79c519f45a985c25b01a9ff289c": {
      "model_module": "@jupyter-widgets/controls",
      "model_module_version": "1.2.0",
      "model_name": "ButtonModel",
      "state": {
       "button_style": "warning",
       "description": "38",
       "layout": "IPY_MODEL_d2db15f9d1834946bd4923f3faf2a54f",
       "style": "IPY_MODEL_42a258d22162432cb4024099577e1f47"
      }
     },
     "fa254a0a381942c38bbe4acded65f7bb": {
      "model_module": "@jupyter-widgets/controls",
      "model_module_version": "1.2.0",
      "model_name": "ButtonStyleModel",
      "state": {}
     },
     "fa836320275f436a98a48e180bd21ba3": {
      "model_module": "@jupyter-widgets/controls",
      "model_module_version": "1.2.0",
      "model_name": "ButtonModel",
      "state": {
       "button_style": "warning",
       "description": "39",
       "layout": "IPY_MODEL_963f958a6a3049a3b012ec8484fb898f",
       "style": "IPY_MODEL_414fc2c9d31f4185ab896e7442d5d568"
      }
     },
     "fa8b8616e85f45c5894d12003de074d9": {
      "model_module": "@jupyter-widgets/controls",
      "model_module_version": "1.2.0",
      "model_name": "DescriptionStyleModel",
      "state": {
       "description_width": ""
      }
     },
     "fa95589929554bafa63fc98ad0342400": {
      "model_module": "@jupyter-widgets/controls",
      "model_module_version": "1.2.0",
      "model_name": "ButtonModel",
      "state": {
       "layout": "IPY_MODEL_771aad9471cc459f937075e9245d0ad2",
       "style": "IPY_MODEL_46929562b0ab4ee5b6a8b698f2da26c5"
      }
     },
     "faa47d4312f14ec998c23796daead486": {
      "model_module": "@jupyter-widgets/controls",
      "model_module_version": "1.2.0",
      "model_name": "ButtonStyleModel",
      "state": {}
     },
     "fab719789b8e45a592a40bdcb0d6d5da": {
      "model_module": "@jupyter-widgets/base",
      "model_module_version": "1.0.0",
      "model_name": "LayoutModel",
      "state": {
       "height": "60px",
       "width": "auto"
      }
     },
     "fac4019d57e04d3f9d463fdd7ec80e66": {
      "model_module": "@jupyter-widgets/controls",
      "model_module_version": "1.2.0",
      "model_name": "ButtonStyleModel",
      "state": {}
     },
     "fac5431f1e5743f3b8bd1f8d5fbba8cb": {
      "model_module": "@jupyter-widgets/controls",
      "model_module_version": "1.2.0",
      "model_name": "VBoxModel",
      "state": {
       "children": [
        "IPY_MODEL_0d69731f1a7d4041adf3660e36d448ca",
        "IPY_MODEL_78bce2ffe08a4ac0a39e6ebb49286b0a"
       ],
       "layout": "IPY_MODEL_786320fb5566461ab1b7bf1a7280e9e4"
      }
     },
     "faca48b60eb645f1bae430d5ff89958e": {
      "model_module": "@jupyter-widgets/base",
      "model_module_version": "1.0.0",
      "model_name": "LayoutModel",
      "state": {}
     },
     "faccbee1da38413c92767b5077c0e821": {
      "model_module": "@jupyter-widgets/base",
      "model_module_version": "1.0.0",
      "model_name": "LayoutModel",
      "state": {}
     },
     "fad24aebedd24f65b9feb08e65c1d11c": {
      "model_module": "@jupyter-widgets/controls",
      "model_module_version": "1.2.0",
      "model_name": "ButtonModel",
      "state": {
       "layout": "IPY_MODEL_54dc1791cb77472c8ca601c93d0b0fe1",
       "style": "IPY_MODEL_bc685864e9ed4d41b9c99b3fb2dadd6b"
      }
     },
     "fadeaafeb87d45798193be75e4ce310b": {
      "model_module": "@jupyter-widgets/controls",
      "model_module_version": "1.2.0",
      "model_name": "ButtonModel",
      "state": {
       "layout": "IPY_MODEL_a997cf87cb444be1a8febdf657c22511",
       "style": "IPY_MODEL_19028a34b6124f0a9269c87cb2ac8111"
      }
     },
     "fb08fb5613784e3191d2d4536bb00ca1": {
      "model_module": "@jupyter-widgets/base",
      "model_module_version": "1.0.0",
      "model_name": "LayoutModel",
      "state": {
       "height": "auto",
       "width": "auto"
      }
     },
     "fb33485c3bb44c6a8664358dbdd843f6": {
      "model_module": "@jupyter-widgets/controls",
      "model_module_version": "1.2.0",
      "model_name": "ButtonStyleModel",
      "state": {
       "button_color": "yellow"
      }
     },
     "fb75ecdc17ad49bf90da952477c29b21": {
      "model_module": "@jupyter-widgets/controls",
      "model_module_version": "1.2.0",
      "model_name": "ButtonModel",
      "state": {
       "layout": "IPY_MODEL_a0e22ef5a1134a18b8992c7e7045c52c",
       "style": "IPY_MODEL_42fbef4124434f1bad1528020f0b8420"
      }
     },
     "fb946953d9614cc48491ec2363937410": {
      "model_module": "@jupyter-widgets/controls",
      "model_module_version": "1.2.0",
      "model_name": "ButtonStyleModel",
      "state": {
       "button_color": "yellow"
      }
     },
     "fb97bf9598804b7b95f30fd450da0c09": {
      "model_module": "@jupyter-widgets/controls",
      "model_module_version": "1.2.0",
      "model_name": "ButtonModel",
      "state": {
       "layout": "IPY_MODEL_df9e2e0507484692b334d2df271d390d",
       "style": "IPY_MODEL_8993f6b443a5464f94356aec076b623b"
      }
     },
     "fba21cc082a34bce9fae82b8687bac30": {
      "model_module": "@jupyter-widgets/base",
      "model_module_version": "1.0.0",
      "model_name": "LayoutModel",
      "state": {}
     },
     "fbae31bbe80e4628b9e4a3859341b104": {
      "model_module": "@jupyter-widgets/controls",
      "model_module_version": "1.2.0",
      "model_name": "ButtonStyleModel",
      "state": {}
     },
     "fbd149af9dc047e991c122a5eddaea86": {
      "model_module": "@jupyter-widgets/controls",
      "model_module_version": "1.2.0",
      "model_name": "ButtonStyleModel",
      "state": {}
     },
     "fbd2376450b249d8aaa415e01969f949": {
      "model_module": "@jupyter-widgets/controls",
      "model_module_version": "1.2.0",
      "model_name": "DescriptionStyleModel",
      "state": {
       "description_width": ""
      }
     },
     "fbe3a15d57b74fc2a52d1166c85f36cd": {
      "model_module": "@jupyter-widgets/controls",
      "model_module_version": "1.2.0",
      "model_name": "ButtonModel",
      "state": {
       "button_style": "warning",
       "description": "17",
       "layout": "IPY_MODEL_d2db15f9d1834946bd4923f3faf2a54f",
       "style": "IPY_MODEL_3caee776e353420ea32e7b3649c6fada"
      }
     },
     "fc15e98ad8744cdd8119ca28f9df84c7": {
      "model_module": "@jupyter-widgets/controls",
      "model_module_version": "1.2.0",
      "model_name": "BoxModel",
      "state": {
       "children": [
        "IPY_MODEL_4499e5e62b964a91a851460157b0f1c9",
        "IPY_MODEL_8a1d025d7be44a2ead8a4b39e7bfdc48"
       ],
       "layout": "IPY_MODEL_a41eb3128c334307828b7385fc9efed5"
      }
     },
     "fc17cd9345f041f6b0b07048ceaa8500": {
      "model_module": "@jupyter-widgets/controls",
      "model_module_version": "1.2.0",
      "model_name": "ButtonModel",
      "state": {
       "button_style": "warning",
       "description": "35",
       "layout": "IPY_MODEL_e20ec9c5c01e485bbfa90160b80eb8f4",
       "style": "IPY_MODEL_95de64b7dcc5412ea53e7689c7967a34"
      }
     },
     "fc1b3145e1394527b7c63556ea17ee1c": {
      "model_module": "@jupyter-widgets/base",
      "model_module_version": "1.0.0",
      "model_name": "LayoutModel",
      "state": {
       "grid_gap": "1px",
       "grid_template": "50px 100px / 25% 10% auto 200px"
      }
     },
     "fc32facd5e5345b192fb1d8a84b156ae": {
      "model_module": "@jupyter-widgets/controls",
      "model_module_version": "1.2.0",
      "model_name": "GridBoxModel",
      "state": {
       "children": [
        "IPY_MODEL_9d7c7fce24c74b3cb2dfde1660bb0f95",
        "IPY_MODEL_3dfa54eacbb34cb09e075ad114c5641b",
        "IPY_MODEL_6419cd622ce34822a90ee96558225a02",
        "IPY_MODEL_589f0957f8a54159aa8aa47648188bbe",
        "IPY_MODEL_be8f6ac50ce1484b854927f357ff1f54",
        "IPY_MODEL_bc4001c1af0343e781e6bd523bba40e4",
        "IPY_MODEL_46d0886addc64262afaf08692722f2c4",
        "IPY_MODEL_921b8d6e6d2748fd88ee84199262c58b",
        "IPY_MODEL_914db5ca8a8847ecaca7acaec503d04e",
        "IPY_MODEL_e44cc3e2370c46bdba3ecde921a95d83"
       ],
       "layout": "IPY_MODEL_2b5df5ad8b4f4289ad2d3ef6992f6073"
      }
     },
     "fc3a933870624e8b9276f4ca78ec4308": {
      "model_module": "@jupyter-widgets/controls",
      "model_module_version": "1.2.0",
      "model_name": "ButtonStyleModel",
      "state": {}
     },
     "fc4306ef20784c9c9f831b812d02a4bf": {
      "model_module": "@jupyter-widgets/base",
      "model_module_version": "1.0.0",
      "model_name": "LayoutModel",
      "state": {}
     },
     "fc5178f51304464bbf7f2892328fa5fa": {
      "model_module": "@jupyter-widgets/controls",
      "model_module_version": "1.2.0",
      "model_name": "ButtonModel",
      "state": {
       "button_style": "warning",
       "description": "31",
       "layout": "IPY_MODEL_79e6f20409fa4963aff904a921b6d604",
       "style": "IPY_MODEL_18bd735b763144a3ad13844d62a5194e"
      }
     },
     "fc56a3d393474fe5a76415bf4240eab8": {
      "model_module": "@jupyter-widgets/controls",
      "model_module_version": "1.2.0",
      "model_name": "ButtonModel",
      "state": {
       "layout": "IPY_MODEL_104c1bfded49449794e8408e206b484c",
       "style": "IPY_MODEL_b5a3987d5ff549c0840abaa4993a17ca"
      }
     },
     "fc6072f0fe764ff4b88714553a4dca5e": {
      "model_module": "@jupyter-widgets/controls",
      "model_module_version": "1.2.0",
      "model_name": "ButtonModel",
      "state": {
       "button_style": "warning",
       "description": "2",
       "layout": "IPY_MODEL_79e6f20409fa4963aff904a921b6d604",
       "style": "IPY_MODEL_c329269987ad4476bf8e7cbcdac29f43"
      }
     },
     "fc82aa321d764c84aab293acb0158be5": {
      "model_module": "@jupyter-widgets/base",
      "model_module_version": "1.0.0",
      "model_name": "LayoutModel",
      "state": {}
     },
     "fc8d9ef8aa9d4058808713941d7dd5f1": {
      "model_module": "@jupyter-widgets/controls",
      "model_module_version": "1.2.0",
      "model_name": "ButtonStyleModel",
      "state": {
       "button_color": "darkseagreen"
      }
     },
     "fcb23679ff024eccbc65b48a295b428a": {
      "model_module": "@jupyter-widgets/controls",
      "model_module_version": "1.2.0",
      "model_name": "ButtonStyleModel",
      "state": {}
     },
     "fcbba95b776f47109aaf2446132eccb7": {
      "model_module": "@jupyter-widgets/controls",
      "model_module_version": "1.2.0",
      "model_name": "ButtonModel",
      "state": {
       "layout": "IPY_MODEL_71edbc4e034840e2a9927c2487c68700",
       "style": "IPY_MODEL_e73a1e7208da4ec6af0a28d004f5f218"
      }
     },
     "fcd7a10309b64730aae196f60edae24a": {
      "model_module": "@jupyter-widgets/controls",
      "model_module_version": "1.2.0",
      "model_name": "ButtonModel",
      "state": {
       "layout": "IPY_MODEL_e9e51dc7db2e4dae8f6b58239515ec62",
       "style": "IPY_MODEL_d000dc7d31ed49c496639dd203f4d586"
      }
     },
     "fcee991a2643425d89689c2965cee8d1": {
      "model_module": "@jupyter-widgets/base",
      "model_module_version": "1.0.0",
      "model_name": "LayoutModel",
      "state": {}
     },
     "fd06add4a4bf452c935526d424717993": {
      "model_module": "@jupyter-widgets/controls",
      "model_module_version": "1.2.0",
      "model_name": "ButtonModel",
      "state": {
       "button_style": "warning",
       "description": "6",
       "layout": "IPY_MODEL_d2db15f9d1834946bd4923f3faf2a54f",
       "style": "IPY_MODEL_29973834e9724fa9a1da1b69fc14513e"
      }
     },
     "fd308fd37b3641ad899740eed0421df0": {
      "model_module": "@jupyter-widgets/base",
      "model_module_version": "1.0.0",
      "model_name": "LayoutModel",
      "state": {
       "height": "auto",
       "width": "auto"
      }
     },
     "fd3207e25e7b48d9a11dc8c3e58814de": {
      "model_module": "@jupyter-widgets/base",
      "model_module_version": "1.0.0",
      "model_name": "LayoutModel",
      "state": {}
     },
     "fd3314b30fcb4a75856eeffedd3ccc62": {
      "model_module": "@jupyter-widgets/controls",
      "model_module_version": "1.2.0",
      "model_name": "ButtonModel",
      "state": {
       "layout": "IPY_MODEL_e9e51dc7db2e4dae8f6b58239515ec62",
       "style": "IPY_MODEL_95584f92ea1e4efca51a52a58bfbca9c"
      }
     },
     "fd35848b424c49eba656211dcb505c20": {
      "model_module": "@jupyter-widgets/controls",
      "model_module_version": "1.2.0",
      "model_name": "ButtonStyleModel",
      "state": {}
     },
     "fd68a6e07b3e43fbadaa74219719e9f8": {
      "model_module": "@jupyter-widgets/controls",
      "model_module_version": "1.2.0",
      "model_name": "ButtonModel",
      "state": {
       "layout": "IPY_MODEL_9f969f0ba6724d7a9c8ac087b44d5cbc",
       "style": "IPY_MODEL_ad1f6a8af60d4a59af296a56ffcd595d"
      }
     },
     "fd8bb2f7714146578434243a89bd2ff2": {
      "model_module": "@jupyter-widgets/controls",
      "model_module_version": "1.2.0",
      "model_name": "SliderStyleModel",
      "state": {
       "description_width": "",
       "handle_color": "lightblue"
      }
     },
     "fd8d2014f5174e70a75b94c7c9b9c42d": {
      "model_module": "@jupyter-widgets/controls",
      "model_module_version": "1.2.0",
      "model_name": "ButtonModel",
      "state": {
       "button_style": "warning",
       "description": "13",
       "layout": "IPY_MODEL_e20ec9c5c01e485bbfa90160b80eb8f4",
       "style": "IPY_MODEL_51ddcf490f9644238c94c25c166c4c43"
      }
     },
     "fd926916b6594dddaba20219f9b11238": {
      "model_module": "@jupyter-widgets/controls",
      "model_module_version": "1.2.0",
      "model_name": "ButtonStyleModel",
      "state": {}
     },
     "fdab95919fbf4a96a80da63d87a8257e": {
      "model_module": "@jupyter-widgets/controls",
      "model_module_version": "1.2.0",
      "model_name": "DescriptionStyleModel",
      "state": {
       "description_width": ""
      }
     },
     "fdb23b8664f742049ebd5d36511fbea4": {
      "model_module": "@jupyter-widgets/controls",
      "model_module_version": "1.2.0",
      "model_name": "ButtonStyleModel",
      "state": {}
     },
     "fdbed6cb32b8422ebbe416e1fe8bc68c": {
      "model_module": "@jupyter-widgets/controls",
      "model_module_version": "1.2.0",
      "model_name": "ButtonStyleModel",
      "state": {}
     },
     "fdd73a93225844ce94f47f4a447c7c07": {
      "model_module": "@jupyter-widgets/controls",
      "model_module_version": "1.2.0",
      "model_name": "ButtonStyleModel",
      "state": {
       "button_color": "#77A"
      }
     },
     "fe53ee275cd445af83a52dfe43c59225": {
      "model_module": "@jupyter-widgets/controls",
      "model_module_version": "1.2.0",
      "model_name": "ButtonStyleModel",
      "state": {}
     },
     "fe541457b3c248538510983aad13aff9": {
      "model_module": "@jupyter-widgets/controls",
      "model_module_version": "1.2.0",
      "model_name": "ButtonModel",
      "state": {
       "button_style": "danger",
       "description": "battery",
       "layout": "IPY_MODEL_4e77966225b340fcada10948f3b7386c",
       "style": "IPY_MODEL_e8673b7678fe4d1db1c973d702b87426"
      }
     },
     "fe6d89dc73ba44b1a0ad4b70c88accce": {
      "model_module": "@jupyter-widgets/controls",
      "model_module_version": "1.2.0",
      "model_name": "ButtonModel",
      "state": {
       "button_style": "danger",
       "description": "weight=3; 0%",
       "layout": "IPY_MODEL_687bb36d7737419e8d9764896fe0d183",
       "style": "IPY_MODEL_0801caeeb1ee465e9950b71b2a593a53"
      }
     },
     "fe92b39ba43944919e06b86b19b83aba": {
      "model_module": "@jupyter-widgets/controls",
      "model_module_version": "1.2.0",
      "model_name": "ButtonModel",
      "state": {
       "button_style": "warning",
       "description": "2",
       "layout": "IPY_MODEL_16df380d38fb47a2bbb217b953037b65",
       "style": "IPY_MODEL_6cfca8337fc44cf48666f74a5fa43c43"
      }
     },
     "fea4c257d60b4b53a0247d8d2e96c650": {
      "model_module": "@jupyter-widgets/controls",
      "model_module_version": "1.2.0",
      "model_name": "FloatTextModel",
      "state": {
       "layout": "IPY_MODEL_dcf873a39d804738b3adff8ef04c14a7",
       "step": null,
       "style": "IPY_MODEL_1229c13560904c0ca3ed893aee3e27de"
      }
     },
     "fea6153db9584215a2861a6ba44b926c": {
      "model_module": "@jupyter-widgets/controls",
      "model_module_version": "1.2.0",
      "model_name": "ButtonModel",
      "state": {
       "button_style": "warning",
       "description": "3",
       "layout": "IPY_MODEL_d2db15f9d1834946bd4923f3faf2a54f",
       "style": "IPY_MODEL_07d3f4590649495796f304ae319799ef"
      }
     },
     "fec8ce3f01904b3c8e06d877e24f14fc": {
      "model_module": "@jupyter-widgets/base",
      "model_module_version": "1.0.0",
      "model_name": "LayoutModel",
      "state": {
       "height": "auto",
       "width": "auto"
      }
     },
     "fece4dd7649549f09f6e6d7f3356d45a": {
      "model_module": "@jupyter-widgets/controls",
      "model_module_version": "1.2.0",
      "model_name": "ButtonStyleModel",
      "state": {}
     },
     "fedb44fa44354e588e5e68eef1c59f35": {
      "model_module": "@jupyter-widgets/controls",
      "model_module_version": "1.2.0",
      "model_name": "SliderStyleModel",
      "state": {
       "description_width": "",
       "handle_color": "lightblue"
      }
     },
     "fefaa01c23a7411bbc6e135a6990b615": {
      "model_module": "@jupyter-widgets/base",
      "model_module_version": "1.0.0",
      "model_name": "LayoutModel",
      "state": {}
     },
     "feffe35cf3b34784afdb16ee614b3fca": {
      "model_module": "@jupyter-widgets/controls",
      "model_module_version": "1.2.0",
      "model_name": "ButtonModel",
      "state": {
       "layout": "IPY_MODEL_1c81b91358154c19ab0e8986a32d5733",
       "style": "IPY_MODEL_af7b66e6fff44d03816a963caf7ed011"
      }
     },
     "ff1f28c26ce54ffba3cec0d3f20fb62d": {
      "model_module": "@jupyter-widgets/controls",
      "model_module_version": "1.2.0",
      "model_name": "ButtonStyleModel",
      "state": {}
     },
     "ff72050de9ce4c21b2f1805fa139e09e": {
      "model_module": "@jupyter-widgets/controls",
      "model_module_version": "1.2.0",
      "model_name": "ButtonModel",
      "state": {
       "description": "Footer",
       "layout": "IPY_MODEL_0a9ed20efbb7425d8ecfbceee53f4183",
       "style": "IPY_MODEL_34b45395d35b44e596d9457c09bff45a"
      }
     },
     "ff93e91f1f2943f09807b58081440713": {
      "model_module": "@jupyter-widgets/controls",
      "model_module_version": "1.2.0",
      "model_name": "ButtonModel",
      "state": {
       "layout": "IPY_MODEL_2847cc6e71494c5a86d07475d49deca7",
       "style": "IPY_MODEL_4166913d892742ab964adc58623c75e4"
      }
     },
     "ffbf96f1cb3f4278a56b95e98df8aebc": {
      "model_module": "@jupyter-widgets/controls",
      "model_module_version": "1.2.0",
      "model_name": "ButtonModel",
      "state": {
       "layout": "IPY_MODEL_3a3f68ca71bc47e7877bb1b9073933ed",
       "style": "IPY_MODEL_b3599e60b2a44f3da816dd680285f841"
      }
     },
     "ffc6250c4ee94107b07efde55b0c602d": {
      "model_module": "@jupyter-widgets/base",
      "model_module_version": "1.0.0",
      "model_name": "LayoutModel",
      "state": {}
     },
     "ffdab319e62c485dab43e86f6d0c5dd1": {
      "model_module": "@jupyter-widgets/controls",
      "model_module_version": "1.2.0",
      "model_name": "ButtonModel",
      "state": {
       "button_style": "warning",
       "description": "22",
       "layout": "IPY_MODEL_e20ec9c5c01e485bbfa90160b80eb8f4",
       "style": "IPY_MODEL_781825dcb4ed4306abf9f3883a87879c"
      }
     },
     "fff6b60058f9436cbc9a415c53c6c4fc": {
      "model_module": "@jupyter-widgets/controls",
      "model_module_version": "1.2.0",
      "model_name": "ButtonStyleModel",
      "state": {}
     }
    },
    "version_major": 2,
    "version_minor": 0
   }
  }
 },
 "nbformat": 4,
 "nbformat_minor": 1
}
