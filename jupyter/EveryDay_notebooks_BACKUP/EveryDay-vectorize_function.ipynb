{
 "cells": [
  {
   "cell_type": "code",
   "execution_count": 13,
   "metadata": {},
   "outputs": [],
   "source": [
    "import numpy as np"
   ]
  },
  {
   "cell_type": "code",
   "execution_count": 42,
   "metadata": {
    "scrolled": true
   },
   "outputs": [
    {
     "name": "stdout",
     "output_type": "stream",
     "text": [
      "[[ 43  44  45]\n",
      " [424 425 426]]\n",
      "[[ 43  44  45]\n",
      " [424 425 426]]\n"
     ]
    }
   ],
   "source": [
    "#option 1: return matrix -> more complicated\n",
    "def f(x,c):\n",
    "    return x+c\n",
    "def g(x,c):\n",
    "    return 10*x+c\n",
    "def matrix():\n",
    "    def y(x):\n",
    "        func_matrix= np.array([[f(x,1),f(x,2),f(x,3)], \n",
    "                              [ g(x,4),g(x,5),g(x,6)]])\n",
    "        return func_matrix\n",
    "    return y\n",
    "final_func=matrix()\n",
    "z1=final_func(42)\n",
    "print(z1)\n",
    "\n",
    "#option 2 Vectorised function\n",
    "def myfunc(a, b):\n",
    "    if a < 4:\n",
    "        return b+a\n",
    "    else:\n",
    "        return 10*b+a \n",
    "final_func = np.vectorize(myfunc)\n",
    "z2=final_func(np.array([[1, 2, 3],[4,5,6]]), 42)\n",
    "print(z2)"
   ]
  },
  {
   "cell_type": "markdown",
   "metadata": {},
   "source": [
    "# Another Example\n",
    "[Blogpost](https://datascience.blog.wzb.eu/2018/02/02/vectorization-and-parallelization-in-python-with-numpy-and-pandas/)"
   ]
  },
  {
   "cell_type": "code",
   "execution_count": 21,
   "metadata": {},
   "outputs": [],
   "source": [
    "import math\n",
    "def haversine(row):\n",
    "    a_lat, a_lng, b_lat, b_lng = row\n",
    "    R = 6371     # earth radius in km\n",
    "\n",
    "    a_lat = math.radians(a_lat)\n",
    "    a_lng = math.radians(a_lng)\n",
    "    b_lat = math.radians(b_lat)\n",
    "    b_lng = math.radians(b_lng)\n",
    "\n",
    "    d_lat = b_lat - a_lat\n",
    "    d_lng = b_lng - a_lng\n",
    "\n",
    "    a = math.pow(math.sin(d_lat / 2), 2) \\\n",
    "      + math.cos(a_lat) * math.cos(b_lat) \\\n",
    "      * math.pow(math.sin(d_lng / 2), 2)\n",
    "    c = 2 * math.atan2(math.sqrt(a), math.sqrt(1 - a))\n",
    "\n",
    "    return R * c\n",
    "def vec_haversine(a_lat, a_lng, b_lat, b_lng):\n",
    "    R = 6371  # earth radius in km\n",
    "\n",
    "    a_lat = np.radians(a_lat)\n",
    "    a_lng = np.radians(a_lng)\n",
    "    b_lat = np.radians(b_lat)\n",
    "    b_lng = np.radians(b_lng)\n",
    "\n",
    "    d_lat = b_lat - a_lat\n",
    "    d_lng = b_lng - a_lng\n",
    "\n",
    "    d_lat_sq = np.sin(d_lat / 2) ** 2\n",
    "    d_lng_sq = np.sin(d_lng / 2) ** 2\n",
    "\n",
    "    a = d_lat_sq + np.cos(a_lat) * np.cos(b_lat) * d_lng_sq\n",
    "    c = 2 * np.arctan2(np.sqrt(a), np.sqrt(1-a))\n",
    "\n",
    "    return R * c  # returns distance between a and b in km"
   ]
  },
  {
   "cell_type": "code",
   "execution_count": 22,
   "metadata": {},
   "outputs": [],
   "source": [
    "\n",
    "coords = np.array([\n",
    "    # orig_lat, orig_lng,  dest_lat,  dest_lng\n",
    "    [52.516667, 13.388889, 51.507222, -0.1275],   # Berlin-London\n",
    "    [52.516667, 13.388889, 55.75, 37.616667],     # Berlin-Moscow\n",
    "    [55.75, 37.616667, 51.507222, -0.1275],       # Moscow-London\n",
    "])"
   ]
  },
  {
   "cell_type": "code",
   "execution_count": 23,
   "metadata": {},
   "outputs": [
    {
     "name": "stdout",
     "output_type": "stream",
     "text": [
      "CPU times: user 0 ns, sys: 0 ns, total: 0 ns\n",
      "Wall time: 631 µs\n"
     ]
    },
    {
     "data": {
      "text/plain": [
       "array([  930.45355655,  1609.90936067,  2500.54316693])"
      ]
     },
     "execution_count": 23,
     "metadata": {},
     "output_type": "execute_result"
    }
   ],
   "source": [
    "%time np.apply_along_axis(haversine, 1, coords) #NOT VECTORISED"
   ]
  },
  {
   "cell_type": "code",
   "execution_count": 25,
   "metadata": {},
   "outputs": [
    {
     "name": "stdout",
     "output_type": "stream",
     "text": [
      "CPU times: user 0 ns, sys: 0 ns, total: 0 ns\n",
      "Wall time: 158 µs\n"
     ]
    },
    {
     "data": {
      "text/plain": [
       "array([  930.45355655,  1609.90936067,  2500.54316693])"
      ]
     },
     "execution_count": 25,
     "metadata": {},
     "output_type": "execute_result"
    }
   ],
   "source": [
    "%time vec_haversine(coords[:, 0], coords[:, 1], coords[:, 2], coords[:, 3]) # vectorised"
   ]
  },
  {
   "cell_type": "code",
   "execution_count": 28,
   "metadata": {},
   "outputs": [
    {
     "data": {
      "text/html": [
       "<div>\n",
       "<style scoped>\n",
       "    .dataframe tbody tr th:only-of-type {\n",
       "        vertical-align: middle;\n",
       "    }\n",
       "\n",
       "    .dataframe tbody tr th {\n",
       "        vertical-align: top;\n",
       "    }\n",
       "\n",
       "    .dataframe thead th {\n",
       "        text-align: right;\n",
       "    }\n",
       "</style>\n",
       "<table border=\"1\" class=\"dataframe\">\n",
       "  <thead>\n",
       "    <tr style=\"text-align: right;\">\n",
       "      <th></th>\n",
       "      <th>origin_lat</th>\n",
       "      <th>origin_lng</th>\n",
       "      <th>destination_lat</th>\n",
       "      <th>destination_lng</th>\n",
       "    </tr>\n",
       "  </thead>\n",
       "  <tbody>\n",
       "    <tr>\n",
       "      <th>Berlin-London</th>\n",
       "      <td>52.516667</td>\n",
       "      <td>13.388889</td>\n",
       "      <td>51.507222</td>\n",
       "      <td>-0.127500</td>\n",
       "    </tr>\n",
       "    <tr>\n",
       "      <th>Berlin-Moscow</th>\n",
       "      <td>52.516667</td>\n",
       "      <td>13.388889</td>\n",
       "      <td>55.750000</td>\n",
       "      <td>37.616667</td>\n",
       "    </tr>\n",
       "    <tr>\n",
       "      <th>Moscow-London</th>\n",
       "      <td>55.750000</td>\n",
       "      <td>37.616667</td>\n",
       "      <td>51.507222</td>\n",
       "      <td>-0.127500</td>\n",
       "    </tr>\n",
       "  </tbody>\n",
       "</table>\n",
       "</div>"
      ],
      "text/plain": [
       "               origin_lat  origin_lng  destination_lat  destination_lng\n",
       "Berlin-London   52.516667   13.388889        51.507222        -0.127500\n",
       "Berlin-Moscow   52.516667   13.388889        55.750000        37.616667\n",
       "Moscow-London   55.750000   37.616667        51.507222        -0.127500"
      ]
     },
     "execution_count": 28,
     "metadata": {},
     "output_type": "execute_result"
    }
   ],
   "source": [
    "#same test for pandas dataframe\n",
    "import pandas as pd\n",
    "labels = [\n",
    "        'Berlin-London',\n",
    "        'Berlin-Moscow',\n",
    "        'Moscow-London',\n",
    "     ]\n",
    "df_coords = pd.DataFrame(coords, index=labels,\n",
    "                             columns=['origin_lat', 'origin_lng',\n",
    "                                      'destination_lat', 'destination_lng'])\n",
    "df_coords"
   ]
  },
  {
   "cell_type": "code",
   "execution_count": 39,
   "metadata": {},
   "outputs": [
    {
     "name": "stdout",
     "output_type": "stream",
     "text": [
      "CPU times: user 4 ms, sys: 0 ns, total: 4 ms\n",
      "Wall time: 3.06 ms\n"
     ]
    },
    {
     "data": {
      "text/plain": [
       "Berlin-London     930.453557\n",
       "Berlin-Moscow    1609.909361\n",
       "Moscow-London    2500.543167\n",
       "dtype: float64"
      ]
     },
     "execution_count": 39,
     "metadata": {},
     "output_type": "execute_result"
    }
   ],
   "source": [
    "%time df_coords.apply(haversine,axis=1) # seems like this is also vecotorised"
   ]
  },
  {
   "cell_type": "code",
   "execution_count": 41,
   "metadata": {},
   "outputs": [
    {
     "name": "stdout",
     "output_type": "stream",
     "text": [
      "CPU times: user 4 ms, sys: 0 ns, total: 4 ms\n",
      "Wall time: 3.72 ms\n"
     ]
    },
    {
     "data": {
      "text/plain": [
       "Berlin-London     930.453557\n",
       "Berlin-Moscow    1609.909361\n",
       "Moscow-London    2500.543167\n",
       "dtype: float64"
      ]
     },
     "execution_count": 41,
     "metadata": {},
     "output_type": "execute_result"
    }
   ],
   "source": [
    "%time vec_haversine(df_coords.origin_lat, df_coords.origin_lng, df_coords.destination_lat, df_coords.destination_lng)"
   ]
  }
 ],
 "metadata": {
  "kernelspec": {
   "display_name": "Python 3",
   "language": "python",
   "name": "python3"
  },
  "language_info": {
   "codemirror_mode": {
    "name": "ipython",
    "version": 3
   },
   "file_extension": ".py",
   "mimetype": "text/x-python",
   "name": "python",
   "nbconvert_exporter": "python",
   "pygments_lexer": "ipython3",
   "version": "3.6.6"
  }
 },
 "nbformat": 4,
 "nbformat_minor": 2
}
