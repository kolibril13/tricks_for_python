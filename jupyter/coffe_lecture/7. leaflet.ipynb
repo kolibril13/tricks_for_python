{
 "cells": [
  {
   "cell_type": "code",
   "execution_count": 1,
   "metadata": {},
   "outputs": [
    {
     "name": "stderr",
     "output_type": "stream",
     "text": [
      "/home/jan-hendrik/anaconda3/lib/python3.7/site-packages/dask/config.py:168: YAMLLoadWarning: calling yaml.load() without Loader=... is deprecated, as the default Loader is unsafe. Please read https://msg.pyyaml.org/load for full details.\n",
      "  data = yaml.load(f.read()) or {}\n",
      "/home/jan-hendrik/anaconda3/lib/python3.7/site-packages/distributed/config.py:20: YAMLLoadWarning: calling yaml.load() without Loader=... is deprecated, as the default Loader is unsafe. Please read https://msg.pyyaml.org/load for full details.\n",
      "  defaults = yaml.load(f)\n"
     ]
    },
    {
     "data": {
      "application/vnd.jupyter.widget-view+json": {
       "model_id": "8cdc027f7fb546b89d78d6e24b73cdbc",
       "version_major": 2,
       "version_minor": 0
      },
      "text/plain": [
       "Map(basemap={'url': 'https://{s}.tile.openstreetmap.org/{z}/{x}/{y}.png', 'max_zoom': 19, 'attribution': 'Map …"
      ]
     },
     "metadata": {},
     "output_type": "display_data"
    }
   ],
   "source": [
    "from ipyleaflet import Map, basemaps, basemap_to_tiles\n",
    "center = ( 51.545483, 9.905548 )\n",
    "\n",
    "m = Map(\n",
    "    layers=(basemap_to_tiles(basemaps.OpenStreetMap.Mapnik), ),\n",
    "    center=center,\n",
    "    zoom=5\n",
    ")\n",
    "\n",
    "m"
   ]
  },
  {
   "cell_type": "code",
   "execution_count": 2,
   "metadata": {},
   "outputs": [
    {
     "data": {
      "application/vnd.jupyter.widget-view+json": {
       "model_id": "910af53e4322434b8671d338da5bf314",
       "version_major": 2,
       "version_minor": 0
      },
      "text/plain": [
       "Map(basemap={'url': 'https://{s}.tile.openstreetmap.org/{z}/{x}/{y}.png', 'max_zoom': 19, 'attribution': 'Map …"
      ]
     },
     "metadata": {},
     "output_type": "display_data"
    }
   ],
   "source": [
    "m = Map(\n",
    "    layers=(basemap_to_tiles(basemaps.NASAGIBS.ViirsEarthAtNight2012), ),\n",
    "    center=center,\n",
    "    zoom=5\n",
    ")\n",
    "\n",
    "m"
   ]
  },
  {
   "cell_type": "code",
   "execution_count": 3,
   "metadata": {
    "scrolled": true
   },
   "outputs": [
    {
     "data": {
      "application/vnd.jupyter.widget-view+json": {
       "model_id": "787d69d9728a4244a490ff52dad9f193",
       "version_major": 2,
       "version_minor": 0
      },
      "text/plain": [
       "Map(basemap={'url': 'https://{s}.tile.openstreetmap.org/{z}/{x}/{y}.png', 'max_zoom': 19, 'attribution': 'Map …"
      ]
     },
     "metadata": {},
     "output_type": "display_data"
    }
   ],
   "source": [
    "from ipyleaflet import Map, basemaps, basemap_to_tiles, SplitMapControl\n",
    "\n",
    "center = ( 51.545483, 9.905548 )\n",
    "\n",
    "m = Map(\n",
    "    layers=(basemap_to_tiles(basemaps.NASAGIBS.ModisTerraTrueColorCR, \"2019-06-01\"), ),\n",
    "    center=center,\n",
    "    zoom=6\n",
    ")\n",
    "\n",
    "left_layer = basemap_to_tiles( basemaps.NASAGIBS.ModisTerraTrueColorCR, \"2019-06-09\")\n",
    "right_layer = basemap_to_tiles(basemaps.NASAGIBS.ModisTerraTrueColorCR, \"2019-06-10\")\n",
    "\n",
    "control = SplitMapControl(left_layer=left_layer, right_layer=right_layer)\n",
    "m.add_control(control)\n",
    "\n",
    "m"
   ]
  },
  {
   "cell_type": "code",
   "execution_count": 4,
   "metadata": {},
   "outputs": [
    {
     "data": {
      "application/vnd.jupyter.widget-view+json": {
       "model_id": "4013e0a955f844498e745dd00733088f",
       "version_major": 2,
       "version_minor": 0
      },
      "text/plain": [
       "Map(basemap={'url': 'http://c.basemaps.cartocdn.com/dark_all/{z}/{x}/{y}.png', 'max_zoom': 20, 'attribution': …"
      ]
     },
     "metadata": {},
     "output_type": "display_data"
    }
   ],
   "source": [
    "from ipyleaflet import Map, Velocity, TileLayer, basemaps\n",
    "import xarray as xr\n",
    "zoom = 6\n",
    "center = ( 55.545483, 9.905548 )\n",
    "\n",
    "m = Map(center=center, zoom=zoom, interpolation='nearest', basemap=basemaps.CartoDB.DarkMatter)\n",
    "m\n",
    "import os\n",
    "\n",
    "if not os.path.exists('wind-global.nc'):\n",
    "    url = 'https://github.com/benbovy/xvelmap/raw/master/notebooks/wind-global.nc'\n",
    "    import requests\n",
    "    r = requests.get(url)\n",
    "    wind_data = r.content\n",
    "    with open('wind-global.nc', 'wb') as f:\n",
    "        f.write(wind_data)\n",
    "ds = xr.open_dataset('wind-global.nc')\n",
    "display_options = {\n",
    "    'velocityType': 'Global Wind',\n",
    "    'displayPosition': 'bottomleft',\n",
    "    'displayEmptyString': 'No wind data'\n",
    "}\n",
    "wind = Velocity(\n",
    "    data=ds, \n",
    "    zonal_speed='u_wind', meridional_speed='v_wind', \n",
    "    latitude_dimension='lat', longitude_dimension='lon', \n",
    "    velocity_scale=0.01, max_velocity=20, \n",
    "    display_options=display_options\n",
    ")\n",
    "m.add_layer(wind)\n",
    "m"
   ]
  }
 ],
 "metadata": {
  "kernelspec": {
   "display_name": "Python 3",
   "language": "python",
   "name": "python3"
  },
  "language_info": {
   "codemirror_mode": {
    "name": "ipython",
    "version": 3
   },
   "file_extension": ".py",
   "mimetype": "text/x-python",
   "name": "python",
   "nbconvert_exporter": "python",
   "pygments_lexer": "ipython3",
   "version": "3.7.3"
  }
 },
 "nbformat": 4,
 "nbformat_minor": 2
}
