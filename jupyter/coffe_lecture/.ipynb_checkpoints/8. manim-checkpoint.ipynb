{
 "cells": [
  {
   "cell_type": "code",
   "execution_count": 2,
   "metadata": {},
   "outputs": [],
   "source": [
    "from ipywidgets import Label, HTML, Text, Video\n",
    "from IPython.display import display\n",
    "from ipyevents import Event \n",
    "fileA= '01.mp4'\n",
    "fileB= '02.mp4'\n",
    "fileC= '03.mp4'\n",
    "fileD= '04.mp4'\n",
    "fileE= '05.mp4'\n",
    "fileF= '06.mp4'\n",
    "\n",
    "video_list= [fileA, fileB, fileC, fileD, fileE, fileF]\n",
    "h = Text (\"Box1\")\n",
    "pos_info = Text(\"Box2\")\n",
    "debug = Text(\"Counter\")"
   ]
  },
  {
   "cell_type": "code",
   "execution_count": 14,
   "metadata": {},
   "outputs": [
    {
     "name": "stdout",
     "output_type": "stream",
     "text": [
      "/home/jan-hendrik/python/projects/tricks_for_python/jupyter/coffe_lecture/03.mp4\n",
      "/home/jan-hendrik/python/projects/tricks_for_python/jupyter/coffe_lecture/02.mp4\n",
      "/home/jan-hendrik/python/projects/tricks_for_python/jupyter/coffe_lecture/05.mp4\n",
      "/home/jan-hendrik/python/projects/tricks_for_python/jupyter/coffe_lecture/01.mp4\n",
      "/home/jan-hendrik/python/projects/tricks_for_python/jupyter/coffe_lecture/04.mp4\n"
     ]
    }
   ],
   "source": [
    "import os\n",
    "import os\n",
    " \n",
    "path = os.getcwd()\n",
    "\n",
    "files = []\n",
    "# r=root, d=directories, f = files\n",
    "for r, d, f in os.walk(path):\n",
    "    for file in f:\n",
    "        if '.mp4' in file:\n",
    "            files.append(os.path.join(r, file))\n",
    "for f in files:\n",
    "    print(f)\n"
   ]
  },
  {
   "cell_type": "code",
   "execution_count": 3,
   "metadata": {},
   "outputs": [
    {
     "data": {
      "text/plain": [
       "['01.mp4', '02.mp4', '03.mp4', '04.mp4', '05.mp4', '06.mp4']"
      ]
     },
     "execution_count": 3,
     "metadata": {},
     "output_type": "execute_result"
    }
   ],
   "source": [
    "video_list"
   ]
  },
  {
   "cell_type": "code",
   "execution_count": 2,
   "metadata": {},
   "outputs": [],
   "source": [
    "def video_loader(filename):\n",
    "    with open(filename, 'rb') as f:\n",
    "        video.value = f.read()\n",
    "counter = 0\n",
    "def video_change(x):\n",
    "    global counter\n",
    "    if x < 0.25:\n",
    "        h.value= \"click position:\" + str(x) + \"  left\"\n",
    "        if counter > 0:\n",
    "            counter -= 1\n",
    "        video_loader(video_list[counter])\n",
    "\n",
    "\n",
    "    elif x > 0.75:\n",
    "        h.value= \"click position:\" + str(x) + \"  right\"\n",
    "        if counter < len(video_list)-1:\n",
    "            counter += 1\n",
    "        video_loader(video_list[counter])\n",
    "\n",
    "\n",
    "    else:\n",
    "        h.value= \"click position:\" + str(x) + \"  center\"\n",
    "\n",
    "def handle_events(event):\n",
    "    x_pos = event[\"offsetX\"]/event[\"boundingRectWidth\"]\n",
    "    y_pos = event[\"offsetY\"]/event[\"boundingRectHeight\"]\n",
    "    pos_info.value = f\"Coordinates(in %): {x_pos:.3}\" + \" \" + f\"{y_pos:.3}\" \n",
    "    video_change(x_pos)\n",
    "    debug.value= f\"Counter = {counter}\"\n"
   ]
  },
  {
   "cell_type": "code",
   "execution_count": 3,
   "metadata": {},
   "outputs": [
    {
     "data": {
      "application/vnd.jupyter.widget-view+json": {
       "model_id": "ef834fd937624c0491b1c176ed3127d3",
       "version_major": 2,
       "version_minor": 0
      },
      "text/plain": [
       "Video(value=b'\\x00\\x00\\x00 ftypisom\\x00\\x00\\x02\\x00isomiso2avc1mp41\\x00\\x00\\x00\\x08free\\x00\\x01\\xc8vmdat\\x00\\x…"
      ]
     },
     "metadata": {},
     "output_type": "display_data"
    },
    {
     "data": {
      "application/vnd.jupyter.widget-view+json": {
       "model_id": "8f9deb7fb227462a91e694ab8ad278b9",
       "version_major": 2,
       "version_minor": 0
      },
      "text/plain": [
       "Text(value='Box1')"
      ]
     },
     "metadata": {},
     "output_type": "display_data"
    },
    {
     "data": {
      "application/vnd.jupyter.widget-view+json": {
       "model_id": "7455c2eedc1c4a3ca7fa94c04edc238e",
       "version_major": 2,
       "version_minor": 0
      },
      "text/plain": [
       "Text(value='Box2')"
      ]
     },
     "metadata": {},
     "output_type": "display_data"
    },
    {
     "data": {
      "application/vnd.jupyter.widget-view+json": {
       "model_id": "07646452888a48cd8aad62ae0446aa64",
       "version_major": 2,
       "version_minor": 0
      },
      "text/plain": [
       "Text(value='Counter')"
      ]
     },
     "metadata": {},
     "output_type": "display_data"
    }
   ],
   "source": [
    "video = Video.from_file(video_list[0])\n",
    "video.controls  = False\n",
    "video.loop = False\n",
    "video.width= 500\n",
    "d= Event(source= video, watched_events = ['click'])    \n",
    "d.on_dom_event(handle_events)\n",
    "display(video, h, pos_info, debug)"
   ]
  },
  {
   "cell_type": "code",
   "execution_count": null,
   "metadata": {},
   "outputs": [],
   "source": []
  }
 ],
 "metadata": {
  "kernelspec": {
   "display_name": "Python 3",
   "language": "python",
   "name": "python3"
  },
  "language_info": {
   "codemirror_mode": {
    "name": "ipython",
    "version": 3
   },
   "file_extension": ".py",
   "mimetype": "text/x-python",
   "name": "python",
   "nbconvert_exporter": "python",
   "pygments_lexer": "ipython3",
   "version": "3.7.3"
  }
 },
 "nbformat": 4,
 "nbformat_minor": 2
}
