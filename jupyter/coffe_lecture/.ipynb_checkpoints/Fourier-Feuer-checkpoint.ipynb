{
 "cells": [
  {
   "cell_type": "markdown",
   "metadata": {},
   "source": [
    "In diesem Notebook soll es darum gehen, eine Welle um einen Faktor $\\theta$ nach rechts zu verschieben. \n",
    "Gucken wir uns zunächst eine Welle an:\n",
    "\n",
    "$$f(t)= sin(\\omega t )$$\n",
    "\n",
    "Klar, das geht einfach über einen Parameter $\\theta$, und zwar:\n",
    "\n",
    "$$f(t)= sin(\\omega t - \\theta)$$\n",
    "*Script:*"
   ]
  },
  {
   "cell_type": "code",
   "execution_count": 40,
   "metadata": {},
   "outputs": [
    {
     "data": {
      "application/vnd.jupyter.widget-view+json": {
       "model_id": "fafc7bffb8db4535b28572dadf5fe1bf",
       "version_major": 2,
       "version_minor": 0
      },
      "text/plain": [
       "interactive(children=(FloatSlider(value=0.0, continuous_update=False, description='theta', max=6.2831853071795…"
      ]
     },
     "metadata": {},
     "output_type": "display_data"
    }
   ],
   "source": [
    "from ipywidgets import *\n",
    "import numpy as np\n",
    "import matplotlib.pyplot as plt\n",
    "from matplotlib.pyplot import plot, legend\n",
    "t = np.linspace(0, 2*np.pi,1000) \n",
    "w=1\n",
    "v0= np.sin(w*t)\n",
    "def pltsin(theta):\n",
    "    v1= np.sin(w*t-theta)\n",
    "    plot(t, v0 , label='Original' )\n",
    "    plot(t, v1   ,label=rf'Um die Phase $\\theta$ = {theta} verschoben')\n",
    "    legend(loc='upper right')\n",
    "interact(pltsin,theta=FloatSlider(min=0, max=2*np.pi, step=0.1,continuous_update=False));"
   ]
  },
  {
   "cell_type": "code",
   "execution_count": null,
   "metadata": {},
   "outputs": [],
   "source": [
    "from ipywidget import *\n",
    "import numpy as np\n",
    "import matplotlib.pyplot as plt\n",
    "t = np.linspace(0, 2*np.pi,1000) \n",
    "def pltsin(x):\n",
    "    v1= np.sin(x*t)\n",
    "    plot(t, v1   ,label=rf'Um die Frequenz $\\omega$ = {x} verschoben')\n",
    "    legend(loc='upper right')\n",
    "interact(pltsin,theta=FloatSlider(min=0, max=2*np.pi, step=0.1,continuous_update=False));"
   ]
  },
  {
   "cell_type": "markdown",
   "metadata": {},
   "source": [
    "Das ist noch keine Kunst.\n",
    "Aber geht das vlt. auch anders.\n",
    "Erinneren wir uns an das Faltungtheorm:\n",
    "\n",
    "$$ \\mathcal{F}\\{f * g\\} = \\cdot \\mathcal{F}\\{f\\}\\cdot \\mathcal{F}\\{g\\} $$\n",
    "Wir möchten ja unsere Funktion f(t) um die Deltafunktion \n",
    "$$ \n",
    "g(x)=\\delta(x-\\theta)\n",
    "$$\n",
    "falten, um diese zu verschieben.\n",
    "\n",
    "Das kann hier ausprobiert werden:\n",
    "\n",
    "*Script*:"
   ]
  },
  {
   "cell_type": "code",
   "execution_count": 41,
   "metadata": {},
   "outputs": [
    {
     "data": {
      "application/vnd.jupyter.widget-view+json": {
       "model_id": "07a5897dd1c841a281ecefe8203d4e88",
       "version_major": 2,
       "version_minor": 0
      },
      "text/plain": [
       "interactive(children=(FloatSlider(value=0.0, continuous_update=False, description='theta', max=6.2831853071795…"
      ]
     },
     "metadata": {},
     "output_type": "display_data"
    }
   ],
   "source": [
    "def shift(n, N): \n",
    "    s = np.zeros(N) \n",
    "    s[n] = 1.0 \n",
    "    return np.fft.fft(s)  \n",
    "def fouiershift(theta):\n",
    "    t = np.linspace(0, 2*np.pi,1000) \n",
    "    v0 = np.sin(t)                                                                                               \n",
    "    S = shift(int((theta)*1000/(2*np.pi)), 1000)  # shift by pi/4\n",
    "    VS = np.fft.fft(v0)*S \n",
    "    vs = np.fft.ifft(VS)\n",
    "    plot(t, v0 , label='original' )\n",
    "    plot(t,vs.real,label= rf'shifted in frequency domain $\\theta$ = {theta} verschoben')\n",
    "    legend(loc='upper right')\n",
    "interact(fouiershift,theta=FloatSlider(min=0, max=2*np.pi, step=0.1,continuous_update=False));"
   ]
  },
  {
   "cell_type": "markdown",
   "metadata": {},
   "source": [
    "Aber Achtung:\n",
    "möglicherweise verwechselt man die phase $\\theta$ mit der phase $\\phi$, die ja im komplexen exponenten in der Foiriereben vorkommt. \n",
    "\n",
    "Gucken wir uns mal an, was passiert wenn man  $\\phi$ verändert:\n",
    "\n",
    "*Script*:"
   ]
  },
  {
   "cell_type": "code",
   "execution_count": 38,
   "metadata": {},
   "outputs": [
    {
     "data": {
      "application/vnd.jupyter.widget-view+json": {
       "model_id": "683607d4737046e0a555854d866f9043",
       "version_major": 2,
       "version_minor": 0
      },
      "text/plain": [
       "interactive(children=(FloatSlider(value=0.0, continuous_update=False, description='phi', max=2.0), Output()), …"
      ]
     },
     "metadata": {},
     "output_type": "display_data"
    }
   ],
   "source": [
    "from ipywidgets import *\n",
    "import numpy as np\n",
    "from matplotlib.pyplot import plot, legend\n",
    "t = np.linspace(0, 2*np.pi,1000) \n",
    "def pltsin(phi):\n",
    "    v0 = np.sin(t)                                                                                               \n",
    "    VS = np.fft.fft(v0)*np.exp(1j*np.pi*phi)\n",
    "    vs = np.fft.ifft(VS)\n",
    "    plot(t, v0 , label='original' )\n",
    "    plot(t,vs.real,label= rf'shifted in frequency domain $\\phi$ = {phi} verschoben')\n",
    "    legend(loc='upper right')\n",
    "interact(pltsin,phi=FloatSlider(min=0, max=2, step=0.1,continuous_update=False));"
   ]
  },
  {
   "cell_type": "markdown",
   "metadata": {},
   "source": [
    "Das ganze klappt natürlich auch im Zweidimensionalen:"
   ]
  },
  {
   "cell_type": "code",
   "execution_count": 76,
   "metadata": {},
   "outputs": [
    {
     "data": {
      "application/vnd.jupyter.widget-view+json": {
       "model_id": "ee1d7b2ba63d4616864889a9572e62e3",
       "version_major": 2,
       "version_minor": 0
      },
      "text/plain": [
       "interactive(children=(FloatSlider(value=1.0, continuous_update=False, description='phi', max=7.283185307179586…"
      ]
     },
     "metadata": {},
     "output_type": "display_data"
    }
   ],
   "source": [
    "pixels=51\n",
    "\n",
    "def pltsin(phi):\n",
    "    k_space_ar= np.zeros( (pixels,pixels),dtype=np.complex )\n",
    "\n",
    "   # k_freq_ar[23,25]=255\n",
    "   # k_ph1_ar[23,25]=1j*1 #how to make it white?\n",
    "   # k_space_ar= k_freq_ar+k_ph1_ar\n",
    "    k_space_ar[23,25]=255*np.exp(1j)\n",
    "    real_img = np.fft.ifft2(np.fft.ifftshift(k_space_ar)).real\n",
    "\n",
    "    plt.subplot(131)\n",
    "    plt.axis('off')\n",
    "    plt.imshow(k_space_ar.real,interpolation='none', cmap='gray');\n",
    "    plt.subplot(132)\n",
    "    plt.axis('off')\n",
    "    plt.imshow(real_img.real,interpolation='none', cmap='gray');\n",
    "    \n",
    "    plt.subplot(133)\n",
    "    k_ar_2 = np.zeros( (pixels,pixels),dtype=np.complex )\n",
    "\n",
    "    k_ar_2[23,25]=255*np.exp(1j*phi)\n",
    "    real_img2 = np.fft.ifft2(np.fft.ifftshift(k_ar_2))\n",
    "    plt.axis('off')\n",
    "    plt.imshow(real_img2.real,interpolation='none', cmap='gray');\n",
    "interact(pltsin,phi=FloatSlider(min=0, max=2*np.pi+1, value=1,step=0.1,continuous_update=False));"
   ]
  },
  {
   "cell_type": "code",
   "execution_count": 68,
   "metadata": {},
   "outputs": [
    {
     "data": {
      "application/vnd.jupyter.widget-view+json": {
       "model_id": "c1825a8b77b84c0bb63b7b5f01a61782",
       "version_major": 2,
       "version_minor": 0
      },
      "text/plain": [
       "interactive(children=(FloatSlider(value=0.0, continuous_update=False, description='phi', max=6.283185307179586…"
      ]
     },
     "metadata": {},
     "output_type": "display_data"
    }
   ],
   "source": [
    "pixels=31\n",
    "\n",
    "def pltsin(phi):\n",
    "    k_freq_ar= np.zeros( (pixels,pixels),dtype=np.complex )\n",
    "    k_ph1_ar= np.zeros( (pixels,pixels),dtype=np.complex )\n",
    "\n",
    "    k_freq_ar[15,25]=255\n",
    "    k_ph1_ar[15,25]=1j*1 #how to make it white?\n",
    "    k_space_ar= k_freq_ar+k_ph1_ar\n",
    "    real_img = np.fft.ifft2(np.fft.ifftshift(k_space_ar)).real\n",
    "\n",
    "    plt.subplot(131)\n",
    "    plt.axis('off')\n",
    "    plt.imshow(k_space_ar.real,interpolation='none', cmap='gray');\n",
    "    plt.subplot(132)\n",
    "    plt.axis('off')\n",
    "    plt.imshow(real_img.real,interpolation='none', cmap='gray');\n",
    "    \n",
    "    plt.subplot(133)\n",
    "    k_ar_2 = np.zeros( (pixels,pixels),dtype=np.complex )\n",
    "\n",
    "    k_ar_2[23,25]=255*np.exp(1j*phi)\n",
    "    real_img2 = np.fft.ifft2(np.fft.ifftshift(k_ar_2))\n",
    "    plt.axis('off')\n",
    "    plt.imshow(real_img2.real,interpolation='none', cmap='gray');\n",
    "interact(pltsin,phi=FloatSlider(min=0, max=2*np.pi, step=0.1,continuous_update=False));"
   ]
  }
 ],
 "metadata": {
  "kernelspec": {
   "display_name": "Python 3",
   "language": "python",
   "name": "python3"
  },
  "language_info": {
   "codemirror_mode": {
    "name": "ipython",
    "version": 3
   },
   "file_extension": ".py",
   "mimetype": "text/x-python",
   "name": "python",
   "nbconvert_exporter": "python",
   "pygments_lexer": "ipython3",
   "version": "3.7.3"
  }
 },
 "nbformat": 4,
 "nbformat_minor": 2
}
