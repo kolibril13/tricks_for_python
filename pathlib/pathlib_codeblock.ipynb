{
 "cells": [
  {
   "cell_type": "code",
   "execution_count": 20,
   "metadata": {},
   "outputs": [
    {
     "name": "stdout",
     "output_type": "stream",
     "text": [
      "/Users/jan-hendrik/projects/tricks_for_python/pathlib/foo.csv\n",
      "/Users/jan-hendrik/projects/tricks_for_python/pathlib/Hello.csv\n"
     ]
    }
   ],
   "source": [
    "from pathlib import Path\n",
    "\n",
    "base_directory = Path.cwd()\n",
    "\n",
    "for subp in base_directory.iterdir():  # use base_directory.rglob(\"*\")\n",
    "    cond = True\n",
    "    # Advantage: Conditions can quickly become commented and uncommented again\n",
    "    #cond &= \"foo\" in subp.name \n",
    "    cond &= any([w in subp.name for w in ['Hello','foo']])\n",
    "    cond &= \"bar\" not in subp.name \n",
    "    cond &= (\".csv\" == subp.suffix)\n",
    "    if cond is True:\n",
    "        print(subp)"
   ]
  }
 ],
 "metadata": {
  "interpreter": {
   "hash": "deefdb209dc179ecbc880626fece8554a87baca41cae0d7b198759a4c27f783b"
  },
  "kernelspec": {
   "display_name": "Python 3.9.5 64-bit ('manimenv2': venv)",
   "language": "python",
   "name": "python3"
  },
  "language_info": {
   "codemirror_mode": {
    "name": "ipython",
    "version": 3
   },
   "file_extension": ".py",
   "mimetype": "text/x-python",
   "name": "python",
   "nbconvert_exporter": "python",
   "pygments_lexer": "ipython3",
   "version": "3.9.5"
  },
  "orig_nbformat": 4
 },
 "nbformat": 4,
 "nbformat_minor": 2
}
