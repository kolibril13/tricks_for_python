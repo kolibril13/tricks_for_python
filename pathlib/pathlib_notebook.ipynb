{
 "cells": [
  {
   "cell_type": "code",
   "execution_count": 5,
   "metadata": {},
   "outputs": [],
   "source": [
    "# Write\n",
    "from pathlib import Path\n",
    "Path('files/settings.md').write_text('# text goes here');"
   ]
  },
  {
   "cell_type": "code",
   "execution_count": 6,
   "metadata": {},
   "outputs": [
    {
     "name": "stdout",
     "output_type": "stream",
     "text": [
      "file 1\n",
      "23,  33\n"
     ]
    }
   ],
   "source": [
    "# Read\n",
    "from pathlib import Path\n",
    "path = Path.cwd() / \"files\" /\"values_basic.csv\"\n",
    "text  = path.read_text()\n",
    "print(text)"
   ]
  },
  {
   "cell_type": "code",
   "execution_count": 8,
   "metadata": {},
   "outputs": [
    {
     "name": "stdout",
     "output_type": "stream",
     "text": [
      "file 1\n",
      "23,  33\n",
      "#hello , world\n",
      "1 ,  2\n"
     ]
    }
   ],
   "source": [
    "# Scan and read\n",
    "from pathlib import Path\n",
    "\n",
    "file_contents = [\n",
    "    path.read_text()\n",
    "    for path in Path.cwd().rglob('*.csv')\n",
    "]\n",
    "print(*file_contents, sep=\"\\n\")"
   ]
  },
  {
   "cell_type": "code",
   "execution_count": 10,
   "metadata": {},
   "outputs": [],
   "source": [
    "# making folders\n",
    "\n",
    "from pathlib import Path\n",
    "path = Path.cwd() / 'new' /\"hi\"/\"there\"\n",
    "path.mkdir(parents=True, exist_ok=True)\n",
    "\n",
    "#If parents is true, any missing parents of this path are created as needed\n",
    "#If exist_ok is false (the default), FileExistsError is raised if the target directory already exists."
   ]
  },
  {
   "cell_type": "code",
   "execution_count": 11,
   "metadata": {},
   "outputs": [
    {
     "data": {
      "text/plain": [
       "[PosixPath('/Users/jan-hendrik/projects/tricks_for_python/pathlib/files/values_basic.csv'),\n",
       " PosixPath('/Users/jan-hendrik/projects/tricks_for_python/pathlib/files/dog_cute.jpg'),\n",
       " PosixPath('/Users/jan-hendrik/projects/tricks_for_python/pathlib/files/settings.md'),\n",
       " PosixPath('/Users/jan-hendrik/projects/tricks_for_python/pathlib/files/dog_looking.jpg'),\n",
       " PosixPath('/Users/jan-hendrik/projects/tricks_for_python/pathlib/files/values_important.csv'),\n",
       " PosixPath('/Users/jan-hendrik/projects/tricks_for_python/pathlib/files/dog_excited.jpg'),\n",
       " PosixPath('/Users/jan-hendrik/projects/tricks_for_python/pathlib/files/cat_grumpy.jpg'),\n",
       " PosixPath('/Users/jan-hendrik/projects/tricks_for_python/pathlib/files/dog_sunset.jpg')]"
      ]
     },
     "execution_count": 11,
     "metadata": {},
     "output_type": "execute_result"
    }
   ],
   "source": [
    "list((Path.cwd() /\"files\").iterdir())"
   ]
  },
  {
   "cell_type": "code",
   "execution_count": 12,
   "metadata": {},
   "outputs": [
    {
     "data": {
      "text/plain": [
       "[PosixPath('/Users/jan-hendrik/projects/tricks_for_python/pathlib/files/values_basic.csv'),\n",
       " PosixPath('/Users/jan-hendrik/projects/tricks_for_python/pathlib/files/values_important.csv')]"
      ]
     },
     "execution_count": 12,
     "metadata": {},
     "output_type": "execute_result"
    }
   ],
   "source": [
    "list(Path.cwd().rglob('*.csv'))"
   ]
  },
  {
   "cell_type": "code",
   "execution_count": 13,
   "metadata": {},
   "outputs": [
    {
     "name": "stdout",
     "output_type": "stream",
     "text": [
      "/Users/jan-hendrik/projects/tricks_for_python/pathlib/output/output.xlsx\n",
      "/Users/jan-hendrik/projects/tricks_for_python/pathlib/output/output.xlsx\n",
      "/Users/jan-hendrik/projects/tricks_for_python/pathlib/output/output.xlsx\n"
     ]
    }
   ],
   "source": [
    "# concat paths\n",
    "outpath = Path.cwd() / 'output' / 'output.xlsx'\n",
    "outpath1 = Path.cwd() / 'output/output.xlsx'\n",
    "\n",
    "subfolder = Path('output/output.xlsx')\n",
    "outpath2 = Path.cwd() / subfolder\n",
    "\n",
    "print(outpath)\n",
    "print(outpath1)\n",
    "print(outpath2)"
   ]
  },
  {
   "cell_type": "code",
   "execution_count": 14,
   "metadata": {},
   "outputs": [
    {
     "name": "stdout",
     "output_type": "stream",
     "text": [
      "dog_cute.jpg\n",
      "dog_cute\n",
      ".jpg\n"
     ]
    }
   ],
   "source": [
    "from pathlib import Path\n",
    "path = Path.cwd() / \"files\" / \"dog_cute.jpg\"\n",
    "print(path.name)\n",
    "print(path.stem)\n",
    "print(path.suffix)"
   ]
  },
  {
   "cell_type": "code",
   "execution_count": 15,
   "metadata": {},
   "outputs": [
    {
     "name": "stdout",
     "output_type": "stream",
     "text": [
      "Done!\n"
     ]
    }
   ],
   "source": [
    "# scan and replace\n",
    "\n",
    "from pathlib import Path\n",
    "\n",
    "example_dict = Path.cwd()/ \"example\"\n",
    "all_py_files = example_dict.rglob('*.py')\n",
    "\n",
    "text_to_search = \"from manimlib.imports import *\"\n",
    "replacement_text = \"from manim import *\"\n",
    "\n",
    "for py_file in all_py_files:\n",
    "    text = py_file.read_text()\n",
    "    text = text.replace(text_to_search, replacement_text)\n",
    "    py_file.write_text(text)\n",
    "\n",
    "print(\"Done!\")"
   ]
  },
  {
   "cell_type": "code",
   "execution_count": null,
   "metadata": {},
   "outputs": [],
   "source": []
  }
 ],
 "metadata": {
  "interpreter": {
   "hash": "deefdb209dc179ecbc880626fece8554a87baca41cae0d7b198759a4c27f783b"
  },
  "kernelspec": {
   "display_name": "Python 3.9.5 64-bit ('manimenv2': venv)",
   "language": "python",
   "name": "python3"
  },
  "language_info": {
   "codemirror_mode": {
    "name": "ipython",
    "version": 3
   },
   "file_extension": ".py",
   "mimetype": "text/x-python",
   "name": "python",
   "nbconvert_exporter": "python",
   "pygments_lexer": "ipython3",
   "version": "3.9.5"
  },
  "orig_nbformat": 4
 },
 "nbformat": 4,
 "nbformat_minor": 2
}
