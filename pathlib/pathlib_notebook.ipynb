{
 "cells": [
  {
   "cell_type": "code",
   "execution_count": 3,
   "metadata": {},
   "outputs": [
    {
     "name": "stdout",
     "output_type": "stream",
     "text": [
      "file 1\n",
      "23,  33\n"
     ]
    }
   ],
   "source": [
    "from pathlib import Path\n",
    "path = Path.cwd() / \"files\" /\"values_basic.csv\"\n",
    "text  = path.read_text()\n",
    "print(text)"
   ]
  },
  {
   "cell_type": "code",
   "execution_count": null,
   "metadata": {},
   "outputs": [],
   "source": []
  }
 ],
 "metadata": {
  "interpreter": {
   "hash": "deefdb209dc179ecbc880626fece8554a87baca41cae0d7b198759a4c27f783b"
  },
  "kernelspec": {
   "display_name": "Python 3.9.5 64-bit ('manimenv2': venv)",
   "language": "python",
   "name": "python3"
  },
  "language_info": {
   "codemirror_mode": {
    "name": "ipython",
    "version": 3
   },
   "file_extension": ".py",
   "mimetype": "text/x-python",
   "name": "python",
   "nbconvert_exporter": "python",
   "pygments_lexer": "ipython3",
   "version": "3.9.5"
  },
  "orig_nbformat": 4
 },
 "nbformat": 4,
 "nbformat_minor": 2
}
